{
 "cells": [
  {
   "cell_type": "code",
   "execution_count": 1,
   "metadata": {},
   "outputs": [
    {
     "name": "stderr",
     "output_type": "stream",
     "text": [
      "Attaching SeuratObject\n",
      "\n"
     ]
    }
   ],
   "source": [
    "library(Seurat)"
   ]
  },
  {
   "cell_type": "code",
   "execution_count": 2,
   "metadata": {},
   "outputs": [],
   "source": [
    "as_matrix <- function(mat){\n",
    "  \n",
    "  tmp <- matrix(data=0L, nrow = mat@Dim[1], ncol = mat@Dim[2])\n",
    "  \n",
    "  row_pos <- mat@i+1\n",
    "  col_pos <- findInterval(seq(mat@x)-1,mat@p[-1])+1\n",
    "  val <- mat@x\n",
    "  \n",
    "  for (i in seq_along(val)){\n",
    "    tmp[row_pos[i],col_pos[i]] <- val[i]\n",
    "  }\n",
    "  \n",
    "  row.names(tmp) <- mat@Dimnames[[1]]\n",
    "  colnames(tmp) <- mat@Dimnames[[2]]\n",
    "  return(tmp)\n",
    "}"
   ]
  },
  {
   "cell_type": "markdown",
   "metadata": {},
   "source": [
    "# IVS"
   ]
  },
  {
   "cell_type": "code",
   "execution_count": 3,
   "metadata": {},
   "outputs": [],
   "source": [
    "subregion <- \"Interventricular septum\"\n",
    "proportion <- read.csv(\"~/HHCA_d/Code4Paper/ForWebsite/1-2/Fetal/IVS.csv\",row.names = 1)\n",
    "proportion <- proportion/sum(proportion)\n",
    "sample_prop <- rmultinom(50,size = 8000, prob = proportion)"
   ]
  },
  {
   "cell_type": "code",
   "execution_count": 4,
   "metadata": {},
   "outputs": [
    {
     "data": {
      "text/html": [
       "<table class=\"dataframe\">\n",
       "<caption>A data.frame: 1 × 9</caption>\n",
       "<thead>\n",
       "\t<tr><th></th><th scope=col>Endothelial.cell</th><th scope=col>Cardiomyocyte.cell</th><th scope=col>Myelocyte</th><th scope=col>Fibroblast</th><th scope=col>Lymphocyte</th><th scope=col>Smooth.muscle.cell</th><th scope=col>Neuron</th><th scope=col>Pericyte</th><th scope=col>Adipocyte</th></tr>\n",
       "\t<tr><th></th><th scope=col>&lt;dbl&gt;</th><th scope=col>&lt;dbl&gt;</th><th scope=col>&lt;dbl&gt;</th><th scope=col>&lt;dbl&gt;</th><th scope=col>&lt;dbl&gt;</th><th scope=col>&lt;dbl&gt;</th><th scope=col>&lt;dbl&gt;</th><th scope=col>&lt;dbl&gt;</th><th scope=col>&lt;dbl&gt;</th></tr>\n",
       "</thead>\n",
       "<tbody>\n",
       "\t<tr><th scope=row>estimated_alpha</th><td>0.1948035</td><td>0.2500563</td><td>0.1980455</td><td>0.3570947</td><td>0</td><td>0</td><td>0</td><td>0</td><td>0</td></tr>\n",
       "</tbody>\n",
       "</table>\n"
      ],
      "text/latex": [
       "A data.frame: 1 × 9\n",
       "\\begin{tabular}{r|lllllllll}\n",
       "  & Endothelial.cell & Cardiomyocyte.cell & Myelocyte & Fibroblast & Lymphocyte & Smooth.muscle.cell & Neuron & Pericyte & Adipocyte\\\\\n",
       "  & <dbl> & <dbl> & <dbl> & <dbl> & <dbl> & <dbl> & <dbl> & <dbl> & <dbl>\\\\\n",
       "\\hline\n",
       "\testimated\\_alpha & 0.1948035 & 0.2500563 & 0.1980455 & 0.3570947 & 0 & 0 & 0 & 0 & 0\\\\\n",
       "\\end{tabular}\n"
      ],
      "text/markdown": [
       "\n",
       "A data.frame: 1 × 9\n",
       "\n",
       "| <!--/--> | Endothelial.cell &lt;dbl&gt; | Cardiomyocyte.cell &lt;dbl&gt; | Myelocyte &lt;dbl&gt; | Fibroblast &lt;dbl&gt; | Lymphocyte &lt;dbl&gt; | Smooth.muscle.cell &lt;dbl&gt; | Neuron &lt;dbl&gt; | Pericyte &lt;dbl&gt; | Adipocyte &lt;dbl&gt; |\n",
       "|---|---|---|---|---|---|---|---|---|---|\n",
       "| estimated_alpha | 0.1948035 | 0.2500563 | 0.1980455 | 0.3570947 | 0 | 0 | 0 | 0 | 0 |\n",
       "\n"
      ],
      "text/plain": [
       "                Endothelial.cell Cardiomyocyte.cell Myelocyte Fibroblast\n",
       "estimated_alpha 0.1948035        0.2500563          0.1980455 0.3570947 \n",
       "                Lymphocyte Smooth.muscle.cell Neuron Pericyte Adipocyte\n",
       "estimated_alpha 0          0                  0      0        0        "
      ]
     },
     "metadata": {},
     "output_type": "display_data"
    }
   ],
   "source": [
    "proportion"
   ]
  },
  {
   "cell_type": "code",
   "execution_count": 6,
   "metadata": {},
   "outputs": [],
   "source": [
    "dataobj <- readRDS(\"/stor//public/chenyx//HHCAd//unit_organized_fetal/Interventricular septum.rds\")"
   ]
  },
  {
   "cell_type": "code",
   "execution_count": 7,
   "metadata": {},
   "outputs": [
    {
     "data": {
      "text/plain": [
       "\n",
       "Cardiomyocyte cell   Endothelial cell         Fibroblast          Mast cell \n",
       "                12                  8                 23                  1 \n",
       "         Myelocyte \n",
       "                 8 "
      ]
     },
     "metadata": {},
     "output_type": "display_data"
    }
   ],
   "source": [
    "table(dataobj$cell_type)"
   ]
  },
  {
   "cell_type": "code",
   "execution_count": 8,
   "metadata": {},
   "outputs": [],
   "source": [
    "proportion <- proportion/sum(proportion)\n",
    "sample_prop <- rmultinom(50,size = 8000, prob = proportion)"
   ]
  },
  {
   "cell_type": "code",
   "execution_count": 9,
   "metadata": {},
   "outputs": [],
   "source": [
    "Cardiomyocyte.cell <- (dataobj@assays$RNA@data[,dataobj$cell_type==\"Cardiomyocyte cell\"])\n",
    "Fibroblast <- (dataobj@assays$RNA@data[,dataobj$cell_type==\"Fibroblast\"])\n",
    "Endothelial.cell <- (dataobj@assays$RNA@data[,dataobj$cell_type==\"Endothelial cell\"])\n",
    "Myelocyte <- (dataobj@assays$RNA@data[,dataobj$cell_type==\"Myelocyte\"])\n",
    "Pericyte <- (dataobj@assays$RNA@data[,dataobj$cell_type==\"Pericyte\"])\n",
    "Smooth.muscle.cell <-(dataobj@assays$RNA@data[,dataobj$cell_type==\"Smooth muscle cell\"])\n",
    "Neuron <-(dataobj@assays$RNA@data[,dataobj$cell_type==\"Neuron\"])\n",
    "Lymphocyte <-(dataobj@assays$RNA@data[,dataobj$cell_type==\"Lymphocyte\"])\n",
    "Adipocyte <-(dataobj@assays$RNA@data[,dataobj$cell_type==\"Adipocyte\"])"
   ]
  },
  {
   "cell_type": "code",
   "execution_count": 10,
   "metadata": {},
   "outputs": [],
   "source": [
    "obj_list <- list(Cardiomyocyte.cell,Fibroblast,Endothelial.cell,Myelocyte,Pericyte,Smooth.muscle.cell,Neuron,Lymphocyte,Adipocyte)\n",
    "name_list <- c('Cardiomyocyte.cell','Fibroblast','Endothelial.cell','Myelocyte','Pericyte','Smooth.muscle.cell','Neuron','Lymphocyte','Adipocyte')"
   ]
  },
  {
   "cell_type": "code",
   "execution_count": 11,
   "metadata": {},
   "outputs": [],
   "source": [
    "expression <- as.data.frame(matrix(0,43878,50))\n",
    "row.names(expression) <- row.names(Endothelial.cell)\n",
    "for (i in 1:dim(sample_prop)[2]){\n",
    "    # generate a pseudo bulk data\n",
    "    for (j in 1: length(obj_list)){\n",
    "        # in each cell type\n",
    "        if (sample_prop[name_list[j],i]>0){\n",
    "            index <- sample(1:dim(obj_list[[j]])[2],sample_prop[name_list[j],i],replace = TRUE)\n",
    "            if (length(index)>=2){\n",
    "                v_j <- rowSums(exp(as.data.frame(obj_list[[j]][,index]))-1)\n",
    "            }else{\n",
    "                v_j <- exp(as.data.frame(obj_list[[j]][,index]))-1\n",
    "            }\n",
    "            expression[,i] <- expression[,i] + v_j\n",
    "        }\n",
    "    }\n",
    "}\n",
    "expression <- round(expression+0.5,0)"
   ]
  },
  {
   "cell_type": "code",
   "execution_count": 12,
   "metadata": {},
   "outputs": [],
   "source": [
    "write.csv(expression,paste0(\"/stor/public/chenyx//HHCAd//PseudoBulk_fetal/\",subregion,\".csv\"))"
   ]
  },
  {
   "cell_type": "markdown",
   "metadata": {},
   "source": [
    "# LV"
   ]
  },
  {
   "cell_type": "code",
   "execution_count": 12,
   "metadata": {},
   "outputs": [],
   "source": [
    "subregion <- \"Left ventricle\"\n",
    "proportion <- read.csv(\"~/HHCA_d/Code4Paper/ForWebsite/1-2/Fetal/LV.csv\",row.names = 1)\n",
    "proportion[proportion<0] <- 0\n",
    "proportion[6] <- 0\n",
    "proportion <- proportion/sum(proportion)\n",
    "sample_prop <- rmultinom(50,size = 8000, prob = proportion)"
   ]
  },
  {
   "cell_type": "code",
   "execution_count": 13,
   "metadata": {},
   "outputs": [
    {
     "data": {
      "text/html": [
       "<table class=\"dataframe\">\n",
       "<caption>A data.frame: 1 × 9</caption>\n",
       "<thead>\n",
       "\t<tr><th></th><th scope=col>Endothelial.cell</th><th scope=col>Cardiomyocyte.cell</th><th scope=col>Myelocyte</th><th scope=col>Fibroblast</th><th scope=col>Lymphocyte</th><th scope=col>Smooth.muscle.cell</th><th scope=col>Neuron</th><th scope=col>Pericyte</th><th scope=col>Adipocyte</th></tr>\n",
       "\t<tr><th></th><th scope=col>&lt;dbl&gt;</th><th scope=col>&lt;dbl&gt;</th><th scope=col>&lt;dbl&gt;</th><th scope=col>&lt;dbl&gt;</th><th scope=col>&lt;dbl&gt;</th><th scope=col>&lt;dbl&gt;</th><th scope=col>&lt;dbl&gt;</th><th scope=col>&lt;dbl&gt;</th><th scope=col>&lt;dbl&gt;</th></tr>\n",
       "</thead>\n",
       "<tbody>\n",
       "\t<tr><th scope=row>estimated_alpha</th><td>0.1571881</td><td>0.4277767</td><td>0.1098525</td><td>0.2598502</td><td>0.04533259</td><td>0</td><td>0</td><td>0</td><td>0</td></tr>\n",
       "</tbody>\n",
       "</table>\n"
      ],
      "text/latex": [
       "A data.frame: 1 × 9\n",
       "\\begin{tabular}{r|lllllllll}\n",
       "  & Endothelial.cell & Cardiomyocyte.cell & Myelocyte & Fibroblast & Lymphocyte & Smooth.muscle.cell & Neuron & Pericyte & Adipocyte\\\\\n",
       "  & <dbl> & <dbl> & <dbl> & <dbl> & <dbl> & <dbl> & <dbl> & <dbl> & <dbl>\\\\\n",
       "\\hline\n",
       "\testimated\\_alpha & 0.1571881 & 0.4277767 & 0.1098525 & 0.2598502 & 0.04533259 & 0 & 0 & 0 & 0\\\\\n",
       "\\end{tabular}\n"
      ],
      "text/markdown": [
       "\n",
       "A data.frame: 1 × 9\n",
       "\n",
       "| <!--/--> | Endothelial.cell &lt;dbl&gt; | Cardiomyocyte.cell &lt;dbl&gt; | Myelocyte &lt;dbl&gt; | Fibroblast &lt;dbl&gt; | Lymphocyte &lt;dbl&gt; | Smooth.muscle.cell &lt;dbl&gt; | Neuron &lt;dbl&gt; | Pericyte &lt;dbl&gt; | Adipocyte &lt;dbl&gt; |\n",
       "|---|---|---|---|---|---|---|---|---|---|\n",
       "| estimated_alpha | 0.1571881 | 0.4277767 | 0.1098525 | 0.2598502 | 0.04533259 | 0 | 0 | 0 | 0 |\n",
       "\n"
      ],
      "text/plain": [
       "                Endothelial.cell Cardiomyocyte.cell Myelocyte Fibroblast\n",
       "estimated_alpha 0.1571881        0.4277767          0.1098525 0.2598502 \n",
       "                Lymphocyte Smooth.muscle.cell Neuron Pericyte Adipocyte\n",
       "estimated_alpha 0.04533259 0                  0      0        0        "
      ]
     },
     "metadata": {},
     "output_type": "display_data"
    }
   ],
   "source": [
    "proportion"
   ]
  },
  {
   "cell_type": "code",
   "execution_count": 4,
   "metadata": {},
   "outputs": [],
   "source": [
    "dataobj <- readRDS(\"/stor//public/chenyx//HHCAd//unit_organized_fetal/Left ventricle.rds\")"
   ]
  },
  {
   "cell_type": "code",
   "execution_count": 14,
   "metadata": {},
   "outputs": [
    {
     "data": {
      "text/plain": [
       "\n",
       "Cardiomyocyte cell   Endothelial cell    Epithelial cell         Fibroblast \n",
       "               392                 99                  1                192 \n",
       "        Lymphocyte          Mast cell          Myelocyte                 NA \n",
       "                20                 12                 55                 24 \n",
       "Smooth muscle cell \n",
       "                 1 "
      ]
     },
     "metadata": {},
     "output_type": "display_data"
    }
   ],
   "source": [
    "table(dataobj$cell_type)"
   ]
  },
  {
   "cell_type": "code",
   "execution_count": 15,
   "metadata": {},
   "outputs": [],
   "source": [
    "Cardiomyocyte.cell <- (dataobj@assays$RNA@data[,dataobj$cell_type==\"Cardiomyocyte cell\"])\n",
    "Fibroblast <- (dataobj@assays$RNA@data[,dataobj$cell_type==\"Fibroblast\"])\n",
    "Endothelial.cell <- (dataobj@assays$RNA@data[,dataobj$cell_type==\"Endothelial cell\"])\n",
    "Myelocyte <- (dataobj@assays$RNA@data[,dataobj$cell_type==\"Myelocyte\"])\n",
    "Pericyte <- (dataobj@assays$RNA@data[,dataobj$cell_type==\"Pericyte\"])\n",
    "Smooth.muscle.cell <-(dataobj@assays$RNA@data[,dataobj$cell_type==\"Smooth muscle cell\"])\n",
    "Neuron <-(dataobj@assays$RNA@data[,dataobj$cell_type==\"Neuron\"])\n",
    "Lymphocyte <-(dataobj@assays$RNA@data[,dataobj$cell_type==\"Lymphocyte\"])\n",
    "Adipocyte <-(dataobj@assays$RNA@data[,dataobj$cell_type==\"Adipocyte\"])"
   ]
  },
  {
   "cell_type": "code",
   "execution_count": 16,
   "metadata": {},
   "outputs": [],
   "source": [
    "obj_list <- list(Cardiomyocyte.cell,Fibroblast,Endothelial.cell,Myelocyte,Pericyte,Smooth.muscle.cell,Neuron,Lymphocyte,Adipocyte)\n",
    "name_list <- c('Cardiomyocyte.cell','Fibroblast','Endothelial.cell','Myelocyte','Pericyte','Smooth.muscle.cell','Neuron','Lymphocyte','Adipocyte')"
   ]
  },
  {
   "cell_type": "code",
   "execution_count": 17,
   "metadata": {},
   "outputs": [],
   "source": [
    "expression <- as.data.frame(matrix(0,43878,50))\n",
    "row.names(expression) <- row.names(Endothelial.cell)\n",
    "for (i in 1:dim(sample_prop)[2]){\n",
    "    # generate a pseudo bulk data\n",
    "    for (j in 1: length(obj_list)){\n",
    "        # in each cell type\n",
    "        if (sample_prop[name_list[j],i]>0){\n",
    "            index <- sample(1:dim(obj_list[[j]])[2],sample_prop[name_list[j],i],replace = TRUE)\n",
    "            if (length(index)>=2){\n",
    "                v_j <- rowSums(exp(as.data.frame(obj_list[[j]][,index]))-1)\n",
    "            }else{\n",
    "                v_j <- exp(as.data.frame(obj_list[[j]][,index]))-1\n",
    "            }\n",
    "            expression[,i] <- expression[,i] + v_j\n",
    "        }\n",
    "    }\n",
    "}\n",
    "expression <- round(expression+0.5,0)"
   ]
  },
  {
   "cell_type": "code",
   "execution_count": 18,
   "metadata": {},
   "outputs": [],
   "source": [
    "write.csv(expression,paste0(\"/stor/public/chenyx//HHCAd//PseudoBulk_fetal/\",subregion,\".csv\"))"
   ]
  },
  {
   "cell_type": "markdown",
   "metadata": {},
   "source": [
    "# RV"
   ]
  },
  {
   "cell_type": "code",
   "execution_count": 29,
   "metadata": {},
   "outputs": [],
   "source": [
    "subregion <- \"Right ventricle\"\n",
    "proportion <- read.csv(\"~/HHCA_d/Code4Paper/ForWebsite/1-2/Fetal/RV.csv\",row.names = 1)\n",
    "proportion <-t(proportion)\n",
    "proportion[proportion<0] <- 0\n",
    "proportion[6] <- 0\n",
    "proportion <- proportion/sum(proportion)\n",
    "sample_prop <- rmultinom(50,size = 8000, prob = proportion)\n",
    "row.names(sample_prop) <- colnames(proportion)"
   ]
  },
  {
   "cell_type": "code",
   "execution_count": 28,
   "metadata": {},
   "outputs": [],
   "source": [
    "proportion"
   ]
  },
  {
   "cell_type": "code",
   "execution_count": 22,
   "metadata": {},
   "outputs": [],
   "source": [
    "dataobj <- readRDS(\"/stor//public/chenyx//HHCAd//unit_organized_fetal/Left ventricle.rds\")"
   ]
  },
  {
   "cell_type": "code",
   "execution_count": 23,
   "metadata": {},
   "outputs": [
    {
     "data": {
      "text/plain": [
       "\n",
       "Cardiomyocyte cell   Endothelial cell    Epithelial cell         Fibroblast \n",
       "               392                 99                  1                192 \n",
       "        Lymphocyte          Mast cell          Myelocyte                 NA \n",
       "                20                 12                 55                 24 \n",
       "Smooth muscle cell \n",
       "                 1 "
      ]
     },
     "metadata": {},
     "output_type": "display_data"
    }
   ],
   "source": [
    "table(dataobj$cell_type)"
   ]
  },
  {
   "cell_type": "code",
   "execution_count": 24,
   "metadata": {},
   "outputs": [],
   "source": [
    "Cardiomyocyte.cell <- (dataobj@assays$RNA@data[,dataobj$cell_type==\"Cardiomyocyte cell\"])\n",
    "Fibroblast <- (dataobj@assays$RNA@data[,dataobj$cell_type==\"Fibroblast\"])\n",
    "Endothelial.cell <- (dataobj@assays$RNA@data[,dataobj$cell_type==\"Endothelial cell\"])\n",
    "Myelocyte <- (dataobj@assays$RNA@data[,dataobj$cell_type==\"Myelocyte\"])\n",
    "Pericyte <- (dataobj@assays$RNA@data[,dataobj$cell_type==\"Pericyte\"])\n",
    "Smooth.muscle.cell <-(dataobj@assays$RNA@data[,dataobj$cell_type==\"Smooth muscle cell\"])\n",
    "Neuron <-(dataobj@assays$RNA@data[,dataobj$cell_type==\"Neuron\"])\n",
    "Lymphocyte <-(dataobj@assays$RNA@data[,dataobj$cell_type==\"Lymphocyte\"])\n",
    "Adipocyte <-(dataobj@assays$RNA@data[,dataobj$cell_type==\"Adipocyte\"])"
   ]
  },
  {
   "cell_type": "code",
   "execution_count": 25,
   "metadata": {},
   "outputs": [],
   "source": [
    "obj_list <- list(Cardiomyocyte.cell,Fibroblast,Endothelial.cell,Myelocyte,Pericyte,Smooth.muscle.cell,Neuron,Lymphocyte,Adipocyte)\n",
    "name_list <- c('Cardiomyocyte.cell','Fibroblast','Endothelial.cell','Myelocyte','Pericyte','Smooth.muscle.cell','Neuron','Lymphocyte','Adipocyte')"
   ]
  },
  {
   "cell_type": "code",
   "execution_count": 30,
   "metadata": {},
   "outputs": [],
   "source": [
    "expression <- as.data.frame(matrix(0,43878,50))\n",
    "row.names(expression) <- row.names(Endothelial.cell)\n",
    "for (i in 1:dim(sample_prop)[2]){\n",
    "    # generate a pseudo bulk data\n",
    "    for (j in 1: length(obj_list)){\n",
    "        # in each cell type\n",
    "        if (sample_prop[name_list[j],i]>0){\n",
    "            index <- sample(1:dim(obj_list[[j]])[2],sample_prop[name_list[j],i],replace = TRUE)\n",
    "            if (length(index)>=2){\n",
    "                v_j <- rowSums(exp(as.data.frame(obj_list[[j]][,index]))-1)\n",
    "            }else{\n",
    "                v_j <- exp(as.data.frame(obj_list[[j]][,index]))-1\n",
    "            }\n",
    "            expression[,i] <- expression[,i] + v_j\n",
    "        }\n",
    "    }\n",
    "}\n",
    "expression <- round(expression+0.5,0)"
   ]
  },
  {
   "cell_type": "code",
   "execution_count": 31,
   "metadata": {},
   "outputs": [],
   "source": [
    "write.csv(expression,paste0(\"/stor/public/chenyx//HHCAd//PseudoBulk_fetal/\",subregion,\".csv\"))"
   ]
  },
  {
   "cell_type": "markdown",
   "metadata": {},
   "source": [
    "# RA"
   ]
  },
  {
   "cell_type": "code",
   "execution_count": 23,
   "metadata": {},
   "outputs": [],
   "source": [
    "subregion <- \"Right atria\"\n",
    "proportion <- read.csv(\"~/HHCA_d/Code4Paper/ForWebsite/1-2/Fetal/RA.csv\",row.names = 1)\n",
    "proportion <-t(proportion)\n",
    "proportion[proportion<0] <- 0\n",
    "proportion <- proportion/sum(proportion)\n",
    "sample_prop <- rmultinom(50,size = 8000, prob = proportion)\n",
    "row.names(sample_prop) <- colnames(proportion)"
   ]
  },
  {
   "cell_type": "code",
   "execution_count": 24,
   "metadata": {},
   "outputs": [
    {
     "data": {
      "text/html": [
       "<table class=\"dataframe\">\n",
       "<caption>A matrix: 1 × 9 of type dbl</caption>\n",
       "<thead>\n",
       "\t<tr><th></th><th scope=col>Endothelial.cell</th><th scope=col>Cardiomyocyte.cell</th><th scope=col>Myelocyte</th><th scope=col>Fibroblast</th><th scope=col>Lymphocyte</th><th scope=col>Smooth.muscle.cell</th><th scope=col>Neuron</th><th scope=col>Pericyte</th><th scope=col>Adipocyte</th></tr>\n",
       "</thead>\n",
       "<tbody>\n",
       "\t<tr><th scope=row>x</th><td>0.1558796</td><td>0.3356892</td><td>0.08446464</td><td>0.1963528</td><td>0.1505717</td><td>0.07704204</td><td>0</td><td>0</td><td>0</td></tr>\n",
       "</tbody>\n",
       "</table>\n"
      ],
      "text/latex": [
       "A matrix: 1 × 9 of type dbl\n",
       "\\begin{tabular}{r|lllllllll}\n",
       "  & Endothelial.cell & Cardiomyocyte.cell & Myelocyte & Fibroblast & Lymphocyte & Smooth.muscle.cell & Neuron & Pericyte & Adipocyte\\\\\n",
       "\\hline\n",
       "\tx & 0.1558796 & 0.3356892 & 0.08446464 & 0.1963528 & 0.1505717 & 0.07704204 & 0 & 0 & 0\\\\\n",
       "\\end{tabular}\n"
      ],
      "text/markdown": [
       "\n",
       "A matrix: 1 × 9 of type dbl\n",
       "\n",
       "| <!--/--> | Endothelial.cell | Cardiomyocyte.cell | Myelocyte | Fibroblast | Lymphocyte | Smooth.muscle.cell | Neuron | Pericyte | Adipocyte |\n",
       "|---|---|---|---|---|---|---|---|---|---|\n",
       "| x | 0.1558796 | 0.3356892 | 0.08446464 | 0.1963528 | 0.1505717 | 0.07704204 | 0 | 0 | 0 |\n",
       "\n"
      ],
      "text/plain": [
       "  Endothelial.cell Cardiomyocyte.cell Myelocyte  Fibroblast Lymphocyte\n",
       "x 0.1558796        0.3356892          0.08446464 0.1963528  0.1505717 \n",
       "  Smooth.muscle.cell Neuron Pericyte Adipocyte\n",
       "x 0.07704204         0      0        0        "
      ]
     },
     "metadata": {},
     "output_type": "display_data"
    }
   ],
   "source": [
    "proportion"
   ]
  },
  {
   "cell_type": "code",
   "execution_count": 26,
   "metadata": {},
   "outputs": [],
   "source": [
    "dataobj <- readRDS(\"/stor//public/chenyx//HHCAd//unit_organized_fetal/Right atria.rds\")"
   ]
  },
  {
   "cell_type": "code",
   "execution_count": 27,
   "metadata": {},
   "outputs": [
    {
     "data": {
      "text/plain": [
       "\n",
       "Cardiomyocyte cell   Endothelial cell    Epithelial cell         Fibroblast \n",
       "               436                120                  7                204 \n",
       "        Lymphocyte          Mast cell          Myelocyte                 NA \n",
       "                11                 15                 32                  1 \n",
       "Smooth muscle cell \n",
       "                 9 "
      ]
     },
     "metadata": {},
     "output_type": "display_data"
    }
   ],
   "source": [
    "table(dataobj$cell_type)"
   ]
  },
  {
   "cell_type": "code",
   "execution_count": 28,
   "metadata": {},
   "outputs": [],
   "source": [
    "Cardiomyocyte.cell <- (dataobj@assays$RNA@data[,dataobj$cell_type==\"Cardiomyocyte cell\"])\n",
    "Fibroblast <- (dataobj@assays$RNA@data[,dataobj$cell_type==\"Fibroblast\"])\n",
    "Endothelial.cell <- (dataobj@assays$RNA@data[,dataobj$cell_type==\"Endothelial cell\"])\n",
    "Myelocyte <- (dataobj@assays$RNA@data[,dataobj$cell_type==\"Myelocyte\"])\n",
    "Pericyte <- (dataobj@assays$RNA@data[,dataobj$cell_type==\"Pericyte\"])\n",
    "Smooth.muscle.cell <-(dataobj@assays$RNA@data[,dataobj$cell_type==\"Smooth muscle cell\"])\n",
    "Neuron <-(dataobj@assays$RNA@data[,dataobj$cell_type==\"Neuron\"])\n",
    "Lymphocyte <-(dataobj@assays$RNA@data[,dataobj$cell_type==\"Lymphocyte\"])\n",
    "Adipocyte <-(dataobj@assays$RNA@data[,dataobj$cell_type==\"Adipocyte\"])"
   ]
  },
  {
   "cell_type": "code",
   "execution_count": 29,
   "metadata": {},
   "outputs": [],
   "source": [
    "obj_list <- list(Cardiomyocyte.cell,Fibroblast,Endothelial.cell,Myelocyte,Pericyte,Smooth.muscle.cell,Neuron,Lymphocyte,Adipocyte)\n",
    "name_list <- c('Cardiomyocyte.cell','Fibroblast','Endothelial.cell','Myelocyte','Pericyte','Smooth.muscle.cell','Neuron','Lymphocyte','Adipocyte')"
   ]
  },
  {
   "cell_type": "code",
   "execution_count": 30,
   "metadata": {},
   "outputs": [],
   "source": [
    "expression <- as.data.frame(matrix(0,43878,50))\n",
    "row.names(expression) <- row.names(Endothelial.cell)\n",
    "for (i in 1:dim(sample_prop)[2]){\n",
    "    # generate a pseudo bulk data\n",
    "    for (j in 1: length(obj_list)){\n",
    "        # in each cell type\n",
    "        if (sample_prop[name_list[j],i]>0){\n",
    "            index <- sample(1:dim(obj_list[[j]])[2],sample_prop[name_list[j],i],replace = TRUE)\n",
    "            if (length(index)>=2){\n",
    "                v_j <- rowSums(exp(as.data.frame(obj_list[[j]][,index]))-1)\n",
    "            }else{\n",
    "                v_j <- exp(as.data.frame(obj_list[[j]][,index]))-1\n",
    "            }\n",
    "            expression[,i] <- expression[,i] + v_j\n",
    "        }\n",
    "    }\n",
    "}\n",
    "expression <- round(expression+0.5,0)"
   ]
  },
  {
   "cell_type": "code",
   "execution_count": 31,
   "metadata": {},
   "outputs": [],
   "source": [
    "write.csv(expression,paste0(\"/stor/public/chenyx//HHCAd//PseudoBulk_fetal/\",subregion,\".csv\"))"
   ]
  },
  {
   "cell_type": "markdown",
   "metadata": {},
   "source": [
    "# LA"
   ]
  },
  {
   "cell_type": "code",
   "execution_count": 11,
   "metadata": {},
   "outputs": [],
   "source": [
    "subregion <- \"Left atria\"\n",
    "proportion <- read.csv(\"~/HHCA_d/Code4Paper/ForWebsite/1-2/Fetal/LA.csv\",row.names = 1)\n",
    "proportion <- proportion/sum(proportion)\n",
    "sample_prop <- rmultinom(50,size = 8000, prob = proportion)"
   ]
  },
  {
   "cell_type": "code",
   "execution_count": 13,
   "metadata": {},
   "outputs": [
    {
     "data": {
      "text/html": [
       "<table class=\"dataframe\">\n",
       "<caption>A data.frame: 1 × 9</caption>\n",
       "<thead>\n",
       "\t<tr><th></th><th scope=col>Endothelial.cell</th><th scope=col>Cardiomyocyte.cell</th><th scope=col>Myelocyte</th><th scope=col>Fibroblast</th><th scope=col>Lymphocyte</th><th scope=col>Smooth.muscle.cell</th><th scope=col>Neuron</th><th scope=col>Pericyte</th><th scope=col>Adipocyte</th></tr>\n",
       "\t<tr><th></th><th scope=col>&lt;dbl&gt;</th><th scope=col>&lt;dbl&gt;</th><th scope=col>&lt;dbl&gt;</th><th scope=col>&lt;dbl&gt;</th><th scope=col>&lt;dbl&gt;</th><th scope=col>&lt;dbl&gt;</th><th scope=col>&lt;dbl&gt;</th><th scope=col>&lt;dbl&gt;</th><th scope=col>&lt;dbl&gt;</th></tr>\n",
       "</thead>\n",
       "<tbody>\n",
       "\t<tr><th scope=row>estimated_alpha</th><td>0.1885683</td><td>0.3748247</td><td>0.06845455</td><td>0.2170395</td><td>0.05268583</td><td>0.09842712</td><td>0</td><td>0</td><td>0</td></tr>\n",
       "</tbody>\n",
       "</table>\n"
      ],
      "text/latex": [
       "A data.frame: 1 × 9\n",
       "\\begin{tabular}{r|lllllllll}\n",
       "  & Endothelial.cell & Cardiomyocyte.cell & Myelocyte & Fibroblast & Lymphocyte & Smooth.muscle.cell & Neuron & Pericyte & Adipocyte\\\\\n",
       "  & <dbl> & <dbl> & <dbl> & <dbl> & <dbl> & <dbl> & <dbl> & <dbl> & <dbl>\\\\\n",
       "\\hline\n",
       "\testimated\\_alpha & 0.1885683 & 0.3748247 & 0.06845455 & 0.2170395 & 0.05268583 & 0.09842712 & 0 & 0 & 0\\\\\n",
       "\\end{tabular}\n"
      ],
      "text/markdown": [
       "\n",
       "A data.frame: 1 × 9\n",
       "\n",
       "| <!--/--> | Endothelial.cell &lt;dbl&gt; | Cardiomyocyte.cell &lt;dbl&gt; | Myelocyte &lt;dbl&gt; | Fibroblast &lt;dbl&gt; | Lymphocyte &lt;dbl&gt; | Smooth.muscle.cell &lt;dbl&gt; | Neuron &lt;dbl&gt; | Pericyte &lt;dbl&gt; | Adipocyte &lt;dbl&gt; |\n",
       "|---|---|---|---|---|---|---|---|---|---|\n",
       "| estimated_alpha | 0.1885683 | 0.3748247 | 0.06845455 | 0.2170395 | 0.05268583 | 0.09842712 | 0 | 0 | 0 |\n",
       "\n"
      ],
      "text/plain": [
       "                Endothelial.cell Cardiomyocyte.cell Myelocyte  Fibroblast\n",
       "estimated_alpha 0.1885683        0.3748247          0.06845455 0.2170395 \n",
       "                Lymphocyte Smooth.muscle.cell Neuron Pericyte Adipocyte\n",
       "estimated_alpha 0.05268583 0.09842712         0      0        0        "
      ]
     },
     "metadata": {},
     "output_type": "display_data"
    }
   ],
   "source": [
    "proportion"
   ]
  },
  {
   "cell_type": "code",
   "execution_count": 14,
   "metadata": {},
   "outputs": [],
   "source": [
    "dataobj <- readRDS(\"/stor//public/chenyx//HHCAd//unit_organized_fetal/Left atria.rds\")"
   ]
  },
  {
   "cell_type": "code",
   "execution_count": 15,
   "metadata": {},
   "outputs": [
    {
     "data": {
      "text/plain": [
       "\n",
       "Cardiomyocyte cell   Endothelial cell    Epithelial cell         Fibroblast \n",
       "               411                114                 30                149 \n",
       "        Lymphocyte          Mast cell          Myelocyte                 NA \n",
       "                13                  5                 31                  1 \n",
       "Smooth muscle cell \n",
       "                19 "
      ]
     },
     "metadata": {},
     "output_type": "display_data"
    }
   ],
   "source": [
    "table(dataobj$cell_type)"
   ]
  },
  {
   "cell_type": "code",
   "execution_count": 16,
   "metadata": {},
   "outputs": [],
   "source": [
    "Cardiomyocyte.cell <- (dataobj@assays$RNA@data[,dataobj$cell_type==\"Cardiomyocyte cell\"])\n",
    "Fibroblast <- (dataobj@assays$RNA@data[,dataobj$cell_type==\"Fibroblast\"])\n",
    "Endothelial.cell <- (dataobj@assays$RNA@data[,dataobj$cell_type==\"Endothelial cell\"])\n",
    "Myelocyte <- (dataobj@assays$RNA@data[,dataobj$cell_type==\"Myelocyte\"])\n",
    "Pericyte <- (dataobj@assays$RNA@data[,dataobj$cell_type==\"Pericyte\"])\n",
    "Smooth.muscle.cell <-(dataobj@assays$RNA@data[,dataobj$cell_type==\"Smooth muscle cell\"])\n",
    "Neuron <-(dataobj@assays$RNA@data[,dataobj$cell_type==\"Neuron\"])\n",
    "Lymphocyte <-(dataobj@assays$RNA@data[,dataobj$cell_type==\"Lymphocyte\"])\n",
    "Adipocyte <-(dataobj@assays$RNA@data[,dataobj$cell_type==\"Adipocyte\"])"
   ]
  },
  {
   "cell_type": "code",
   "execution_count": 17,
   "metadata": {},
   "outputs": [],
   "source": [
    "obj_list <- list(Cardiomyocyte.cell,Fibroblast,Endothelial.cell,Myelocyte,Pericyte,Smooth.muscle.cell,Neuron,Lymphocyte,Adipocyte)\n",
    "name_list <- c('Cardiomyocyte.cell','Fibroblast','Endothelial.cell','Myelocyte','Pericyte','Smooth.muscle.cell','Neuron','Lymphocyte','Adipocyte')"
   ]
  },
  {
   "cell_type": "code",
   "execution_count": 18,
   "metadata": {},
   "outputs": [],
   "source": [
    "expression <- as.data.frame(matrix(0,43878,50))\n",
    "row.names(expression) <- row.names(Endothelial.cell)\n",
    "for (i in 1:dim(sample_prop)[2]){\n",
    "    # generate a pseudo bulk data\n",
    "    for (j in 1: length(obj_list)){\n",
    "        # in each cell type\n",
    "        if (sample_prop[name_list[j],i]>0){\n",
    "            index <- sample(1:dim(obj_list[[j]])[2],sample_prop[name_list[j],i],replace = TRUE)\n",
    "            if (length(index)>=2){\n",
    "                v_j <- rowSums(exp(as.data.frame(obj_list[[j]][,index]))-1)\n",
    "            }else{\n",
    "                v_j <- exp(as.data.frame(obj_list[[j]][,index]))-1\n",
    "            }\n",
    "            expression[,i] <- expression[,i] + v_j\n",
    "        }\n",
    "    }\n",
    "}\n",
    "expression <- round(expression+0.5,0)"
   ]
  },
  {
   "cell_type": "code",
   "execution_count": 19,
   "metadata": {},
   "outputs": [],
   "source": [
    "write.csv(expression,paste0(\"/stor/public/chenyx//HHCAd//PseudoBulk_fetal/\",subregion,\".csv\"))"
   ]
  },
  {
   "cell_type": "code",
   "execution_count": null,
   "metadata": {},
   "outputs": [],
   "source": []
  },
  {
   "cell_type": "code",
   "execution_count": null,
   "metadata": {},
   "outputs": [],
   "source": []
  },
  {
   "cell_type": "markdown",
   "metadata": {},
   "source": [
    "# AO"
   ]
  },
  {
   "cell_type": "code",
   "execution_count": 44,
   "metadata": {},
   "outputs": [],
   "source": [
    "subregion <- \"Aorta\"\n",
    "proportion <- read.csv(\"~/HHCA_d/Code4Paper/ForWebsite/1-2/Fetal/AO.csv\",row.names = 1)\n",
    "proportion <- proportion/sum(proportion)\n",
    "proportion[2] <- 0\n",
    "sample_prop <- rmultinom(50,size = 8000, prob = proportion)"
   ]
  },
  {
   "cell_type": "code",
   "execution_count": 45,
   "metadata": {},
   "outputs": [
    {
     "data": {
      "text/html": [
       "<table class=\"dataframe\">\n",
       "<caption>A data.frame: 1 × 9</caption>\n",
       "<thead>\n",
       "\t<tr><th></th><th scope=col>Endothelial.cell</th><th scope=col>Cardiomyocyte.cell</th><th scope=col>Myelocyte</th><th scope=col>Fibroblast</th><th scope=col>Lymphocyte</th><th scope=col>Smooth.muscle.cell</th><th scope=col>Neuron</th><th scope=col>Pericyte</th><th scope=col>Adipocyte</th></tr>\n",
       "\t<tr><th></th><th scope=col>&lt;dbl&gt;</th><th scope=col>&lt;dbl&gt;</th><th scope=col>&lt;dbl&gt;</th><th scope=col>&lt;dbl&gt;</th><th scope=col>&lt;dbl&gt;</th><th scope=col>&lt;dbl&gt;</th><th scope=col>&lt;dbl&gt;</th><th scope=col>&lt;dbl&gt;</th><th scope=col>&lt;dbl&gt;</th></tr>\n",
       "</thead>\n",
       "<tbody>\n",
       "\t<tr><th scope=row>estimated_alpha</th><td>0.08632911</td><td>0</td><td>0.1606805</td><td>0</td><td>0.1020525</td><td>0.5488855</td><td>0</td><td>0</td><td>0</td></tr>\n",
       "</tbody>\n",
       "</table>\n"
      ],
      "text/latex": [
       "A data.frame: 1 × 9\n",
       "\\begin{tabular}{r|lllllllll}\n",
       "  & Endothelial.cell & Cardiomyocyte.cell & Myelocyte & Fibroblast & Lymphocyte & Smooth.muscle.cell & Neuron & Pericyte & Adipocyte\\\\\n",
       "  & <dbl> & <dbl> & <dbl> & <dbl> & <dbl> & <dbl> & <dbl> & <dbl> & <dbl>\\\\\n",
       "\\hline\n",
       "\testimated\\_alpha & 0.08632911 & 0 & 0.1606805 & 0 & 0.1020525 & 0.5488855 & 0 & 0 & 0\\\\\n",
       "\\end{tabular}\n"
      ],
      "text/markdown": [
       "\n",
       "A data.frame: 1 × 9\n",
       "\n",
       "| <!--/--> | Endothelial.cell &lt;dbl&gt; | Cardiomyocyte.cell &lt;dbl&gt; | Myelocyte &lt;dbl&gt; | Fibroblast &lt;dbl&gt; | Lymphocyte &lt;dbl&gt; | Smooth.muscle.cell &lt;dbl&gt; | Neuron &lt;dbl&gt; | Pericyte &lt;dbl&gt; | Adipocyte &lt;dbl&gt; |\n",
       "|---|---|---|---|---|---|---|---|---|---|\n",
       "| estimated_alpha | 0.08632911 | 0 | 0.1606805 | 0 | 0.1020525 | 0.5488855 | 0 | 0 | 0 |\n",
       "\n"
      ],
      "text/plain": [
       "                Endothelial.cell Cardiomyocyte.cell Myelocyte Fibroblast\n",
       "estimated_alpha 0.08632911       0                  0.1606805 0         \n",
       "                Lymphocyte Smooth.muscle.cell Neuron Pericyte Adipocyte\n",
       "estimated_alpha 0.1020525  0.5488855          0      0        0        "
      ]
     },
     "metadata": {},
     "output_type": "display_data"
    }
   ],
   "source": [
    "proportion"
   ]
  },
  {
   "cell_type": "code",
   "execution_count": 46,
   "metadata": {},
   "outputs": [],
   "source": [
    "dataobj.1 <- readRDS(\"/stor//public/chenyx//HHCAd//unit_organized_fetal/Aorta.rds\")\n",
    "dataobj.2 <- readRDS(\"/stor//public/chenyx//HHCAd//unit_organized_fetal/Aortic valve.rds\")"
   ]
  },
  {
   "cell_type": "code",
   "execution_count": 47,
   "metadata": {},
   "outputs": [],
   "source": [
    "dataobj <-merge(dataobj.1,dataobj.2)"
   ]
  },
  {
   "cell_type": "code",
   "execution_count": 48,
   "metadata": {},
   "outputs": [
    {
     "data": {
      "text/plain": [
       "\n",
       "Cardiomyocyte cell   Endothelial cell         Fibroblast         Lymphocyte \n",
       "                 1                 10                 96                  2 \n",
       "         Mast cell          Myelocyte Smooth muscle cell \n",
       "                 7                 15                 36 "
      ]
     },
     "metadata": {},
     "output_type": "display_data"
    }
   ],
   "source": [
    "table(dataobj$cell_type)"
   ]
  },
  {
   "cell_type": "code",
   "execution_count": 49,
   "metadata": {},
   "outputs": [],
   "source": [
    "Cardiomyocyte.cell <- (dataobj@assays$RNA@data[,dataobj$cell_type==\"Cardiomyocyte cell\"])\n",
    "Fibroblast <- (dataobj@assays$RNA@data[,dataobj$cell_type==\"Fibroblast\"])\n",
    "Endothelial.cell <- (dataobj@assays$RNA@data[,dataobj$cell_type==\"Endothelial cell\"])\n",
    "Myelocyte <- (dataobj@assays$RNA@data[,dataobj$cell_type==\"Myelocyte\"])\n",
    "Pericyte <- (dataobj@assays$RNA@data[,dataobj$cell_type==\"Pericyte\"])\n",
    "Smooth.muscle.cell <-(dataobj@assays$RNA@data[,dataobj$cell_type==\"Smooth muscle cell\"])\n",
    "Neuron <-(dataobj@assays$RNA@data[,dataobj$cell_type==\"Neuron\"])\n",
    "Lymphocyte <-(dataobj@assays$RNA@data[,dataobj$cell_type==\"Lymphocyte\"])\n",
    "Adipocyte <-(dataobj@assays$RNA@data[,dataobj$cell_type==\"Adipocyte\"])"
   ]
  },
  {
   "cell_type": "code",
   "execution_count": 50,
   "metadata": {},
   "outputs": [],
   "source": [
    "obj_list <- list(Cardiomyocyte.cell,Fibroblast,Endothelial.cell,Myelocyte,Pericyte,Smooth.muscle.cell,Neuron,Lymphocyte,Adipocyte)\n",
    "name_list <- c('Cardiomyocyte.cell','Fibroblast','Endothelial.cell','Myelocyte','Pericyte','Smooth.muscle.cell','Neuron','Lymphocyte','Adipocyte')"
   ]
  },
  {
   "cell_type": "code",
   "execution_count": 51,
   "metadata": {},
   "outputs": [],
   "source": [
    "expression <- as.data.frame(matrix(0,43878,50))\n",
    "row.names(expression) <- row.names(Endothelial.cell)\n",
    "for (i in 1:dim(sample_prop)[2]){\n",
    "    # generate a pseudo bulk data\n",
    "    for (j in 1: length(obj_list)){\n",
    "        # in each cell type\n",
    "        if (sample_prop[name_list[j],i]>0){\n",
    "            index <- sample(1:dim(obj_list[[j]])[2],sample_prop[name_list[j],i],replace = TRUE)\n",
    "            if (length(index)>=2){\n",
    "                v_j <- rowSums(exp(as.data.frame(obj_list[[j]][,index]))-1)\n",
    "            }else{\n",
    "                v_j <- exp(as.data.frame(obj_list[[j]][,index]))-1\n",
    "            }\n",
    "            expression[,i] <- expression[,i] + v_j\n",
    "        }\n",
    "    }\n",
    "}\n",
    "expression <- round(expression+0.5,0)"
   ]
  },
  {
   "cell_type": "code",
   "execution_count": 52,
   "metadata": {},
   "outputs": [],
   "source": [
    "write.csv(expression,paste0(\"/stor/public/chenyx//HHCAd//PseudoBulk_fetal/\",subregion,\".csv\"))"
   ]
  },
  {
   "cell_type": "markdown",
   "metadata": {},
   "source": [
    "# PA"
   ]
  },
  {
   "cell_type": "code",
   "execution_count": 3,
   "metadata": {},
   "outputs": [],
   "source": [
    "subregion <- \"Pulmonary artery\"\n",
    "proportion <- read.csv(\"~/HHCA_d/Code4Paper/ForWebsite/1-2/Fetal/PA.csv\",row.names = 1)\n",
    "proportion <- proportion/sum(proportion)\n",
    "sample_prop <- rmultinom(50,size = 8000, prob = proportion)"
   ]
  },
  {
   "cell_type": "code",
   "execution_count": 4,
   "metadata": {},
   "outputs": [
    {
     "data": {
      "text/html": [
       "<table class=\"dataframe\">\n",
       "<caption>A data.frame: 1 × 9</caption>\n",
       "<thead>\n",
       "\t<tr><th></th><th scope=col>Endothelial.cell</th><th scope=col>Cardiomyocyte.cell</th><th scope=col>Myelocyte</th><th scope=col>Fibroblast</th><th scope=col>Lymphocyte</th><th scope=col>Smooth.muscle.cell</th><th scope=col>Neuron</th><th scope=col>Pericyte</th><th scope=col>Adipocyte</th></tr>\n",
       "\t<tr><th></th><th scope=col>&lt;dbl&gt;</th><th scope=col>&lt;dbl&gt;</th><th scope=col>&lt;dbl&gt;</th><th scope=col>&lt;dbl&gt;</th><th scope=col>&lt;dbl&gt;</th><th scope=col>&lt;dbl&gt;</th><th scope=col>&lt;dbl&gt;</th><th scope=col>&lt;dbl&gt;</th><th scope=col>&lt;dbl&gt;</th></tr>\n",
       "</thead>\n",
       "<tbody>\n",
       "\t<tr><th scope=row>estimated_alpha</th><td>0.08889159</td><td>0.1118638</td><td>0.1510127</td><td>0.1118697</td><td>0.08889159</td><td>0.4474707</td><td>0</td><td>0</td><td>0</td></tr>\n",
       "</tbody>\n",
       "</table>\n"
      ],
      "text/latex": [
       "A data.frame: 1 × 9\n",
       "\\begin{tabular}{r|lllllllll}\n",
       "  & Endothelial.cell & Cardiomyocyte.cell & Myelocyte & Fibroblast & Lymphocyte & Smooth.muscle.cell & Neuron & Pericyte & Adipocyte\\\\\n",
       "  & <dbl> & <dbl> & <dbl> & <dbl> & <dbl> & <dbl> & <dbl> & <dbl> & <dbl>\\\\\n",
       "\\hline\n",
       "\testimated\\_alpha & 0.08889159 & 0.1118638 & 0.1510127 & 0.1118697 & 0.08889159 & 0.4474707 & 0 & 0 & 0\\\\\n",
       "\\end{tabular}\n"
      ],
      "text/markdown": [
       "\n",
       "A data.frame: 1 × 9\n",
       "\n",
       "| <!--/--> | Endothelial.cell &lt;dbl&gt; | Cardiomyocyte.cell &lt;dbl&gt; | Myelocyte &lt;dbl&gt; | Fibroblast &lt;dbl&gt; | Lymphocyte &lt;dbl&gt; | Smooth.muscle.cell &lt;dbl&gt; | Neuron &lt;dbl&gt; | Pericyte &lt;dbl&gt; | Adipocyte &lt;dbl&gt; |\n",
       "|---|---|---|---|---|---|---|---|---|---|\n",
       "| estimated_alpha | 0.08889159 | 0.1118638 | 0.1510127 | 0.1118697 | 0.08889159 | 0.4474707 | 0 | 0 | 0 |\n",
       "\n"
      ],
      "text/plain": [
       "                Endothelial.cell Cardiomyocyte.cell Myelocyte Fibroblast\n",
       "estimated_alpha 0.08889159       0.1118638          0.1510127 0.1118697 \n",
       "                Lymphocyte Smooth.muscle.cell Neuron Pericyte Adipocyte\n",
       "estimated_alpha 0.08889159 0.4474707          0      0        0        "
      ]
     },
     "metadata": {},
     "output_type": "display_data"
    }
   ],
   "source": [
    "proportion"
   ]
  },
  {
   "cell_type": "code",
   "execution_count": 7,
   "metadata": {},
   "outputs": [],
   "source": [
    "dataobj.1 <- readRDS(\"/stor//public/chenyx//HHCAd//unit_organized_fetal/Pulmonary artery.rds\")\n",
    "dataobj.2 <- readRDS(\"/stor//public/chenyx//HHCAd//unit_organized_fetal/Pulmonary valve.rds\")"
   ]
  },
  {
   "cell_type": "code",
   "execution_count": 8,
   "metadata": {},
   "outputs": [],
   "source": [
    "dataobj <-merge(dataobj.1,dataobj.2)"
   ]
  },
  {
   "cell_type": "code",
   "execution_count": 9,
   "metadata": {},
   "outputs": [
    {
     "data": {
      "text/plain": [
       "\n",
       "Cardiomyocyte cell   Endothelial cell    Epithelial cell         Fibroblast \n",
       "                 2                 14                  1                 94 \n",
       "        Lymphocyte          Mast cell          Myelocyte Smooth muscle cell \n",
       "                 3                  8                 19                 48 "
      ]
     },
     "metadata": {},
     "output_type": "display_data"
    }
   ],
   "source": [
    "table(dataobj$cell_type)"
   ]
  },
  {
   "cell_type": "code",
   "execution_count": 10,
   "metadata": {},
   "outputs": [],
   "source": [
    "Cardiomyocyte.cell <- (dataobj@assays$RNA@data[,dataobj$cell_type==\"Cardiomyocyte cell\"])\n",
    "Fibroblast <- (dataobj@assays$RNA@data[,dataobj$cell_type==\"Fibroblast\"])\n",
    "Endothelial.cell <- (dataobj@assays$RNA@data[,dataobj$cell_type==\"Endothelial cell\"])\n",
    "Myelocyte <- (dataobj@assays$RNA@data[,dataobj$cell_type==\"Myelocyte\"])\n",
    "Pericyte <- (dataobj@assays$RNA@data[,dataobj$cell_type==\"Pericyte\"])\n",
    "Smooth.muscle.cell <-(dataobj@assays$RNA@data[,dataobj$cell_type==\"Smooth muscle cell\"])\n",
    "Neuron <-(dataobj@assays$RNA@data[,dataobj$cell_type==\"Neuron\"])\n",
    "Lymphocyte <-(dataobj@assays$RNA@data[,dataobj$cell_type==\"Lymphocyte\"])\n",
    "Adipocyte <-(dataobj@assays$RNA@data[,dataobj$cell_type==\"Adipocyte\"])"
   ]
  },
  {
   "cell_type": "code",
   "execution_count": 11,
   "metadata": {},
   "outputs": [],
   "source": [
    "obj_list <- list(Cardiomyocyte.cell,Fibroblast,Endothelial.cell,Myelocyte,Pericyte,Smooth.muscle.cell,Neuron,Lymphocyte,Adipocyte)\n",
    "name_list <- c('Cardiomyocyte.cell','Fibroblast','Endothelial.cell','Myelocyte','Pericyte','Smooth.muscle.cell','Neuron','Lymphocyte','Adipocyte')"
   ]
  },
  {
   "cell_type": "code",
   "execution_count": 12,
   "metadata": {},
   "outputs": [],
   "source": [
    "expression <- as.data.frame(matrix(0,43878,50))\n",
    "row.names(expression) <- row.names(Endothelial.cell)\n",
    "for (i in 1:dim(sample_prop)[2]){\n",
    "    # generate a pseudo bulk data\n",
    "    for (j in 1: length(obj_list)){\n",
    "        # in each cell type\n",
    "        if (sample_prop[name_list[j],i]>0){\n",
    "            index <- sample(1:dim(obj_list[[j]])[2],sample_prop[name_list[j],i],replace = TRUE)\n",
    "            if (length(index)>=2){\n",
    "                v_j <- rowSums(exp(as.data.frame(obj_list[[j]][,index]))-1)\n",
    "            }else{\n",
    "                v_j <- exp(as.data.frame(obj_list[[j]][,index]))-1\n",
    "            }\n",
    "            expression[,i] <- expression[,i] + v_j\n",
    "        }\n",
    "    }\n",
    "}\n",
    "expression <- round(expression+0.5,0)"
   ]
  },
  {
   "cell_type": "code",
   "execution_count": 13,
   "metadata": {},
   "outputs": [],
   "source": [
    "write.csv(expression,paste0(\"/stor/public/chenyx//HHCAd//PseudoBulk_fetal/\",subregion,\".csv\"))"
   ]
  },
  {
   "cell_type": "markdown",
   "metadata": {},
   "source": [
    "# MV"
   ]
  },
  {
   "cell_type": "code",
   "execution_count": 40,
   "metadata": {},
   "outputs": [],
   "source": [
    "subregion <- \"Mitral valve\"\n",
    "proportion <- read.csv(\"~/HHCA_d/Code4Paper/ForWebsite/1-2/Fetal/MV.csv\",row.names = 1)\n",
    "proportion[2] <-0\n",
    "proportion <- proportion/sum(proportion)\n",
    "sample_prop <- rmultinom(50,size = 8000, prob = proportion)"
   ]
  },
  {
   "cell_type": "code",
   "execution_count": 41,
   "metadata": {},
   "outputs": [
    {
     "data": {
      "text/html": [
       "<table class=\"dataframe\">\n",
       "<caption>A data.frame: 1 × 9</caption>\n",
       "<thead>\n",
       "\t<tr><th></th><th scope=col>Endothelial.cell</th><th scope=col>Cardiomyocyte.cell</th><th scope=col>Myelocyte</th><th scope=col>Fibroblast</th><th scope=col>Lymphocyte</th><th scope=col>Smooth.muscle.cell</th><th scope=col>Neuron</th><th scope=col>Pericyte</th><th scope=col>Adipocyte</th></tr>\n",
       "\t<tr><th></th><th scope=col>&lt;dbl&gt;</th><th scope=col>&lt;dbl&gt;</th><th scope=col>&lt;dbl&gt;</th><th scope=col>&lt;dbl&gt;</th><th scope=col>&lt;dbl&gt;</th><th scope=col>&lt;dbl&gt;</th><th scope=col>&lt;dbl&gt;</th><th scope=col>&lt;dbl&gt;</th><th scope=col>&lt;dbl&gt;</th></tr>\n",
       "</thead>\n",
       "<tbody>\n",
       "\t<tr><th scope=row>estimated_alpha</th><td>0.2150953</td><td>0</td><td>0.2031493</td><td>0.5817554</td><td>0</td><td>0</td><td>0</td><td>0</td><td>0</td></tr>\n",
       "</tbody>\n",
       "</table>\n"
      ],
      "text/latex": [
       "A data.frame: 1 × 9\n",
       "\\begin{tabular}{r|lllllllll}\n",
       "  & Endothelial.cell & Cardiomyocyte.cell & Myelocyte & Fibroblast & Lymphocyte & Smooth.muscle.cell & Neuron & Pericyte & Adipocyte\\\\\n",
       "  & <dbl> & <dbl> & <dbl> & <dbl> & <dbl> & <dbl> & <dbl> & <dbl> & <dbl>\\\\\n",
       "\\hline\n",
       "\testimated\\_alpha & 0.2150953 & 0 & 0.2031493 & 0.5817554 & 0 & 0 & 0 & 0 & 0\\\\\n",
       "\\end{tabular}\n"
      ],
      "text/markdown": [
       "\n",
       "A data.frame: 1 × 9\n",
       "\n",
       "| <!--/--> | Endothelial.cell &lt;dbl&gt; | Cardiomyocyte.cell &lt;dbl&gt; | Myelocyte &lt;dbl&gt; | Fibroblast &lt;dbl&gt; | Lymphocyte &lt;dbl&gt; | Smooth.muscle.cell &lt;dbl&gt; | Neuron &lt;dbl&gt; | Pericyte &lt;dbl&gt; | Adipocyte &lt;dbl&gt; |\n",
       "|---|---|---|---|---|---|---|---|---|---|\n",
       "| estimated_alpha | 0.2150953 | 0 | 0.2031493 | 0.5817554 | 0 | 0 | 0 | 0 | 0 |\n",
       "\n"
      ],
      "text/plain": [
       "                Endothelial.cell Cardiomyocyte.cell Myelocyte Fibroblast\n",
       "estimated_alpha 0.2150953        0                  0.2031493 0.5817554 \n",
       "                Lymphocyte Smooth.muscle.cell Neuron Pericyte Adipocyte\n",
       "estimated_alpha 0          0                  0      0        0        "
      ]
     },
     "metadata": {},
     "output_type": "display_data"
    }
   ],
   "source": [
    "proportion"
   ]
  },
  {
   "cell_type": "code",
   "execution_count": 42,
   "metadata": {},
   "outputs": [],
   "source": [
    "dataobj <- readRDS(\"/stor//public/chenyx//HHCAd//unit_organized_fetal/Mitral valve.rds\")"
   ]
  },
  {
   "cell_type": "code",
   "execution_count": 43,
   "metadata": {},
   "outputs": [
    {
     "data": {
      "text/plain": [
       "\n",
       "Cardiomyocyte cell   Endothelial cell         Fibroblast          Mast cell \n",
       "                 1                 21                 88                  1 \n",
       "         Myelocyte \n",
       "                13 "
      ]
     },
     "metadata": {},
     "output_type": "display_data"
    }
   ],
   "source": [
    "table(dataobj$cell_type)"
   ]
  },
  {
   "cell_type": "code",
   "execution_count": 44,
   "metadata": {},
   "outputs": [],
   "source": [
    "Cardiomyocyte.cell <- (dataobj@assays$RNA@data[,dataobj$cell_type==\"Cardiomyocyte cell\"])\n",
    "Fibroblast <- (dataobj@assays$RNA@data[,dataobj$cell_type==\"Fibroblast\"])\n",
    "Endothelial.cell <- (dataobj@assays$RNA@data[,dataobj$cell_type==\"Endothelial cell\"])\n",
    "Myelocyte <- (dataobj@assays$RNA@data[,dataobj$cell_type==\"Myelocyte\"])\n",
    "Pericyte <- (dataobj@assays$RNA@data[,dataobj$cell_type==\"Pericyte\"])\n",
    "Smooth.muscle.cell <-(dataobj@assays$RNA@data[,dataobj$cell_type==\"Smooth muscle cell\"])\n",
    "Neuron <-(dataobj@assays$RNA@data[,dataobj$cell_type==\"Neuron\"])\n",
    "Lymphocyte <-(dataobj@assays$RNA@data[,dataobj$cell_type==\"Lymphocyte\"])\n",
    "Adipocyte <-(dataobj@assays$RNA@data[,dataobj$cell_type==\"Adipocyte\"])"
   ]
  },
  {
   "cell_type": "code",
   "execution_count": 45,
   "metadata": {},
   "outputs": [],
   "source": [
    "obj_list <- list(Cardiomyocyte.cell,Fibroblast,Endothelial.cell,Myelocyte,Pericyte,Smooth.muscle.cell,Neuron,Lymphocyte,Adipocyte)\n",
    "name_list <- c('Cardiomyocyte.cell','Fibroblast','Endothelial.cell','Myelocyte','Pericyte','Smooth.muscle.cell','Neuron','Lymphocyte','Adipocyte')"
   ]
  },
  {
   "cell_type": "code",
   "execution_count": 46,
   "metadata": {},
   "outputs": [],
   "source": [
    "expression <- as.data.frame(matrix(0,43878,50))\n",
    "row.names(expression) <- row.names(Endothelial.cell)\n",
    "for (i in 1:dim(sample_prop)[2]){\n",
    "    # generate a pseudo bulk data\n",
    "    for (j in 1: length(obj_list)){\n",
    "        # in each cell type\n",
    "        if (sample_prop[name_list[j],i]>0){\n",
    "            index <- sample(1:dim(obj_list[[j]])[2],sample_prop[name_list[j],i],replace = TRUE)\n",
    "            if (length(index)>=2){\n",
    "                v_j <- rowSums(exp(as.data.frame(obj_list[[j]][,index]))-1)\n",
    "            }else{\n",
    "                v_j <- exp(as.data.frame(obj_list[[j]][,index]))-1\n",
    "            }\n",
    "            expression[,i] <- expression[,i] + v_j\n",
    "        }\n",
    "    }\n",
    "}\n",
    "expression <- round(expression+0.5,0)"
   ]
  },
  {
   "cell_type": "code",
   "execution_count": 47,
   "metadata": {},
   "outputs": [],
   "source": [
    "write.csv(expression,paste0(\"/stor/public/chenyx//HHCAd//PseudoBulk_fetal/\",subregion,\".csv\"))"
   ]
  },
  {
   "cell_type": "markdown",
   "metadata": {},
   "source": [
    "# TV"
   ]
  },
  {
   "cell_type": "code",
   "execution_count": 30,
   "metadata": {},
   "outputs": [],
   "source": [
    "subregion <- \"Tricuspid valve\"\n",
    "proportion <- read.csv(\"~/HHCA_d/Code4Paper/ForWebsite/1-2/Fetal/TV.csv\",row.names = 1)\n",
    "proportion[5] <- 0\n",
    "proportion <- proportion/sum(proportion)\n",
    "sample_prop <- rmultinom(50,size = 8000, prob = proportion)"
   ]
  },
  {
   "cell_type": "code",
   "execution_count": 31,
   "metadata": {},
   "outputs": [
    {
     "data": {
      "text/html": [
       "<table class=\"dataframe\">\n",
       "<caption>A data.frame: 1 × 9</caption>\n",
       "<thead>\n",
       "\t<tr><th></th><th scope=col>Endothelial.cell</th><th scope=col>Cardiomyocyte.cell</th><th scope=col>Myelocyte</th><th scope=col>Fibroblast</th><th scope=col>Lymphocyte</th><th scope=col>Smooth.muscle.cell</th><th scope=col>Neuron</th><th scope=col>Pericyte</th><th scope=col>Adipocyte</th></tr>\n",
       "\t<tr><th></th><th scope=col>&lt;dbl&gt;</th><th scope=col>&lt;dbl&gt;</th><th scope=col>&lt;dbl&gt;</th><th scope=col>&lt;dbl&gt;</th><th scope=col>&lt;dbl&gt;</th><th scope=col>&lt;dbl&gt;</th><th scope=col>&lt;dbl&gt;</th><th scope=col>&lt;dbl&gt;</th><th scope=col>&lt;dbl&gt;</th></tr>\n",
       "</thead>\n",
       "<tbody>\n",
       "\t<tr><th scope=row>estimated_alpha</th><td>0.2228002</td><td>0</td><td>0.2159831</td><td>0.5612166</td><td>0</td><td>0</td><td>0</td><td>0</td><td>0</td></tr>\n",
       "</tbody>\n",
       "</table>\n"
      ],
      "text/latex": [
       "A data.frame: 1 × 9\n",
       "\\begin{tabular}{r|lllllllll}\n",
       "  & Endothelial.cell & Cardiomyocyte.cell & Myelocyte & Fibroblast & Lymphocyte & Smooth.muscle.cell & Neuron & Pericyte & Adipocyte\\\\\n",
       "  & <dbl> & <dbl> & <dbl> & <dbl> & <dbl> & <dbl> & <dbl> & <dbl> & <dbl>\\\\\n",
       "\\hline\n",
       "\testimated\\_alpha & 0.2228002 & 0 & 0.2159831 & 0.5612166 & 0 & 0 & 0 & 0 & 0\\\\\n",
       "\\end{tabular}\n"
      ],
      "text/markdown": [
       "\n",
       "A data.frame: 1 × 9\n",
       "\n",
       "| <!--/--> | Endothelial.cell &lt;dbl&gt; | Cardiomyocyte.cell &lt;dbl&gt; | Myelocyte &lt;dbl&gt; | Fibroblast &lt;dbl&gt; | Lymphocyte &lt;dbl&gt; | Smooth.muscle.cell &lt;dbl&gt; | Neuron &lt;dbl&gt; | Pericyte &lt;dbl&gt; | Adipocyte &lt;dbl&gt; |\n",
       "|---|---|---|---|---|---|---|---|---|---|\n",
       "| estimated_alpha | 0.2228002 | 0 | 0.2159831 | 0.5612166 | 0 | 0 | 0 | 0 | 0 |\n",
       "\n"
      ],
      "text/plain": [
       "                Endothelial.cell Cardiomyocyte.cell Myelocyte Fibroblast\n",
       "estimated_alpha 0.2228002        0                  0.2159831 0.5612166 \n",
       "                Lymphocyte Smooth.muscle.cell Neuron Pericyte Adipocyte\n",
       "estimated_alpha 0          0                  0      0        0        "
      ]
     },
     "metadata": {},
     "output_type": "display_data"
    }
   ],
   "source": [
    "proportion"
   ]
  },
  {
   "cell_type": "code",
   "execution_count": 32,
   "metadata": {},
   "outputs": [],
   "source": [
    "dataobj <- readRDS(\"/stor//public/chenyx//HHCAd//unit_organized_fetal/Tricuspid valve.rds\")"
   ]
  },
  {
   "cell_type": "code",
   "execution_count": 33,
   "metadata": {},
   "outputs": [
    {
     "data": {
      "text/plain": [
       "\n",
       "Endothelial cell       Fibroblast       Lymphocyte        Mast cell \n",
       "              24               89                1                1 \n",
       "       Myelocyte \n",
       "              17 "
      ]
     },
     "metadata": {},
     "output_type": "display_data"
    }
   ],
   "source": [
    "table(dataobj$cell_type)"
   ]
  },
  {
   "cell_type": "code",
   "execution_count": 34,
   "metadata": {},
   "outputs": [],
   "source": [
    "Cardiomyocyte.cell <- (dataobj@assays$RNA@data[,dataobj$cell_type==\"Cardiomyocyte cell\"])\n",
    "Fibroblast <- (dataobj@assays$RNA@data[,dataobj$cell_type==\"Fibroblast\"])\n",
    "Endothelial.cell <- (dataobj@assays$RNA@data[,dataobj$cell_type==\"Endothelial cell\"])\n",
    "Myelocyte <- (dataobj@assays$RNA@data[,dataobj$cell_type==\"Myelocyte\"])\n",
    "Pericyte <- (dataobj@assays$RNA@data[,dataobj$cell_type==\"Pericyte\"])\n",
    "Smooth.muscle.cell <-(dataobj@assays$RNA@data[,dataobj$cell_type==\"Smooth muscle cell\"])\n",
    "Neuron <-(dataobj@assays$RNA@data[,dataobj$cell_type==\"Neuron\"])\n",
    "Lymphocyte <-(dataobj@assays$RNA@data[,dataobj$cell_type==\"Lymphocyte\"])\n",
    "Adipocyte <-(dataobj@assays$RNA@data[,dataobj$cell_type==\"Adipocyte\"])"
   ]
  },
  {
   "cell_type": "code",
   "execution_count": 35,
   "metadata": {},
   "outputs": [],
   "source": [
    "obj_list <- list(Cardiomyocyte.cell,Fibroblast,Endothelial.cell,Myelocyte,Pericyte,Smooth.muscle.cell,Neuron,Lymphocyte,Adipocyte)\n",
    "name_list <- c('Cardiomyocyte.cell','Fibroblast','Endothelial.cell','Myelocyte','Pericyte','Smooth.muscle.cell','Neuron','Lymphocyte','Adipocyte')"
   ]
  },
  {
   "cell_type": "code",
   "execution_count": 36,
   "metadata": {},
   "outputs": [],
   "source": [
    "expression <- as.data.frame(matrix(0,43878,50))\n",
    "row.names(expression) <- row.names(Endothelial.cell)\n",
    "for (i in 1:dim(sample_prop)[2]){\n",
    "    # generate a pseudo bulk data\n",
    "    for (j in 1: length(obj_list)){\n",
    "        # in each cell type\n",
    "        if (sample_prop[name_list[j],i]>0){\n",
    "            index <- sample(1:dim(obj_list[[j]])[2],sample_prop[name_list[j],i],replace = TRUE)\n",
    "            if (length(index)>=2){\n",
    "                v_j <- rowSums(exp(as.data.frame(obj_list[[j]][,index]))-1)\n",
    "            }else{\n",
    "                v_j <- exp(as.data.frame(obj_list[[j]][,index]))-1\n",
    "            }\n",
    "            expression[,i] <- expression[,i] + v_j\n",
    "        }\n",
    "    }\n",
    "}\n",
    "expression <- round(expression+0.5,0)"
   ]
  },
  {
   "cell_type": "code",
   "execution_count": 37,
   "metadata": {},
   "outputs": [],
   "source": [
    "write.csv(expression,paste0(\"/stor/public/chenyx//HHCAd//PseudoBulk_fetal/\",subregion,\".csv\"))"
   ]
  },
  {
   "cell_type": "code",
   "execution_count": null,
   "metadata": {},
   "outputs": [],
   "source": []
  },
  {
   "cell_type": "code",
   "execution_count": null,
   "metadata": {},
   "outputs": [],
   "source": []
  },
  {
   "cell_type": "markdown",
   "metadata": {},
   "source": [
    "# Ventricle"
   ]
  },
  {
   "cell_type": "code",
   "execution_count": 53,
   "metadata": {},
   "outputs": [],
   "source": [
    "subregion <- \"Ventricle\"\n",
    "proportion <- read.csv(\"~/HHCA_d/Code4Paper/ForWebsite/1-2/Fetal/Ventricle.csv\",row.names = 1)\n",
    "proportion <- proportion/sum(proportion)\n",
    "sample_prop <- rmultinom(50,size = 8000, prob = proportion)"
   ]
  },
  {
   "cell_type": "code",
   "execution_count": 54,
   "metadata": {},
   "outputs": [
    {
     "data": {
      "text/html": [
       "<table class=\"dataframe\">\n",
       "<caption>A data.frame: 1 × 9</caption>\n",
       "<thead>\n",
       "\t<tr><th></th><th scope=col>Endothelial.cell</th><th scope=col>Cardiomyocyte.cell</th><th scope=col>Myelocyte</th><th scope=col>Fibroblast</th><th scope=col>Lymphocyte</th><th scope=col>Smooth.muscle.cell</th><th scope=col>Neuron</th><th scope=col>Pericyte</th><th scope=col>Adipocyte</th></tr>\n",
       "\t<tr><th></th><th scope=col>&lt;dbl&gt;</th><th scope=col>&lt;dbl&gt;</th><th scope=col>&lt;dbl&gt;</th><th scope=col>&lt;dbl&gt;</th><th scope=col>&lt;dbl&gt;</th><th scope=col>&lt;dbl&gt;</th><th scope=col>&lt;dbl&gt;</th><th scope=col>&lt;dbl&gt;</th><th scope=col>&lt;dbl&gt;</th></tr>\n",
       "</thead>\n",
       "<tbody>\n",
       "\t<tr><th scope=row>estimated_alpha</th><td>0.1373784</td><td>0.408679</td><td>0.1002331</td><td>0.3054464</td><td>0.03649447</td><td>0.01176862</td><td>0</td><td>0</td><td>0</td></tr>\n",
       "</tbody>\n",
       "</table>\n"
      ],
      "text/latex": [
       "A data.frame: 1 × 9\n",
       "\\begin{tabular}{r|lllllllll}\n",
       "  & Endothelial.cell & Cardiomyocyte.cell & Myelocyte & Fibroblast & Lymphocyte & Smooth.muscle.cell & Neuron & Pericyte & Adipocyte\\\\\n",
       "  & <dbl> & <dbl> & <dbl> & <dbl> & <dbl> & <dbl> & <dbl> & <dbl> & <dbl>\\\\\n",
       "\\hline\n",
       "\testimated\\_alpha & 0.1373784 & 0.408679 & 0.1002331 & 0.3054464 & 0.03649447 & 0.01176862 & 0 & 0 & 0\\\\\n",
       "\\end{tabular}\n"
      ],
      "text/markdown": [
       "\n",
       "A data.frame: 1 × 9\n",
       "\n",
       "| <!--/--> | Endothelial.cell &lt;dbl&gt; | Cardiomyocyte.cell &lt;dbl&gt; | Myelocyte &lt;dbl&gt; | Fibroblast &lt;dbl&gt; | Lymphocyte &lt;dbl&gt; | Smooth.muscle.cell &lt;dbl&gt; | Neuron &lt;dbl&gt; | Pericyte &lt;dbl&gt; | Adipocyte &lt;dbl&gt; |\n",
       "|---|---|---|---|---|---|---|---|---|---|\n",
       "| estimated_alpha | 0.1373784 | 0.408679 | 0.1002331 | 0.3054464 | 0.03649447 | 0.01176862 | 0 | 0 | 0 |\n",
       "\n"
      ],
      "text/plain": [
       "                Endothelial.cell Cardiomyocyte.cell Myelocyte Fibroblast\n",
       "estimated_alpha 0.1373784        0.408679           0.1002331 0.3054464 \n",
       "                Lymphocyte Smooth.muscle.cell Neuron Pericyte Adipocyte\n",
       "estimated_alpha 0.03649447 0.01176862         0      0        0        "
      ]
     },
     "metadata": {},
     "output_type": "display_data"
    }
   ],
   "source": [
    "proportion"
   ]
  },
  {
   "cell_type": "code",
   "execution_count": 56,
   "metadata": {},
   "outputs": [],
   "source": [
    "dataobj.1 <- readRDS(\"/stor//public/chenyx//HHCAd//unit_organized_fetal/Left ventricle.rds\")\n",
    "dataobj.2 <- readRDS(\"/stor//public/chenyx//HHCAd//unit_organized_fetal/Right ventricle.rds\")\n",
    "dataobj.3 <- readRDS(\"/stor//public/chenyx//HHCAd//unit_organized_fetal/Interventricular septum.rds\")"
   ]
  },
  {
   "cell_type": "code",
   "execution_count": 57,
   "metadata": {},
   "outputs": [],
   "source": [
    "dataobj <- merge(dataobj.1,dataobj.2)\n",
    "dataobj <- merge(dataobj,dataobj.3)"
   ]
  },
  {
   "cell_type": "code",
   "execution_count": 58,
   "metadata": {},
   "outputs": [
    {
     "data": {
      "text/plain": [
       "\n",
       "Cardiomyocyte cell   Endothelial cell    Epithelial cell         Fibroblast \n",
       "               745                176                  1                477 \n",
       "        Lymphocyte          Mast cell          Myelocyte                 NA \n",
       "                28                 20                104                 43 \n",
       "Smooth muscle cell \n",
       "                 2 "
      ]
     },
     "metadata": {},
     "output_type": "display_data"
    }
   ],
   "source": [
    "table(dataobj$cell_type)"
   ]
  },
  {
   "cell_type": "code",
   "execution_count": 59,
   "metadata": {},
   "outputs": [],
   "source": [
    "Cardiomyocyte.cell <- (dataobj@assays$RNA@data[,dataobj$cell_type==\"Cardiomyocyte cell\"])\n",
    "Fibroblast <- (dataobj@assays$RNA@data[,dataobj$cell_type==\"Fibroblast\"])\n",
    "Endothelial.cell <- (dataobj@assays$RNA@data[,dataobj$cell_type==\"Endothelial cell\"])\n",
    "Myelocyte <- (dataobj@assays$RNA@data[,dataobj$cell_type==\"Myelocyte\"])\n",
    "Pericyte <- (dataobj@assays$RNA@data[,dataobj$cell_type==\"Pericyte\"])\n",
    "Smooth.muscle.cell <-(dataobj@assays$RNA@data[,dataobj$cell_type==\"Smooth muscle cell\"])\n",
    "Neuron <-(dataobj@assays$RNA@data[,dataobj$cell_type==\"Neuron\"])\n",
    "Lymphocyte <-(dataobj@assays$RNA@data[,dataobj$cell_type==\"Lymphocyte\"])\n",
    "Adipocyte <-(dataobj@assays$RNA@data[,dataobj$cell_type==\"Adipocyte\"])"
   ]
  },
  {
   "cell_type": "code",
   "execution_count": 60,
   "metadata": {},
   "outputs": [],
   "source": [
    "obj_list <- list(Cardiomyocyte.cell,Fibroblast,Endothelial.cell,Myelocyte,Pericyte,Smooth.muscle.cell,Neuron,Lymphocyte,Adipocyte)\n",
    "name_list <- c('Cardiomyocyte.cell','Fibroblast','Endothelial.cell','Myelocyte','Pericyte','Smooth.muscle.cell','Neuron','Lymphocyte','Adipocyte')"
   ]
  },
  {
   "cell_type": "code",
   "execution_count": 61,
   "metadata": {},
   "outputs": [],
   "source": [
    "expression <- as.data.frame(matrix(0,43878,50))\n",
    "row.names(expression) <- row.names(Endothelial.cell)\n",
    "for (i in 1:dim(sample_prop)[2]){\n",
    "    # generate a pseudo bulk data\n",
    "    for (j in 1: length(obj_list)){\n",
    "        # in each cell type\n",
    "        if (sample_prop[name_list[j],i]>0){\n",
    "            index <- sample(1:dim(obj_list[[j]])[2],sample_prop[name_list[j],i],replace = TRUE)\n",
    "            if (length(index)>=2){\n",
    "                v_j <- rowSums(exp(as.data.frame(obj_list[[j]][,index]))-1)\n",
    "            }else{\n",
    "                v_j <- exp(as.data.frame(obj_list[[j]][,index]))-1\n",
    "            }\n",
    "            expression[,i] <- expression[,i] + v_j\n",
    "        }\n",
    "    }\n",
    "}\n",
    "expression <- round(expression+0.5,0)"
   ]
  },
  {
   "cell_type": "code",
   "execution_count": null,
   "metadata": {},
   "outputs": [],
   "source": [
    "write.csv(expression,paste0(\"/stor/public/chenyx//HHCAd//PseudoBulk_fetal/\",subregion,\".csv\"))"
   ]
  },
  {
   "cell_type": "markdown",
   "metadata": {},
   "source": [
    "# Atria"
   ]
  },
  {
   "cell_type": "code",
   "execution_count": 48,
   "metadata": {},
   "outputs": [],
   "source": [
    "subregion <- \"Atria\"\n",
    "proportion <- read.csv(\"~/HHCA_d/Code4Paper/ForWebsite/1-2/Fetal/Atria.csv\",row.names = 1)\n",
    "proportion <- proportion/sum(proportion)\n",
    "sample_prop <- rmultinom(50,size = 8000, prob = proportion)"
   ]
  },
  {
   "cell_type": "code",
   "execution_count": 49,
   "metadata": {},
   "outputs": [
    {
     "data": {
      "text/html": [
       "<table class=\"dataframe\">\n",
       "<caption>A data.frame: 1 × 9</caption>\n",
       "<thead>\n",
       "\t<tr><th></th><th scope=col>Endothelial.cell</th><th scope=col>Cardiomyocyte.cell</th><th scope=col>Myelocyte</th><th scope=col>Fibroblast</th><th scope=col>Lymphocyte</th><th scope=col>Smooth.muscle.cell</th><th scope=col>Neuron</th><th scope=col>Pericyte</th><th scope=col>Adipocyte</th></tr>\n",
       "\t<tr><th></th><th scope=col>&lt;dbl&gt;</th><th scope=col>&lt;dbl&gt;</th><th scope=col>&lt;dbl&gt;</th><th scope=col>&lt;dbl&gt;</th><th scope=col>&lt;dbl&gt;</th><th scope=col>&lt;dbl&gt;</th><th scope=col>&lt;dbl&gt;</th><th scope=col>&lt;dbl&gt;</th><th scope=col>&lt;dbl&gt;</th></tr>\n",
       "</thead>\n",
       "<tbody>\n",
       "\t<tr><th scope=row>estimated_alpha</th><td>0.1322884</td><td>0.2991434</td><td>0.1609257</td><td>0.1782854</td><td>0.03517738</td><td>0.1941797</td><td>0</td><td>0</td><td>0</td></tr>\n",
       "</tbody>\n",
       "</table>\n"
      ],
      "text/latex": [
       "A data.frame: 1 × 9\n",
       "\\begin{tabular}{r|lllllllll}\n",
       "  & Endothelial.cell & Cardiomyocyte.cell & Myelocyte & Fibroblast & Lymphocyte & Smooth.muscle.cell & Neuron & Pericyte & Adipocyte\\\\\n",
       "  & <dbl> & <dbl> & <dbl> & <dbl> & <dbl> & <dbl> & <dbl> & <dbl> & <dbl>\\\\\n",
       "\\hline\n",
       "\testimated\\_alpha & 0.1322884 & 0.2991434 & 0.1609257 & 0.1782854 & 0.03517738 & 0.1941797 & 0 & 0 & 0\\\\\n",
       "\\end{tabular}\n"
      ],
      "text/markdown": [
       "\n",
       "A data.frame: 1 × 9\n",
       "\n",
       "| <!--/--> | Endothelial.cell &lt;dbl&gt; | Cardiomyocyte.cell &lt;dbl&gt; | Myelocyte &lt;dbl&gt; | Fibroblast &lt;dbl&gt; | Lymphocyte &lt;dbl&gt; | Smooth.muscle.cell &lt;dbl&gt; | Neuron &lt;dbl&gt; | Pericyte &lt;dbl&gt; | Adipocyte &lt;dbl&gt; |\n",
       "|---|---|---|---|---|---|---|---|---|---|\n",
       "| estimated_alpha | 0.1322884 | 0.2991434 | 0.1609257 | 0.1782854 | 0.03517738 | 0.1941797 | 0 | 0 | 0 |\n",
       "\n"
      ],
      "text/plain": [
       "                Endothelial.cell Cardiomyocyte.cell Myelocyte Fibroblast\n",
       "estimated_alpha 0.1322884        0.2991434          0.1609257 0.1782854 \n",
       "                Lymphocyte Smooth.muscle.cell Neuron Pericyte Adipocyte\n",
       "estimated_alpha 0.03517738 0.1941797          0      0        0        "
      ]
     },
     "metadata": {},
     "output_type": "display_data"
    }
   ],
   "source": [
    "proportion"
   ]
  },
  {
   "cell_type": "code",
   "execution_count": 51,
   "metadata": {},
   "outputs": [],
   "source": [
    "dataobj.1 <- readRDS(\"/stor//public/chenyx//HHCAd//unit_organized_fetal/Left atria.rds\")\n",
    "dataobj.2 <- readRDS(\"/stor//public/chenyx//HHCAd//unit_organized_fetal/Right atria.rds\")"
   ]
  },
  {
   "cell_type": "code",
   "execution_count": 52,
   "metadata": {},
   "outputs": [],
   "source": [
    "dataobj <- merge(dataobj.1,dataobj.2)"
   ]
  },
  {
   "cell_type": "code",
   "execution_count": 53,
   "metadata": {},
   "outputs": [
    {
     "data": {
      "text/plain": [
       "\n",
       "Cardiomyocyte cell   Endothelial cell    Epithelial cell         Fibroblast \n",
       "               847                234                 37                353 \n",
       "        Lymphocyte          Mast cell          Myelocyte                 NA \n",
       "                24                 20                 63                  2 \n",
       "Smooth muscle cell \n",
       "                28 "
      ]
     },
     "metadata": {},
     "output_type": "display_data"
    }
   ],
   "source": [
    "table(dataobj$cell_type)"
   ]
  },
  {
   "cell_type": "code",
   "execution_count": 54,
   "metadata": {},
   "outputs": [],
   "source": [
    "Cardiomyocyte.cell <- (dataobj@assays$RNA@data[,dataobj$cell_type==\"Cardiomyocyte cell\"])\n",
    "Fibroblast <- (dataobj@assays$RNA@data[,dataobj$cell_type==\"Fibroblast\"])\n",
    "Endothelial.cell <- (dataobj@assays$RNA@data[,dataobj$cell_type==\"Endothelial cell\"])\n",
    "Myelocyte <- (dataobj@assays$RNA@data[,dataobj$cell_type==\"Myelocyte\"])\n",
    "Pericyte <- (dataobj@assays$RNA@data[,dataobj$cell_type==\"Pericyte\"])\n",
    "Smooth.muscle.cell <-(dataobj@assays$RNA@data[,dataobj$cell_type==\"Smooth muscle cell\"])\n",
    "Neuron <-(dataobj@assays$RNA@data[,dataobj$cell_type==\"Neuron\"])\n",
    "Lymphocyte <-(dataobj@assays$RNA@data[,dataobj$cell_type==\"Lymphocyte\"])\n",
    "Adipocyte <-(dataobj@assays$RNA@data[,dataobj$cell_type==\"Adipocyte\"])"
   ]
  },
  {
   "cell_type": "code",
   "execution_count": 55,
   "metadata": {},
   "outputs": [],
   "source": [
    "obj_list <- list(Cardiomyocyte.cell,Fibroblast,Endothelial.cell,Myelocyte,Pericyte,Smooth.muscle.cell,Neuron,Lymphocyte,Adipocyte)\n",
    "name_list <- c('Cardiomyocyte.cell','Fibroblast','Endothelial.cell','Myelocyte','Pericyte','Smooth.muscle.cell','Neuron','Lymphocyte','Adipocyte')"
   ]
  },
  {
   "cell_type": "code",
   "execution_count": 56,
   "metadata": {},
   "outputs": [],
   "source": [
    "expression <- as.data.frame(matrix(0,43878,50))\n",
    "row.names(expression) <- row.names(Endothelial.cell)\n",
    "for (i in 1:dim(sample_prop)[2]){\n",
    "    # generate a pseudo bulk data\n",
    "    for (j in 1: length(obj_list)){\n",
    "        # in each cell type\n",
    "        if (sample_prop[name_list[j],i]>0){\n",
    "            index <- sample(1:dim(obj_list[[j]])[2],sample_prop[name_list[j],i],replace = TRUE)\n",
    "            if (length(index)>=2){\n",
    "                v_j <- rowSums(exp(as.data.frame(obj_list[[j]][,index]))-1)\n",
    "            }else{\n",
    "                v_j <- exp(as.data.frame(obj_list[[j]][,index]))-1\n",
    "            }\n",
    "            expression[,i] <- expression[,i] + v_j\n",
    "        }\n",
    "    }\n",
    "}\n",
    "expression <- round(expression+0.5,0)"
   ]
  },
  {
   "cell_type": "code",
   "execution_count": null,
   "metadata": {},
   "outputs": [],
   "source": [
    "write.csv(expression,paste0(\"/stor/public/chenyx//HHCAd//PseudoBulk_fetal/\",subregion,\".csv\"))"
   ]
  },
  {
   "cell_type": "markdown",
   "metadata": {},
   "source": [
    "# Vessel"
   ]
  },
  {
   "cell_type": "code",
   "execution_count": 38,
   "metadata": {},
   "outputs": [],
   "source": [
    "subregion <- \"Vessel\"\n",
    "proportion <- read.csv(\"~/HHCA_d/Code4Paper/ForWebsite/1-2/Fetal/Vessel.csv\",row.names = 1)\n",
    "proportion <- proportion/sum(proportion)\n",
    "sample_prop <- rmultinom(50,size = 8000, prob = proportion)"
   ]
  },
  {
   "cell_type": "code",
   "execution_count": 39,
   "metadata": {},
   "outputs": [
    {
     "data": {
      "text/html": [
       "<table class=\"dataframe\">\n",
       "<caption>A data.frame: 1 × 9</caption>\n",
       "<thead>\n",
       "\t<tr><th></th><th scope=col>Endothelial.cell</th><th scope=col>Cardiomyocyte.cell</th><th scope=col>Myelocyte</th><th scope=col>Fibroblast</th><th scope=col>Lymphocyte</th><th scope=col>Smooth.muscle.cell</th><th scope=col>Neuron</th><th scope=col>Pericyte</th><th scope=col>Adipocyte</th></tr>\n",
       "\t<tr><th></th><th scope=col>&lt;dbl&gt;</th><th scope=col>&lt;dbl&gt;</th><th scope=col>&lt;dbl&gt;</th><th scope=col>&lt;dbl&gt;</th><th scope=col>&lt;dbl&gt;</th><th scope=col>&lt;dbl&gt;</th><th scope=col>&lt;dbl&gt;</th><th scope=col>&lt;dbl&gt;</th><th scope=col>&lt;dbl&gt;</th></tr>\n",
       "</thead>\n",
       "<tbody>\n",
       "\t<tr><th scope=row>estimated_alpha</th><td>0.1001629</td><td>0.006245197</td><td>0.1556039</td><td>0.08179117</td><td>0.08179117</td><td>0.5744057</td><td>0</td><td>0</td><td>0</td></tr>\n",
       "</tbody>\n",
       "</table>\n"
      ],
      "text/latex": [
       "A data.frame: 1 × 9\n",
       "\\begin{tabular}{r|lllllllll}\n",
       "  & Endothelial.cell & Cardiomyocyte.cell & Myelocyte & Fibroblast & Lymphocyte & Smooth.muscle.cell & Neuron & Pericyte & Adipocyte\\\\\n",
       "  & <dbl> & <dbl> & <dbl> & <dbl> & <dbl> & <dbl> & <dbl> & <dbl> & <dbl>\\\\\n",
       "\\hline\n",
       "\testimated\\_alpha & 0.1001629 & 0.006245197 & 0.1556039 & 0.08179117 & 0.08179117 & 0.5744057 & 0 & 0 & 0\\\\\n",
       "\\end{tabular}\n"
      ],
      "text/markdown": [
       "\n",
       "A data.frame: 1 × 9\n",
       "\n",
       "| <!--/--> | Endothelial.cell &lt;dbl&gt; | Cardiomyocyte.cell &lt;dbl&gt; | Myelocyte &lt;dbl&gt; | Fibroblast &lt;dbl&gt; | Lymphocyte &lt;dbl&gt; | Smooth.muscle.cell &lt;dbl&gt; | Neuron &lt;dbl&gt; | Pericyte &lt;dbl&gt; | Adipocyte &lt;dbl&gt; |\n",
       "|---|---|---|---|---|---|---|---|---|---|\n",
       "| estimated_alpha | 0.1001629 | 0.006245197 | 0.1556039 | 0.08179117 | 0.08179117 | 0.5744057 | 0 | 0 | 0 |\n",
       "\n"
      ],
      "text/plain": [
       "                Endothelial.cell Cardiomyocyte.cell Myelocyte Fibroblast\n",
       "estimated_alpha 0.1001629        0.006245197        0.1556039 0.08179117\n",
       "                Lymphocyte Smooth.muscle.cell Neuron Pericyte Adipocyte\n",
       "estimated_alpha 0.08179117 0.5744057          0      0        0        "
      ]
     },
     "metadata": {},
     "output_type": "display_data"
    }
   ],
   "source": [
    "proportion"
   ]
  },
  {
   "cell_type": "code",
   "execution_count": 45,
   "metadata": {},
   "outputs": [],
   "source": [
    "dataobj.1 <- readRDS(\"/stor//public/chenyx//HHCAd//unit_organized_fetal/Aorta.rds\")\n",
    "dataobj.2 <- readRDS(\"/stor//public/chenyx//HHCAd//unit_organized_fetal/Aortic valve.rds\")\n",
    "dataobj.3 <- readRDS(\"/stor//public/chenyx//HHCAd//unit_organized_fetal/Pulmonary artery.rds\")\n",
    "dataobj.4 <- readRDS(\"/stor//public/chenyx//HHCAd//unit_organized_fetal/Pulmonary valve.rds\")"
   ]
  },
  {
   "cell_type": "code",
   "execution_count": 42,
   "metadata": {},
   "outputs": [],
   "source": [
    "dataobj <- merge(dataobj.1,dataobj.2)\n",
    "dataobj <- merge(dataobj,dataobj.3)\n",
    "dataobj <- merge(dataobj,dataobj.4)"
   ]
  },
  {
   "cell_type": "code",
   "execution_count": 43,
   "metadata": {},
   "outputs": [
    {
     "data": {
      "text/plain": [
       "\n",
       "Cardiomyocyte cell   Endothelial cell    Epithelial cell         Fibroblast \n",
       "                 3                 24                  1                190 \n",
       "        Lymphocyte          Mast cell          Myelocyte Smooth muscle cell \n",
       "                 5                 15                 34                 84 "
      ]
     },
     "metadata": {},
     "output_type": "display_data"
    }
   ],
   "source": [
    "table(dataobj$cell_type)"
   ]
  },
  {
   "cell_type": "code",
   "execution_count": 44,
   "metadata": {},
   "outputs": [],
   "source": [
    "Cardiomyocyte.cell <- (dataobj@assays$RNA@data[,dataobj$cell_type==\"Cardiomyocyte cell\"])\n",
    "Fibroblast <- (dataobj@assays$RNA@data[,dataobj$cell_type==\"Fibroblast\"])\n",
    "Endothelial.cell <- (dataobj@assays$RNA@data[,dataobj$cell_type==\"Endothelial cell\"])\n",
    "Myelocyte <- (dataobj@assays$RNA@data[,dataobj$cell_type==\"Myelocyte\"])\n",
    "Pericyte <- (dataobj@assays$RNA@data[,dataobj$cell_type==\"Pericyte\"])\n",
    "Smooth.muscle.cell <-(dataobj@assays$RNA@data[,dataobj$cell_type==\"Smooth muscle cell\"])\n",
    "Neuron <-(dataobj@assays$RNA@data[,dataobj$cell_type==\"Neuron\"])\n",
    "Lymphocyte <-(dataobj@assays$RNA@data[,dataobj$cell_type==\"Lymphocyte\"])\n",
    "Adipocyte <-(dataobj@assays$RNA@data[,dataobj$cell_type==\"Adipocyte\"])"
   ]
  },
  {
   "cell_type": "code",
   "execution_count": 46,
   "metadata": {},
   "outputs": [],
   "source": [
    "obj_list <- list(Cardiomyocyte.cell,Fibroblast,Endothelial.cell,Myelocyte,Pericyte,Smooth.muscle.cell,Neuron,Lymphocyte,Adipocyte)\n",
    "name_list <- c('Cardiomyocyte.cell','Fibroblast','Endothelial.cell','Myelocyte','Pericyte','Smooth.muscle.cell','Neuron','Lymphocyte','Adipocyte')"
   ]
  },
  {
   "cell_type": "code",
   "execution_count": 47,
   "metadata": {},
   "outputs": [],
   "source": [
    "expression <- as.data.frame(matrix(0,43878,50))\n",
    "row.names(expression) <- row.names(Endothelial.cell)\n",
    "for (i in 1:dim(sample_prop)[2]){\n",
    "    # generate a pseudo bulk data\n",
    "    for (j in 1: length(obj_list)){\n",
    "        # in each cell type\n",
    "        if (sample_prop[name_list[j],i]>0){\n",
    "            index <- sample(1:dim(obj_list[[j]])[2],sample_prop[name_list[j],i],replace = TRUE)\n",
    "            if (length(index)>=2){\n",
    "                v_j <- rowSums(exp(as.data.frame(obj_list[[j]][,index]))-1)\n",
    "            }else{\n",
    "                v_j <- exp(as.data.frame(obj_list[[j]][,index]))-1\n",
    "            }\n",
    "            expression[,i] <- expression[,i] + v_j\n",
    "        }\n",
    "    }\n",
    "}\n",
    "expression <- round(expression+0.5,0)"
   ]
  },
  {
   "cell_type": "code",
   "execution_count": null,
   "metadata": {},
   "outputs": [],
   "source": [
    "write.csv(expression,paste0(\"/stor/public/chenyx//HHCAd//PseudoBulk_fetal/\",subregion,\".csv\"))"
   ]
  },
  {
   "cell_type": "markdown",
   "metadata": {},
   "source": [
    "# Valve"
   ]
  },
  {
   "cell_type": "code",
   "execution_count": 22,
   "metadata": {},
   "outputs": [],
   "source": [
    "subregion <- \"Valve\"\n",
    "proportion <- read.csv(\"~/HHCA_d/Code4Paper/ForWebsite/1-2/Fetal/Valve.csv\",row.names = 1)\n",
    "proportion[2] <-0\n",
    "proportion[5] <-0\n",
    "proportion <- proportion/sum(proportion)\n",
    "sample_prop <- rmultinom(50,size = 8000, prob = proportion)"
   ]
  },
  {
   "cell_type": "code",
   "execution_count": 23,
   "metadata": {},
   "outputs": [
    {
     "data": {
      "text/html": [
       "<table class=\"dataframe\">\n",
       "<caption>A data.frame: 1 × 9</caption>\n",
       "<thead>\n",
       "\t<tr><th></th><th scope=col>Endothelial.cell</th><th scope=col>Cardiomyocyte.cell</th><th scope=col>Myelocyte</th><th scope=col>Fibroblast</th><th scope=col>Lymphocyte</th><th scope=col>Smooth.muscle.cell</th><th scope=col>Neuron</th><th scope=col>Pericyte</th><th scope=col>Adipocyte</th></tr>\n",
       "\t<tr><th></th><th scope=col>&lt;dbl&gt;</th><th scope=col>&lt;dbl&gt;</th><th scope=col>&lt;dbl&gt;</th><th scope=col>&lt;dbl&gt;</th><th scope=col>&lt;dbl&gt;</th><th scope=col>&lt;dbl&gt;</th><th scope=col>&lt;dbl&gt;</th><th scope=col>&lt;dbl&gt;</th><th scope=col>&lt;dbl&gt;</th></tr>\n",
       "</thead>\n",
       "<tbody>\n",
       "\t<tr><th scope=row>estimated_alpha</th><td>0.2077982</td><td>0</td><td>0.2127398</td><td>0.5794619</td><td>0</td><td>0</td><td>0</td><td>0</td><td>0</td></tr>\n",
       "</tbody>\n",
       "</table>\n"
      ],
      "text/latex": [
       "A data.frame: 1 × 9\n",
       "\\begin{tabular}{r|lllllllll}\n",
       "  & Endothelial.cell & Cardiomyocyte.cell & Myelocyte & Fibroblast & Lymphocyte & Smooth.muscle.cell & Neuron & Pericyte & Adipocyte\\\\\n",
       "  & <dbl> & <dbl> & <dbl> & <dbl> & <dbl> & <dbl> & <dbl> & <dbl> & <dbl>\\\\\n",
       "\\hline\n",
       "\testimated\\_alpha & 0.2077982 & 0 & 0.2127398 & 0.5794619 & 0 & 0 & 0 & 0 & 0\\\\\n",
       "\\end{tabular}\n"
      ],
      "text/markdown": [
       "\n",
       "A data.frame: 1 × 9\n",
       "\n",
       "| <!--/--> | Endothelial.cell &lt;dbl&gt; | Cardiomyocyte.cell &lt;dbl&gt; | Myelocyte &lt;dbl&gt; | Fibroblast &lt;dbl&gt; | Lymphocyte &lt;dbl&gt; | Smooth.muscle.cell &lt;dbl&gt; | Neuron &lt;dbl&gt; | Pericyte &lt;dbl&gt; | Adipocyte &lt;dbl&gt; |\n",
       "|---|---|---|---|---|---|---|---|---|---|\n",
       "| estimated_alpha | 0.2077982 | 0 | 0.2127398 | 0.5794619 | 0 | 0 | 0 | 0 | 0 |\n",
       "\n"
      ],
      "text/plain": [
       "                Endothelial.cell Cardiomyocyte.cell Myelocyte Fibroblast\n",
       "estimated_alpha 0.2077982        0                  0.2127398 0.5794619 \n",
       "                Lymphocyte Smooth.muscle.cell Neuron Pericyte Adipocyte\n",
       "estimated_alpha 0          0                  0      0        0        "
      ]
     },
     "metadata": {},
     "output_type": "display_data"
    }
   ],
   "source": [
    "proportion"
   ]
  },
  {
   "cell_type": "code",
   "execution_count": 24,
   "metadata": {},
   "outputs": [],
   "source": [
    "dataobj.1 <- readRDS(\"/stor//public/chenyx//HHCAd//unit_organized_fetal/Mitral valve.rds\")\n",
    "dataobj.2 <- readRDS(\"/stor//public/chenyx//HHCAd//unit_organized_fetal/Tricuspid valve.rds\")"
   ]
  },
  {
   "cell_type": "code",
   "execution_count": 25,
   "metadata": {},
   "outputs": [],
   "source": [
    "dataobj <- merge(dataobj.1,dataobj.2)"
   ]
  },
  {
   "cell_type": "code",
   "execution_count": 26,
   "metadata": {},
   "outputs": [
    {
     "data": {
      "text/plain": [
       "\n",
       "Cardiomyocyte cell   Endothelial cell         Fibroblast         Lymphocyte \n",
       "                 1                 45                177                  1 \n",
       "         Mast cell          Myelocyte \n",
       "                 2                 30 "
      ]
     },
     "metadata": {},
     "output_type": "display_data"
    }
   ],
   "source": [
    "table(dataobj$cell_type)"
   ]
  },
  {
   "cell_type": "code",
   "execution_count": 27,
   "metadata": {},
   "outputs": [],
   "source": [
    "Cardiomyocyte.cell <- (dataobj@assays$RNA@data[,dataobj$cell_type==\"Cardiomyocyte cell\"])\n",
    "Fibroblast <- (dataobj@assays$RNA@data[,dataobj$cell_type==\"Fibroblast\"])\n",
    "Endothelial.cell <- (dataobj@assays$RNA@data[,dataobj$cell_type==\"Endothelial cell\"])\n",
    "Myelocyte <- (dataobj@assays$RNA@data[,dataobj$cell_type==\"Myelocyte\"])\n",
    "Pericyte <- (dataobj@assays$RNA@data[,dataobj$cell_type==\"Pericyte\"])\n",
    "Smooth.muscle.cell <-(dataobj@assays$RNA@data[,dataobj$cell_type==\"Smooth muscle cell\"])\n",
    "Neuron <-(dataobj@assays$RNA@data[,dataobj$cell_type==\"Neuron\"])\n",
    "Lymphocyte <-(dataobj@assays$RNA@data[,dataobj$cell_type==\"Lymphocyte\"])\n",
    "Adipocyte <-(dataobj@assays$RNA@data[,dataobj$cell_type==\"Adipocyte\"])"
   ]
  },
  {
   "cell_type": "code",
   "execution_count": 28,
   "metadata": {},
   "outputs": [],
   "source": [
    "obj_list <- list(Cardiomyocyte.cell,Fibroblast,Endothelial.cell,Myelocyte,Pericyte,Smooth.muscle.cell,Neuron,Lymphocyte,Adipocyte)\n",
    "name_list <- c('Cardiomyocyte.cell','Fibroblast','Endothelial.cell','Myelocyte','Pericyte','Smooth.muscle.cell','Neuron','Lymphocyte','Adipocyte')"
   ]
  },
  {
   "cell_type": "code",
   "execution_count": 29,
   "metadata": {},
   "outputs": [],
   "source": [
    "expression <- as.data.frame(matrix(0,43878,50))\n",
    "row.names(expression) <- row.names(Endothelial.cell)\n",
    "for (i in 1:dim(sample_prop)[2]){\n",
    "    # generate a pseudo bulk data\n",
    "    for (j in 1: length(obj_list)){\n",
    "        # in each cell type\n",
    "        if (sample_prop[name_list[j],i]>0){\n",
    "            index <- sample(1:dim(obj_list[[j]])[2],sample_prop[name_list[j],i],replace = TRUE)\n",
    "            if (length(index)>=2){\n",
    "                v_j <- rowSums(exp(as.data.frame(obj_list[[j]][,index]))-1)\n",
    "            }else{\n",
    "                v_j <- exp(as.data.frame(obj_list[[j]][,index]))-1\n",
    "            }\n",
    "            expression[,i] <- expression[,i] + v_j\n",
    "        }\n",
    "    }\n",
    "}\n",
    "expression <- round(expression+0.5,0)"
   ]
  },
  {
   "cell_type": "code",
   "execution_count": null,
   "metadata": {},
   "outputs": [],
   "source": [
    "write.csv(expression,paste0(\"/stor/public/chenyx//HHCAd//PseudoBulk_fetal/\",subregion,\".csv\"))"
   ]
  }
 ],
 "metadata": {
  "kernelspec": {
   "display_name": "R4.0",
   "language": "R",
   "name": "ir3"
  },
  "language_info": {
   "codemirror_mode": "r",
   "file_extension": ".r",
   "mimetype": "text/x-r-source",
   "name": "R",
   "pygments_lexer": "r",
   "version": "4.0.3"
  }
 },
 "nbformat": 4,
 "nbformat_minor": 4
}
