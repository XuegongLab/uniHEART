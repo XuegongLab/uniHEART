{
 "cells": [
  {
   "cell_type": "code",
   "execution_count": 1,
   "metadata": {},
   "outputs": [
    {
     "name": "stderr",
     "output_type": "stream",
     "text": [
      "Loading required package: qvalue\n",
      "\n",
      "Warning message:\n",
      "“replacing previous import ‘lifecycle::last_warnings’ by ‘rlang::last_warnings’ when loading ‘tibble’”\n",
      "\n",
      "Attaching package: ‘limma’\n",
      "\n",
      "\n",
      "The following object is masked from ‘package:BiocGenerics’:\n",
      "\n",
      "    plotMA\n",
      "\n",
      "\n"
     ]
    }
   ],
   "source": [
    "suppressMessages(library(GSVA))\n",
    "suppressMessages(library(GSVAdata))\n",
    "suppressMessages(library(GSEABase))\n",
    "library(DEGseq)\n",
    "library(limma)"
   ]
  },
  {
   "cell_type": "markdown",
   "metadata": {},
   "source": [
    "# load gmt data"
   ]
  },
  {
   "cell_type": "code",
   "execution_count": 2,
   "metadata": {},
   "outputs": [],
   "source": [
    "gmt_file=\"./c5.all.v7.3.symbols.gmt\"\n",
    "geneset <- getGmt(gmt_file)  "
   ]
  },
  {
   "cell_type": "code",
   "execution_count": 3,
   "metadata": {},
   "outputs": [
    {
     "data": {
      "text/plain": [
       "GeneSetCollection\n",
       "  names: GOBP_MITOCHONDRIAL_GENOME_MAINTENANCE, GOBP_REPRODUCTION, ..., GOBP_RIBOSOMAL_LARGE_SUBUNIT_ASSEMBLY (6 total)\n",
       "  unique identifiers: AKT3, PPARGC1A, ..., TRAF7 (1575 total)\n",
       "  types in collection:\n",
       "    geneIdType: NullIdentifier (1 total)\n",
       "    collectionType: NullCollection (1 total)"
      ]
     },
     "metadata": {},
     "output_type": "display_data"
    }
   ],
   "source": [
    "head(geneset)"
   ]
  },
  {
   "cell_type": "markdown",
   "metadata": {},
   "source": [
    "# load data"
   ]
  },
  {
   "cell_type": "code",
   "execution_count": 4,
   "metadata": {},
   "outputs": [],
   "source": [
    "df <- readRDS(\"/stor/public/chenyx/HHCAd/PseudoBulk_fetal/merged_region.rds\")"
   ]
  },
  {
   "cell_type": "code",
   "execution_count": 5,
   "metadata": {},
   "outputs": [],
   "source": [
    "# preprocesssing\n",
    "for(j in 1:200){\n",
    "    df[,j] <- df[,j]/sum(df[,j])*10000\n",
    "}\n",
    "df <- round(df,3)\n",
    "\n",
    "df <- df[!rowSums(df)==0,]"
   ]
  },
  {
   "cell_type": "code",
   "execution_count": 6,
   "metadata": {},
   "outputs": [
    {
     "data": {
      "text/html": [
       "<style>\n",
       ".list-inline {list-style: none; margin:0; padding: 0}\n",
       ".list-inline>li {display: inline-block}\n",
       ".list-inline>li:not(:last-child)::after {content: \"\\00b7\"; padding: 0 .5ex}\n",
       "</style>\n",
       "<ol class=list-inline><li>20740</li><li>200</li></ol>\n"
      ],
      "text/latex": [
       "\\begin{enumerate*}\n",
       "\\item 20740\n",
       "\\item 200\n",
       "\\end{enumerate*}\n"
      ],
      "text/markdown": [
       "1. 20740\n",
       "2. 200\n",
       "\n",
       "\n"
      ],
      "text/plain": [
       "[1] 20740   200"
      ]
     },
     "metadata": {},
     "output_type": "display_data"
    }
   ],
   "source": [
    "dim(df)"
   ]
  },
  {
   "cell_type": "markdown",
   "metadata": {},
   "source": [
    "# GSVA"
   ]
  },
  {
   "cell_type": "code",
   "execution_count": 7,
   "metadata": {},
   "outputs": [
    {
     "name": "stdout",
     "output_type": "stream",
     "text": [
      "Estimating GSVA scores for 10050 gene sets.\n",
      "Estimating ECDFs with Gaussian kernels\n",
      "  |======================================================================| 100%\n",
      "\n"
     ]
    }
   ],
   "source": [
    "es <- gsva(as.matrix(df), geneset,\n",
    "                    min.sz=10, max.sz=500, verbose=TRUE)"
   ]
  },
  {
   "cell_type": "code",
   "execution_count": 8,
   "metadata": {},
   "outputs": [],
   "source": [
    "saveRDS(es,\"/stor/public/chenyx//HHCAd//GSVAresult/GSVA_matrix_region_fetal.rds\")"
   ]
  },
  {
   "cell_type": "markdown",
   "metadata": {},
   "source": [
    "# DE geneset"
   ]
  },
  {
   "cell_type": "code",
   "execution_count": 10,
   "metadata": {},
   "outputs": [],
   "source": [
    "es <- readRDS(\"/stor/public/chenyx//HHCAd//GSVAresult/GSVA_matrix_region_fetal.rds\")"
   ]
  },
  {
   "cell_type": "code",
   "execution_count": 11,
   "metadata": {},
   "outputs": [],
   "source": [
    "label <- c(rep(\"Atrium\", times=50),rep(\"Ventricle\", times=50),rep(\"Vessel\", times=50),rep(\"Valve\", times=50))"
   ]
  },
  {
   "cell_type": "markdown",
   "metadata": {},
   "source": [
    "# Atrium"
   ]
  },
  {
   "cell_type": "code",
   "execution_count": 12,
   "metadata": {},
   "outputs": [],
   "source": [
    "label_u <- label\n",
    "label_u[!label_u ==\"Atrium\"] <- \"others\"\n",
    "# analyze DE gene set on the GSVA result\n",
    "design <- model.matrix(~ factor(label_u))\n",
    "colnames(design) <- c(\"Atrium\", \"others\")\n",
    "row.names(design)<-colnames(exp)\n",
    "fit <- lmFit(es, design)\n",
    "fit <- eBayes(fit)"
   ]
  },
  {
   "cell_type": "code",
   "execution_count": 13,
   "metadata": {},
   "outputs": [],
   "source": [
    "# total\n",
    "allGeneSets <- topTable(fit,  number=Inf)\n",
    "# differential\n",
    "adjPvalueCutoff <- 0.001\n",
    "DEgeneSets <- topTable(fit,  number=Inf,\n",
    "                       p.value=adjPvalueCutoff, adjust=\"BH\")\n",
    "res <- decideTests(fit, p.value=adjPvalueCutoff)"
   ]
  },
  {
   "cell_type": "code",
   "execution_count": 14,
   "metadata": {},
   "outputs": [],
   "source": [
    "result_u <- DEgeneSets[DEgeneSets$Atrium>0,]\n",
    "result_u <- result_u[order(result_u$Atrium,decreasing = TRUE),]"
   ]
  },
  {
   "cell_type": "code",
   "execution_count": 16,
   "metadata": {},
   "outputs": [],
   "source": [
    "write.csv(result_u,\"/stor/public/chenyx/HHCAd/GSVAresult_fetal//Atrium.csv\")"
   ]
  },
  {
   "cell_type": "markdown",
   "metadata": {},
   "source": [
    "# Ventricle"
   ]
  },
  {
   "cell_type": "code",
   "execution_count": 17,
   "metadata": {},
   "outputs": [],
   "source": [
    "label_u <- label\n",
    "label_u[!label_u ==\"Ventricle\"] <- \"others\"\n",
    "# analyze DE gene set on the GSVA result\n",
    "design <- model.matrix(~ factor(label_u))\n",
    "colnames(design) <- c(\"Ventricle\", \"others\")\n",
    "row.names(design)<-colnames(exp)\n",
    "fit <- lmFit(es, design)\n",
    "fit <- eBayes(fit)"
   ]
  },
  {
   "cell_type": "code",
   "execution_count": 18,
   "metadata": {},
   "outputs": [],
   "source": [
    "# total\n",
    "allGeneSets <- topTable(fit,  number=Inf)\n",
    "# differential\n",
    "adjPvalueCutoff <- 0.001\n",
    "DEgeneSets <- topTable(fit,  number=Inf,\n",
    "                       p.value=adjPvalueCutoff, adjust=\"BH\")\n",
    "res <- decideTests(fit, p.value=adjPvalueCutoff)"
   ]
  },
  {
   "cell_type": "code",
   "execution_count": 19,
   "metadata": {},
   "outputs": [],
   "source": [
    "result_u <- DEgeneSets[DEgeneSets$Ventricle>0,]\n",
    "result_u <- result_u[order(result_u$Ventricle,decreasing = TRUE),]"
   ]
  },
  {
   "cell_type": "code",
   "execution_count": 20,
   "metadata": {},
   "outputs": [],
   "source": [
    "write.csv(result_u,\"/stor/public/chenyx/HHCAd/GSVAresult_fetal/Ventricle.csv\")"
   ]
  },
  {
   "cell_type": "markdown",
   "metadata": {},
   "source": [
    "# Vessel"
   ]
  },
  {
   "cell_type": "code",
   "execution_count": 21,
   "metadata": {},
   "outputs": [],
   "source": [
    "label_u <- label\n",
    "label_u[!label_u ==\"Vessel\"] <- \"others\"\n",
    "# analyze DE gene set on the GSVA result\n",
    "design <- model.matrix(~ factor(label_u))\n",
    "colnames(design) <- c(\"Vessel\", \"others\")\n",
    "row.names(design)<-colnames(exp)\n",
    "fit <- lmFit(es, design)\n",
    "fit <- eBayes(fit)"
   ]
  },
  {
   "cell_type": "code",
   "execution_count": 22,
   "metadata": {},
   "outputs": [],
   "source": [
    "# total\n",
    "allGeneSets <- topTable(fit,  number=Inf)\n",
    "# differential\n",
    "adjPvalueCutoff <- 0.001\n",
    "DEgeneSets <- topTable(fit,  number=Inf,\n",
    "                       p.value=adjPvalueCutoff, adjust=\"BH\")\n",
    "res <- decideTests(fit, p.value=adjPvalueCutoff)"
   ]
  },
  {
   "cell_type": "code",
   "execution_count": 23,
   "metadata": {},
   "outputs": [],
   "source": [
    "result_u <- DEgeneSets[DEgeneSets$Vessel>0,]\n",
    "result_u <- result_u[order(result_u$Vessel,decreasing = TRUE),]"
   ]
  },
  {
   "cell_type": "code",
   "execution_count": 24,
   "metadata": {},
   "outputs": [],
   "source": [
    "write.csv(result_u,\"/stor/public/chenyx/HHCAd/GSVAresult_fetal/Vessel.csv\")"
   ]
  },
  {
   "cell_type": "markdown",
   "metadata": {},
   "source": [
    "# Valve"
   ]
  },
  {
   "cell_type": "code",
   "execution_count": 26,
   "metadata": {},
   "outputs": [],
   "source": [
    "label_u <- label\n",
    "label_u[!label_u ==\"Valve\"] <- \"others\"\n",
    "# analyze DE gene set on the GSVA result\n",
    "design <- model.matrix(~ factor(label_u))\n",
    "colnames(design) <- c(\"Valve\", \"others\")\n",
    "row.names(design)<-colnames(exp)\n",
    "fit <- lmFit(es, design)\n",
    "fit <- eBayes(fit)"
   ]
  },
  {
   "cell_type": "code",
   "execution_count": 27,
   "metadata": {},
   "outputs": [],
   "source": [
    "# total\n",
    "allGeneSets <- topTable(fit,  number=Inf)\n",
    "# differential\n",
    "adjPvalueCutoff <- 0.001\n",
    "DEgeneSets <- topTable(fit,  number=Inf,\n",
    "                       p.value=adjPvalueCutoff, adjust=\"BH\")\n",
    "res <- decideTests(fit, p.value=adjPvalueCutoff)"
   ]
  },
  {
   "cell_type": "code",
   "execution_count": 28,
   "metadata": {},
   "outputs": [],
   "source": [
    "result_u <- DEgeneSets[DEgeneSets$Valve>0,]\n",
    "result_u <- result_u[order(result_u$Valve,decreasing = TRUE),]"
   ]
  },
  {
   "cell_type": "code",
   "execution_count": 29,
   "metadata": {},
   "outputs": [],
   "source": [
    "write.csv(result_u,\"/stor/public/chenyx/HHCAd/GSVAresult_fetal/Valve.csv\")"
   ]
  },
  {
   "cell_type": "code",
   "execution_count": null,
   "metadata": {},
   "outputs": [],
   "source": []
  },
  {
   "cell_type": "markdown",
   "metadata": {},
   "source": [
    "# merge"
   ]
  },
  {
   "cell_type": "code",
   "execution_count": 30,
   "metadata": {},
   "outputs": [],
   "source": [
    "result_Atrium <- read.csv(\"/stor/public/chenyx/HHCAd/GSVAresult_fetal/Atrium.csv\",row.names = 1)\n",
    "result_Ventricle <- read.csv(\"/stor/public/chenyx/HHCAd/GSVAresult_fetal/Ventricle.csv\",row.names = 1)\n",
    "result_Vessel <- read.csv(\"/stor/public/chenyx/HHCAd/GSVAresult_fetal/Vessel.csv\",row.names = 1)\n",
    "result_Valve <- read.csv(\"/stor/public/chenyx/HHCAd/GSVAresult_fetal/Valve.csv\",row.names = 1)"
   ]
  },
  {
   "cell_type": "code",
   "execution_count": 31,
   "metadata": {},
   "outputs": [],
   "source": [
    "selected_geneset <- union(row.names(result_Atrium)[1:10],row.names(result_Ventricle)[1:10])\n",
    "selected_geneset <- union(selected_geneset,row.names(result_Vessel)[1:10])\n",
    "selected_geneset <- union(selected_geneset,row.names(result_Valve)[1:10])"
   ]
  },
  {
   "cell_type": "code",
   "execution_count": 32,
   "metadata": {},
   "outputs": [
    {
     "data": {
      "text/html": [
       "40"
      ],
      "text/latex": [
       "40"
      ],
      "text/markdown": [
       "40"
      ],
      "text/plain": [
       "[1] 40"
      ]
     },
     "metadata": {},
     "output_type": "display_data"
    }
   ],
   "source": [
    "length(selected_geneset)"
   ]
  },
  {
   "cell_type": "code",
   "execution_count": 33,
   "metadata": {},
   "outputs": [],
   "source": [
    "es_selected <- es[selected_geneset,]"
   ]
  },
  {
   "cell_type": "code",
   "execution_count": 34,
   "metadata": {},
   "outputs": [],
   "source": [
    "result_all <- as.data.frame(matrix(0,nrow = dim(es_selected)[1],ncol = 4))\n",
    "for(i in 1:dim(es_selected)[1]){\n",
    "    for(j in 1:4){\n",
    "        result_all[i,j] <- mean(es_selected[i,(j*50-50+1):(j*50)])\n",
    "    }\n",
    "}\n",
    "row.names(result_all) <- row.names(es_selected)\n",
    "colnames(result_all) <- c(\"Atrium\",\"Ventricle\",\"Vessel\",\"Valve\")"
   ]
  },
  {
   "cell_type": "code",
   "execution_count": 35,
   "metadata": {},
   "outputs": [],
   "source": [
    "write.csv(result_all,\"/stor/public/chenyx/HHCAd/GSVAresult_fetal/all_region.csv\")"
   ]
  }
 ],
 "metadata": {
  "kernelspec": {
   "display_name": "R4.0",
   "language": "R",
   "name": "ir3"
  },
  "language_info": {
   "codemirror_mode": "r",
   "file_extension": ".r",
   "mimetype": "text/x-r-source",
   "name": "R",
   "pygments_lexer": "r",
   "version": "4.0.3"
  }
 },
 "nbformat": 4,
 "nbformat_minor": 4
}
