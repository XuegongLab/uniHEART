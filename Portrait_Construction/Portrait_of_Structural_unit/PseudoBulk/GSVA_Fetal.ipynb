{
 "cells": [
  {
   "cell_type": "code",
   "execution_count": 1,
   "metadata": {},
   "outputs": [
    {
     "name": "stderr",
     "output_type": "stream",
     "text": [
      "Loading required package: qvalue\n",
      "\n",
      "\n",
      "Attaching package: ‘limma’\n",
      "\n",
      "\n",
      "The following object is masked from ‘package:BiocGenerics’:\n",
      "\n",
      "    plotMA\n",
      "\n",
      "\n"
     ]
    }
   ],
   "source": [
    "suppressMessages(library(GSVA))\n",
    "suppressMessages(library(GSVAdata))\n",
    "suppressMessages(library(GSEABase))\n",
    "library(DEGseq)\n",
    "library(limma)"
   ]
  },
  {
   "cell_type": "markdown",
   "metadata": {},
   "source": [
    "# load gmt data"
   ]
  },
  {
   "cell_type": "code",
   "execution_count": 2,
   "metadata": {},
   "outputs": [],
   "source": [
    "gmt_file=\"./c5.all.v7.3.symbols.gmt\"\n",
    "geneset <- getGmt(gmt_file)  "
   ]
  },
  {
   "cell_type": "code",
   "execution_count": 3,
   "metadata": {},
   "outputs": [
    {
     "data": {
      "text/plain": [
       "GeneSetCollection\n",
       "  names: GOBP_MITOCHONDRIAL_GENOME_MAINTENANCE, GOBP_REPRODUCTION, ..., GOBP_RIBOSOMAL_LARGE_SUBUNIT_ASSEMBLY (6 total)\n",
       "  unique identifiers: AKT3, PPARGC1A, ..., TRAF7 (1575 total)\n",
       "  types in collection:\n",
       "    geneIdType: NullIdentifier (1 total)\n",
       "    collectionType: NullCollection (1 total)"
      ]
     },
     "metadata": {},
     "output_type": "display_data"
    }
   ],
   "source": [
    "head(geneset)"
   ]
  },
  {
   "cell_type": "markdown",
   "metadata": {},
   "source": [
    "# load data"
   ]
  },
  {
   "cell_type": "code",
   "execution_count": 5,
   "metadata": {},
   "outputs": [],
   "source": [
    "df <- readRDS(\"/stor/public/chenyx/HHCAd/PseudoBulk_fetal/merged.rds\")"
   ]
  },
  {
   "cell_type": "code",
   "execution_count": 8,
   "metadata": {},
   "outputs": [],
   "source": [
    "# preprocesssing\n",
    "for(j in 1:450){\n",
    "    df[,j] <- df[,j]/sum(df[,j])*10000\n",
    "}\n",
    "df <- round(df,3)\n",
    "\n",
    "df <- df[!rowSums(df)==0,]"
   ]
  },
  {
   "cell_type": "code",
   "execution_count": 7,
   "metadata": {},
   "outputs": [
    {
     "data": {
      "text/html": [
       "<style>\n",
       ".list-inline {list-style: none; margin:0; padding: 0}\n",
       ".list-inline>li {display: inline-block}\n",
       ".list-inline>li:not(:last-child)::after {content: \"\\00b7\"; padding: 0 .5ex}\n",
       "</style>\n",
       "<ol class=list-inline><li>20781</li><li>450</li></ol>\n"
      ],
      "text/latex": [
       "\\begin{enumerate*}\n",
       "\\item 20781\n",
       "\\item 450\n",
       "\\end{enumerate*}\n"
      ],
      "text/markdown": [
       "1. 20781\n",
       "2. 450\n",
       "\n",
       "\n"
      ],
      "text/plain": [
       "[1] 20781   450"
      ]
     },
     "metadata": {},
     "output_type": "display_data"
    }
   ],
   "source": [
    "dim(df)"
   ]
  },
  {
   "cell_type": "markdown",
   "metadata": {},
   "source": [
    "# GSVA"
   ]
  },
  {
   "cell_type": "code",
   "execution_count": 9,
   "metadata": {},
   "outputs": [
    {
     "name": "stdout",
     "output_type": "stream",
     "text": [
      "Estimating GSVA scores for 10039 gene sets.\n",
      "Estimating ECDFs with Gaussian kernels\n",
      "  |======================================================================| 100%\n",
      "\n"
     ]
    }
   ],
   "source": [
    "es <- gsva(as.matrix(df), geneset,\n",
    "                    min.sz=10, max.sz=500, verbose=TRUE)"
   ]
  },
  {
   "cell_type": "code",
   "execution_count": 12,
   "metadata": {},
   "outputs": [],
   "source": [
    "saveRDS(es,\"/stor/public/chenyx//HHCAd//GSVAresult/GSVA_matrix_fetal.rds\")"
   ]
  },
  {
   "cell_type": "markdown",
   "metadata": {},
   "source": [
    "# DE geneset"
   ]
  },
  {
   "cell_type": "code",
   "execution_count": 13,
   "metadata": {},
   "outputs": [],
   "source": [
    "es <- readRDS(\"/stor/public/chenyx//HHCAd//GSVAresult/GSVA_matrix_fetal.rds\")"
   ]
  },
  {
   "cell_type": "code",
   "execution_count": 14,
   "metadata": {},
   "outputs": [],
   "source": [
    "label <- c(rep(\"LV\", times=50),rep(\"IVS\", times=50),rep(\"RV\", times=50),rep(\"LA\", times=50),rep(\"RA\", times=50),rep(\"AO\", times=50),rep(\"PA\", times=50),rep(\"MV\", times=50),rep(\"TV\", times=50))"
   ]
  },
  {
   "cell_type": "markdown",
   "metadata": {},
   "source": [
    "# LV"
   ]
  },
  {
   "cell_type": "code",
   "execution_count": 15,
   "metadata": {},
   "outputs": [],
   "source": [
    "label_u <- label\n",
    "label_u[!label_u ==\"LV\"] <- \"others\"\n",
    "# analyze DE gene set on the GSVA result\n",
    "design <- model.matrix(~ factor(label_u))\n",
    "colnames(design) <- c(\"LV\", \"others\")\n",
    "row.names(design)<-colnames(exp)\n",
    "fit <- lmFit(es, design)\n",
    "fit <- eBayes(fit)"
   ]
  },
  {
   "cell_type": "code",
   "execution_count": 16,
   "metadata": {},
   "outputs": [],
   "source": [
    "# total\n",
    "allGeneSets <- topTable(fit,  number=Inf)\n",
    "# differential\n",
    "adjPvalueCutoff <- 0.001\n",
    "DEgeneSets <- topTable(fit,  number=Inf,\n",
    "                       p.value=adjPvalueCutoff, adjust=\"BH\")\n",
    "res <- decideTests(fit, p.value=adjPvalueCutoff)"
   ]
  },
  {
   "cell_type": "code",
   "execution_count": 17,
   "metadata": {},
   "outputs": [],
   "source": [
    "result_u <- DEgeneSets[DEgeneSets$LV>0,]\n",
    "result_u <- result_u[order(result_u$LV,decreasing = TRUE),]"
   ]
  },
  {
   "cell_type": "code",
   "execution_count": 18,
   "metadata": {},
   "outputs": [],
   "source": [
    "write.csv(result_u,\"/stor/public/chenyx/HHCAd/GSVAresult_fetal//LV.csv\")"
   ]
  },
  {
   "cell_type": "markdown",
   "metadata": {},
   "source": [
    "# IVS"
   ]
  },
  {
   "cell_type": "code",
   "execution_count": 19,
   "metadata": {},
   "outputs": [],
   "source": [
    "label_u <- label\n",
    "label_u[!label_u ==\"IVS\"] <- \"others\"\n",
    "# analyze DE gene set on the GSVA result\n",
    "design <- model.matrix(~ factor(label_u))\n",
    "colnames(design) <- c(\"IVS\", \"others\")\n",
    "row.names(design)<-colnames(exp)\n",
    "fit <- lmFit(es, design)\n",
    "fit <- eBayes(fit)"
   ]
  },
  {
   "cell_type": "code",
   "execution_count": 20,
   "metadata": {},
   "outputs": [],
   "source": [
    "# total\n",
    "allGeneSets <- topTable(fit,  number=Inf)\n",
    "# differential\n",
    "adjPvalueCutoff <- 0.001\n",
    "DEgeneSets <- topTable(fit,  number=Inf,\n",
    "                       p.value=adjPvalueCutoff, adjust=\"BH\")\n",
    "res <- decideTests(fit, p.value=adjPvalueCutoff)"
   ]
  },
  {
   "cell_type": "code",
   "execution_count": 21,
   "metadata": {},
   "outputs": [],
   "source": [
    "result_u <- DEgeneSets[DEgeneSets$IVS>0,]\n",
    "result_u <- result_u[order(result_u$IVS,decreasing = TRUE),]"
   ]
  },
  {
   "cell_type": "code",
   "execution_count": 22,
   "metadata": {},
   "outputs": [],
   "source": [
    "write.csv(result_u,\"/stor/public/chenyx/HHCAd/GSVAresult_fetal/IVS.csv\")"
   ]
  },
  {
   "cell_type": "markdown",
   "metadata": {},
   "source": [
    "# RV"
   ]
  },
  {
   "cell_type": "code",
   "execution_count": 23,
   "metadata": {},
   "outputs": [],
   "source": [
    "label_u <- label\n",
    "label_u[!label_u ==\"RV\"] <- \"others\"\n",
    "# analyze DE gene set on the GSVA result\n",
    "design <- model.matrix(~ factor(label_u))\n",
    "colnames(design) <- c(\"RV\", \"others\")\n",
    "row.names(design)<-colnames(exp)\n",
    "fit <- lmFit(es, design)\n",
    "fit <- eBayes(fit)"
   ]
  },
  {
   "cell_type": "code",
   "execution_count": 24,
   "metadata": {},
   "outputs": [],
   "source": [
    "# total\n",
    "allGeneSets <- topTable(fit,  number=Inf)\n",
    "# differential\n",
    "adjPvalueCutoff <- 0.001\n",
    "DEgeneSets <- topTable(fit,  number=Inf,\n",
    "                       p.value=adjPvalueCutoff, adjust=\"BH\")\n",
    "res <- decideTests(fit, p.value=adjPvalueCutoff)"
   ]
  },
  {
   "cell_type": "code",
   "execution_count": 25,
   "metadata": {},
   "outputs": [],
   "source": [
    "result_u <- DEgeneSets[DEgeneSets$RV>0,]\n",
    "result_u <- result_u[order(result_u$RV,decreasing = TRUE),]"
   ]
  },
  {
   "cell_type": "code",
   "execution_count": 26,
   "metadata": {},
   "outputs": [],
   "source": [
    "write.csv(result_u,\"/stor/public/chenyx/HHCAd/GSVAresult_fetal/RV.csv\")"
   ]
  },
  {
   "cell_type": "markdown",
   "metadata": {},
   "source": [
    "# LA"
   ]
  },
  {
   "cell_type": "code",
   "execution_count": 27,
   "metadata": {},
   "outputs": [],
   "source": [
    "label_u <- label\n",
    "label_u[!label_u ==\"LA\"] <- \"others\"\n",
    "# analyze DE gene set on the GSVA result\n",
    "design <- model.matrix(~ factor(label_u))\n",
    "colnames(design) <- c(\"LA\", \"others\")\n",
    "row.names(design)<-colnames(exp)\n",
    "fit <- lmFit(es, design)\n",
    "fit <- eBayes(fit)"
   ]
  },
  {
   "cell_type": "code",
   "execution_count": 28,
   "metadata": {},
   "outputs": [],
   "source": [
    "# total\n",
    "allGeneSets <- topTable(fit,  number=Inf)\n",
    "# differential\n",
    "adjPvalueCutoff <- 0.001\n",
    "DEgeneSets <- topTable(fit,  number=Inf,\n",
    "                       p.value=adjPvalueCutoff, adjust=\"BH\")\n",
    "res <- decideTests(fit, p.value=adjPvalueCutoff)"
   ]
  },
  {
   "cell_type": "code",
   "execution_count": 29,
   "metadata": {},
   "outputs": [],
   "source": [
    "result_u <- DEgeneSets[DEgeneSets$LA>0,]\n",
    "result_u <- result_u[order(result_u$LA,decreasing = TRUE),]"
   ]
  },
  {
   "cell_type": "code",
   "execution_count": 30,
   "metadata": {},
   "outputs": [],
   "source": [
    "write.csv(result_u,\"/stor/public/chenyx/HHCAd/GSVAresult_fetal/LA.csv\")"
   ]
  },
  {
   "cell_type": "markdown",
   "metadata": {},
   "source": [
    "# RA"
   ]
  },
  {
   "cell_type": "code",
   "execution_count": 31,
   "metadata": {},
   "outputs": [],
   "source": [
    "label_u <- label\n",
    "label_u[!label_u ==\"RA\"] <- \"others\"\n",
    "# analyze DE gene set on the GSVA result\n",
    "design <- model.matrix(~ factor(label_u))\n",
    "colnames(design) <- c(\"RA\", \"others\")\n",
    "row.names(design)<-colnames(exp)\n",
    "fit <- lmFit(es, design)\n",
    "fit <- eBayes(fit)"
   ]
  },
  {
   "cell_type": "code",
   "execution_count": 32,
   "metadata": {},
   "outputs": [],
   "source": [
    "# total\n",
    "allGeneSets <- topTable(fit,  number=Inf)\n",
    "# differential\n",
    "adjPvalueCutoff <- 0.001\n",
    "DEgeneSets <- topTable(fit,  number=Inf,\n",
    "                       p.value=adjPvalueCutoff, adjust=\"BH\")\n",
    "res <- decideTests(fit, p.value=adjPvalueCutoff)"
   ]
  },
  {
   "cell_type": "code",
   "execution_count": 33,
   "metadata": {},
   "outputs": [],
   "source": [
    "result_u <- DEgeneSets[DEgeneSets$RA>0,]\n",
    "result_u <- result_u[order(result_u$RA,decreasing = TRUE),]"
   ]
  },
  {
   "cell_type": "code",
   "execution_count": 34,
   "metadata": {},
   "outputs": [],
   "source": [
    "write.csv(result_u,\"/stor/public/chenyx/HHCAd/GSVAresult_fetal/RA.csv\")"
   ]
  },
  {
   "cell_type": "code",
   "execution_count": null,
   "metadata": {},
   "outputs": [],
   "source": []
  },
  {
   "cell_type": "code",
   "execution_count": null,
   "metadata": {},
   "outputs": [],
   "source": []
  },
  {
   "cell_type": "markdown",
   "metadata": {},
   "source": [
    "# AO"
   ]
  },
  {
   "cell_type": "code",
   "execution_count": 35,
   "metadata": {},
   "outputs": [],
   "source": [
    "label_u <- label\n",
    "label_u[!label_u ==\"AO\"] <- \"others\"\n",
    "# analyze DE gene set on the GSVA result\n",
    "design <- model.matrix(~ factor(label_u))\n",
    "colnames(design) <- c(\"AO\", \"others\")\n",
    "row.names(design)<-colnames(exp)\n",
    "fit <- lmFit(es, design)\n",
    "fit <- eBayes(fit)"
   ]
  },
  {
   "cell_type": "code",
   "execution_count": 36,
   "metadata": {},
   "outputs": [],
   "source": [
    "# total\n",
    "allGeneSets <- topTable(fit,  number=Inf)\n",
    "# differential\n",
    "adjPvalueCutoff <- 0.001\n",
    "DEgeneSets <- topTable(fit,  number=Inf,\n",
    "                       p.value=adjPvalueCutoff, adjust=\"BH\")\n",
    "res <- decideTests(fit, p.value=adjPvalueCutoff)"
   ]
  },
  {
   "cell_type": "code",
   "execution_count": 37,
   "metadata": {},
   "outputs": [],
   "source": [
    "result_u <- DEgeneSets[DEgeneSets$AO>0,]\n",
    "result_u <- result_u[order(result_u$AO,decreasing = TRUE),]"
   ]
  },
  {
   "cell_type": "code",
   "execution_count": 38,
   "metadata": {},
   "outputs": [],
   "source": [
    "write.csv(result_u,\"/stor/public/chenyx/HHCAd/GSVAresult_fetal/AO.csv\")"
   ]
  },
  {
   "cell_type": "code",
   "execution_count": null,
   "metadata": {},
   "outputs": [],
   "source": []
  },
  {
   "cell_type": "markdown",
   "metadata": {},
   "source": [
    "# PA"
   ]
  },
  {
   "cell_type": "code",
   "execution_count": 39,
   "metadata": {},
   "outputs": [],
   "source": [
    "label_u <- label\n",
    "label_u[!label_u ==\"PA\"] <- \"others\"\n",
    "# analyze DE gene set on the GSVA result\n",
    "design <- model.matrix(~ factor(label_u))\n",
    "colnames(design) <- c(\"PA\", \"others\")\n",
    "row.names(design)<-colnames(exp)\n",
    "fit <- lmFit(es, design)\n",
    "fit <- eBayes(fit)"
   ]
  },
  {
   "cell_type": "code",
   "execution_count": 40,
   "metadata": {},
   "outputs": [],
   "source": [
    "# total\n",
    "allGeneSets <- topTable(fit,  number=Inf)\n",
    "# differential\n",
    "adjPvalueCutoff <- 0.001\n",
    "DEgeneSets <- topTable(fit,  number=Inf,\n",
    "                       p.value=adjPvalueCutoff, adjust=\"BH\")\n",
    "res <- decideTests(fit, p.value=adjPvalueCutoff)"
   ]
  },
  {
   "cell_type": "code",
   "execution_count": 41,
   "metadata": {},
   "outputs": [],
   "source": [
    "result_u <- DEgeneSets[DEgeneSets$PA>0,]\n",
    "result_u <- result_u[order(result_u$PA,decreasing = TRUE),]"
   ]
  },
  {
   "cell_type": "code",
   "execution_count": 42,
   "metadata": {},
   "outputs": [],
   "source": [
    "write.csv(result_u,\"/stor/public/chenyx/HHCAd/GSVAresult_fetal/PA.csv\")"
   ]
  },
  {
   "cell_type": "code",
   "execution_count": null,
   "metadata": {},
   "outputs": [],
   "source": []
  },
  {
   "cell_type": "markdown",
   "metadata": {},
   "source": [
    "# MV"
   ]
  },
  {
   "cell_type": "code",
   "execution_count": 43,
   "metadata": {},
   "outputs": [],
   "source": [
    "label_u <- label\n",
    "label_u[!label_u ==\"MV\"] <- \"others\"\n",
    "# analyze DE gene set on the GSVA result\n",
    "design <- model.matrix(~ factor(label_u))\n",
    "colnames(design) <- c(\"MV\", \"others\")\n",
    "row.names(design)<-colnames(exp)\n",
    "fit <- lmFit(es, design)\n",
    "fit <- eBayes(fit)"
   ]
  },
  {
   "cell_type": "code",
   "execution_count": 44,
   "metadata": {},
   "outputs": [],
   "source": [
    "# total\n",
    "allGeneSets <- topTable(fit,  number=Inf)\n",
    "# differential\n",
    "adjPvalueCutoff <- 0.001\n",
    "DEgeneSets <- topTable(fit,  number=Inf,\n",
    "                       p.value=adjPvalueCutoff, adjust=\"BH\")\n",
    "res <- decideTests(fit, p.value=adjPvalueCutoff)"
   ]
  },
  {
   "cell_type": "code",
   "execution_count": 45,
   "metadata": {},
   "outputs": [],
   "source": [
    "result_u <- DEgeneSets[DEgeneSets$MV>0,]\n",
    "result_u <- result_u[order(result_u$MV,decreasing = TRUE),]"
   ]
  },
  {
   "cell_type": "code",
   "execution_count": 46,
   "metadata": {},
   "outputs": [],
   "source": [
    "write.csv(result_u,\"/stor/public/chenyx/HHCAd/GSVAresult_fetal/MV.csv\")"
   ]
  },
  {
   "cell_type": "code",
   "execution_count": null,
   "metadata": {},
   "outputs": [],
   "source": []
  },
  {
   "cell_type": "markdown",
   "metadata": {},
   "source": [
    "# TV"
   ]
  },
  {
   "cell_type": "code",
   "execution_count": 47,
   "metadata": {},
   "outputs": [],
   "source": [
    "label_u <- label\n",
    "label_u[!label_u ==\"TV\"] <- \"others\"\n",
    "# analyze DE gene set on the GSVA result\n",
    "design <- model.matrix(~ factor(label_u))\n",
    "colnames(design) <- c(\"TV\", \"others\")\n",
    "row.names(design)<-colnames(exp)\n",
    "fit <- lmFit(es, design)\n",
    "fit <- eBayes(fit)"
   ]
  },
  {
   "cell_type": "code",
   "execution_count": 48,
   "metadata": {},
   "outputs": [],
   "source": [
    "# total\n",
    "allGeneSets <- topTable(fit,  number=Inf)\n",
    "# differential\n",
    "adjPvalueCutoff <- 0.001\n",
    "DEgeneSets <- topTable(fit,  number=Inf,\n",
    "                       p.value=adjPvalueCutoff, adjust=\"BH\")\n",
    "res <- decideTests(fit, p.value=adjPvalueCutoff)"
   ]
  },
  {
   "cell_type": "code",
   "execution_count": 49,
   "metadata": {},
   "outputs": [],
   "source": [
    "result_u <- DEgeneSets[DEgeneSets$TV>0,]\n",
    "result_u <- result_u[order(result_u$TV,decreasing = TRUE),]"
   ]
  },
  {
   "cell_type": "code",
   "execution_count": 50,
   "metadata": {},
   "outputs": [],
   "source": [
    "write.csv(result_u,\"/stor/public/chenyx/HHCAd/GSVAresult_fetal/TV.csv\")"
   ]
  },
  {
   "cell_type": "code",
   "execution_count": null,
   "metadata": {},
   "outputs": [],
   "source": []
  },
  {
   "cell_type": "markdown",
   "metadata": {},
   "source": [
    "# merge"
   ]
  },
  {
   "cell_type": "code",
   "execution_count": 52,
   "metadata": {},
   "outputs": [],
   "source": [
    "result_IVS <- read.csv(\"/stor/public/chenyx/HHCAd/GSVAresult_fetal/IVS.csv\",row.names = 1)\n",
    "result_LV <- read.csv(\"/stor/public/chenyx/HHCAd/GSVAresult_fetal/LV.csv\",row.names = 1)\n",
    "result_LA <- read.csv(\"/stor/public/chenyx/HHCAd/GSVAresult_fetal/LA.csv\",row.names = 1)\n",
    "result_RV <- read.csv(\"/stor/public/chenyx/HHCAd/GSVAresult_fetal/RV.csv\",row.names = 1)\n",
    "result_RA <- read.csv(\"/stor/public/chenyx/HHCAd/GSVAresult_fetal/RA.csv\",row.names = 1)\n",
    "\n",
    "result_AO <- read.csv(\"/stor/public/chenyx/HHCAd/GSVAresult_fetal/AO.csv\",row.names = 1)\n",
    "result_PA <- read.csv(\"/stor/public/chenyx/HHCAd/GSVAresult_fetal/PA.csv\",row.names = 1)\n",
    "result_MV <- read.csv(\"/stor/public/chenyx/HHCAd/GSVAresult_fetal/MV.csv\",row.names = 1)\n",
    "result_TV <- read.csv(\"/stor/public/chenyx/HHCAd/GSVAresult_fetal/TV.csv\",row.names = 1)"
   ]
  },
  {
   "cell_type": "code",
   "execution_count": 53,
   "metadata": {},
   "outputs": [],
   "source": [
    "selected_geneset <- union(row.names(result_LV)[1:10],row.names(result_IVS)[1:10])\n",
    "selected_geneset <- union(selected_geneset,row.names(result_RV)[1:10])\n",
    "selected_geneset <- union(selected_geneset,row.names(result_LA)[1:10])\n",
    "selected_geneset <- union(selected_geneset,row.names(result_RA)[1:10])\n",
    "selected_geneset <- union(selected_geneset,row.names(result_AO)[1:10])\n",
    "selected_geneset <- union(selected_geneset,row.names(result_PA)[1:10])\n",
    "selected_geneset <- union(selected_geneset,row.names(result_MV)[1:10])\n",
    "selected_geneset <- union(selected_geneset,row.names(result_TV)[1:10])"
   ]
  },
  {
   "cell_type": "code",
   "execution_count": 54,
   "metadata": {},
   "outputs": [
    {
     "data": {
      "text/html": [
       "64"
      ],
      "text/latex": [
       "64"
      ],
      "text/markdown": [
       "64"
      ],
      "text/plain": [
       "[1] 64"
      ]
     },
     "metadata": {},
     "output_type": "display_data"
    }
   ],
   "source": [
    "length(selected_geneset)"
   ]
  },
  {
   "cell_type": "code",
   "execution_count": 55,
   "metadata": {},
   "outputs": [],
   "source": [
    "es_selected <- es[selected_geneset,]"
   ]
  },
  {
   "cell_type": "code",
   "execution_count": 57,
   "metadata": {},
   "outputs": [],
   "source": [
    "result_all <- as.data.frame(matrix(0,nrow = dim(es_selected)[1],ncol = 9))\n",
    "for(i in 1:dim(es_selected)[1]){\n",
    "    for(j in 1:9){\n",
    "        result_all[i,j] <- mean(es_selected[i,(j*50-50+1):(j*50)])\n",
    "    }\n",
    "}\n",
    "row.names(result_all) <- row.names(es_selected)\n",
    "colnames(result_all) <- c(\"LV\",\"IVS\",\"RV\",\"LA\",\"RA\",\"AO\",\"PA\",\"MV\",\"TV\")"
   ]
  },
  {
   "cell_type": "code",
   "execution_count": 58,
   "metadata": {},
   "outputs": [],
   "source": [
    "write.csv(result_all,\"/stor/public/chenyx/HHCAd/GSVAresult_fetal/all.csv\")"
   ]
  }
 ],
 "metadata": {
  "kernelspec": {
   "display_name": "R4.0",
   "language": "R",
   "name": "ir3"
  },
  "language_info": {
   "codemirror_mode": "r",
   "file_extension": ".r",
   "mimetype": "text/x-r-source",
   "name": "R",
   "pygments_lexer": "r",
   "version": "4.0.3"
  }
 },
 "nbformat": 4,
 "nbformat_minor": 4
}
