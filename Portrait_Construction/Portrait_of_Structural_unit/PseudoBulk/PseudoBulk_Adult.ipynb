{
 "cells": [
  {
   "cell_type": "code",
   "execution_count": 2,
   "metadata": {},
   "outputs": [
    {
     "name": "stderr",
     "output_type": "stream",
     "text": [
      "Attaching SeuratObject\n",
      "\n"
     ]
    }
   ],
   "source": [
    "library(Seurat)"
   ]
  },
  {
   "cell_type": "code",
   "execution_count": 3,
   "metadata": {},
   "outputs": [],
   "source": [
    "as_matrix <- function(mat){\n",
    "  \n",
    "  tmp <- matrix(data=0L, nrow = mat@Dim[1], ncol = mat@Dim[2])\n",
    "  \n",
    "  row_pos <- mat@i+1\n",
    "  col_pos <- findInterval(seq(mat@x)-1,mat@p[-1])+1\n",
    "  val <- mat@x\n",
    "  \n",
    "  for (i in seq_along(val)){\n",
    "    tmp[row_pos[i],col_pos[i]] <- val[i]\n",
    "  }\n",
    "  \n",
    "  row.names(tmp) <- mat@Dimnames[[1]]\n",
    "  colnames(tmp) <- mat@Dimnames[[2]]\n",
    "  return(tmp)\n",
    "}"
   ]
  },
  {
   "cell_type": "markdown",
   "metadata": {},
   "source": [
    "# IAS"
   ]
  },
  {
   "cell_type": "code",
   "execution_count": 7,
   "metadata": {},
   "outputs": [],
   "source": [
    "subregion <- \"Interatrial septum\"\n",
    "proportion <- read.csv(\"/stor/public/liwenrui_heart/heart_cell_proportion/Interatrial_septum.csv\",row.names = 1)\n",
    "proportion <- proportion/sum(proportion)\n",
    "sample_prop <- rmultinom(50,size = 8000, prob = proportion)"
   ]
  },
  {
   "cell_type": "code",
   "execution_count": 8,
   "metadata": {},
   "outputs": [],
   "source": [
    "dataobj <- readRDS(\"/stor//public/chenyx//HHCAd//unit_organized/IAS.seuratobj.rds\")"
   ]
  },
  {
   "cell_type": "code",
   "execution_count": 9,
   "metadata": {},
   "outputs": [
    {
     "data": {
      "text/html": [
       "<style>\n",
       ".list-inline {list-style: none; margin:0; padding: 0}\n",
       ".list-inline>li {display: inline-block}\n",
       ".list-inline>li:not(:last-child)::after {content: \"\\00b7\"; padding: 0 .5ex}\n",
       "</style>\n",
       "<ol class=list-inline><li>'Cardiomyocyte cell'</li><li>'Fibroblast'</li><li>'Endothelial cell'</li><li>'Myelocyte'</li><li>'Pericyte'</li><li>'Smooth muscle cell'</li><li>'Neuron'</li><li>'Lymphocyte'</li><li>'Adipocyte'</li></ol>\n"
      ],
      "text/latex": [
       "\\begin{enumerate*}\n",
       "\\item 'Cardiomyocyte cell'\n",
       "\\item 'Fibroblast'\n",
       "\\item 'Endothelial cell'\n",
       "\\item 'Myelocyte'\n",
       "\\item 'Pericyte'\n",
       "\\item 'Smooth muscle cell'\n",
       "\\item 'Neuron'\n",
       "\\item 'Lymphocyte'\n",
       "\\item 'Adipocyte'\n",
       "\\end{enumerate*}\n"
      ],
      "text/markdown": [
       "1. 'Cardiomyocyte cell'\n",
       "2. 'Fibroblast'\n",
       "3. 'Endothelial cell'\n",
       "4. 'Myelocyte'\n",
       "5. 'Pericyte'\n",
       "6. 'Smooth muscle cell'\n",
       "7. 'Neuron'\n",
       "8. 'Lymphocyte'\n",
       "9. 'Adipocyte'\n",
       "\n",
       "\n"
      ],
      "text/plain": [
       "[1] \"Cardiomyocyte cell\" \"Fibroblast\"         \"Endothelial cell\"  \n",
       "[4] \"Myelocyte\"          \"Pericyte\"           \"Smooth muscle cell\"\n",
       "[7] \"Neuron\"             \"Lymphocyte\"         \"Adipocyte\"         "
      ]
     },
     "metadata": {},
     "output_type": "display_data"
    }
   ],
   "source": [
    "unique(dataobj$cell_type)"
   ]
  },
  {
   "cell_type": "code",
   "execution_count": 10,
   "metadata": {},
   "outputs": [],
   "source": [
    "Cardiomyocyte.cell <- (dataobj@assays$RNA@data[,dataobj$cell_type==\"Cardiomyocyte cell\"])\n",
    "Fibroblast <- (dataobj@assays$RNA@data[,dataobj$cell_type==\"Fibroblast\"])\n",
    "Endothelial.cell <- (dataobj@assays$RNA@data[,dataobj$cell_type==\"Endothelial cell\"])\n",
    "Myelocyte <- (dataobj@assays$RNA@data[,dataobj$cell_type==\"Myelocyte\"])\n",
    "Pericyte <- (dataobj@assays$RNA@data[,dataobj$cell_type==\"Pericyte\"])\n",
    "Smooth.muscle.cell <-(dataobj@assays$RNA@data[,dataobj$cell_type==\"Smooth muscle cell\"])\n",
    "Neuron <-(dataobj@assays$RNA@data[,dataobj$cell_type==\"Neuron\"])\n",
    "Lymphocyte <-(dataobj@assays$RNA@data[,dataobj$cell_type==\"Lymphocyte\"])\n",
    "Adipocyte <-(dataobj@assays$RNA@data[,dataobj$cell_type==\"Adipocyte\"])"
   ]
  },
  {
   "cell_type": "code",
   "execution_count": 11,
   "metadata": {},
   "outputs": [],
   "source": [
    "obj_list <- list(Cardiomyocyte.cell,Fibroblast,Endothelial.cell,Myelocyte,Pericyte,Smooth.muscle.cell,Neuron,Lymphocyte,Adipocyte)\n",
    "name_list <- c('Cardiomyocyte.cell','Fibroblast','Endothelial.cell','Myelocyte','Pericyte','Smooth.muscle.cell','Neuron','Lymphocyte','Adipocyte')"
   ]
  },
  {
   "cell_type": "code",
   "execution_count": 12,
   "metadata": {},
   "outputs": [],
   "source": [
    "expression <- as.data.frame(matrix(0,43878,50))\n",
    "row.names(expression) <- row.names(Endothelial.cell)\n",
    "for (i in 1:dim(sample_prop)[2]){\n",
    "    # generate a pseudo bulk data\n",
    "    for (j in 1: length(obj_list)){\n",
    "        # in each cell type\n",
    "        if (sample_prop[name_list[j],i]>0){\n",
    "            index <- sample(1:dim(obj_list[[j]])[2],sample_prop[name_list[j],i],replace = TRUE)\n",
    "            if (length(in+dex)>=2){\n",
    "                v_j <- rowSums(exp(as.data.frame(obj_list[[j]][,index]))-1)\n",
    "            }else{\n",
    "                v_j <- exp(as.data.frame(obj_list[[j]][,index]))-1\n",
    "            }\n",
    "            expression[,i] <- expression[,i] + v_j\n",
    "        }\n",
    "    }\n",
    "}\n",
    "expression <- round(expression+0.5,0)"
   ]
  },
  {
   "cell_type": "code",
   "execution_count": 14,
   "metadata": {},
   "outputs": [],
   "source": [
    "write.csv(expression,paste0(\"/stor/public/chenyx//HHCAd//PseudoBulk/\",subregion,\".csv\"))"
   ]
  },
  {
   "cell_type": "markdown",
   "metadata": {},
   "source": [
    "# IVS"
   ]
  },
  {
   "cell_type": "code",
   "execution_count": 15,
   "metadata": {},
   "outputs": [],
   "source": [
    "subregion <- \"Interventricular septum\"\n",
    "proportion <- read.csv(\"/stor/public/liwenrui_heart/heart_cell_proportion/Interventricular_septum.csv\",row.names = 1)\n",
    "proportion <- proportion/sum(proportion)\n",
    "sample_prop <- rmultinom(50,size = 8000, prob = proportion)"
   ]
  },
  {
   "cell_type": "code",
   "execution_count": 16,
   "metadata": {},
   "outputs": [],
   "source": [
    "dataobj <- readRDS(\"/stor//public/chenyx//HHCAd//unit_organized/IVS.seuratobj.rds\")"
   ]
  },
  {
   "cell_type": "code",
   "execution_count": 17,
   "metadata": {},
   "outputs": [
    {
     "data": {
      "text/html": [
       "<style>\n",
       ".list-inline {list-style: none; margin:0; padding: 0}\n",
       ".list-inline>li {display: inline-block}\n",
       ".list-inline>li:not(:last-child)::after {content: \"\\00b7\"; padding: 0 .5ex}\n",
       "</style>\n",
       "<ol class=list-inline><li>'Cardiomyocyte cell'</li><li>'Fibroblast'</li><li>'Endothelial cell'</li><li>'Myelocyte'</li><li>'Pericyte'</li><li>'Smooth muscle cell'</li><li>'Neuron'</li><li>'Lymphocyte'</li><li>'Adipocyte'</li></ol>\n"
      ],
      "text/latex": [
       "\\begin{enumerate*}\n",
       "\\item 'Cardiomyocyte cell'\n",
       "\\item 'Fibroblast'\n",
       "\\item 'Endothelial cell'\n",
       "\\item 'Myelocyte'\n",
       "\\item 'Pericyte'\n",
       "\\item 'Smooth muscle cell'\n",
       "\\item 'Neuron'\n",
       "\\item 'Lymphocyte'\n",
       "\\item 'Adipocyte'\n",
       "\\end{enumerate*}\n"
      ],
      "text/markdown": [
       "1. 'Cardiomyocyte cell'\n",
       "2. 'Fibroblast'\n",
       "3. 'Endothelial cell'\n",
       "4. 'Myelocyte'\n",
       "5. 'Pericyte'\n",
       "6. 'Smooth muscle cell'\n",
       "7. 'Neuron'\n",
       "8. 'Lymphocyte'\n",
       "9. 'Adipocyte'\n",
       "\n",
       "\n"
      ],
      "text/plain": [
       "[1] \"Cardiomyocyte cell\" \"Fibroblast\"         \"Endothelial cell\"  \n",
       "[4] \"Myelocyte\"          \"Pericyte\"           \"Smooth muscle cell\"\n",
       "[7] \"Neuron\"             \"Lymphocyte\"         \"Adipocyte\"         "
      ]
     },
     "metadata": {},
     "output_type": "display_data"
    }
   ],
   "source": [
    "unique(dataobj$cell_type)"
   ]
  },
  {
   "cell_type": "code",
   "execution_count": 18,
   "metadata": {},
   "outputs": [],
   "source": [
    "Cardiomyocyte.cell <- (dataobj@assays$RNA@data[,dataobj$cell_type==\"Cardiomyocyte cell\"])\n",
    "Fibroblast <- (dataobj@assays$RNA@data[,dataobj$cell_type==\"Fibroblast\"])\n",
    "Endothelial.cell <- (dataobj@assays$RNA@data[,dataobj$cell_type==\"Endothelial cell\"])\n",
    "Myelocyte <- (dataobj@assays$RNA@data[,dataobj$cell_type==\"Myelocyte\"])\n",
    "Pericyte <- (dataobj@assays$RNA@data[,dataobj$cell_type==\"Pericyte\"])\n",
    "Smooth.muscle.cell <-(dataobj@assays$RNA@data[,dataobj$cell_type==\"Smooth muscle cell\"])\n",
    "Neuron <-(dataobj@assays$RNA@data[,dataobj$cell_type==\"Neuron\"])\n",
    "Lymphocyte <-(dataobj@assays$RNA@data[,dataobj$cell_type==\"Lymphocyte\"])\n",
    "Adipocyte <-(dataobj@assays$RNA@data[,dataobj$cell_type==\"Adipocyte\"])"
   ]
  },
  {
   "cell_type": "code",
   "execution_count": 19,
   "metadata": {},
   "outputs": [],
   "source": [
    "obj_list <- list(Cardiomyocyte.cell,Fibroblast,Endothelial.cell,Myelocyte,Pericyte,Smooth.muscle.cell,Neuron,Lymphocyte,Adipocyte)\n",
    "name_list <- c('Cardiomyocyte.cell','Fibroblast','Endothelial.cell','Myelocyte','Pericyte','Smooth.muscle.cell','Neuron','Lymphocyte','Adipocyte')"
   ]
  },
  {
   "cell_type": "code",
   "execution_count": 20,
   "metadata": {},
   "outputs": [],
   "source": [
    "expression <- as.data.frame(matrix(0,43878,50))\n",
    "row.names(expression) <- row.names(Endothelial.cell)\n",
    "for (i in 1:dim(sample_prop)[2]){\n",
    "    # generate a pseudo bulk data\n",
    "    for (j in 1: length(obj_list)){\n",
    "        # in each cell type\n",
    "        if (sample_prop[name_list[j],i]>0){\n",
    "            index <- sample(1:dim(obj_list[[j]])[2],sample_prop[name_list[j],i],replace = TRUE)\n",
    "            if (length(index)>=2){\n",
    "                v_j <- rowSums(exp(as.data.frame(obj_list[[j]][,index]))-1)\n",
    "            }else{\n",
    "                v_j <- exp(as.data.frame(obj_list[[j]][,index]))-1\n",
    "            }\n",
    "            expression[,i] <- expression[,i] + v_j\n",
    "        }\n",
    "    }\n",
    "}\n",
    "expression <- round(expression+0.5,0)"
   ]
  },
  {
   "cell_type": "code",
   "execution_count": 21,
   "metadata": {},
   "outputs": [],
   "source": [
    "write.csv(expression,paste0(\"/stor/public/chenyx//HHCAd//PseudoBulk/\",subregion,\".csv\"))"
   ]
  },
  {
   "cell_type": "markdown",
   "metadata": {},
   "source": [
    "# RA"
   ]
  },
  {
   "cell_type": "code",
   "execution_count": 22,
   "metadata": {},
   "outputs": [],
   "source": [
    "subregion <- \"Right atria\"\n",
    "proportion <- read.csv(\"/stor/public/liwenrui_heart/heart_cell_proportion/Right_atria.csv\",row.names = 1)\n",
    "proportion <- proportion/sum(proportion)\n",
    "sample_prop <- rmultinom(50,size = 8000, prob = proportion)"
   ]
  },
  {
   "cell_type": "code",
   "execution_count": 23,
   "metadata": {},
   "outputs": [],
   "source": [
    "dataobj <- readRDS(\"/stor//public/chenyx//HHCAd//unit_organized/RA.seuratobj.rds\")"
   ]
  },
  {
   "cell_type": "code",
   "execution_count": 24,
   "metadata": {},
   "outputs": [
    {
     "data": {
      "text/html": [
       "<style>\n",
       ".list-inline {list-style: none; margin:0; padding: 0}\n",
       ".list-inline>li {display: inline-block}\n",
       ".list-inline>li:not(:last-child)::after {content: \"\\00b7\"; padding: 0 .5ex}\n",
       "</style>\n",
       "<ol class=list-inline><li>'Cardiomyocyte cell'</li><li>'Fibroblast'</li><li>'Endothelial cell'</li><li>'Myelocyte'</li><li>'Pericyte'</li><li>'Smooth muscle cell'</li><li>'Neuron'</li><li>'Lymphocyte'</li><li>'Adipocyte'</li></ol>\n"
      ],
      "text/latex": [
       "\\begin{enumerate*}\n",
       "\\item 'Cardiomyocyte cell'\n",
       "\\item 'Fibroblast'\n",
       "\\item 'Endothelial cell'\n",
       "\\item 'Myelocyte'\n",
       "\\item 'Pericyte'\n",
       "\\item 'Smooth muscle cell'\n",
       "\\item 'Neuron'\n",
       "\\item 'Lymphocyte'\n",
       "\\item 'Adipocyte'\n",
       "\\end{enumerate*}\n"
      ],
      "text/markdown": [
       "1. 'Cardiomyocyte cell'\n",
       "2. 'Fibroblast'\n",
       "3. 'Endothelial cell'\n",
       "4. 'Myelocyte'\n",
       "5. 'Pericyte'\n",
       "6. 'Smooth muscle cell'\n",
       "7. 'Neuron'\n",
       "8. 'Lymphocyte'\n",
       "9. 'Adipocyte'\n",
       "\n",
       "\n"
      ],
      "text/plain": [
       "[1] \"Cardiomyocyte cell\" \"Fibroblast\"         \"Endothelial cell\"  \n",
       "[4] \"Myelocyte\"          \"Pericyte\"           \"Smooth muscle cell\"\n",
       "[7] \"Neuron\"             \"Lymphocyte\"         \"Adipocyte\"         "
      ]
     },
     "metadata": {},
     "output_type": "display_data"
    }
   ],
   "source": [
    "unique(dataobj$cell_type)"
   ]
  },
  {
   "cell_type": "code",
   "execution_count": 25,
   "metadata": {},
   "outputs": [],
   "source": [
    "Cardiomyocyte.cell <- (dataobj@assays$RNA@data[,dataobj$cell_type==\"Cardiomyocyte cell\"])\n",
    "Fibroblast <- (dataobj@assays$RNA@data[,dataobj$cell_type==\"Fibroblast\"])\n",
    "Endothelial.cell <- (dataobj@assays$RNA@data[,dataobj$cell_type==\"Endothelial cell\"])\n",
    "Myelocyte <- (dataobj@assays$RNA@data[,dataobj$cell_type==\"Myelocyte\"])\n",
    "Pericyte <- (dataobj@assays$RNA@data[,dataobj$cell_type==\"Pericyte\"])\n",
    "Smooth.muscle.cell <-(dataobj@assays$RNA@data[,dataobj$cell_type==\"Smooth muscle cell\"])\n",
    "Neuron <-(dataobj@assays$RNA@data[,dataobj$cell_type==\"Neuron\"])\n",
    "Lymphocyte <-(dataobj@assays$RNA@data[,dataobj$cell_type==\"Lymphocyte\"])\n",
    "Adipocyte <-(dataobj@assays$RNA@data[,dataobj$cell_type==\"Adipocyte\"])"
   ]
  },
  {
   "cell_type": "code",
   "execution_count": 26,
   "metadata": {},
   "outputs": [],
   "source": [
    "obj_list <- list(Cardiomyocyte.cell,Fibroblast,Endothelial.cell,Myelocyte,Pericyte,Smooth.muscle.cell,Neuron,Lymphocyte,Adipocyte)\n",
    "name_list <- c('Cardiomyocyte.cell','Fibroblast','Endothelial.cell','Myelocyte','Pericyte','Smooth.muscle.cell','Neuron','Lymphocyte','Adipocyte')"
   ]
  },
  {
   "cell_type": "code",
   "execution_count": 27,
   "metadata": {},
   "outputs": [],
   "source": [
    "expression <- as.data.frame(matrix(0,43878,50))\n",
    "row.names(expression) <- row.names(Endothelial.cell)\n",
    "for (i in 1:dim(sample_prop)[2]){\n",
    "    # generate a pseudo bulk data\n",
    "    for (j in 1: length(obj_list)){\n",
    "        # in each cell type\n",
    "        if (sample_prop[name_list[j],i]>0){\n",
    "            index <- sample(1:dim(obj_list[[j]])[2],sample_prop[name_list[j],i],replace = TRUE)\n",
    "            if (length(index)>=2){\n",
    "                v_j <- rowSums(exp(as.data.frame(obj_list[[j]][,index]))-1)\n",
    "            }else{\n",
    "                v_j <- exp(as.data.frame(obj_list[[j]][,index]))-1\n",
    "            }\n",
    "            expression[,i] <- expression[,i] + v_j\n",
    "        }\n",
    "    }\n",
    "}\n",
    "expression <- round(expression+0.5,0)"
   ]
  },
  {
   "cell_type": "code",
   "execution_count": 28,
   "metadata": {},
   "outputs": [],
   "source": [
    "write.csv(expression,paste0(\"/stor/public/chenyx//HHCAd//PseudoBulk/\",subregion,\".csv\"))"
   ]
  },
  {
   "cell_type": "markdown",
   "metadata": {},
   "source": [
    "# RV"
   ]
  },
  {
   "cell_type": "code",
   "execution_count": 29,
   "metadata": {},
   "outputs": [],
   "source": [
    "subregion <- \"Right ventricle\"\n",
    "proportion <- read.csv(\"/stor/public/liwenrui_heart/heart_cell_proportion/Right_ventricle.csv\",row.names = 1)\n",
    "proportion <- proportion/sum(proportion)\n",
    "sample_prop <- rmultinom(50,size = 8000, prob = proportion)"
   ]
  },
  {
   "cell_type": "code",
   "execution_count": 30,
   "metadata": {},
   "outputs": [],
   "source": [
    "dataobj <- readRDS(\"/stor//public/chenyx//HHCAd//unit_organized/RV.seuratobj.rds\")"
   ]
  },
  {
   "cell_type": "code",
   "execution_count": 31,
   "metadata": {},
   "outputs": [
    {
     "data": {
      "text/html": [
       "<style>\n",
       ".list-inline {list-style: none; margin:0; padding: 0}\n",
       ".list-inline>li {display: inline-block}\n",
       ".list-inline>li:not(:last-child)::after {content: \"\\00b7\"; padding: 0 .5ex}\n",
       "</style>\n",
       "<ol class=list-inline><li>'Cardiomyocyte cell'</li><li>'Fibroblast'</li><li>'Endothelial cell'</li><li>'Myelocyte'</li><li>'Pericyte'</li><li>'Smooth muscle cell'</li><li>'Neuron'</li><li>'Lymphocyte'</li><li>'Adipocyte'</li></ol>\n"
      ],
      "text/latex": [
       "\\begin{enumerate*}\n",
       "\\item 'Cardiomyocyte cell'\n",
       "\\item 'Fibroblast'\n",
       "\\item 'Endothelial cell'\n",
       "\\item 'Myelocyte'\n",
       "\\item 'Pericyte'\n",
       "\\item 'Smooth muscle cell'\n",
       "\\item 'Neuron'\n",
       "\\item 'Lymphocyte'\n",
       "\\item 'Adipocyte'\n",
       "\\end{enumerate*}\n"
      ],
      "text/markdown": [
       "1. 'Cardiomyocyte cell'\n",
       "2. 'Fibroblast'\n",
       "3. 'Endothelial cell'\n",
       "4. 'Myelocyte'\n",
       "5. 'Pericyte'\n",
       "6. 'Smooth muscle cell'\n",
       "7. 'Neuron'\n",
       "8. 'Lymphocyte'\n",
       "9. 'Adipocyte'\n",
       "\n",
       "\n"
      ],
      "text/plain": [
       "[1] \"Cardiomyocyte cell\" \"Fibroblast\"         \"Endothelial cell\"  \n",
       "[4] \"Myelocyte\"          \"Pericyte\"           \"Smooth muscle cell\"\n",
       "[7] \"Neuron\"             \"Lymphocyte\"         \"Adipocyte\"         "
      ]
     },
     "metadata": {},
     "output_type": "display_data"
    }
   ],
   "source": [
    "unique(dataobj$cell_type)"
   ]
  },
  {
   "cell_type": "code",
   "execution_count": 32,
   "metadata": {},
   "outputs": [],
   "source": [
    "Cardiomyocyte.cell <- (dataobj@assays$RNA@data[,dataobj$cell_type==\"Cardiomyocyte cell\"])\n",
    "Fibroblast <- (dataobj@assays$RNA@data[,dataobj$cell_type==\"Fibroblast\"])\n",
    "Endothelial.cell <- (dataobj@assays$RNA@data[,dataobj$cell_type==\"Endothelial cell\"])\n",
    "Myelocyte <- (dataobj@assays$RNA@data[,dataobj$cell_type==\"Myelocyte\"])\n",
    "Pericyte <- (dataobj@assays$RNA@data[,dataobj$cell_type==\"Pericyte\"])\n",
    "Smooth.muscle.cell <-(dataobj@assays$RNA@data[,dataobj$cell_type==\"Smooth muscle cell\"])\n",
    "Neuron <-(dataobj@assays$RNA@data[,dataobj$cell_type==\"Neuron\"])\n",
    "Lymphocyte <-(dataobj@assays$RNA@data[,dataobj$cell_type==\"Lymphocyte\"])\n",
    "Adipocyte <-(dataobj@assays$RNA@data[,dataobj$cell_type==\"Adipocyte\"])"
   ]
  },
  {
   "cell_type": "code",
   "execution_count": 33,
   "metadata": {},
   "outputs": [],
   "source": [
    "obj_list <- list(Cardiomyocyte.cell,Fibroblast,Endothelial.cell,Myelocyte,Pericyte,Smooth.muscle.cell,Neuron,Lymphocyte,Adipocyte)\n",
    "name_list <- c('Cardiomyocyte.cell','Fibroblast','Endothelial.cell','Myelocyte','Pericyte','Smooth.muscle.cell','Neuron','Lymphocyte','Adipocyte')"
   ]
  },
  {
   "cell_type": "code",
   "execution_count": 34,
   "metadata": {},
   "outputs": [],
   "source": [
    "expression <- as.data.frame(matrix(0,43878,50))\n",
    "row.names(expression) <- row.names(Endothelial.cell)\n",
    "for (i in 1:dim(sample_prop)[2]){\n",
    "    # generate a pseudo bulk data\n",
    "    for (j in 1: length(obj_list)){\n",
    "        # in each cell type\n",
    "        if (sample_prop[name_list[j],i]>0){\n",
    "            index <- sample(1:dim(obj_list[[j]])[2],sample_prop[name_list[j],i],replace = TRUE)\n",
    "            if (length(index)>=2){\n",
    "                v_j <- rowSums(exp(as.data.frame(obj_list[[j]][,index]))-1)\n",
    "            }else{\n",
    "                v_j <- exp(as.data.frame(obj_list[[j]][,index]))-1\n",
    "            }\n",
    "            expression[,i] <- expression[,i] + v_j\n",
    "        }\n",
    "    }\n",
    "}\n",
    "expression <- round(expression+0.5,0)"
   ]
  },
  {
   "cell_type": "code",
   "execution_count": 35,
   "metadata": {},
   "outputs": [],
   "source": [
    "write.csv(expression,paste0(\"/stor/public/chenyx//HHCAd//PseudoBulk/\",subregion,\".csv\"))"
   ]
  },
  {
   "cell_type": "markdown",
   "metadata": {},
   "source": [
    "# LA"
   ]
  },
  {
   "cell_type": "code",
   "execution_count": 36,
   "metadata": {},
   "outputs": [],
   "source": [
    "subregion <- \"Left atria\"\n",
    "proportion <- read.csv(\"/stor/public/liwenrui_heart/heart_cell_proportion/LA.csv\",row.names = 1)\n",
    "proportion <- proportion/sum(proportion)\n",
    "sample_prop <- rmultinom(50,size = 8000, prob = proportion)"
   ]
  },
  {
   "cell_type": "code",
   "execution_count": 37,
   "metadata": {},
   "outputs": [],
   "source": [
    "dataobj <- readRDS(\"/stor//public/chenyx//HHCAd//unit_organized/LA.seuratobj.rds\")"
   ]
  },
  {
   "cell_type": "code",
   "execution_count": 38,
   "metadata": {},
   "outputs": [],
   "source": [
    "Cardiomyocyte.cell <- (dataobj@assays$RNA@data[,dataobj$cell_type==\"Cardiomyocyte cell\"])\n",
    "Fibroblast <- (dataobj@assays$RNA@data[,dataobj$cell_type==\"Fibroblast\"])\n",
    "Endothelial.cell <- (dataobj@assays$RNA@data[,dataobj$cell_type==\"Endothelial cell\"])\n",
    "Myelocyte <- (dataobj@assays$RNA@data[,dataobj$cell_type==\"Myelocyte\"])\n",
    "Pericyte <- (dataobj@assays$RNA@data[,dataobj$cell_type==\"Pericyte\"])\n",
    "Smooth.muscle.cell <-(dataobj@assays$RNA@data[,dataobj$cell_type==\"Smooth muscle cell\"])\n",
    "Neuron <-(dataobj@assays$RNA@data[,dataobj$cell_type==\"Neuron\"])\n",
    "Lymphocyte <-(dataobj@assays$RNA@data[,dataobj$cell_type==\"Lymphocyte\"])\n",
    "Adipocyte <-(dataobj@assays$RNA@data[,dataobj$cell_type==\"Adipocyte\"])"
   ]
  },
  {
   "cell_type": "code",
   "execution_count": 39,
   "metadata": {},
   "outputs": [],
   "source": [
    "obj_list <- list(Cardiomyocyte.cell,Fibroblast,Endothelial.cell,Myelocyte,Pericyte,Smooth.muscle.cell,Neuron,Lymphocyte,Adipocyte)\n",
    "name_list <- c('Cardiomyocyte.cell','Fibroblast','Endothelial.cell','Myelocyte','Pericyte','Smooth.muscle.cell','Neuron','Lymphocyte','Adipocyte')"
   ]
  },
  {
   "cell_type": "code",
   "execution_count": 40,
   "metadata": {},
   "outputs": [],
   "source": [
    "expression <- as.data.frame(matrix(0,43878,50))\n",
    "row.names(expression) <- row.names(Endothelial.cell)\n",
    "for (i in 1:dim(sample_prop)[2]){\n",
    "    # generate a pseudo bulk data\n",
    "    for (j in 1: length(obj_list)){\n",
    "        # in each cell type\n",
    "        if (sample_prop[name_list[j],i]>0){\n",
    "            index <- sample(1:dim(obj_list[[j]])[2],sample_prop[name_list[j],i],replace = TRUE)\n",
    "            if (length(index)>=2){\n",
    "                v_j <- rowSums(exp(as.data.frame(obj_list[[j]][,index]))-1)\n",
    "            }else{\n",
    "                v_j <- exp(as.data.frame(obj_list[[j]][,index]))-1\n",
    "            }\n",
    "            expression[,i] <- expression[,i] + v_j\n",
    "        }\n",
    "    }\n",
    "}\n",
    "expression <- round(expression+0.5,0)"
   ]
  },
  {
   "cell_type": "code",
   "execution_count": 41,
   "metadata": {},
   "outputs": [],
   "source": [
    "write.csv(expression,paste0(\"/stor/public/chenyx//HHCAd//PseudoBulk/\",subregion,\".csv\"))"
   ]
  },
  {
   "cell_type": "markdown",
   "metadata": {},
   "source": [
    "# LV"
   ]
  },
  {
   "cell_type": "code",
   "execution_count": 42,
   "metadata": {},
   "outputs": [],
   "source": [
    "subregion <- \"Left ventricle\"\n",
    "proportion <- read.csv(\"/stor/public/liwenrui_heart/heart_cell_proportion/LV.csv\",row.names = 1)\n",
    "proportion <- proportion/sum(proportion)\n",
    "sample_prop <- rmultinom(50,size = 8000, prob = proportion)"
   ]
  },
  {
   "cell_type": "code",
   "execution_count": 43,
   "metadata": {},
   "outputs": [],
   "source": [
    "dataobj <- readRDS(\"/stor//public/chenyx//HHCAd//unit_organized/LV.seuratobj.rds\")"
   ]
  },
  {
   "cell_type": "code",
   "execution_count": 44,
   "metadata": {},
   "outputs": [],
   "source": [
    "Cardiomyocyte.cell <- (dataobj@assays$RNA@data[,dataobj$cell_type==\"Cardiomyocyte cell\"])\n",
    "Fibroblast <- (dataobj@assays$RNA@data[,dataobj$cell_type==\"Fibroblast\"])\n",
    "Endothelial.cell <- (dataobj@assays$RNA@data[,dataobj$cell_type==\"Endothelial cell\"])\n",
    "Myelocyte <- (dataobj@assays$RNA@data[,dataobj$cell_type==\"Myelocyte\"])\n",
    "Pericyte <- (dataobj@assays$RNA@data[,dataobj$cell_type==\"Pericyte\"])\n",
    "Smooth.muscle.cell <-(dataobj@assays$RNA@data[,dataobj$cell_type==\"Smooth muscle cell\"])\n",
    "Neuron <-(dataobj@assays$RNA@data[,dataobj$cell_type==\"Neuron\"])\n",
    "Lymphocyte <-(dataobj@assays$RNA@data[,dataobj$cell_type==\"Lymphocyte\"])\n",
    "Adipocyte <-(dataobj@assays$RNA@data[,dataobj$cell_type==\"Adipocyte\"])"
   ]
  },
  {
   "cell_type": "code",
   "execution_count": 45,
   "metadata": {},
   "outputs": [],
   "source": [
    "obj_list <- list(Cardiomyocyte.cell,Fibroblast,Endothelial.cell,Myelocyte,Pericyte,Smooth.muscle.cell,Neuron,Lymphocyte,Adipocyte)\n",
    "name_list <- c('Cardiomyocyte.cell','Fibroblast','Endothelial.cell','Myelocyte','Pericyte','Smooth.muscle.cell','Neuron','Lymphocyte','Adipocyte')"
   ]
  },
  {
   "cell_type": "code",
   "execution_count": 46,
   "metadata": {},
   "outputs": [],
   "source": [
    "expression <- as.data.frame(matrix(0,43878,50))\n",
    "row.names(expression) <- row.names(Endothelial.cell)\n",
    "for (i in 1:dim(sample_prop)[2]){\n",
    "    # generate a pseudo bulk data\n",
    "    for (j in 1: length(obj_list)){\n",
    "        # in each cell type\n",
    "        if (sample_prop[name_list[j],i]>0){\n",
    "            index <- sample(1:dim(obj_list[[j]])[2],sample_prop[name_list[j],i],replace = TRUE)\n",
    "            if (length(index)>=2){\n",
    "                v_j <- rowSums(exp(as.data.frame(obj_list[[j]][,index]))-1)\n",
    "            }else{\n",
    "                v_j <- exp(as.data.frame(obj_list[[j]][,index]))-1\n",
    "            }\n",
    "            expression[,i] <- expression[,i] + v_j\n",
    "        }\n",
    "    }\n",
    "}\n",
    "expression <- round(expression+0.5,0)"
   ]
  },
  {
   "cell_type": "code",
   "execution_count": 47,
   "metadata": {},
   "outputs": [],
   "source": [
    "write.csv(expression,paste0(\"/stor/public/chenyx//HHCAd//PseudoBulk/\",subregion,\".csv\"))"
   ]
  },
  {
   "cell_type": "code",
   "execution_count": null,
   "metadata": {},
   "outputs": [],
   "source": []
  },
  {
   "cell_type": "code",
   "execution_count": null,
   "metadata": {},
   "outputs": [],
   "source": []
  },
  {
   "cell_type": "markdown",
   "metadata": {},
   "source": [
    "# Atria"
   ]
  },
  {
   "cell_type": "code",
   "execution_count": 7,
   "metadata": {},
   "outputs": [],
   "source": [
    "region = \"Atria\"\n",
    "proportion <- read.csv(\"~/HHCA_d/Code4Paper/ForWebsite/1-2/Atria.csv\",row.names = 1)\n",
    "proportion <- proportion/sum(proportion)\n",
    "sample_prop <- rmultinom(50,size = 8000, prob = proportion)"
   ]
  },
  {
   "cell_type": "code",
   "execution_count": 8,
   "metadata": {},
   "outputs": [],
   "source": [
    "dataobj.LA <- readRDS(\"/stor//public/chenyx//HHCAd//unit_organized/LA.seuratobj.rds\")\n",
    "dataobj.RA <- readRDS(\"/stor//public/chenyx//HHCAd//unit_organized/RA.seuratobj.rds\")\n",
    "dataobj.IAS <- readRDS(\"/stor//public/chenyx//HHCAd//unit_organized/IAS.seuratobj.rds\")"
   ]
  },
  {
   "cell_type": "code",
   "execution_count": 9,
   "metadata": {},
   "outputs": [
    {
     "name": "stderr",
     "output_type": "stream",
     "text": [
      "Warning message in CheckDuplicateCellNames(object.list = objects):\n",
      "“Some cell names are duplicated across objects provided. Renaming to enforce unique cell names.”\n"
     ]
    }
   ],
   "source": [
    "dataobj <- merge(dataobj.LA,dataobj.RA)\n",
    "dataobj <- merge(dataobj,dataobj.IAS)"
   ]
  },
  {
   "cell_type": "code",
   "execution_count": 10,
   "metadata": {},
   "outputs": [],
   "source": [
    "rm(dataobj.LA)\n",
    "rm(dataobj.RA)\n",
    "rm(dataobj.IAS)"
   ]
  },
  {
   "cell_type": "code",
   "execution_count": 11,
   "metadata": {},
   "outputs": [],
   "source": [
    "Cardiomyocyte.cell <- (dataobj@assays$RNA@data[,dataobj$cell_type==\"Cardiomyocyte cell\"])\n",
    "Fibroblast <- (dataobj@assays$RNA@data[,dataobj$cell_type==\"Fibroblast\"])\n",
    "Endothelial.cell <- (dataobj@assays$RNA@data[,dataobj$cell_type==\"Endothelial cell\"])\n",
    "Myelocyte <- (dataobj@assays$RNA@data[,dataobj$cell_type==\"Myelocyte\"])\n",
    "Pericyte <- (dataobj@assays$RNA@data[,dataobj$cell_type==\"Pericyte\"])\n",
    "Smooth.muscle.cell <-(dataobj@assays$RNA@data[,dataobj$cell_type==\"Smooth muscle cell\"])\n",
    "Neuron <-(dataobj@assays$RNA@data[,dataobj$cell_type==\"Neuron\"])\n",
    "Lymphocyte <-(dataobj@assays$RNA@data[,dataobj$cell_type==\"Lymphocyte\"])\n",
    "Adipocyte <-(dataobj@assays$RNA@data[,dataobj$cell_type==\"Adipocyte\"])"
   ]
  },
  {
   "cell_type": "code",
   "execution_count": 12,
   "metadata": {},
   "outputs": [],
   "source": [
    "obj_list <- list(Cardiomyocyte.cell,Fibroblast,Endothelial.cell,Myelocyte,Pericyte,Smooth.muscle.cell,Neuron,Lymphocyte,Adipocyte)\n",
    "name_list <- c('Cardiomyocyte.cell','Fibroblast','Endothelial.cell','Myelocyte','Pericyte','Smooth.muscle.cell','Neuron','Lymphocyte','Adipocyte')"
   ]
  },
  {
   "cell_type": "code",
   "execution_count": 13,
   "metadata": {},
   "outputs": [],
   "source": [
    "rm(dataobj)"
   ]
  },
  {
   "cell_type": "code",
   "execution_count": 14,
   "metadata": {},
   "outputs": [],
   "source": [
    "expression <- as.data.frame(matrix(0,43878,50))\n",
    "row.names(expression) <- row.names(Endothelial.cell)\n",
    "for (i in 1:dim(sample_prop)[2]){\n",
    "    # generate a pseudo bulk data\n",
    "    for (j in 1: length(obj_list)){\n",
    "        # in each cell type\n",
    "        if (sample_prop[name_list[j],i]>0){\n",
    "            index <- sample(1:dim(obj_list[[j]])[2],sample_prop[name_list[j],i],replace = TRUE)\n",
    "            if (length(index)>=2){\n",
    "                v_j <- rowSums(exp(as.data.frame(obj_list[[j]][,index]))-1)\n",
    "            }else{\n",
    "                v_j <- exp(as.data.frame(obj_list[[j]][,index]))-1\n",
    "            }\n",
    "            expression[,i] <- expression[,i] + v_j\n",
    "        }\n",
    "    }\n",
    "}\n",
    "expression <- round(expression+0.5,0)"
   ]
  },
  {
   "cell_type": "code",
   "execution_count": 15,
   "metadata": {},
   "outputs": [],
   "source": [
    "write.csv(expression,paste0(\"/stor/public/chenyx//HHCAd//PseudoBulk/\",region,\".csv\"))"
   ]
  },
  {
   "cell_type": "markdown",
   "metadata": {},
   "source": [
    "# Ventricle"
   ]
  },
  {
   "cell_type": "code",
   "execution_count": 16,
   "metadata": {},
   "outputs": [],
   "source": [
    "region = \"Ventricle\"\n",
    "proportion <- read.csv(\"~/HHCA_d/Code4Paper/ForWebsite/1-2/Ventricle.csv\",row.names = 1)\n",
    "proportion <- proportion/sum(proportion)\n",
    "sample_prop <- rmultinom(50,size = 8000, prob = proportion)"
   ]
  },
  {
   "cell_type": "code",
   "execution_count": 17,
   "metadata": {},
   "outputs": [],
   "source": [
    "dataobj.LV <- readRDS(\"/stor//public/chenyx//HHCAd//unit_organized/LV.seuratobj.rds\")\n",
    "dataobj.RV <- readRDS(\"/stor//public/chenyx//HHCAd//unit_organized/RV.seuratobj.rds\")\n",
    "dataobj.IVS <- readRDS(\"/stor//public/chenyx//HHCAd//unit_organized/IVS.seuratobj.rds\")"
   ]
  },
  {
   "cell_type": "code",
   "execution_count": 18,
   "metadata": {},
   "outputs": [],
   "source": [
    "dataobj <- merge(dataobj.LV,dataobj.RV)\n",
    "dataobj <- merge(dataobj,dataobj.IVS)"
   ]
  },
  {
   "cell_type": "code",
   "execution_count": 19,
   "metadata": {},
   "outputs": [],
   "source": [
    "rm(dataobj.LV)\n",
    "rm(dataobj.RV)\n",
    "rm(dataobj.IVS)"
   ]
  },
  {
   "cell_type": "code",
   "execution_count": 20,
   "metadata": {},
   "outputs": [],
   "source": [
    "Cardiomyocyte.cell <- (dataobj@assays$RNA@data[,dataobj$cell_type==\"Cardiomyocyte cell\"])\n",
    "Fibroblast <- (dataobj@assays$RNA@data[,dataobj$cell_type==\"Fibroblast\"])\n",
    "Endothelial.cell <- (dataobj@assays$RNA@data[,dataobj$cell_type==\"Endothelial cell\"])\n",
    "Myelocyte <- (dataobj@assays$RNA@data[,dataobj$cell_type==\"Myelocyte\"])\n",
    "Pericyte <- (dataobj@assays$RNA@data[,dataobj$cell_type==\"Pericyte\"])\n",
    "Smooth.muscle.cell <-(dataobj@assays$RNA@data[,dataobj$cell_type==\"Smooth muscle cell\"])\n",
    "Neuron <-(dataobj@assays$RNA@data[,dataobj$cell_type==\"Neuron\"])\n",
    "Lymphocyte <-(dataobj@assays$RNA@data[,dataobj$cell_type==\"Lymphocyte\"])\n",
    "Adipocyte <-(dataobj@assays$RNA@data[,dataobj$cell_type==\"Adipocyte\"])"
   ]
  },
  {
   "cell_type": "code",
   "execution_count": 21,
   "metadata": {},
   "outputs": [],
   "source": [
    "obj_list <- list(Cardiomyocyte.cell,Fibroblast,Endothelial.cell,Myelocyte,Pericyte,Smooth.muscle.cell,Neuron,Lymphocyte,Adipocyte)\n",
    "name_list <- c('Cardiomyocyte.cell','Fibroblast','Endothelial.cell','Myelocyte','Pericyte','Smooth.muscle.cell','Neuron','Lymphocyte','Adipocyte')"
   ]
  },
  {
   "cell_type": "code",
   "execution_count": 22,
   "metadata": {},
   "outputs": [],
   "source": [
    "rm(dataobj)"
   ]
  },
  {
   "cell_type": "code",
   "execution_count": 23,
   "metadata": {},
   "outputs": [],
   "source": [
    "expression <- as.data.frame(matrix(0,43878,50))\n",
    "row.names(expression) <- row.names(Endothelial.cell)\n",
    "for (i in 1:dim(sample_prop)[2]){\n",
    "    # generate a pseudo bulk data\n",
    "    for (j in 1: length(obj_list)){\n",
    "        # in each cell type\n",
    "        if (sample_prop[name_list[j],i]>0){\n",
    "            index <- sample(1:dim(obj_list[[j]])[2],sample_prop[name_list[j],i],replace = TRUE)\n",
    "            if (length(index)>=2){\n",
    "                v_j <- rowSums(exp(as.data.frame(obj_list[[j]][,index]))-1)\n",
    "            }else{\n",
    "                v_j <- exp(as.data.frame(obj_list[[j]][,index]))-1\n",
    "            }\n",
    "            expression[,i] <- expression[,i] + v_j\n",
    "        }\n",
    "    }\n",
    "}\n",
    "expression <- round(expression+0.5,0)"
   ]
  },
  {
   "cell_type": "code",
   "execution_count": 24,
   "metadata": {},
   "outputs": [],
   "source": [
    "write.csv(expression,paste0(\"/stor/public/chenyx//HHCAd//PseudoBulk/\",region,\".csv\"))"
   ]
  }
 ],
 "metadata": {
  "kernelspec": {
   "display_name": "R4.0",
   "language": "R",
   "name": "ir3"
  },
  "language_info": {
   "codemirror_mode": "r",
   "file_extension": ".r",
   "mimetype": "text/x-r-source",
   "name": "R",
   "pygments_lexer": "r",
   "version": "4.0.3"
  }
 },
 "nbformat": 4,
 "nbformat_minor": 4
}
