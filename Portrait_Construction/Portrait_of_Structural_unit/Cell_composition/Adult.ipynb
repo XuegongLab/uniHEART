{
 "cells": [
  {
   "cell_type": "code",
   "execution_count": 1,
   "metadata": {},
   "outputs": [],
   "source": [
    "library(R6)"
   ]
  },
  {
   "cell_type": "code",
   "execution_count": 23,
   "metadata": {},
   "outputs": [],
   "source": [
    "MDMM <- R6Class(\"MDMM\",\n",
    "  # public methods and parameters\n",
    "  public = list(\n",
    "  initialize = function(){},\n",
    "      \n",
    "  fit = function(Xs,Ks,intial.alpha=NULL, max.iter=200, threshold=0.001, learning.rate=0.1){\n",
    "      \n",
    "      ## input\n",
    "      ## Xs: group of count vectors\n",
    "      ## Ks: group of mask vectors\n",
    "      ## Initial_alpha: the initial value of alpha, can be a vector, the default value is the mean value of all Xs\n",
    "      \n",
    "      ###### parameter validation ######\n",
    "      if (!sum(dim(Xs)==dim(Ks))==2){\n",
    "          print(\"Error! The dimension of input Xs and Ks must be same.\")\n",
    "          return(-1)\n",
    "      }\n",
    "      if (!is.null(intial.alpha) && !dim(Xs)[2]==length(intial.alpha)){\n",
    "          print(\"Error! The column dimension of input Xs and the length of intial.alpha must be same.\")\n",
    "          return(-1)\n",
    "      }\n",
    "      \n",
    "      ###### parameter initialize ######\n",
    "      private$dims = dim(Xs)[2]\n",
    "      private$learning_rate <- learning.rate\n",
    "      private$max_iter <- max.iter\n",
    "      private$threshold <- threshold\n",
    "      \n",
    "      if(is.null(intial.alpha)){\n",
    "          initial.alpha <- colMeans(Xs)\n",
    "      }\n",
    "      private$initial_alpha <- initial.alpha\n",
    "      alpha <- initial.alpha\n",
    "    \n",
    "      private$LL_list <- c(private$log.Likelihood(alpha,Xs,Ks))\n",
    "      \n",
    "      ###### estimation ######\n",
    "      for(epoch in 1:private$max_iter){\n",
    "        for(sample in 1:dim(Xs)[1]){\n",
    "            gradient.alpha <- matrix(0, private$dims, 1)\n",
    "            K <- Ks[sample,]\n",
    "            X <- Xs[sample,]\n",
    "\n",
    "            for(j in 1: private$dims){\n",
    "                if(K[j]==1){\n",
    "                    gradient.alpha[j] <- digamma(sum(alpha))-digamma(sum(alpha)+sum(X))+digamma(X[j]+alpha[j])-digamma(alpha[j])\n",
    "                }\n",
    "            }\n",
    "            alpha <- alpha + private$learning_rate * as.double(gradient.alpha)\n",
    "        }\n",
    "        if(abs(private$LL_list[length(private$LL_list)]-private$log.Likelihood(alpha,Xs,Ks))<= private$threshold){\n",
    "            break\n",
    "        }else{\n",
    "            private$LL_list <- c(private$LL_list, private$log.Likelihood(alpha,Xs,Ks))\n",
    "        }  \n",
    "    }\n",
    "    \n",
    "      ###### confidence range ######\n",
    "      high_boundary <- matrix(1,1,private$dims)\n",
    "      low_boundary <- matrix(1,1,private$dims)\n",
    "  \n",
    "      for(i in 1: private$dims){\n",
    "          Second.derivative.i <- 0\n",
    "          for(sample in 1:dim(Xs)[1]){\n",
    "              K <- Ks[sample,]\n",
    "              X <- Xs[sample,]\n",
    "              Second.derivative.i <- Second.derivative.i + trigamma(sum(alpha))-trigamma(sum(alpha)+sum(X))+trigamma(X[i]+alpha[i])-trigamma(alpha[i])\n",
    "          }\n",
    "              high_boundary[i] <- alpha[i] + 1.96/sqrt(-1*Second.derivative.i)\n",
    "              low_boundary[i] <- max(alpha[i] - 1.96/sqrt(-1*Second.derivative.i),0)\n",
    "      }\n",
    "      \n",
    "      \n",
    "      ###### save result ######\n",
    "      result <- as.data.frame(rbind(as.double(high_boundary),alpha,as.double(low_boundary)))\n",
    "      row.names(result)<- c(\"high_boundary\",\"estimated_alpha\",\"low_boundary\")\n",
    "      private$estimation <- result \n",
    "  },\n",
    "      \n",
    "      \n",
    "  get_parameters = function(){\n",
    "      print(paste(\"dims:\",private$dims))\n",
    "      print(paste(\"learning_rate:\",private$learning_rate))\n",
    "      print(paste(\"max_iter:\",private$max_iter))\n",
    "      print(paste(\"threshold:\",private$threshold))\n",
    "  },\n",
    "  get_result = function(){return(private$estimation)},\n",
    "  draw_trainning_process = function(){plot(private$LL_list,xlab =  \"epoch\", ylab =\"Log.Likelihood\")}\n",
    "  ), \n",
    "                \n",
    "  \n",
    "  private = list(\n",
    "      ## private parameters\n",
    "      dims = NULL,\n",
    "      learning_rate = NULL,\n",
    "      initial_alpha = NULL,\n",
    "      threshold = NULL,\n",
    "      max_iter = NULL,\n",
    "      \n",
    "      estimation = NULL,\n",
    "      LL_list = NULL,\n",
    "      \n",
    "      ## private methods\n",
    "      log.Likelihood = function(alpha,Xs,Ks){\n",
    "        Likelihood <- 0\n",
    "        for(i in 1:dim(Xs)[1]){\n",
    "            K_i <- Ks[i,]\n",
    "            X_i <- as.double(Xs[i,K_i==1])\n",
    "            alpha_i <- as.double(alpha[K_i==1])\n",
    "\n",
    "            Likelihood <- Likelihood + log(gamma(sum(alpha_i))) - log(gamma(sum(alpha_i+X_i)))\n",
    "            for(j in 1:length(alpha_i)){\n",
    "                Likelihood <- Likelihood + log(gamma(alpha_i[j] + X_i[j])/gamma(alpha_i[j]))\n",
    "            }\n",
    "        }\n",
    "        return(Likelihood)\n",
    "    }\n",
    "  )\n",
    ")"
   ]
  },
  {
   "cell_type": "markdown",
   "metadata": {},
   "source": [
    "# load data"
   ]
  },
  {
   "cell_type": "code",
   "execution_count": 18,
   "metadata": {},
   "outputs": [],
   "source": [
    "df_proportion <- read.csv(file = \"Cell_proportion.csv\")\n",
    "df_proportion <- df_proportion[15:234,]"
   ]
  },
  {
   "cell_type": "code",
   "execution_count": null,
   "metadata": {},
   "outputs": [],
   "source": []
  },
  {
   "cell_type": "code",
   "execution_count": 19,
   "metadata": {},
   "outputs": [],
   "source": [
    "subregions <- unique(df_proportion$subregion)"
   ]
  },
  {
   "cell_type": "code",
   "execution_count": 29,
   "metadata": {},
   "outputs": [
    {
     "name": "stderr",
     "output_type": "stream",
     "text": [
      "Warning message in FUN(X[[i]], ...):\n",
      "“NaNs produced”\n",
      "Warning message in FUN(X[[i]], ...):\n",
      "“NaNs produced”\n",
      "Warning message in FUN(X[[i]], ...):\n",
      "“NaNs produced”\n",
      "Warning message in FUN(X[[i]], ...):\n",
      "“NaNs produced”\n",
      "Warning message in FUN(X[[i]], ...):\n",
      "“NaNs produced”\n",
      "Warning message in FUN(X[[i]], ...):\n",
      "“NaNs produced”\n"
     ]
    }
   ],
   "source": [
    "for (sr in subregions){\n",
    "    df_test = df_proportion[df_proportion$subregion==sr,]\n",
    "    Xs <- df_test[,4:12]\n",
    "    Ks <- matrix(1,dim(Xs)[1],9)\n",
    "    for(i in 1: dim(Xs)[1]){\n",
    "        if(df_test$method[i]==\"rm-CM\"){\n",
    "            Ks[i,2] <- 0\n",
    "        }\n",
    "        if(df_test$method[i]==\"CD45+\"){\n",
    "            Ks[i,] <- c(1,0,1,0,1,1,0,1,0)\n",
    "        }\n",
    "\n",
    "    }\n",
    "    Xs <- Xs/rowSums(Xs)\n",
    "    \n",
    "    my_model <- MDMM$new()\n",
    "    my_model$fit(Xs,Ks,max.iter=300,learning.rate=0.1)\n",
    "    df_result <- my_model$get_result()\n",
    "\n",
    "    write.csv(df_result,paste0(\"/stor/public/chenyx/HHCAd/DM_result2/subregion/\",sr,\".csv\"))\n",
    "}"
   ]
  },
  {
   "cell_type": "code",
   "execution_count": 38,
   "metadata": {},
   "outputs": [
    {
     "data": {
      "text/html": [
       "<table class=\"dataframe\">\n",
       "<caption>A data.frame: 3 × 9</caption>\n",
       "<thead>\n",
       "\t<tr><th></th><th scope=col>Endothelial.cell</th><th scope=col>Cardiomyocyte.cell</th><th scope=col>Myelocyte</th><th scope=col>Fibroblast</th><th scope=col>Lymphocyte</th><th scope=col>Smooth.muscle.cell</th><th scope=col>Neuron</th><th scope=col>Pericyte</th><th scope=col>Adipocyte</th></tr>\n",
       "\t<tr><th></th><th scope=col>&lt;dbl&gt;</th><th scope=col>&lt;dbl&gt;</th><th scope=col>&lt;dbl&gt;</th><th scope=col>&lt;dbl&gt;</th><th scope=col>&lt;dbl&gt;</th><th scope=col>&lt;dbl&gt;</th><th scope=col>&lt;dbl&gt;</th><th scope=col>&lt;dbl&gt;</th><th scope=col>&lt;dbl&gt;</th></tr>\n",
       "</thead>\n",
       "<tbody>\n",
       "\t<tr><th scope=row>high_boundary</th><td>0.28498791</td><td>0.42399683</td><td>0.15346795</td><td>0.3344048</td><td>0.11227446</td><td>0.12771026</td><td>0.06484273</td><td>0.26335734</td><td>0.09596971</td></tr>\n",
       "\t<tr><th scope=row>estimated_alpha</th><td>0.16240963</td><td>0.25020912</td><td>0.07404702</td><td>0.1953547</td><td>0.04910884</td><td>0.05846611</td><td>0.02360722</td><td>0.14763384</td><td>0.03916351</td></tr>\n",
       "\t<tr><th scope=row>low_boundary</th><td>0.03983135</td><td>0.07642141</td><td>0.00000000</td><td>0.0563046</td><td>0.00000000</td><td>0.00000000</td><td>0.00000000</td><td>0.03191035</td><td>0.00000000</td></tr>\n",
       "</tbody>\n",
       "</table>\n"
      ],
      "text/latex": [
       "A data.frame: 3 × 9\n",
       "\\begin{tabular}{r|lllllllll}\n",
       "  & Endothelial.cell & Cardiomyocyte.cell & Myelocyte & Fibroblast & Lymphocyte & Smooth.muscle.cell & Neuron & Pericyte & Adipocyte\\\\\n",
       "  & <dbl> & <dbl> & <dbl> & <dbl> & <dbl> & <dbl> & <dbl> & <dbl> & <dbl>\\\\\n",
       "\\hline\n",
       "\thigh\\_boundary & 0.28498791 & 0.42399683 & 0.15346795 & 0.3344048 & 0.11227446 & 0.12771026 & 0.06484273 & 0.26335734 & 0.09596971\\\\\n",
       "\testimated\\_alpha & 0.16240963 & 0.25020912 & 0.07404702 & 0.1953547 & 0.04910884 & 0.05846611 & 0.02360722 & 0.14763384 & 0.03916351\\\\\n",
       "\tlow\\_boundary & 0.03983135 & 0.07642141 & 0.00000000 & 0.0563046 & 0.00000000 & 0.00000000 & 0.00000000 & 0.03191035 & 0.00000000\\\\\n",
       "\\end{tabular}\n"
      ],
      "text/markdown": [
       "\n",
       "A data.frame: 3 × 9\n",
       "\n",
       "| <!--/--> | Endothelial.cell &lt;dbl&gt; | Cardiomyocyte.cell &lt;dbl&gt; | Myelocyte &lt;dbl&gt; | Fibroblast &lt;dbl&gt; | Lymphocyte &lt;dbl&gt; | Smooth.muscle.cell &lt;dbl&gt; | Neuron &lt;dbl&gt; | Pericyte &lt;dbl&gt; | Adipocyte &lt;dbl&gt; |\n",
       "|---|---|---|---|---|---|---|---|---|---|\n",
       "| high_boundary | 0.28498791 | 0.42399683 | 0.15346795 | 0.3344048 | 0.11227446 | 0.12771026 | 0.06484273 | 0.26335734 | 0.09596971 |\n",
       "| estimated_alpha | 0.16240963 | 0.25020912 | 0.07404702 | 0.1953547 | 0.04910884 | 0.05846611 | 0.02360722 | 0.14763384 | 0.03916351 |\n",
       "| low_boundary | 0.03983135 | 0.07642141 | 0.00000000 | 0.0563046 | 0.00000000 | 0.00000000 | 0.00000000 | 0.03191035 | 0.00000000 |\n",
       "\n"
      ],
      "text/plain": [
       "                Endothelial.cell Cardiomyocyte.cell Myelocyte  Fibroblast\n",
       "high_boundary   0.28498791       0.42399683         0.15346795 0.3344048 \n",
       "estimated_alpha 0.16240963       0.25020912         0.07404702 0.1953547 \n",
       "low_boundary    0.03983135       0.07642141         0.00000000 0.0563046 \n",
       "                Lymphocyte Smooth.muscle.cell Neuron     Pericyte   Adipocyte \n",
       "high_boundary   0.11227446 0.12771026         0.06484273 0.26335734 0.09596971\n",
       "estimated_alpha 0.04910884 0.05846611         0.02360722 0.14763384 0.03916351\n",
       "low_boundary    0.00000000 0.00000000         0.00000000 0.03191035 0.00000000"
      ]
     },
     "metadata": {},
     "output_type": "display_data"
    }
   ],
   "source": [
    "df_result <- read.csv(\"/stor/public/chenyx/HHCAd/DM_result2/subregion/Left atria.csv\",row.names =  1)\n",
    "df_result/sum(df_result[2,])"
   ]
  },
  {
   "cell_type": "code",
   "execution_count": 39,
   "metadata": {},
   "outputs": [
    {
     "data": {
      "text/html": [
       "<table class=\"dataframe\">\n",
       "<caption>A data.frame: 3 × 9</caption>\n",
       "<thead>\n",
       "\t<tr><th></th><th scope=col>Endothelial.cell</th><th scope=col>Cardiomyocyte.cell</th><th scope=col>Myelocyte</th><th scope=col>Fibroblast</th><th scope=col>Lymphocyte</th><th scope=col>Smooth.muscle.cell</th><th scope=col>Neuron</th><th scope=col>Pericyte</th><th scope=col>Adipocyte</th></tr>\n",
       "\t<tr><th></th><th scope=col>&lt;dbl&gt;</th><th scope=col>&lt;dbl&gt;</th><th scope=col>&lt;dbl&gt;</th><th scope=col>&lt;dbl&gt;</th><th scope=col>&lt;dbl&gt;</th><th scope=col>&lt;dbl&gt;</th><th scope=col>&lt;dbl&gt;</th><th scope=col>&lt;dbl&gt;</th><th scope=col>&lt;dbl&gt;</th></tr>\n",
       "</thead>\n",
       "<tbody>\n",
       "\t<tr><th scope=row>high_boundary</th><td>0.3246890</td><td>0.5274146</td><td>0.1014329882</td><td>0.21177110</td><td>0.07292507</td><td>0.08366150</td><td>0.03003386</td><td>0.26183527</td><td>0.03286035</td></tr>\n",
       "\t<tr><th scope=row>estimated_alpha</th><td>0.2125388</td><td>0.3526041</td><td>0.0508353661</td><td>0.12465880</td><td>0.03297154</td><td>0.03967254</td><td>0.01044786</td><td>0.16481956</td><td>0.01145139</td></tr>\n",
       "\t<tr><th scope=row>low_boundary</th><td>0.1003886</td><td>0.1777937</td><td>0.0002377441</td><td>0.03754649</td><td>0.00000000</td><td>0.00000000</td><td>0.00000000</td><td>0.06780386</td><td>0.00000000</td></tr>\n",
       "</tbody>\n",
       "</table>\n"
      ],
      "text/latex": [
       "A data.frame: 3 × 9\n",
       "\\begin{tabular}{r|lllllllll}\n",
       "  & Endothelial.cell & Cardiomyocyte.cell & Myelocyte & Fibroblast & Lymphocyte & Smooth.muscle.cell & Neuron & Pericyte & Adipocyte\\\\\n",
       "  & <dbl> & <dbl> & <dbl> & <dbl> & <dbl> & <dbl> & <dbl> & <dbl> & <dbl>\\\\\n",
       "\\hline\n",
       "\thigh\\_boundary & 0.3246890 & 0.5274146 & 0.1014329882 & 0.21177110 & 0.07292507 & 0.08366150 & 0.03003386 & 0.26183527 & 0.03286035\\\\\n",
       "\testimated\\_alpha & 0.2125388 & 0.3526041 & 0.0508353661 & 0.12465880 & 0.03297154 & 0.03967254 & 0.01044786 & 0.16481956 & 0.01145139\\\\\n",
       "\tlow\\_boundary & 0.1003886 & 0.1777937 & 0.0002377441 & 0.03754649 & 0.00000000 & 0.00000000 & 0.00000000 & 0.06780386 & 0.00000000\\\\\n",
       "\\end{tabular}\n"
      ],
      "text/markdown": [
       "\n",
       "A data.frame: 3 × 9\n",
       "\n",
       "| <!--/--> | Endothelial.cell &lt;dbl&gt; | Cardiomyocyte.cell &lt;dbl&gt; | Myelocyte &lt;dbl&gt; | Fibroblast &lt;dbl&gt; | Lymphocyte &lt;dbl&gt; | Smooth.muscle.cell &lt;dbl&gt; | Neuron &lt;dbl&gt; | Pericyte &lt;dbl&gt; | Adipocyte &lt;dbl&gt; |\n",
       "|---|---|---|---|---|---|---|---|---|---|\n",
       "| high_boundary | 0.3246890 | 0.5274146 | 0.1014329882 | 0.21177110 | 0.07292507 | 0.08366150 | 0.03003386 | 0.26183527 | 0.03286035 |\n",
       "| estimated_alpha | 0.2125388 | 0.3526041 | 0.0508353661 | 0.12465880 | 0.03297154 | 0.03967254 | 0.01044786 | 0.16481956 | 0.01145139 |\n",
       "| low_boundary | 0.1003886 | 0.1777937 | 0.0002377441 | 0.03754649 | 0.00000000 | 0.00000000 | 0.00000000 | 0.06780386 | 0.00000000 |\n",
       "\n"
      ],
      "text/plain": [
       "                Endothelial.cell Cardiomyocyte.cell Myelocyte    Fibroblast\n",
       "high_boundary   0.3246890        0.5274146          0.1014329882 0.21177110\n",
       "estimated_alpha 0.2125388        0.3526041          0.0508353661 0.12465880\n",
       "low_boundary    0.1003886        0.1777937          0.0002377441 0.03754649\n",
       "                Lymphocyte Smooth.muscle.cell Neuron     Pericyte   Adipocyte \n",
       "high_boundary   0.07292507 0.08366150         0.03003386 0.26183527 0.03286035\n",
       "estimated_alpha 0.03297154 0.03967254         0.01044786 0.16481956 0.01145139\n",
       "low_boundary    0.00000000 0.00000000         0.00000000 0.06780386 0.00000000"
      ]
     },
     "metadata": {},
     "output_type": "display_data"
    }
   ],
   "source": [
    "df_result <- read.csv(\"/stor/public/chenyx/HHCAd/DM_result2/subregion/Left ventricle.csv\",row.names =  1)\n",
    "df_result/sum(df_result[2,])"
   ]
  },
  {
   "cell_type": "code",
   "execution_count": 40,
   "metadata": {},
   "outputs": [
    {
     "data": {
      "text/html": [
       "<table class=\"dataframe\">\n",
       "<caption>A data.frame: 3 × 9</caption>\n",
       "<thead>\n",
       "\t<tr><th></th><th scope=col>Endothelial.cell</th><th scope=col>Cardiomyocyte.cell</th><th scope=col>Myelocyte</th><th scope=col>Fibroblast</th><th scope=col>Lymphocyte</th><th scope=col>Smooth.muscle.cell</th><th scope=col>Neuron</th><th scope=col>Pericyte</th><th scope=col>Adipocyte</th></tr>\n",
       "\t<tr><th></th><th scope=col>&lt;dbl&gt;</th><th scope=col>&lt;dbl&gt;</th><th scope=col>&lt;dbl&gt;</th><th scope=col>&lt;dbl&gt;</th><th scope=col>&lt;dbl&gt;</th><th scope=col>&lt;dbl&gt;</th><th scope=col>&lt;dbl&gt;</th><th scope=col>&lt;dbl&gt;</th><th scope=col>&lt;dbl&gt;</th></tr>\n",
       "</thead>\n",
       "<tbody>\n",
       "\t<tr><th scope=row>high_boundary</th><td>0.30588609</td><td>0.6094942</td><td>0.11224311</td><td>0.25009001</td><td>0.08124923</td><td>0.1035350</td><td>0.03753476</td><td>0.27254552</td><td>0.06721205</td></tr>\n",
       "\t<tr><th scope=row>estimated_alpha</th><td>0.17426999</td><td>0.3812007</td><td>0.04870105</td><td>0.13319267</td><td>0.03170772</td><td>0.0438001</td><td>0.01163950</td><td>0.15168738</td><td>0.02380084</td></tr>\n",
       "\t<tr><th scope=row>low_boundary</th><td>0.04265389</td><td>0.1529073</td><td>0.00000000</td><td>0.01629534</td><td>0.00000000</td><td>0.0000000</td><td>0.00000000</td><td>0.03082924</td><td>0.00000000</td></tr>\n",
       "</tbody>\n",
       "</table>\n"
      ],
      "text/latex": [
       "A data.frame: 3 × 9\n",
       "\\begin{tabular}{r|lllllllll}\n",
       "  & Endothelial.cell & Cardiomyocyte.cell & Myelocyte & Fibroblast & Lymphocyte & Smooth.muscle.cell & Neuron & Pericyte & Adipocyte\\\\\n",
       "  & <dbl> & <dbl> & <dbl> & <dbl> & <dbl> & <dbl> & <dbl> & <dbl> & <dbl>\\\\\n",
       "\\hline\n",
       "\thigh\\_boundary & 0.30588609 & 0.6094942 & 0.11224311 & 0.25009001 & 0.08124923 & 0.1035350 & 0.03753476 & 0.27254552 & 0.06721205\\\\\n",
       "\testimated\\_alpha & 0.17426999 & 0.3812007 & 0.04870105 & 0.13319267 & 0.03170772 & 0.0438001 & 0.01163950 & 0.15168738 & 0.02380084\\\\\n",
       "\tlow\\_boundary & 0.04265389 & 0.1529073 & 0.00000000 & 0.01629534 & 0.00000000 & 0.0000000 & 0.00000000 & 0.03082924 & 0.00000000\\\\\n",
       "\\end{tabular}\n"
      ],
      "text/markdown": [
       "\n",
       "A data.frame: 3 × 9\n",
       "\n",
       "| <!--/--> | Endothelial.cell &lt;dbl&gt; | Cardiomyocyte.cell &lt;dbl&gt; | Myelocyte &lt;dbl&gt; | Fibroblast &lt;dbl&gt; | Lymphocyte &lt;dbl&gt; | Smooth.muscle.cell &lt;dbl&gt; | Neuron &lt;dbl&gt; | Pericyte &lt;dbl&gt; | Adipocyte &lt;dbl&gt; |\n",
       "|---|---|---|---|---|---|---|---|---|---|\n",
       "| high_boundary | 0.30588609 | 0.6094942 | 0.11224311 | 0.25009001 | 0.08124923 | 0.1035350 | 0.03753476 | 0.27254552 | 0.06721205 |\n",
       "| estimated_alpha | 0.17426999 | 0.3812007 | 0.04870105 | 0.13319267 | 0.03170772 | 0.0438001 | 0.01163950 | 0.15168738 | 0.02380084 |\n",
       "| low_boundary | 0.04265389 | 0.1529073 | 0.00000000 | 0.01629534 | 0.00000000 | 0.0000000 | 0.00000000 | 0.03082924 | 0.00000000 |\n",
       "\n"
      ],
      "text/plain": [
       "                Endothelial.cell Cardiomyocyte.cell Myelocyte  Fibroblast\n",
       "high_boundary   0.30588609       0.6094942          0.11224311 0.25009001\n",
       "estimated_alpha 0.17426999       0.3812007          0.04870105 0.13319267\n",
       "low_boundary    0.04265389       0.1529073          0.00000000 0.01629534\n",
       "                Lymphocyte Smooth.muscle.cell Neuron     Pericyte   Adipocyte \n",
       "high_boundary   0.08124923 0.1035350          0.03753476 0.27254552 0.06721205\n",
       "estimated_alpha 0.03170772 0.0438001          0.01163950 0.15168738 0.02380084\n",
       "low_boundary    0.00000000 0.0000000          0.00000000 0.03082924 0.00000000"
      ]
     },
     "metadata": {},
     "output_type": "display_data"
    }
   ],
   "source": [
    "df_result <- read.csv(\"/stor/public/chenyx/HHCAd/DM_result2/subregion/Right ventricle.csv\",row.names =  1)\n",
    "df_result/sum(df_result[2,])"
   ]
  },
  {
   "cell_type": "code",
   "execution_count": 41,
   "metadata": {},
   "outputs": [
    {
     "data": {
      "text/html": [
       "<table class=\"dataframe\">\n",
       "<caption>A data.frame: 3 × 9</caption>\n",
       "<thead>\n",
       "\t<tr><th></th><th scope=col>Endothelial.cell</th><th scope=col>Cardiomyocyte.cell</th><th scope=col>Myelocyte</th><th scope=col>Fibroblast</th><th scope=col>Lymphocyte</th><th scope=col>Smooth.muscle.cell</th><th scope=col>Neuron</th><th scope=col>Pericyte</th><th scope=col>Adipocyte</th></tr>\n",
       "\t<tr><th></th><th scope=col>&lt;dbl&gt;</th><th scope=col>&lt;dbl&gt;</th><th scope=col>&lt;dbl&gt;</th><th scope=col>&lt;dbl&gt;</th><th scope=col>&lt;dbl&gt;</th><th scope=col>&lt;dbl&gt;</th><th scope=col>&lt;dbl&gt;</th><th scope=col>&lt;dbl&gt;</th><th scope=col>&lt;dbl&gt;</th></tr>\n",
       "</thead>\n",
       "<tbody>\n",
       "\t<tr><th scope=row>high_boundary</th><td>0.32545403</td><td>0.40526115</td><td>0.16398117</td><td>0.3953526</td><td>0.15470757</td><td>0.12039635</td><td>0.08195704</td><td>0.17279586</td><td>0.07968775</td></tr>\n",
       "\t<tr><th scope=row>estimated_alpha</th><td>0.18649464</td><td>0.23181729</td><td>0.07812997</td><td>0.2347215</td><td>0.07205126</td><td>0.05232474</td><td>0.03118277</td><td>0.08365542</td><td>0.02962245</td></tr>\n",
       "\t<tr><th scope=row>low_boundary</th><td>0.04753525</td><td>0.05837343</td><td>0.00000000</td><td>0.0740903</td><td>0.00000000</td><td>0.00000000</td><td>0.00000000</td><td>0.00000000</td><td>0.00000000</td></tr>\n",
       "</tbody>\n",
       "</table>\n"
      ],
      "text/latex": [
       "A data.frame: 3 × 9\n",
       "\\begin{tabular}{r|lllllllll}\n",
       "  & Endothelial.cell & Cardiomyocyte.cell & Myelocyte & Fibroblast & Lymphocyte & Smooth.muscle.cell & Neuron & Pericyte & Adipocyte\\\\\n",
       "  & <dbl> & <dbl> & <dbl> & <dbl> & <dbl> & <dbl> & <dbl> & <dbl> & <dbl>\\\\\n",
       "\\hline\n",
       "\thigh\\_boundary & 0.32545403 & 0.40526115 & 0.16398117 & 0.3953526 & 0.15470757 & 0.12039635 & 0.08195704 & 0.17279586 & 0.07968775\\\\\n",
       "\testimated\\_alpha & 0.18649464 & 0.23181729 & 0.07812997 & 0.2347215 & 0.07205126 & 0.05232474 & 0.03118277 & 0.08365542 & 0.02962245\\\\\n",
       "\tlow\\_boundary & 0.04753525 & 0.05837343 & 0.00000000 & 0.0740903 & 0.00000000 & 0.00000000 & 0.00000000 & 0.00000000 & 0.00000000\\\\\n",
       "\\end{tabular}\n"
      ],
      "text/markdown": [
       "\n",
       "A data.frame: 3 × 9\n",
       "\n",
       "| <!--/--> | Endothelial.cell &lt;dbl&gt; | Cardiomyocyte.cell &lt;dbl&gt; | Myelocyte &lt;dbl&gt; | Fibroblast &lt;dbl&gt; | Lymphocyte &lt;dbl&gt; | Smooth.muscle.cell &lt;dbl&gt; | Neuron &lt;dbl&gt; | Pericyte &lt;dbl&gt; | Adipocyte &lt;dbl&gt; |\n",
       "|---|---|---|---|---|---|---|---|---|---|\n",
       "| high_boundary | 0.32545403 | 0.40526115 | 0.16398117 | 0.3953526 | 0.15470757 | 0.12039635 | 0.08195704 | 0.17279586 | 0.07968775 |\n",
       "| estimated_alpha | 0.18649464 | 0.23181729 | 0.07812997 | 0.2347215 | 0.07205126 | 0.05232474 | 0.03118277 | 0.08365542 | 0.02962245 |\n",
       "| low_boundary | 0.04753525 | 0.05837343 | 0.00000000 | 0.0740903 | 0.00000000 | 0.00000000 | 0.00000000 | 0.00000000 | 0.00000000 |\n",
       "\n"
      ],
      "text/plain": [
       "                Endothelial.cell Cardiomyocyte.cell Myelocyte  Fibroblast\n",
       "high_boundary   0.32545403       0.40526115         0.16398117 0.3953526 \n",
       "estimated_alpha 0.18649464       0.23181729         0.07812997 0.2347215 \n",
       "low_boundary    0.04753525       0.05837343         0.00000000 0.0740903 \n",
       "                Lymphocyte Smooth.muscle.cell Neuron     Pericyte   Adipocyte \n",
       "high_boundary   0.15470757 0.12039635         0.08195704 0.17279586 0.07968775\n",
       "estimated_alpha 0.07205126 0.05232474         0.03118277 0.08365542 0.02962245\n",
       "low_boundary    0.00000000 0.00000000         0.00000000 0.00000000 0.00000000"
      ]
     },
     "metadata": {},
     "output_type": "display_data"
    }
   ],
   "source": [
    "df_result <- read.csv(\"/stor/public/chenyx/HHCAd/DM_result2/subregion/Right atria.csv\",row.names =  1)\n",
    "df_result/sum(df_result[2,])"
   ]
  },
  {
   "cell_type": "code",
   "execution_count": 42,
   "metadata": {},
   "outputs": [
    {
     "data": {
      "text/html": [
       "<table class=\"dataframe\">\n",
       "<caption>A data.frame: 3 × 9</caption>\n",
       "<thead>\n",
       "\t<tr><th></th><th scope=col>Endothelial.cell</th><th scope=col>Cardiomyocyte.cell</th><th scope=col>Myelocyte</th><th scope=col>Fibroblast</th><th scope=col>Lymphocyte</th><th scope=col>Smooth.muscle.cell</th><th scope=col>Neuron</th><th scope=col>Pericyte</th><th scope=col>Adipocyte</th></tr>\n",
       "\t<tr><th></th><th scope=col>&lt;dbl&gt;</th><th scope=col>&lt;dbl&gt;</th><th scope=col>&lt;dbl&gt;</th><th scope=col>&lt;dbl&gt;</th><th scope=col>&lt;dbl&gt;</th><th scope=col>&lt;dbl&gt;</th><th scope=col>&lt;dbl&gt;</th><th scope=col>&lt;dbl&gt;</th><th scope=col>&lt;dbl&gt;</th></tr>\n",
       "</thead>\n",
       "<tbody>\n",
       "\t<tr><th scope=row>high_boundary</th><td>0.4839059</td><td>0.5578171</td><td>0.43118909</td><td>0.6287535</td><td>       NA</td><td>0.37618674</td><td>0.29814098</td><td>0.41748669</td><td>       NA</td></tr>\n",
       "\t<tr><th scope=row>estimated_alpha</th><td>0.1102581</td><td>0.1465031</td><td>0.08814951</td><td>0.1879018</td><td>0.1344125</td><td>0.06847583</td><td>0.04465963</td><td>0.08293995</td><td>0.1366995</td></tr>\n",
       "\t<tr><th scope=row>low_boundary</th><td>0.0000000</td><td>0.0000000</td><td>0.00000000</td><td>0.0000000</td><td>       NA</td><td>0.00000000</td><td>0.00000000</td><td>0.00000000</td><td>       NA</td></tr>\n",
       "</tbody>\n",
       "</table>\n"
      ],
      "text/latex": [
       "A data.frame: 3 × 9\n",
       "\\begin{tabular}{r|lllllllll}\n",
       "  & Endothelial.cell & Cardiomyocyte.cell & Myelocyte & Fibroblast & Lymphocyte & Smooth.muscle.cell & Neuron & Pericyte & Adipocyte\\\\\n",
       "  & <dbl> & <dbl> & <dbl> & <dbl> & <dbl> & <dbl> & <dbl> & <dbl> & <dbl>\\\\\n",
       "\\hline\n",
       "\thigh\\_boundary & 0.4839059 & 0.5578171 & 0.43118909 & 0.6287535 &        NA & 0.37618674 & 0.29814098 & 0.41748669 &        NA\\\\\n",
       "\testimated\\_alpha & 0.1102581 & 0.1465031 & 0.08814951 & 0.1879018 & 0.1344125 & 0.06847583 & 0.04465963 & 0.08293995 & 0.1366995\\\\\n",
       "\tlow\\_boundary & 0.0000000 & 0.0000000 & 0.00000000 & 0.0000000 &        NA & 0.00000000 & 0.00000000 & 0.00000000 &        NA\\\\\n",
       "\\end{tabular}\n"
      ],
      "text/markdown": [
       "\n",
       "A data.frame: 3 × 9\n",
       "\n",
       "| <!--/--> | Endothelial.cell &lt;dbl&gt; | Cardiomyocyte.cell &lt;dbl&gt; | Myelocyte &lt;dbl&gt; | Fibroblast &lt;dbl&gt; | Lymphocyte &lt;dbl&gt; | Smooth.muscle.cell &lt;dbl&gt; | Neuron &lt;dbl&gt; | Pericyte &lt;dbl&gt; | Adipocyte &lt;dbl&gt; |\n",
       "|---|---|---|---|---|---|---|---|---|---|\n",
       "| high_boundary | 0.4839059 | 0.5578171 | 0.43118909 | 0.6287535 |        NA | 0.37618674 | 0.29814098 | 0.41748669 |        NA |\n",
       "| estimated_alpha | 0.1102581 | 0.1465031 | 0.08814951 | 0.1879018 | 0.1344125 | 0.06847583 | 0.04465963 | 0.08293995 | 0.1366995 |\n",
       "| low_boundary | 0.0000000 | 0.0000000 | 0.00000000 | 0.0000000 |        NA | 0.00000000 | 0.00000000 | 0.00000000 |        NA |\n",
       "\n"
      ],
      "text/plain": [
       "                Endothelial.cell Cardiomyocyte.cell Myelocyte  Fibroblast\n",
       "high_boundary   0.4839059        0.5578171          0.43118909 0.6287535 \n",
       "estimated_alpha 0.1102581        0.1465031          0.08814951 0.1879018 \n",
       "low_boundary    0.0000000        0.0000000          0.00000000 0.0000000 \n",
       "                Lymphocyte Smooth.muscle.cell Neuron     Pericyte   Adipocyte\n",
       "high_boundary          NA  0.37618674         0.29814098 0.41748669        NA\n",
       "estimated_alpha 0.1344125  0.06847583         0.04465963 0.08293995 0.1366995\n",
       "low_boundary           NA  0.00000000         0.00000000 0.00000000        NA"
      ]
     },
     "metadata": {},
     "output_type": "display_data"
    }
   ],
   "source": [
    "df_result <- read.csv(\"/stor/public/chenyx/HHCAd/DM_result2/subregion/Interatrial septum.csv\",row.names =  1)\n",
    "df_result/sum(df_result[2,])"
   ]
  },
  {
   "cell_type": "code",
   "execution_count": 43,
   "metadata": {},
   "outputs": [
    {
     "data": {
      "text/html": [
       "<table class=\"dataframe\">\n",
       "<caption>A data.frame: 3 × 9</caption>\n",
       "<thead>\n",
       "\t<tr><th></th><th scope=col>Endothelial.cell</th><th scope=col>Cardiomyocyte.cell</th><th scope=col>Myelocyte</th><th scope=col>Fibroblast</th><th scope=col>Lymphocyte</th><th scope=col>Smooth.muscle.cell</th><th scope=col>Neuron</th><th scope=col>Pericyte</th><th scope=col>Adipocyte</th></tr>\n",
       "\t<tr><th></th><th scope=col>&lt;dbl&gt;</th><th scope=col>&lt;dbl&gt;</th><th scope=col>&lt;dbl&gt;</th><th scope=col>&lt;dbl&gt;</th><th scope=col>&lt;dbl&gt;</th><th scope=col>&lt;dbl&gt;</th><th scope=col>&lt;dbl&gt;</th><th scope=col>&lt;dbl&gt;</th><th scope=col>&lt;dbl&gt;</th></tr>\n",
       "</thead>\n",
       "<tbody>\n",
       "\t<tr><th scope=row>high_boundary</th><td>0.3632135</td><td>0.5370635</td><td>0.12395911</td><td>0.2328911</td><td>0.09155712</td><td>0.10222610</td><td>0.04576474</td><td>0.29709489</td><td>        NA</td></tr>\n",
       "\t<tr><th scope=row>estimated_alpha</th><td>0.2058879</td><td>0.3258440</td><td>0.04964595</td><td>0.1110796</td><td>0.03286596</td><td>0.03863349</td><td>0.01239499</td><td>0.15843532</td><td>0.06521277</td></tr>\n",
       "\t<tr><th scope=row>low_boundary</th><td>0.0485624</td><td>0.1146244</td><td>0.00000000</td><td>0.0000000</td><td>0.00000000</td><td>0.00000000</td><td>0.00000000</td><td>0.01977575</td><td>        NA</td></tr>\n",
       "</tbody>\n",
       "</table>\n"
      ],
      "text/latex": [
       "A data.frame: 3 × 9\n",
       "\\begin{tabular}{r|lllllllll}\n",
       "  & Endothelial.cell & Cardiomyocyte.cell & Myelocyte & Fibroblast & Lymphocyte & Smooth.muscle.cell & Neuron & Pericyte & Adipocyte\\\\\n",
       "  & <dbl> & <dbl> & <dbl> & <dbl> & <dbl> & <dbl> & <dbl> & <dbl> & <dbl>\\\\\n",
       "\\hline\n",
       "\thigh\\_boundary & 0.3632135 & 0.5370635 & 0.12395911 & 0.2328911 & 0.09155712 & 0.10222610 & 0.04576474 & 0.29709489 &         NA\\\\\n",
       "\testimated\\_alpha & 0.2058879 & 0.3258440 & 0.04964595 & 0.1110796 & 0.03286596 & 0.03863349 & 0.01239499 & 0.15843532 & 0.06521277\\\\\n",
       "\tlow\\_boundary & 0.0485624 & 0.1146244 & 0.00000000 & 0.0000000 & 0.00000000 & 0.00000000 & 0.00000000 & 0.01977575 &         NA\\\\\n",
       "\\end{tabular}\n"
      ],
      "text/markdown": [
       "\n",
       "A data.frame: 3 × 9\n",
       "\n",
       "| <!--/--> | Endothelial.cell &lt;dbl&gt; | Cardiomyocyte.cell &lt;dbl&gt; | Myelocyte &lt;dbl&gt; | Fibroblast &lt;dbl&gt; | Lymphocyte &lt;dbl&gt; | Smooth.muscle.cell &lt;dbl&gt; | Neuron &lt;dbl&gt; | Pericyte &lt;dbl&gt; | Adipocyte &lt;dbl&gt; |\n",
       "|---|---|---|---|---|---|---|---|---|---|\n",
       "| high_boundary | 0.3632135 | 0.5370635 | 0.12395911 | 0.2328911 | 0.09155712 | 0.10222610 | 0.04576474 | 0.29709489 |         NA |\n",
       "| estimated_alpha | 0.2058879 | 0.3258440 | 0.04964595 | 0.1110796 | 0.03286596 | 0.03863349 | 0.01239499 | 0.15843532 | 0.06521277 |\n",
       "| low_boundary | 0.0485624 | 0.1146244 | 0.00000000 | 0.0000000 | 0.00000000 | 0.00000000 | 0.00000000 | 0.01977575 |         NA |\n",
       "\n"
      ],
      "text/plain": [
       "                Endothelial.cell Cardiomyocyte.cell Myelocyte  Fibroblast\n",
       "high_boundary   0.3632135        0.5370635          0.12395911 0.2328911 \n",
       "estimated_alpha 0.2058879        0.3258440          0.04964595 0.1110796 \n",
       "low_boundary    0.0485624        0.1146244          0.00000000 0.0000000 \n",
       "                Lymphocyte Smooth.muscle.cell Neuron     Pericyte   Adipocyte \n",
       "high_boundary   0.09155712 0.10222610         0.04576474 0.29709489         NA\n",
       "estimated_alpha 0.03286596 0.03863349         0.01239499 0.15843532 0.06521277\n",
       "low_boundary    0.00000000 0.00000000         0.00000000 0.01977575         NA"
      ]
     },
     "metadata": {},
     "output_type": "display_data"
    }
   ],
   "source": [
    "df_result <- read.csv(\"/stor/public/chenyx/HHCAd/DM_result2/subregion/Interventricular septum.csv\",row.names =  1)\n",
    "df_result/sum(df_result[2,])"
   ]
  }
 ],
 "metadata": {
  "kernelspec": {
   "display_name": "R4.0",
   "language": "R",
   "name": "ir3"
  },
  "language_info": {
   "codemirror_mode": "r",
   "file_extension": ".r",
   "mimetype": "text/x-r-source",
   "name": "R",
   "pygments_lexer": "r",
   "version": "4.0.3"
  }
 },
 "nbformat": 4,
 "nbformat_minor": 4
}
