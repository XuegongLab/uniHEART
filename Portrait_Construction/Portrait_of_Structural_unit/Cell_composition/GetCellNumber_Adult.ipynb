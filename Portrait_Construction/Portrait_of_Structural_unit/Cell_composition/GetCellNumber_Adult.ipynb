{
 "cells": [
  {
   "cell_type": "code",
   "execution_count": 1,
   "metadata": {},
   "outputs": [
    {
     "name": "stderr",
     "output_type": "stream",
     "text": [
      "Attaching SeuratObject\n",
      "\n"
     ]
    }
   ],
   "source": [
    "library(Seurat)\n",
    "library(data.table)\n",
    "library(ggplot2)"
   ]
  },
  {
   "cell_type": "markdown",
   "metadata": {},
   "source": [
    "# heart_heart_HCLAdultHeart1"
   ]
  },
  {
   "cell_type": "code",
   "execution_count": 2,
   "metadata": {},
   "outputs": [],
   "source": [
    "objName = \"/stor/public/chenyx//HHCAd//datasets//heart_heart_HCLAdultHeart1.seuratobj.rds\"\n",
    "dataobj<- readRDS(objName)"
   ]
  },
  {
   "cell_type": "code",
   "execution_count": 3,
   "metadata": {},
   "outputs": [],
   "source": [
    "dataobj@meta.data <- dataobj@meta.data[!names(dataobj@meta.data) %in% c(\"tissue_type\",\"marker_gene\",\"cid\",\"cl_name\",\"hcad_name\")]"
   ]
  },
  {
   "cell_type": "code",
   "execution_count": 6,
   "metadata": {},
   "outputs": [],
   "source": [
    "dataobj@meta.data$subregion <- \"Left ventricular\""
   ]
  },
  {
   "cell_type": "code",
   "execution_count": 7,
   "metadata": {},
   "outputs": [],
   "source": [
    "saveRDS(dataobj,objName)"
   ]
  },
  {
   "cell_type": "code",
   "execution_count": 9,
   "metadata": {},
   "outputs": [
    {
     "data": {
      "text/html": [
       "<style>\n",
       ".list-inline {list-style: none; margin:0; padding: 0}\n",
       ".list-inline>li {display: inline-block}\n",
       ".list-inline>li:not(:last-child)::after {content: \"\\00b7\"; padding: 0 .5ex}\n",
       "</style>\n",
       "<ol class=list-inline><li>'Myelocyte'</li><li>'Lymphocyte'</li><li>'Smooth muscle cell'</li><li>'Fibroblast'</li><li>'Endothelial cell'</li><li>'Mast cell'</li><li>'Cardiomyocyte cell'</li></ol>\n"
      ],
      "text/latex": [
       "\\begin{enumerate*}\n",
       "\\item 'Myelocyte'\n",
       "\\item 'Lymphocyte'\n",
       "\\item 'Smooth muscle cell'\n",
       "\\item 'Fibroblast'\n",
       "\\item 'Endothelial cell'\n",
       "\\item 'Mast cell'\n",
       "\\item 'Cardiomyocyte cell'\n",
       "\\end{enumerate*}\n"
      ],
      "text/markdown": [
       "1. 'Myelocyte'\n",
       "2. 'Lymphocyte'\n",
       "3. 'Smooth muscle cell'\n",
       "4. 'Fibroblast'\n",
       "5. 'Endothelial cell'\n",
       "6. 'Mast cell'\n",
       "7. 'Cardiomyocyte cell'\n",
       "\n",
       "\n"
      ],
      "text/plain": [
       "[1] \"Myelocyte\"          \"Lymphocyte\"         \"Smooth muscle cell\"\n",
       "[4] \"Fibroblast\"         \"Endothelial cell\"   \"Mast cell\"         \n",
       "[7] \"Cardiomyocyte cell\""
      ]
     },
     "metadata": {},
     "output_type": "display_data"
    }
   ],
   "source": [
    "cts"
   ]
  },
  {
   "cell_type": "code",
   "execution_count": 8,
   "metadata": {},
   "outputs": [],
   "source": [
    "cts <- unique(dataobj$cell_type)\n",
    "ids <- unique(dataobj$donor_id)"
   ]
  },
  {
   "cell_type": "code",
   "execution_count": 12,
   "metadata": {},
   "outputs": [],
   "source": [
    "df <- as.data.frame(matrix(numeric(0),ncol=13))\n",
    "colnames(df) <- c(\"donor_id\",\"subregion\",\"Endothelial cell\",\"Cardiomyocyte cell\",\"Myelocyte\",\"Fibroblast\",\"Lymphocyte\",\"Smooth muscle cell\",\"Neuron\",\"Pericyte\",\"Adipocyte\",\"Neutrophilic granulocyte\",\"Mast cell\")\n",
    "i = 1\n",
    "for(id in ids){\n",
    "    meta <- dataobj@meta.data[dataobj$donor_id == id,]\n",
    "    srs <- names(table(meta$subregion))\n",
    "    for(sr in srs){\n",
    "        df[i,\"donor_id\"] <- id\n",
    "        df[i,\"subregion\"] <- sr\n",
    "        t <- table(meta$cell_type[meta$subregion == sr])\n",
    "        for(ct in cts){\n",
    "            df[i,ct] <- t[ct]\n",
    "        }\n",
    "        i = i+1\n",
    "    }\n",
    "}\n",
    "df[is.na(df)] <- 0"
   ]
  },
  {
   "cell_type": "code",
   "execution_count": 13,
   "metadata": {},
   "outputs": [
    {
     "data": {
      "text/html": [
       "<table class=\"dataframe\">\n",
       "<caption>A data.frame: 1 × 13</caption>\n",
       "<thead>\n",
       "\t<tr><th></th><th scope=col>donor_id</th><th scope=col>subregion</th><th scope=col>Endothelial cell</th><th scope=col>Cardiomyocyte cell</th><th scope=col>Myelocyte</th><th scope=col>Fibroblast</th><th scope=col>Lymphocyte</th><th scope=col>Smooth muscle cell</th><th scope=col>Neuron</th><th scope=col>Pericyte</th><th scope=col>Adipocyte</th><th scope=col>Neutrophilic granulocyte</th><th scope=col>Mast cell</th></tr>\n",
       "\t<tr><th></th><th scope=col>&lt;chr&gt;</th><th scope=col>&lt;chr&gt;</th><th scope=col>&lt;dbl&gt;</th><th scope=col>&lt;dbl&gt;</th><th scope=col>&lt;dbl&gt;</th><th scope=col>&lt;dbl&gt;</th><th scope=col>&lt;dbl&gt;</th><th scope=col>&lt;dbl&gt;</th><th scope=col>&lt;dbl&gt;</th><th scope=col>&lt;dbl&gt;</th><th scope=col>&lt;dbl&gt;</th><th scope=col>&lt;dbl&gt;</th><th scope=col>&lt;dbl&gt;</th></tr>\n",
       "</thead>\n",
       "<tbody>\n",
       "\t<tr><th scope=row>1</th><td>AdultHeart1_52Y</td><td>Left ventricular</td><td>115</td><td>189</td><td>612</td><td>105</td><td>84</td><td>184</td><td>0</td><td>0</td><td>0</td><td>0</td><td>19</td></tr>\n",
       "</tbody>\n",
       "</table>\n"
      ],
      "text/latex": [
       "A data.frame: 1 × 13\n",
       "\\begin{tabular}{r|lllllllllllll}\n",
       "  & donor\\_id & subregion & Endothelial cell & Cardiomyocyte cell & Myelocyte & Fibroblast & Lymphocyte & Smooth muscle cell & Neuron & Pericyte & Adipocyte & Neutrophilic granulocyte & Mast cell\\\\\n",
       "  & <chr> & <chr> & <dbl> & <dbl> & <dbl> & <dbl> & <dbl> & <dbl> & <dbl> & <dbl> & <dbl> & <dbl> & <dbl>\\\\\n",
       "\\hline\n",
       "\t1 & AdultHeart1\\_52Y & Left ventricular & 115 & 189 & 612 & 105 & 84 & 184 & 0 & 0 & 0 & 0 & 19\\\\\n",
       "\\end{tabular}\n"
      ],
      "text/markdown": [
       "\n",
       "A data.frame: 1 × 13\n",
       "\n",
       "| <!--/--> | donor_id &lt;chr&gt; | subregion &lt;chr&gt; | Endothelial cell &lt;dbl&gt; | Cardiomyocyte cell &lt;dbl&gt; | Myelocyte &lt;dbl&gt; | Fibroblast &lt;dbl&gt; | Lymphocyte &lt;dbl&gt; | Smooth muscle cell &lt;dbl&gt; | Neuron &lt;dbl&gt; | Pericyte &lt;dbl&gt; | Adipocyte &lt;dbl&gt; | Neutrophilic granulocyte &lt;dbl&gt; | Mast cell &lt;dbl&gt; |\n",
       "|---|---|---|---|---|---|---|---|---|---|---|---|---|---|\n",
       "| 1 | AdultHeart1_52Y | Left ventricular | 115 | 189 | 612 | 105 | 84 | 184 | 0 | 0 | 0 | 0 | 19 |\n",
       "\n"
      ],
      "text/plain": [
       "  donor_id        subregion        Endothelial cell Cardiomyocyte cell\n",
       "1 AdultHeart1_52Y Left ventricular 115              189               \n",
       "  Myelocyte Fibroblast Lymphocyte Smooth muscle cell Neuron Pericyte Adipocyte\n",
       "1 612       105        84         184                0      0        0        \n",
       "  Neutrophilic granulocyte Mast cell\n",
       "1 0                        19       "
      ]
     },
     "metadata": {},
     "output_type": "display_data"
    }
   ],
   "source": [
    "df"
   ]
  },
  {
   "cell_type": "markdown",
   "metadata": {},
   "source": [
    "# heart_heart_HCLAdultHeart2"
   ]
  },
  {
   "cell_type": "code",
   "execution_count": 14,
   "metadata": {},
   "outputs": [],
   "source": [
    "objName = \"/stor/public/chenyx/HHCAd/datasets/heart_heart_HCLAdultHeart2.seuratobj.rds\"\n",
    "dataobj<- readRDS(objName)"
   ]
  },
  {
   "cell_type": "code",
   "execution_count": 15,
   "metadata": {},
   "outputs": [],
   "source": [
    "dataobj@meta.data <- dataobj@meta.data[!names(dataobj@meta.data) %in% c(\"tissue_type\",\"marker_gene\",\"cid\",\"cl_name\",\"hcad_name\")]"
   ]
  },
  {
   "cell_type": "code",
   "execution_count": 16,
   "metadata": {},
   "outputs": [],
   "source": [
    "saveRDS(dataobj,objName)"
   ]
  },
  {
   "cell_type": "code",
   "execution_count": 17,
   "metadata": {},
   "outputs": [],
   "source": [
    "cts <- unique(dataobj$cell_type)\n",
    "ids <- unique(dataobj$donor_id)"
   ]
  },
  {
   "cell_type": "code",
   "execution_count": 18,
   "metadata": {},
   "outputs": [],
   "source": [
    "df <- as.data.frame(matrix(numeric(0),ncol=13))\n",
    "colnames(df) <- c(\"donor_id\",\"subregion\",\"Endothelial cell\",\"Cardiomyocyte cell\",\"Myelocyte\",\"Fibroblast\",\"Lymphocyte\",\"Smooth muscle cell\",\"Neuron\",\"Pericyte\",\"Adipocyte\",\"Neutrophilic granulocyte\",\"Mast cell\")\n",
    "i = 1\n",
    "for(id in ids){\n",
    "    meta <- dataobj@meta.data[dataobj$donor_id == id,]\n",
    "    srs <- names(table(meta$subregion))\n",
    "    for(sr in srs){\n",
    "        df[i,\"donor_id\"] <- id\n",
    "        df[i,\"subregion\"] <- sr\n",
    "        t <- table(meta$cell_type[meta$subregion == sr])\n",
    "        for(ct in cts){\n",
    "            df[i,ct] <- t[ct]\n",
    "        }\n",
    "        i = i+1\n",
    "    }\n",
    "}\n",
    "df[is.na(df)] <- 0"
   ]
  },
  {
   "cell_type": "code",
   "execution_count": 19,
   "metadata": {},
   "outputs": [
    {
     "data": {
      "text/html": [
       "<table class=\"dataframe\">\n",
       "<caption>A data.frame: 1 × 13</caption>\n",
       "<thead>\n",
       "\t<tr><th></th><th scope=col>donor_id</th><th scope=col>subregion</th><th scope=col>Endothelial cell</th><th scope=col>Cardiomyocyte cell</th><th scope=col>Myelocyte</th><th scope=col>Fibroblast</th><th scope=col>Lymphocyte</th><th scope=col>Smooth muscle cell</th><th scope=col>Neuron</th><th scope=col>Pericyte</th><th scope=col>Adipocyte</th><th scope=col>Neutrophilic granulocyte</th><th scope=col>Mast cell</th></tr>\n",
       "\t<tr><th></th><th scope=col>&lt;chr&gt;</th><th scope=col>&lt;chr&gt;</th><th scope=col>&lt;dbl&gt;</th><th scope=col>&lt;dbl&gt;</th><th scope=col>&lt;dbl&gt;</th><th scope=col>&lt;dbl&gt;</th><th scope=col>&lt;dbl&gt;</th><th scope=col>&lt;dbl&gt;</th><th scope=col>&lt;dbl&gt;</th><th scope=col>&lt;dbl&gt;</th><th scope=col>&lt;dbl&gt;</th><th scope=col>&lt;dbl&gt;</th><th scope=col>&lt;dbl&gt;</th></tr>\n",
       "</thead>\n",
       "<tbody>\n",
       "\t<tr><th scope=row>1</th><td>AdultHeart2_47Y</td><td>Left ventricle</td><td>99</td><td>33</td><td>139</td><td>383</td><td>95</td><td>297</td><td>0</td><td>115</td><td>0</td><td>194</td><td>0</td></tr>\n",
       "</tbody>\n",
       "</table>\n"
      ],
      "text/latex": [
       "A data.frame: 1 × 13\n",
       "\\begin{tabular}{r|lllllllllllll}\n",
       "  & donor\\_id & subregion & Endothelial cell & Cardiomyocyte cell & Myelocyte & Fibroblast & Lymphocyte & Smooth muscle cell & Neuron & Pericyte & Adipocyte & Neutrophilic granulocyte & Mast cell\\\\\n",
       "  & <chr> & <chr> & <dbl> & <dbl> & <dbl> & <dbl> & <dbl> & <dbl> & <dbl> & <dbl> & <dbl> & <dbl> & <dbl>\\\\\n",
       "\\hline\n",
       "\t1 & AdultHeart2\\_47Y & Left ventricle & 99 & 33 & 139 & 383 & 95 & 297 & 0 & 115 & 0 & 194 & 0\\\\\n",
       "\\end{tabular}\n"
      ],
      "text/markdown": [
       "\n",
       "A data.frame: 1 × 13\n",
       "\n",
       "| <!--/--> | donor_id &lt;chr&gt; | subregion &lt;chr&gt; | Endothelial cell &lt;dbl&gt; | Cardiomyocyte cell &lt;dbl&gt; | Myelocyte &lt;dbl&gt; | Fibroblast &lt;dbl&gt; | Lymphocyte &lt;dbl&gt; | Smooth muscle cell &lt;dbl&gt; | Neuron &lt;dbl&gt; | Pericyte &lt;dbl&gt; | Adipocyte &lt;dbl&gt; | Neutrophilic granulocyte &lt;dbl&gt; | Mast cell &lt;dbl&gt; |\n",
       "|---|---|---|---|---|---|---|---|---|---|---|---|---|---|\n",
       "| 1 | AdultHeart2_47Y | Left ventricle | 99 | 33 | 139 | 383 | 95 | 297 | 0 | 115 | 0 | 194 | 0 |\n",
       "\n"
      ],
      "text/plain": [
       "  donor_id        subregion      Endothelial cell Cardiomyocyte cell Myelocyte\n",
       "1 AdultHeart2_47Y Left ventricle 99               33                 139      \n",
       "  Fibroblast Lymphocyte Smooth muscle cell Neuron Pericyte Adipocyte\n",
       "1 383        95         297                0      115      0        \n",
       "  Neutrophilic granulocyte Mast cell\n",
       "1 194                      0        "
      ]
     },
     "metadata": {},
     "output_type": "display_data"
    }
   ],
   "source": [
    "df"
   ]
  },
  {
   "cell_type": "markdown",
   "metadata": {},
   "source": [
    "# Heart_Heart_Wang2020"
   ]
  },
  {
   "cell_type": "code",
   "execution_count": 20,
   "metadata": {},
   "outputs": [],
   "source": [
    "objName = \"/stor/public/chenyx/HHCAd/datasets/Heart_Heart_Wang2020.seuratobj.rds\"\n",
    "dataobj<- readRDS(objName)"
   ]
  },
  {
   "cell_type": "code",
   "execution_count": 21,
   "metadata": {},
   "outputs": [],
   "source": [
    "dataobj@meta.data <- dataobj@meta.data[!names(dataobj@meta.data) %in% c(\"tissue_type\",\"marker_gene\",\"cid\",\"cl_name\",\"hcad_name\")]"
   ]
  },
  {
   "cell_type": "code",
   "execution_count": 22,
   "metadata": {},
   "outputs": [],
   "source": [
    "cts <- unique(dataobj$cell_type)\n",
    "ids <- unique(dataobj$donor_id)"
   ]
  },
  {
   "cell_type": "code",
   "execution_count": 23,
   "metadata": {},
   "outputs": [],
   "source": [
    "df <- as.data.frame(matrix(numeric(0),ncol=13))\n",
    "colnames(df) <- c(\"donor_id\",\"subregion\",\"Endothelial cell\",\"Cardiomyocyte cell\",\"Myelocyte\",\"Fibroblast\",\"Lymphocyte\",\"Smooth muscle cell\",\"Neuron\",\"Pericyte\",\"Adipocyte\",\"Neutrophilic granulocyte\",\"Mast cell\")\n",
    "i = 1\n",
    "for(id in ids){\n",
    "    meta <- dataobj@meta.data[dataobj$donor_id == id,]\n",
    "    srs <- names(table(meta$subregion))\n",
    "    for(sr in srs){\n",
    "        df[i,\"donor_id\"] <- id\n",
    "        df[i,\"subregion\"] <- sr\n",
    "        t <- table(meta$cell_type[meta$subregion == sr])\n",
    "        for(ct in cts){\n",
    "            df[i,ct] <- t[ct]\n",
    "        }\n",
    "        i = i+1\n",
    "    }\n",
    "}\n",
    "df[is.na(df)] <- 0"
   ]
  },
  {
   "cell_type": "code",
   "execution_count": 24,
   "metadata": {},
   "outputs": [
    {
     "data": {
      "text/html": [
       "<table class=\"dataframe\">\n",
       "<caption>A data.frame: 12 × 13</caption>\n",
       "<thead>\n",
       "\t<tr><th></th><th scope=col>donor_id</th><th scope=col>subregion</th><th scope=col>Endothelial cell</th><th scope=col>Cardiomyocyte cell</th><th scope=col>Myelocyte</th><th scope=col>Fibroblast</th><th scope=col>Lymphocyte</th><th scope=col>Smooth muscle cell</th><th scope=col>Neuron</th><th scope=col>Pericyte</th><th scope=col>Adipocyte</th><th scope=col>Neutrophilic granulocyte</th><th scope=col>Mast cell</th></tr>\n",
       "\t<tr><th></th><th scope=col>&lt;chr&gt;</th><th scope=col>&lt;chr&gt;</th><th scope=col>&lt;dbl&gt;</th><th scope=col>&lt;dbl&gt;</th><th scope=col>&lt;dbl&gt;</th><th scope=col>&lt;dbl&gt;</th><th scope=col>&lt;dbl&gt;</th><th scope=col>&lt;dbl&gt;</th><th scope=col>&lt;dbl&gt;</th><th scope=col>&lt;dbl&gt;</th><th scope=col>&lt;dbl&gt;</th><th scope=col>&lt;dbl&gt;</th><th scope=col>&lt;dbl&gt;</th></tr>\n",
       "</thead>\n",
       "<tbody>\n",
       "\t<tr><th scope=row>1</th><td>N6 </td><td>Left atria    </td><td>438</td><td>369</td><td>32</td><td>77</td><td>36</td><td>166</td><td>0</td><td>83</td><td>0</td><td>0</td><td>0</td></tr>\n",
       "\t<tr><th scope=row>2</th><td>N9 </td><td>Left atria    </td><td>201</td><td>323</td><td>13</td><td>85</td><td> 4</td><td> 35</td><td>0</td><td>42</td><td>0</td><td>0</td><td>0</td></tr>\n",
       "\t<tr><th scope=row>3</th><td>N8 </td><td>Left atria    </td><td>103</td><td>117</td><td> 6</td><td>31</td><td> 7</td><td> 13</td><td>0</td><td>22</td><td>0</td><td>0</td><td>0</td></tr>\n",
       "\t<tr><th scope=row>4</th><td>N11</td><td>Left atria    </td><td>164</td><td>321</td><td> 4</td><td>46</td><td> 7</td><td> 23</td><td>0</td><td>29</td><td>0</td><td>0</td><td>0</td></tr>\n",
       "\t<tr><th scope=row>5</th><td>N7 </td><td>Left atria    </td><td> 28</td><td>204</td><td> 2</td><td>10</td><td> 3</td><td>  9</td><td>0</td><td>11</td><td>0</td><td>0</td><td>0</td></tr>\n",
       "\t<tr><th scope=row>6</th><td>N10</td><td>Left atria    </td><td>254</td><td>147</td><td> 7</td><td>44</td><td>12</td><td> 35</td><td>0</td><td>54</td><td>0</td><td>0</td><td>0</td></tr>\n",
       "\t<tr><th scope=row>7</th><td>N3 </td><td>Left ventricle</td><td> 39</td><td>648</td><td> 2</td><td> 0</td><td> 5</td><td> 18</td><td>0</td><td> 4</td><td>0</td><td>0</td><td>0</td></tr>\n",
       "\t<tr><th scope=row>8</th><td>N2 </td><td>Left ventricle</td><td>281</td><td>417</td><td> 3</td><td> 5</td><td>11</td><td> 51</td><td>0</td><td>22</td><td>0</td><td>0</td><td>0</td></tr>\n",
       "\t<tr><th scope=row>9</th><td>N5 </td><td>Left ventricle</td><td>237</td><td>409</td><td>10</td><td>16</td><td>11</td><td> 59</td><td>0</td><td>46</td><td>0</td><td>0</td><td>0</td></tr>\n",
       "\t<tr><th scope=row>10</th><td>N4 </td><td>Left ventricle</td><td> 91</td><td>180</td><td> 7</td><td> 6</td><td> 1</td><td> 18</td><td>0</td><td>20</td><td>0</td><td>0</td><td>0</td></tr>\n",
       "\t<tr><th scope=row>11</th><td>N12</td><td>Left atria    </td><td> 21</td><td>324</td><td> 9</td><td>47</td><td> 7</td><td> 11</td><td>0</td><td> 3</td><td>0</td><td>0</td><td>0</td></tr>\n",
       "\t<tr><th scope=row>12</th><td>N1 </td><td>Left ventricle</td><td>310</td><td>138</td><td>11</td><td>19</td><td>30</td><td> 36</td><td>0</td><td>31</td><td>0</td><td>0</td><td>0</td></tr>\n",
       "</tbody>\n",
       "</table>\n"
      ],
      "text/latex": [
       "A data.frame: 12 × 13\n",
       "\\begin{tabular}{r|lllllllllllll}\n",
       "  & donor\\_id & subregion & Endothelial cell & Cardiomyocyte cell & Myelocyte & Fibroblast & Lymphocyte & Smooth muscle cell & Neuron & Pericyte & Adipocyte & Neutrophilic granulocyte & Mast cell\\\\\n",
       "  & <chr> & <chr> & <dbl> & <dbl> & <dbl> & <dbl> & <dbl> & <dbl> & <dbl> & <dbl> & <dbl> & <dbl> & <dbl>\\\\\n",
       "\\hline\n",
       "\t1 & N6  & Left atria     & 438 & 369 & 32 & 77 & 36 & 166 & 0 & 83 & 0 & 0 & 0\\\\\n",
       "\t2 & N9  & Left atria     & 201 & 323 & 13 & 85 &  4 &  35 & 0 & 42 & 0 & 0 & 0\\\\\n",
       "\t3 & N8  & Left atria     & 103 & 117 &  6 & 31 &  7 &  13 & 0 & 22 & 0 & 0 & 0\\\\\n",
       "\t4 & N11 & Left atria     & 164 & 321 &  4 & 46 &  7 &  23 & 0 & 29 & 0 & 0 & 0\\\\\n",
       "\t5 & N7  & Left atria     &  28 & 204 &  2 & 10 &  3 &   9 & 0 & 11 & 0 & 0 & 0\\\\\n",
       "\t6 & N10 & Left atria     & 254 & 147 &  7 & 44 & 12 &  35 & 0 & 54 & 0 & 0 & 0\\\\\n",
       "\t7 & N3  & Left ventricle &  39 & 648 &  2 &  0 &  5 &  18 & 0 &  4 & 0 & 0 & 0\\\\\n",
       "\t8 & N2  & Left ventricle & 281 & 417 &  3 &  5 & 11 &  51 & 0 & 22 & 0 & 0 & 0\\\\\n",
       "\t9 & N5  & Left ventricle & 237 & 409 & 10 & 16 & 11 &  59 & 0 & 46 & 0 & 0 & 0\\\\\n",
       "\t10 & N4  & Left ventricle &  91 & 180 &  7 &  6 &  1 &  18 & 0 & 20 & 0 & 0 & 0\\\\\n",
       "\t11 & N12 & Left atria     &  21 & 324 &  9 & 47 &  7 &  11 & 0 &  3 & 0 & 0 & 0\\\\\n",
       "\t12 & N1  & Left ventricle & 310 & 138 & 11 & 19 & 30 &  36 & 0 & 31 & 0 & 0 & 0\\\\\n",
       "\\end{tabular}\n"
      ],
      "text/markdown": [
       "\n",
       "A data.frame: 12 × 13\n",
       "\n",
       "| <!--/--> | donor_id &lt;chr&gt; | subregion &lt;chr&gt; | Endothelial cell &lt;dbl&gt; | Cardiomyocyte cell &lt;dbl&gt; | Myelocyte &lt;dbl&gt; | Fibroblast &lt;dbl&gt; | Lymphocyte &lt;dbl&gt; | Smooth muscle cell &lt;dbl&gt; | Neuron &lt;dbl&gt; | Pericyte &lt;dbl&gt; | Adipocyte &lt;dbl&gt; | Neutrophilic granulocyte &lt;dbl&gt; | Mast cell &lt;dbl&gt; |\n",
       "|---|---|---|---|---|---|---|---|---|---|---|---|---|---|\n",
       "| 1 | N6  | Left atria     | 438 | 369 | 32 | 77 | 36 | 166 | 0 | 83 | 0 | 0 | 0 |\n",
       "| 2 | N9  | Left atria     | 201 | 323 | 13 | 85 |  4 |  35 | 0 | 42 | 0 | 0 | 0 |\n",
       "| 3 | N8  | Left atria     | 103 | 117 |  6 | 31 |  7 |  13 | 0 | 22 | 0 | 0 | 0 |\n",
       "| 4 | N11 | Left atria     | 164 | 321 |  4 | 46 |  7 |  23 | 0 | 29 | 0 | 0 | 0 |\n",
       "| 5 | N7  | Left atria     |  28 | 204 |  2 | 10 |  3 |   9 | 0 | 11 | 0 | 0 | 0 |\n",
       "| 6 | N10 | Left atria     | 254 | 147 |  7 | 44 | 12 |  35 | 0 | 54 | 0 | 0 | 0 |\n",
       "| 7 | N3  | Left ventricle |  39 | 648 |  2 |  0 |  5 |  18 | 0 |  4 | 0 | 0 | 0 |\n",
       "| 8 | N2  | Left ventricle | 281 | 417 |  3 |  5 | 11 |  51 | 0 | 22 | 0 | 0 | 0 |\n",
       "| 9 | N5  | Left ventricle | 237 | 409 | 10 | 16 | 11 |  59 | 0 | 46 | 0 | 0 | 0 |\n",
       "| 10 | N4  | Left ventricle |  91 | 180 |  7 |  6 |  1 |  18 | 0 | 20 | 0 | 0 | 0 |\n",
       "| 11 | N12 | Left atria     |  21 | 324 |  9 | 47 |  7 |  11 | 0 |  3 | 0 | 0 | 0 |\n",
       "| 12 | N1  | Left ventricle | 310 | 138 | 11 | 19 | 30 |  36 | 0 | 31 | 0 | 0 | 0 |\n",
       "\n"
      ],
      "text/plain": [
       "   donor_id subregion      Endothelial cell Cardiomyocyte cell Myelocyte\n",
       "1  N6       Left atria     438              369                32       \n",
       "2  N9       Left atria     201              323                13       \n",
       "3  N8       Left atria     103              117                 6       \n",
       "4  N11      Left atria     164              321                 4       \n",
       "5  N7       Left atria      28              204                 2       \n",
       "6  N10      Left atria     254              147                 7       \n",
       "7  N3       Left ventricle  39              648                 2       \n",
       "8  N2       Left ventricle 281              417                 3       \n",
       "9  N5       Left ventricle 237              409                10       \n",
       "10 N4       Left ventricle  91              180                 7       \n",
       "11 N12      Left atria      21              324                 9       \n",
       "12 N1       Left ventricle 310              138                11       \n",
       "   Fibroblast Lymphocyte Smooth muscle cell Neuron Pericyte Adipocyte\n",
       "1  77         36         166                0      83       0        \n",
       "2  85          4          35                0      42       0        \n",
       "3  31          7          13                0      22       0        \n",
       "4  46          7          23                0      29       0        \n",
       "5  10          3           9                0      11       0        \n",
       "6  44         12          35                0      54       0        \n",
       "7   0          5          18                0       4       0        \n",
       "8   5         11          51                0      22       0        \n",
       "9  16         11          59                0      46       0        \n",
       "10  6          1          18                0      20       0        \n",
       "11 47          7          11                0       3       0        \n",
       "12 19         30          36                0      31       0        \n",
       "   Neutrophilic granulocyte Mast cell\n",
       "1  0                        0        \n",
       "2  0                        0        \n",
       "3  0                        0        \n",
       "4  0                        0        \n",
       "5  0                        0        \n",
       "6  0                        0        \n",
       "7  0                        0        \n",
       "8  0                        0        \n",
       "9  0                        0        \n",
       "10 0                        0        \n",
       "11 0                        0        \n",
       "12 0                        0        "
      ]
     },
     "metadata": {},
     "output_type": "display_data"
    }
   ],
   "source": [
    "df"
   ]
  },
  {
   "cell_type": "markdown",
   "metadata": {},
   "source": [
    "# heart_heart_Hua2020"
   ]
  },
  {
   "cell_type": "code",
   "execution_count": 29,
   "metadata": {},
   "outputs": [],
   "source": [
    "objName = \"/stor/public/chenyx/HHCAd/datasets/heart_heart_Hua2020.seuratobj.rds\"\n",
    "dataobj<- readRDS(objName)"
   ]
  },
  {
   "cell_type": "code",
   "execution_count": 30,
   "metadata": {},
   "outputs": [],
   "source": [
    "cts <- unique(dataobj$cell_type)\n",
    "ids <- unique(dataobj$donor_id)"
   ]
  },
  {
   "cell_type": "code",
   "execution_count": 31,
   "metadata": {},
   "outputs": [],
   "source": [
    "df <- as.data.frame(matrix(numeric(0),ncol=13))\n",
    "colnames(df) <- c(\"donor_id\",\"subregion\",\"Endothelial cell\",\"Cardiomyocyte cell\",\"Myelocyte\",\"Fibroblast\",\"Lymphocyte\",\"Smooth muscle cell\",\"Neuron\",\"Pericyte\",\"Adipocyte\",\"Neutrophilic granulocyte\",\"Mast cell\")\n",
    "i = 1\n",
    "for(id in ids){\n",
    "    meta <- dataobj@meta.data[dataobj$donor_id == id,]\n",
    "    srs <- names(table(meta$subregion))\n",
    "    for(sr in srs){\n",
    "        df[i,\"donor_id\"] <- id\n",
    "        df[i,\"subregion\"] <- sr\n",
    "        t <- table(meta$cell_type[meta$subregion == sr])\n",
    "        for(ct in cts){\n",
    "            df[i,ct] <- t[ct]\n",
    "        }\n",
    "        i = i+1\n",
    "    }\n",
    "}\n",
    "df[is.na(df)] <- 0"
   ]
  },
  {
   "cell_type": "code",
   "execution_count": 32,
   "metadata": {},
   "outputs": [
    {
     "data": {
      "text/html": [
       "<table class=\"dataframe\">\n",
       "<caption>A data.frame: 6 × 13</caption>\n",
       "<thead>\n",
       "\t<tr><th></th><th scope=col>donor_id</th><th scope=col>subregion</th><th scope=col>Endothelial cell</th><th scope=col>Cardiomyocyte cell</th><th scope=col>Myelocyte</th><th scope=col>Fibroblast</th><th scope=col>Lymphocyte</th><th scope=col>Smooth muscle cell</th><th scope=col>Neuron</th><th scope=col>Pericyte</th><th scope=col>Adipocyte</th><th scope=col>Neutrophilic granulocyte</th><th scope=col>Mast cell</th></tr>\n",
       "\t<tr><th></th><th scope=col>&lt;chr&gt;</th><th scope=col>&lt;chr&gt;</th><th scope=col>&lt;dbl&gt;</th><th scope=col>&lt;dbl&gt;</th><th scope=col>&lt;dbl&gt;</th><th scope=col>&lt;dbl&gt;</th><th scope=col>&lt;dbl&gt;</th><th scope=col>&lt;dbl&gt;</th><th scope=col>&lt;dbl&gt;</th><th scope=col>&lt;dbl&gt;</th><th scope=col>&lt;dbl&gt;</th><th scope=col>&lt;dbl&gt;</th><th scope=col>&lt;dbl&gt;</th></tr>\n",
       "</thead>\n",
       "<tbody>\n",
       "\t<tr><th scope=row>1</th><td>Hua2020 Donor1</td><td>Interatrial septum     </td><td>1145</td><td>1195</td><td>1019</td><td>2046</td><td>167</td><td>697</td><td>246</td><td> 946</td><td>158</td><td>0</td><td>0</td></tr>\n",
       "\t<tr><th scope=row>2</th><td>Hua2020 Donor1</td><td>Interventricular septum</td><td>2655</td><td>6479</td><td>2703</td><td>7649</td><td>357</td><td>477</td><td>379</td><td>1980</td><td> 10</td><td>0</td><td>0</td></tr>\n",
       "\t<tr><th scope=row>3</th><td>Hua2020 Donor1</td><td>Left atria             </td><td> 818</td><td>1280</td><td> 788</td><td>1865</td><td>162</td><td>467</td><td>170</td><td> 680</td><td>172</td><td>0</td><td>0</td></tr>\n",
       "\t<tr><th scope=row>4</th><td>Hua2020 Donor1</td><td>Left ventricle         </td><td>4030</td><td>9518</td><td>2589</td><td>8206</td><td>404</td><td>787</td><td>332</td><td>2508</td><td> 71</td><td>0</td><td>0</td></tr>\n",
       "\t<tr><th scope=row>5</th><td>Hua2020 Donor1</td><td>Right atria            </td><td>1360</td><td>1577</td><td> 777</td><td>2527</td><td>159</td><td>354</td><td>332</td><td> 515</td><td> 19</td><td>0</td><td>0</td></tr>\n",
       "\t<tr><th scope=row>6</th><td>Hua2020 Donor1</td><td>Right ventricle        </td><td>1374</td><td>4441</td><td> 838</td><td>4243</td><td>104</td><td>415</td><td>196</td><td>1024</td><td> 74</td><td>0</td><td>0</td></tr>\n",
       "</tbody>\n",
       "</table>\n"
      ],
      "text/latex": [
       "A data.frame: 6 × 13\n",
       "\\begin{tabular}{r|lllllllllllll}\n",
       "  & donor\\_id & subregion & Endothelial cell & Cardiomyocyte cell & Myelocyte & Fibroblast & Lymphocyte & Smooth muscle cell & Neuron & Pericyte & Adipocyte & Neutrophilic granulocyte & Mast cell\\\\\n",
       "  & <chr> & <chr> & <dbl> & <dbl> & <dbl> & <dbl> & <dbl> & <dbl> & <dbl> & <dbl> & <dbl> & <dbl> & <dbl>\\\\\n",
       "\\hline\n",
       "\t1 & Hua2020 Donor1 & Interatrial septum      & 1145 & 1195 & 1019 & 2046 & 167 & 697 & 246 &  946 & 158 & 0 & 0\\\\\n",
       "\t2 & Hua2020 Donor1 & Interventricular septum & 2655 & 6479 & 2703 & 7649 & 357 & 477 & 379 & 1980 &  10 & 0 & 0\\\\\n",
       "\t3 & Hua2020 Donor1 & Left atria              &  818 & 1280 &  788 & 1865 & 162 & 467 & 170 &  680 & 172 & 0 & 0\\\\\n",
       "\t4 & Hua2020 Donor1 & Left ventricle          & 4030 & 9518 & 2589 & 8206 & 404 & 787 & 332 & 2508 &  71 & 0 & 0\\\\\n",
       "\t5 & Hua2020 Donor1 & Right atria             & 1360 & 1577 &  777 & 2527 & 159 & 354 & 332 &  515 &  19 & 0 & 0\\\\\n",
       "\t6 & Hua2020 Donor1 & Right ventricle         & 1374 & 4441 &  838 & 4243 & 104 & 415 & 196 & 1024 &  74 & 0 & 0\\\\\n",
       "\\end{tabular}\n"
      ],
      "text/markdown": [
       "\n",
       "A data.frame: 6 × 13\n",
       "\n",
       "| <!--/--> | donor_id &lt;chr&gt; | subregion &lt;chr&gt; | Endothelial cell &lt;dbl&gt; | Cardiomyocyte cell &lt;dbl&gt; | Myelocyte &lt;dbl&gt; | Fibroblast &lt;dbl&gt; | Lymphocyte &lt;dbl&gt; | Smooth muscle cell &lt;dbl&gt; | Neuron &lt;dbl&gt; | Pericyte &lt;dbl&gt; | Adipocyte &lt;dbl&gt; | Neutrophilic granulocyte &lt;dbl&gt; | Mast cell &lt;dbl&gt; |\n",
       "|---|---|---|---|---|---|---|---|---|---|---|---|---|---|\n",
       "| 1 | Hua2020 Donor1 | Interatrial septum      | 1145 | 1195 | 1019 | 2046 | 167 | 697 | 246 |  946 | 158 | 0 | 0 |\n",
       "| 2 | Hua2020 Donor1 | Interventricular septum | 2655 | 6479 | 2703 | 7649 | 357 | 477 | 379 | 1980 |  10 | 0 | 0 |\n",
       "| 3 | Hua2020 Donor1 | Left atria              |  818 | 1280 |  788 | 1865 | 162 | 467 | 170 |  680 | 172 | 0 | 0 |\n",
       "| 4 | Hua2020 Donor1 | Left ventricle          | 4030 | 9518 | 2589 | 8206 | 404 | 787 | 332 | 2508 |  71 | 0 | 0 |\n",
       "| 5 | Hua2020 Donor1 | Right atria             | 1360 | 1577 |  777 | 2527 | 159 | 354 | 332 |  515 |  19 | 0 | 0 |\n",
       "| 6 | Hua2020 Donor1 | Right ventricle         | 1374 | 4441 |  838 | 4243 | 104 | 415 | 196 | 1024 |  74 | 0 | 0 |\n",
       "\n"
      ],
      "text/plain": [
       "  donor_id       subregion               Endothelial cell Cardiomyocyte cell\n",
       "1 Hua2020 Donor1 Interatrial septum      1145             1195              \n",
       "2 Hua2020 Donor1 Interventricular septum 2655             6479              \n",
       "3 Hua2020 Donor1 Left atria               818             1280              \n",
       "4 Hua2020 Donor1 Left ventricle          4030             9518              \n",
       "5 Hua2020 Donor1 Right atria             1360             1577              \n",
       "6 Hua2020 Donor1 Right ventricle         1374             4441              \n",
       "  Myelocyte Fibroblast Lymphocyte Smooth muscle cell Neuron Pericyte Adipocyte\n",
       "1 1019      2046       167        697                246     946     158      \n",
       "2 2703      7649       357        477                379    1980      10      \n",
       "3  788      1865       162        467                170     680     172      \n",
       "4 2589      8206       404        787                332    2508      71      \n",
       "5  777      2527       159        354                332     515      19      \n",
       "6  838      4243       104        415                196    1024      74      \n",
       "  Neutrophilic granulocyte Mast cell\n",
       "1 0                        0        \n",
       "2 0                        0        \n",
       "3 0                        0        \n",
       "4 0                        0        \n",
       "5 0                        0        \n",
       "6 0                        0        "
      ]
     },
     "metadata": {},
     "output_type": "display_data"
    }
   ],
   "source": [
    "df"
   ]
  },
  {
   "cell_type": "markdown",
   "metadata": {},
   "source": [
    "# heart_heart_Hua2020_2"
   ]
  },
  {
   "cell_type": "code",
   "execution_count": 33,
   "metadata": {},
   "outputs": [],
   "source": [
    "objName = \"/stor/public/chenyx/HHCAd/datasets/heart_heart_Hua2020_2.seuratobj.rds\"\n",
    "dataobj<- readRDS(objName)"
   ]
  },
  {
   "cell_type": "code",
   "execution_count": 34,
   "metadata": {},
   "outputs": [],
   "source": [
    "cts <- unique(dataobj$cell_type)\n",
    "ids <- unique(dataobj$donor_id)"
   ]
  },
  {
   "cell_type": "code",
   "execution_count": 35,
   "metadata": {},
   "outputs": [],
   "source": [
    "df <- as.data.frame(matrix(numeric(0),ncol=13))\n",
    "colnames(df) <- c(\"donor_id\",\"subregion\",\"Endothelial cell\",\"Cardiomyocyte cell\",\"Myelocyte\",\"Fibroblast\",\"Lymphocyte\",\"Smooth muscle cell\",\"Neuron\",\"Pericyte\",\"Adipocyte\",\"Neutrophilic granulocyte\",\"Mast cell\")\n",
    "i = 1\n",
    "for(id in ids){\n",
    "    meta <- dataobj@meta.data[dataobj$donor_id == id,]\n",
    "    srs <- names(table(meta$subregion))\n",
    "    for(sr in srs){\n",
    "        df[i,\"donor_id\"] <- id\n",
    "        df[i,\"subregion\"] <- sr\n",
    "        t <- table(meta$cell_type[meta$subregion == sr])\n",
    "        for(ct in cts){\n",
    "            df[i,ct] <- t[ct]\n",
    "        }\n",
    "        i = i+1\n",
    "    }\n",
    "}\n",
    "df[is.na(df)] <- 0"
   ]
  },
  {
   "cell_type": "code",
   "execution_count": 36,
   "metadata": {},
   "outputs": [
    {
     "data": {
      "text/html": [
       "<table class=\"dataframe\">\n",
       "<caption>A data.frame: 6 × 13</caption>\n",
       "<thead>\n",
       "\t<tr><th></th><th scope=col>donor_id</th><th scope=col>subregion</th><th scope=col>Endothelial cell</th><th scope=col>Cardiomyocyte cell</th><th scope=col>Myelocyte</th><th scope=col>Fibroblast</th><th scope=col>Lymphocyte</th><th scope=col>Smooth muscle cell</th><th scope=col>Neuron</th><th scope=col>Pericyte</th><th scope=col>Adipocyte</th><th scope=col>Neutrophilic granulocyte</th><th scope=col>Mast cell</th></tr>\n",
       "\t<tr><th></th><th scope=col>&lt;chr&gt;</th><th scope=col>&lt;chr&gt;</th><th scope=col>&lt;dbl&gt;</th><th scope=col>&lt;dbl&gt;</th><th scope=col>&lt;dbl&gt;</th><th scope=col>&lt;dbl&gt;</th><th scope=col>&lt;dbl&gt;</th><th scope=col>&lt;dbl&gt;</th><th scope=col>&lt;dbl&gt;</th><th scope=col>&lt;dbl&gt;</th><th scope=col>&lt;dbl&gt;</th><th scope=col>&lt;dbl&gt;</th><th scope=col>&lt;dbl&gt;</th></tr>\n",
       "</thead>\n",
       "<tbody>\n",
       "\t<tr><th scope=row>1</th><td>Hua2020 Donor2</td><td>Interatrial septum     </td><td>1441</td><td> 3324</td><td> 667</td><td>4802</td><td>0</td><td>414</td><td>338</td><td> 571</td><td>  8</td><td>0</td><td>0</td></tr>\n",
       "\t<tr><th scope=row>2</th><td>Hua2020 Donor2</td><td>Interventricular septum</td><td>3803</td><td>13748</td><td> 444</td><td>2451</td><td>0</td><td>388</td><td>156</td><td>2353</td><td>  5</td><td>0</td><td>0</td></tr>\n",
       "\t<tr><th scope=row>3</th><td>Hua2020 Donor2</td><td>Left atria             </td><td> 776</td><td> 2067</td><td> 440</td><td>2414</td><td>0</td><td>240</td><td>232</td><td> 906</td><td> 24</td><td>0</td><td>0</td></tr>\n",
       "\t<tr><th scope=row>4</th><td>Hua2020 Donor2</td><td>Left ventricle         </td><td>3720</td><td>17734</td><td>1087</td><td>4340</td><td>0</td><td>467</td><td>328</td><td>1889</td><td> 12</td><td>0</td><td>0</td></tr>\n",
       "\t<tr><th scope=row>5</th><td>Hua2020 Donor2</td><td>Right atria            </td><td>1637</td><td> 3818</td><td> 656</td><td>2995</td><td>0</td><td>913</td><td>298</td><td> 779</td><td>123</td><td>0</td><td>0</td></tr>\n",
       "\t<tr><th scope=row>6</th><td>Hua2020 Donor2</td><td>Right ventricle        </td><td>1601</td><td> 8574</td><td>1194</td><td>3539</td><td>0</td><td>447</td><td>196</td><td> 992</td><td>133</td><td>0</td><td>0</td></tr>\n",
       "</tbody>\n",
       "</table>\n"
      ],
      "text/latex": [
       "A data.frame: 6 × 13\n",
       "\\begin{tabular}{r|lllllllllllll}\n",
       "  & donor\\_id & subregion & Endothelial cell & Cardiomyocyte cell & Myelocyte & Fibroblast & Lymphocyte & Smooth muscle cell & Neuron & Pericyte & Adipocyte & Neutrophilic granulocyte & Mast cell\\\\\n",
       "  & <chr> & <chr> & <dbl> & <dbl> & <dbl> & <dbl> & <dbl> & <dbl> & <dbl> & <dbl> & <dbl> & <dbl> & <dbl>\\\\\n",
       "\\hline\n",
       "\t1 & Hua2020 Donor2 & Interatrial septum      & 1441 &  3324 &  667 & 4802 & 0 & 414 & 338 &  571 &   8 & 0 & 0\\\\\n",
       "\t2 & Hua2020 Donor2 & Interventricular septum & 3803 & 13748 &  444 & 2451 & 0 & 388 & 156 & 2353 &   5 & 0 & 0\\\\\n",
       "\t3 & Hua2020 Donor2 & Left atria              &  776 &  2067 &  440 & 2414 & 0 & 240 & 232 &  906 &  24 & 0 & 0\\\\\n",
       "\t4 & Hua2020 Donor2 & Left ventricle          & 3720 & 17734 & 1087 & 4340 & 0 & 467 & 328 & 1889 &  12 & 0 & 0\\\\\n",
       "\t5 & Hua2020 Donor2 & Right atria             & 1637 &  3818 &  656 & 2995 & 0 & 913 & 298 &  779 & 123 & 0 & 0\\\\\n",
       "\t6 & Hua2020 Donor2 & Right ventricle         & 1601 &  8574 & 1194 & 3539 & 0 & 447 & 196 &  992 & 133 & 0 & 0\\\\\n",
       "\\end{tabular}\n"
      ],
      "text/markdown": [
       "\n",
       "A data.frame: 6 × 13\n",
       "\n",
       "| <!--/--> | donor_id &lt;chr&gt; | subregion &lt;chr&gt; | Endothelial cell &lt;dbl&gt; | Cardiomyocyte cell &lt;dbl&gt; | Myelocyte &lt;dbl&gt; | Fibroblast &lt;dbl&gt; | Lymphocyte &lt;dbl&gt; | Smooth muscle cell &lt;dbl&gt; | Neuron &lt;dbl&gt; | Pericyte &lt;dbl&gt; | Adipocyte &lt;dbl&gt; | Neutrophilic granulocyte &lt;dbl&gt; | Mast cell &lt;dbl&gt; |\n",
       "|---|---|---|---|---|---|---|---|---|---|---|---|---|---|\n",
       "| 1 | Hua2020 Donor2 | Interatrial septum      | 1441 |  3324 |  667 | 4802 | 0 | 414 | 338 |  571 |   8 | 0 | 0 |\n",
       "| 2 | Hua2020 Donor2 | Interventricular septum | 3803 | 13748 |  444 | 2451 | 0 | 388 | 156 | 2353 |   5 | 0 | 0 |\n",
       "| 3 | Hua2020 Donor2 | Left atria              |  776 |  2067 |  440 | 2414 | 0 | 240 | 232 |  906 |  24 | 0 | 0 |\n",
       "| 4 | Hua2020 Donor2 | Left ventricle          | 3720 | 17734 | 1087 | 4340 | 0 | 467 | 328 | 1889 |  12 | 0 | 0 |\n",
       "| 5 | Hua2020 Donor2 | Right atria             | 1637 |  3818 |  656 | 2995 | 0 | 913 | 298 |  779 | 123 | 0 | 0 |\n",
       "| 6 | Hua2020 Donor2 | Right ventricle         | 1601 |  8574 | 1194 | 3539 | 0 | 447 | 196 |  992 | 133 | 0 | 0 |\n",
       "\n"
      ],
      "text/plain": [
       "  donor_id       subregion               Endothelial cell Cardiomyocyte cell\n",
       "1 Hua2020 Donor2 Interatrial septum      1441              3324             \n",
       "2 Hua2020 Donor2 Interventricular septum 3803             13748             \n",
       "3 Hua2020 Donor2 Left atria               776              2067             \n",
       "4 Hua2020 Donor2 Left ventricle          3720             17734             \n",
       "5 Hua2020 Donor2 Right atria             1637              3818             \n",
       "6 Hua2020 Donor2 Right ventricle         1601              8574             \n",
       "  Myelocyte Fibroblast Lymphocyte Smooth muscle cell Neuron Pericyte Adipocyte\n",
       "1  667      4802       0          414                338     571       8      \n",
       "2  444      2451       0          388                156    2353       5      \n",
       "3  440      2414       0          240                232     906      24      \n",
       "4 1087      4340       0          467                328    1889      12      \n",
       "5  656      2995       0          913                298     779     123      \n",
       "6 1194      3539       0          447                196     992     133      \n",
       "  Neutrophilic granulocyte Mast cell\n",
       "1 0                        0        \n",
       "2 0                        0        \n",
       "3 0                        0        \n",
       "4 0                        0        \n",
       "5 0                        0        \n",
       "6 0                        0        "
      ]
     },
     "metadata": {},
     "output_type": "display_data"
    }
   ],
   "source": [
    "df"
   ]
  },
  {
   "cell_type": "markdown",
   "metadata": {},
   "source": [
    "# heart_heart_Tucker2020"
   ]
  },
  {
   "cell_type": "code",
   "execution_count": 37,
   "metadata": {},
   "outputs": [],
   "source": [
    "objName = \"/stor/public/chenyx/HHCAd/datasets/heart_heart_Tucker2020.seuratobj.rds\"\n",
    "dataobj<- readRDS(objName)"
   ]
  },
  {
   "cell_type": "code",
   "execution_count": 38,
   "metadata": {},
   "outputs": [],
   "source": [
    "cts <- unique(dataobj$cell_type)\n",
    "ids <- unique(dataobj$donor_id)"
   ]
  },
  {
   "cell_type": "code",
   "execution_count": 39,
   "metadata": {},
   "outputs": [],
   "source": [
    "df <- as.data.frame(matrix(numeric(0),ncol=13))\n",
    "colnames(df) <- c(\"donor_id\",\"subregion\",\"Endothelial cell\",\"Cardiomyocyte cell\",\"Myelocyte\",\"Fibroblast\",\"Lymphocyte\",\"Smooth muscle cell\",\"Neuron\",\"Pericyte\",\"Adipocyte\",\"Neutrophilic granulocyte\",\"Mast cell\")\n",
    "i = 1\n",
    "for(id in ids){\n",
    "    meta <- dataobj@meta.data[dataobj$donor_id == id,]\n",
    "    srs <- names(table(meta$subregion))\n",
    "    for(sr in srs){\n",
    "        df[i,\"donor_id\"] <- id\n",
    "        df[i,\"subregion\"] <- sr\n",
    "        t <- table(meta$cell_type[meta$subregion == sr])\n",
    "        for(ct in cts){\n",
    "            df[i,ct] <- t[ct]\n",
    "        }\n",
    "        i = i+1\n",
    "    }\n",
    "}\n",
    "df[is.na(df)] <- 0"
   ]
  },
  {
   "cell_type": "code",
   "execution_count": 40,
   "metadata": {},
   "outputs": [
    {
     "data": {
      "text/html": [
       "<table class=\"dataframe\">\n",
       "<caption>A data.frame: 23 × 13</caption>\n",
       "<thead>\n",
       "\t<tr><th></th><th scope=col>donor_id</th><th scope=col>subregion</th><th scope=col>Endothelial cell</th><th scope=col>Cardiomyocyte cell</th><th scope=col>Myelocyte</th><th scope=col>Fibroblast</th><th scope=col>Lymphocyte</th><th scope=col>Smooth muscle cell</th><th scope=col>Neuron</th><th scope=col>Pericyte</th><th scope=col>Adipocyte</th><th scope=col>Neutrophilic granulocyte</th><th scope=col>Mast cell</th></tr>\n",
       "\t<tr><th></th><th scope=col>&lt;chr&gt;</th><th scope=col>&lt;chr&gt;</th><th scope=col>&lt;dbl&gt;</th><th scope=col>&lt;dbl&gt;</th><th scope=col>&lt;dbl&gt;</th><th scope=col>&lt;dbl&gt;</th><th scope=col>&lt;dbl&gt;</th><th scope=col>&lt;dbl&gt;</th><th scope=col>&lt;dbl&gt;</th><th scope=col>&lt;dbl&gt;</th><th scope=col>&lt;dbl&gt;</th><th scope=col>&lt;dbl&gt;</th><th scope=col>&lt;dbl&gt;</th></tr>\n",
       "</thead>\n",
       "<tbody>\n",
       "\t<tr><th scope=row>1</th><td>Tucker2020 1600</td><td>Left atria     </td><td>1236</td><td> 3368</td><td>1388</td><td>3913</td><td> 11</td><td> 449</td><td> 64</td><td> 803</td><td> 201</td><td>0</td><td>0</td></tr>\n",
       "\t<tr><th scope=row>2</th><td>Tucker2020 1600</td><td>Right atria    </td><td>1819</td><td> 3776</td><td>1376</td><td>7058</td><td> 37</td><td> 234</td><td> 60</td><td> 596</td><td> 164</td><td>0</td><td>0</td></tr>\n",
       "\t<tr><th scope=row>3</th><td>Tucker2020 1666</td><td>Left atria     </td><td> 269</td><td> 1115</td><td>1061</td><td>3474</td><td> 14</td><td> 154</td><td> 28</td><td> 198</td><td> 195</td><td>0</td><td>0</td></tr>\n",
       "\t<tr><th scope=row>4</th><td>Tucker2020 1666</td><td>Left ventricle </td><td>3311</td><td> 2831</td><td>1241</td><td>4197</td><td> 69</td><td>  15</td><td>154</td><td>2141</td><td>   0</td><td>0</td><td>0</td></tr>\n",
       "\t<tr><th scope=row>5</th><td>Tucker2020 1666</td><td>Right ventricle</td><td>1748</td><td> 1784</td><td> 732</td><td>2343</td><td> 11</td><td>   7</td><td> 52</td><td> 476</td><td> 111</td><td>0</td><td>0</td></tr>\n",
       "\t<tr><th scope=row>6</th><td>Tucker2020 1681</td><td>Left atria     </td><td> 990</td><td> 4042</td><td> 724</td><td>5109</td><td> 81</td><td> 450</td><td> 87</td><td>1907</td><td> 826</td><td>0</td><td>0</td></tr>\n",
       "\t<tr><th scope=row>7</th><td>Tucker2020 1681</td><td>Left ventricle </td><td>1309</td><td> 8861</td><td> 626</td><td>4302</td><td>  3</td><td> 232</td><td>128</td><td>1302</td><td>   1</td><td>0</td><td>0</td></tr>\n",
       "\t<tr><th scope=row>8</th><td>Tucker2020 1681</td><td>Right atria    </td><td>1749</td><td> 8659</td><td> 761</td><td>3756</td><td>  2</td><td> 243</td><td>176</td><td> 542</td><td>   1</td><td>0</td><td>0</td></tr>\n",
       "\t<tr><th scope=row>9</th><td>Tucker2020 1702</td><td>Left atria     </td><td> 358</td><td> 6052</td><td> 688</td><td>2809</td><td> 89</td><td> 488</td><td> 16</td><td> 332</td><td>1409</td><td>0</td><td>0</td></tr>\n",
       "\t<tr><th scope=row>10</th><td>Tucker2020 1702</td><td>Left ventricle </td><td> 884</td><td> 3658</td><td>  97</td><td> 383</td><td>  9</td><td>   6</td><td>  3</td><td>  38</td><td>   7</td><td>0</td><td>0</td></tr>\n",
       "\t<tr><th scope=row>11</th><td>Tucker2020 1702</td><td>Right atria    </td><td>2244</td><td> 8165</td><td> 332</td><td>3385</td><td>  9</td><td> 388</td><td> 13</td><td>  93</td><td> 109</td><td>0</td><td>0</td></tr>\n",
       "\t<tr><th scope=row>12</th><td>Tucker2020 1702</td><td>Right ventricle</td><td> 850</td><td> 5005</td><td> 369</td><td>2303</td><td> 11</td><td>  38</td><td>  2</td><td> 456</td><td> 171</td><td>0</td><td>0</td></tr>\n",
       "\t<tr><th scope=row>13</th><td>Tucker2020 1708</td><td>Left atria     </td><td> 509</td><td> 4021</td><td> 512</td><td>4818</td><td>  4</td><td> 575</td><td> 56</td><td> 606</td><td> 318</td><td>0</td><td>0</td></tr>\n",
       "\t<tr><th scope=row>14</th><td>Tucker2020 1708</td><td>Left ventricle </td><td> 702</td><td> 7076</td><td> 643</td><td>1452</td><td> 26</td><td>  45</td><td> 16</td><td> 564</td><td> 335</td><td>0</td><td>0</td></tr>\n",
       "\t<tr><th scope=row>15</th><td>Tucker2020 1708</td><td>Right atria    </td><td> 367</td><td> 4616</td><td> 757</td><td>4074</td><td>  9</td><td> 187</td><td> 25</td><td> 218</td><td> 233</td><td>0</td><td>0</td></tr>\n",
       "\t<tr><th scope=row>16</th><td>Tucker2020 1708</td><td>Right ventricle</td><td> 167</td><td> 3620</td><td> 208</td><td> 440</td><td>  4</td><td> 156</td><td>  4</td><td>  98</td><td>2239</td><td>0</td><td>0</td></tr>\n",
       "\t<tr><th scope=row>17</th><td>Tucker2020 1723</td><td>Left atria     </td><td> 364</td><td> 2009</td><td> 743</td><td>6540</td><td> 79</td><td>1264</td><td> 80</td><td> 789</td><td> 522</td><td>0</td><td>0</td></tr>\n",
       "\t<tr><th scope=row>18</th><td>Tucker2020 1723</td><td>Left ventricle </td><td>1538</td><td>10580</td><td>1157</td><td>3453</td><td>443</td><td>  55</td><td>135</td><td>2006</td><td> 329</td><td>0</td><td>0</td></tr>\n",
       "\t<tr><th scope=row>19</th><td>Tucker2020 1723</td><td>Right atria    </td><td>1994</td><td> 3623</td><td> 869</td><td>7627</td><td>194</td><td> 456</td><td>272</td><td>1049</td><td> 184</td><td>0</td><td>0</td></tr>\n",
       "\t<tr><th scope=row>20</th><td>Tucker2020 1723</td><td>Right ventricle</td><td>1376</td><td> 5191</td><td> 515</td><td>2055</td><td> 36</td><td>  38</td><td> 42</td><td> 694</td><td> 490</td><td>0</td><td>0</td></tr>\n",
       "\t<tr><th scope=row>21</th><td>Tucker2020 1221</td><td>Left ventricle </td><td>  90</td><td> 2225</td><td> 165</td><td> 652</td><td>  1</td><td>   5</td><td>  4</td><td> 119</td><td>   6</td><td>0</td><td>0</td></tr>\n",
       "\t<tr><th scope=row>22</th><td>Tucker2020 1221</td><td>Right atria    </td><td> 598</td><td> 1658</td><td> 422</td><td>2307</td><td> 74</td><td>  86</td><td> 60</td><td> 291</td><td>   1</td><td>0</td><td>0</td></tr>\n",
       "\t<tr><th scope=row>23</th><td>Tucker2020 1221</td><td>Right ventricle</td><td>1107</td><td> 7734</td><td> 852</td><td>1559</td><td>  6</td><td>  12</td><td> 12</td><td> 553</td><td> 491</td><td>0</td><td>0</td></tr>\n",
       "</tbody>\n",
       "</table>\n"
      ],
      "text/latex": [
       "A data.frame: 23 × 13\n",
       "\\begin{tabular}{r|lllllllllllll}\n",
       "  & donor\\_id & subregion & Endothelial cell & Cardiomyocyte cell & Myelocyte & Fibroblast & Lymphocyte & Smooth muscle cell & Neuron & Pericyte & Adipocyte & Neutrophilic granulocyte & Mast cell\\\\\n",
       "  & <chr> & <chr> & <dbl> & <dbl> & <dbl> & <dbl> & <dbl> & <dbl> & <dbl> & <dbl> & <dbl> & <dbl> & <dbl>\\\\\n",
       "\\hline\n",
       "\t1 & Tucker2020 1600 & Left atria      & 1236 &  3368 & 1388 & 3913 &  11 &  449 &  64 &  803 &  201 & 0 & 0\\\\\n",
       "\t2 & Tucker2020 1600 & Right atria     & 1819 &  3776 & 1376 & 7058 &  37 &  234 &  60 &  596 &  164 & 0 & 0\\\\\n",
       "\t3 & Tucker2020 1666 & Left atria      &  269 &  1115 & 1061 & 3474 &  14 &  154 &  28 &  198 &  195 & 0 & 0\\\\\n",
       "\t4 & Tucker2020 1666 & Left ventricle  & 3311 &  2831 & 1241 & 4197 &  69 &   15 & 154 & 2141 &    0 & 0 & 0\\\\\n",
       "\t5 & Tucker2020 1666 & Right ventricle & 1748 &  1784 &  732 & 2343 &  11 &    7 &  52 &  476 &  111 & 0 & 0\\\\\n",
       "\t6 & Tucker2020 1681 & Left atria      &  990 &  4042 &  724 & 5109 &  81 &  450 &  87 & 1907 &  826 & 0 & 0\\\\\n",
       "\t7 & Tucker2020 1681 & Left ventricle  & 1309 &  8861 &  626 & 4302 &   3 &  232 & 128 & 1302 &    1 & 0 & 0\\\\\n",
       "\t8 & Tucker2020 1681 & Right atria     & 1749 &  8659 &  761 & 3756 &   2 &  243 & 176 &  542 &    1 & 0 & 0\\\\\n",
       "\t9 & Tucker2020 1702 & Left atria      &  358 &  6052 &  688 & 2809 &  89 &  488 &  16 &  332 & 1409 & 0 & 0\\\\\n",
       "\t10 & Tucker2020 1702 & Left ventricle  &  884 &  3658 &   97 &  383 &   9 &    6 &   3 &   38 &    7 & 0 & 0\\\\\n",
       "\t11 & Tucker2020 1702 & Right atria     & 2244 &  8165 &  332 & 3385 &   9 &  388 &  13 &   93 &  109 & 0 & 0\\\\\n",
       "\t12 & Tucker2020 1702 & Right ventricle &  850 &  5005 &  369 & 2303 &  11 &   38 &   2 &  456 &  171 & 0 & 0\\\\\n",
       "\t13 & Tucker2020 1708 & Left atria      &  509 &  4021 &  512 & 4818 &   4 &  575 &  56 &  606 &  318 & 0 & 0\\\\\n",
       "\t14 & Tucker2020 1708 & Left ventricle  &  702 &  7076 &  643 & 1452 &  26 &   45 &  16 &  564 &  335 & 0 & 0\\\\\n",
       "\t15 & Tucker2020 1708 & Right atria     &  367 &  4616 &  757 & 4074 &   9 &  187 &  25 &  218 &  233 & 0 & 0\\\\\n",
       "\t16 & Tucker2020 1708 & Right ventricle &  167 &  3620 &  208 &  440 &   4 &  156 &   4 &   98 & 2239 & 0 & 0\\\\\n",
       "\t17 & Tucker2020 1723 & Left atria      &  364 &  2009 &  743 & 6540 &  79 & 1264 &  80 &  789 &  522 & 0 & 0\\\\\n",
       "\t18 & Tucker2020 1723 & Left ventricle  & 1538 & 10580 & 1157 & 3453 & 443 &   55 & 135 & 2006 &  329 & 0 & 0\\\\\n",
       "\t19 & Tucker2020 1723 & Right atria     & 1994 &  3623 &  869 & 7627 & 194 &  456 & 272 & 1049 &  184 & 0 & 0\\\\\n",
       "\t20 & Tucker2020 1723 & Right ventricle & 1376 &  5191 &  515 & 2055 &  36 &   38 &  42 &  694 &  490 & 0 & 0\\\\\n",
       "\t21 & Tucker2020 1221 & Left ventricle  &   90 &  2225 &  165 &  652 &   1 &    5 &   4 &  119 &    6 & 0 & 0\\\\\n",
       "\t22 & Tucker2020 1221 & Right atria     &  598 &  1658 &  422 & 2307 &  74 &   86 &  60 &  291 &    1 & 0 & 0\\\\\n",
       "\t23 & Tucker2020 1221 & Right ventricle & 1107 &  7734 &  852 & 1559 &   6 &   12 &  12 &  553 &  491 & 0 & 0\\\\\n",
       "\\end{tabular}\n"
      ],
      "text/markdown": [
       "\n",
       "A data.frame: 23 × 13\n",
       "\n",
       "| <!--/--> | donor_id &lt;chr&gt; | subregion &lt;chr&gt; | Endothelial cell &lt;dbl&gt; | Cardiomyocyte cell &lt;dbl&gt; | Myelocyte &lt;dbl&gt; | Fibroblast &lt;dbl&gt; | Lymphocyte &lt;dbl&gt; | Smooth muscle cell &lt;dbl&gt; | Neuron &lt;dbl&gt; | Pericyte &lt;dbl&gt; | Adipocyte &lt;dbl&gt; | Neutrophilic granulocyte &lt;dbl&gt; | Mast cell &lt;dbl&gt; |\n",
       "|---|---|---|---|---|---|---|---|---|---|---|---|---|---|\n",
       "| 1 | Tucker2020 1600 | Left atria      | 1236 |  3368 | 1388 | 3913 |  11 |  449 |  64 |  803 |  201 | 0 | 0 |\n",
       "| 2 | Tucker2020 1600 | Right atria     | 1819 |  3776 | 1376 | 7058 |  37 |  234 |  60 |  596 |  164 | 0 | 0 |\n",
       "| 3 | Tucker2020 1666 | Left atria      |  269 |  1115 | 1061 | 3474 |  14 |  154 |  28 |  198 |  195 | 0 | 0 |\n",
       "| 4 | Tucker2020 1666 | Left ventricle  | 3311 |  2831 | 1241 | 4197 |  69 |   15 | 154 | 2141 |    0 | 0 | 0 |\n",
       "| 5 | Tucker2020 1666 | Right ventricle | 1748 |  1784 |  732 | 2343 |  11 |    7 |  52 |  476 |  111 | 0 | 0 |\n",
       "| 6 | Tucker2020 1681 | Left atria      |  990 |  4042 |  724 | 5109 |  81 |  450 |  87 | 1907 |  826 | 0 | 0 |\n",
       "| 7 | Tucker2020 1681 | Left ventricle  | 1309 |  8861 |  626 | 4302 |   3 |  232 | 128 | 1302 |    1 | 0 | 0 |\n",
       "| 8 | Tucker2020 1681 | Right atria     | 1749 |  8659 |  761 | 3756 |   2 |  243 | 176 |  542 |    1 | 0 | 0 |\n",
       "| 9 | Tucker2020 1702 | Left atria      |  358 |  6052 |  688 | 2809 |  89 |  488 |  16 |  332 | 1409 | 0 | 0 |\n",
       "| 10 | Tucker2020 1702 | Left ventricle  |  884 |  3658 |   97 |  383 |   9 |    6 |   3 |   38 |    7 | 0 | 0 |\n",
       "| 11 | Tucker2020 1702 | Right atria     | 2244 |  8165 |  332 | 3385 |   9 |  388 |  13 |   93 |  109 | 0 | 0 |\n",
       "| 12 | Tucker2020 1702 | Right ventricle |  850 |  5005 |  369 | 2303 |  11 |   38 |   2 |  456 |  171 | 0 | 0 |\n",
       "| 13 | Tucker2020 1708 | Left atria      |  509 |  4021 |  512 | 4818 |   4 |  575 |  56 |  606 |  318 | 0 | 0 |\n",
       "| 14 | Tucker2020 1708 | Left ventricle  |  702 |  7076 |  643 | 1452 |  26 |   45 |  16 |  564 |  335 | 0 | 0 |\n",
       "| 15 | Tucker2020 1708 | Right atria     |  367 |  4616 |  757 | 4074 |   9 |  187 |  25 |  218 |  233 | 0 | 0 |\n",
       "| 16 | Tucker2020 1708 | Right ventricle |  167 |  3620 |  208 |  440 |   4 |  156 |   4 |   98 | 2239 | 0 | 0 |\n",
       "| 17 | Tucker2020 1723 | Left atria      |  364 |  2009 |  743 | 6540 |  79 | 1264 |  80 |  789 |  522 | 0 | 0 |\n",
       "| 18 | Tucker2020 1723 | Left ventricle  | 1538 | 10580 | 1157 | 3453 | 443 |   55 | 135 | 2006 |  329 | 0 | 0 |\n",
       "| 19 | Tucker2020 1723 | Right atria     | 1994 |  3623 |  869 | 7627 | 194 |  456 | 272 | 1049 |  184 | 0 | 0 |\n",
       "| 20 | Tucker2020 1723 | Right ventricle | 1376 |  5191 |  515 | 2055 |  36 |   38 |  42 |  694 |  490 | 0 | 0 |\n",
       "| 21 | Tucker2020 1221 | Left ventricle  |   90 |  2225 |  165 |  652 |   1 |    5 |   4 |  119 |    6 | 0 | 0 |\n",
       "| 22 | Tucker2020 1221 | Right atria     |  598 |  1658 |  422 | 2307 |  74 |   86 |  60 |  291 |    1 | 0 | 0 |\n",
       "| 23 | Tucker2020 1221 | Right ventricle | 1107 |  7734 |  852 | 1559 |   6 |   12 |  12 |  553 |  491 | 0 | 0 |\n",
       "\n"
      ],
      "text/plain": [
       "   donor_id        subregion       Endothelial cell Cardiomyocyte cell\n",
       "1  Tucker2020 1600 Left atria      1236              3368             \n",
       "2  Tucker2020 1600 Right atria     1819              3776             \n",
       "3  Tucker2020 1666 Left atria       269              1115             \n",
       "4  Tucker2020 1666 Left ventricle  3311              2831             \n",
       "5  Tucker2020 1666 Right ventricle 1748              1784             \n",
       "6  Tucker2020 1681 Left atria       990              4042             \n",
       "7  Tucker2020 1681 Left ventricle  1309              8861             \n",
       "8  Tucker2020 1681 Right atria     1749              8659             \n",
       "9  Tucker2020 1702 Left atria       358              6052             \n",
       "10 Tucker2020 1702 Left ventricle   884              3658             \n",
       "11 Tucker2020 1702 Right atria     2244              8165             \n",
       "12 Tucker2020 1702 Right ventricle  850              5005             \n",
       "13 Tucker2020 1708 Left atria       509              4021             \n",
       "14 Tucker2020 1708 Left ventricle   702              7076             \n",
       "15 Tucker2020 1708 Right atria      367              4616             \n",
       "16 Tucker2020 1708 Right ventricle  167              3620             \n",
       "17 Tucker2020 1723 Left atria       364              2009             \n",
       "18 Tucker2020 1723 Left ventricle  1538             10580             \n",
       "19 Tucker2020 1723 Right atria     1994              3623             \n",
       "20 Tucker2020 1723 Right ventricle 1376              5191             \n",
       "21 Tucker2020 1221 Left ventricle    90              2225             \n",
       "22 Tucker2020 1221 Right atria      598              1658             \n",
       "23 Tucker2020 1221 Right ventricle 1107              7734             \n",
       "   Myelocyte Fibroblast Lymphocyte Smooth muscle cell Neuron Pericyte Adipocyte\n",
       "1  1388      3913        11         449                64     803      201     \n",
       "2  1376      7058        37         234                60     596      164     \n",
       "3  1061      3474        14         154                28     198      195     \n",
       "4  1241      4197        69          15               154    2141        0     \n",
       "5   732      2343        11           7                52     476      111     \n",
       "6   724      5109        81         450                87    1907      826     \n",
       "7   626      4302         3         232               128    1302        1     \n",
       "8   761      3756         2         243               176     542        1     \n",
       "9   688      2809        89         488                16     332     1409     \n",
       "10   97       383         9           6                 3      38        7     \n",
       "11  332      3385         9         388                13      93      109     \n",
       "12  369      2303        11          38                 2     456      171     \n",
       "13  512      4818         4         575                56     606      318     \n",
       "14  643      1452        26          45                16     564      335     \n",
       "15  757      4074         9         187                25     218      233     \n",
       "16  208       440         4         156                 4      98     2239     \n",
       "17  743      6540        79        1264                80     789      522     \n",
       "18 1157      3453       443          55               135    2006      329     \n",
       "19  869      7627       194         456               272    1049      184     \n",
       "20  515      2055        36          38                42     694      490     \n",
       "21  165       652         1           5                 4     119        6     \n",
       "22  422      2307        74          86                60     291        1     \n",
       "23  852      1559         6          12                12     553      491     \n",
       "   Neutrophilic granulocyte Mast cell\n",
       "1  0                        0        \n",
       "2  0                        0        \n",
       "3  0                        0        \n",
       "4  0                        0        \n",
       "5  0                        0        \n",
       "6  0                        0        \n",
       "7  0                        0        \n",
       "8  0                        0        \n",
       "9  0                        0        \n",
       "10 0                        0        \n",
       "11 0                        0        \n",
       "12 0                        0        \n",
       "13 0                        0        \n",
       "14 0                        0        \n",
       "15 0                        0        \n",
       "16 0                        0        \n",
       "17 0                        0        \n",
       "18 0                        0        \n",
       "19 0                        0        \n",
       "20 0                        0        \n",
       "21 0                        0        \n",
       "22 0                        0        \n",
       "23 0                        0        "
      ]
     },
     "metadata": {},
     "output_type": "display_data"
    }
   ],
   "source": [
    "df"
   ]
  },
  {
   "cell_type": "markdown",
   "metadata": {},
   "source": [
    "# Heart_Heart_Sarah2020"
   ]
  },
  {
   "cell_type": "code",
   "execution_count": 2,
   "metadata": {},
   "outputs": [],
   "source": [
    "objName = \"/stor/public/chenyx/HHCAd/datasets/Heart_Heart_Sarah2020.seuratobj.rds\"\n",
    "dataobj<- readRDS(objName)"
   ]
  },
  {
   "cell_type": "code",
   "execution_count": 3,
   "metadata": {},
   "outputs": [
    {
     "data": {
      "text/html": [
       "<style>\n",
       ".list-inline {list-style: none; margin:0; padding: 0}\n",
       ".list-inline>li {display: inline-block}\n",
       ".list-inline>li:not(:last-child)::after {content: \"\\00b7\"; padding: 0 .5ex}\n",
       "</style>\n",
       "<ol class=list-inline><li>'Sarah2020_H5'</li><li>'Sarah2020_H6'</li><li>'Sarah2020_H3'</li><li>'Sarah2020_H2'</li><li>'Sarah2020_H7'</li><li>'Sarah2020_H4'</li><li>'Sarah2020_D1'</li><li>'Sarah2020_D2'</li><li>'Sarah2020_D3'</li><li>'Sarah2020_D4'</li><li>'Sarah2020_D5'</li><li>'Sarah2020_D6'</li><li>'Sarah2020_D7'</li><li>'Sarah2020_D11'</li></ol>\n"
      ],
      "text/latex": [
       "\\begin{enumerate*}\n",
       "\\item 'Sarah2020\\_H5'\n",
       "\\item 'Sarah2020\\_H6'\n",
       "\\item 'Sarah2020\\_H3'\n",
       "\\item 'Sarah2020\\_H2'\n",
       "\\item 'Sarah2020\\_H7'\n",
       "\\item 'Sarah2020\\_H4'\n",
       "\\item 'Sarah2020\\_D1'\n",
       "\\item 'Sarah2020\\_D2'\n",
       "\\item 'Sarah2020\\_D3'\n",
       "\\item 'Sarah2020\\_D4'\n",
       "\\item 'Sarah2020\\_D5'\n",
       "\\item 'Sarah2020\\_D6'\n",
       "\\item 'Sarah2020\\_D7'\n",
       "\\item 'Sarah2020\\_D11'\n",
       "\\end{enumerate*}\n"
      ],
      "text/markdown": [
       "1. 'Sarah2020_H5'\n",
       "2. 'Sarah2020_H6'\n",
       "3. 'Sarah2020_H3'\n",
       "4. 'Sarah2020_H2'\n",
       "5. 'Sarah2020_H7'\n",
       "6. 'Sarah2020_H4'\n",
       "7. 'Sarah2020_D1'\n",
       "8. 'Sarah2020_D2'\n",
       "9. 'Sarah2020_D3'\n",
       "10. 'Sarah2020_D4'\n",
       "11. 'Sarah2020_D5'\n",
       "12. 'Sarah2020_D6'\n",
       "13. 'Sarah2020_D7'\n",
       "14. 'Sarah2020_D11'\n",
       "\n",
       "\n"
      ],
      "text/plain": [
       " [1] \"Sarah2020_H5\"  \"Sarah2020_H6\"  \"Sarah2020_H3\"  \"Sarah2020_H2\" \n",
       " [5] \"Sarah2020_H7\"  \"Sarah2020_H4\"  \"Sarah2020_D1\"  \"Sarah2020_D2\" \n",
       " [9] \"Sarah2020_D3\"  \"Sarah2020_D4\"  \"Sarah2020_D5\"  \"Sarah2020_D6\" \n",
       "[13] \"Sarah2020_D7\"  \"Sarah2020_D11\""
      ]
     },
     "metadata": {},
     "output_type": "display_data"
    }
   ],
   "source": [
    "unique(dataobj$donor_id)"
   ]
  },
  {
   "cell_type": "code",
   "execution_count": 4,
   "metadata": {},
   "outputs": [],
   "source": [
    "dataobj <- subset(dataobj,subset=donor_id %in% c('Sarah2020_H5','Sarah2020_H6','Sarah2020_H3','Sarah2020_H2','Sarah2020_H7','Sarah2020_H4','Sarah2020_D1','Sarah2020_D2'))"
   ]
  },
  {
   "cell_type": "code",
   "execution_count": 5,
   "metadata": {},
   "outputs": [
    {
     "data": {
      "text/plain": [
       "An object of class Seurat \n",
       "43878 features across 219259 samples within 1 assay \n",
       "Active assay: RNA (43878 features, 0 variable features)"
      ]
     },
     "metadata": {},
     "output_type": "display_data"
    }
   ],
   "source": [
    "dataobj"
   ]
  },
  {
   "cell_type": "code",
   "execution_count": 4,
   "metadata": {},
   "outputs": [],
   "source": [
    "cts <- unique(dataobj$cell_type)\n",
    "ids <- unique(dataobj$donor_id)"
   ]
  },
  {
   "cell_type": "code",
   "execution_count": 5,
   "metadata": {},
   "outputs": [],
   "source": [
    "df <- as.data.frame(matrix(numeric(0),ncol=13))\n",
    "colnames(df) <- c(\"donor_id\",\"subregion\",\"Endothelial cell\",\"Cardiomyocyte cell\",\"Myelocyte\",\"Fibroblast\",\"Lymphocyte\",\"Smooth muscle cell\",\"Neuron\",\"Pericyte\",\"Adipocyte\",\"Neutrophilic granulocyte\",\"Mast cell\")\n",
    "i = 1\n",
    "for(id in ids){\n",
    "    meta <- dataobj@meta.data[dataobj$donor_id == id,]\n",
    "    srs <- names(table(meta$subregion))\n",
    "    for(sr in srs){\n",
    "        df[i,\"donor_id\"] <- id\n",
    "        df[i,\"subregion\"] <- sr\n",
    "        t <- table(meta$cell_type[meta$subregion == sr])\n",
    "        for(ct in cts){\n",
    "            df[i,ct] <- t[ct]\n",
    "        }\n",
    "        i = i+1\n",
    "    }\n",
    "}\n",
    "df[is.na(df)] <- 0"
   ]
  },
  {
   "cell_type": "code",
   "execution_count": 6,
   "metadata": {},
   "outputs": [
    {
     "data": {
      "text/html": [
       "<table class=\"dataframe\">\n",
       "<caption>A data.frame: 68 × 13</caption>\n",
       "<thead>\n",
       "\t<tr><th></th><th scope=col>donor_id</th><th scope=col>subregion</th><th scope=col>Endothelial cell</th><th scope=col>Cardiomyocyte cell</th><th scope=col>Myelocyte</th><th scope=col>Fibroblast</th><th scope=col>Lymphocyte</th><th scope=col>Smooth muscle cell</th><th scope=col>Neuron</th><th scope=col>Pericyte</th><th scope=col>Adipocyte</th><th scope=col>Neutrophilic granulocyte</th><th scope=col>Mast cell</th></tr>\n",
       "\t<tr><th></th><th scope=col>&lt;chr&gt;</th><th scope=col>&lt;chr&gt;</th><th scope=col>&lt;dbl&gt;</th><th scope=col>&lt;dbl&gt;</th><th scope=col>&lt;dbl&gt;</th><th scope=col>&lt;dbl&gt;</th><th scope=col>&lt;dbl&gt;</th><th scope=col>&lt;dbl&gt;</th><th scope=col>&lt;dbl&gt;</th><th scope=col>&lt;dbl&gt;</th><th scope=col>&lt;dbl&gt;</th><th scope=col>&lt;dbl&gt;</th><th scope=col>&lt;dbl&gt;</th></tr>\n",
       "</thead>\n",
       "<tbody>\n",
       "\t<tr><th scope=row>1</th><td>Sarah2020_H5</td><td>Interventricular septum</td><td> 794</td><td>4496</td><td> 92</td><td> 742</td><td> 73</td><td>415</td><td>114</td><td>1597</td><td>  8</td><td>0</td><td> 55</td></tr>\n",
       "\t<tr><th scope=row>2</th><td>Sarah2020_H5</td><td>Left atria             </td><td> 253</td><td> 368</td><td>232</td><td> 306</td><td> 86</td><td> 89</td><td> 28</td><td> 495</td><td>147</td><td>0</td><td>  5</td></tr>\n",
       "\t<tr><th scope=row>3</th><td>Sarah2020_H5</td><td>Left ventricle         </td><td>1262</td><td>9943</td><td>146</td><td>1212</td><td>333</td><td>619</td><td>181</td><td>3397</td><td> 46</td><td>0</td><td>148</td></tr>\n",
       "\t<tr><th scope=row>4</th><td>Sarah2020_H5</td><td>Right atria            </td><td> 276</td><td> 360</td><td>102</td><td> 388</td><td>106</td><td>137</td><td> 52</td><td> 152</td><td>272</td><td>0</td><td>  1</td></tr>\n",
       "\t<tr><th scope=row>5</th><td>Sarah2020_H5</td><td>Right ventricle        </td><td> 265</td><td>4437</td><td> 28</td><td> 208</td><td> 21</td><td>163</td><td> 33</td><td>1267</td><td>  1</td><td>0</td><td> 16</td></tr>\n",
       "\t<tr><th scope=row>6</th><td>Sarah2020_H6</td><td>Interventricular septum</td><td> 233</td><td>2301</td><td>133</td><td> 407</td><td>110</td><td>114</td><td> 44</td><td> 419</td><td>  7</td><td>0</td><td> 34</td></tr>\n",
       "\t<tr><th scope=row>7</th><td>Sarah2020_H6</td><td>Left atria             </td><td> 219</td><td> 576</td><td> 99</td><td> 593</td><td> 63</td><td>220</td><td> 46</td><td> 261</td><td>298</td><td>0</td><td> 10</td></tr>\n",
       "\t<tr><th scope=row>8</th><td>Sarah2020_H6</td><td>Left ventricle         </td><td> 704</td><td>8770</td><td>155</td><td> 924</td><td>173</td><td>419</td><td>181</td><td>2621</td><td> 32</td><td>0</td><td>109</td></tr>\n",
       "\t<tr><th scope=row>9</th><td>Sarah2020_H6</td><td>Right atria            </td><td> 239</td><td> 824</td><td> 64</td><td> 602</td><td> 89</td><td>116</td><td> 81</td><td> 159</td><td> 34</td><td>0</td><td>  1</td></tr>\n",
       "\t<tr><th scope=row>10</th><td>Sarah2020_H6</td><td>Right ventricle        </td><td> 100</td><td>1387</td><td>104</td><td> 164</td><td>143</td><td>111</td><td> 10</td><td> 284</td><td> 81</td><td>0</td><td> 50</td></tr>\n",
       "\t<tr><th scope=row>11</th><td>Sarah2020_H3</td><td>Interventricular septum</td><td> 153</td><td>3001</td><td> 40</td><td> 428</td><td> 17</td><td>148</td><td> 36</td><td>1123</td><td>  3</td><td>0</td><td> 77</td></tr>\n",
       "\t<tr><th scope=row>12</th><td>Sarah2020_H3</td><td>Left atria             </td><td> 637</td><td> 965</td><td>345</td><td> 721</td><td>178</td><td>511</td><td>100</td><td>1705</td><td>373</td><td>0</td><td>  0</td></tr>\n",
       "\t<tr><th scope=row>13</th><td>Sarah2020_H3</td><td>Left ventricle         </td><td>1135</td><td>5050</td><td>177</td><td>1162</td><td> 59</td><td>409</td><td>139</td><td>3245</td><td>  4</td><td>0</td><td>153</td></tr>\n",
       "\t<tr><th scope=row>14</th><td>Sarah2020_H3</td><td>Right atria            </td><td> 238</td><td> 427</td><td>325</td><td> 234</td><td>407</td><td> 85</td><td> 29</td><td> 386</td><td> 31</td><td>0</td><td>  1</td></tr>\n",
       "\t<tr><th scope=row>15</th><td>Sarah2020_H3</td><td>Right ventricle        </td><td> 390</td><td>2404</td><td> 59</td><td> 462</td><td> 46</td><td>128</td><td> 44</td><td> 987</td><td> 26</td><td>0</td><td> 43</td></tr>\n",
       "\t<tr><th scope=row>16</th><td>Sarah2020_H2</td><td>Interventricular septum</td><td> 248</td><td> 809</td><td> 88</td><td>  92</td><td> 66</td><td> 67</td><td> 13</td><td> 880</td><td>  0</td><td>0</td><td> 24</td></tr>\n",
       "\t<tr><th scope=row>17</th><td>Sarah2020_H2</td><td>Left atria             </td><td> 302</td><td> 257</td><td>274</td><td> 500</td><td>660</td><td>254</td><td> 99</td><td> 480</td><td>129</td><td>0</td><td> 41</td></tr>\n",
       "\t<tr><th scope=row>18</th><td>Sarah2020_H2</td><td>Left ventricle         </td><td>1489</td><td>2947</td><td>295</td><td> 909</td><td>179</td><td>505</td><td> 78</td><td>2576</td><td>145</td><td>1</td><td>103</td></tr>\n",
       "\t<tr><th scope=row>19</th><td>Sarah2020_H2</td><td>Right atria            </td><td> 124</td><td>  94</td><td>118</td><td> 276</td><td>201</td><td> 44</td><td> 21</td><td> 134</td><td> 24</td><td>1</td><td>  4</td></tr>\n",
       "\t<tr><th scope=row>20</th><td>Sarah2020_H2</td><td>Right ventricle        </td><td> 333</td><td>2130</td><td> 94</td><td> 661</td><td>405</td><td>128</td><td> 47</td><td>1026</td><td>110</td><td>0</td><td> 39</td></tr>\n",
       "\t<tr><th scope=row>21</th><td>Sarah2020_H7</td><td>Interventricular septum</td><td> 117</td><td>1815</td><td> 96</td><td> 468</td><td>  9</td><td>175</td><td> 35</td><td> 910</td><td>  7</td><td>0</td><td> 25</td></tr>\n",
       "\t<tr><th scope=row>22</th><td>Sarah2020_H7</td><td>Left atria             </td><td> 328</td><td>3271</td><td>187</td><td> 607</td><td>206</td><td>406</td><td> 83</td><td>1129</td><td> 48</td><td>0</td><td> 63</td></tr>\n",
       "\t<tr><th scope=row>23</th><td>Sarah2020_H7</td><td>Left ventricle         </td><td> 648</td><td>4327</td><td>338</td><td> 595</td><td>149</td><td>399</td><td> 56</td><td>2992</td><td>116</td><td>0</td><td> 90</td></tr>\n",
       "\t<tr><th scope=row>24</th><td>Sarah2020_H7</td><td>Right atria            </td><td> 220</td><td> 198</td><td>173</td><td> 289</td><td> 76</td><td> 41</td><td> 82</td><td> 128</td><td>145</td><td>0</td><td>  7</td></tr>\n",
       "\t<tr><th scope=row>25</th><td>Sarah2020_H7</td><td>Right ventricle        </td><td> 277</td><td>4965</td><td>244</td><td> 767</td><td> 86</td><td>301</td><td> 55</td><td>1838</td><td> 23</td><td>0</td><td> 19</td></tr>\n",
       "\t<tr><th scope=row>26</th><td>Sarah2020_H4</td><td>Interventricular septum</td><td> 278</td><td>3288</td><td> 39</td><td> 288</td><td>  5</td><td>165</td><td> 20</td><td>1143</td><td>  6</td><td>0</td><td> 14</td></tr>\n",
       "\t<tr><th scope=row>27</th><td>Sarah2020_H4</td><td>Left atria             </td><td> 215</td><td> 342</td><td>162</td><td> 357</td><td>219</td><td>196</td><td> 83</td><td> 617</td><td> 76</td><td>0</td><td> 14</td></tr>\n",
       "\t<tr><th scope=row>28</th><td>Sarah2020_H4</td><td>Left ventricle         </td><td> 778</td><td>4926</td><td>210</td><td> 531</td><td>102</td><td>646</td><td>114</td><td>3838</td><td>  0</td><td>0</td><td> 60</td></tr>\n",
       "\t<tr><th scope=row>29</th><td>Sarah2020_H4</td><td>Right atria            </td><td> 298</td><td> 258</td><td>151</td><td> 353</td><td>204</td><td>253</td><td> 93</td><td> 396</td><td> 20</td><td>0</td><td>  5</td></tr>\n",
       "\t<tr><th scope=row>30</th><td>Sarah2020_H4</td><td>Right ventricle        </td><td> 220</td><td>1463</td><td> 45</td><td> 197</td><td> 21</td><td>228</td><td> 43</td><td>1084</td><td>  0</td><td>0</td><td> 11</td></tr>\n",
       "\t<tr><th scope=row>⋮</th><td>⋮</td><td>⋮</td><td>⋮</td><td>⋮</td><td>⋮</td><td>⋮</td><td>⋮</td><td>⋮</td><td>⋮</td><td>⋮</td><td>⋮</td><td>⋮</td><td>⋮</td></tr>\n",
       "\t<tr><th scope=row>39</th><td>Sarah2020_D3 </td><td>Interventricular septum</td><td>  308</td><td> 743</td><td> 102</td><td> 420</td><td>  10</td><td>  30</td><td>  8</td><td> 293</td><td>  3</td><td> 0</td><td> 0</td></tr>\n",
       "\t<tr><th scope=row>40</th><td>Sarah2020_D3 </td><td>Left atria             </td><td>  892</td><td> 859</td><td> 210</td><td> 243</td><td>  87</td><td> 388</td><td> 14</td><td> 589</td><td> 12</td><td> 0</td><td> 6</td></tr>\n",
       "\t<tr><th scope=row>41</th><td>Sarah2020_D3 </td><td>Left ventricle         </td><td> 1449</td><td>3057</td><td> 989</td><td>1836</td><td> 238</td><td> 390</td><td> 52</td><td>2550</td><td> 38</td><td> 0</td><td>26</td></tr>\n",
       "\t<tr><th scope=row>42</th><td>Sarah2020_D3 </td><td>Right atria            </td><td> 1336</td><td>1797</td><td> 267</td><td>1999</td><td>  36</td><td>  75</td><td> 84</td><td> 342</td><td> 49</td><td> 0</td><td> 5</td></tr>\n",
       "\t<tr><th scope=row>43</th><td>Sarah2020_D3 </td><td>Right ventricle        </td><td>  257</td><td>1027</td><td>  52</td><td> 151</td><td>   5</td><td>  72</td><td>  3</td><td> 269</td><td>  8</td><td> 0</td><td> 1</td></tr>\n",
       "\t<tr><th scope=row>44</th><td>Sarah2020_D4 </td><td>Interventricular septum</td><td>  519</td><td>1482</td><td> 113</td><td>1389</td><td>  18</td><td>  67</td><td> 56</td><td> 974</td><td>  3</td><td> 0</td><td> 2</td></tr>\n",
       "\t<tr><th scope=row>45</th><td>Sarah2020_D4 </td><td>Left atria             </td><td>  465</td><td>1700</td><td> 158</td><td> 822</td><td>  19</td><td> 211</td><td>153</td><td>1245</td><td> 70</td><td> 0</td><td> 1</td></tr>\n",
       "\t<tr><th scope=row>46</th><td>Sarah2020_D4 </td><td>Left ventricle         </td><td>  975</td><td>4133</td><td> 249</td><td>1962</td><td>  16</td><td>  85</td><td> 37</td><td>1689</td><td>108</td><td> 0</td><td> 6</td></tr>\n",
       "\t<tr><th scope=row>47</th><td>Sarah2020_D4 </td><td>Right atria            </td><td>  750</td><td> 621</td><td> 162</td><td>1309</td><td>  70</td><td> 259</td><td>103</td><td> 263</td><td> 15</td><td> 0</td><td> 1</td></tr>\n",
       "\t<tr><th scope=row>48</th><td>Sarah2020_D4 </td><td>Right ventricle        </td><td>  265</td><td>2011</td><td> 244</td><td>2095</td><td>  45</td><td>  30</td><td> 26</td><td> 507</td><td> 40</td><td> 0</td><td> 1</td></tr>\n",
       "\t<tr><th scope=row>49</th><td>Sarah2020_D5 </td><td>Interventricular septum</td><td>  382</td><td> 983</td><td> 201</td><td>1174</td><td>  18</td><td>  53</td><td> 10</td><td> 430</td><td>  2</td><td> 0</td><td> 0</td></tr>\n",
       "\t<tr><th scope=row>50</th><td>Sarah2020_D5 </td><td>Left atria             </td><td> 1100</td><td>1307</td><td> 104</td><td> 704</td><td>  29</td><td> 281</td><td>100</td><td>1185</td><td> 21</td><td> 0</td><td> 3</td></tr>\n",
       "\t<tr><th scope=row>51</th><td>Sarah2020_D5 </td><td>Left ventricle         </td><td> 1344</td><td>4767</td><td> 311</td><td>2080</td><td> 102</td><td> 166</td><td> 35</td><td>1484</td><td> 60</td><td> 0</td><td> 4</td></tr>\n",
       "\t<tr><th scope=row>52</th><td>Sarah2020_D5 </td><td>Right atria            </td><td> 1269</td><td>1190</td><td> 201</td><td>1722</td><td>  68</td><td> 189</td><td> 73</td><td> 217</td><td>  9</td><td> 0</td><td> 5</td></tr>\n",
       "\t<tr><th scope=row>53</th><td>Sarah2020_D5 </td><td>Right ventricle        </td><td>  226</td><td>2397</td><td>  68</td><td> 253</td><td>   3</td><td>  78</td><td>  6</td><td> 891</td><td>  5</td><td> 0</td><td> 0</td></tr>\n",
       "\t<tr><th scope=row>54</th><td>Sarah2020_D6 </td><td>Interventricular septum</td><td> 5916</td><td>1907</td><td> 413</td><td> 141</td><td> 453</td><td> 281</td><td> 46</td><td>1339</td><td>  0</td><td>15</td><td> 2</td></tr>\n",
       "\t<tr><th scope=row>55</th><td>Sarah2020_D6 </td><td>Left atria             </td><td> 6850</td><td>1896</td><td>1939</td><td> 996</td><td>1041</td><td> 543</td><td>171</td><td>3226</td><td> 44</td><td>15</td><td>19</td></tr>\n",
       "\t<tr><th scope=row>56</th><td>Sarah2020_D6 </td><td>Left ventricle         </td><td>19677</td><td>2517</td><td>1209</td><td> 684</td><td>1861</td><td>1482</td><td> 78</td><td>2834</td><td> 40</td><td>15</td><td> 1</td></tr>\n",
       "\t<tr><th scope=row>57</th><td>Sarah2020_D6 </td><td>Right atria            </td><td> 1873</td><td> 220</td><td> 351</td><td> 484</td><td> 820</td><td> 154</td><td> 60</td><td> 202</td><td>  3</td><td>16</td><td> 6</td></tr>\n",
       "\t<tr><th scope=row>58</th><td>Sarah2020_D6 </td><td>Right ventricle        </td><td> 7081</td><td>1067</td><td> 473</td><td> 619</td><td> 578</td><td> 572</td><td> 93</td><td>1353</td><td> 59</td><td>18</td><td> 3</td></tr>\n",
       "\t<tr><th scope=row>59</th><td>Sarah2020_D7 </td><td>Interventricular septum</td><td> 1560</td><td>1347</td><td> 852</td><td>  81</td><td> 806</td><td> 198</td><td>  4</td><td> 508</td><td>  1</td><td> 0</td><td> 1</td></tr>\n",
       "\t<tr><th scope=row>60</th><td>Sarah2020_D7 </td><td>Left atria             </td><td> 1163</td><td>1325</td><td> 694</td><td> 640</td><td> 421</td><td> 114</td><td> 56</td><td> 596</td><td> 45</td><td> 0</td><td>14</td></tr>\n",
       "\t<tr><th scope=row>61</th><td>Sarah2020_D7 </td><td>Left ventricle         </td><td> 2885</td><td>2620</td><td>1211</td><td>1140</td><td>1405</td><td> 340</td><td> 17</td><td> 993</td><td>  2</td><td> 0</td><td> 8</td></tr>\n",
       "\t<tr><th scope=row>62</th><td>Sarah2020_D7 </td><td>Right atria            </td><td> 1084</td><td>1450</td><td> 654</td><td> 851</td><td> 529</td><td> 150</td><td> 36</td><td> 165</td><td> 20</td><td> 0</td><td>10</td></tr>\n",
       "\t<tr><th scope=row>63</th><td>Sarah2020_D7 </td><td>Right ventricle        </td><td> 2212</td><td>1888</td><td>1070</td><td> 893</td><td> 648</td><td> 289</td><td> 21</td><td> 992</td><td> 16</td><td> 0</td><td>22</td></tr>\n",
       "\t<tr><th scope=row>64</th><td>Sarah2020_D11</td><td>Interventricular septum</td><td> 6501</td><td>1937</td><td>1446</td><td>1190</td><td>1074</td><td> 523</td><td> 15</td><td>1737</td><td>103</td><td>12</td><td> 6</td></tr>\n",
       "\t<tr><th scope=row>65</th><td>Sarah2020_D11</td><td>Left atria             </td><td> 1618</td><td> 274</td><td> 298</td><td>  91</td><td> 260</td><td>  80</td><td> 11</td><td> 443</td><td> 12</td><td>11</td><td> 8</td></tr>\n",
       "\t<tr><th scope=row>66</th><td>Sarah2020_D11</td><td>Left ventricle         </td><td>11026</td><td>1366</td><td>1431</td><td>1621</td><td> 633</td><td> 889</td><td> 46</td><td>3728</td><td>199</td><td>17</td><td>16</td></tr>\n",
       "\t<tr><th scope=row>67</th><td>Sarah2020_D11</td><td>Right atria            </td><td>  200</td><td>  58</td><td>   9</td><td> 118</td><td>  10</td><td>  28</td><td>  5</td><td>  23</td><td>  3</td><td> 0</td><td> 0</td></tr>\n",
       "\t<tr><th scope=row>68</th><td>Sarah2020_D11</td><td>Right ventricle        </td><td> 2682</td><td>1304</td><td> 292</td><td> 867</td><td>  72</td><td> 140</td><td> 30</td><td>1447</td><td>  0</td><td> 0</td><td>10</td></tr>\n",
       "</tbody>\n",
       "</table>\n"
      ],
      "text/latex": [
       "A data.frame: 68 × 13\n",
       "\\begin{tabular}{r|lllllllllllll}\n",
       "  & donor\\_id & subregion & Endothelial cell & Cardiomyocyte cell & Myelocyte & Fibroblast & Lymphocyte & Smooth muscle cell & Neuron & Pericyte & Adipocyte & Neutrophilic granulocyte & Mast cell\\\\\n",
       "  & <chr> & <chr> & <dbl> & <dbl> & <dbl> & <dbl> & <dbl> & <dbl> & <dbl> & <dbl> & <dbl> & <dbl> & <dbl>\\\\\n",
       "\\hline\n",
       "\t1 & Sarah2020\\_H5 & Interventricular septum &  794 & 4496 &  92 &  742 &  73 & 415 & 114 & 1597 &   8 & 0 &  55\\\\\n",
       "\t2 & Sarah2020\\_H5 & Left atria              &  253 &  368 & 232 &  306 &  86 &  89 &  28 &  495 & 147 & 0 &   5\\\\\n",
       "\t3 & Sarah2020\\_H5 & Left ventricle          & 1262 & 9943 & 146 & 1212 & 333 & 619 & 181 & 3397 &  46 & 0 & 148\\\\\n",
       "\t4 & Sarah2020\\_H5 & Right atria             &  276 &  360 & 102 &  388 & 106 & 137 &  52 &  152 & 272 & 0 &   1\\\\\n",
       "\t5 & Sarah2020\\_H5 & Right ventricle         &  265 & 4437 &  28 &  208 &  21 & 163 &  33 & 1267 &   1 & 0 &  16\\\\\n",
       "\t6 & Sarah2020\\_H6 & Interventricular septum &  233 & 2301 & 133 &  407 & 110 & 114 &  44 &  419 &   7 & 0 &  34\\\\\n",
       "\t7 & Sarah2020\\_H6 & Left atria              &  219 &  576 &  99 &  593 &  63 & 220 &  46 &  261 & 298 & 0 &  10\\\\\n",
       "\t8 & Sarah2020\\_H6 & Left ventricle          &  704 & 8770 & 155 &  924 & 173 & 419 & 181 & 2621 &  32 & 0 & 109\\\\\n",
       "\t9 & Sarah2020\\_H6 & Right atria             &  239 &  824 &  64 &  602 &  89 & 116 &  81 &  159 &  34 & 0 &   1\\\\\n",
       "\t10 & Sarah2020\\_H6 & Right ventricle         &  100 & 1387 & 104 &  164 & 143 & 111 &  10 &  284 &  81 & 0 &  50\\\\\n",
       "\t11 & Sarah2020\\_H3 & Interventricular septum &  153 & 3001 &  40 &  428 &  17 & 148 &  36 & 1123 &   3 & 0 &  77\\\\\n",
       "\t12 & Sarah2020\\_H3 & Left atria              &  637 &  965 & 345 &  721 & 178 & 511 & 100 & 1705 & 373 & 0 &   0\\\\\n",
       "\t13 & Sarah2020\\_H3 & Left ventricle          & 1135 & 5050 & 177 & 1162 &  59 & 409 & 139 & 3245 &   4 & 0 & 153\\\\\n",
       "\t14 & Sarah2020\\_H3 & Right atria             &  238 &  427 & 325 &  234 & 407 &  85 &  29 &  386 &  31 & 0 &   1\\\\\n",
       "\t15 & Sarah2020\\_H3 & Right ventricle         &  390 & 2404 &  59 &  462 &  46 & 128 &  44 &  987 &  26 & 0 &  43\\\\\n",
       "\t16 & Sarah2020\\_H2 & Interventricular septum &  248 &  809 &  88 &   92 &  66 &  67 &  13 &  880 &   0 & 0 &  24\\\\\n",
       "\t17 & Sarah2020\\_H2 & Left atria              &  302 &  257 & 274 &  500 & 660 & 254 &  99 &  480 & 129 & 0 &  41\\\\\n",
       "\t18 & Sarah2020\\_H2 & Left ventricle          & 1489 & 2947 & 295 &  909 & 179 & 505 &  78 & 2576 & 145 & 1 & 103\\\\\n",
       "\t19 & Sarah2020\\_H2 & Right atria             &  124 &   94 & 118 &  276 & 201 &  44 &  21 &  134 &  24 & 1 &   4\\\\\n",
       "\t20 & Sarah2020\\_H2 & Right ventricle         &  333 & 2130 &  94 &  661 & 405 & 128 &  47 & 1026 & 110 & 0 &  39\\\\\n",
       "\t21 & Sarah2020\\_H7 & Interventricular septum &  117 & 1815 &  96 &  468 &   9 & 175 &  35 &  910 &   7 & 0 &  25\\\\\n",
       "\t22 & Sarah2020\\_H7 & Left atria              &  328 & 3271 & 187 &  607 & 206 & 406 &  83 & 1129 &  48 & 0 &  63\\\\\n",
       "\t23 & Sarah2020\\_H7 & Left ventricle          &  648 & 4327 & 338 &  595 & 149 & 399 &  56 & 2992 & 116 & 0 &  90\\\\\n",
       "\t24 & Sarah2020\\_H7 & Right atria             &  220 &  198 & 173 &  289 &  76 &  41 &  82 &  128 & 145 & 0 &   7\\\\\n",
       "\t25 & Sarah2020\\_H7 & Right ventricle         &  277 & 4965 & 244 &  767 &  86 & 301 &  55 & 1838 &  23 & 0 &  19\\\\\n",
       "\t26 & Sarah2020\\_H4 & Interventricular septum &  278 & 3288 &  39 &  288 &   5 & 165 &  20 & 1143 &   6 & 0 &  14\\\\\n",
       "\t27 & Sarah2020\\_H4 & Left atria              &  215 &  342 & 162 &  357 & 219 & 196 &  83 &  617 &  76 & 0 &  14\\\\\n",
       "\t28 & Sarah2020\\_H4 & Left ventricle          &  778 & 4926 & 210 &  531 & 102 & 646 & 114 & 3838 &   0 & 0 &  60\\\\\n",
       "\t29 & Sarah2020\\_H4 & Right atria             &  298 &  258 & 151 &  353 & 204 & 253 &  93 &  396 &  20 & 0 &   5\\\\\n",
       "\t30 & Sarah2020\\_H4 & Right ventricle         &  220 & 1463 &  45 &  197 &  21 & 228 &  43 & 1084 &   0 & 0 &  11\\\\\n",
       "\t⋮ & ⋮ & ⋮ & ⋮ & ⋮ & ⋮ & ⋮ & ⋮ & ⋮ & ⋮ & ⋮ & ⋮ & ⋮ & ⋮\\\\\n",
       "\t39 & Sarah2020\\_D3  & Interventricular septum &   308 &  743 &  102 &  420 &   10 &   30 &   8 &  293 &   3 &  0 &  0\\\\\n",
       "\t40 & Sarah2020\\_D3  & Left atria              &   892 &  859 &  210 &  243 &   87 &  388 &  14 &  589 &  12 &  0 &  6\\\\\n",
       "\t41 & Sarah2020\\_D3  & Left ventricle          &  1449 & 3057 &  989 & 1836 &  238 &  390 &  52 & 2550 &  38 &  0 & 26\\\\\n",
       "\t42 & Sarah2020\\_D3  & Right atria             &  1336 & 1797 &  267 & 1999 &   36 &   75 &  84 &  342 &  49 &  0 &  5\\\\\n",
       "\t43 & Sarah2020\\_D3  & Right ventricle         &   257 & 1027 &   52 &  151 &    5 &   72 &   3 &  269 &   8 &  0 &  1\\\\\n",
       "\t44 & Sarah2020\\_D4  & Interventricular septum &   519 & 1482 &  113 & 1389 &   18 &   67 &  56 &  974 &   3 &  0 &  2\\\\\n",
       "\t45 & Sarah2020\\_D4  & Left atria              &   465 & 1700 &  158 &  822 &   19 &  211 & 153 & 1245 &  70 &  0 &  1\\\\\n",
       "\t46 & Sarah2020\\_D4  & Left ventricle          &   975 & 4133 &  249 & 1962 &   16 &   85 &  37 & 1689 & 108 &  0 &  6\\\\\n",
       "\t47 & Sarah2020\\_D4  & Right atria             &   750 &  621 &  162 & 1309 &   70 &  259 & 103 &  263 &  15 &  0 &  1\\\\\n",
       "\t48 & Sarah2020\\_D4  & Right ventricle         &   265 & 2011 &  244 & 2095 &   45 &   30 &  26 &  507 &  40 &  0 &  1\\\\\n",
       "\t49 & Sarah2020\\_D5  & Interventricular septum &   382 &  983 &  201 & 1174 &   18 &   53 &  10 &  430 &   2 &  0 &  0\\\\\n",
       "\t50 & Sarah2020\\_D5  & Left atria              &  1100 & 1307 &  104 &  704 &   29 &  281 & 100 & 1185 &  21 &  0 &  3\\\\\n",
       "\t51 & Sarah2020\\_D5  & Left ventricle          &  1344 & 4767 &  311 & 2080 &  102 &  166 &  35 & 1484 &  60 &  0 &  4\\\\\n",
       "\t52 & Sarah2020\\_D5  & Right atria             &  1269 & 1190 &  201 & 1722 &   68 &  189 &  73 &  217 &   9 &  0 &  5\\\\\n",
       "\t53 & Sarah2020\\_D5  & Right ventricle         &   226 & 2397 &   68 &  253 &    3 &   78 &   6 &  891 &   5 &  0 &  0\\\\\n",
       "\t54 & Sarah2020\\_D6  & Interventricular septum &  5916 & 1907 &  413 &  141 &  453 &  281 &  46 & 1339 &   0 & 15 &  2\\\\\n",
       "\t55 & Sarah2020\\_D6  & Left atria              &  6850 & 1896 & 1939 &  996 & 1041 &  543 & 171 & 3226 &  44 & 15 & 19\\\\\n",
       "\t56 & Sarah2020\\_D6  & Left ventricle          & 19677 & 2517 & 1209 &  684 & 1861 & 1482 &  78 & 2834 &  40 & 15 &  1\\\\\n",
       "\t57 & Sarah2020\\_D6  & Right atria             &  1873 &  220 &  351 &  484 &  820 &  154 &  60 &  202 &   3 & 16 &  6\\\\\n",
       "\t58 & Sarah2020\\_D6  & Right ventricle         &  7081 & 1067 &  473 &  619 &  578 &  572 &  93 & 1353 &  59 & 18 &  3\\\\\n",
       "\t59 & Sarah2020\\_D7  & Interventricular septum &  1560 & 1347 &  852 &   81 &  806 &  198 &   4 &  508 &   1 &  0 &  1\\\\\n",
       "\t60 & Sarah2020\\_D7  & Left atria              &  1163 & 1325 &  694 &  640 &  421 &  114 &  56 &  596 &  45 &  0 & 14\\\\\n",
       "\t61 & Sarah2020\\_D7  & Left ventricle          &  2885 & 2620 & 1211 & 1140 & 1405 &  340 &  17 &  993 &   2 &  0 &  8\\\\\n",
       "\t62 & Sarah2020\\_D7  & Right atria             &  1084 & 1450 &  654 &  851 &  529 &  150 &  36 &  165 &  20 &  0 & 10\\\\\n",
       "\t63 & Sarah2020\\_D7  & Right ventricle         &  2212 & 1888 & 1070 &  893 &  648 &  289 &  21 &  992 &  16 &  0 & 22\\\\\n",
       "\t64 & Sarah2020\\_D11 & Interventricular septum &  6501 & 1937 & 1446 & 1190 & 1074 &  523 &  15 & 1737 & 103 & 12 &  6\\\\\n",
       "\t65 & Sarah2020\\_D11 & Left atria              &  1618 &  274 &  298 &   91 &  260 &   80 &  11 &  443 &  12 & 11 &  8\\\\\n",
       "\t66 & Sarah2020\\_D11 & Left ventricle          & 11026 & 1366 & 1431 & 1621 &  633 &  889 &  46 & 3728 & 199 & 17 & 16\\\\\n",
       "\t67 & Sarah2020\\_D11 & Right atria             &   200 &   58 &    9 &  118 &   10 &   28 &   5 &   23 &   3 &  0 &  0\\\\\n",
       "\t68 & Sarah2020\\_D11 & Right ventricle         &  2682 & 1304 &  292 &  867 &   72 &  140 &  30 & 1447 &   0 &  0 & 10\\\\\n",
       "\\end{tabular}\n"
      ],
      "text/markdown": [
       "\n",
       "A data.frame: 68 × 13\n",
       "\n",
       "| <!--/--> | donor_id &lt;chr&gt; | subregion &lt;chr&gt; | Endothelial cell &lt;dbl&gt; | Cardiomyocyte cell &lt;dbl&gt; | Myelocyte &lt;dbl&gt; | Fibroblast &lt;dbl&gt; | Lymphocyte &lt;dbl&gt; | Smooth muscle cell &lt;dbl&gt; | Neuron &lt;dbl&gt; | Pericyte &lt;dbl&gt; | Adipocyte &lt;dbl&gt; | Neutrophilic granulocyte &lt;dbl&gt; | Mast cell &lt;dbl&gt; |\n",
       "|---|---|---|---|---|---|---|---|---|---|---|---|---|---|\n",
       "| 1 | Sarah2020_H5 | Interventricular septum |  794 | 4496 |  92 |  742 |  73 | 415 | 114 | 1597 |   8 | 0 |  55 |\n",
       "| 2 | Sarah2020_H5 | Left atria              |  253 |  368 | 232 |  306 |  86 |  89 |  28 |  495 | 147 | 0 |   5 |\n",
       "| 3 | Sarah2020_H5 | Left ventricle          | 1262 | 9943 | 146 | 1212 | 333 | 619 | 181 | 3397 |  46 | 0 | 148 |\n",
       "| 4 | Sarah2020_H5 | Right atria             |  276 |  360 | 102 |  388 | 106 | 137 |  52 |  152 | 272 | 0 |   1 |\n",
       "| 5 | Sarah2020_H5 | Right ventricle         |  265 | 4437 |  28 |  208 |  21 | 163 |  33 | 1267 |   1 | 0 |  16 |\n",
       "| 6 | Sarah2020_H6 | Interventricular septum |  233 | 2301 | 133 |  407 | 110 | 114 |  44 |  419 |   7 | 0 |  34 |\n",
       "| 7 | Sarah2020_H6 | Left atria              |  219 |  576 |  99 |  593 |  63 | 220 |  46 |  261 | 298 | 0 |  10 |\n",
       "| 8 | Sarah2020_H6 | Left ventricle          |  704 | 8770 | 155 |  924 | 173 | 419 | 181 | 2621 |  32 | 0 | 109 |\n",
       "| 9 | Sarah2020_H6 | Right atria             |  239 |  824 |  64 |  602 |  89 | 116 |  81 |  159 |  34 | 0 |   1 |\n",
       "| 10 | Sarah2020_H6 | Right ventricle         |  100 | 1387 | 104 |  164 | 143 | 111 |  10 |  284 |  81 | 0 |  50 |\n",
       "| 11 | Sarah2020_H3 | Interventricular septum |  153 | 3001 |  40 |  428 |  17 | 148 |  36 | 1123 |   3 | 0 |  77 |\n",
       "| 12 | Sarah2020_H3 | Left atria              |  637 |  965 | 345 |  721 | 178 | 511 | 100 | 1705 | 373 | 0 |   0 |\n",
       "| 13 | Sarah2020_H3 | Left ventricle          | 1135 | 5050 | 177 | 1162 |  59 | 409 | 139 | 3245 |   4 | 0 | 153 |\n",
       "| 14 | Sarah2020_H3 | Right atria             |  238 |  427 | 325 |  234 | 407 |  85 |  29 |  386 |  31 | 0 |   1 |\n",
       "| 15 | Sarah2020_H3 | Right ventricle         |  390 | 2404 |  59 |  462 |  46 | 128 |  44 |  987 |  26 | 0 |  43 |\n",
       "| 16 | Sarah2020_H2 | Interventricular septum |  248 |  809 |  88 |   92 |  66 |  67 |  13 |  880 |   0 | 0 |  24 |\n",
       "| 17 | Sarah2020_H2 | Left atria              |  302 |  257 | 274 |  500 | 660 | 254 |  99 |  480 | 129 | 0 |  41 |\n",
       "| 18 | Sarah2020_H2 | Left ventricle          | 1489 | 2947 | 295 |  909 | 179 | 505 |  78 | 2576 | 145 | 1 | 103 |\n",
       "| 19 | Sarah2020_H2 | Right atria             |  124 |   94 | 118 |  276 | 201 |  44 |  21 |  134 |  24 | 1 |   4 |\n",
       "| 20 | Sarah2020_H2 | Right ventricle         |  333 | 2130 |  94 |  661 | 405 | 128 |  47 | 1026 | 110 | 0 |  39 |\n",
       "| 21 | Sarah2020_H7 | Interventricular septum |  117 | 1815 |  96 |  468 |   9 | 175 |  35 |  910 |   7 | 0 |  25 |\n",
       "| 22 | Sarah2020_H7 | Left atria              |  328 | 3271 | 187 |  607 | 206 | 406 |  83 | 1129 |  48 | 0 |  63 |\n",
       "| 23 | Sarah2020_H7 | Left ventricle          |  648 | 4327 | 338 |  595 | 149 | 399 |  56 | 2992 | 116 | 0 |  90 |\n",
       "| 24 | Sarah2020_H7 | Right atria             |  220 |  198 | 173 |  289 |  76 |  41 |  82 |  128 | 145 | 0 |   7 |\n",
       "| 25 | Sarah2020_H7 | Right ventricle         |  277 | 4965 | 244 |  767 |  86 | 301 |  55 | 1838 |  23 | 0 |  19 |\n",
       "| 26 | Sarah2020_H4 | Interventricular septum |  278 | 3288 |  39 |  288 |   5 | 165 |  20 | 1143 |   6 | 0 |  14 |\n",
       "| 27 | Sarah2020_H4 | Left atria              |  215 |  342 | 162 |  357 | 219 | 196 |  83 |  617 |  76 | 0 |  14 |\n",
       "| 28 | Sarah2020_H4 | Left ventricle          |  778 | 4926 | 210 |  531 | 102 | 646 | 114 | 3838 |   0 | 0 |  60 |\n",
       "| 29 | Sarah2020_H4 | Right atria             |  298 |  258 | 151 |  353 | 204 | 253 |  93 |  396 |  20 | 0 |   5 |\n",
       "| 30 | Sarah2020_H4 | Right ventricle         |  220 | 1463 |  45 |  197 |  21 | 228 |  43 | 1084 |   0 | 0 |  11 |\n",
       "| ⋮ | ⋮ | ⋮ | ⋮ | ⋮ | ⋮ | ⋮ | ⋮ | ⋮ | ⋮ | ⋮ | ⋮ | ⋮ | ⋮ |\n",
       "| 39 | Sarah2020_D3  | Interventricular septum |   308 |  743 |  102 |  420 |   10 |   30 |   8 |  293 |   3 |  0 |  0 |\n",
       "| 40 | Sarah2020_D3  | Left atria              |   892 |  859 |  210 |  243 |   87 |  388 |  14 |  589 |  12 |  0 |  6 |\n",
       "| 41 | Sarah2020_D3  | Left ventricle          |  1449 | 3057 |  989 | 1836 |  238 |  390 |  52 | 2550 |  38 |  0 | 26 |\n",
       "| 42 | Sarah2020_D3  | Right atria             |  1336 | 1797 |  267 | 1999 |   36 |   75 |  84 |  342 |  49 |  0 |  5 |\n",
       "| 43 | Sarah2020_D3  | Right ventricle         |   257 | 1027 |   52 |  151 |    5 |   72 |   3 |  269 |   8 |  0 |  1 |\n",
       "| 44 | Sarah2020_D4  | Interventricular septum |   519 | 1482 |  113 | 1389 |   18 |   67 |  56 |  974 |   3 |  0 |  2 |\n",
       "| 45 | Sarah2020_D4  | Left atria              |   465 | 1700 |  158 |  822 |   19 |  211 | 153 | 1245 |  70 |  0 |  1 |\n",
       "| 46 | Sarah2020_D4  | Left ventricle          |   975 | 4133 |  249 | 1962 |   16 |   85 |  37 | 1689 | 108 |  0 |  6 |\n",
       "| 47 | Sarah2020_D4  | Right atria             |   750 |  621 |  162 | 1309 |   70 |  259 | 103 |  263 |  15 |  0 |  1 |\n",
       "| 48 | Sarah2020_D4  | Right ventricle         |   265 | 2011 |  244 | 2095 |   45 |   30 |  26 |  507 |  40 |  0 |  1 |\n",
       "| 49 | Sarah2020_D5  | Interventricular septum |   382 |  983 |  201 | 1174 |   18 |   53 |  10 |  430 |   2 |  0 |  0 |\n",
       "| 50 | Sarah2020_D5  | Left atria              |  1100 | 1307 |  104 |  704 |   29 |  281 | 100 | 1185 |  21 |  0 |  3 |\n",
       "| 51 | Sarah2020_D5  | Left ventricle          |  1344 | 4767 |  311 | 2080 |  102 |  166 |  35 | 1484 |  60 |  0 |  4 |\n",
       "| 52 | Sarah2020_D5  | Right atria             |  1269 | 1190 |  201 | 1722 |   68 |  189 |  73 |  217 |   9 |  0 |  5 |\n",
       "| 53 | Sarah2020_D5  | Right ventricle         |   226 | 2397 |   68 |  253 |    3 |   78 |   6 |  891 |   5 |  0 |  0 |\n",
       "| 54 | Sarah2020_D6  | Interventricular septum |  5916 | 1907 |  413 |  141 |  453 |  281 |  46 | 1339 |   0 | 15 |  2 |\n",
       "| 55 | Sarah2020_D6  | Left atria              |  6850 | 1896 | 1939 |  996 | 1041 |  543 | 171 | 3226 |  44 | 15 | 19 |\n",
       "| 56 | Sarah2020_D6  | Left ventricle          | 19677 | 2517 | 1209 |  684 | 1861 | 1482 |  78 | 2834 |  40 | 15 |  1 |\n",
       "| 57 | Sarah2020_D6  | Right atria             |  1873 |  220 |  351 |  484 |  820 |  154 |  60 |  202 |   3 | 16 |  6 |\n",
       "| 58 | Sarah2020_D6  | Right ventricle         |  7081 | 1067 |  473 |  619 |  578 |  572 |  93 | 1353 |  59 | 18 |  3 |\n",
       "| 59 | Sarah2020_D7  | Interventricular septum |  1560 | 1347 |  852 |   81 |  806 |  198 |   4 |  508 |   1 |  0 |  1 |\n",
       "| 60 | Sarah2020_D7  | Left atria              |  1163 | 1325 |  694 |  640 |  421 |  114 |  56 |  596 |  45 |  0 | 14 |\n",
       "| 61 | Sarah2020_D7  | Left ventricle          |  2885 | 2620 | 1211 | 1140 | 1405 |  340 |  17 |  993 |   2 |  0 |  8 |\n",
       "| 62 | Sarah2020_D7  | Right atria             |  1084 | 1450 |  654 |  851 |  529 |  150 |  36 |  165 |  20 |  0 | 10 |\n",
       "| 63 | Sarah2020_D7  | Right ventricle         |  2212 | 1888 | 1070 |  893 |  648 |  289 |  21 |  992 |  16 |  0 | 22 |\n",
       "| 64 | Sarah2020_D11 | Interventricular septum |  6501 | 1937 | 1446 | 1190 | 1074 |  523 |  15 | 1737 | 103 | 12 |  6 |\n",
       "| 65 | Sarah2020_D11 | Left atria              |  1618 |  274 |  298 |   91 |  260 |   80 |  11 |  443 |  12 | 11 |  8 |\n",
       "| 66 | Sarah2020_D11 | Left ventricle          | 11026 | 1366 | 1431 | 1621 |  633 |  889 |  46 | 3728 | 199 | 17 | 16 |\n",
       "| 67 | Sarah2020_D11 | Right atria             |   200 |   58 |    9 |  118 |   10 |   28 |   5 |   23 |   3 |  0 |  0 |\n",
       "| 68 | Sarah2020_D11 | Right ventricle         |  2682 | 1304 |  292 |  867 |   72 |  140 |  30 | 1447 |   0 |  0 | 10 |\n",
       "\n"
      ],
      "text/plain": [
       "   donor_id      subregion               Endothelial cell Cardiomyocyte cell\n",
       "1  Sarah2020_H5  Interventricular septum  794             4496              \n",
       "2  Sarah2020_H5  Left atria               253              368              \n",
       "3  Sarah2020_H5  Left ventricle          1262             9943              \n",
       "4  Sarah2020_H5  Right atria              276              360              \n",
       "5  Sarah2020_H5  Right ventricle          265             4437              \n",
       "6  Sarah2020_H6  Interventricular septum  233             2301              \n",
       "7  Sarah2020_H6  Left atria               219              576              \n",
       "8  Sarah2020_H6  Left ventricle           704             8770              \n",
       "9  Sarah2020_H6  Right atria              239              824              \n",
       "10 Sarah2020_H6  Right ventricle          100             1387              \n",
       "11 Sarah2020_H3  Interventricular septum  153             3001              \n",
       "12 Sarah2020_H3  Left atria               637              965              \n",
       "13 Sarah2020_H3  Left ventricle          1135             5050              \n",
       "14 Sarah2020_H3  Right atria              238              427              \n",
       "15 Sarah2020_H3  Right ventricle          390             2404              \n",
       "16 Sarah2020_H2  Interventricular septum  248              809              \n",
       "17 Sarah2020_H2  Left atria               302              257              \n",
       "18 Sarah2020_H2  Left ventricle          1489             2947              \n",
       "19 Sarah2020_H2  Right atria              124               94              \n",
       "20 Sarah2020_H2  Right ventricle          333             2130              \n",
       "21 Sarah2020_H7  Interventricular septum  117             1815              \n",
       "22 Sarah2020_H7  Left atria               328             3271              \n",
       "23 Sarah2020_H7  Left ventricle           648             4327              \n",
       "24 Sarah2020_H7  Right atria              220              198              \n",
       "25 Sarah2020_H7  Right ventricle          277             4965              \n",
       "26 Sarah2020_H4  Interventricular septum  278             3288              \n",
       "27 Sarah2020_H4  Left atria               215              342              \n",
       "28 Sarah2020_H4  Left ventricle           778             4926              \n",
       "29 Sarah2020_H4  Right atria              298              258              \n",
       "30 Sarah2020_H4  Right ventricle          220             1463              \n",
       "⋮  ⋮             ⋮                       ⋮                ⋮                 \n",
       "39 Sarah2020_D3  Interventricular septum   308             743              \n",
       "40 Sarah2020_D3  Left atria                892             859              \n",
       "41 Sarah2020_D3  Left ventricle           1449            3057              \n",
       "42 Sarah2020_D3  Right atria              1336            1797              \n",
       "43 Sarah2020_D3  Right ventricle           257            1027              \n",
       "44 Sarah2020_D4  Interventricular septum   519            1482              \n",
       "45 Sarah2020_D4  Left atria                465            1700              \n",
       "46 Sarah2020_D4  Left ventricle            975            4133              \n",
       "47 Sarah2020_D4  Right atria               750             621              \n",
       "48 Sarah2020_D4  Right ventricle           265            2011              \n",
       "49 Sarah2020_D5  Interventricular septum   382             983              \n",
       "50 Sarah2020_D5  Left atria               1100            1307              \n",
       "51 Sarah2020_D5  Left ventricle           1344            4767              \n",
       "52 Sarah2020_D5  Right atria              1269            1190              \n",
       "53 Sarah2020_D5  Right ventricle           226            2397              \n",
       "54 Sarah2020_D6  Interventricular septum  5916            1907              \n",
       "55 Sarah2020_D6  Left atria               6850            1896              \n",
       "56 Sarah2020_D6  Left ventricle          19677            2517              \n",
       "57 Sarah2020_D6  Right atria              1873             220              \n",
       "58 Sarah2020_D6  Right ventricle          7081            1067              \n",
       "59 Sarah2020_D7  Interventricular septum  1560            1347              \n",
       "60 Sarah2020_D7  Left atria               1163            1325              \n",
       "61 Sarah2020_D7  Left ventricle           2885            2620              \n",
       "62 Sarah2020_D7  Right atria              1084            1450              \n",
       "63 Sarah2020_D7  Right ventricle          2212            1888              \n",
       "64 Sarah2020_D11 Interventricular septum  6501            1937              \n",
       "65 Sarah2020_D11 Left atria               1618             274              \n",
       "66 Sarah2020_D11 Left ventricle          11026            1366              \n",
       "67 Sarah2020_D11 Right atria               200              58              \n",
       "68 Sarah2020_D11 Right ventricle          2682            1304              \n",
       "   Myelocyte Fibroblast Lymphocyte Smooth muscle cell Neuron Pericyte Adipocyte\n",
       "1   92        742        73        415                114    1597       8      \n",
       "2  232        306        86         89                 28     495     147      \n",
       "3  146       1212       333        619                181    3397      46      \n",
       "4  102        388       106        137                 52     152     272      \n",
       "5   28        208        21        163                 33    1267       1      \n",
       "6  133        407       110        114                 44     419       7      \n",
       "7   99        593        63        220                 46     261     298      \n",
       "8  155        924       173        419                181    2621      32      \n",
       "9   64        602        89        116                 81     159      34      \n",
       "10 104        164       143        111                 10     284      81      \n",
       "11  40        428        17        148                 36    1123       3      \n",
       "12 345        721       178        511                100    1705     373      \n",
       "13 177       1162        59        409                139    3245       4      \n",
       "14 325        234       407         85                 29     386      31      \n",
       "15  59        462        46        128                 44     987      26      \n",
       "16  88         92        66         67                 13     880       0      \n",
       "17 274        500       660        254                 99     480     129      \n",
       "18 295        909       179        505                 78    2576     145      \n",
       "19 118        276       201         44                 21     134      24      \n",
       "20  94        661       405        128                 47    1026     110      \n",
       "21  96        468         9        175                 35     910       7      \n",
       "22 187        607       206        406                 83    1129      48      \n",
       "23 338        595       149        399                 56    2992     116      \n",
       "24 173        289        76         41                 82     128     145      \n",
       "25 244        767        86        301                 55    1838      23      \n",
       "26  39        288         5        165                 20    1143       6      \n",
       "27 162        357       219        196                 83     617      76      \n",
       "28 210        531       102        646                114    3838       0      \n",
       "29 151        353       204        253                 93     396      20      \n",
       "30  45        197        21        228                 43    1084       0      \n",
       "⋮  ⋮         ⋮          ⋮          ⋮                  ⋮      ⋮        ⋮        \n",
       "39  102       420         10         30                 8     293       3      \n",
       "40  210       243         87        388                14     589      12      \n",
       "41  989      1836        238        390                52    2550      38      \n",
       "42  267      1999         36         75                84     342      49      \n",
       "43   52       151          5         72                 3     269       8      \n",
       "44  113      1389         18         67                56     974       3      \n",
       "45  158       822         19        211               153    1245      70      \n",
       "46  249      1962         16         85                37    1689     108      \n",
       "47  162      1309         70        259               103     263      15      \n",
       "48  244      2095         45         30                26     507      40      \n",
       "49  201      1174         18         53                10     430       2      \n",
       "50  104       704         29        281               100    1185      21      \n",
       "51  311      2080        102        166                35    1484      60      \n",
       "52  201      1722         68        189                73     217       9      \n",
       "53   68       253          3         78                 6     891       5      \n",
       "54  413       141        453        281                46    1339       0      \n",
       "55 1939       996       1041        543               171    3226      44      \n",
       "56 1209       684       1861       1482                78    2834      40      \n",
       "57  351       484        820        154                60     202       3      \n",
       "58  473       619        578        572                93    1353      59      \n",
       "59  852        81        806        198                 4     508       1      \n",
       "60  694       640        421        114                56     596      45      \n",
       "61 1211      1140       1405        340                17     993       2      \n",
       "62  654       851        529        150                36     165      20      \n",
       "63 1070       893        648        289                21     992      16      \n",
       "64 1446      1190       1074        523                15    1737     103      \n",
       "65  298        91        260         80                11     443      12      \n",
       "66 1431      1621        633        889                46    3728     199      \n",
       "67    9       118         10         28                 5      23       3      \n",
       "68  292       867         72        140                30    1447       0      \n",
       "   Neutrophilic granulocyte Mast cell\n",
       "1  0                         55      \n",
       "2  0                          5      \n",
       "3  0                        148      \n",
       "4  0                          1      \n",
       "5  0                         16      \n",
       "6  0                         34      \n",
       "7  0                         10      \n",
       "8  0                        109      \n",
       "9  0                          1      \n",
       "10 0                         50      \n",
       "11 0                         77      \n",
       "12 0                          0      \n",
       "13 0                        153      \n",
       "14 0                          1      \n",
       "15 0                         43      \n",
       "16 0                         24      \n",
       "17 0                         41      \n",
       "18 1                        103      \n",
       "19 1                          4      \n",
       "20 0                         39      \n",
       "21 0                         25      \n",
       "22 0                         63      \n",
       "23 0                         90      \n",
       "24 0                          7      \n",
       "25 0                         19      \n",
       "26 0                         14      \n",
       "27 0                         14      \n",
       "28 0                         60      \n",
       "29 0                          5      \n",
       "30 0                         11      \n",
       "⋮  ⋮                        ⋮        \n",
       "39  0                        0       \n",
       "40  0                        6       \n",
       "41  0                       26       \n",
       "42  0                        5       \n",
       "43  0                        1       \n",
       "44  0                        2       \n",
       "45  0                        1       \n",
       "46  0                        6       \n",
       "47  0                        1       \n",
       "48  0                        1       \n",
       "49  0                        0       \n",
       "50  0                        3       \n",
       "51  0                        4       \n",
       "52  0                        5       \n",
       "53  0                        0       \n",
       "54 15                        2       \n",
       "55 15                       19       \n",
       "56 15                        1       \n",
       "57 16                        6       \n",
       "58 18                        3       \n",
       "59  0                        1       \n",
       "60  0                       14       \n",
       "61  0                        8       \n",
       "62  0                       10       \n",
       "63  0                       22       \n",
       "64 12                        6       \n",
       "65 11                        8       \n",
       "66 17                       16       \n",
       "67  0                        0       \n",
       "68  0                       10       "
      ]
     },
     "metadata": {},
     "output_type": "display_data"
    }
   ],
   "source": [
    "df"
   ]
  },
  {
   "cell_type": "code",
   "execution_count": 7,
   "metadata": {},
   "outputs": [],
   "source": [
    "write.csv(df,\"Sarah_direct.csv\")"
   ]
  }
 ],
 "metadata": {
  "kernelspec": {
   "display_name": "R4.0",
   "language": "R",
   "name": "ir3"
  },
  "language_info": {
   "codemirror_mode": "r",
   "file_extension": ".r",
   "mimetype": "text/x-r-source",
   "name": "R",
   "pygments_lexer": "r",
   "version": "4.0.3"
  }
 },
 "nbformat": 4,
 "nbformat_minor": 4
}
