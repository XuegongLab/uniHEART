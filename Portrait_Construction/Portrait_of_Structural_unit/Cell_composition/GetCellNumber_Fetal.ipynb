{
 "cells": [
  {
   "cell_type": "code",
   "execution_count": 1,
   "metadata": {},
   "outputs": [
    {
     "name": "stderr",
     "output_type": "stream",
     "text": [
      "Attaching SeuratObject\n",
      "\n"
     ]
    }
   ],
   "source": [
    "library(DIRECT)\n",
    "library(Seurat)\n",
    "library(data.table)\n",
    "library(ggplot2)"
   ]
  },
  {
   "cell_type": "markdown",
   "metadata": {},
   "source": [
    "# heart_heart_cui2019"
   ]
  },
  {
   "cell_type": "code",
   "execution_count": 2,
   "metadata": {},
   "outputs": [],
   "source": [
    "objName = \"/stor/public/chenyx/HHCAd/datasets/heart_heart_cui2019.seuratobj.rds\"\n",
    "dataobj<- readRDS(objName)"
   ]
  },
  {
   "cell_type": "code",
   "execution_count": 3,
   "metadata": {},
   "outputs": [],
   "source": [
    "cts <- unique(dataobj$cell_type)\n",
    "ids <- unique(dataobj$donor_id)"
   ]
  },
  {
   "cell_type": "code",
   "execution_count": 4,
   "metadata": {},
   "outputs": [
    {
     "data": {
      "text/html": [
       "<style>\n",
       ".list-inline {list-style: none; margin:0; padding: 0}\n",
       ".list-inline>li {display: inline-block}\n",
       ".list-inline>li:not(:last-child)::after {content: \"\\00b7\"; padding: 0 .5ex}\n",
       "</style>\n",
       "<ol class=list-inline><li>'Fibroblast'</li><li>'Cardiomyocyte cell'</li><li>'Endothelial cell'</li><li>'Myelocyte'</li><li>'Lymphocyte'</li><li>'Mast cell'</li><li>'Epithelial cell'</li><li>'NA'</li><li>'Smooth muscle cell'</li></ol>\n"
      ],
      "text/latex": [
       "\\begin{enumerate*}\n",
       "\\item 'Fibroblast'\n",
       "\\item 'Cardiomyocyte cell'\n",
       "\\item 'Endothelial cell'\n",
       "\\item 'Myelocyte'\n",
       "\\item 'Lymphocyte'\n",
       "\\item 'Mast cell'\n",
       "\\item 'Epithelial cell'\n",
       "\\item 'NA'\n",
       "\\item 'Smooth muscle cell'\n",
       "\\end{enumerate*}\n"
      ],
      "text/markdown": [
       "1. 'Fibroblast'\n",
       "2. 'Cardiomyocyte cell'\n",
       "3. 'Endothelial cell'\n",
       "4. 'Myelocyte'\n",
       "5. 'Lymphocyte'\n",
       "6. 'Mast cell'\n",
       "7. 'Epithelial cell'\n",
       "8. 'NA'\n",
       "9. 'Smooth muscle cell'\n",
       "\n",
       "\n"
      ],
      "text/plain": [
       "[1] \"Fibroblast\"         \"Cardiomyocyte cell\" \"Endothelial cell\"  \n",
       "[4] \"Myelocyte\"          \"Lymphocyte\"         \"Mast cell\"         \n",
       "[7] \"Epithelial cell\"    \"NA\"                 \"Smooth muscle cell\""
      ]
     },
     "metadata": {},
     "output_type": "display_data"
    }
   ],
   "source": [
    "cts"
   ]
  },
  {
   "cell_type": "code",
   "execution_count": 5,
   "metadata": {},
   "outputs": [],
   "source": [
    "df <- as.data.frame(matrix(numeric(0),ncol=12))\n",
    "colnames(df) <- c(\"donor_id\",\"subregion\",\"Endothelial cell\",\"Cardiomyocyte cell\",\"Myelocyte\",\"Fibroblast\",\"Lymphocyte\",\"Smooth muscle cell\",\"Neuron\",\"Mesothelial cell\",\"Epithelial cell\",\"Pericyte\")\n",
    "i = 1\n",
    "for(id in ids){\n",
    "    meta <- dataobj@meta.data[dataobj$donor_id == id,]\n",
    "    srs <- names(table(meta$subregion))\n",
    "    for(sr in srs){\n",
    "        df[i,\"donor_id\"] <- id\n",
    "        df[i,\"subregion\"] <- sr\n",
    "        t <- table(meta$cell_type[meta$subregion == sr])\n",
    "        for(ct in cts){\n",
    "            df[i,ct] <- t[ct]\n",
    "        }\n",
    "        i = i+1\n",
    "    }\n",
    "}\n",
    "df[is.na(df)] <- 0"
   ]
  },
  {
   "cell_type": "code",
   "execution_count": 6,
   "metadata": {},
   "outputs": [],
   "source": [
    "df_cui <- df"
   ]
  },
  {
   "cell_type": "markdown",
   "metadata": {},
   "source": [
    "# heart_heart_asp2019cellpress"
   ]
  },
  {
   "cell_type": "code",
   "execution_count": 7,
   "metadata": {},
   "outputs": [],
   "source": [
    "objName = \"/stor/public/chenyx/HHCAd/datasets/heart_heart_asp2019cellpress.seuratobj.rds\"\n",
    "dataobj<- readRDS(objName)"
   ]
  },
  {
   "cell_type": "code",
   "execution_count": 8,
   "metadata": {},
   "outputs": [],
   "source": [
    "dataobj$cell_type[dataobj$cell_type=='Ventricle cardiomyocyte cell'] <- \"Cardiomyocyte cell\"\n",
    "dataobj$cell_type[dataobj$cell_type=='Atrial cardiomyocyte cell'] <- \"Cardiomyocyte cell\""
   ]
  },
  {
   "cell_type": "code",
   "execution_count": 9,
   "metadata": {},
   "outputs": [],
   "source": [
    "cts <- unique(dataobj$cell_type)"
   ]
  },
  {
   "cell_type": "code",
   "execution_count": 10,
   "metadata": {},
   "outputs": [],
   "source": [
    "ids <- unique(dataobj$donor_id)"
   ]
  },
  {
   "cell_type": "code",
   "execution_count": 11,
   "metadata": {},
   "outputs": [
    {
     "data": {
      "text/html": [
       "<style>\n",
       ".list-inline {list-style: none; margin:0; padding: 0}\n",
       ".list-inline>li {display: inline-block}\n",
       ".list-inline>li:not(:last-child)::after {content: \"\\00b7\"; padding: 0 .5ex}\n",
       "</style>\n",
       "<ol class=list-inline><li>'Erythrocyte'</li><li>'Fibroblast'</li><li>'Smooth muscle cell'</li><li>'Endothelial cell'</li><li>'Cardiomyocyte cell'</li><li>'Neuron'</li><li>'Epithelial cell'</li><li>'Myelocyte'</li><li>'Pericyte'</li></ol>\n"
      ],
      "text/latex": [
       "\\begin{enumerate*}\n",
       "\\item 'Erythrocyte'\n",
       "\\item 'Fibroblast'\n",
       "\\item 'Smooth muscle cell'\n",
       "\\item 'Endothelial cell'\n",
       "\\item 'Cardiomyocyte cell'\n",
       "\\item 'Neuron'\n",
       "\\item 'Epithelial cell'\n",
       "\\item 'Myelocyte'\n",
       "\\item 'Pericyte'\n",
       "\\end{enumerate*}\n"
      ],
      "text/markdown": [
       "1. 'Erythrocyte'\n",
       "2. 'Fibroblast'\n",
       "3. 'Smooth muscle cell'\n",
       "4. 'Endothelial cell'\n",
       "5. 'Cardiomyocyte cell'\n",
       "6. 'Neuron'\n",
       "7. 'Epithelial cell'\n",
       "8. 'Myelocyte'\n",
       "9. 'Pericyte'\n",
       "\n",
       "\n"
      ],
      "text/plain": [
       "[1] \"Erythrocyte\"        \"Fibroblast\"         \"Smooth muscle cell\"\n",
       "[4] \"Endothelial cell\"   \"Cardiomyocyte cell\" \"Neuron\"            \n",
       "[7] \"Epithelial cell\"    \"Myelocyte\"          \"Pericyte\"          "
      ]
     },
     "metadata": {},
     "output_type": "display_data"
    }
   ],
   "source": [
    "cts"
   ]
  },
  {
   "cell_type": "code",
   "execution_count": 12,
   "metadata": {},
   "outputs": [],
   "source": [
    "df <- as.data.frame(matrix(numeric(0),ncol=12))\n",
    "colnames(df) <- c(\"donor_id\",\"subregion\",\"Endothelial cell\",\"Cardiomyocyte cell\",\"Myelocyte\",\"Fibroblast\",\"Lymphocyte\",\"Smooth muscle cell\",\"Neuron\",\"Mesothelial cell\",\"Epithelial cell\",\"Pericyte\")\n",
    "i = 1\n",
    "for(id in ids){\n",
    "    meta <- dataobj@meta.data[dataobj$donor_id == id,]\n",
    "    srs <- names(table(meta$subregion))\n",
    "    for(sr in srs){\n",
    "        df[i,\"donor_id\"] <- id\n",
    "        df[i,\"subregion\"] <- sr\n",
    "        t <- table(meta$cell_type[meta$subregion == sr])\n",
    "        for(ct in cts){\n",
    "            df[i,ct] <- t[ct]\n",
    "        }\n",
    "        i = i+1\n",
    "    }\n",
    "}\n",
    "df[is.na(df)] <- 0"
   ]
  },
  {
   "cell_type": "code",
   "execution_count": 13,
   "metadata": {},
   "outputs": [
    {
     "data": {
      "text/html": [
       "<table class=\"dataframe\">\n",
       "<caption>A data.frame: 1 × 13</caption>\n",
       "<thead>\n",
       "\t<tr><th></th><th scope=col>donor_id</th><th scope=col>subregion</th><th scope=col>Endothelial cell</th><th scope=col>Cardiomyocyte cell</th><th scope=col>Myelocyte</th><th scope=col>Fibroblast</th><th scope=col>Lymphocyte</th><th scope=col>Smooth muscle cell</th><th scope=col>Neuron</th><th scope=col>Mesothelial cell</th><th scope=col>Epithelial cell</th><th scope=col>Pericyte</th><th scope=col>Erythrocyte</th></tr>\n",
       "\t<tr><th></th><th scope=col>&lt;chr&gt;</th><th scope=col>&lt;chr&gt;</th><th scope=col>&lt;dbl&gt;</th><th scope=col>&lt;dbl&gt;</th><th scope=col>&lt;dbl&gt;</th><th scope=col>&lt;dbl&gt;</th><th scope=col>&lt;dbl&gt;</th><th scope=col>&lt;dbl&gt;</th><th scope=col>&lt;dbl&gt;</th><th scope=col>&lt;dbl&gt;</th><th scope=col>&lt;dbl&gt;</th><th scope=col>&lt;dbl&gt;</th><th scope=col>&lt;int&gt;</th></tr>\n",
       "</thead>\n",
       "<tbody>\n",
       "\t<tr><th scope=row>1</th><td>Asp_donor1</td><td>NA</td><td>804</td><td>762</td><td>75</td><td>903</td><td>0</td><td>571</td><td>75</td><td>0</td><td>137</td><td>147</td><td>303</td></tr>\n",
       "</tbody>\n",
       "</table>\n"
      ],
      "text/latex": [
       "A data.frame: 1 × 13\n",
       "\\begin{tabular}{r|lllllllllllll}\n",
       "  & donor\\_id & subregion & Endothelial cell & Cardiomyocyte cell & Myelocyte & Fibroblast & Lymphocyte & Smooth muscle cell & Neuron & Mesothelial cell & Epithelial cell & Pericyte & Erythrocyte\\\\\n",
       "  & <chr> & <chr> & <dbl> & <dbl> & <dbl> & <dbl> & <dbl> & <dbl> & <dbl> & <dbl> & <dbl> & <dbl> & <int>\\\\\n",
       "\\hline\n",
       "\t1 & Asp\\_donor1 & NA & 804 & 762 & 75 & 903 & 0 & 571 & 75 & 0 & 137 & 147 & 303\\\\\n",
       "\\end{tabular}\n"
      ],
      "text/markdown": [
       "\n",
       "A data.frame: 1 × 13\n",
       "\n",
       "| <!--/--> | donor_id &lt;chr&gt; | subregion &lt;chr&gt; | Endothelial cell &lt;dbl&gt; | Cardiomyocyte cell &lt;dbl&gt; | Myelocyte &lt;dbl&gt; | Fibroblast &lt;dbl&gt; | Lymphocyte &lt;dbl&gt; | Smooth muscle cell &lt;dbl&gt; | Neuron &lt;dbl&gt; | Mesothelial cell &lt;dbl&gt; | Epithelial cell &lt;dbl&gt; | Pericyte &lt;dbl&gt; | Erythrocyte &lt;int&gt; |\n",
       "|---|---|---|---|---|---|---|---|---|---|---|---|---|---|\n",
       "| 1 | Asp_donor1 | NA | 804 | 762 | 75 | 903 | 0 | 571 | 75 | 0 | 137 | 147 | 303 |\n",
       "\n"
      ],
      "text/plain": [
       "  donor_id   subregion Endothelial cell Cardiomyocyte cell Myelocyte Fibroblast\n",
       "1 Asp_donor1 NA        804              762                75        903       \n",
       "  Lymphocyte Smooth muscle cell Neuron Mesothelial cell Epithelial cell\n",
       "1 0          571                75     0                137            \n",
       "  Pericyte Erythrocyte\n",
       "1 147      303        "
      ]
     },
     "metadata": {},
     "output_type": "display_data"
    }
   ],
   "source": [
    "df_asp  <- df\n",
    "df_asp"
   ]
  },
  {
   "cell_type": "markdown",
   "metadata": {},
   "source": [
    "# heart_heart_HCLFetalHeart1"
   ]
  },
  {
   "cell_type": "code",
   "execution_count": 14,
   "metadata": {},
   "outputs": [],
   "source": [
    "objName = \"/stor/public/chenyx/HHCAd/datasets/heart_heart_HCLFetalHeart1.seuratobj.rds\"\n",
    "dataobj<- readRDS(objName)"
   ]
  },
  {
   "cell_type": "code",
   "execution_count": 15,
   "metadata": {},
   "outputs": [],
   "source": [
    "cts <- unique(dataobj$cell_type)"
   ]
  },
  {
   "cell_type": "code",
   "execution_count": 16,
   "metadata": {},
   "outputs": [],
   "source": [
    "ids <- unique(dataobj$donor_id)"
   ]
  },
  {
   "cell_type": "code",
   "execution_count": 17,
   "metadata": {},
   "outputs": [
    {
     "data": {
      "text/html": [
       "<style>\n",
       ".list-inline {list-style: none; margin:0; padding: 0}\n",
       ".list-inline>li {display: inline-block}\n",
       ".list-inline>li:not(:last-child)::after {content: \"\\00b7\"; padding: 0 .5ex}\n",
       "</style>\n",
       "<ol class=list-inline><li>'Endothelial cell'</li><li>'Cardiomyocyte cell'</li><li>'Fibroblast'</li><li>'Smooth muscle cell'</li><li>'Erythrocyte'</li><li>'Myelocyte'</li></ol>\n"
      ],
      "text/latex": [
       "\\begin{enumerate*}\n",
       "\\item 'Endothelial cell'\n",
       "\\item 'Cardiomyocyte cell'\n",
       "\\item 'Fibroblast'\n",
       "\\item 'Smooth muscle cell'\n",
       "\\item 'Erythrocyte'\n",
       "\\item 'Myelocyte'\n",
       "\\end{enumerate*}\n"
      ],
      "text/markdown": [
       "1. 'Endothelial cell'\n",
       "2. 'Cardiomyocyte cell'\n",
       "3. 'Fibroblast'\n",
       "4. 'Smooth muscle cell'\n",
       "5. 'Erythrocyte'\n",
       "6. 'Myelocyte'\n",
       "\n",
       "\n"
      ],
      "text/plain": [
       "[1] \"Endothelial cell\"   \"Cardiomyocyte cell\" \"Fibroblast\"        \n",
       "[4] \"Smooth muscle cell\" \"Erythrocyte\"        \"Myelocyte\"         "
      ]
     },
     "metadata": {},
     "output_type": "display_data"
    }
   ],
   "source": [
    "cts"
   ]
  },
  {
   "cell_type": "code",
   "execution_count": 18,
   "metadata": {},
   "outputs": [],
   "source": [
    "df <- as.data.frame(matrix(numeric(0),ncol=12))\n",
    "colnames(df) <- c(\"donor_id\",\"subregion\",\"Endothelial cell\",\"Cardiomyocyte cell\",\"Myelocyte\",\"Fibroblast\",\"Lymphocyte\",\"Smooth muscle cell\",\"Neuron\",\"Mesothelial cell\",\"Epithelial cell\",\"Pericyte\")\n",
    "i = 1\n",
    "for(id in ids){\n",
    "    meta <- dataobj@meta.data[dataobj$donor_id == id,]\n",
    "    srs <- names(table(meta$subregion))\n",
    "    for(sr in srs){\n",
    "        df[i,\"donor_id\"] <- id\n",
    "        df[i,\"subregion\"] <- sr\n",
    "        t <- table(meta$cell_type[meta$subregion == sr])\n",
    "        for(ct in cts){\n",
    "            df[i,ct] <- t[ct]\n",
    "        }\n",
    "        i = i+1\n",
    "    }\n",
    "}\n",
    "df[is.na(df)] <- 0"
   ]
  },
  {
   "cell_type": "code",
   "execution_count": 19,
   "metadata": {},
   "outputs": [],
   "source": [
    "df_f1 <- df"
   ]
  },
  {
   "cell_type": "markdown",
   "metadata": {},
   "source": [
    "# heart_heart_HCLFetalHeart2"
   ]
  },
  {
   "cell_type": "code",
   "execution_count": 20,
   "metadata": {},
   "outputs": [],
   "source": [
    "objName = \"/stor/public/chenyx/HHCAd/datasets/heart_heart_HCLFetalHeart2.seuratobj.rds\"\n",
    "dataobj<- readRDS(objName)"
   ]
  },
  {
   "cell_type": "code",
   "execution_count": 21,
   "metadata": {},
   "outputs": [],
   "source": [
    "cts <- unique(dataobj$cell_type)"
   ]
  },
  {
   "cell_type": "code",
   "execution_count": 22,
   "metadata": {},
   "outputs": [],
   "source": [
    "ids <- unique(dataobj$donor_id)"
   ]
  },
  {
   "cell_type": "code",
   "execution_count": 23,
   "metadata": {},
   "outputs": [],
   "source": [
    "df <- as.data.frame(matrix(numeric(0),ncol=12))\n",
    "colnames(df) <- c(\"donor_id\",\"subregion\",\"Endothelial cell\",\"Cardiomyocyte cell\",\"Myelocyte\",\"Fibroblast\",\"Lymphocyte\",\"Smooth muscle cell\",\"Neuron\",\"Mesothelial cell\",\"Epithelial cell\",\"Pericyte\")\n",
    "i = 1\n",
    "for(id in ids){\n",
    "    meta <- dataobj@meta.data[dataobj$donor_id == id,]\n",
    "    srs <- names(table(meta$subregion))\n",
    "    for(sr in srs){\n",
    "        df[i,\"donor_id\"] <- id\n",
    "        df[i,\"subregion\"] <- sr\n",
    "        t <- table(meta$cell_type[meta$subregion == sr])\n",
    "        for(ct in cts){\n",
    "            df[i,ct] <- t[ct]\n",
    "        }\n",
    "        i = i+1\n",
    "    }\n",
    "}\n",
    "df[is.na(df)] <- 0"
   ]
  },
  {
   "cell_type": "code",
   "execution_count": 24,
   "metadata": {},
   "outputs": [],
   "source": [
    "df_f2 <- df"
   ]
  },
  {
   "cell_type": "code",
   "execution_count": null,
   "metadata": {},
   "outputs": [],
   "source": []
  },
  {
   "cell_type": "code",
   "execution_count": null,
   "metadata": {},
   "outputs": [],
   "source": []
  },
  {
   "cell_type": "markdown",
   "metadata": {},
   "source": [
    "# fetal cell atlas"
   ]
  },
  {
   "cell_type": "code",
   "execution_count": 25,
   "metadata": {},
   "outputs": [],
   "source": [
    "objName = \"/stor/public/chenyx/HHCAd/datasets/Fetal_Atlas.seuratobj.rds\"\n",
    "dataobj<- readRDS(objName)"
   ]
  },
  {
   "cell_type": "code",
   "execution_count": 26,
   "metadata": {},
   "outputs": [
    {
     "data": {
      "text/html": [
       "'HE18W'"
      ],
      "text/latex": [
       "'HE18W'"
      ],
      "text/markdown": [
       "'HE18W'"
      ],
      "text/plain": [
       "[1] \"HE18W\""
      ]
     },
     "metadata": {},
     "output_type": "display_data"
    }
   ],
   "source": [
    "unique(dataobj$donor_age[dataobj$donor_id==\"H27098\"])"
   ]
  },
  {
   "cell_type": "code",
   "execution_count": 27,
   "metadata": {},
   "outputs": [],
   "source": [
    "dataobj$cell_type[dataobj$cell_type %in% c('Macrophage','Megakaryocyte')] <- \"Myelocyte\"\n",
    "dataobj$cell_type[dataobj$cell_type %in% c('Endocardial cell','Vascular endothelial cell','Lymphatic endothelial cell')] <- \"Endothelial cell\"\n",
    "dataobj$cell_type[dataobj$cell_type %in% c('Neruon')] <- \"Neuron\""
   ]
  },
  {
   "cell_type": "code",
   "execution_count": 28,
   "metadata": {},
   "outputs": [],
   "source": [
    "cts <- unique(dataobj$cell_type)"
   ]
  },
  {
   "cell_type": "code",
   "execution_count": 29,
   "metadata": {},
   "outputs": [
    {
     "data": {
      "text/html": [
       "<style>\n",
       ".list-inline {list-style: none; margin:0; padding: 0}\n",
       ".list-inline>li {display: inline-block}\n",
       ".list-inline>li:not(:last-child)::after {content: \"\\00b7\"; padding: 0 .5ex}\n",
       "</style>\n",
       "<ol class=list-inline><li>'Cardiomyocyte cell'</li><li>'NA'</li><li>'Fibroblast'</li><li>'Smooth muscle cell'</li><li>'Lymphocyte'</li><li>'Endothelial cell'</li><li>'Adipocyte'</li><li>'Myelocyte'</li><li>'Neuron'</li><li>'Erythrocyte'</li></ol>\n"
      ],
      "text/latex": [
       "\\begin{enumerate*}\n",
       "\\item 'Cardiomyocyte cell'\n",
       "\\item 'NA'\n",
       "\\item 'Fibroblast'\n",
       "\\item 'Smooth muscle cell'\n",
       "\\item 'Lymphocyte'\n",
       "\\item 'Endothelial cell'\n",
       "\\item 'Adipocyte'\n",
       "\\item 'Myelocyte'\n",
       "\\item 'Neuron'\n",
       "\\item 'Erythrocyte'\n",
       "\\end{enumerate*}\n"
      ],
      "text/markdown": [
       "1. 'Cardiomyocyte cell'\n",
       "2. 'NA'\n",
       "3. 'Fibroblast'\n",
       "4. 'Smooth muscle cell'\n",
       "5. 'Lymphocyte'\n",
       "6. 'Endothelial cell'\n",
       "7. 'Adipocyte'\n",
       "8. 'Myelocyte'\n",
       "9. 'Neuron'\n",
       "10. 'Erythrocyte'\n",
       "\n",
       "\n"
      ],
      "text/plain": [
       " [1] \"Cardiomyocyte cell\" \"NA\"                 \"Fibroblast\"        \n",
       " [4] \"Smooth muscle cell\" \"Lymphocyte\"         \"Endothelial cell\"  \n",
       " [7] \"Adipocyte\"          \"Myelocyte\"          \"Neuron\"            \n",
       "[10] \"Erythrocyte\"       "
      ]
     },
     "metadata": {},
     "output_type": "display_data"
    }
   ],
   "source": [
    "cts"
   ]
  },
  {
   "cell_type": "code",
   "execution_count": null,
   "metadata": {},
   "outputs": [],
   "source": []
  },
  {
   "cell_type": "code",
   "execution_count": null,
   "metadata": {},
   "outputs": [],
   "source": []
  },
  {
   "cell_type": "code",
   "execution_count": 30,
   "metadata": {},
   "outputs": [],
   "source": [
    "ids <- unique(dataobj$donor_id)"
   ]
  },
  {
   "cell_type": "code",
   "execution_count": 31,
   "metadata": {},
   "outputs": [],
   "source": [
    "df <- as.data.frame(matrix(numeric(0),ncol=12))\n",
    "colnames(df) <- c(\"donor_id\",\"subregion\",\"Endothelial cell\",\"Cardiomyocyte cell\",\"Myelocyte\",\"Fibroblast\",\"Lymphocyte\",\"Smooth muscle cell\",\"Neuron\",\"Mesothelial cell\",\"Epithelial cell\",\"Pericyte\")\n",
    "i = 1\n",
    "for(id in ids){\n",
    "    meta <- dataobj@meta.data[dataobj$donor_id == id,]\n",
    "    srs <- names(table(meta$subregion))\n",
    "    for(sr in srs){\n",
    "        df[i,\"donor_id\"] <- id\n",
    "        df[i,\"subregion\"] <- sr\n",
    "        t <- table(meta$cell_type[meta$subregion == sr])\n",
    "        for(ct in cts){\n",
    "            df[i,ct] <- t[ct]\n",
    "        }\n",
    "        i = i+1\n",
    "    }\n",
    "}\n",
    "df[is.na(df)] <- 0"
   ]
  },
  {
   "cell_type": "code",
   "execution_count": 32,
   "metadata": {},
   "outputs": [],
   "source": [
    "df_fa <- df"
   ]
  },
  {
   "cell_type": "code",
   "execution_count": null,
   "metadata": {},
   "outputs": [],
   "source": []
  },
  {
   "cell_type": "code",
   "execution_count": 33,
   "metadata": {},
   "outputs": [],
   "source": [
    "df <- rbind(df_f1[1:12],df_f2[1:12],df_cui[1:12],df_asp[1:12],df_fa[1:12])"
   ]
  },
  {
   "cell_type": "code",
   "execution_count": 34,
   "metadata": {},
   "outputs": [
    {
     "data": {
      "text/html": [
       "<table class=\"dataframe\">\n",
       "<caption>A data.frame: 99 × 12</caption>\n",
       "<thead>\n",
       "\t<tr><th scope=col>donor_id</th><th scope=col>subregion</th><th scope=col>Endothelial cell</th><th scope=col>Cardiomyocyte cell</th><th scope=col>Myelocyte</th><th scope=col>Fibroblast</th><th scope=col>Lymphocyte</th><th scope=col>Smooth muscle cell</th><th scope=col>Neuron</th><th scope=col>Mesothelial cell</th><th scope=col>Epithelial cell</th><th scope=col>Pericyte</th></tr>\n",
       "\t<tr><th scope=col>&lt;chr&gt;</th><th scope=col>&lt;chr&gt;</th><th scope=col>&lt;dbl&gt;</th><th scope=col>&lt;dbl&gt;</th><th scope=col>&lt;dbl&gt;</th><th scope=col>&lt;dbl&gt;</th><th scope=col>&lt;dbl&gt;</th><th scope=col>&lt;dbl&gt;</th><th scope=col>&lt;dbl&gt;</th><th scope=col>&lt;dbl&gt;</th><th scope=col>&lt;dbl&gt;</th><th scope=col>&lt;dbl&gt;</th></tr>\n",
       "</thead>\n",
       "<tbody>\n",
       "\t<tr><td>FetalHeart_12W  </td><td>NA             </td><td>1139</td><td>2123</td><td> 60</td><td>1303</td><td>0</td><td>308</td><td>0</td><td>0</td><td> 0</td><td>  0</td></tr>\n",
       "\t<tr><td>FetalHeart2_GW11</td><td>NA             </td><td> 363</td><td> 911</td><td>150</td><td> 858</td><td>0</td><td>118</td><td>0</td><td>0</td><td>22</td><td>208</td></tr>\n",
       "\t<tr><td>HE5W_1          </td><td>Left atria     </td><td>   3</td><td>  62</td><td>  1</td><td>  18</td><td>0</td><td>  0</td><td>0</td><td>0</td><td> 0</td><td>  0</td></tr>\n",
       "\t<tr><td>HE5W_1          </td><td>Left ventricle </td><td>   9</td><td>  63</td><td>  1</td><td>  21</td><td>0</td><td>  0</td><td>0</td><td>0</td><td> 0</td><td>  0</td></tr>\n",
       "\t<tr><td>HE5W_1          </td><td>Right atria    </td><td>   3</td><td>  51</td><td>  3</td><td>  38</td><td>0</td><td>  0</td><td>0</td><td>0</td><td> 0</td><td>  0</td></tr>\n",
       "\t<tr><td>HE5W_1          </td><td>Right ventricle</td><td>   1</td><td>  44</td><td>  0</td><td>  42</td><td>0</td><td>  0</td><td>0</td><td>0</td><td> 0</td><td>  0</td></tr>\n",
       "\t<tr><td>HE6W_1          </td><td>Left atria     </td><td>  10</td><td>  11</td><td>  4</td><td>   9</td><td>0</td><td>  0</td><td>0</td><td>0</td><td> 0</td><td>  0</td></tr>\n",
       "\t<tr><td>HE6W_1          </td><td>Left ventricle </td><td>  16</td><td>   7</td><td>  2</td><td>  16</td><td>0</td><td>  0</td><td>0</td><td>0</td><td> 0</td><td>  0</td></tr>\n",
       "\t<tr><td>HE6W_1          </td><td>Right atria    </td><td>  10</td><td>  26</td><td>  0</td><td>   9</td><td>0</td><td>  0</td><td>0</td><td>0</td><td> 0</td><td>  0</td></tr>\n",
       "\t<tr><td>HE6W_1          </td><td>Right ventricle</td><td>   6</td><td>  13</td><td>  0</td><td>  24</td><td>0</td><td>  0</td><td>0</td><td>0</td><td> 0</td><td>  0</td></tr>\n",
       "\t<tr><td>HE6W_2          </td><td>Left atria     </td><td>  17</td><td>   3</td><td>  5</td><td>  21</td><td>1</td><td>  0</td><td>0</td><td>0</td><td> 0</td><td>  0</td></tr>\n",
       "\t<tr><td>HE6W_2          </td><td>Left ventricle </td><td>  15</td><td>   9</td><td>  2</td><td>  21</td><td>0</td><td>  0</td><td>0</td><td>0</td><td> 0</td><td>  0</td></tr>\n",
       "\t<tr><td>HE6W_2          </td><td>Right atria    </td><td>  15</td><td>   5</td><td>  3</td><td>  24</td><td>0</td><td>  0</td><td>0</td><td>0</td><td> 0</td><td>  0</td></tr>\n",
       "\t<tr><td>HE6W_2          </td><td>Right ventricle</td><td>  17</td><td>   5</td><td>  0</td><td>  26</td><td>0</td><td>  0</td><td>0</td><td>0</td><td> 0</td><td>  0</td></tr>\n",
       "\t<tr><td>HE7W_1          </td><td>Left atria     </td><td>   4</td><td>  40</td><td>  0</td><td>   3</td><td>0</td><td>  0</td><td>0</td><td>0</td><td> 0</td><td>  0</td></tr>\n",
       "\t<tr><td>HE7W_1          </td><td>Left ventricle </td><td>  15</td><td>  15</td><td>  4</td><td>   6</td><td>0</td><td>  0</td><td>0</td><td>0</td><td> 0</td><td>  0</td></tr>\n",
       "\t<tr><td>HE7W_1          </td><td>Right atria    </td><td>   9</td><td>  29</td><td>  3</td><td>   3</td><td>0</td><td>  0</td><td>0</td><td>0</td><td> 0</td><td>  0</td></tr>\n",
       "\t<tr><td>HE7W_1          </td><td>Right ventricle</td><td>  14</td><td>  18</td><td>  4</td><td>   4</td><td>0</td><td>  0</td><td>0</td><td>0</td><td> 0</td><td>  0</td></tr>\n",
       "\t<tr><td>HE7W_2          </td><td>Left atria     </td><td>   2</td><td>  72</td><td>  0</td><td>   0</td><td>0</td><td>  0</td><td>0</td><td>0</td><td> 0</td><td>  0</td></tr>\n",
       "\t<tr><td>HE7W_2          </td><td>Left ventricle </td><td>   7</td><td>  63</td><td>  0</td><td>  10</td><td>0</td><td>  0</td><td>0</td><td>0</td><td> 0</td><td>  0</td></tr>\n",
       "\t<tr><td>HE7W_2          </td><td>Right atria    </td><td>   6</td><td>  70</td><td>  0</td><td>   7</td><td>0</td><td>  0</td><td>0</td><td>0</td><td> 0</td><td>  0</td></tr>\n",
       "\t<tr><td>HE7W_2          </td><td>Right ventricle</td><td>   5</td><td>  48</td><td>  0</td><td>   2</td><td>0</td><td>  0</td><td>0</td><td>0</td><td> 0</td><td>  0</td></tr>\n",
       "\t<tr><td>HE7W_3          </td><td>Left atria     </td><td>   3</td><td>  35</td><td>  0</td><td>   0</td><td>0</td><td>  0</td><td>0</td><td>0</td><td> 0</td><td>  0</td></tr>\n",
       "\t<tr><td>HE7W_3          </td><td>Left ventricle </td><td>   0</td><td>  31</td><td>  1</td><td>   4</td><td>0</td><td>  0</td><td>0</td><td>0</td><td> 0</td><td>  0</td></tr>\n",
       "\t<tr><td>HE7W_3          </td><td>Right atria    </td><td>   4</td><td>  36</td><td>  0</td><td>   1</td><td>0</td><td>  0</td><td>0</td><td>0</td><td> 0</td><td>  0</td></tr>\n",
       "\t<tr><td>HE7W_3          </td><td>Right ventricle</td><td>   2</td><td>  16</td><td>  1</td><td>   9</td><td>0</td><td>  0</td><td>0</td><td>0</td><td> 0</td><td>  0</td></tr>\n",
       "\t<tr><td>HE9W_1          </td><td>Left atria     </td><td>  18</td><td>  16</td><td>  1</td><td>   6</td><td>0</td><td>  0</td><td>0</td><td>0</td><td> 2</td><td>  0</td></tr>\n",
       "\t<tr><td>HE9W_1          </td><td>Left ventricle </td><td>   3</td><td>  15</td><td>  1</td><td>  20</td><td>0</td><td>  0</td><td>0</td><td>0</td><td> 0</td><td>  0</td></tr>\n",
       "\t<tr><td>HE9W_1          </td><td>Right atria    </td><td>  17</td><td>  18</td><td>  6</td><td>   5</td><td>0</td><td>  0</td><td>0</td><td>0</td><td> 0</td><td>  0</td></tr>\n",
       "\t<tr><td>HE9W_1          </td><td>Right ventricle</td><td>   2</td><td>  24</td><td>  2</td><td>   9</td><td>0</td><td>  0</td><td>0</td><td>0</td><td> 0</td><td>  0</td></tr>\n",
       "\t<tr><td>⋮</td><td>⋮</td><td>⋮</td><td>⋮</td><td>⋮</td><td>⋮</td><td>⋮</td><td>⋮</td><td>⋮</td><td>⋮</td><td>⋮</td><td>⋮</td></tr>\n",
       "\t<tr><td>HE23W_2   </td><td>Aorta                  </td><td>   0</td><td>    1</td><td>  3</td><td>   0</td><td>  1</td><td> 14</td><td>  0</td><td>0</td><td>  0</td><td>  0</td></tr>\n",
       "\t<tr><td>HE23W_2   </td><td>Aortic valve           </td><td>   5</td><td>    0</td><td>  2</td><td>  33</td><td>  1</td><td>  0</td><td>  0</td><td>0</td><td>  0</td><td>  0</td></tr>\n",
       "\t<tr><td>HE23W_2   </td><td>Interventricular septum</td><td>   7</td><td>    6</td><td>  5</td><td>   7</td><td>  0</td><td>  0</td><td>  0</td><td>0</td><td>  0</td><td>  0</td></tr>\n",
       "\t<tr><td>HE23W_2   </td><td>Left atria             </td><td>   1</td><td>   10</td><td>  0</td><td>   4</td><td>  0</td><td>  0</td><td>  0</td><td>0</td><td>  0</td><td>  0</td></tr>\n",
       "\t<tr><td>HE23W_2   </td><td>Left ventricle         </td><td>   3</td><td>   11</td><td>  4</td><td>   2</td><td>  0</td><td>  0</td><td>  0</td><td>0</td><td>  0</td><td>  0</td></tr>\n",
       "\t<tr><td>HE23W_2   </td><td>Mitral valve           </td><td>   6</td><td>    0</td><td>  4</td><td>  30</td><td>  0</td><td>  0</td><td>  0</td><td>0</td><td>  0</td><td>  0</td></tr>\n",
       "\t<tr><td>HE23W_2   </td><td>Pulmonary artery       </td><td>   1</td><td>    2</td><td>  4</td><td>   2</td><td>  1</td><td> 17</td><td>  0</td><td>0</td><td>  1</td><td>  0</td></tr>\n",
       "\t<tr><td>HE23W_2   </td><td>Pulmonary valve        </td><td>   7</td><td>    0</td><td>  1</td><td>  32</td><td>  0</td><td>  0</td><td>  0</td><td>0</td><td>  0</td><td>  0</td></tr>\n",
       "\t<tr><td>HE23W_2   </td><td>Right atria            </td><td>   4</td><td>    9</td><td>  0</td><td>   3</td><td>  0</td><td>  1</td><td>  0</td><td>0</td><td>  1</td><td>  0</td></tr>\n",
       "\t<tr><td>HE23W_2   </td><td>Right ventricle        </td><td>   4</td><td>    5</td><td>  4</td><td>   8</td><td>  0</td><td>  0</td><td>  0</td><td>0</td><td>  0</td><td>  0</td></tr>\n",
       "\t<tr><td>HE23W_2   </td><td>Tricuspid valve        </td><td>  21</td><td>    0</td><td>  5</td><td>  20</td><td>  0</td><td>  0</td><td>  0</td><td>0</td><td>  0</td><td>  0</td></tr>\n",
       "\t<tr><td>HE24W_1   </td><td>Left atria             </td><td>  24</td><td>   28</td><td>  2</td><td>   7</td><td>  1</td><td>  0</td><td>  0</td><td>0</td><td>  8</td><td>  0</td></tr>\n",
       "\t<tr><td>HE24W_1   </td><td>Left ventricle         </td><td>   8</td><td>   20</td><td>  9</td><td>  20</td><td>  8</td><td>  1</td><td>  0</td><td>0</td><td>  0</td><td>  0</td></tr>\n",
       "\t<tr><td>HE24W_1   </td><td>Right atria            </td><td>  11</td><td>   51</td><td>  1</td><td>   7</td><td>  3</td><td>  0</td><td>  0</td><td>0</td><td>  2</td><td>  0</td></tr>\n",
       "\t<tr><td>HE24W_1   </td><td>Right ventricle        </td><td>   2</td><td>   24</td><td>  3</td><td>  36</td><td>  2</td><td>  0</td><td>  0</td><td>0</td><td>  0</td><td>  0</td></tr>\n",
       "\t<tr><td>HE25W_1   </td><td>Aortic valve           </td><td>   0</td><td>    0</td><td>  5</td><td>  18</td><td>  0</td><td>  0</td><td>  0</td><td>0</td><td>  0</td><td>  0</td></tr>\n",
       "\t<tr><td>HE25W_1   </td><td>Mitral valve           </td><td>   2</td><td>    0</td><td>  8</td><td>  17</td><td>  0</td><td>  0</td><td>  0</td><td>0</td><td>  0</td><td>  0</td></tr>\n",
       "\t<tr><td>HE25W_1   </td><td>Pulmonary valve        </td><td>   3</td><td>    0</td><td>  7</td><td>  16</td><td>  0</td><td>  0</td><td>  0</td><td>0</td><td>  0</td><td>  0</td></tr>\n",
       "\t<tr><td>HE25W_1   </td><td>Tricuspid valve        </td><td>   1</td><td>    0</td><td>  7</td><td>  21</td><td>  0</td><td>  0</td><td>  0</td><td>0</td><td>  0</td><td>  0</td></tr>\n",
       "\t<tr><td>HE25W_1   </td><td>Ventricle              </td><td>   7</td><td>    0</td><td>  2</td><td>  12</td><td>  0</td><td>  0</td><td>  0</td><td>0</td><td>  0</td><td>  0</td></tr>\n",
       "\t<tr><td>Asp_donor1</td><td>NA                     </td><td> 804</td><td>  762</td><td> 75</td><td> 903</td><td>  0</td><td>571</td><td> 75</td><td>0</td><td>137</td><td>147</td></tr>\n",
       "\t<tr><td>H26547    </td><td>NA                     </td><td> 481</td><td> 2919</td><td> 30</td><td> 479</td><td> 32</td><td> 77</td><td> 27</td><td>0</td><td>  0</td><td>  0</td></tr>\n",
       "\t<tr><td>H27464    </td><td>NA                     </td><td> 602</td><td> 2734</td><td>151</td><td> 736</td><td>215</td><td>108</td><td> 30</td><td>0</td><td>  0</td><td>  0</td></tr>\n",
       "\t<tr><td>H27431    </td><td>NA                     </td><td>2999</td><td>17144</td><td>407</td><td>3767</td><td>240</td><td>500</td><td>218</td><td>0</td><td>  0</td><td>  0</td></tr>\n",
       "\t<tr><td>H27295    </td><td>NA                     </td><td>1860</td><td>12118</td><td>280</td><td>2066</td><td>322</td><td>299</td><td>120</td><td>0</td><td>  0</td><td>  0</td></tr>\n",
       "\t<tr><td>H27471    </td><td>NA                     </td><td>3580</td><td> 8769</td><td>279</td><td>2154</td><td>486</td><td>266</td><td>262</td><td>0</td><td>  0</td><td>  0</td></tr>\n",
       "\t<tr><td>H27098    </td><td>NA                     </td><td>1057</td><td> 4115</td><td> 55</td><td> 594</td><td> 14</td><td>234</td><td> 69</td><td>0</td><td>  0</td><td>  0</td></tr>\n",
       "\t<tr><td>H27472    </td><td>NA                     </td><td> 556</td><td> 4302</td><td> 31</td><td> 293</td><td>  4</td><td> 77</td><td> 32</td><td>0</td><td>  0</td><td>  0</td></tr>\n",
       "\t<tr><td>H27423    </td><td>NA                     </td><td> 780</td><td> 7024</td><td> 73</td><td> 898</td><td> 19</td><td>145</td><td> 35</td><td>0</td><td>  0</td><td>  0</td></tr>\n",
       "\t<tr><td>H27473    </td><td>NA                     </td><td>1645</td><td> 8485</td><td> 95</td><td>1443</td><td> 16</td><td>330</td><td> 90</td><td>0</td><td>  0</td><td>  0</td></tr>\n",
       "</tbody>\n",
       "</table>\n"
      ],
      "text/latex": [
       "A data.frame: 99 × 12\n",
       "\\begin{tabular}{llllllllllll}\n",
       " donor\\_id & subregion & Endothelial cell & Cardiomyocyte cell & Myelocyte & Fibroblast & Lymphocyte & Smooth muscle cell & Neuron & Mesothelial cell & Epithelial cell & Pericyte\\\\\n",
       " <chr> & <chr> & <dbl> & <dbl> & <dbl> & <dbl> & <dbl> & <dbl> & <dbl> & <dbl> & <dbl> & <dbl>\\\\\n",
       "\\hline\n",
       "\t FetalHeart\\_12W   & NA              & 1139 & 2123 &  60 & 1303 & 0 & 308 & 0 & 0 &  0 &   0\\\\\n",
       "\t FetalHeart2\\_GW11 & NA              &  363 &  911 & 150 &  858 & 0 & 118 & 0 & 0 & 22 & 208\\\\\n",
       "\t HE5W\\_1           & Left atria      &    3 &   62 &   1 &   18 & 0 &   0 & 0 & 0 &  0 &   0\\\\\n",
       "\t HE5W\\_1           & Left ventricle  &    9 &   63 &   1 &   21 & 0 &   0 & 0 & 0 &  0 &   0\\\\\n",
       "\t HE5W\\_1           & Right atria     &    3 &   51 &   3 &   38 & 0 &   0 & 0 & 0 &  0 &   0\\\\\n",
       "\t HE5W\\_1           & Right ventricle &    1 &   44 &   0 &   42 & 0 &   0 & 0 & 0 &  0 &   0\\\\\n",
       "\t HE6W\\_1           & Left atria      &   10 &   11 &   4 &    9 & 0 &   0 & 0 & 0 &  0 &   0\\\\\n",
       "\t HE6W\\_1           & Left ventricle  &   16 &    7 &   2 &   16 & 0 &   0 & 0 & 0 &  0 &   0\\\\\n",
       "\t HE6W\\_1           & Right atria     &   10 &   26 &   0 &    9 & 0 &   0 & 0 & 0 &  0 &   0\\\\\n",
       "\t HE6W\\_1           & Right ventricle &    6 &   13 &   0 &   24 & 0 &   0 & 0 & 0 &  0 &   0\\\\\n",
       "\t HE6W\\_2           & Left atria      &   17 &    3 &   5 &   21 & 1 &   0 & 0 & 0 &  0 &   0\\\\\n",
       "\t HE6W\\_2           & Left ventricle  &   15 &    9 &   2 &   21 & 0 &   0 & 0 & 0 &  0 &   0\\\\\n",
       "\t HE6W\\_2           & Right atria     &   15 &    5 &   3 &   24 & 0 &   0 & 0 & 0 &  0 &   0\\\\\n",
       "\t HE6W\\_2           & Right ventricle &   17 &    5 &   0 &   26 & 0 &   0 & 0 & 0 &  0 &   0\\\\\n",
       "\t HE7W\\_1           & Left atria      &    4 &   40 &   0 &    3 & 0 &   0 & 0 & 0 &  0 &   0\\\\\n",
       "\t HE7W\\_1           & Left ventricle  &   15 &   15 &   4 &    6 & 0 &   0 & 0 & 0 &  0 &   0\\\\\n",
       "\t HE7W\\_1           & Right atria     &    9 &   29 &   3 &    3 & 0 &   0 & 0 & 0 &  0 &   0\\\\\n",
       "\t HE7W\\_1           & Right ventricle &   14 &   18 &   4 &    4 & 0 &   0 & 0 & 0 &  0 &   0\\\\\n",
       "\t HE7W\\_2           & Left atria      &    2 &   72 &   0 &    0 & 0 &   0 & 0 & 0 &  0 &   0\\\\\n",
       "\t HE7W\\_2           & Left ventricle  &    7 &   63 &   0 &   10 & 0 &   0 & 0 & 0 &  0 &   0\\\\\n",
       "\t HE7W\\_2           & Right atria     &    6 &   70 &   0 &    7 & 0 &   0 & 0 & 0 &  0 &   0\\\\\n",
       "\t HE7W\\_2           & Right ventricle &    5 &   48 &   0 &    2 & 0 &   0 & 0 & 0 &  0 &   0\\\\\n",
       "\t HE7W\\_3           & Left atria      &    3 &   35 &   0 &    0 & 0 &   0 & 0 & 0 &  0 &   0\\\\\n",
       "\t HE7W\\_3           & Left ventricle  &    0 &   31 &   1 &    4 & 0 &   0 & 0 & 0 &  0 &   0\\\\\n",
       "\t HE7W\\_3           & Right atria     &    4 &   36 &   0 &    1 & 0 &   0 & 0 & 0 &  0 &   0\\\\\n",
       "\t HE7W\\_3           & Right ventricle &    2 &   16 &   1 &    9 & 0 &   0 & 0 & 0 &  0 &   0\\\\\n",
       "\t HE9W\\_1           & Left atria      &   18 &   16 &   1 &    6 & 0 &   0 & 0 & 0 &  2 &   0\\\\\n",
       "\t HE9W\\_1           & Left ventricle  &    3 &   15 &   1 &   20 & 0 &   0 & 0 & 0 &  0 &   0\\\\\n",
       "\t HE9W\\_1           & Right atria     &   17 &   18 &   6 &    5 & 0 &   0 & 0 & 0 &  0 &   0\\\\\n",
       "\t HE9W\\_1           & Right ventricle &    2 &   24 &   2 &    9 & 0 &   0 & 0 & 0 &  0 &   0\\\\\n",
       "\t ⋮ & ⋮ & ⋮ & ⋮ & ⋮ & ⋮ & ⋮ & ⋮ & ⋮ & ⋮ & ⋮ & ⋮\\\\\n",
       "\t HE23W\\_2    & Aorta                   &    0 &     1 &   3 &    0 &   1 &  14 &   0 & 0 &   0 &   0\\\\\n",
       "\t HE23W\\_2    & Aortic valve            &    5 &     0 &   2 &   33 &   1 &   0 &   0 & 0 &   0 &   0\\\\\n",
       "\t HE23W\\_2    & Interventricular septum &    7 &     6 &   5 &    7 &   0 &   0 &   0 & 0 &   0 &   0\\\\\n",
       "\t HE23W\\_2    & Left atria              &    1 &    10 &   0 &    4 &   0 &   0 &   0 & 0 &   0 &   0\\\\\n",
       "\t HE23W\\_2    & Left ventricle          &    3 &    11 &   4 &    2 &   0 &   0 &   0 & 0 &   0 &   0\\\\\n",
       "\t HE23W\\_2    & Mitral valve            &    6 &     0 &   4 &   30 &   0 &   0 &   0 & 0 &   0 &   0\\\\\n",
       "\t HE23W\\_2    & Pulmonary artery        &    1 &     2 &   4 &    2 &   1 &  17 &   0 & 0 &   1 &   0\\\\\n",
       "\t HE23W\\_2    & Pulmonary valve         &    7 &     0 &   1 &   32 &   0 &   0 &   0 & 0 &   0 &   0\\\\\n",
       "\t HE23W\\_2    & Right atria             &    4 &     9 &   0 &    3 &   0 &   1 &   0 & 0 &   1 &   0\\\\\n",
       "\t HE23W\\_2    & Right ventricle         &    4 &     5 &   4 &    8 &   0 &   0 &   0 & 0 &   0 &   0\\\\\n",
       "\t HE23W\\_2    & Tricuspid valve         &   21 &     0 &   5 &   20 &   0 &   0 &   0 & 0 &   0 &   0\\\\\n",
       "\t HE24W\\_1    & Left atria              &   24 &    28 &   2 &    7 &   1 &   0 &   0 & 0 &   8 &   0\\\\\n",
       "\t HE24W\\_1    & Left ventricle          &    8 &    20 &   9 &   20 &   8 &   1 &   0 & 0 &   0 &   0\\\\\n",
       "\t HE24W\\_1    & Right atria             &   11 &    51 &   1 &    7 &   3 &   0 &   0 & 0 &   2 &   0\\\\\n",
       "\t HE24W\\_1    & Right ventricle         &    2 &    24 &   3 &   36 &   2 &   0 &   0 & 0 &   0 &   0\\\\\n",
       "\t HE25W\\_1    & Aortic valve            &    0 &     0 &   5 &   18 &   0 &   0 &   0 & 0 &   0 &   0\\\\\n",
       "\t HE25W\\_1    & Mitral valve            &    2 &     0 &   8 &   17 &   0 &   0 &   0 & 0 &   0 &   0\\\\\n",
       "\t HE25W\\_1    & Pulmonary valve         &    3 &     0 &   7 &   16 &   0 &   0 &   0 & 0 &   0 &   0\\\\\n",
       "\t HE25W\\_1    & Tricuspid valve         &    1 &     0 &   7 &   21 &   0 &   0 &   0 & 0 &   0 &   0\\\\\n",
       "\t HE25W\\_1    & Ventricle               &    7 &     0 &   2 &   12 &   0 &   0 &   0 & 0 &   0 &   0\\\\\n",
       "\t Asp\\_donor1 & NA                      &  804 &   762 &  75 &  903 &   0 & 571 &  75 & 0 & 137 & 147\\\\\n",
       "\t H26547     & NA                      &  481 &  2919 &  30 &  479 &  32 &  77 &  27 & 0 &   0 &   0\\\\\n",
       "\t H27464     & NA                      &  602 &  2734 & 151 &  736 & 215 & 108 &  30 & 0 &   0 &   0\\\\\n",
       "\t H27431     & NA                      & 2999 & 17144 & 407 & 3767 & 240 & 500 & 218 & 0 &   0 &   0\\\\\n",
       "\t H27295     & NA                      & 1860 & 12118 & 280 & 2066 & 322 & 299 & 120 & 0 &   0 &   0\\\\\n",
       "\t H27471     & NA                      & 3580 &  8769 & 279 & 2154 & 486 & 266 & 262 & 0 &   0 &   0\\\\\n",
       "\t H27098     & NA                      & 1057 &  4115 &  55 &  594 &  14 & 234 &  69 & 0 &   0 &   0\\\\\n",
       "\t H27472     & NA                      &  556 &  4302 &  31 &  293 &   4 &  77 &  32 & 0 &   0 &   0\\\\\n",
       "\t H27423     & NA                      &  780 &  7024 &  73 &  898 &  19 & 145 &  35 & 0 &   0 &   0\\\\\n",
       "\t H27473     & NA                      & 1645 &  8485 &  95 & 1443 &  16 & 330 &  90 & 0 &   0 &   0\\\\\n",
       "\\end{tabular}\n"
      ],
      "text/markdown": [
       "\n",
       "A data.frame: 99 × 12\n",
       "\n",
       "| donor_id &lt;chr&gt; | subregion &lt;chr&gt; | Endothelial cell &lt;dbl&gt; | Cardiomyocyte cell &lt;dbl&gt; | Myelocyte &lt;dbl&gt; | Fibroblast &lt;dbl&gt; | Lymphocyte &lt;dbl&gt; | Smooth muscle cell &lt;dbl&gt; | Neuron &lt;dbl&gt; | Mesothelial cell &lt;dbl&gt; | Epithelial cell &lt;dbl&gt; | Pericyte &lt;dbl&gt; |\n",
       "|---|---|---|---|---|---|---|---|---|---|---|---|\n",
       "| FetalHeart_12W   | NA              | 1139 | 2123 |  60 | 1303 | 0 | 308 | 0 | 0 |  0 |   0 |\n",
       "| FetalHeart2_GW11 | NA              |  363 |  911 | 150 |  858 | 0 | 118 | 0 | 0 | 22 | 208 |\n",
       "| HE5W_1           | Left atria      |    3 |   62 |   1 |   18 | 0 |   0 | 0 | 0 |  0 |   0 |\n",
       "| HE5W_1           | Left ventricle  |    9 |   63 |   1 |   21 | 0 |   0 | 0 | 0 |  0 |   0 |\n",
       "| HE5W_1           | Right atria     |    3 |   51 |   3 |   38 | 0 |   0 | 0 | 0 |  0 |   0 |\n",
       "| HE5W_1           | Right ventricle |    1 |   44 |   0 |   42 | 0 |   0 | 0 | 0 |  0 |   0 |\n",
       "| HE6W_1           | Left atria      |   10 |   11 |   4 |    9 | 0 |   0 | 0 | 0 |  0 |   0 |\n",
       "| HE6W_1           | Left ventricle  |   16 |    7 |   2 |   16 | 0 |   0 | 0 | 0 |  0 |   0 |\n",
       "| HE6W_1           | Right atria     |   10 |   26 |   0 |    9 | 0 |   0 | 0 | 0 |  0 |   0 |\n",
       "| HE6W_1           | Right ventricle |    6 |   13 |   0 |   24 | 0 |   0 | 0 | 0 |  0 |   0 |\n",
       "| HE6W_2           | Left atria      |   17 |    3 |   5 |   21 | 1 |   0 | 0 | 0 |  0 |   0 |\n",
       "| HE6W_2           | Left ventricle  |   15 |    9 |   2 |   21 | 0 |   0 | 0 | 0 |  0 |   0 |\n",
       "| HE6W_2           | Right atria     |   15 |    5 |   3 |   24 | 0 |   0 | 0 | 0 |  0 |   0 |\n",
       "| HE6W_2           | Right ventricle |   17 |    5 |   0 |   26 | 0 |   0 | 0 | 0 |  0 |   0 |\n",
       "| HE7W_1           | Left atria      |    4 |   40 |   0 |    3 | 0 |   0 | 0 | 0 |  0 |   0 |\n",
       "| HE7W_1           | Left ventricle  |   15 |   15 |   4 |    6 | 0 |   0 | 0 | 0 |  0 |   0 |\n",
       "| HE7W_1           | Right atria     |    9 |   29 |   3 |    3 | 0 |   0 | 0 | 0 |  0 |   0 |\n",
       "| HE7W_1           | Right ventricle |   14 |   18 |   4 |    4 | 0 |   0 | 0 | 0 |  0 |   0 |\n",
       "| HE7W_2           | Left atria      |    2 |   72 |   0 |    0 | 0 |   0 | 0 | 0 |  0 |   0 |\n",
       "| HE7W_2           | Left ventricle  |    7 |   63 |   0 |   10 | 0 |   0 | 0 | 0 |  0 |   0 |\n",
       "| HE7W_2           | Right atria     |    6 |   70 |   0 |    7 | 0 |   0 | 0 | 0 |  0 |   0 |\n",
       "| HE7W_2           | Right ventricle |    5 |   48 |   0 |    2 | 0 |   0 | 0 | 0 |  0 |   0 |\n",
       "| HE7W_3           | Left atria      |    3 |   35 |   0 |    0 | 0 |   0 | 0 | 0 |  0 |   0 |\n",
       "| HE7W_3           | Left ventricle  |    0 |   31 |   1 |    4 | 0 |   0 | 0 | 0 |  0 |   0 |\n",
       "| HE7W_3           | Right atria     |    4 |   36 |   0 |    1 | 0 |   0 | 0 | 0 |  0 |   0 |\n",
       "| HE7W_3           | Right ventricle |    2 |   16 |   1 |    9 | 0 |   0 | 0 | 0 |  0 |   0 |\n",
       "| HE9W_1           | Left atria      |   18 |   16 |   1 |    6 | 0 |   0 | 0 | 0 |  2 |   0 |\n",
       "| HE9W_1           | Left ventricle  |    3 |   15 |   1 |   20 | 0 |   0 | 0 | 0 |  0 |   0 |\n",
       "| HE9W_1           | Right atria     |   17 |   18 |   6 |    5 | 0 |   0 | 0 | 0 |  0 |   0 |\n",
       "| HE9W_1           | Right ventricle |    2 |   24 |   2 |    9 | 0 |   0 | 0 | 0 |  0 |   0 |\n",
       "| ⋮ | ⋮ | ⋮ | ⋮ | ⋮ | ⋮ | ⋮ | ⋮ | ⋮ | ⋮ | ⋮ | ⋮ |\n",
       "| HE23W_2    | Aorta                   |    0 |     1 |   3 |    0 |   1 |  14 |   0 | 0 |   0 |   0 |\n",
       "| HE23W_2    | Aortic valve            |    5 |     0 |   2 |   33 |   1 |   0 |   0 | 0 |   0 |   0 |\n",
       "| HE23W_2    | Interventricular septum |    7 |     6 |   5 |    7 |   0 |   0 |   0 | 0 |   0 |   0 |\n",
       "| HE23W_2    | Left atria              |    1 |    10 |   0 |    4 |   0 |   0 |   0 | 0 |   0 |   0 |\n",
       "| HE23W_2    | Left ventricle          |    3 |    11 |   4 |    2 |   0 |   0 |   0 | 0 |   0 |   0 |\n",
       "| HE23W_2    | Mitral valve            |    6 |     0 |   4 |   30 |   0 |   0 |   0 | 0 |   0 |   0 |\n",
       "| HE23W_2    | Pulmonary artery        |    1 |     2 |   4 |    2 |   1 |  17 |   0 | 0 |   1 |   0 |\n",
       "| HE23W_2    | Pulmonary valve         |    7 |     0 |   1 |   32 |   0 |   0 |   0 | 0 |   0 |   0 |\n",
       "| HE23W_2    | Right atria             |    4 |     9 |   0 |    3 |   0 |   1 |   0 | 0 |   1 |   0 |\n",
       "| HE23W_2    | Right ventricle         |    4 |     5 |   4 |    8 |   0 |   0 |   0 | 0 |   0 |   0 |\n",
       "| HE23W_2    | Tricuspid valve         |   21 |     0 |   5 |   20 |   0 |   0 |   0 | 0 |   0 |   0 |\n",
       "| HE24W_1    | Left atria              |   24 |    28 |   2 |    7 |   1 |   0 |   0 | 0 |   8 |   0 |\n",
       "| HE24W_1    | Left ventricle          |    8 |    20 |   9 |   20 |   8 |   1 |   0 | 0 |   0 |   0 |\n",
       "| HE24W_1    | Right atria             |   11 |    51 |   1 |    7 |   3 |   0 |   0 | 0 |   2 |   0 |\n",
       "| HE24W_1    | Right ventricle         |    2 |    24 |   3 |   36 |   2 |   0 |   0 | 0 |   0 |   0 |\n",
       "| HE25W_1    | Aortic valve            |    0 |     0 |   5 |   18 |   0 |   0 |   0 | 0 |   0 |   0 |\n",
       "| HE25W_1    | Mitral valve            |    2 |     0 |   8 |   17 |   0 |   0 |   0 | 0 |   0 |   0 |\n",
       "| HE25W_1    | Pulmonary valve         |    3 |     0 |   7 |   16 |   0 |   0 |   0 | 0 |   0 |   0 |\n",
       "| HE25W_1    | Tricuspid valve         |    1 |     0 |   7 |   21 |   0 |   0 |   0 | 0 |   0 |   0 |\n",
       "| HE25W_1    | Ventricle               |    7 |     0 |   2 |   12 |   0 |   0 |   0 | 0 |   0 |   0 |\n",
       "| Asp_donor1 | NA                      |  804 |   762 |  75 |  903 |   0 | 571 |  75 | 0 | 137 | 147 |\n",
       "| H26547     | NA                      |  481 |  2919 |  30 |  479 |  32 |  77 |  27 | 0 |   0 |   0 |\n",
       "| H27464     | NA                      |  602 |  2734 | 151 |  736 | 215 | 108 |  30 | 0 |   0 |   0 |\n",
       "| H27431     | NA                      | 2999 | 17144 | 407 | 3767 | 240 | 500 | 218 | 0 |   0 |   0 |\n",
       "| H27295     | NA                      | 1860 | 12118 | 280 | 2066 | 322 | 299 | 120 | 0 |   0 |   0 |\n",
       "| H27471     | NA                      | 3580 |  8769 | 279 | 2154 | 486 | 266 | 262 | 0 |   0 |   0 |\n",
       "| H27098     | NA                      | 1057 |  4115 |  55 |  594 |  14 | 234 |  69 | 0 |   0 |   0 |\n",
       "| H27472     | NA                      |  556 |  4302 |  31 |  293 |   4 |  77 |  32 | 0 |   0 |   0 |\n",
       "| H27423     | NA                      |  780 |  7024 |  73 |  898 |  19 | 145 |  35 | 0 |   0 |   0 |\n",
       "| H27473     | NA                      | 1645 |  8485 |  95 | 1443 |  16 | 330 |  90 | 0 |   0 |   0 |\n",
       "\n"
      ],
      "text/plain": [
       "   donor_id         subregion               Endothelial cell Cardiomyocyte cell\n",
       "1  FetalHeart_12W   NA                      1139             2123              \n",
       "2  FetalHeart2_GW11 NA                       363              911              \n",
       "3  HE5W_1           Left atria                 3               62              \n",
       "4  HE5W_1           Left ventricle             9               63              \n",
       "5  HE5W_1           Right atria                3               51              \n",
       "6  HE5W_1           Right ventricle            1               44              \n",
       "7  HE6W_1           Left atria                10               11              \n",
       "8  HE6W_1           Left ventricle            16                7              \n",
       "9  HE6W_1           Right atria               10               26              \n",
       "10 HE6W_1           Right ventricle            6               13              \n",
       "11 HE6W_2           Left atria                17                3              \n",
       "12 HE6W_2           Left ventricle            15                9              \n",
       "13 HE6W_2           Right atria               15                5              \n",
       "14 HE6W_2           Right ventricle           17                5              \n",
       "15 HE7W_1           Left atria                 4               40              \n",
       "16 HE7W_1           Left ventricle            15               15              \n",
       "17 HE7W_1           Right atria                9               29              \n",
       "18 HE7W_1           Right ventricle           14               18              \n",
       "19 HE7W_2           Left atria                 2               72              \n",
       "20 HE7W_2           Left ventricle             7               63              \n",
       "21 HE7W_2           Right atria                6               70              \n",
       "22 HE7W_2           Right ventricle            5               48              \n",
       "23 HE7W_3           Left atria                 3               35              \n",
       "24 HE7W_3           Left ventricle             0               31              \n",
       "25 HE7W_3           Right atria                4               36              \n",
       "26 HE7W_3           Right ventricle            2               16              \n",
       "27 HE9W_1           Left atria                18               16              \n",
       "28 HE9W_1           Left ventricle             3               15              \n",
       "29 HE9W_1           Right atria               17               18              \n",
       "30 HE9W_1           Right ventricle            2               24              \n",
       "⋮  ⋮                ⋮                       ⋮                ⋮                 \n",
       "70 HE23W_2          Aorta                      0                 1             \n",
       "71 HE23W_2          Aortic valve               5                 0             \n",
       "72 HE23W_2          Interventricular septum    7                 6             \n",
       "73 HE23W_2          Left atria                 1                10             \n",
       "74 HE23W_2          Left ventricle             3                11             \n",
       "75 HE23W_2          Mitral valve               6                 0             \n",
       "76 HE23W_2          Pulmonary artery           1                 2             \n",
       "77 HE23W_2          Pulmonary valve            7                 0             \n",
       "78 HE23W_2          Right atria                4                 9             \n",
       "79 HE23W_2          Right ventricle            4                 5             \n",
       "80 HE23W_2          Tricuspid valve           21                 0             \n",
       "81 HE24W_1          Left atria                24                28             \n",
       "82 HE24W_1          Left ventricle             8                20             \n",
       "83 HE24W_1          Right atria               11                51             \n",
       "84 HE24W_1          Right ventricle            2                24             \n",
       "85 HE25W_1          Aortic valve               0                 0             \n",
       "86 HE25W_1          Mitral valve               2                 0             \n",
       "87 HE25W_1          Pulmonary valve            3                 0             \n",
       "88 HE25W_1          Tricuspid valve            1                 0             \n",
       "89 HE25W_1          Ventricle                  7                 0             \n",
       "90 Asp_donor1       NA                       804               762             \n",
       "91 H26547           NA                       481              2919             \n",
       "92 H27464           NA                       602              2734             \n",
       "93 H27431           NA                      2999             17144             \n",
       "94 H27295           NA                      1860             12118             \n",
       "95 H27471           NA                      3580              8769             \n",
       "96 H27098           NA                      1057              4115             \n",
       "97 H27472           NA                       556              4302             \n",
       "98 H27423           NA                       780              7024             \n",
       "99 H27473           NA                      1645              8485             \n",
       "   Myelocyte Fibroblast Lymphocyte Smooth muscle cell Neuron Mesothelial cell\n",
       "1   60       1303       0          308                0      0               \n",
       "2  150        858       0          118                0      0               \n",
       "3    1         18       0            0                0      0               \n",
       "4    1         21       0            0                0      0               \n",
       "5    3         38       0            0                0      0               \n",
       "6    0         42       0            0                0      0               \n",
       "7    4          9       0            0                0      0               \n",
       "8    2         16       0            0                0      0               \n",
       "9    0          9       0            0                0      0               \n",
       "10   0         24       0            0                0      0               \n",
       "11   5         21       1            0                0      0               \n",
       "12   2         21       0            0                0      0               \n",
       "13   3         24       0            0                0      0               \n",
       "14   0         26       0            0                0      0               \n",
       "15   0          3       0            0                0      0               \n",
       "16   4          6       0            0                0      0               \n",
       "17   3          3       0            0                0      0               \n",
       "18   4          4       0            0                0      0               \n",
       "19   0          0       0            0                0      0               \n",
       "20   0         10       0            0                0      0               \n",
       "21   0          7       0            0                0      0               \n",
       "22   0          2       0            0                0      0               \n",
       "23   0          0       0            0                0      0               \n",
       "24   1          4       0            0                0      0               \n",
       "25   0          1       0            0                0      0               \n",
       "26   1          9       0            0                0      0               \n",
       "27   1          6       0            0                0      0               \n",
       "28   1         20       0            0                0      0               \n",
       "29   6          5       0            0                0      0               \n",
       "30   2          9       0            0                0      0               \n",
       "⋮  ⋮         ⋮          ⋮          ⋮                  ⋮      ⋮               \n",
       "70   3          0         1         14                  0    0               \n",
       "71   2         33         1          0                  0    0               \n",
       "72   5          7         0          0                  0    0               \n",
       "73   0          4         0          0                  0    0               \n",
       "74   4          2         0          0                  0    0               \n",
       "75   4         30         0          0                  0    0               \n",
       "76   4          2         1         17                  0    0               \n",
       "77   1         32         0          0                  0    0               \n",
       "78   0          3         0          1                  0    0               \n",
       "79   4          8         0          0                  0    0               \n",
       "80   5         20         0          0                  0    0               \n",
       "81   2          7         1          0                  0    0               \n",
       "82   9         20         8          1                  0    0               \n",
       "83   1          7         3          0                  0    0               \n",
       "84   3         36         2          0                  0    0               \n",
       "85   5         18         0          0                  0    0               \n",
       "86   8         17         0          0                  0    0               \n",
       "87   7         16         0          0                  0    0               \n",
       "88   7         21         0          0                  0    0               \n",
       "89   2         12         0          0                  0    0               \n",
       "90  75        903         0        571                 75    0               \n",
       "91  30        479        32         77                 27    0               \n",
       "92 151        736       215        108                 30    0               \n",
       "93 407       3767       240        500                218    0               \n",
       "94 280       2066       322        299                120    0               \n",
       "95 279       2154       486        266                262    0               \n",
       "96  55        594        14        234                 69    0               \n",
       "97  31        293         4         77                 32    0               \n",
       "98  73        898        19        145                 35    0               \n",
       "99  95       1443        16        330                 90    0               \n",
       "   Epithelial cell Pericyte\n",
       "1   0                0     \n",
       "2  22              208     \n",
       "3   0                0     \n",
       "4   0                0     \n",
       "5   0                0     \n",
       "6   0                0     \n",
       "7   0                0     \n",
       "8   0                0     \n",
       "9   0                0     \n",
       "10  0                0     \n",
       "11  0                0     \n",
       "12  0                0     \n",
       "13  0                0     \n",
       "14  0                0     \n",
       "15  0                0     \n",
       "16  0                0     \n",
       "17  0                0     \n",
       "18  0                0     \n",
       "19  0                0     \n",
       "20  0                0     \n",
       "21  0                0     \n",
       "22  0                0     \n",
       "23  0                0     \n",
       "24  0                0     \n",
       "25  0                0     \n",
       "26  0                0     \n",
       "27  2                0     \n",
       "28  0                0     \n",
       "29  0                0     \n",
       "30  0                0     \n",
       "⋮  ⋮               ⋮       \n",
       "70   0               0     \n",
       "71   0               0     \n",
       "72   0               0     \n",
       "73   0               0     \n",
       "74   0               0     \n",
       "75   0               0     \n",
       "76   1               0     \n",
       "77   0               0     \n",
       "78   1               0     \n",
       "79   0               0     \n",
       "80   0               0     \n",
       "81   8               0     \n",
       "82   0               0     \n",
       "83   2               0     \n",
       "84   0               0     \n",
       "85   0               0     \n",
       "86   0               0     \n",
       "87   0               0     \n",
       "88   0               0     \n",
       "89   0               0     \n",
       "90 137             147     \n",
       "91   0               0     \n",
       "92   0               0     \n",
       "93   0               0     \n",
       "94   0               0     \n",
       "95   0               0     \n",
       "96   0               0     \n",
       "97   0               0     \n",
       "98   0               0     \n",
       "99   0               0     "
      ]
     },
     "metadata": {},
     "output_type": "display_data"
    }
   ],
   "source": [
    "df"
   ]
  },
  {
   "cell_type": "code",
   "execution_count": 35,
   "metadata": {},
   "outputs": [],
   "source": [
    "df$Adipocyte <- 0"
   ]
  },
  {
   "cell_type": "code",
   "execution_count": 37,
   "metadata": {},
   "outputs": [],
   "source": [
    "df <- df[,!names(df)%in% c(\"Mesothelial cell\",\"Epithelial cell\")]"
   ]
  },
  {
   "cell_type": "code",
   "execution_count": 38,
   "metadata": {
    "collapsed": true,
    "jupyter": {
     "outputs_hidden": true
    }
   },
   "outputs": [
    {
     "data": {
      "text/html": [
       "<table class=\"dataframe\">\n",
       "<caption>A data.frame: 99 × 11</caption>\n",
       "<thead>\n",
       "\t<tr><th scope=col>donor_id</th><th scope=col>subregion</th><th scope=col>Endothelial cell</th><th scope=col>Cardiomyocyte cell</th><th scope=col>Myelocyte</th><th scope=col>Fibroblast</th><th scope=col>Lymphocyte</th><th scope=col>Smooth muscle cell</th><th scope=col>Neuron</th><th scope=col>Pericyte</th><th scope=col>Adipocyte</th></tr>\n",
       "\t<tr><th scope=col>&lt;chr&gt;</th><th scope=col>&lt;chr&gt;</th><th scope=col>&lt;dbl&gt;</th><th scope=col>&lt;dbl&gt;</th><th scope=col>&lt;dbl&gt;</th><th scope=col>&lt;dbl&gt;</th><th scope=col>&lt;dbl&gt;</th><th scope=col>&lt;dbl&gt;</th><th scope=col>&lt;dbl&gt;</th><th scope=col>&lt;dbl&gt;</th><th scope=col>&lt;dbl&gt;</th></tr>\n",
       "</thead>\n",
       "<tbody>\n",
       "\t<tr><td>FetalHeart_12W  </td><td>NA             </td><td>1139</td><td>2123</td><td> 60</td><td>1303</td><td>0</td><td>308</td><td>0</td><td>  0</td><td>0</td></tr>\n",
       "\t<tr><td>FetalHeart2_GW11</td><td>NA             </td><td> 363</td><td> 911</td><td>150</td><td> 858</td><td>0</td><td>118</td><td>0</td><td>208</td><td>0</td></tr>\n",
       "\t<tr><td>HE5W_1          </td><td>Left atria     </td><td>   3</td><td>  62</td><td>  1</td><td>  18</td><td>0</td><td>  0</td><td>0</td><td>  0</td><td>0</td></tr>\n",
       "\t<tr><td>HE5W_1          </td><td>Left ventricle </td><td>   9</td><td>  63</td><td>  1</td><td>  21</td><td>0</td><td>  0</td><td>0</td><td>  0</td><td>0</td></tr>\n",
       "\t<tr><td>HE5W_1          </td><td>Right atria    </td><td>   3</td><td>  51</td><td>  3</td><td>  38</td><td>0</td><td>  0</td><td>0</td><td>  0</td><td>0</td></tr>\n",
       "\t<tr><td>HE5W_1          </td><td>Right ventricle</td><td>   1</td><td>  44</td><td>  0</td><td>  42</td><td>0</td><td>  0</td><td>0</td><td>  0</td><td>0</td></tr>\n",
       "\t<tr><td>HE6W_1          </td><td>Left atria     </td><td>  10</td><td>  11</td><td>  4</td><td>   9</td><td>0</td><td>  0</td><td>0</td><td>  0</td><td>0</td></tr>\n",
       "\t<tr><td>HE6W_1          </td><td>Left ventricle </td><td>  16</td><td>   7</td><td>  2</td><td>  16</td><td>0</td><td>  0</td><td>0</td><td>  0</td><td>0</td></tr>\n",
       "\t<tr><td>HE6W_1          </td><td>Right atria    </td><td>  10</td><td>  26</td><td>  0</td><td>   9</td><td>0</td><td>  0</td><td>0</td><td>  0</td><td>0</td></tr>\n",
       "\t<tr><td>HE6W_1          </td><td>Right ventricle</td><td>   6</td><td>  13</td><td>  0</td><td>  24</td><td>0</td><td>  0</td><td>0</td><td>  0</td><td>0</td></tr>\n",
       "\t<tr><td>HE6W_2          </td><td>Left atria     </td><td>  17</td><td>   3</td><td>  5</td><td>  21</td><td>1</td><td>  0</td><td>0</td><td>  0</td><td>0</td></tr>\n",
       "\t<tr><td>HE6W_2          </td><td>Left ventricle </td><td>  15</td><td>   9</td><td>  2</td><td>  21</td><td>0</td><td>  0</td><td>0</td><td>  0</td><td>0</td></tr>\n",
       "\t<tr><td>HE6W_2          </td><td>Right atria    </td><td>  15</td><td>   5</td><td>  3</td><td>  24</td><td>0</td><td>  0</td><td>0</td><td>  0</td><td>0</td></tr>\n",
       "\t<tr><td>HE6W_2          </td><td>Right ventricle</td><td>  17</td><td>   5</td><td>  0</td><td>  26</td><td>0</td><td>  0</td><td>0</td><td>  0</td><td>0</td></tr>\n",
       "\t<tr><td>HE7W_1          </td><td>Left atria     </td><td>   4</td><td>  40</td><td>  0</td><td>   3</td><td>0</td><td>  0</td><td>0</td><td>  0</td><td>0</td></tr>\n",
       "\t<tr><td>HE7W_1          </td><td>Left ventricle </td><td>  15</td><td>  15</td><td>  4</td><td>   6</td><td>0</td><td>  0</td><td>0</td><td>  0</td><td>0</td></tr>\n",
       "\t<tr><td>HE7W_1          </td><td>Right atria    </td><td>   9</td><td>  29</td><td>  3</td><td>   3</td><td>0</td><td>  0</td><td>0</td><td>  0</td><td>0</td></tr>\n",
       "\t<tr><td>HE7W_1          </td><td>Right ventricle</td><td>  14</td><td>  18</td><td>  4</td><td>   4</td><td>0</td><td>  0</td><td>0</td><td>  0</td><td>0</td></tr>\n",
       "\t<tr><td>HE7W_2          </td><td>Left atria     </td><td>   2</td><td>  72</td><td>  0</td><td>   0</td><td>0</td><td>  0</td><td>0</td><td>  0</td><td>0</td></tr>\n",
       "\t<tr><td>HE7W_2          </td><td>Left ventricle </td><td>   7</td><td>  63</td><td>  0</td><td>  10</td><td>0</td><td>  0</td><td>0</td><td>  0</td><td>0</td></tr>\n",
       "\t<tr><td>HE7W_2          </td><td>Right atria    </td><td>   6</td><td>  70</td><td>  0</td><td>   7</td><td>0</td><td>  0</td><td>0</td><td>  0</td><td>0</td></tr>\n",
       "\t<tr><td>HE7W_2          </td><td>Right ventricle</td><td>   5</td><td>  48</td><td>  0</td><td>   2</td><td>0</td><td>  0</td><td>0</td><td>  0</td><td>0</td></tr>\n",
       "\t<tr><td>HE7W_3          </td><td>Left atria     </td><td>   3</td><td>  35</td><td>  0</td><td>   0</td><td>0</td><td>  0</td><td>0</td><td>  0</td><td>0</td></tr>\n",
       "\t<tr><td>HE7W_3          </td><td>Left ventricle </td><td>   0</td><td>  31</td><td>  1</td><td>   4</td><td>0</td><td>  0</td><td>0</td><td>  0</td><td>0</td></tr>\n",
       "\t<tr><td>HE7W_3          </td><td>Right atria    </td><td>   4</td><td>  36</td><td>  0</td><td>   1</td><td>0</td><td>  0</td><td>0</td><td>  0</td><td>0</td></tr>\n",
       "\t<tr><td>HE7W_3          </td><td>Right ventricle</td><td>   2</td><td>  16</td><td>  1</td><td>   9</td><td>0</td><td>  0</td><td>0</td><td>  0</td><td>0</td></tr>\n",
       "\t<tr><td>HE9W_1          </td><td>Left atria     </td><td>  18</td><td>  16</td><td>  1</td><td>   6</td><td>0</td><td>  0</td><td>0</td><td>  0</td><td>0</td></tr>\n",
       "\t<tr><td>HE9W_1          </td><td>Left ventricle </td><td>   3</td><td>  15</td><td>  1</td><td>  20</td><td>0</td><td>  0</td><td>0</td><td>  0</td><td>0</td></tr>\n",
       "\t<tr><td>HE9W_1          </td><td>Right atria    </td><td>  17</td><td>  18</td><td>  6</td><td>   5</td><td>0</td><td>  0</td><td>0</td><td>  0</td><td>0</td></tr>\n",
       "\t<tr><td>HE9W_1          </td><td>Right ventricle</td><td>   2</td><td>  24</td><td>  2</td><td>   9</td><td>0</td><td>  0</td><td>0</td><td>  0</td><td>0</td></tr>\n",
       "\t<tr><td>⋮</td><td>⋮</td><td>⋮</td><td>⋮</td><td>⋮</td><td>⋮</td><td>⋮</td><td>⋮</td><td>⋮</td><td>⋮</td><td>⋮</td></tr>\n",
       "\t<tr><td>HE23W_2   </td><td>Aorta                  </td><td>   0</td><td>    1</td><td>  3</td><td>   0</td><td>  1</td><td> 14</td><td>  0</td><td>  0</td><td>0</td></tr>\n",
       "\t<tr><td>HE23W_2   </td><td>Aortic valve           </td><td>   5</td><td>    0</td><td>  2</td><td>  33</td><td>  1</td><td>  0</td><td>  0</td><td>  0</td><td>0</td></tr>\n",
       "\t<tr><td>HE23W_2   </td><td>Interventricular septum</td><td>   7</td><td>    6</td><td>  5</td><td>   7</td><td>  0</td><td>  0</td><td>  0</td><td>  0</td><td>0</td></tr>\n",
       "\t<tr><td>HE23W_2   </td><td>Left atria             </td><td>   1</td><td>   10</td><td>  0</td><td>   4</td><td>  0</td><td>  0</td><td>  0</td><td>  0</td><td>0</td></tr>\n",
       "\t<tr><td>HE23W_2   </td><td>Left ventricle         </td><td>   3</td><td>   11</td><td>  4</td><td>   2</td><td>  0</td><td>  0</td><td>  0</td><td>  0</td><td>0</td></tr>\n",
       "\t<tr><td>HE23W_2   </td><td>Mitral valve           </td><td>   6</td><td>    0</td><td>  4</td><td>  30</td><td>  0</td><td>  0</td><td>  0</td><td>  0</td><td>0</td></tr>\n",
       "\t<tr><td>HE23W_2   </td><td>Pulmonary artery       </td><td>   1</td><td>    2</td><td>  4</td><td>   2</td><td>  1</td><td> 17</td><td>  0</td><td>  0</td><td>0</td></tr>\n",
       "\t<tr><td>HE23W_2   </td><td>Pulmonary valve        </td><td>   7</td><td>    0</td><td>  1</td><td>  32</td><td>  0</td><td>  0</td><td>  0</td><td>  0</td><td>0</td></tr>\n",
       "\t<tr><td>HE23W_2   </td><td>Right atria            </td><td>   4</td><td>    9</td><td>  0</td><td>   3</td><td>  0</td><td>  1</td><td>  0</td><td>  0</td><td>0</td></tr>\n",
       "\t<tr><td>HE23W_2   </td><td>Right ventricle        </td><td>   4</td><td>    5</td><td>  4</td><td>   8</td><td>  0</td><td>  0</td><td>  0</td><td>  0</td><td>0</td></tr>\n",
       "\t<tr><td>HE23W_2   </td><td>Tricuspid valve        </td><td>  21</td><td>    0</td><td>  5</td><td>  20</td><td>  0</td><td>  0</td><td>  0</td><td>  0</td><td>0</td></tr>\n",
       "\t<tr><td>HE24W_1   </td><td>Left atria             </td><td>  24</td><td>   28</td><td>  2</td><td>   7</td><td>  1</td><td>  0</td><td>  0</td><td>  0</td><td>0</td></tr>\n",
       "\t<tr><td>HE24W_1   </td><td>Left ventricle         </td><td>   8</td><td>   20</td><td>  9</td><td>  20</td><td>  8</td><td>  1</td><td>  0</td><td>  0</td><td>0</td></tr>\n",
       "\t<tr><td>HE24W_1   </td><td>Right atria            </td><td>  11</td><td>   51</td><td>  1</td><td>   7</td><td>  3</td><td>  0</td><td>  0</td><td>  0</td><td>0</td></tr>\n",
       "\t<tr><td>HE24W_1   </td><td>Right ventricle        </td><td>   2</td><td>   24</td><td>  3</td><td>  36</td><td>  2</td><td>  0</td><td>  0</td><td>  0</td><td>0</td></tr>\n",
       "\t<tr><td>HE25W_1   </td><td>Aortic valve           </td><td>   0</td><td>    0</td><td>  5</td><td>  18</td><td>  0</td><td>  0</td><td>  0</td><td>  0</td><td>0</td></tr>\n",
       "\t<tr><td>HE25W_1   </td><td>Mitral valve           </td><td>   2</td><td>    0</td><td>  8</td><td>  17</td><td>  0</td><td>  0</td><td>  0</td><td>  0</td><td>0</td></tr>\n",
       "\t<tr><td>HE25W_1   </td><td>Pulmonary valve        </td><td>   3</td><td>    0</td><td>  7</td><td>  16</td><td>  0</td><td>  0</td><td>  0</td><td>  0</td><td>0</td></tr>\n",
       "\t<tr><td>HE25W_1   </td><td>Tricuspid valve        </td><td>   1</td><td>    0</td><td>  7</td><td>  21</td><td>  0</td><td>  0</td><td>  0</td><td>  0</td><td>0</td></tr>\n",
       "\t<tr><td>HE25W_1   </td><td>Ventricle              </td><td>   7</td><td>    0</td><td>  2</td><td>  12</td><td>  0</td><td>  0</td><td>  0</td><td>  0</td><td>0</td></tr>\n",
       "\t<tr><td>Asp_donor1</td><td>NA                     </td><td> 804</td><td>  762</td><td> 75</td><td> 903</td><td>  0</td><td>571</td><td> 75</td><td>147</td><td>0</td></tr>\n",
       "\t<tr><td>H26547    </td><td>NA                     </td><td> 481</td><td> 2919</td><td> 30</td><td> 479</td><td> 32</td><td> 77</td><td> 27</td><td>  0</td><td>0</td></tr>\n",
       "\t<tr><td>H27464    </td><td>NA                     </td><td> 602</td><td> 2734</td><td>151</td><td> 736</td><td>215</td><td>108</td><td> 30</td><td>  0</td><td>0</td></tr>\n",
       "\t<tr><td>H27431    </td><td>NA                     </td><td>2999</td><td>17144</td><td>407</td><td>3767</td><td>240</td><td>500</td><td>218</td><td>  0</td><td>0</td></tr>\n",
       "\t<tr><td>H27295    </td><td>NA                     </td><td>1860</td><td>12118</td><td>280</td><td>2066</td><td>322</td><td>299</td><td>120</td><td>  0</td><td>0</td></tr>\n",
       "\t<tr><td>H27471    </td><td>NA                     </td><td>3580</td><td> 8769</td><td>279</td><td>2154</td><td>486</td><td>266</td><td>262</td><td>  0</td><td>0</td></tr>\n",
       "\t<tr><td>H27098    </td><td>NA                     </td><td>1057</td><td> 4115</td><td> 55</td><td> 594</td><td> 14</td><td>234</td><td> 69</td><td>  0</td><td>0</td></tr>\n",
       "\t<tr><td>H27472    </td><td>NA                     </td><td> 556</td><td> 4302</td><td> 31</td><td> 293</td><td>  4</td><td> 77</td><td> 32</td><td>  0</td><td>0</td></tr>\n",
       "\t<tr><td>H27423    </td><td>NA                     </td><td> 780</td><td> 7024</td><td> 73</td><td> 898</td><td> 19</td><td>145</td><td> 35</td><td>  0</td><td>0</td></tr>\n",
       "\t<tr><td>H27473    </td><td>NA                     </td><td>1645</td><td> 8485</td><td> 95</td><td>1443</td><td> 16</td><td>330</td><td> 90</td><td>  0</td><td>0</td></tr>\n",
       "</tbody>\n",
       "</table>\n"
      ],
      "text/latex": [
       "A data.frame: 99 × 11\n",
       "\\begin{tabular}{lllllllllll}\n",
       " donor\\_id & subregion & Endothelial cell & Cardiomyocyte cell & Myelocyte & Fibroblast & Lymphocyte & Smooth muscle cell & Neuron & Pericyte & Adipocyte\\\\\n",
       " <chr> & <chr> & <dbl> & <dbl> & <dbl> & <dbl> & <dbl> & <dbl> & <dbl> & <dbl> & <dbl>\\\\\n",
       "\\hline\n",
       "\t FetalHeart\\_12W   & NA              & 1139 & 2123 &  60 & 1303 & 0 & 308 & 0 &   0 & 0\\\\\n",
       "\t FetalHeart2\\_GW11 & NA              &  363 &  911 & 150 &  858 & 0 & 118 & 0 & 208 & 0\\\\\n",
       "\t HE5W\\_1           & Left atria      &    3 &   62 &   1 &   18 & 0 &   0 & 0 &   0 & 0\\\\\n",
       "\t HE5W\\_1           & Left ventricle  &    9 &   63 &   1 &   21 & 0 &   0 & 0 &   0 & 0\\\\\n",
       "\t HE5W\\_1           & Right atria     &    3 &   51 &   3 &   38 & 0 &   0 & 0 &   0 & 0\\\\\n",
       "\t HE5W\\_1           & Right ventricle &    1 &   44 &   0 &   42 & 0 &   0 & 0 &   0 & 0\\\\\n",
       "\t HE6W\\_1           & Left atria      &   10 &   11 &   4 &    9 & 0 &   0 & 0 &   0 & 0\\\\\n",
       "\t HE6W\\_1           & Left ventricle  &   16 &    7 &   2 &   16 & 0 &   0 & 0 &   0 & 0\\\\\n",
       "\t HE6W\\_1           & Right atria     &   10 &   26 &   0 &    9 & 0 &   0 & 0 &   0 & 0\\\\\n",
       "\t HE6W\\_1           & Right ventricle &    6 &   13 &   0 &   24 & 0 &   0 & 0 &   0 & 0\\\\\n",
       "\t HE6W\\_2           & Left atria      &   17 &    3 &   5 &   21 & 1 &   0 & 0 &   0 & 0\\\\\n",
       "\t HE6W\\_2           & Left ventricle  &   15 &    9 &   2 &   21 & 0 &   0 & 0 &   0 & 0\\\\\n",
       "\t HE6W\\_2           & Right atria     &   15 &    5 &   3 &   24 & 0 &   0 & 0 &   0 & 0\\\\\n",
       "\t HE6W\\_2           & Right ventricle &   17 &    5 &   0 &   26 & 0 &   0 & 0 &   0 & 0\\\\\n",
       "\t HE7W\\_1           & Left atria      &    4 &   40 &   0 &    3 & 0 &   0 & 0 &   0 & 0\\\\\n",
       "\t HE7W\\_1           & Left ventricle  &   15 &   15 &   4 &    6 & 0 &   0 & 0 &   0 & 0\\\\\n",
       "\t HE7W\\_1           & Right atria     &    9 &   29 &   3 &    3 & 0 &   0 & 0 &   0 & 0\\\\\n",
       "\t HE7W\\_1           & Right ventricle &   14 &   18 &   4 &    4 & 0 &   0 & 0 &   0 & 0\\\\\n",
       "\t HE7W\\_2           & Left atria      &    2 &   72 &   0 &    0 & 0 &   0 & 0 &   0 & 0\\\\\n",
       "\t HE7W\\_2           & Left ventricle  &    7 &   63 &   0 &   10 & 0 &   0 & 0 &   0 & 0\\\\\n",
       "\t HE7W\\_2           & Right atria     &    6 &   70 &   0 &    7 & 0 &   0 & 0 &   0 & 0\\\\\n",
       "\t HE7W\\_2           & Right ventricle &    5 &   48 &   0 &    2 & 0 &   0 & 0 &   0 & 0\\\\\n",
       "\t HE7W\\_3           & Left atria      &    3 &   35 &   0 &    0 & 0 &   0 & 0 &   0 & 0\\\\\n",
       "\t HE7W\\_3           & Left ventricle  &    0 &   31 &   1 &    4 & 0 &   0 & 0 &   0 & 0\\\\\n",
       "\t HE7W\\_3           & Right atria     &    4 &   36 &   0 &    1 & 0 &   0 & 0 &   0 & 0\\\\\n",
       "\t HE7W\\_3           & Right ventricle &    2 &   16 &   1 &    9 & 0 &   0 & 0 &   0 & 0\\\\\n",
       "\t HE9W\\_1           & Left atria      &   18 &   16 &   1 &    6 & 0 &   0 & 0 &   0 & 0\\\\\n",
       "\t HE9W\\_1           & Left ventricle  &    3 &   15 &   1 &   20 & 0 &   0 & 0 &   0 & 0\\\\\n",
       "\t HE9W\\_1           & Right atria     &   17 &   18 &   6 &    5 & 0 &   0 & 0 &   0 & 0\\\\\n",
       "\t HE9W\\_1           & Right ventricle &    2 &   24 &   2 &    9 & 0 &   0 & 0 &   0 & 0\\\\\n",
       "\t ⋮ & ⋮ & ⋮ & ⋮ & ⋮ & ⋮ & ⋮ & ⋮ & ⋮ & ⋮ & ⋮\\\\\n",
       "\t HE23W\\_2    & Aorta                   &    0 &     1 &   3 &    0 &   1 &  14 &   0 &   0 & 0\\\\\n",
       "\t HE23W\\_2    & Aortic valve            &    5 &     0 &   2 &   33 &   1 &   0 &   0 &   0 & 0\\\\\n",
       "\t HE23W\\_2    & Interventricular septum &    7 &     6 &   5 &    7 &   0 &   0 &   0 &   0 & 0\\\\\n",
       "\t HE23W\\_2    & Left atria              &    1 &    10 &   0 &    4 &   0 &   0 &   0 &   0 & 0\\\\\n",
       "\t HE23W\\_2    & Left ventricle          &    3 &    11 &   4 &    2 &   0 &   0 &   0 &   0 & 0\\\\\n",
       "\t HE23W\\_2    & Mitral valve            &    6 &     0 &   4 &   30 &   0 &   0 &   0 &   0 & 0\\\\\n",
       "\t HE23W\\_2    & Pulmonary artery        &    1 &     2 &   4 &    2 &   1 &  17 &   0 &   0 & 0\\\\\n",
       "\t HE23W\\_2    & Pulmonary valve         &    7 &     0 &   1 &   32 &   0 &   0 &   0 &   0 & 0\\\\\n",
       "\t HE23W\\_2    & Right atria             &    4 &     9 &   0 &    3 &   0 &   1 &   0 &   0 & 0\\\\\n",
       "\t HE23W\\_2    & Right ventricle         &    4 &     5 &   4 &    8 &   0 &   0 &   0 &   0 & 0\\\\\n",
       "\t HE23W\\_2    & Tricuspid valve         &   21 &     0 &   5 &   20 &   0 &   0 &   0 &   0 & 0\\\\\n",
       "\t HE24W\\_1    & Left atria              &   24 &    28 &   2 &    7 &   1 &   0 &   0 &   0 & 0\\\\\n",
       "\t HE24W\\_1    & Left ventricle          &    8 &    20 &   9 &   20 &   8 &   1 &   0 &   0 & 0\\\\\n",
       "\t HE24W\\_1    & Right atria             &   11 &    51 &   1 &    7 &   3 &   0 &   0 &   0 & 0\\\\\n",
       "\t HE24W\\_1    & Right ventricle         &    2 &    24 &   3 &   36 &   2 &   0 &   0 &   0 & 0\\\\\n",
       "\t HE25W\\_1    & Aortic valve            &    0 &     0 &   5 &   18 &   0 &   0 &   0 &   0 & 0\\\\\n",
       "\t HE25W\\_1    & Mitral valve            &    2 &     0 &   8 &   17 &   0 &   0 &   0 &   0 & 0\\\\\n",
       "\t HE25W\\_1    & Pulmonary valve         &    3 &     0 &   7 &   16 &   0 &   0 &   0 &   0 & 0\\\\\n",
       "\t HE25W\\_1    & Tricuspid valve         &    1 &     0 &   7 &   21 &   0 &   0 &   0 &   0 & 0\\\\\n",
       "\t HE25W\\_1    & Ventricle               &    7 &     0 &   2 &   12 &   0 &   0 &   0 &   0 & 0\\\\\n",
       "\t Asp\\_donor1 & NA                      &  804 &   762 &  75 &  903 &   0 & 571 &  75 & 147 & 0\\\\\n",
       "\t H26547     & NA                      &  481 &  2919 &  30 &  479 &  32 &  77 &  27 &   0 & 0\\\\\n",
       "\t H27464     & NA                      &  602 &  2734 & 151 &  736 & 215 & 108 &  30 &   0 & 0\\\\\n",
       "\t H27431     & NA                      & 2999 & 17144 & 407 & 3767 & 240 & 500 & 218 &   0 & 0\\\\\n",
       "\t H27295     & NA                      & 1860 & 12118 & 280 & 2066 & 322 & 299 & 120 &   0 & 0\\\\\n",
       "\t H27471     & NA                      & 3580 &  8769 & 279 & 2154 & 486 & 266 & 262 &   0 & 0\\\\\n",
       "\t H27098     & NA                      & 1057 &  4115 &  55 &  594 &  14 & 234 &  69 &   0 & 0\\\\\n",
       "\t H27472     & NA                      &  556 &  4302 &  31 &  293 &   4 &  77 &  32 &   0 & 0\\\\\n",
       "\t H27423     & NA                      &  780 &  7024 &  73 &  898 &  19 & 145 &  35 &   0 & 0\\\\\n",
       "\t H27473     & NA                      & 1645 &  8485 &  95 & 1443 &  16 & 330 &  90 &   0 & 0\\\\\n",
       "\\end{tabular}\n"
      ],
      "text/markdown": [
       "\n",
       "A data.frame: 99 × 11\n",
       "\n",
       "| donor_id &lt;chr&gt; | subregion &lt;chr&gt; | Endothelial cell &lt;dbl&gt; | Cardiomyocyte cell &lt;dbl&gt; | Myelocyte &lt;dbl&gt; | Fibroblast &lt;dbl&gt; | Lymphocyte &lt;dbl&gt; | Smooth muscle cell &lt;dbl&gt; | Neuron &lt;dbl&gt; | Pericyte &lt;dbl&gt; | Adipocyte &lt;dbl&gt; |\n",
       "|---|---|---|---|---|---|---|---|---|---|---|\n",
       "| FetalHeart_12W   | NA              | 1139 | 2123 |  60 | 1303 | 0 | 308 | 0 |   0 | 0 |\n",
       "| FetalHeart2_GW11 | NA              |  363 |  911 | 150 |  858 | 0 | 118 | 0 | 208 | 0 |\n",
       "| HE5W_1           | Left atria      |    3 |   62 |   1 |   18 | 0 |   0 | 0 |   0 | 0 |\n",
       "| HE5W_1           | Left ventricle  |    9 |   63 |   1 |   21 | 0 |   0 | 0 |   0 | 0 |\n",
       "| HE5W_1           | Right atria     |    3 |   51 |   3 |   38 | 0 |   0 | 0 |   0 | 0 |\n",
       "| HE5W_1           | Right ventricle |    1 |   44 |   0 |   42 | 0 |   0 | 0 |   0 | 0 |\n",
       "| HE6W_1           | Left atria      |   10 |   11 |   4 |    9 | 0 |   0 | 0 |   0 | 0 |\n",
       "| HE6W_1           | Left ventricle  |   16 |    7 |   2 |   16 | 0 |   0 | 0 |   0 | 0 |\n",
       "| HE6W_1           | Right atria     |   10 |   26 |   0 |    9 | 0 |   0 | 0 |   0 | 0 |\n",
       "| HE6W_1           | Right ventricle |    6 |   13 |   0 |   24 | 0 |   0 | 0 |   0 | 0 |\n",
       "| HE6W_2           | Left atria      |   17 |    3 |   5 |   21 | 1 |   0 | 0 |   0 | 0 |\n",
       "| HE6W_2           | Left ventricle  |   15 |    9 |   2 |   21 | 0 |   0 | 0 |   0 | 0 |\n",
       "| HE6W_2           | Right atria     |   15 |    5 |   3 |   24 | 0 |   0 | 0 |   0 | 0 |\n",
       "| HE6W_2           | Right ventricle |   17 |    5 |   0 |   26 | 0 |   0 | 0 |   0 | 0 |\n",
       "| HE7W_1           | Left atria      |    4 |   40 |   0 |    3 | 0 |   0 | 0 |   0 | 0 |\n",
       "| HE7W_1           | Left ventricle  |   15 |   15 |   4 |    6 | 0 |   0 | 0 |   0 | 0 |\n",
       "| HE7W_1           | Right atria     |    9 |   29 |   3 |    3 | 0 |   0 | 0 |   0 | 0 |\n",
       "| HE7W_1           | Right ventricle |   14 |   18 |   4 |    4 | 0 |   0 | 0 |   0 | 0 |\n",
       "| HE7W_2           | Left atria      |    2 |   72 |   0 |    0 | 0 |   0 | 0 |   0 | 0 |\n",
       "| HE7W_2           | Left ventricle  |    7 |   63 |   0 |   10 | 0 |   0 | 0 |   0 | 0 |\n",
       "| HE7W_2           | Right atria     |    6 |   70 |   0 |    7 | 0 |   0 | 0 |   0 | 0 |\n",
       "| HE7W_2           | Right ventricle |    5 |   48 |   0 |    2 | 0 |   0 | 0 |   0 | 0 |\n",
       "| HE7W_3           | Left atria      |    3 |   35 |   0 |    0 | 0 |   0 | 0 |   0 | 0 |\n",
       "| HE7W_3           | Left ventricle  |    0 |   31 |   1 |    4 | 0 |   0 | 0 |   0 | 0 |\n",
       "| HE7W_3           | Right atria     |    4 |   36 |   0 |    1 | 0 |   0 | 0 |   0 | 0 |\n",
       "| HE7W_3           | Right ventricle |    2 |   16 |   1 |    9 | 0 |   0 | 0 |   0 | 0 |\n",
       "| HE9W_1           | Left atria      |   18 |   16 |   1 |    6 | 0 |   0 | 0 |   0 | 0 |\n",
       "| HE9W_1           | Left ventricle  |    3 |   15 |   1 |   20 | 0 |   0 | 0 |   0 | 0 |\n",
       "| HE9W_1           | Right atria     |   17 |   18 |   6 |    5 | 0 |   0 | 0 |   0 | 0 |\n",
       "| HE9W_1           | Right ventricle |    2 |   24 |   2 |    9 | 0 |   0 | 0 |   0 | 0 |\n",
       "| ⋮ | ⋮ | ⋮ | ⋮ | ⋮ | ⋮ | ⋮ | ⋮ | ⋮ | ⋮ | ⋮ |\n",
       "| HE23W_2    | Aorta                   |    0 |     1 |   3 |    0 |   1 |  14 |   0 |   0 | 0 |\n",
       "| HE23W_2    | Aortic valve            |    5 |     0 |   2 |   33 |   1 |   0 |   0 |   0 | 0 |\n",
       "| HE23W_2    | Interventricular septum |    7 |     6 |   5 |    7 |   0 |   0 |   0 |   0 | 0 |\n",
       "| HE23W_2    | Left atria              |    1 |    10 |   0 |    4 |   0 |   0 |   0 |   0 | 0 |\n",
       "| HE23W_2    | Left ventricle          |    3 |    11 |   4 |    2 |   0 |   0 |   0 |   0 | 0 |\n",
       "| HE23W_2    | Mitral valve            |    6 |     0 |   4 |   30 |   0 |   0 |   0 |   0 | 0 |\n",
       "| HE23W_2    | Pulmonary artery        |    1 |     2 |   4 |    2 |   1 |  17 |   0 |   0 | 0 |\n",
       "| HE23W_2    | Pulmonary valve         |    7 |     0 |   1 |   32 |   0 |   0 |   0 |   0 | 0 |\n",
       "| HE23W_2    | Right atria             |    4 |     9 |   0 |    3 |   0 |   1 |   0 |   0 | 0 |\n",
       "| HE23W_2    | Right ventricle         |    4 |     5 |   4 |    8 |   0 |   0 |   0 |   0 | 0 |\n",
       "| HE23W_2    | Tricuspid valve         |   21 |     0 |   5 |   20 |   0 |   0 |   0 |   0 | 0 |\n",
       "| HE24W_1    | Left atria              |   24 |    28 |   2 |    7 |   1 |   0 |   0 |   0 | 0 |\n",
       "| HE24W_1    | Left ventricle          |    8 |    20 |   9 |   20 |   8 |   1 |   0 |   0 | 0 |\n",
       "| HE24W_1    | Right atria             |   11 |    51 |   1 |    7 |   3 |   0 |   0 |   0 | 0 |\n",
       "| HE24W_1    | Right ventricle         |    2 |    24 |   3 |   36 |   2 |   0 |   0 |   0 | 0 |\n",
       "| HE25W_1    | Aortic valve            |    0 |     0 |   5 |   18 |   0 |   0 |   0 |   0 | 0 |\n",
       "| HE25W_1    | Mitral valve            |    2 |     0 |   8 |   17 |   0 |   0 |   0 |   0 | 0 |\n",
       "| HE25W_1    | Pulmonary valve         |    3 |     0 |   7 |   16 |   0 |   0 |   0 |   0 | 0 |\n",
       "| HE25W_1    | Tricuspid valve         |    1 |     0 |   7 |   21 |   0 |   0 |   0 |   0 | 0 |\n",
       "| HE25W_1    | Ventricle               |    7 |     0 |   2 |   12 |   0 |   0 |   0 |   0 | 0 |\n",
       "| Asp_donor1 | NA                      |  804 |   762 |  75 |  903 |   0 | 571 |  75 | 147 | 0 |\n",
       "| H26547     | NA                      |  481 |  2919 |  30 |  479 |  32 |  77 |  27 |   0 | 0 |\n",
       "| H27464     | NA                      |  602 |  2734 | 151 |  736 | 215 | 108 |  30 |   0 | 0 |\n",
       "| H27431     | NA                      | 2999 | 17144 | 407 | 3767 | 240 | 500 | 218 |   0 | 0 |\n",
       "| H27295     | NA                      | 1860 | 12118 | 280 | 2066 | 322 | 299 | 120 |   0 | 0 |\n",
       "| H27471     | NA                      | 3580 |  8769 | 279 | 2154 | 486 | 266 | 262 |   0 | 0 |\n",
       "| H27098     | NA                      | 1057 |  4115 |  55 |  594 |  14 | 234 |  69 |   0 | 0 |\n",
       "| H27472     | NA                      |  556 |  4302 |  31 |  293 |   4 |  77 |  32 |   0 | 0 |\n",
       "| H27423     | NA                      |  780 |  7024 |  73 |  898 |  19 | 145 |  35 |   0 | 0 |\n",
       "| H27473     | NA                      | 1645 |  8485 |  95 | 1443 |  16 | 330 |  90 |   0 | 0 |\n",
       "\n"
      ],
      "text/plain": [
       "   donor_id         subregion               Endothelial cell Cardiomyocyte cell\n",
       "1  FetalHeart_12W   NA                      1139             2123              \n",
       "2  FetalHeart2_GW11 NA                       363              911              \n",
       "3  HE5W_1           Left atria                 3               62              \n",
       "4  HE5W_1           Left ventricle             9               63              \n",
       "5  HE5W_1           Right atria                3               51              \n",
       "6  HE5W_1           Right ventricle            1               44              \n",
       "7  HE6W_1           Left atria                10               11              \n",
       "8  HE6W_1           Left ventricle            16                7              \n",
       "9  HE6W_1           Right atria               10               26              \n",
       "10 HE6W_1           Right ventricle            6               13              \n",
       "11 HE6W_2           Left atria                17                3              \n",
       "12 HE6W_2           Left ventricle            15                9              \n",
       "13 HE6W_2           Right atria               15                5              \n",
       "14 HE6W_2           Right ventricle           17                5              \n",
       "15 HE7W_1           Left atria                 4               40              \n",
       "16 HE7W_1           Left ventricle            15               15              \n",
       "17 HE7W_1           Right atria                9               29              \n",
       "18 HE7W_1           Right ventricle           14               18              \n",
       "19 HE7W_2           Left atria                 2               72              \n",
       "20 HE7W_2           Left ventricle             7               63              \n",
       "21 HE7W_2           Right atria                6               70              \n",
       "22 HE7W_2           Right ventricle            5               48              \n",
       "23 HE7W_3           Left atria                 3               35              \n",
       "24 HE7W_3           Left ventricle             0               31              \n",
       "25 HE7W_3           Right atria                4               36              \n",
       "26 HE7W_3           Right ventricle            2               16              \n",
       "27 HE9W_1           Left atria                18               16              \n",
       "28 HE9W_1           Left ventricle             3               15              \n",
       "29 HE9W_1           Right atria               17               18              \n",
       "30 HE9W_1           Right ventricle            2               24              \n",
       "⋮  ⋮                ⋮                       ⋮                ⋮                 \n",
       "70 HE23W_2          Aorta                      0                 1             \n",
       "71 HE23W_2          Aortic valve               5                 0             \n",
       "72 HE23W_2          Interventricular septum    7                 6             \n",
       "73 HE23W_2          Left atria                 1                10             \n",
       "74 HE23W_2          Left ventricle             3                11             \n",
       "75 HE23W_2          Mitral valve               6                 0             \n",
       "76 HE23W_2          Pulmonary artery           1                 2             \n",
       "77 HE23W_2          Pulmonary valve            7                 0             \n",
       "78 HE23W_2          Right atria                4                 9             \n",
       "79 HE23W_2          Right ventricle            4                 5             \n",
       "80 HE23W_2          Tricuspid valve           21                 0             \n",
       "81 HE24W_1          Left atria                24                28             \n",
       "82 HE24W_1          Left ventricle             8                20             \n",
       "83 HE24W_1          Right atria               11                51             \n",
       "84 HE24W_1          Right ventricle            2                24             \n",
       "85 HE25W_1          Aortic valve               0                 0             \n",
       "86 HE25W_1          Mitral valve               2                 0             \n",
       "87 HE25W_1          Pulmonary valve            3                 0             \n",
       "88 HE25W_1          Tricuspid valve            1                 0             \n",
       "89 HE25W_1          Ventricle                  7                 0             \n",
       "90 Asp_donor1       NA                       804               762             \n",
       "91 H26547           NA                       481              2919             \n",
       "92 H27464           NA                       602              2734             \n",
       "93 H27431           NA                      2999             17144             \n",
       "94 H27295           NA                      1860             12118             \n",
       "95 H27471           NA                      3580              8769             \n",
       "96 H27098           NA                      1057              4115             \n",
       "97 H27472           NA                       556              4302             \n",
       "98 H27423           NA                       780              7024             \n",
       "99 H27473           NA                      1645              8485             \n",
       "   Myelocyte Fibroblast Lymphocyte Smooth muscle cell Neuron Pericyte Adipocyte\n",
       "1   60       1303       0          308                0        0      0        \n",
       "2  150        858       0          118                0      208      0        \n",
       "3    1         18       0            0                0        0      0        \n",
       "4    1         21       0            0                0        0      0        \n",
       "5    3         38       0            0                0        0      0        \n",
       "6    0         42       0            0                0        0      0        \n",
       "7    4          9       0            0                0        0      0        \n",
       "8    2         16       0            0                0        0      0        \n",
       "9    0          9       0            0                0        0      0        \n",
       "10   0         24       0            0                0        0      0        \n",
       "11   5         21       1            0                0        0      0        \n",
       "12   2         21       0            0                0        0      0        \n",
       "13   3         24       0            0                0        0      0        \n",
       "14   0         26       0            0                0        0      0        \n",
       "15   0          3       0            0                0        0      0        \n",
       "16   4          6       0            0                0        0      0        \n",
       "17   3          3       0            0                0        0      0        \n",
       "18   4          4       0            0                0        0      0        \n",
       "19   0          0       0            0                0        0      0        \n",
       "20   0         10       0            0                0        0      0        \n",
       "21   0          7       0            0                0        0      0        \n",
       "22   0          2       0            0                0        0      0        \n",
       "23   0          0       0            0                0        0      0        \n",
       "24   1          4       0            0                0        0      0        \n",
       "25   0          1       0            0                0        0      0        \n",
       "26   1          9       0            0                0        0      0        \n",
       "27   1          6       0            0                0        0      0        \n",
       "28   1         20       0            0                0        0      0        \n",
       "29   6          5       0            0                0        0      0        \n",
       "30   2          9       0            0                0        0      0        \n",
       "⋮  ⋮         ⋮          ⋮          ⋮                  ⋮      ⋮        ⋮        \n",
       "70   3          0         1         14                  0      0      0        \n",
       "71   2         33         1          0                  0      0      0        \n",
       "72   5          7         0          0                  0      0      0        \n",
       "73   0          4         0          0                  0      0      0        \n",
       "74   4          2         0          0                  0      0      0        \n",
       "75   4         30         0          0                  0      0      0        \n",
       "76   4          2         1         17                  0      0      0        \n",
       "77   1         32         0          0                  0      0      0        \n",
       "78   0          3         0          1                  0      0      0        \n",
       "79   4          8         0          0                  0      0      0        \n",
       "80   5         20         0          0                  0      0      0        \n",
       "81   2          7         1          0                  0      0      0        \n",
       "82   9         20         8          1                  0      0      0        \n",
       "83   1          7         3          0                  0      0      0        \n",
       "84   3         36         2          0                  0      0      0        \n",
       "85   5         18         0          0                  0      0      0        \n",
       "86   8         17         0          0                  0      0      0        \n",
       "87   7         16         0          0                  0      0      0        \n",
       "88   7         21         0          0                  0      0      0        \n",
       "89   2         12         0          0                  0      0      0        \n",
       "90  75        903         0        571                 75    147      0        \n",
       "91  30        479        32         77                 27      0      0        \n",
       "92 151        736       215        108                 30      0      0        \n",
       "93 407       3767       240        500                218      0      0        \n",
       "94 280       2066       322        299                120      0      0        \n",
       "95 279       2154       486        266                262      0      0        \n",
       "96  55        594        14        234                 69      0      0        \n",
       "97  31        293         4         77                 32      0      0        \n",
       "98  73        898        19        145                 35      0      0        \n",
       "99  95       1443        16        330                 90      0      0        "
      ]
     },
     "metadata": {},
     "output_type": "display_data"
    }
   ],
   "source": [
    "df"
   ]
  },
  {
   "cell_type": "code",
   "execution_count": 39,
   "metadata": {},
   "outputs": [],
   "source": [
    "write.csv(df,\"Cell_proportion_fetal.csv\")"
   ]
  }
 ],
 "metadata": {
  "kernelspec": {
   "display_name": "R4.0",
   "language": "R",
   "name": "ir3"
  },
  "language_info": {
   "codemirror_mode": "r",
   "file_extension": ".r",
   "mimetype": "text/x-r-source",
   "name": "R",
   "pygments_lexer": "r",
   "version": "4.0.3"
  }
 },
 "nbformat": 4,
 "nbformat_minor": 4
}
