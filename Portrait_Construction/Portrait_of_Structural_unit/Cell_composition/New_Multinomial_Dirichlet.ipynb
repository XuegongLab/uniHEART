{
 "cells": [
  {
   "cell_type": "code",
   "execution_count": 1,
   "metadata": {},
   "outputs": [],
   "source": [
    "library(R6)"
   ]
  },
  {
   "cell_type": "code",
   "execution_count": 1,
   "metadata": {},
   "outputs": [],
   "source": [
    "log.Likelihood <- function(alpha,Xs,Ks){\n",
    "    Likelihood <- 0\n",
    "    for(i in 1:dim(Xs)[1]){\n",
    "        K_i <- Ks[i,]\n",
    "        X_i <- as.double(Xs[i,K_i==1])\n",
    "        alpha_i <- as.double(alpha[K_i==1])\n",
    "        \n",
    "        Likelihood <- Likelihood + log(gamma(sum(alpha_i))) - log(gamma(sum(alpha_i+X_i)))\n",
    "        for(j in 1:length(alpha_i)){\n",
    "            Likelihood <- Likelihood + log(gamma(alpha_i[j] + X_i[j])/gamma(alpha_i[j]))\n",
    "        }\n",
    "    }\n",
    "    return(Likelihood)\n",
    "}"
   ]
  },
  {
   "cell_type": "markdown",
   "metadata": {},
   "source": [
    "# prepare data"
   ]
  },
  {
   "cell_type": "code",
   "execution_count": 3,
   "metadata": {},
   "outputs": [],
   "source": [
    "df_proportion <- read.csv(file = \"Cell_proportion.csv\")"
   ]
  },
  {
   "cell_type": "code",
   "execution_count": 4,
   "metadata": {},
   "outputs": [],
   "source": [
    "df_test <- df_proportion[15:234,]\n",
    "df_test <- df_test[df_test$subregion==\"Left ventricle\",]"
   ]
  },
  {
   "cell_type": "code",
   "execution_count": 5,
   "metadata": {},
   "outputs": [],
   "source": [
    "Xs <- df_test[,4:12]\n",
    "Ks <- matrix(1,68,9)\n",
    "for(i in 1: 68){\n",
    "    if(df_test$method[i]==\"rm-CM\"){\n",
    "        Ks[i,2] <- 0\n",
    "    }\n",
    "    if(df_test$method[i]==\"CD45+\"){\n",
    "        Ks[i,] <- c(1,0,1,0,1,1,0,1,0)\n",
    "    }\n",
    "\n",
    "}\n",
    "Xs <- Xs/rowSums(Xs)"
   ]
  },
  {
   "cell_type": "code",
   "execution_count": 6,
   "metadata": {},
   "outputs": [],
   "source": [
    "cell.type.number <- dim(Xs)[2]"
   ]
  },
  {
   "cell_type": "markdown",
   "metadata": {},
   "source": [
    "# learning"
   ]
  },
  {
   "cell_type": "code",
   "execution_count": 9,
   "metadata": {},
   "outputs": [],
   "source": [
    "learning_rate <- 0.1"
   ]
  },
  {
   "cell_type": "code",
   "execution_count": 8,
   "metadata": {},
   "outputs": [],
   "source": [
    "#Initial_alpha <- colMeans(Xs)\n",
    "Initial_alpha <- matrix(1,1,cell.type.number)"
   ]
  },
  {
   "cell_type": "code",
   "execution_count": 9,
   "metadata": {},
   "outputs": [],
   "source": [
    "alpha <- Initial_alpha\n",
    "LL <- c(log.Likelihood(alpha,Xs,Ks))"
   ]
  },
  {
   "cell_type": "code",
   "execution_count": 10,
   "metadata": {},
   "outputs": [],
   "source": [
    "for(epoch in 1:200){\n",
    "    for(sample in 1:dim(Xs)[1]){\n",
    "    gradient.alpha <- matrix(0,cell.type.number,1)\n",
    "    K <- Ks[sample,]\n",
    "    X <- Xs[sample,]\n",
    "\n",
    "    for(j in 1: cell.type.number){\n",
    "        if(K[j]==1){\n",
    "            gradient.alpha[j] <- digamma(sum(alpha))-digamma(sum(alpha)+sum(X))+digamma(X[j]+alpha[j])-digamma(alpha[j])\n",
    "        }\n",
    "    }\n",
    "    alpha <- alpha + learning_rate * as.double(gradient.alpha)\n",
    "    }\n",
    "    LL <- c(LL,log.Likelihood(alpha,Xs,Ks))\n",
    "}"
   ]
  },
  {
   "cell_type": "code",
   "execution_count": 103,
   "metadata": {},
   "outputs": [
    {
     "data": {
      "text/html": [
       "0.0102955498327759"
      ],
      "text/latex": [
       "0.0102955498327759"
      ],
      "text/markdown": [
       "0.0102955498327759"
      ],
      "text/plain": [
       "[1] 0.01029555"
      ]
     },
     "metadata": {},
     "output_type": "display_data"
    }
   ],
   "source": [
    "LL[201]-LL[200]"
   ]
  },
  {
   "cell_type": "code",
   "execution_count": 135,
   "metadata": {},
   "outputs": [
    {
     "data": {
      "image/png": "[encoded data removed]",
      "text/plain": [
       "plot without title"
      ]
     },
     "metadata": {
      "image/png": {
       "height": 420,
       "width": 420
      }
     },
     "output_type": "display_data"
    }
   ],
   "source": [
    "plot(LL,xlab =  \"epoch\", ylab =\"Log.Likelihood\")"
   ]
  },
  {
   "cell_type": "code",
   "execution_count": 12,
   "metadata": {},
   "outputs": [
    {
     "data": {
      "text/html": [
       "<table class=\"dataframe\">\n",
       "<caption>A matrix: 1 × 9 of type dbl</caption>\n",
       "<tbody>\n",
       "\t<tr><td>0.2107065</td><td>0.347816</td><td>0.05238848</td><td>0.1250369</td><td>0.03458392</td><td>0.04124992</td><td>0.01131071</td><td>0.1644799</td><td>0.01242768</td></tr>\n",
       "</tbody>\n",
       "</table>\n"
      ],
      "text/latex": [
       "A matrix: 1 × 9 of type dbl\n",
       "\\begin{tabular}{lllllllll}\n",
       "\t 0.2107065 & 0.347816 & 0.05238848 & 0.1250369 & 0.03458392 & 0.04124992 & 0.01131071 & 0.1644799 & 0.01242768\\\\\n",
       "\\end{tabular}\n"
      ],
      "text/markdown": [
       "\n",
       "A matrix: 1 × 9 of type dbl\n",
       "\n",
       "| 0.2107065 | 0.347816 | 0.05238848 | 0.1250369 | 0.03458392 | 0.04124992 | 0.01131071 | 0.1644799 | 0.01242768 |\n",
       "\n"
      ],
      "text/plain": [
       "     [,1]      [,2]     [,3]       [,4]      [,5]       [,6]       [,7]      \n",
       "[1,] 0.2107065 0.347816 0.05238848 0.1250369 0.03458392 0.04124992 0.01131071\n",
       "     [,8]      [,9]      \n",
       "[1,] 0.1644799 0.01242768"
      ]
     },
     "metadata": {},
     "output_type": "display_data"
    }
   ],
   "source": [
    "alpha/sum(alpha)"
   ]
  },
  {
   "cell_type": "code",
   "execution_count": 21,
   "metadata": {},
   "outputs": [
    {
     "data": {
      "text/html": [
       "<table class=\"dataframe\">\n",
       "<caption>A matrix: 1 × 9 of type dbl</caption>\n",
       "<tbody>\n",
       "\t<tr><td>10.70914</td><td>17.67772</td><td>2.662641</td><td>6.354994</td><td>1.757725</td><td>2.096524</td><td>0.5748662</td><td>8.359679</td><td>0.6316361</td></tr>\n",
       "</tbody>\n",
       "</table>\n"
      ],
      "text/latex": [
       "A matrix: 1 × 9 of type dbl\n",
       "\\begin{tabular}{lllllllll}\n",
       "\t 10.70914 & 17.67772 & 2.662641 & 6.354994 & 1.757725 & 2.096524 & 0.5748662 & 8.359679 & 0.6316361\\\\\n",
       "\\end{tabular}\n"
      ],
      "text/markdown": [
       "\n",
       "A matrix: 1 × 9 of type dbl\n",
       "\n",
       "| 10.70914 | 17.67772 | 2.662641 | 6.354994 | 1.757725 | 2.096524 | 0.5748662 | 8.359679 | 0.6316361 |\n",
       "\n"
      ],
      "text/plain": [
       "     [,1]     [,2]     [,3]     [,4]     [,5]     [,6]     [,7]      [,8]    \n",
       "[1,] 10.70914 17.67772 2.662641 6.354994 1.757725 2.096524 0.5748662 8.359679\n",
       "     [,9]     \n",
       "[1,] 0.6316361"
      ]
     },
     "metadata": {},
     "output_type": "display_data"
    }
   ],
   "source": [
    "alpha"
   ]
  },
  {
   "cell_type": "markdown",
   "metadata": {},
   "source": [
    "# evaluate confidence range"
   ]
  },
  {
   "cell_type": "code",
   "execution_count": 87,
   "metadata": {},
   "outputs": [],
   "source": [
    "high_boundary <- matrix(1,1,cell.type.number)\n",
    "low_boundary <- matrix(1,1,cell.type.number)\n",
    "\n",
    "for(i in 1: cell.type.number){\n",
    "    Second.derivative.i <- 0\n",
    "    for(sample in 1:dim(Xs)[1]){\n",
    "        K <- Ks[sample,]\n",
    "        X <- Xs[sample,]\n",
    "        Second.derivative.i <- Second.derivative.i + trigamma(sum(alpha))-trigamma(sum(alpha)+sum(X))+trigamma(X[i]+alpha[i])-trigamma(alpha[i])\n",
    "    }\n",
    "        high_boundary[i] <- alpha[i] + 1.96/sqrt(-1*Second.derivative.i)\n",
    "        low_boundary[i] <- max(alpha[i] - 1.96/sqrt(-1*Second.derivative.i),0)\n",
    "}"
   ]
  },
  {
   "cell_type": "code",
   "execution_count": 88,
   "metadata": {},
   "outputs": [],
   "source": [
    "result <- as.data.frame(rbind(as.double(high_boundary),alpha,as.double(low_boundary)))\n",
    "row.names(result)<- c(\"high_boundary\",\"estimated_alpha\",\"low_boundary\")"
   ]
  },
  {
   "cell_type": "code",
   "execution_count": 89,
   "metadata": {},
   "outputs": [
    {
     "data": {
      "text/html": [
       "<table class=\"dataframe\">\n",
       "<caption>A data.frame: 3 × 9</caption>\n",
       "<thead>\n",
       "\t<tr><th></th><th scope=col>V1</th><th scope=col>V2</th><th scope=col>V3</th><th scope=col>V4</th><th scope=col>V5</th><th scope=col>V6</th><th scope=col>V7</th><th scope=col>V8</th><th scope=col>V9</th></tr>\n",
       "\t<tr><th></th><th scope=col>&lt;dbl&gt;</th><th scope=col>&lt;dbl&gt;</th><th scope=col>&lt;dbl&gt;</th><th scope=col>&lt;dbl&gt;</th><th scope=col>&lt;dbl&gt;</th><th scope=col>&lt;dbl&gt;</th><th scope=col>&lt;dbl&gt;</th><th scope=col>&lt;dbl&gt;</th><th scope=col>&lt;dbl&gt;</th></tr>\n",
       "</thead>\n",
       "<tbody>\n",
       "\t<tr><th scope=row>high_boundary</th><td>0.3210410</td><td>0.5182654</td><td>0.10302594</td><td>0.21120513</td><td>0.07505020</td><td>0.08545173</td><td>0.03117436</td><td>0.26019156</td><td>0.03431599</td></tr>\n",
       "\t<tr><th scope=row>estimated_alpha</th><td>0.2107065</td><td>0.3478160</td><td>0.05238848</td><td>0.12503694</td><td>0.03458392</td><td>0.04124992</td><td>0.01131071</td><td>0.16447989</td><td>0.01242768</td></tr>\n",
       "\t<tr><th scope=row>low_boundary</th><td>0.1003720</td><td>0.1773665</td><td>0.00175102</td><td>0.03886874</td><td>0.00000000</td><td>0.00000000</td><td>0.00000000</td><td>0.06876823</td><td>0.00000000</td></tr>\n",
       "</tbody>\n",
       "</table>\n"
      ],
      "text/latex": [
       "A data.frame: 3 × 9\n",
       "\\begin{tabular}{r|lllllllll}\n",
       "  & V1 & V2 & V3 & V4 & V5 & V6 & V7 & V8 & V9\\\\\n",
       "  & <dbl> & <dbl> & <dbl> & <dbl> & <dbl> & <dbl> & <dbl> & <dbl> & <dbl>\\\\\n",
       "\\hline\n",
       "\thigh\\_boundary & 0.3210410 & 0.5182654 & 0.10302594 & 0.21120513 & 0.07505020 & 0.08545173 & 0.03117436 & 0.26019156 & 0.03431599\\\\\n",
       "\testimated\\_alpha & 0.2107065 & 0.3478160 & 0.05238848 & 0.12503694 & 0.03458392 & 0.04124992 & 0.01131071 & 0.16447989 & 0.01242768\\\\\n",
       "\tlow\\_boundary & 0.1003720 & 0.1773665 & 0.00175102 & 0.03886874 & 0.00000000 & 0.00000000 & 0.00000000 & 0.06876823 & 0.00000000\\\\\n",
       "\\end{tabular}\n"
      ],
      "text/markdown": [
       "\n",
       "A data.frame: 3 × 9\n",
       "\n",
       "| <!--/--> | V1 &lt;dbl&gt; | V2 &lt;dbl&gt; | V3 &lt;dbl&gt; | V4 &lt;dbl&gt; | V5 &lt;dbl&gt; | V6 &lt;dbl&gt; | V7 &lt;dbl&gt; | V8 &lt;dbl&gt; | V9 &lt;dbl&gt; |\n",
       "|---|---|---|---|---|---|---|---|---|---|\n",
       "| high_boundary | 0.3210410 | 0.5182654 | 0.10302594 | 0.21120513 | 0.07505020 | 0.08545173 | 0.03117436 | 0.26019156 | 0.03431599 |\n",
       "| estimated_alpha | 0.2107065 | 0.3478160 | 0.05238848 | 0.12503694 | 0.03458392 | 0.04124992 | 0.01131071 | 0.16447989 | 0.01242768 |\n",
       "| low_boundary | 0.1003720 | 0.1773665 | 0.00175102 | 0.03886874 | 0.00000000 | 0.00000000 | 0.00000000 | 0.06876823 | 0.00000000 |\n",
       "\n"
      ],
      "text/plain": [
       "                V1        V2        V3         V4         V5         V6        \n",
       "high_boundary   0.3210410 0.5182654 0.10302594 0.21120513 0.07505020 0.08545173\n",
       "estimated_alpha 0.2107065 0.3478160 0.05238848 0.12503694 0.03458392 0.04124992\n",
       "low_boundary    0.1003720 0.1773665 0.00175102 0.03886874 0.00000000 0.00000000\n",
       "                V7         V8         V9        \n",
       "high_boundary   0.03117436 0.26019156 0.03431599\n",
       "estimated_alpha 0.01131071 0.16447989 0.01242768\n",
       "low_boundary    0.00000000 0.06876823 0.00000000"
      ]
     },
     "metadata": {},
     "output_type": "display_data"
    }
   ],
   "source": [
    "result/sum(result[2,])"
   ]
  },
  {
   "cell_type": "code",
   "execution_count": null,
   "metadata": {},
   "outputs": [],
   "source": []
  },
  {
   "cell_type": "markdown",
   "metadata": {},
   "source": [
    "# Class version"
   ]
  },
  {
   "cell_type": "code",
   "execution_count": 2,
   "metadata": {},
   "outputs": [],
   "source": [
    "MDMM <- R6Class(\"MDMM\",\n",
    "  # public methods and parameters\n",
    "  public = list(\n",
    "  initialize = function(){},\n",
    "      \n",
    "  fit = function(Xs,Ks,intial.alpha=NULL, max.iter=200, threshold=0.001, learning.rate=0.1){\n",
    "      \n",
    "      ## input\n",
    "      ## Xs: group of count vectors\n",
    "      ## Ks: group of mask vectors\n",
    "      ## Initial_alpha: the initial value of alpha, can be a vector, the default value is the mean value of all Xs\n",
    "      \n",
    "      ###### parameter validation ######\n",
    "      if (!sum(dim(Xs)==dim(Ks))==2){\n",
    "          print(\"Error! The dimension of input Xs and Ks must be same.\")\n",
    "          return(-1)\n",
    "      }\n",
    "      if (!is.null(intial.alpha) && !dim(Xs)[2]==length(intial.alpha)){\n",
    "          print(\"Error! The column dimension of input Xs and the length of intial.alpha must be same.\")\n",
    "          return(-1)\n",
    "      }\n",
    "      \n",
    "      ###### parameter initialize ######\n",
    "      private$dims = dim(Xs)[2]\n",
    "      private$learning_rate <- learning.rate\n",
    "      private$max_iter <- max.iter\n",
    "      private$threshold <- threshold\n",
    "      \n",
    "      if(is.null(intial.alpha)){\n",
    "          initial.alpha <- colMeans(Xs)\n",
    "      }\n",
    "      private$initial_alpha <- initial.alpha\n",
    "      alpha <- initial.alpha\n",
    "    \n",
    "      private$LL_list <- c(private$log.Likelihood(alpha,Xs,Ks))\n",
    "      \n",
    "      ###### estimation ######\n",
    "      for(epoch in 1:private$max_iter){\n",
    "        for(sample in 1:dim(Xs)[1]){\n",
    "            gradient.alpha <- matrix(0, private$dims, 1)\n",
    "            K <- Ks[sample,]\n",
    "            X <- Xs[sample,]\n",
    "\n",
    "            for(j in 1: private$dims){\n",
    "                if(K[j]==1){\n",
    "                    gradient.alpha[j] <- digamma(sum(alpha))-digamma(sum(alpha)+sum(X))+digamma(X[j]+alpha[j])-digamma(alpha[j])\n",
    "                }\n",
    "            }\n",
    "            alpha <- alpha + learning_rate * as.double(gradient.alpha)\n",
    "        }\n",
    "        if(abs(private$LL_list[length(private$LL_list)]-private$log.Likelihood(alpha,Xs,Ks))<= private$threshold){\n",
    "            break\n",
    "        }else{\n",
    "            private$LL_list <- c(private$LL_list, private$log.Likelihood(alpha,Xs,Ks))\n",
    "        }  \n",
    "    }\n",
    "    \n",
    "      ###### confidence range ######\n",
    "      high_boundary <- matrix(1,1,private$dims)\n",
    "      low_boundary <- matrix(1,1,private$dims)\n",
    "  \n",
    "      for(i in 1: private$dims){\n",
    "          Second.derivative.i <- 0\n",
    "          for(sample in 1:dim(Xs)[1]){\n",
    "              K <- Ks[sample,]\n",
    "              X <- Xs[sample,]\n",
    "              Second.derivative.i <- Second.derivative.i + trigamma(sum(alpha))-trigamma(sum(alpha)+sum(X))+trigamma(X[i]+alpha[i])-trigamma(alpha[i])\n",
    "          }\n",
    "              high_boundary[i] <- alpha[i] + 1.96/sqrt(-1*Second.derivative.i)\n",
    "              low_boundary[i] <- max(alpha[i] - 1.96/sqrt(-1*Second.derivative.i),0)\n",
    "      }\n",
    "      \n",
    "      \n",
    "      ###### save result ######\n",
    "      result <- as.data.frame(rbind(as.double(high_boundary),alpha,as.double(low_boundary)))\n",
    "      row.names(result)<- c(\"high_boundary\",\"estimated_alpha\",\"low_boundary\")\n",
    "      private$estimation <- result \n",
    "  },\n",
    "      \n",
    "      \n",
    "  get_parameters = function(){\n",
    "      print(paste(\"dims:\",private$dims))\n",
    "      print(paste(\"learning_rate:\",private$learning_rate))\n",
    "      print(paste(\"max_iter:\",private$max_iter))\n",
    "      print(paste(\"threshold:\",private$threshold))\n",
    "  },\n",
    "  get_result = function(){return(private$estimation)},\n",
    "  draw_trainning_process = function(){plot(private$LL_list,xlab =  \"epoch\", ylab =\"Log.Likelihood\")}\n",
    "  ), \n",
    "                \n",
    "  \n",
    "  private = list(\n",
    "      ## private parameters\n",
    "      dims = NULL,\n",
    "      learning_rate = NULL,\n",
    "      initial_alpha = NULL,\n",
    "      threshold = NULL,\n",
    "      max_iter = NULL,\n",
    "      \n",
    "      estimation = NULL,\n",
    "      LL_list = NULL,\n",
    "      \n",
    "      ## private methods\n",
    "      log.Likelihood = function(alpha,Xs,Ks){\n",
    "        Likelihood <- 0\n",
    "        for(i in 1:dim(Xs)[1]){\n",
    "            K_i <- Ks[i,]\n",
    "            X_i <- as.double(Xs[i,K_i==1])\n",
    "            alpha_i <- as.double(alpha[K_i==1])\n",
    "\n",
    "            Likelihood <- Likelihood + log(gamma(sum(alpha_i))) - log(gamma(sum(alpha_i+X_i)))\n",
    "            for(j in 1:length(alpha_i)){\n",
    "                Likelihood <- Likelihood + log(gamma(alpha_i[j] + X_i[j])/gamma(alpha_i[j]))\n",
    "            }\n",
    "        }\n",
    "        return(Likelihood)\n",
    "    }\n",
    "  )\n",
    ")"
   ]
  },
  {
   "cell_type": "markdown",
   "metadata": {},
   "source": [
    "## test class"
   ]
  },
  {
   "cell_type": "code",
   "execution_count": 7,
   "metadata": {},
   "outputs": [],
   "source": [
    "my_model <- MDMM$new()"
   ]
  },
  {
   "cell_type": "code",
   "execution_count": 10,
   "metadata": {},
   "outputs": [],
   "source": [
    "my_model$fit(Xs,Ks,max.iter=300)"
   ]
  },
  {
   "cell_type": "code",
   "execution_count": 11,
   "metadata": {},
   "outputs": [
    {
     "name": "stdout",
     "output_type": "stream",
     "text": [
      "[1] \"dims: 9\"\n",
      "[1] \"learning_rate: 0.1\"\n",
      "[1] \"max_iter: 300\"\n",
      "[1] \"threshold: 0.001\"\n"
     ]
    }
   ],
   "source": [
    "my_model$get_parameters()"
   ]
  },
  {
   "cell_type": "code",
   "execution_count": 13,
   "metadata": {},
   "outputs": [
    {
     "data": {
      "text/html": [
       "<table class=\"dataframe\">\n",
       "<caption>A data.frame: 3 × 9</caption>\n",
       "<thead>\n",
       "\t<tr><th></th><th scope=col>Endothelial.cell</th><th scope=col>Cardiomyocyte.cell</th><th scope=col>Myelocyte</th><th scope=col>Fibroblast</th><th scope=col>Lymphocyte</th><th scope=col>Smooth.muscle.cell</th><th scope=col>Neuron</th><th scope=col>Pericyte</th><th scope=col>Adipocyte</th></tr>\n",
       "\t<tr><th></th><th scope=col>&lt;dbl&gt;</th><th scope=col>&lt;dbl&gt;</th><th scope=col>&lt;dbl&gt;</th><th scope=col>&lt;dbl&gt;</th><th scope=col>&lt;dbl&gt;</th><th scope=col>&lt;dbl&gt;</th><th scope=col>&lt;dbl&gt;</th><th scope=col>&lt;dbl&gt;</th><th scope=col>&lt;dbl&gt;</th></tr>\n",
       "</thead>\n",
       "<tbody>\n",
       "\t<tr><th scope=row>high_boundary</th><td>20.932772</td><td>34.00253</td><td>6.53940702</td><td>13.652929</td><td>4.701495</td><td>5.393675</td><td>1.9362897</td><td>16.880578</td><td>2.1185138</td></tr>\n",
       "\t<tr><th scope=row>estimated_alpha</th><td>13.702423</td><td>22.73247</td><td>3.27736722</td><td> 8.036780</td><td>2.125683</td><td>2.557697</td><td>0.6735758</td><td>10.625953</td><td>0.7382738</td></tr>\n",
       "\t<tr><th scope=row>low_boundary</th><td> 6.472074</td><td>11.46240</td><td>0.01532741</td><td> 2.420631</td><td>0.000000</td><td>0.000000</td><td>0.0000000</td><td> 4.371329</td><td>0.0000000</td></tr>\n",
       "</tbody>\n",
       "</table>\n"
      ],
      "text/latex": [
       "A data.frame: 3 × 9\n",
       "\\begin{tabular}{r|lllllllll}\n",
       "  & Endothelial.cell & Cardiomyocyte.cell & Myelocyte & Fibroblast & Lymphocyte & Smooth.muscle.cell & Neuron & Pericyte & Adipocyte\\\\\n",
       "  & <dbl> & <dbl> & <dbl> & <dbl> & <dbl> & <dbl> & <dbl> & <dbl> & <dbl>\\\\\n",
       "\\hline\n",
       "\thigh\\_boundary & 20.932772 & 34.00253 & 6.53940702 & 13.652929 & 4.701495 & 5.393675 & 1.9362897 & 16.880578 & 2.1185138\\\\\n",
       "\testimated\\_alpha & 13.702423 & 22.73247 & 3.27736722 &  8.036780 & 2.125683 & 2.557697 & 0.6735758 & 10.625953 & 0.7382738\\\\\n",
       "\tlow\\_boundary &  6.472074 & 11.46240 & 0.01532741 &  2.420631 & 0.000000 & 0.000000 & 0.0000000 &  4.371329 & 0.0000000\\\\\n",
       "\\end{tabular}\n"
      ],
      "text/markdown": [
       "\n",
       "A data.frame: 3 × 9\n",
       "\n",
       "| <!--/--> | Endothelial.cell &lt;dbl&gt; | Cardiomyocyte.cell &lt;dbl&gt; | Myelocyte &lt;dbl&gt; | Fibroblast &lt;dbl&gt; | Lymphocyte &lt;dbl&gt; | Smooth.muscle.cell &lt;dbl&gt; | Neuron &lt;dbl&gt; | Pericyte &lt;dbl&gt; | Adipocyte &lt;dbl&gt; |\n",
       "|---|---|---|---|---|---|---|---|---|---|\n",
       "| high_boundary | 20.932772 | 34.00253 | 6.53940702 | 13.652929 | 4.701495 | 5.393675 | 1.9362897 | 16.880578 | 2.1185138 |\n",
       "| estimated_alpha | 13.702423 | 22.73247 | 3.27736722 |  8.036780 | 2.125683 | 2.557697 | 0.6735758 | 10.625953 | 0.7382738 |\n",
       "| low_boundary |  6.472074 | 11.46240 | 0.01532741 |  2.420631 | 0.000000 | 0.000000 | 0.0000000 |  4.371329 | 0.0000000 |\n",
       "\n"
      ],
      "text/plain": [
       "                Endothelial.cell Cardiomyocyte.cell Myelocyte  Fibroblast\n",
       "high_boundary   20.932772        34.00253           6.53940702 13.652929 \n",
       "estimated_alpha 13.702423        22.73247           3.27736722  8.036780 \n",
       "low_boundary     6.472074        11.46240           0.01532741  2.420631 \n",
       "                Lymphocyte Smooth.muscle.cell Neuron    Pericyte  Adipocyte\n",
       "high_boundary   4.701495   5.393675           1.9362897 16.880578 2.1185138\n",
       "estimated_alpha 2.125683   2.557697           0.6735758 10.625953 0.7382738\n",
       "low_boundary    0.000000   0.000000           0.0000000  4.371329 0.0000000"
      ]
     },
     "metadata": {},
     "output_type": "display_data"
    }
   ],
   "source": [
    "my_model$get_result()"
   ]
  },
  {
   "cell_type": "code",
   "execution_count": 14,
   "metadata": {},
   "outputs": [],
   "source": [
    "write.csv(my_model$get_result(),paste0(\"/stor/public/chenyx/HHCAd/DM_result2/subregion/\",\"LV.csv\"))"
   ]
  },
  {
   "cell_type": "code",
   "execution_count": 151,
   "metadata": {},
   "outputs": [
    {
     "data": {
      "image/png": "[encoded data removed]",
      "text/plain": [
       "plot without title"
      ]
     },
     "metadata": {
      "image/png": {
       "height": 420,
       "width": 420
      }
     },
     "output_type": "display_data"
    }
   ],
   "source": [
    "my_model$draw_trainning_process()"
   ]
  }
 ],
 "metadata": {
  "kernelspec": {
   "display_name": "R4.0",
   "language": "R",
   "name": "ir3"
  },
  "language_info": {
   "codemirror_mode": "r",
   "file_extension": ".r",
   "mimetype": "text/x-r-source",
   "name": "R",
   "pygments_lexer": "r",
   "version": "4.0.3"
  }
 },
 "nbformat": 4,
 "nbformat_minor": 4
}
