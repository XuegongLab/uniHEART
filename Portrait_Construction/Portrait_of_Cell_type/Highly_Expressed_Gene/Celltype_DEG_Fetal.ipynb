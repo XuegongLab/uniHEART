{
 "cells": [
  {
   "cell_type": "code",
   "execution_count": 1,
   "metadata": {
    "collapsed": true,
    "jupyter": {
     "outputs_hidden": true
    }
   },
   "outputs": [
    {
     "name": "stderr",
     "output_type": "stream",
     "text": [
      "\n",
      "\n",
      "clusterProfiler v3.18.1  For help: https://guangchuangyu.github.io/software/clusterProfiler\n",
      "\n",
      "If you use clusterProfiler in published research, please cite:\n",
      "Guangchuang Yu, Li-Gen Wang, Yanyan Han, Qing-Yu He. clusterProfiler: an R package for comparing biological themes among gene clusters. OMICS: A Journal of Integrative Biology. 2012, 16(5):284-287.\n",
      "\n",
      "\n",
      "Attaching package: ‘clusterProfiler’\n",
      "\n",
      "\n",
      "The following object is masked from ‘package:stats’:\n",
      "\n",
      "    filter\n",
      "\n",
      "\n",
      "Loading required package: AnnotationDbi\n",
      "\n",
      "Loading required package: stats4\n",
      "\n",
      "Loading required package: BiocGenerics\n",
      "\n",
      "Loading required package: parallel\n",
      "\n",
      "\n",
      "Attaching package: ‘BiocGenerics’\n",
      "\n",
      "\n",
      "The following objects are masked from ‘package:parallel’:\n",
      "\n",
      "    clusterApply, clusterApplyLB, clusterCall, clusterEvalQ,\n",
      "    clusterExport, clusterMap, parApply, parCapply, parLapply,\n",
      "    parLapplyLB, parRapply, parSapply, parSapplyLB\n",
      "\n",
      "\n",
      "The following objects are masked from ‘package:stats’:\n",
      "\n",
      "    IQR, mad, sd, var, xtabs\n",
      "\n",
      "\n",
      "The following objects are masked from ‘package:base’:\n",
      "\n",
      "    anyDuplicated, append, as.data.frame, basename, cbind, colnames,\n",
      "    dirname, do.call, duplicated, eval, evalq, Filter, Find, get, grep,\n",
      "    grepl, intersect, is.unsorted, lapply, Map, mapply, match, mget,\n",
      "    order, paste, pmax, pmax.int, pmin, pmin.int, Position, rank,\n",
      "    rbind, Reduce, rownames, sapply, setdiff, sort, table, tapply,\n",
      "    union, unique, unsplit, which.max, which.min\n",
      "\n",
      "\n",
      "Loading required package: Biobase\n",
      "\n",
      "Welcome to Bioconductor\n",
      "\n",
      "    Vignettes contain introductory material; view with\n",
      "    'browseVignettes()'. To cite Bioconductor, see\n",
      "    'citation(\"Biobase\")', and for packages 'citation(\"pkgname\")'.\n",
      "\n",
      "\n",
      "Loading required package: IRanges\n",
      "\n",
      "Loading required package: S4Vectors\n",
      "\n",
      "\n",
      "Attaching package: ‘S4Vectors’\n",
      "\n",
      "\n",
      "The following object is masked from ‘package:clusterProfiler’:\n",
      "\n",
      "    rename\n",
      "\n",
      "\n",
      "The following object is masked from ‘package:base’:\n",
      "\n",
      "    expand.grid\n",
      "\n",
      "\n",
      "\n",
      "Attaching package: ‘IRanges’\n",
      "\n",
      "\n",
      "The following object is masked from ‘package:clusterProfiler’:\n",
      "\n",
      "    slice\n",
      "\n",
      "\n",
      "\n",
      "Attaching package: ‘AnnotationDbi’\n",
      "\n",
      "\n",
      "The following object is masked from ‘package:clusterProfiler’:\n",
      "\n",
      "    select\n",
      "\n",
      "\n",
      "\n",
      "\n",
      "Loading required package: limma\n",
      "\n",
      "\n",
      "Attaching package: ‘limma’\n",
      "\n",
      "\n",
      "The following object is masked from ‘package:BiocGenerics’:\n",
      "\n",
      "    plotMA\n",
      "\n",
      "\n",
      "Attaching SeuratObject\n",
      "\n"
     ]
    }
   ],
   "source": [
    "library(clusterProfiler)\n",
    "library(org.Hs.eg.db)\n",
    "library(stringr)\n",
    "library(edgeR)\n",
    "library(Seurat)"
   ]
  },
  {
   "cell_type": "code",
   "execution_count": 2,
   "metadata": {},
   "outputs": [],
   "source": [
    "as_matrix <- function(mat){\n",
    "  \n",
    "  tmp <- matrix(data=0L, nrow = mat@Dim[1], ncol = mat@Dim[2])\n",
    "  \n",
    "  row_pos <- mat@i+1\n",
    "  col_pos <- findInterval(seq(mat@x)-1,mat@p[-1])+1\n",
    "  val <- mat@x\n",
    "  \n",
    "  for (i in seq_along(val)){\n",
    "    tmp[row_pos[i],col_pos[i]] <- val[i]\n",
    "  }\n",
    "  \n",
    "  row.names(tmp) <- mat@Dimnames[[1]]\n",
    "  colnames(tmp) <- mat@Dimnames[[2]]\n",
    "  return(tmp)\n",
    "}"
   ]
  },
  {
   "cell_type": "markdown",
   "metadata": {},
   "source": [
    "# load data"
   ]
  },
  {
   "cell_type": "code",
   "execution_count": 4,
   "metadata": {},
   "outputs": [],
   "source": [
    "obj_Adipocyte <- readRDS(\"/stor/public/chenyx/HHCAd/cell_type_organized_fetal/Adipocyte.rds\")"
   ]
  },
  {
   "cell_type": "code",
   "execution_count": 5,
   "metadata": {},
   "outputs": [],
   "source": [
    "obj_Cardiomyocyte_cell <- readRDS(\"/stor/public/chenyx/HHCAd/cell_type_organized_fetal/Cardiomyocyte cell.rds\")\n",
    "obj_Cardiomyocyte_cell <- subset(obj_Cardiomyocyte_cell, subset = cell_id %in% obj_Cardiomyocyte_cell$cell_id[sample(1:dim(obj_Cardiomyocyte_cell)[2],2000)])"
   ]
  },
  {
   "cell_type": "code",
   "execution_count": 6,
   "metadata": {},
   "outputs": [],
   "source": [
    "obj_merge <- merge(obj_Adipocyte,obj_Cardiomyocyte_cell)"
   ]
  },
  {
   "cell_type": "code",
   "execution_count": 7,
   "metadata": {},
   "outputs": [],
   "source": [
    "file_list <-  dir(\"/stor/public/chenyx/HHCAd/cell_type_organized_fetal/\")[3:9]"
   ]
  },
  {
   "cell_type": "code",
   "execution_count": 8,
   "metadata": {},
   "outputs": [
    {
     "data": {
      "text/html": [
       "<style>\n",
       ".list-inline {list-style: none; margin:0; padding: 0}\n",
       ".list-inline>li {display: inline-block}\n",
       ".list-inline>li:not(:last-child)::after {content: \"\\00b7\"; padding: 0 .5ex}\n",
       "</style>\n",
       "<ol class=list-inline><li>'Endothelial cell.rds'</li><li>'Fibroblast.rds'</li><li>'Lymphocyte.rds'</li><li>'Myelocyte.rds'</li><li>'Neuron.rds'</li><li>'Pericyte.rds'</li><li>'Smooth muscle cell.rds'</li></ol>\n"
      ],
      "text/latex": [
       "\\begin{enumerate*}\n",
       "\\item 'Endothelial cell.rds'\n",
       "\\item 'Fibroblast.rds'\n",
       "\\item 'Lymphocyte.rds'\n",
       "\\item 'Myelocyte.rds'\n",
       "\\item 'Neuron.rds'\n",
       "\\item 'Pericyte.rds'\n",
       "\\item 'Smooth muscle cell.rds'\n",
       "\\end{enumerate*}\n"
      ],
      "text/markdown": [
       "1. 'Endothelial cell.rds'\n",
       "2. 'Fibroblast.rds'\n",
       "3. 'Lymphocyte.rds'\n",
       "4. 'Myelocyte.rds'\n",
       "5. 'Neuron.rds'\n",
       "6. 'Pericyte.rds'\n",
       "7. 'Smooth muscle cell.rds'\n",
       "\n",
       "\n"
      ],
      "text/plain": [
       "[1] \"Endothelial cell.rds\"   \"Fibroblast.rds\"         \"Lymphocyte.rds\"        \n",
       "[4] \"Myelocyte.rds\"          \"Neuron.rds\"             \"Pericyte.rds\"          \n",
       "[7] \"Smooth muscle cell.rds\""
      ]
     },
     "metadata": {},
     "output_type": "display_data"
    }
   ],
   "source": [
    "file_list"
   ]
  },
  {
   "cell_type": "code",
   "execution_count": 9,
   "metadata": {},
   "outputs": [],
   "source": [
    "for(f in file_list){\n",
    "    obj <-readRDS(paste0(\"/stor/public/chenyx/HHCAd/cell_type_organized_fetal/\",f))\n",
    "    if (dim(obj)[2]>2000){\n",
    "    obj <- subset(obj, subset = cell_id %in% obj$cell_id[sample(1:dim(obj)[2],2000)])\n",
    "    }\n",
    "    obj_merge <- merge(obj_merge,obj)\n",
    "}"
   ]
  },
  {
   "cell_type": "code",
   "execution_count": 10,
   "metadata": {},
   "outputs": [
    {
     "data": {
      "text/plain": [
       "\n",
       "         Adipocyte Cardiomyocyte cell   Endothelial cell         Fibroblast \n",
       "              1891               2000               2000               2000 \n",
       "        Lymphocyte          Myelocyte             Neuron           Pericyte \n",
       "              1406               1558                958                355 \n",
       "Smooth muscle cell \n",
       "              2000 "
      ]
     },
     "metadata": {},
     "output_type": "display_data"
    }
   ],
   "source": [
    "table(obj_merge$cell_type)"
   ]
  },
  {
   "cell_type": "code",
   "execution_count": 11,
   "metadata": {},
   "outputs": [],
   "source": [
    "saveRDS(obj_merge,\"/stor/public/chenyx/HHCAd/cell_type_organized_fetal/ForDEG.rds\")"
   ]
  },
  {
   "cell_type": "markdown",
   "metadata": {},
   "source": [
    "# prepare data"
   ]
  },
  {
   "cell_type": "code",
   "execution_count": 12,
   "metadata": {},
   "outputs": [],
   "source": [
    "obj_merge <- readRDS(\"/stor/public/chenyx/HHCAd/cell_type_organized_fetal/ForDEG.rds\")"
   ]
  },
  {
   "cell_type": "code",
   "execution_count": 13,
   "metadata": {},
   "outputs": [],
   "source": [
    "df <- as.data.frame(as.matrix(obj_merge@assays$RNA@data))"
   ]
  },
  {
   "cell_type": "code",
   "execution_count": 14,
   "metadata": {},
   "outputs": [],
   "source": [
    "df <- df[!rowSums(df)==0,]"
   ]
  },
  {
   "cell_type": "code",
   "execution_count": 15,
   "metadata": {},
   "outputs": [],
   "source": [
    "label <- obj_merge$cell_type"
   ]
  },
  {
   "cell_type": "code",
   "execution_count": 16,
   "metadata": {},
   "outputs": [],
   "source": [
    "df <- df[,!label==\"NA\"]\n",
    "label <- label[!label==\"NA\"]"
   ]
  },
  {
   "cell_type": "code",
   "execution_count": 17,
   "metadata": {},
   "outputs": [
    {
     "data": {
      "text/html": [
       "<style>\n",
       ".list-inline {list-style: none; margin:0; padding: 0}\n",
       ".list-inline>li {display: inline-block}\n",
       ".list-inline>li:not(:last-child)::after {content: \"\\00b7\"; padding: 0 .5ex}\n",
       "</style>\n",
       "<ol class=list-inline><li>22912</li><li>14168</li></ol>\n"
      ],
      "text/latex": [
       "\\begin{enumerate*}\n",
       "\\item 22912\n",
       "\\item 14168\n",
       "\\end{enumerate*}\n"
      ],
      "text/markdown": [
       "1. 22912\n",
       "2. 14168\n",
       "\n",
       "\n"
      ],
      "text/plain": [
       "[1] 22912 14168"
      ]
     },
     "metadata": {},
     "output_type": "display_data"
    }
   ],
   "source": [
    "dim(df)"
   ]
  },
  {
   "cell_type": "markdown",
   "metadata": {},
   "source": [
    "# build Obj"
   ]
  },
  {
   "cell_type": "code",
   "execution_count": 18,
   "metadata": {},
   "outputs": [],
   "source": [
    "obj <- CreateSeuratObject(counts = df,min.cells = 0,min.features = 0)"
   ]
  },
  {
   "cell_type": "code",
   "execution_count": 19,
   "metadata": {},
   "outputs": [],
   "source": [
    "obj$cell_type <- label"
   ]
  },
  {
   "cell_type": "code",
   "execution_count": 20,
   "metadata": {},
   "outputs": [
    {
     "name": "stderr",
     "output_type": "stream",
     "text": [
      "Centering and scaling data matrix\n",
      "\n"
     ]
    }
   ],
   "source": [
    "obj <- NormalizeData(obj, normalization.method = \"LogNormalize\", scale.factor = 10000)\n",
    "obj <- ScaleData(obj)"
   ]
  },
  {
   "cell_type": "code",
   "execution_count": 21,
   "metadata": {},
   "outputs": [],
   "source": [
    "Idents(obj) <- label"
   ]
  },
  {
   "cell_type": "code",
   "execution_count": 22,
   "metadata": {},
   "outputs": [
    {
     "name": "stderr",
     "output_type": "stream",
     "text": [
      "Calculating cluster Adipocyte\n",
      "\n",
      "Calculating cluster Cardiomyocyte cell\n",
      "\n",
      "Calculating cluster Endothelial cell\n",
      "\n",
      "Calculating cluster Fibroblast\n",
      "\n",
      "Calculating cluster Lymphocyte\n",
      "\n",
      "Calculating cluster Myelocyte\n",
      "\n",
      "Calculating cluster Neuron\n",
      "\n",
      "Calculating cluster Pericyte\n",
      "\n",
      "Calculating cluster Smooth muscle cell\n",
      "\n"
     ]
    }
   ],
   "source": [
    "markers <- FindAllMarkers(obj,only.pos = TRUE,min.pct = 0.25, logfc.threshold = 0.25)"
   ]
  },
  {
   "cell_type": "code",
   "execution_count": 23,
   "metadata": {},
   "outputs": [],
   "source": [
    "ct_list <- unique(markers$cluster)"
   ]
  },
  {
   "cell_type": "code",
   "execution_count": 24,
   "metadata": {},
   "outputs": [],
   "source": [
    "for(ct in ct_list){\n",
    "    write.csv(markers[markers$cluster==ct,],paste0(\"/stor/public/chenyx/HHCAd/DEGene_cell_type_fetal/\",ct,\".csv\"))\n",
    "}"
   ]
  }
 ],
 "metadata": {
  "kernelspec": {
   "display_name": "R4.0",
   "language": "R",
   "name": "ir3"
  },
  "language_info": {
   "codemirror_mode": "r",
   "file_extension": ".r",
   "mimetype": "text/x-r-source",
   "name": "R",
   "pygments_lexer": "r",
   "version": "4.0.3"
  }
 },
 "nbformat": 4,
 "nbformat_minor": 4
}
