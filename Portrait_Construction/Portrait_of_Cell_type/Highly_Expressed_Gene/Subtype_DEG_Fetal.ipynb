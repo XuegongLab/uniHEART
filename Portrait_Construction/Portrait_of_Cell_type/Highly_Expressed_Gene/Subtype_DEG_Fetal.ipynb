{
 "cells": [
  {
   "cell_type": "code",
   "execution_count": 5,
   "metadata": {},
   "outputs": [],
   "source": [
    "library(clusterProfiler)\n",
    "library(org.Hs.eg.db)\n",
    "library(stringr)\n",
    "library(edgeR)\n",
    "library(Seurat)"
   ]
  },
  {
   "cell_type": "code",
   "execution_count": 6,
   "metadata": {},
   "outputs": [],
   "source": [
    "as_matrix <- function(mat){\n",
    "  \n",
    "  tmp <- matrix(data=0L, nrow = mat@Dim[1], ncol = mat@Dim[2])\n",
    "  \n",
    "  row_pos <- mat@i+1\n",
    "  col_pos <- findInterval(seq(mat@x)-1,mat@p[-1])+1\n",
    "  val <- mat@x\n",
    "  \n",
    "  for (i in seq_along(val)){\n",
    "    tmp[row_pos[i],col_pos[i]] <- val[i]\n",
    "  }\n",
    "  \n",
    "  row.names(tmp) <- mat@Dimnames[[1]]\n",
    "  colnames(tmp) <- mat@Dimnames[[2]]\n",
    "  return(tmp)\n",
    "}"
   ]
  },
  {
   "cell_type": "markdown",
   "metadata": {},
   "source": [
    "# CM"
   ]
  },
  {
   "cell_type": "code",
   "execution_count": 3,
   "metadata": {},
   "outputs": [],
   "source": [
    "obj <- readRDS(\"/stor/public/chenyx/HHCAd/cell_type_organized_fetal/Cardiomyocyte cell.rds\")"
   ]
  },
  {
   "cell_type": "code",
   "execution_count": 4,
   "metadata": {},
   "outputs": [
    {
     "data": {
      "text/plain": [
       "\n",
       "                  Aorta Interventricular septum              Left atria \n",
       "                      1                      12                     411 \n",
       "         Left ventricle            Mitral valve                      NA \n",
       "                    392                       1                   71406 \n",
       "       Pulmonary artery             Right atria         Right ventricle \n",
       "                      2                     436                     341 "
      ]
     },
     "metadata": {},
     "output_type": "display_data"
    }
   ],
   "source": [
    "table(obj$subregion)"
   ]
  },
  {
   "cell_type": "code",
   "execution_count": 102,
   "metadata": {},
   "outputs": [],
   "source": [
    "subregions <- c('Left ventricle','Interventricular septum','Right ventricle','Left atria','Right atria','Aorta','Pulmonary artery','Mitral valve')"
   ]
  },
  {
   "cell_type": "code",
   "execution_count": 103,
   "metadata": {},
   "outputs": [
    {
     "data": {
      "text/html": [
       "<style>\n",
       ".list-inline {list-style: none; margin:0; padding: 0}\n",
       ".list-inline>li {display: inline-block}\n",
       ".list-inline>li:not(:last-child)::after {content: \"\\00b7\"; padding: 0 .5ex}\n",
       "</style>\n",
       "<ol class=list-inline><li>43878</li><li>24</li></ol>\n"
      ],
      "text/latex": [
       "\\begin{enumerate*}\n",
       "\\item 43878\n",
       "\\item 24\n",
       "\\end{enumerate*}\n"
      ],
      "text/markdown": [
       "1. 43878\n",
       "2. 24\n",
       "\n",
       "\n"
      ],
      "text/plain": [
       "[1] 43878    24"
      ]
     },
     "metadata": {},
     "output_type": "display_data"
    }
   ],
   "source": [
    "dim(df)"
   ]
  },
  {
   "cell_type": "code",
   "execution_count": 104,
   "metadata": {},
   "outputs": [],
   "source": [
    "sr = 'Left ventricle'\n",
    "df <- obj@assays$RNA@data[,obj$subregion==sr]\n",
    "if(dim(df)[2] > 2000){\n",
    "    df_u <- df[,sample(1:dim(df)[2],2000)]\n",
    "}else{\n",
    "    df_u <- df\n",
    "}\n",
    "row.names(df_u) <- row.names(df)\n",
    "colnames(df_u) <- paste0(\"LV_\",1:dim(df_u)[2])"
   ]
  },
  {
   "cell_type": "code",
   "execution_count": 105,
   "metadata": {},
   "outputs": [],
   "source": [
    "sr = 'Interventricular septum'\n",
    "df <- obj@assays$RNA@data[,obj$subregion==sr]\n",
    "if(dim(df)[2] > 2000){\n",
    "    df_u2 <- df[,sample(1:dim(df)[2],2000)]\n",
    "}else{\n",
    "    df_u2 <- df\n",
    "}\n",
    "row.names(df_u2) <- row.names(df)\n",
    "colnames(df_u2) <- paste0(\"IVS_\",1:dim(df_u2)[2])"
   ]
  },
  {
   "cell_type": "code",
   "execution_count": 106,
   "metadata": {},
   "outputs": [],
   "source": [
    "df_merge <- cbind(df_u ,df_u2)"
   ]
  },
  {
   "cell_type": "code",
   "execution_count": 107,
   "metadata": {},
   "outputs": [],
   "source": [
    "for(i in 3:length(subregions)){\n",
    "    sr <- subregions[i]\n",
    "    df <- obj@assays$RNA@data[,obj$subregion==sr]\n",
    "    df <- as.data.frame(df)\n",
    "    if(dim(df)[2] > 2000){\n",
    "        df_u <- df[,sample(1:dim(df)[2],2000)]\n",
    "    }else{\n",
    "        df_u <- df\n",
    "    }\n",
    "\n",
    "    row.names(df_u) <- row.names(df)\n",
    "    colnames(df_u) <- paste0(c(\"LV_\",\"IVS_\",\"RV_\",\"LA_\",\"RA_\",\"AO_\",\"PA_\",\"MV_\")[i],1:dim(df_u)[2])\n",
    "    \n",
    "    df_merge <- cbind(df_merge, df_u)\n",
    "}"
   ]
  },
  {
   "cell_type": "code",
   "execution_count": 108,
   "metadata": {},
   "outputs": [],
   "source": [
    "saveRDS(df_merge,\"/stor/public/chenyx/HHCAd/cell_type_organized_fetal/4DEG/Cardiomyocyte.rds\")"
   ]
  },
  {
   "cell_type": "code",
   "execution_count": null,
   "metadata": {},
   "outputs": [],
   "source": []
  },
  {
   "cell_type": "code",
   "execution_count": 34,
   "metadata": {},
   "outputs": [],
   "source": [
    "df_merge <- readRDS(\"/stor/public/chenyx/HHCAd/cell_type_organized_fetal/4DEG/Cardiomyocyte.rds\")"
   ]
  },
  {
   "cell_type": "code",
   "execution_count": 70,
   "metadata": {},
   "outputs": [],
   "source": [
    "df_merge <- df_merge[!rowSums(df_merge)==0,]\n",
    "df_merge <- exp(df_merge)-1"
   ]
  },
  {
   "cell_type": "code",
   "execution_count": 71,
   "metadata": {},
   "outputs": [],
   "source": [
    "label <- as.character(lapply(colnames(df_merge),function(x){strsplit(x,\"_\")[[1]][1]}))"
   ]
  },
  {
   "cell_type": "code",
   "execution_count": 74,
   "metadata": {},
   "outputs": [],
   "source": [
    "obj <- CreateSeuratObject(counts = df_merge,min.cells = 0,min.features = 0)\n",
    "obj$subregion <- label"
   ]
  },
  {
   "cell_type": "code",
   "execution_count": 75,
   "metadata": {},
   "outputs": [
    {
     "data": {
      "text/plain": [
       "\n",
       " AO IVS  LA  LV  MV  PA  RA  RV \n",
       "  1  12 411 392   1   2 436 341 "
      ]
     },
     "metadata": {},
     "output_type": "display_data"
    }
   ],
   "source": [
    "table(obj$subregion)"
   ]
  },
  {
   "cell_type": "code",
   "execution_count": 76,
   "metadata": {},
   "outputs": [
    {
     "name": "stderr",
     "output_type": "stream",
     "text": [
      "Centering and scaling data matrix\n",
      "\n"
     ]
    }
   ],
   "source": [
    "obj <- NormalizeData(obj, normalization.method = \"LogNormalize\", scale.factor = 10000)\n",
    "obj <- ScaleData(obj)"
   ]
  },
  {
   "cell_type": "code",
   "execution_count": 77,
   "metadata": {},
   "outputs": [
    {
     "name": "stderr",
     "output_type": "stream",
     "text": [
      "Calculating cluster AO\n",
      "\n",
      "Calculating cluster IVS\n",
      "\n",
      "Calculating cluster LA\n",
      "\n",
      "Calculating cluster LV\n",
      "\n",
      "Calculating cluster MV\n",
      "\n",
      "Calculating cluster PA\n",
      "\n",
      "Calculating cluster RA\n",
      "\n",
      "Calculating cluster RV\n",
      "\n"
     ]
    }
   ],
   "source": [
    "markers <- FindAllMarkers(obj,only.pos = TRUE,min.pct = 0.25, logfc.threshold = 0.25)"
   ]
  },
  {
   "cell_type": "code",
   "execution_count": 78,
   "metadata": {},
   "outputs": [],
   "source": [
    "write.csv(markers,paste0(\"/stor/public/chenyx/HHCAd/DEGene_subtype_fetal/CM.csv\"))"
   ]
  },
  {
   "cell_type": "code",
   "execution_count": null,
   "metadata": {},
   "outputs": [],
   "source": []
  },
  {
   "cell_type": "markdown",
   "metadata": {},
   "source": [
    "# EC"
   ]
  },
  {
   "cell_type": "code",
   "execution_count": 7,
   "metadata": {},
   "outputs": [],
   "source": [
    "obj <- readRDS(\"/stor/public/chenyx/HHCAd/cell_type_organized_fetal/Endothelial cell.rds\")"
   ]
  },
  {
   "cell_type": "code",
   "execution_count": 8,
   "metadata": {},
   "outputs": [
    {
     "data": {
      "text/plain": [
       "\n",
       "                  Aorta            Aortic valve Interventricular septum \n",
       "                      1                       9                       8 \n",
       "             Left atria          Left ventricle            Mitral valve \n",
       "                    114                      99                      21 \n",
       "                     NA        Pulmonary artery         Pulmonary valve \n",
       "                  15866                       2                      12 \n",
       "            Right atria         Right ventricle         Tricuspid valve \n",
       "                    120                      69                      24 \n",
       "              Ventricle \n",
       "                      7 "
      ]
     },
     "metadata": {},
     "output_type": "display_data"
    }
   ],
   "source": [
    "table(obj$subregion)"
   ]
  },
  {
   "cell_type": "code",
   "execution_count": 9,
   "metadata": {},
   "outputs": [],
   "source": [
    "subregions <- c('Left ventricle','Interventricular septum','Right ventricle','Left atria','Right atria','Aorta','Pulmonary artery','Mitral valve',\"Tricuspid valve\")"
   ]
  },
  {
   "cell_type": "code",
   "execution_count": 10,
   "metadata": {},
   "outputs": [],
   "source": [
    "sr = 'Left ventricle'\n",
    "df <- obj@assays$RNA@data[,obj$subregion==sr]\n",
    "if(dim(df)[2] > 2000){\n",
    "    df_u <- df[,sample(1:dim(df)[2],2000)]\n",
    "}else{\n",
    "    df_u <- df\n",
    "}\n",
    "row.names(df_u) <- row.names(df)\n",
    "colnames(df_u) <- paste0(\"LV_\",1:dim(df_u)[2])"
   ]
  },
  {
   "cell_type": "code",
   "execution_count": 11,
   "metadata": {},
   "outputs": [],
   "source": [
    "sr = 'Interventricular septum'\n",
    "df <- obj@assays$RNA@data[,obj$subregion==sr]\n",
    "if(dim(df)[2] > 2000){\n",
    "    df_u2 <- df[,sample(1:dim(df)[2],2000)]\n",
    "}else{\n",
    "    df_u2 <- df\n",
    "}\n",
    "row.names(df_u2) <- row.names(df)\n",
    "colnames(df_u2) <- paste0(\"IVS_\",1:dim(df_u2)[2])"
   ]
  },
  {
   "cell_type": "code",
   "execution_count": 12,
   "metadata": {},
   "outputs": [],
   "source": [
    "df_merge <- cbind(df_u ,df_u2)"
   ]
  },
  {
   "cell_type": "code",
   "execution_count": 13,
   "metadata": {},
   "outputs": [],
   "source": [
    "for(i in 3:length(subregions)){\n",
    "    sr <- subregions[i]\n",
    "    df <- obj@assays$RNA@data[,obj$subregion==sr]\n",
    "    df <- as.data.frame(df)\n",
    "    if(dim(df)[2] > 2000){\n",
    "        df_u <- df[,sample(1:dim(df)[2],2000)]\n",
    "    }else{\n",
    "        df_u <- df\n",
    "    }\n",
    "\n",
    "    row.names(df_u) <- row.names(df)\n",
    "    colnames(df_u) <- paste0(c(\"LV_\",\"IVS_\",\"RV_\",\"LA_\",\"RA_\",\"AO_\",\"PA_\",\"MV_\",\"TV_\")[i],1:dim(df_u)[2])\n",
    "    \n",
    "    df_merge <- cbind(df_merge, df_u)\n",
    "}"
   ]
  },
  {
   "cell_type": "code",
   "execution_count": 14,
   "metadata": {},
   "outputs": [],
   "source": [
    "saveRDS(df_merge,\"/stor/public/chenyx/HHCAd/cell_type_organized_fetal/4DEG/Endothelial cell.rds\")"
   ]
  },
  {
   "cell_type": "code",
   "execution_count": null,
   "metadata": {},
   "outputs": [],
   "source": []
  },
  {
   "cell_type": "code",
   "execution_count": 15,
   "metadata": {},
   "outputs": [],
   "source": [
    "df_merge <- readRDS(\"/stor/public/chenyx/HHCAd/cell_type_organized_fetal/4DEG/Endothelial cell.rds\")"
   ]
  },
  {
   "cell_type": "code",
   "execution_count": 16,
   "metadata": {},
   "outputs": [],
   "source": [
    "df_merge <- df_merge[!rowSums(df_merge)==0,]\n",
    "df_merge <- exp(df_merge)-1"
   ]
  },
  {
   "cell_type": "code",
   "execution_count": 17,
   "metadata": {},
   "outputs": [],
   "source": [
    "label <- as.character(lapply(colnames(df_merge),function(x){strsplit(x,\"_\")[[1]][1]}))"
   ]
  },
  {
   "cell_type": "code",
   "execution_count": 18,
   "metadata": {},
   "outputs": [],
   "source": [
    "obj <- CreateSeuratObject(counts = df_merge,min.cells = 0,min.features = 0)\n",
    "obj$subregion <- label"
   ]
  },
  {
   "cell_type": "code",
   "execution_count": 19,
   "metadata": {},
   "outputs": [
    {
     "data": {
      "text/plain": [
       "\n",
       " AO IVS  LA  LV  MV  PA  RA  RV  TV \n",
       "  1   8 114  99  21   2 120  69  24 "
      ]
     },
     "metadata": {},
     "output_type": "display_data"
    }
   ],
   "source": [
    "table(obj$subregion)"
   ]
  },
  {
   "cell_type": "code",
   "execution_count": 20,
   "metadata": {},
   "outputs": [
    {
     "name": "stderr",
     "output_type": "stream",
     "text": [
      "Centering and scaling data matrix\n",
      "\n"
     ]
    }
   ],
   "source": [
    "obj <- NormalizeData(obj, normalization.method = \"LogNormalize\", scale.factor = 10000)\n",
    "obj <- ScaleData(obj)"
   ]
  },
  {
   "cell_type": "code",
   "execution_count": 21,
   "metadata": {},
   "outputs": [
    {
     "name": "stderr",
     "output_type": "stream",
     "text": [
      "Calculating cluster AO\n",
      "\n",
      "Calculating cluster IVS\n",
      "\n",
      "Calculating cluster LA\n",
      "\n",
      "Calculating cluster LV\n",
      "\n",
      "Calculating cluster MV\n",
      "\n",
      "Calculating cluster PA\n",
      "\n",
      "Calculating cluster RA\n",
      "\n",
      "Calculating cluster RV\n",
      "\n",
      "Calculating cluster TV\n",
      "\n"
     ]
    }
   ],
   "source": [
    "markers <- FindAllMarkers(obj,only.pos = TRUE,min.pct = 0.25, logfc.threshold = 0.25)"
   ]
  },
  {
   "cell_type": "code",
   "execution_count": 22,
   "metadata": {},
   "outputs": [],
   "source": [
    "write.csv(markers,paste0(\"/stor/public/chenyx/HHCAd/DEGene_subtype_fetal/EC.csv\"))"
   ]
  },
  {
   "cell_type": "markdown",
   "metadata": {},
   "source": [
    "# FB"
   ]
  },
  {
   "cell_type": "code",
   "execution_count": 109,
   "metadata": {},
   "outputs": [],
   "source": [
    "obj <- readRDS(\"/stor/public/chenyx/HHCAd/cell_type_organized_fetal/Fibroblast.rds\")"
   ]
  },
  {
   "cell_type": "code",
   "execution_count": 110,
   "metadata": {},
   "outputs": [
    {
     "data": {
      "text/plain": [
       "\n",
       "           Aortic valve Interventricular septum              Left atria \n",
       "                     96                      23                     149 \n",
       "         Left ventricle            Mitral valve                      NA \n",
       "                    192                      88                   15494 \n",
       "       Pulmonary artery         Pulmonary valve             Right atria \n",
       "                      3                      91                     204 \n",
       "        Right ventricle         Tricuspid valve               Ventricle \n",
       "                    262                      89                      12 "
      ]
     },
     "metadata": {},
     "output_type": "display_data"
    }
   ],
   "source": [
    "table(obj$subregion)"
   ]
  },
  {
   "cell_type": "code",
   "execution_count": 116,
   "metadata": {},
   "outputs": [],
   "source": [
    "subregions <- c('Left ventricle','Interventricular septum','Right ventricle','Left atria','Right atria','Pulmonary artery','Mitral valve',\"Tricuspid valve\")"
   ]
  },
  {
   "cell_type": "code",
   "execution_count": 117,
   "metadata": {},
   "outputs": [],
   "source": [
    "sr = 'Left ventricle'\n",
    "df <- obj@assays$RNA@data[,obj$subregion==sr]\n",
    "if(dim(df)[2] > 2000){\n",
    "    df_u <- df[,sample(1:dim(df)[2],2000)]\n",
    "}else{\n",
    "    df_u <- df\n",
    "}\n",
    "row.names(df_u) <- row.names(df)\n",
    "colnames(df_u) <- paste0(\"LV_\",1:dim(df_u)[2])"
   ]
  },
  {
   "cell_type": "code",
   "execution_count": 118,
   "metadata": {},
   "outputs": [],
   "source": [
    "sr = 'Interventricular septum'\n",
    "df <- obj@assays$RNA@data[,obj$subregion==sr]\n",
    "if(dim(df)[2] > 2000){\n",
    "    df_u2 <- df[,sample(1:dim(df)[2],2000)]\n",
    "}else{\n",
    "    df_u2 <- df\n",
    "}\n",
    "row.names(df_u2) <- row.names(df)\n",
    "colnames(df_u2) <- paste0(\"IVS_\",1:dim(df_u2)[2])"
   ]
  },
  {
   "cell_type": "code",
   "execution_count": 119,
   "metadata": {},
   "outputs": [],
   "source": [
    "df_merge <- cbind(df_u ,df_u2)"
   ]
  },
  {
   "cell_type": "code",
   "execution_count": 120,
   "metadata": {},
   "outputs": [],
   "source": [
    "for(i in 3:length(subregions)){\n",
    "    sr <- subregions[i]\n",
    "    df <- obj@assays$RNA@data[,obj$subregion==sr]\n",
    "    df <- as.data.frame(df)\n",
    "    if(dim(df)[2] > 2000){\n",
    "        df_u <- df[,sample(1:dim(df)[2],2000)]\n",
    "    }else{\n",
    "        df_u <- df\n",
    "    }\n",
    "\n",
    "    row.names(df_u) <- row.names(df)\n",
    "    colnames(df_u) <- paste0(c(\"LV_\",\"IVS_\",\"RV_\",\"LA_\",\"RA_\",\"PA_\",\"MV_\",\"TV_\")[i],1:dim(df_u)[2])\n",
    "    \n",
    "    df_merge <- cbind(df_merge, df_u)\n",
    "}"
   ]
  },
  {
   "cell_type": "code",
   "execution_count": 121,
   "metadata": {},
   "outputs": [],
   "source": [
    "saveRDS(df_merge,\"/stor/public/chenyx/HHCAd/cell_type_organized_fetal/4DEG/Fibroblast.rds\")"
   ]
  },
  {
   "cell_type": "code",
   "execution_count": null,
   "metadata": {},
   "outputs": [],
   "source": []
  },
  {
   "cell_type": "code",
   "execution_count": 122,
   "metadata": {},
   "outputs": [],
   "source": [
    "df_merge <- readRDS(\"/stor/public/chenyx/HHCAd/cell_type_organized_fetal/4DEG/Fibroblast.rds\")"
   ]
  },
  {
   "cell_type": "code",
   "execution_count": 123,
   "metadata": {},
   "outputs": [],
   "source": [
    "df_merge <- df_merge[!rowSums(df_merge)==0,]\n",
    "df_merge <- exp(df_merge)-1"
   ]
  },
  {
   "cell_type": "code",
   "execution_count": 124,
   "metadata": {},
   "outputs": [],
   "source": [
    "label <- as.character(lapply(colnames(df_merge),function(x){strsplit(x,\"_\")[[1]][1]}))"
   ]
  },
  {
   "cell_type": "code",
   "execution_count": 125,
   "metadata": {},
   "outputs": [],
   "source": [
    "obj <- CreateSeuratObject(counts = df_merge,min.cells = 0,min.features = 0)\n",
    "obj$subregion <- label"
   ]
  },
  {
   "cell_type": "code",
   "execution_count": 126,
   "metadata": {},
   "outputs": [
    {
     "data": {
      "text/plain": [
       "\n",
       "IVS  LA  LV  MV  PA  RA  RV  TV \n",
       " 23 149 192  88   3 204 262  89 "
      ]
     },
     "metadata": {},
     "output_type": "display_data"
    }
   ],
   "source": [
    "table(obj$subregion)"
   ]
  },
  {
   "cell_type": "code",
   "execution_count": 127,
   "metadata": {},
   "outputs": [
    {
     "name": "stderr",
     "output_type": "stream",
     "text": [
      "Centering and scaling data matrix\n",
      "\n"
     ]
    }
   ],
   "source": [
    "obj <- NormalizeData(obj, normalization.method = \"LogNormalize\", scale.factor = 10000)\n",
    "obj <- ScaleData(obj)"
   ]
  },
  {
   "cell_type": "code",
   "execution_count": 128,
   "metadata": {},
   "outputs": [
    {
     "name": "stderr",
     "output_type": "stream",
     "text": [
      "Calculating cluster IVS\n",
      "\n",
      "Calculating cluster LA\n",
      "\n",
      "Calculating cluster LV\n",
      "\n",
      "Calculating cluster MV\n",
      "\n",
      "Calculating cluster PA\n",
      "\n",
      "Calculating cluster RA\n",
      "\n",
      "Calculating cluster RV\n",
      "\n",
      "Calculating cluster TV\n",
      "\n"
     ]
    }
   ],
   "source": [
    "markers <- FindAllMarkers(obj,only.pos = TRUE,min.pct = 0.25, logfc.threshold = 0.25)"
   ]
  },
  {
   "cell_type": "code",
   "execution_count": 129,
   "metadata": {},
   "outputs": [],
   "source": [
    "write.csv(markers,paste0(\"/stor/public/chenyx/HHCAd/DEGene_subtype_fetal/FB.csv\"))"
   ]
  },
  {
   "cell_type": "markdown",
   "metadata": {},
   "source": [
    "# Lymphocyte"
   ]
  },
  {
   "cell_type": "code",
   "execution_count": 130,
   "metadata": {},
   "outputs": [],
   "source": [
    "obj <- readRDS(\"/stor/public/chenyx/HHCAd/cell_type_organized_fetal/Lymphocyte.rds\")"
   ]
  },
  {
   "cell_type": "code",
   "execution_count": 131,
   "metadata": {},
   "outputs": [
    {
     "data": {
      "text/plain": [
       "\n",
       "           Aorta     Aortic valve       Left atria   Left ventricle \n",
       "               1                1               13               20 \n",
       "              NA Pulmonary artery  Pulmonary valve      Right atria \n",
       "            1348                2                1               11 \n",
       " Right ventricle  Tricuspid valve \n",
       "               8                1 "
      ]
     },
     "metadata": {},
     "output_type": "display_data"
    }
   ],
   "source": [
    "table(obj$subregion)"
   ]
  },
  {
   "cell_type": "code",
   "execution_count": 132,
   "metadata": {},
   "outputs": [],
   "source": [
    "subregions <- c('Left ventricle','Right ventricle','Left atria','Right atria','Aorta','Pulmonary artery',\"Tricuspid valve\")"
   ]
  },
  {
   "cell_type": "code",
   "execution_count": 133,
   "metadata": {},
   "outputs": [],
   "source": [
    "sr = 'Left ventricle'\n",
    "df <- obj@assays$RNA@data[,obj$subregion==sr]\n",
    "if(dim(df)[2] > 2000){\n",
    "    df_u <- df[,sample(1:dim(df)[2],2000)]\n",
    "}else{\n",
    "    df_u <- df\n",
    "}\n",
    "row.names(df_u) <- row.names(df)\n",
    "colnames(df_u) <- paste0(\"LV_\",1:dim(df_u)[2])"
   ]
  },
  {
   "cell_type": "code",
   "execution_count": 135,
   "metadata": {},
   "outputs": [],
   "source": [
    "sr = 'Right ventricle'\n",
    "df <- obj@assays$RNA@data[,obj$subregion==sr]\n",
    "if(dim(df)[2] > 2000){\n",
    "    df_u2 <- df[,sample(1:dim(df)[2],2000)]\n",
    "}else{\n",
    "    df_u2 <- df\n",
    "}\n",
    "row.names(df_u2) <- row.names(df)\n",
    "colnames(df_u2) <- paste0(\"RV_\",1:dim(df_u2)[2])"
   ]
  },
  {
   "cell_type": "code",
   "execution_count": 136,
   "metadata": {},
   "outputs": [],
   "source": [
    "df_merge <- cbind(df_u ,df_u2)"
   ]
  },
  {
   "cell_type": "code",
   "execution_count": 137,
   "metadata": {},
   "outputs": [],
   "source": [
    "for(i in 3:length(subregions)){\n",
    "    sr <- subregions[i]\n",
    "    df <- obj@assays$RNA@data[,obj$subregion==sr]\n",
    "    df <- as.data.frame(df)\n",
    "    if(dim(df)[2] > 2000){\n",
    "        df_u <- df[,sample(1:dim(df)[2],2000)]\n",
    "    }else{\n",
    "        df_u <- df\n",
    "    }\n",
    "\n",
    "    row.names(df_u) <- row.names(df)\n",
    "    colnames(df_u) <- paste0(c(\"LV_\",\"RV_\",\"LA_\",\"RA_\",\"AO_\",\"PA_\",\"TV_\")[i],1:dim(df_u)[2])\n",
    "    \n",
    "    df_merge <- cbind(df_merge, df_u)\n",
    "}"
   ]
  },
  {
   "cell_type": "code",
   "execution_count": 138,
   "metadata": {},
   "outputs": [],
   "source": [
    "saveRDS(df_merge,\"/stor/public/chenyx/HHCAd/cell_type_organized_fetal/4DEG/Lymphocyte.rds\")"
   ]
  },
  {
   "cell_type": "code",
   "execution_count": null,
   "metadata": {},
   "outputs": [],
   "source": []
  },
  {
   "cell_type": "code",
   "execution_count": 139,
   "metadata": {},
   "outputs": [],
   "source": [
    "df_merge <- readRDS(\"/stor/public/chenyx/HHCAd/cell_type_organized_fetal/4DEG/Lymphocyte.rds\")"
   ]
  },
  {
   "cell_type": "code",
   "execution_count": 140,
   "metadata": {},
   "outputs": [],
   "source": [
    "df_merge <- df_merge[!rowSums(df_merge)==0,]\n",
    "df_merge <- exp(df_merge)-1"
   ]
  },
  {
   "cell_type": "code",
   "execution_count": 141,
   "metadata": {},
   "outputs": [],
   "source": [
    "label <- as.character(lapply(colnames(df_merge),function(x){strsplit(x,\"_\")[[1]][1]}))"
   ]
  },
  {
   "cell_type": "code",
   "execution_count": 142,
   "metadata": {},
   "outputs": [],
   "source": [
    "obj <- CreateSeuratObject(counts = df_merge,min.cells = 0,min.features = 0)\n",
    "obj$subregion <- label"
   ]
  },
  {
   "cell_type": "code",
   "execution_count": 143,
   "metadata": {},
   "outputs": [
    {
     "data": {
      "text/plain": [
       "\n",
       "AO LA LV PA RA RV TV \n",
       " 1 13 20  2 11  8  1 "
      ]
     },
     "metadata": {},
     "output_type": "display_data"
    }
   ],
   "source": [
    "table(obj$subregion)"
   ]
  },
  {
   "cell_type": "code",
   "execution_count": 144,
   "metadata": {},
   "outputs": [
    {
     "name": "stderr",
     "output_type": "stream",
     "text": [
      "Centering and scaling data matrix\n",
      "\n"
     ]
    }
   ],
   "source": [
    "obj <- NormalizeData(obj, normalization.method = \"LogNormalize\", scale.factor = 10000)\n",
    "obj <- ScaleData(obj)"
   ]
  },
  {
   "cell_type": "code",
   "execution_count": 145,
   "metadata": {},
   "outputs": [
    {
     "name": "stderr",
     "output_type": "stream",
     "text": [
      "Calculating cluster AO\n",
      "\n",
      "Calculating cluster LA\n",
      "\n",
      "Calculating cluster LV\n",
      "\n",
      "Calculating cluster PA\n",
      "\n",
      "Calculating cluster RA\n",
      "\n",
      "Calculating cluster RV\n",
      "\n",
      "Calculating cluster TV\n",
      "\n"
     ]
    }
   ],
   "source": [
    "markers <- FindAllMarkers(obj,only.pos = TRUE,min.pct = 0.25, logfc.threshold = 0.25)"
   ]
  },
  {
   "cell_type": "code",
   "execution_count": 146,
   "metadata": {},
   "outputs": [],
   "source": [
    "write.csv(markers,paste0(\"/stor/public/chenyx/HHCAd/DEGene_subtype_fetal/Lympho.csv\"))"
   ]
  },
  {
   "cell_type": "markdown",
   "metadata": {},
   "source": [
    "# Myelocyte"
   ]
  },
  {
   "cell_type": "code",
   "execution_count": 147,
   "metadata": {},
   "outputs": [],
   "source": [
    "obj <- readRDS(\"/stor/public/chenyx/HHCAd/cell_type_organized_fetal/Myelocyte.rds\")"
   ]
  },
  {
   "cell_type": "code",
   "execution_count": 148,
   "metadata": {},
   "outputs": [
    {
     "data": {
      "text/plain": [
       "\n",
       "                  Aorta            Aortic valve Interventricular septum \n",
       "                      5                      10                       8 \n",
       "             Left atria          Left ventricle            Mitral valve \n",
       "                     31                      55                      13 \n",
       "                     NA        Pulmonary artery         Pulmonary valve \n",
       "                   1325                       4                      15 \n",
       "            Right atria         Right ventricle         Tricuspid valve \n",
       "                     32                      41                      17 \n",
       "              Ventricle \n",
       "                      2 "
      ]
     },
     "metadata": {},
     "output_type": "display_data"
    }
   ],
   "source": [
    "table(obj$subregion)"
   ]
  },
  {
   "cell_type": "code",
   "execution_count": 149,
   "metadata": {},
   "outputs": [],
   "source": [
    "subregions <- c('Left ventricle','Interventricular septum','Right ventricle','Left atria','Right atria','Aorta','Pulmonary artery','Mitral valve',\"Tricuspid valve\")\n",
    "pres <- c(\"LV_\",\"IVS_\",\"RV_\",\"LA_\",\"RA_\",\"AO_\",\"PA_\",\"MV_\",\"TV_\")"
   ]
  },
  {
   "cell_type": "code",
   "execution_count": 150,
   "metadata": {},
   "outputs": [],
   "source": [
    "pres <- pres[subregions%in% unique(obj$subregion)]\n",
    "subregions <- subregions[subregions%in% unique(obj$subregion)]"
   ]
  },
  {
   "cell_type": "code",
   "execution_count": null,
   "metadata": {},
   "outputs": [],
   "source": []
  },
  {
   "cell_type": "code",
   "execution_count": 151,
   "metadata": {},
   "outputs": [],
   "source": [
    "sr = subregions[1]\n",
    "df <- obj@assays$RNA@data[,obj$subregion==sr]\n",
    "if(dim(df)[2] > 2000){\n",
    "    df_u <- df[,sample(1:dim(df)[2],2000)]\n",
    "}else{\n",
    "    df_u <- df\n",
    "}\n",
    "row.names(df_u) <- row.names(df)\n",
    "colnames(df_u) <- paste0(pres[1],1:dim(df_u)[2])"
   ]
  },
  {
   "cell_type": "code",
   "execution_count": 152,
   "metadata": {},
   "outputs": [],
   "source": [
    "sr = subregions[2]\n",
    "df <- obj@assays$RNA@data[,obj$subregion==sr]\n",
    "if(dim(df)[2] > 2000){\n",
    "    df_u2 <- df[,sample(1:dim(df)[2],2000)]\n",
    "}else{\n",
    "    df_u2 <- df\n",
    "}\n",
    "row.names(df_u2) <- row.names(df)\n",
    "colnames(df_u2) <- paste0(pres[2],1:dim(df_u2)[2])"
   ]
  },
  {
   "cell_type": "code",
   "execution_count": 153,
   "metadata": {},
   "outputs": [],
   "source": [
    "df_merge <- cbind(df_u ,df_u2)"
   ]
  },
  {
   "cell_type": "code",
   "execution_count": 154,
   "metadata": {},
   "outputs": [],
   "source": [
    "for(i in 3:length(subregions)){\n",
    "    sr <- subregions[i]\n",
    "    df <- obj@assays$RNA@data[,obj$subregion==sr]\n",
    "    df <- as.data.frame(df)\n",
    "    if(dim(df)[2] > 2000){\n",
    "        df_u <- df[,sample(1:dim(df)[2],2000)]\n",
    "    }else{\n",
    "        df_u <- df\n",
    "    }\n",
    "\n",
    "    row.names(df_u) <- row.names(df)\n",
    "    colnames(df_u) <- paste0(pres[i],1:dim(df_u)[2])\n",
    "    \n",
    "    df_merge <- cbind(df_merge, df_u)\n",
    "}"
   ]
  },
  {
   "cell_type": "code",
   "execution_count": 155,
   "metadata": {},
   "outputs": [],
   "source": [
    "saveRDS(df_merge,\"/stor/public/chenyx/HHCAd/cell_type_organized_fetal/4DEG/Myelocyte.rds\")"
   ]
  },
  {
   "cell_type": "code",
   "execution_count": null,
   "metadata": {},
   "outputs": [],
   "source": []
  },
  {
   "cell_type": "code",
   "execution_count": 156,
   "metadata": {},
   "outputs": [],
   "source": [
    "df_merge <- readRDS(\"/stor/public/chenyx/HHCAd/cell_type_organized_fetal/4DEG/Myelocyte.rds\")"
   ]
  },
  {
   "cell_type": "code",
   "execution_count": 157,
   "metadata": {},
   "outputs": [],
   "source": [
    "df_merge <- df_merge[!rowSums(df_merge)==0,]\n",
    "df_merge <- exp(df_merge)-1"
   ]
  },
  {
   "cell_type": "code",
   "execution_count": 158,
   "metadata": {},
   "outputs": [],
   "source": [
    "label <- as.character(lapply(colnames(df_merge),function(x){strsplit(x,\"_\")[[1]][1]}))"
   ]
  },
  {
   "cell_type": "code",
   "execution_count": 159,
   "metadata": {},
   "outputs": [],
   "source": [
    "obj <- CreateSeuratObject(counts = df_merge,min.cells = 0,min.features = 0)\n",
    "obj$subregion <- label"
   ]
  },
  {
   "cell_type": "code",
   "execution_count": 160,
   "metadata": {},
   "outputs": [
    {
     "data": {
      "text/plain": [
       "\n",
       " AO IVS  LA  LV  MV  PA  RA  RV  TV \n",
       "  5   8  31  55  13   4  32  41  17 "
      ]
     },
     "metadata": {},
     "output_type": "display_data"
    }
   ],
   "source": [
    "table(obj$subregion)"
   ]
  },
  {
   "cell_type": "code",
   "execution_count": 161,
   "metadata": {},
   "outputs": [
    {
     "name": "stderr",
     "output_type": "stream",
     "text": [
      "Centering and scaling data matrix\n",
      "\n"
     ]
    }
   ],
   "source": [
    "obj <- NormalizeData(obj, normalization.method = \"LogNormalize\", scale.factor = 10000)\n",
    "obj <- ScaleData(obj)"
   ]
  },
  {
   "cell_type": "code",
   "execution_count": 162,
   "metadata": {},
   "outputs": [
    {
     "name": "stderr",
     "output_type": "stream",
     "text": [
      "Calculating cluster AO\n",
      "\n",
      "Calculating cluster IVS\n",
      "\n",
      "Calculating cluster LA\n",
      "\n",
      "Calculating cluster LV\n",
      "\n",
      "Calculating cluster MV\n",
      "\n",
      "Calculating cluster PA\n",
      "\n",
      "Calculating cluster RA\n",
      "\n",
      "Calculating cluster RV\n",
      "\n",
      "Calculating cluster TV\n",
      "\n"
     ]
    }
   ],
   "source": [
    "markers <- FindAllMarkers(obj,only.pos = TRUE,min.pct = 0.25, logfc.threshold = 0.25)"
   ]
  },
  {
   "cell_type": "code",
   "execution_count": 163,
   "metadata": {},
   "outputs": [],
   "source": [
    "write.csv(markers,paste0(\"/stor/public/chenyx/HHCAd/DEGene_subtype_fetal/Myelo.csv\"))"
   ]
  },
  {
   "cell_type": "markdown",
   "metadata": {},
   "source": [
    "# Neuron"
   ]
  },
  {
   "cell_type": "code",
   "execution_count": 164,
   "metadata": {},
   "outputs": [],
   "source": [
    "obj <- readRDS(\"/stor/public/chenyx/HHCAd/cell_type_organized_fetal/Neuron.rds\")"
   ]
  },
  {
   "cell_type": "code",
   "execution_count": 178,
   "metadata": {},
   "outputs": [
    {
     "data": {
      "text/plain": [
       "\n",
       " NA \n",
       "958 "
      ]
     },
     "metadata": {},
     "output_type": "display_data"
    }
   ],
   "source": [
    "table(obj$subregion)"
   ]
  },
  {
   "cell_type": "markdown",
   "metadata": {},
   "source": [
    "# Pericyte"
   ]
  },
  {
   "cell_type": "code",
   "execution_count": 179,
   "metadata": {},
   "outputs": [],
   "source": [
    "obj <- readRDS(\"/stor/public/chenyx/HHCAd/cell_type_organized_fetal/Pericyte.rds\")"
   ]
  },
  {
   "cell_type": "code",
   "execution_count": 180,
   "metadata": {},
   "outputs": [
    {
     "data": {
      "text/plain": [
       "\n",
       " NA \n",
       "355 "
      ]
     },
     "metadata": {},
     "output_type": "display_data"
    }
   ],
   "source": [
    "table(obj$subregion)"
   ]
  },
  {
   "cell_type": "markdown",
   "metadata": {},
   "source": [
    "# Smooth muscle cell"
   ]
  },
  {
   "cell_type": "code",
   "execution_count": 202,
   "metadata": {},
   "outputs": [],
   "source": [
    "obj <- readRDS(\"/stor/public/chenyx/HHCAd/cell_type_organized_fetal/Smooth muscle cell.rds\")"
   ]
  },
  {
   "cell_type": "code",
   "execution_count": 203,
   "metadata": {},
   "outputs": [
    {
     "data": {
      "text/plain": [
       "\n",
       "           Aorta       Left atria   Left ventricle               NA \n",
       "              36               19                1             3033 \n",
       "Pulmonary artery      Right atria  Right ventricle \n",
       "              48                9                1 "
      ]
     },
     "metadata": {},
     "output_type": "display_data"
    }
   ],
   "source": [
    "table(obj$subregion)"
   ]
  },
  {
   "cell_type": "code",
   "execution_count": 204,
   "metadata": {},
   "outputs": [],
   "source": [
    "subregions <- c('Left ventricle','Interventricular septum','Right ventricle','Left atria','Right atria','Aorta','Pulmonary artery','Mitral valve',\"Tricuspid valve\")\n",
    "pres <- c(\"LV_\",\"IVS_\",\"RV_\",\"LA_\",\"RA_\",\"AO_\",\"PA_\",\"MV_\",\"TV_\")"
   ]
  },
  {
   "cell_type": "code",
   "execution_count": 205,
   "metadata": {},
   "outputs": [],
   "source": [
    "pres <- pres[subregions%in% unique(obj$subregion)]\n",
    "subregions <- subregions[subregions%in% unique(obj$subregion)]"
   ]
  },
  {
   "cell_type": "code",
   "execution_count": null,
   "metadata": {},
   "outputs": [],
   "source": []
  },
  {
   "cell_type": "code",
   "execution_count": 206,
   "metadata": {},
   "outputs": [],
   "source": [
    "sr = subregions[1]\n",
    "df <- obj@assays$RNA@data[,obj$subregion==sr]\n",
    "df <- as.data.frame(df)\n",
    "if(dim(df)[2] > 2000){\n",
    "    df_u <- df[,sample(1:dim(df)[2],2000)]\n",
    "}else{\n",
    "    df_u <- df\n",
    "}\n",
    "row.names(df_u) <- row.names(df)\n",
    "colnames(df_u) <- paste0(pres[1],1:dim(df_u)[2])"
   ]
  },
  {
   "cell_type": "code",
   "execution_count": 207,
   "metadata": {},
   "outputs": [],
   "source": [
    "sr = subregions[2]\n",
    "df <- obj@assays$RNA@data[,obj$subregion==sr]\n",
    "df <- as.data.frame(df)\n",
    "if(dim(df)[2] > 2000){\n",
    "    df_u2 <- df[,sample(1:dim(df)[2],2000)]\n",
    "}else{\n",
    "    df_u2 <- df\n",
    "}\n",
    "row.names(df_u2) <- row.names(df)\n",
    "colnames(df_u2) <- paste0(pres[2],1:dim(df_u2)[2])"
   ]
  },
  {
   "cell_type": "code",
   "execution_count": 208,
   "metadata": {},
   "outputs": [],
   "source": [
    "df_merge <- cbind(df_u ,df_u2)"
   ]
  },
  {
   "cell_type": "code",
   "execution_count": 209,
   "metadata": {},
   "outputs": [],
   "source": [
    "for(i in 3:length(subregions)){\n",
    "    sr <- subregions[i]\n",
    "    df <- obj@assays$RNA@data[,obj$subregion==sr]\n",
    "    df <- as.data.frame(df)\n",
    "    if(dim(df)[2] > 2000){\n",
    "        df_u <- df[,sample(1:dim(df)[2],2000)]\n",
    "    }else{\n",
    "        df_u <- df\n",
    "    }\n",
    "\n",
    "    row.names(df_u) <- row.names(df)\n",
    "    colnames(df_u) <- paste0(pres[i],1:dim(df_u)[2])\n",
    "    \n",
    "    df_merge <- cbind(df_merge, df_u)\n",
    "}"
   ]
  },
  {
   "cell_type": "code",
   "execution_count": 210,
   "metadata": {},
   "outputs": [],
   "source": [
    "saveRDS(df_merge,\"/stor/public/chenyx/HHCAd/cell_type_organized_fetal/4DEG/Smooth muscle cell.rds\")"
   ]
  },
  {
   "cell_type": "code",
   "execution_count": null,
   "metadata": {},
   "outputs": [],
   "source": []
  },
  {
   "cell_type": "code",
   "execution_count": 193,
   "metadata": {},
   "outputs": [],
   "source": [
    "df_merge <- readRDS(\"/stor/public/chenyx/HHCAd/cell_type_organized_fetal/4DEG/Smooth muscle cell.rds\")"
   ]
  },
  {
   "cell_type": "code",
   "execution_count": 194,
   "metadata": {},
   "outputs": [],
   "source": [
    "df_merge <- df_merge[!rowSums(df_merge)==0,]\n",
    "df_merge <- exp(df_merge)-1"
   ]
  },
  {
   "cell_type": "code",
   "execution_count": 195,
   "metadata": {},
   "outputs": [],
   "source": [
    "label <- as.character(lapply(colnames(df_merge),function(x){strsplit(x,\"_\")[[1]][1]}))"
   ]
  },
  {
   "cell_type": "code",
   "execution_count": 196,
   "metadata": {},
   "outputs": [],
   "source": [
    "obj <- CreateSeuratObject(counts = df_merge,min.cells = 0,min.features = 0)\n",
    "obj$subregion <- label"
   ]
  },
  {
   "cell_type": "code",
   "execution_count": 197,
   "metadata": {},
   "outputs": [
    {
     "data": {
      "text/plain": [
       "\n",
       "AO LA LV PA RA RV \n",
       "36 19  1 48  9  1 "
      ]
     },
     "metadata": {},
     "output_type": "display_data"
    }
   ],
   "source": [
    "table(obj$subregion)"
   ]
  },
  {
   "cell_type": "code",
   "execution_count": 198,
   "metadata": {},
   "outputs": [
    {
     "name": "stderr",
     "output_type": "stream",
     "text": [
      "Centering and scaling data matrix\n",
      "\n"
     ]
    }
   ],
   "source": [
    "obj <- NormalizeData(obj, normalization.method = \"LogNormalize\", scale.factor = 10000)\n",
    "obj <- ScaleData(obj)"
   ]
  },
  {
   "cell_type": "code",
   "execution_count": 199,
   "metadata": {},
   "outputs": [
    {
     "name": "stderr",
     "output_type": "stream",
     "text": [
      "Calculating cluster AO\n",
      "\n",
      "Calculating cluster LA\n",
      "\n",
      "Calculating cluster LV\n",
      "\n",
      "Calculating cluster PA\n",
      "\n",
      "Calculating cluster RA\n",
      "\n",
      "Calculating cluster RV\n",
      "\n"
     ]
    }
   ],
   "source": [
    "markers <- FindAllMarkers(obj,only.pos = TRUE,min.pct = 0.25, logfc.threshold = 0.25)"
   ]
  },
  {
   "cell_type": "code",
   "execution_count": 200,
   "metadata": {},
   "outputs": [],
   "source": [
    "write.csv(markers,paste0(\"/stor/public/chenyx/HHCAd/DEGene_subtype_fetal/SMC.csv\"))"
   ]
  },
  {
   "cell_type": "markdown",
   "metadata": {},
   "source": [
    "# Adipocyte"
   ]
  },
  {
   "cell_type": "code",
   "execution_count": 181,
   "metadata": {},
   "outputs": [],
   "source": [
    "obj <- readRDS(\"/stor/public/chenyx/HHCAd/cell_type_organized_fetal/Adipocyte.rds\")"
   ]
  },
  {
   "cell_type": "code",
   "execution_count": 182,
   "metadata": {},
   "outputs": [
    {
     "data": {
      "text/plain": [
       "\n",
       "  NA \n",
       "1891 "
      ]
     },
     "metadata": {},
     "output_type": "display_data"
    }
   ],
   "source": [
    "table(obj$subregion)"
   ]
  }
 ],
 "metadata": {
  "kernelspec": {
   "display_name": "R4.0",
   "language": "R",
   "name": "ir3"
  },
  "language_info": {
   "codemirror_mode": "r",
   "file_extension": ".r",
   "mimetype": "text/x-r-source",
   "name": "R",
   "pygments_lexer": "r",
   "version": "4.0.3"
  }
 },
 "nbformat": 4,
 "nbformat_minor": 4
}
