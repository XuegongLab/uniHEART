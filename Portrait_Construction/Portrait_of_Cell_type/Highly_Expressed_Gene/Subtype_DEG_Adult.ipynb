{
 "cells": [
  {
   "cell_type": "code",
   "execution_count": 1,
   "metadata": {
    "collapsed": true,
    "jupyter": {
     "outputs_hidden": true
    }
   },
   "outputs": [
    {
     "name": "stderr",
     "output_type": "stream",
     "text": [
      "\n",
      "\n",
      "clusterProfiler v3.18.1  For help: https://guangchuangyu.github.io/software/clusterProfiler\n",
      "\n",
      "If you use clusterProfiler in published research, please cite:\n",
      "Guangchuang Yu, Li-Gen Wang, Yanyan Han, Qing-Yu He. clusterProfiler: an R package for comparing biological themes among gene clusters. OMICS: A Journal of Integrative Biology. 2012, 16(5):284-287.\n",
      "\n",
      "\n",
      "Attaching package: ‘clusterProfiler’\n",
      "\n",
      "\n",
      "The following object is masked from ‘package:stats’:\n",
      "\n",
      "    filter\n",
      "\n",
      "\n",
      "Loading required package: AnnotationDbi\n",
      "\n",
      "Loading required package: stats4\n",
      "\n",
      "Loading required package: BiocGenerics\n",
      "\n",
      "Loading required package: parallel\n",
      "\n",
      "\n",
      "Attaching package: ‘BiocGenerics’\n",
      "\n",
      "\n",
      "The following objects are masked from ‘package:parallel’:\n",
      "\n",
      "    clusterApply, clusterApplyLB, clusterCall, clusterEvalQ,\n",
      "    clusterExport, clusterMap, parApply, parCapply, parLapply,\n",
      "    parLapplyLB, parRapply, parSapply, parSapplyLB\n",
      "\n",
      "\n",
      "The following objects are masked from ‘package:stats’:\n",
      "\n",
      "    IQR, mad, sd, var, xtabs\n",
      "\n",
      "\n",
      "The following objects are masked from ‘package:base’:\n",
      "\n",
      "    anyDuplicated, append, as.data.frame, basename, cbind, colnames,\n",
      "    dirname, do.call, duplicated, eval, evalq, Filter, Find, get, grep,\n",
      "    grepl, intersect, is.unsorted, lapply, Map, mapply, match, mget,\n",
      "    order, paste, pmax, pmax.int, pmin, pmin.int, Position, rank,\n",
      "    rbind, Reduce, rownames, sapply, setdiff, sort, table, tapply,\n",
      "    union, unique, unsplit, which.max, which.min\n",
      "\n",
      "\n",
      "Loading required package: Biobase\n",
      "\n",
      "Welcome to Bioconductor\n",
      "\n",
      "    Vignettes contain introductory material; view with\n",
      "    'browseVignettes()'. To cite Bioconductor, see\n",
      "    'citation(\"Biobase\")', and for packages 'citation(\"pkgname\")'.\n",
      "\n",
      "\n",
      "Loading required package: IRanges\n",
      "\n",
      "Loading required package: S4Vectors\n",
      "\n",
      "\n",
      "Attaching package: ‘S4Vectors’\n",
      "\n",
      "\n",
      "The following object is masked from ‘package:clusterProfiler’:\n",
      "\n",
      "    rename\n",
      "\n",
      "\n",
      "The following object is masked from ‘package:base’:\n",
      "\n",
      "    expand.grid\n",
      "\n",
      "\n",
      "\n",
      "Attaching package: ‘IRanges’\n",
      "\n",
      "\n",
      "The following object is masked from ‘package:clusterProfiler’:\n",
      "\n",
      "    slice\n",
      "\n",
      "\n",
      "\n",
      "Attaching package: ‘AnnotationDbi’\n",
      "\n",
      "\n",
      "The following object is masked from ‘package:clusterProfiler’:\n",
      "\n",
      "    select\n",
      "\n",
      "\n",
      "\n",
      "\n",
      "Loading required package: limma\n",
      "\n",
      "\n",
      "Attaching package: ‘limma’\n",
      "\n",
      "\n",
      "The following object is masked from ‘package:BiocGenerics’:\n",
      "\n",
      "    plotMA\n",
      "\n",
      "\n",
      "Attaching SeuratObject\n",
      "\n"
     ]
    }
   ],
   "source": [
    "library(clusterProfiler)\n",
    "library(org.Hs.eg.db)\n",
    "library(stringr)\n",
    "library(edgeR)\n",
    "library(Seurat)"
   ]
  },
  {
   "cell_type": "code",
   "execution_count": 2,
   "metadata": {},
   "outputs": [],
   "source": [
    "as_matrix <- function(mat){\n",
    "  \n",
    "  tmp <- matrix(data=0L, nrow = mat@Dim[1], ncol = mat@Dim[2])\n",
    "  \n",
    "  row_pos <- mat@i+1\n",
    "  col_pos <- findInterval(seq(mat@x)-1,mat@p[-1])+1\n",
    "  val <- mat@x\n",
    "  \n",
    "  for (i in seq_along(val)){\n",
    "    tmp[row_pos[i],col_pos[i]] <- val[i]\n",
    "  }\n",
    "  \n",
    "  row.names(tmp) <- mat@Dimnames[[1]]\n",
    "  colnames(tmp) <- mat@Dimnames[[2]]\n",
    "  return(tmp)\n",
    "}"
   ]
  },
  {
   "cell_type": "markdown",
   "metadata": {},
   "source": [
    "# CM"
   ]
  },
  {
   "cell_type": "code",
   "execution_count": 3,
   "metadata": {},
   "outputs": [],
   "source": [
    "obj <- readRDS(\"/stor/public/chenyx/HHCAd/cell_type_organized/Cardiomyocyte cell.rds\")"
   ]
  },
  {
   "cell_type": "code",
   "execution_count": 4,
   "metadata": {},
   "outputs": [
    {
     "data": {
      "text/html": [
       "<style>\n",
       ".list-inline {list-style: none; margin:0; padding: 0}\n",
       ".list-inline>li {display: inline-block}\n",
       ".list-inline>li:not(:last-child)::after {content: \"\\00b7\"; padding: 0 .5ex}\n",
       "</style>\n",
       "<ol class=list-inline><li>'Left ventricle'</li><li>'Right ventricle'</li><li>'Interventricular septum'</li><li>'Left atria'</li><li>'Right atria'</li><li>'Interatrial septum'</li></ol>\n"
      ],
      "text/latex": [
       "\\begin{enumerate*}\n",
       "\\item 'Left ventricle'\n",
       "\\item 'Right ventricle'\n",
       "\\item 'Interventricular septum'\n",
       "\\item 'Left atria'\n",
       "\\item 'Right atria'\n",
       "\\item 'Interatrial septum'\n",
       "\\end{enumerate*}\n"
      ],
      "text/markdown": [
       "1. 'Left ventricle'\n",
       "2. 'Right ventricle'\n",
       "3. 'Interventricular septum'\n",
       "4. 'Left atria'\n",
       "5. 'Right atria'\n",
       "6. 'Interatrial septum'\n",
       "\n",
       "\n"
      ],
      "text/plain": [
       "[1] \"Left ventricle\"          \"Right ventricle\"        \n",
       "[3] \"Interventricular septum\" \"Left atria\"             \n",
       "[5] \"Right atria\"             \"Interatrial septum\"     "
      ]
     },
     "metadata": {},
     "output_type": "display_data"
    }
   ],
   "source": [
    "unique(obj$subregion)"
   ]
  },
  {
   "cell_type": "code",
   "execution_count": null,
   "metadata": {},
   "outputs": [],
   "source": []
  },
  {
   "cell_type": "code",
   "execution_count": 5,
   "metadata": {},
   "outputs": [],
   "source": [
    "sr = \"Left atria\"\n",
    "df <- obj@assays$RNA@data[,obj$subregion==sr]\n",
    "\n",
    "df_u <- df[,sample(1:dim(df)[2],2000)]\n",
    "\n",
    "row.names(df_u) <- row.names(df)\n",
    "colnames(df_u) <- paste0(\"LA_\",1:2000)"
   ]
  },
  {
   "cell_type": "code",
   "execution_count": 6,
   "metadata": {},
   "outputs": [],
   "source": [
    "sr = \"Right atria\"\n",
    "df <- obj@assays$RNA@data[,obj$subregion==sr]\n",
    "\n",
    "df_u2 <- df[,sample(1:dim(df)[2],2000)]\n",
    "\n",
    "row.names(df_u2) <- row.names(df)\n",
    "colnames(df_u2) <- paste0(\"RA_\",1:2000)"
   ]
  },
  {
   "cell_type": "code",
   "execution_count": 7,
   "metadata": {},
   "outputs": [],
   "source": [
    "df_merge <- cbind(df_u ,df_u2)"
   ]
  },
  {
   "cell_type": "code",
   "execution_count": 8,
   "metadata": {},
   "outputs": [],
   "source": [
    "for(i in 3:6){\n",
    "    sr <- unique(obj$subregion)[i]\n",
    "    df <- obj@assays$RNA@data[,obj$subregion==sr]\n",
    "\n",
    "    df_u <- df[,sample(1:dim(df)[2],2000)]\n",
    "\n",
    "    row.names(df_u) <- row.names(df)\n",
    "    colnames(df_u) <- paste0(c(\"LA_\",\"RA_\",\"LV_\",\"RV_\",\"IVS_\",\"IAS_\")[i],1:2000)\n",
    "    \n",
    "    df_merge <- cbind(df_merge, df_u)\n",
    "}"
   ]
  },
  {
   "cell_type": "code",
   "execution_count": 11,
   "metadata": {},
   "outputs": [],
   "source": [
    "saveRDS(df_merge,\"/stor/public/chenyx/HHCAd/cell_type_organized/4DEG/Cardiomyocyte.rds\")"
   ]
  },
  {
   "cell_type": "code",
   "execution_count": null,
   "metadata": {},
   "outputs": [],
   "source": []
  },
  {
   "cell_type": "code",
   "execution_count": 2,
   "metadata": {},
   "outputs": [],
   "source": [
    "df_merge <- readRDS(\"/stor/public/chenyx/HHCAd/cell_type_organized/4DEG/Cardiomyocyte.rds\")"
   ]
  },
  {
   "cell_type": "code",
   "execution_count": 12,
   "metadata": {},
   "outputs": [],
   "source": [
    "df_merge <- df_merge[!rowSums(df_merge)==0,]\n",
    "df_merge <- exp(df_merge)-1"
   ]
  },
  {
   "cell_type": "code",
   "execution_count": 13,
   "metadata": {},
   "outputs": [],
   "source": [
    "label <- c(rep(\"LA\",2000),rep(\"RA\",2000),rep(\"LV\",2000),rep(\"RV\",2000),rep(\"IVS\",2000),rep(\"IAS\",2000))"
   ]
  },
  {
   "cell_type": "code",
   "execution_count": 14,
   "metadata": {},
   "outputs": [],
   "source": [
    "obj <- CreateSeuratObject(counts = df_merge,min.cells = 0,min.features = 0)"
   ]
  },
  {
   "cell_type": "code",
   "execution_count": 15,
   "metadata": {},
   "outputs": [],
   "source": [
    "obj$subregion <- label"
   ]
  },
  {
   "cell_type": "code",
   "execution_count": 16,
   "metadata": {},
   "outputs": [
    {
     "name": "stderr",
     "output_type": "stream",
     "text": [
      "Centering and scaling data matrix\n",
      "\n"
     ]
    }
   ],
   "source": [
    "obj <- NormalizeData(obj, normalization.method = \"LogNormalize\", scale.factor = 10000)\n",
    "obj <- ScaleData(obj)"
   ]
  },
  {
   "cell_type": "code",
   "execution_count": 17,
   "metadata": {},
   "outputs": [
    {
     "name": "stderr",
     "output_type": "stream",
     "text": [
      "Calculating cluster IAS\n",
      "\n",
      "Calculating cluster IVS\n",
      "\n",
      "Calculating cluster LA\n",
      "\n",
      "Calculating cluster LV\n",
      "\n",
      "Calculating cluster RA\n",
      "\n",
      "Calculating cluster RV\n",
      "\n"
     ]
    }
   ],
   "source": [
    "markers <- FindAllMarkers(obj,only.pos = TRUE,min.pct = 0.25, logfc.threshold = 0.25)"
   ]
  },
  {
   "cell_type": "code",
   "execution_count": 18,
   "metadata": {},
   "outputs": [],
   "source": [
    "write.csv(markers,paste0(\"/stor/public/chenyx/HHCAd/DEGene_subtype/CM.csv\"))"
   ]
  },
  {
   "cell_type": "code",
   "execution_count": null,
   "metadata": {},
   "outputs": [],
   "source": []
  },
  {
   "cell_type": "markdown",
   "metadata": {},
   "source": [
    "# EC"
   ]
  },
  {
   "cell_type": "code",
   "execution_count": 19,
   "metadata": {},
   "outputs": [],
   "source": [
    "obj <- readRDS(\"/stor/public/chenyx/HHCAd/cell_type_organized/Endothelial cell.rds\")"
   ]
  },
  {
   "cell_type": "code",
   "execution_count": 20,
   "metadata": {},
   "outputs": [
    {
     "data": {
      "text/html": [
       "<style>\n",
       ".list-inline {list-style: none; margin:0; padding: 0}\n",
       ".list-inline>li {display: inline-block}\n",
       ".list-inline>li:not(:last-child)::after {content: \"\\00b7\"; padding: 0 .5ex}\n",
       "</style>\n",
       "<ol class=list-inline><li>'Left ventricle'</li><li>'Right ventricle'</li><li>'Interventricular septum'</li><li>'Left atria'</li><li>'Right atria'</li><li>'Interatrial septum'</li></ol>\n"
      ],
      "text/latex": [
       "\\begin{enumerate*}\n",
       "\\item 'Left ventricle'\n",
       "\\item 'Right ventricle'\n",
       "\\item 'Interventricular septum'\n",
       "\\item 'Left atria'\n",
       "\\item 'Right atria'\n",
       "\\item 'Interatrial septum'\n",
       "\\end{enumerate*}\n"
      ],
      "text/markdown": [
       "1. 'Left ventricle'\n",
       "2. 'Right ventricle'\n",
       "3. 'Interventricular septum'\n",
       "4. 'Left atria'\n",
       "5. 'Right atria'\n",
       "6. 'Interatrial septum'\n",
       "\n",
       "\n"
      ],
      "text/plain": [
       "[1] \"Left ventricle\"          \"Right ventricle\"        \n",
       "[3] \"Interventricular septum\" \"Left atria\"             \n",
       "[5] \"Right atria\"             \"Interatrial septum\"     "
      ]
     },
     "metadata": {},
     "output_type": "display_data"
    }
   ],
   "source": [
    "unique(obj$subregion)"
   ]
  },
  {
   "cell_type": "code",
   "execution_count": null,
   "metadata": {},
   "outputs": [],
   "source": []
  },
  {
   "cell_type": "code",
   "execution_count": 21,
   "metadata": {},
   "outputs": [],
   "source": [
    "sr = \"Left atria\"\n",
    "df <- obj@assays$RNA@data[,obj$subregion==sr]\n",
    "\n",
    "df_u <- df[,sample(1:dim(df)[2],2000)]\n",
    "\n",
    "row.names(df_u) <- row.names(df)\n",
    "colnames(df_u) <- paste0(\"LA_\",1:2000)"
   ]
  },
  {
   "cell_type": "code",
   "execution_count": 22,
   "metadata": {},
   "outputs": [],
   "source": [
    "sr = \"Right atria\"\n",
    "df <- obj@assays$RNA@data[,obj$subregion==sr]\n",
    "\n",
    "df_u2 <- df[,sample(1:dim(df)[2],2000)]\n",
    "\n",
    "row.names(df_u2) <- row.names(df)\n",
    "colnames(df_u2) <- paste0(\"RA_\",1:2000)"
   ]
  },
  {
   "cell_type": "code",
   "execution_count": 23,
   "metadata": {},
   "outputs": [],
   "source": [
    "df_merge <- cbind(df_u ,df_u2)"
   ]
  },
  {
   "cell_type": "code",
   "execution_count": 24,
   "metadata": {},
   "outputs": [],
   "source": [
    "for(i in 3:6){\n",
    "    sr <- unique(obj$subregion)[i]\n",
    "    df <- obj@assays$RNA@data[,obj$subregion==sr]\n",
    "\n",
    "    df_u <- df[,sample(1:dim(df)[2],2000)]\n",
    "\n",
    "    row.names(df_u) <- row.names(df)\n",
    "    colnames(df_u) <- paste0(c(\"LA_\",\"RA_\",\"LV_\",\"RV_\",\"IVS_\",\"IAS_\")[i],1:2000)\n",
    "    \n",
    "    df_merge <- cbind(df_merge, df_u)\n",
    "}"
   ]
  },
  {
   "cell_type": "code",
   "execution_count": 25,
   "metadata": {},
   "outputs": [],
   "source": [
    "saveRDS(df_merge,\"/stor/public/chenyx/HHCAd/cell_type_organized/4DEG/Endothelial_cell.rds\")"
   ]
  },
  {
   "cell_type": "code",
   "execution_count": null,
   "metadata": {},
   "outputs": [],
   "source": []
  },
  {
   "cell_type": "code",
   "execution_count": 28,
   "metadata": {},
   "outputs": [],
   "source": [
    "df_merge <- readRDS(\"/stor/public/chenyx/HHCAd/cell_type_organized/4DEG/Endothelial_cell.rds\")"
   ]
  },
  {
   "cell_type": "code",
   "execution_count": 26,
   "metadata": {},
   "outputs": [],
   "source": [
    "df_merge <- df_merge[!rowSums(df_merge)==0,]\n",
    "df_merge <- exp(df_merge)-1"
   ]
  },
  {
   "cell_type": "code",
   "execution_count": 27,
   "metadata": {},
   "outputs": [],
   "source": [
    "label <- c(rep(\"LA\",2000),rep(\"RA\",2000),rep(\"LV\",2000),rep(\"RV\",2000),rep(\"IVS\",2000),rep(\"IAS\",2000))"
   ]
  },
  {
   "cell_type": "code",
   "execution_count": 28,
   "metadata": {},
   "outputs": [],
   "source": [
    "obj <- CreateSeuratObject(counts = df_merge,min.cells = 0,min.features = 0)"
   ]
  },
  {
   "cell_type": "code",
   "execution_count": 29,
   "metadata": {},
   "outputs": [],
   "source": [
    "obj$subregion <- label"
   ]
  },
  {
   "cell_type": "code",
   "execution_count": 30,
   "metadata": {},
   "outputs": [
    {
     "name": "stderr",
     "output_type": "stream",
     "text": [
      "Centering and scaling data matrix\n",
      "\n"
     ]
    }
   ],
   "source": [
    "obj <- NormalizeData(obj, normalization.method = \"LogNormalize\", scale.factor = 10000)\n",
    "obj <- ScaleData(obj)"
   ]
  },
  {
   "cell_type": "code",
   "execution_count": 31,
   "metadata": {},
   "outputs": [
    {
     "name": "stderr",
     "output_type": "stream",
     "text": [
      "Calculating cluster IAS\n",
      "\n",
      "Calculating cluster IVS\n",
      "\n",
      "Calculating cluster LA\n",
      "\n",
      "Calculating cluster LV\n",
      "\n",
      "Calculating cluster RA\n",
      "\n",
      "Calculating cluster RV\n",
      "\n"
     ]
    }
   ],
   "source": [
    "markers <- FindAllMarkers(obj,only.pos = TRUE,min.pct = 0.25, logfc.threshold = 0.25)"
   ]
  },
  {
   "cell_type": "code",
   "execution_count": 32,
   "metadata": {},
   "outputs": [],
   "source": [
    "write.csv(markers,paste0(\"/stor/public/chenyx/HHCAd/DEGene_subtype/EC.csv\"))"
   ]
  },
  {
   "cell_type": "markdown",
   "metadata": {},
   "source": [
    "# FB"
   ]
  },
  {
   "cell_type": "code",
   "execution_count": 34,
   "metadata": {},
   "outputs": [],
   "source": [
    "obj <- readRDS(\"/stor/public/chenyx/HHCAd/cell_type_organized/Fibroblast.rds\")"
   ]
  },
  {
   "cell_type": "code",
   "execution_count": 35,
   "metadata": {},
   "outputs": [
    {
     "data": {
      "text/html": [
       "<style>\n",
       ".list-inline {list-style: none; margin:0; padding: 0}\n",
       ".list-inline>li {display: inline-block}\n",
       ".list-inline>li:not(:last-child)::after {content: \"\\00b7\"; padding: 0 .5ex}\n",
       "</style>\n",
       "<ol class=list-inline><li>'Left ventricle'</li><li>'Right ventricle'</li><li>'Interventricular septum'</li><li>'Left atria'</li><li>'Right atria'</li><li>'Interatrial septum'</li></ol>\n"
      ],
      "text/latex": [
       "\\begin{enumerate*}\n",
       "\\item 'Left ventricle'\n",
       "\\item 'Right ventricle'\n",
       "\\item 'Interventricular septum'\n",
       "\\item 'Left atria'\n",
       "\\item 'Right atria'\n",
       "\\item 'Interatrial septum'\n",
       "\\end{enumerate*}\n"
      ],
      "text/markdown": [
       "1. 'Left ventricle'\n",
       "2. 'Right ventricle'\n",
       "3. 'Interventricular septum'\n",
       "4. 'Left atria'\n",
       "5. 'Right atria'\n",
       "6. 'Interatrial septum'\n",
       "\n",
       "\n"
      ],
      "text/plain": [
       "[1] \"Left ventricle\"          \"Right ventricle\"        \n",
       "[3] \"Interventricular septum\" \"Left atria\"             \n",
       "[5] \"Right atria\"             \"Interatrial septum\"     "
      ]
     },
     "metadata": {},
     "output_type": "display_data"
    }
   ],
   "source": [
    "unique(obj$subregion)"
   ]
  },
  {
   "cell_type": "code",
   "execution_count": null,
   "metadata": {},
   "outputs": [],
   "source": []
  },
  {
   "cell_type": "code",
   "execution_count": 36,
   "metadata": {},
   "outputs": [],
   "source": [
    "sr = \"Left atria\"\n",
    "df <- obj@assays$RNA@data[,obj$subregion==sr]\n",
    "\n",
    "df_u <- df[,sample(1:dim(df)[2],2000)]\n",
    "\n",
    "row.names(df_u) <- row.names(df)\n",
    "colnames(df_u) <- paste0(\"LA_\",1:2000)"
   ]
  },
  {
   "cell_type": "code",
   "execution_count": 37,
   "metadata": {},
   "outputs": [],
   "source": [
    "sr = \"Right atria\"\n",
    "df <- obj@assays$RNA@data[,obj$subregion==sr]\n",
    "\n",
    "df_u2 <- df[,sample(1:dim(df)[2],2000)]\n",
    "\n",
    "row.names(df_u2) <- row.names(df)\n",
    "colnames(df_u2) <- paste0(\"RA_\",1:2000)"
   ]
  },
  {
   "cell_type": "code",
   "execution_count": 38,
   "metadata": {},
   "outputs": [],
   "source": [
    "df_merge <- cbind(df_u ,df_u2)"
   ]
  },
  {
   "cell_type": "code",
   "execution_count": 39,
   "metadata": {},
   "outputs": [],
   "source": [
    "for(i in 3:6){\n",
    "    sr <- unique(obj$subregion)[i]\n",
    "    df <- obj@assays$RNA@data[,obj$subregion==sr]\n",
    "\n",
    "    df_u <- df[,sample(1:dim(df)[2],2000)]\n",
    "\n",
    "    row.names(df_u) <- row.names(df)\n",
    "    colnames(df_u) <- paste0(c(\"LA_\",\"RA_\",\"LV_\",\"RV_\",\"IVS_\",\"IAS_\")[i],1:2000)\n",
    "    \n",
    "    df_merge <- cbind(df_merge, df_u)\n",
    "}"
   ]
  },
  {
   "cell_type": "code",
   "execution_count": 40,
   "metadata": {},
   "outputs": [],
   "source": [
    "saveRDS(df_merge,\"/stor/public/chenyx/HHCAd/cell_type_organized/4DEG/Fibroblast.rds\")"
   ]
  },
  {
   "cell_type": "code",
   "execution_count": null,
   "metadata": {},
   "outputs": [],
   "source": []
  },
  {
   "cell_type": "code",
   "execution_count": 28,
   "metadata": {},
   "outputs": [],
   "source": [
    "df_merge <- readRDS(\"/stor/public/chenyx/HHCAd/cell_type_organized/4DEG/Endothelial_cell.rds\")"
   ]
  },
  {
   "cell_type": "code",
   "execution_count": 41,
   "metadata": {},
   "outputs": [],
   "source": [
    "df_merge <- df_merge[!rowSums(df_merge)==0,]\n",
    "df_merge <- exp(df_merge)-1"
   ]
  },
  {
   "cell_type": "code",
   "execution_count": 42,
   "metadata": {},
   "outputs": [],
   "source": [
    "label <- c(rep(\"LA\",2000),rep(\"RA\",2000),rep(\"LV\",2000),rep(\"RV\",2000),rep(\"IVS\",2000),rep(\"IAS\",2000))"
   ]
  },
  {
   "cell_type": "code",
   "execution_count": 43,
   "metadata": {},
   "outputs": [],
   "source": [
    "obj <- CreateSeuratObject(counts = df_merge,min.cells = 0,min.features = 0)"
   ]
  },
  {
   "cell_type": "code",
   "execution_count": 44,
   "metadata": {},
   "outputs": [],
   "source": [
    "obj$subregion <- label"
   ]
  },
  {
   "cell_type": "code",
   "execution_count": 45,
   "metadata": {},
   "outputs": [
    {
     "name": "stderr",
     "output_type": "stream",
     "text": [
      "Centering and scaling data matrix\n",
      "\n"
     ]
    }
   ],
   "source": [
    "obj <- NormalizeData(obj, normalization.method = \"LogNormalize\", scale.factor = 10000)\n",
    "obj <- ScaleData(obj)"
   ]
  },
  {
   "cell_type": "code",
   "execution_count": null,
   "metadata": {},
   "outputs": [
    {
     "name": "stderr",
     "output_type": "stream",
     "text": [
      "Calculating cluster IAS\n",
      "\n"
     ]
    }
   ],
   "source": [
    "markers <- FindAllMarkers(obj,only.pos = TRUE,min.pct = 0.25, logfc.threshold = 0.25)"
   ]
  },
  {
   "cell_type": "code",
   "execution_count": null,
   "metadata": {},
   "outputs": [],
   "source": [
    "write.csv(markers,paste0(\"/stor/public/chenyx/HHCAd/DEGene_subtype/FB.csv\"))"
   ]
  },
  {
   "cell_type": "markdown",
   "metadata": {},
   "source": [
    "# Lymphocyte"
   ]
  },
  {
   "cell_type": "code",
   "execution_count": 48,
   "metadata": {},
   "outputs": [],
   "source": [
    "obj <- readRDS(\"/stor/public/chenyx/HHCAd/cell_type_organized/Lymphocyte.rds\")"
   ]
  },
  {
   "cell_type": "code",
   "execution_count": 49,
   "metadata": {},
   "outputs": [
    {
     "data": {
      "text/html": [
       "<style>\n",
       ".list-inline {list-style: none; margin:0; padding: 0}\n",
       ".list-inline>li {display: inline-block}\n",
       ".list-inline>li:not(:last-child)::after {content: \"\\00b7\"; padding: 0 .5ex}\n",
       "</style>\n",
       "<ol class=list-inline><li>'Left ventricle'</li><li>'Right ventricle'</li><li>'Interventricular septum'</li><li>'Left atria'</li><li>'Right atria'</li><li>'Interatrial septum'</li></ol>\n"
      ],
      "text/latex": [
       "\\begin{enumerate*}\n",
       "\\item 'Left ventricle'\n",
       "\\item 'Right ventricle'\n",
       "\\item 'Interventricular septum'\n",
       "\\item 'Left atria'\n",
       "\\item 'Right atria'\n",
       "\\item 'Interatrial septum'\n",
       "\\end{enumerate*}\n"
      ],
      "text/markdown": [
       "1. 'Left ventricle'\n",
       "2. 'Right ventricle'\n",
       "3. 'Interventricular septum'\n",
       "4. 'Left atria'\n",
       "5. 'Right atria'\n",
       "6. 'Interatrial septum'\n",
       "\n",
       "\n"
      ],
      "text/plain": [
       "[1] \"Left ventricle\"          \"Right ventricle\"        \n",
       "[3] \"Interventricular septum\" \"Left atria\"             \n",
       "[5] \"Right atria\"             \"Interatrial septum\"     "
      ]
     },
     "metadata": {},
     "output_type": "display_data"
    }
   ],
   "source": [
    "unique(obj$subregion)"
   ]
  },
  {
   "cell_type": "code",
   "execution_count": null,
   "metadata": {},
   "outputs": [],
   "source": []
  },
  {
   "cell_type": "code",
   "execution_count": 54,
   "metadata": {},
   "outputs": [],
   "source": [
    "sr = \"Left atria\"\n",
    "df <- obj@assays$RNA@data[,obj$subregion==sr]\n",
    "\n",
    "df_u <- df[,sample(1:dim(df)[2],2000,replace = TRUE)]\n",
    "\n",
    "row.names(df_u) <- row.names(df)\n",
    "colnames(df_u) <- paste0(\"LA_\",1:2000)"
   ]
  },
  {
   "cell_type": "code",
   "execution_count": 55,
   "metadata": {},
   "outputs": [],
   "source": [
    "sr = \"Right atria\"\n",
    "df <- obj@assays$RNA@data[,obj$subregion==sr]\n",
    "\n",
    "df_u2 <- df[,sample(1:dim(df)[2],2000,replace = TRUE)]\n",
    "\n",
    "row.names(df_u2) <- row.names(df)\n",
    "colnames(df_u2) <- paste0(\"RA_\",1:2000)"
   ]
  },
  {
   "cell_type": "code",
   "execution_count": 56,
   "metadata": {},
   "outputs": [],
   "source": [
    "df_merge <- cbind(df_u ,df_u2)"
   ]
  },
  {
   "cell_type": "code",
   "execution_count": 57,
   "metadata": {},
   "outputs": [],
   "source": [
    "for(i in 3:6){\n",
    "    sr <- unique(obj$subregion)[i]\n",
    "    df <- obj@assays$RNA@data[,obj$subregion==sr]\n",
    "\n",
    "    df_u <- df[,sample(1:dim(df)[2],2000,replace = TRUE)]\n",
    "\n",
    "    row.names(df_u) <- row.names(df)\n",
    "    colnames(df_u) <- paste0(c(\"LA_\",\"RA_\",\"LV_\",\"RV_\",\"IVS_\",\"IAS_\")[i],1:2000)\n",
    "    \n",
    "    df_merge <- cbind(df_merge, df_u)\n",
    "}"
   ]
  },
  {
   "cell_type": "code",
   "execution_count": 58,
   "metadata": {},
   "outputs": [],
   "source": [
    "saveRDS(df_merge,\"/stor/public/chenyx/HHCAd/cell_type_organized/4DEG/Lymphocyte.rds\")"
   ]
  },
  {
   "cell_type": "code",
   "execution_count": null,
   "metadata": {},
   "outputs": [],
   "source": []
  },
  {
   "cell_type": "code",
   "execution_count": 59,
   "metadata": {},
   "outputs": [],
   "source": [
    "df_merge <- df_merge[!rowSums(df_merge)==0,]\n",
    "df_merge <- exp(df_merge)-1"
   ]
  },
  {
   "cell_type": "code",
   "execution_count": 60,
   "metadata": {},
   "outputs": [],
   "source": [
    "label <- c(rep(\"LA\",2000),rep(\"RA\",2000),rep(\"LV\",2000),rep(\"RV\",2000),rep(\"IVS\",2000),rep(\"IAS\",2000))"
   ]
  },
  {
   "cell_type": "code",
   "execution_count": 61,
   "metadata": {},
   "outputs": [],
   "source": [
    "obj <- CreateSeuratObject(counts = df_merge,min.cells = 0,min.features = 0)"
   ]
  },
  {
   "cell_type": "code",
   "execution_count": 62,
   "metadata": {},
   "outputs": [],
   "source": [
    "obj$subregion <- label"
   ]
  },
  {
   "cell_type": "code",
   "execution_count": 63,
   "metadata": {},
   "outputs": [
    {
     "name": "stderr",
     "output_type": "stream",
     "text": [
      "Centering and scaling data matrix\n",
      "\n"
     ]
    }
   ],
   "source": [
    "obj <- NormalizeData(obj, normalization.method = \"LogNormalize\", scale.factor = 10000)\n",
    "obj <- ScaleData(obj)"
   ]
  },
  {
   "cell_type": "code",
   "execution_count": 64,
   "metadata": {},
   "outputs": [
    {
     "name": "stderr",
     "output_type": "stream",
     "text": [
      "Calculating cluster IAS\n",
      "\n",
      "Calculating cluster IVS\n",
      "\n",
      "Calculating cluster LA\n",
      "\n",
      "Calculating cluster LV\n",
      "\n",
      "Calculating cluster RA\n",
      "\n",
      "Calculating cluster RV\n",
      "\n"
     ]
    }
   ],
   "source": [
    "markers <- FindAllMarkers(obj,only.pos = TRUE,min.pct = 0.25, logfc.threshold = 0.25)"
   ]
  },
  {
   "cell_type": "code",
   "execution_count": 65,
   "metadata": {},
   "outputs": [],
   "source": [
    "write.csv(markers,paste0(\"/stor/public/chenyx/HHCAd/DEGene_subtype/Lymphocyte.csv\"))"
   ]
  },
  {
   "cell_type": "markdown",
   "metadata": {},
   "source": [
    "# Myelocyte"
   ]
  },
  {
   "cell_type": "code",
   "execution_count": 66,
   "metadata": {},
   "outputs": [],
   "source": [
    "obj <- readRDS(\"/stor/public/chenyx/HHCAd/cell_type_organized/Myelocyte.rds\")"
   ]
  },
  {
   "cell_type": "code",
   "execution_count": 67,
   "metadata": {},
   "outputs": [
    {
     "data": {
      "text/html": [
       "<style>\n",
       ".list-inline {list-style: none; margin:0; padding: 0}\n",
       ".list-inline>li {display: inline-block}\n",
       ".list-inline>li:not(:last-child)::after {content: \"\\00b7\"; padding: 0 .5ex}\n",
       "</style>\n",
       "<ol class=list-inline><li>'Left ventricle'</li><li>'Right ventricle'</li><li>'Interventricular septum'</li><li>'Left atria'</li><li>'Right atria'</li><li>'Interatrial septum'</li></ol>\n"
      ],
      "text/latex": [
       "\\begin{enumerate*}\n",
       "\\item 'Left ventricle'\n",
       "\\item 'Right ventricle'\n",
       "\\item 'Interventricular septum'\n",
       "\\item 'Left atria'\n",
       "\\item 'Right atria'\n",
       "\\item 'Interatrial septum'\n",
       "\\end{enumerate*}\n"
      ],
      "text/markdown": [
       "1. 'Left ventricle'\n",
       "2. 'Right ventricle'\n",
       "3. 'Interventricular septum'\n",
       "4. 'Left atria'\n",
       "5. 'Right atria'\n",
       "6. 'Interatrial septum'\n",
       "\n",
       "\n"
      ],
      "text/plain": [
       "[1] \"Left ventricle\"          \"Right ventricle\"        \n",
       "[3] \"Interventricular septum\" \"Left atria\"             \n",
       "[5] \"Right atria\"             \"Interatrial septum\"     "
      ]
     },
     "metadata": {},
     "output_type": "display_data"
    }
   ],
   "source": [
    "unique(obj$subregion)"
   ]
  },
  {
   "cell_type": "code",
   "execution_count": null,
   "metadata": {},
   "outputs": [],
   "source": []
  },
  {
   "cell_type": "code",
   "execution_count": 68,
   "metadata": {},
   "outputs": [],
   "source": [
    "sr = \"Left atria\"\n",
    "df <- obj@assays$RNA@data[,obj$subregion==sr]\n",
    "\n",
    "df_u <- df[,sample(1:dim(df)[2],2000,replace = TRUE)]\n",
    "\n",
    "row.names(df_u) <- row.names(df)\n",
    "colnames(df_u) <- paste0(\"LA_\",1:2000)"
   ]
  },
  {
   "cell_type": "code",
   "execution_count": 69,
   "metadata": {},
   "outputs": [],
   "source": [
    "sr = \"Right atria\"\n",
    "df <- obj@assays$RNA@data[,obj$subregion==sr]\n",
    "\n",
    "df_u2 <- df[,sample(1:dim(df)[2],2000,replace = TRUE)]\n",
    "\n",
    "row.names(df_u2) <- row.names(df)\n",
    "colnames(df_u2) <- paste0(\"RA_\",1:2000)"
   ]
  },
  {
   "cell_type": "code",
   "execution_count": 70,
   "metadata": {},
   "outputs": [],
   "source": [
    "df_merge <- cbind(df_u ,df_u2)"
   ]
  },
  {
   "cell_type": "code",
   "execution_count": 71,
   "metadata": {},
   "outputs": [],
   "source": [
    "for(i in 3:6){\n",
    "    sr <- unique(obj$subregion)[i]\n",
    "    df <- obj@assays$RNA@data[,obj$subregion==sr]\n",
    "\n",
    "    df_u <- df[,sample(1:dim(df)[2],2000,replace = TRUE)]\n",
    "\n",
    "    row.names(df_u) <- row.names(df)\n",
    "    colnames(df_u) <- paste0(c(\"LA_\",\"RA_\",\"LV_\",\"RV_\",\"IVS_\",\"IAS_\")[i],1:2000)\n",
    "    \n",
    "    df_merge <- cbind(df_merge, df_u)\n",
    "}"
   ]
  },
  {
   "cell_type": "code",
   "execution_count": 72,
   "metadata": {},
   "outputs": [],
   "source": [
    "saveRDS(df_merge,\"/stor/public/chenyx/HHCAd/cell_type_organized/4DEG/Myelocyte.rds\")"
   ]
  },
  {
   "cell_type": "code",
   "execution_count": null,
   "metadata": {},
   "outputs": [],
   "source": []
  },
  {
   "cell_type": "code",
   "execution_count": 73,
   "metadata": {},
   "outputs": [],
   "source": [
    "df_merge <- df_merge[!rowSums(df_merge)==0,]\n",
    "df_merge <- exp(df_merge)-1"
   ]
  },
  {
   "cell_type": "code",
   "execution_count": 74,
   "metadata": {},
   "outputs": [],
   "source": [
    "label <- c(rep(\"LA\",2000),rep(\"RA\",2000),rep(\"LV\",2000),rep(\"RV\",2000),rep(\"IVS\",2000),rep(\"IAS\",2000))"
   ]
  },
  {
   "cell_type": "code",
   "execution_count": 75,
   "metadata": {},
   "outputs": [],
   "source": [
    "obj <- CreateSeuratObject(counts = df_merge,min.cells = 0,min.features = 0)"
   ]
  },
  {
   "cell_type": "code",
   "execution_count": 76,
   "metadata": {},
   "outputs": [],
   "source": [
    "obj$subregion <- label"
   ]
  },
  {
   "cell_type": "code",
   "execution_count": 77,
   "metadata": {},
   "outputs": [
    {
     "name": "stderr",
     "output_type": "stream",
     "text": [
      "Centering and scaling data matrix\n",
      "\n"
     ]
    }
   ],
   "source": [
    "obj <- NormalizeData(obj, normalization.method = \"LogNormalize\", scale.factor = 10000)\n",
    "obj <- ScaleData(obj)"
   ]
  },
  {
   "cell_type": "code",
   "execution_count": 78,
   "metadata": {},
   "outputs": [
    {
     "name": "stderr",
     "output_type": "stream",
     "text": [
      "Calculating cluster IAS\n",
      "\n",
      "Calculating cluster IVS\n",
      "\n",
      "Calculating cluster LA\n",
      "\n",
      "Calculating cluster LV\n",
      "\n",
      "Calculating cluster RA\n",
      "\n",
      "Calculating cluster RV\n",
      "\n"
     ]
    }
   ],
   "source": [
    "markers <- FindAllMarkers(obj,only.pos = TRUE,min.pct = 0.25, logfc.threshold = 0.25)"
   ]
  },
  {
   "cell_type": "code",
   "execution_count": 79,
   "metadata": {},
   "outputs": [],
   "source": [
    "write.csv(markers,paste0(\"/stor/public/chenyx/HHCAd/DEGene_subtype/Myelocyte.csv\"))"
   ]
  },
  {
   "cell_type": "markdown",
   "metadata": {},
   "source": [
    "# Neuron"
   ]
  },
  {
   "cell_type": "code",
   "execution_count": 86,
   "metadata": {},
   "outputs": [],
   "source": [
    "obj <- readRDS(\"/stor/public/chenyx/HHCAd/cell_type_organized/Neuron.rds\")"
   ]
  },
  {
   "cell_type": "code",
   "execution_count": 87,
   "metadata": {},
   "outputs": [
    {
     "data": {
      "text/html": [
       "<style>\n",
       ".list-inline {list-style: none; margin:0; padding: 0}\n",
       ".list-inline>li {display: inline-block}\n",
       ".list-inline>li:not(:last-child)::after {content: \"\\00b7\"; padding: 0 .5ex}\n",
       "</style>\n",
       "<ol class=list-inline><li>'Left ventricle'</li><li>'Right ventricle'</li><li>'Interventricular septum'</li><li>'Left atria'</li><li>'Right atria'</li><li>'Interatrial septum'</li></ol>\n"
      ],
      "text/latex": [
       "\\begin{enumerate*}\n",
       "\\item 'Left ventricle'\n",
       "\\item 'Right ventricle'\n",
       "\\item 'Interventricular septum'\n",
       "\\item 'Left atria'\n",
       "\\item 'Right atria'\n",
       "\\item 'Interatrial septum'\n",
       "\\end{enumerate*}\n"
      ],
      "text/markdown": [
       "1. 'Left ventricle'\n",
       "2. 'Right ventricle'\n",
       "3. 'Interventricular septum'\n",
       "4. 'Left atria'\n",
       "5. 'Right atria'\n",
       "6. 'Interatrial septum'\n",
       "\n",
       "\n"
      ],
      "text/plain": [
       "[1] \"Left ventricle\"          \"Right ventricle\"        \n",
       "[3] \"Interventricular septum\" \"Left atria\"             \n",
       "[5] \"Right atria\"             \"Interatrial septum\"     "
      ]
     },
     "metadata": {},
     "output_type": "display_data"
    }
   ],
   "source": [
    "unique(obj$subregion)"
   ]
  },
  {
   "cell_type": "code",
   "execution_count": null,
   "metadata": {},
   "outputs": [],
   "source": []
  },
  {
   "cell_type": "code",
   "execution_count": 88,
   "metadata": {},
   "outputs": [],
   "source": [
    "sr = \"Left atria\"\n",
    "df <- obj@assays$RNA@data[,obj$subregion==sr]\n",
    "\n",
    "df_u <- df[,sample(1:dim(df)[2],2000,replace = TRUE)]\n",
    "\n",
    "row.names(df_u) <- row.names(df)\n",
    "colnames(df_u) <- paste0(\"LA_\",1:2000,replace = TRUE)"
   ]
  },
  {
   "cell_type": "code",
   "execution_count": 89,
   "metadata": {},
   "outputs": [],
   "source": [
    "sr = \"Right atria\"\n",
    "df <- obj@assays$RNA@data[,obj$subregion==sr]\n",
    "\n",
    "df_u2 <- df[,sample(1:dim(df)[2],2000,replace = TRUE)]\n",
    "\n",
    "row.names(df_u2) <- row.names(df)\n",
    "colnames(df_u2) <- paste0(\"RA_\",1:2000)"
   ]
  },
  {
   "cell_type": "code",
   "execution_count": 90,
   "metadata": {},
   "outputs": [],
   "source": [
    "df_merge <- cbind(df_u ,df_u2)"
   ]
  },
  {
   "cell_type": "code",
   "execution_count": 91,
   "metadata": {},
   "outputs": [],
   "source": [
    "for(i in 3:6){\n",
    "    sr <- unique(obj$subregion)[i]\n",
    "    df <- obj@assays$RNA@data[,obj$subregion==sr]\n",
    "\n",
    "    df_u <- df[,sample(1:dim(df)[2],2000,replace = TRUE)]\n",
    "\n",
    "    row.names(df_u) <- row.names(df)\n",
    "    colnames(df_u) <- paste0(c(\"LA_\",\"RA_\",\"LV_\",\"RV_\",\"IVS_\",\"IAS_\")[i],1:2000)\n",
    "    \n",
    "    df_merge <- cbind(df_merge, df_u)\n",
    "}"
   ]
  },
  {
   "cell_type": "code",
   "execution_count": 92,
   "metadata": {},
   "outputs": [],
   "source": [
    "saveRDS(df_merge,\"/stor/public/chenyx/HHCAd/cell_type_organized/4DEG/Neuron.rds\")"
   ]
  },
  {
   "cell_type": "code",
   "execution_count": null,
   "metadata": {},
   "outputs": [],
   "source": []
  },
  {
   "cell_type": "code",
   "execution_count": 93,
   "metadata": {},
   "outputs": [],
   "source": [
    "df_merge <- df_merge[!rowSums(df_merge)==0,]\n",
    "df_merge <- exp(df_merge)-1"
   ]
  },
  {
   "cell_type": "code",
   "execution_count": 94,
   "metadata": {},
   "outputs": [],
   "source": [
    "label <- c(rep(\"LA\",2000),rep(\"RA\",2000),rep(\"LV\",2000),rep(\"RV\",2000),rep(\"IVS\",2000),rep(\"IAS\",2000))"
   ]
  },
  {
   "cell_type": "code",
   "execution_count": 95,
   "metadata": {},
   "outputs": [],
   "source": [
    "obj <- CreateSeuratObject(counts = df_merge,min.cells = 0,min.features = 0)"
   ]
  },
  {
   "cell_type": "code",
   "execution_count": 96,
   "metadata": {},
   "outputs": [],
   "source": [
    "obj$subregion <- label"
   ]
  },
  {
   "cell_type": "code",
   "execution_count": 97,
   "metadata": {},
   "outputs": [
    {
     "name": "stderr",
     "output_type": "stream",
     "text": [
      "Centering and scaling data matrix\n",
      "\n"
     ]
    }
   ],
   "source": [
    "obj <- NormalizeData(obj, normalization.method = \"LogNormalize\", scale.factor = 10000)\n",
    "obj <- ScaleData(obj)"
   ]
  },
  {
   "cell_type": "code",
   "execution_count": 98,
   "metadata": {},
   "outputs": [
    {
     "name": "stderr",
     "output_type": "stream",
     "text": [
      "Calculating cluster IAS\n",
      "\n",
      "Calculating cluster IVS\n",
      "\n",
      "Calculating cluster LA\n",
      "\n",
      "Calculating cluster LV\n",
      "\n",
      "Calculating cluster RA\n",
      "\n",
      "Calculating cluster RV\n",
      "\n"
     ]
    }
   ],
   "source": [
    "markers <- FindAllMarkers(obj,only.pos = TRUE,min.pct = 0.25, logfc.threshold = 0.25)"
   ]
  },
  {
   "cell_type": "code",
   "execution_count": 99,
   "metadata": {},
   "outputs": [],
   "source": [
    "write.csv(markers,paste0(\"/stor/public/chenyx/HHCAd/DEGene_subtype/Neuron.csv\"))"
   ]
  },
  {
   "cell_type": "markdown",
   "metadata": {},
   "source": [
    "# Pericyte"
   ]
  },
  {
   "cell_type": "code",
   "execution_count": 100,
   "metadata": {},
   "outputs": [],
   "source": [
    "obj <- readRDS(\"/stor/public/chenyx/HHCAd/cell_type_organized/Pericyte.rds\")"
   ]
  },
  {
   "cell_type": "code",
   "execution_count": 101,
   "metadata": {},
   "outputs": [
    {
     "data": {
      "text/html": [
       "<style>\n",
       ".list-inline {list-style: none; margin:0; padding: 0}\n",
       ".list-inline>li {display: inline-block}\n",
       ".list-inline>li:not(:last-child)::after {content: \"\\00b7\"; padding: 0 .5ex}\n",
       "</style>\n",
       "<ol class=list-inline><li>'Left ventricle'</li><li>'Right ventricle'</li><li>'Interventricular septum'</li><li>'Left atria'</li><li>'Right atria'</li><li>'Interatrial septum'</li></ol>\n"
      ],
      "text/latex": [
       "\\begin{enumerate*}\n",
       "\\item 'Left ventricle'\n",
       "\\item 'Right ventricle'\n",
       "\\item 'Interventricular septum'\n",
       "\\item 'Left atria'\n",
       "\\item 'Right atria'\n",
       "\\item 'Interatrial septum'\n",
       "\\end{enumerate*}\n"
      ],
      "text/markdown": [
       "1. 'Left ventricle'\n",
       "2. 'Right ventricle'\n",
       "3. 'Interventricular septum'\n",
       "4. 'Left atria'\n",
       "5. 'Right atria'\n",
       "6. 'Interatrial septum'\n",
       "\n",
       "\n"
      ],
      "text/plain": [
       "[1] \"Left ventricle\"          \"Right ventricle\"        \n",
       "[3] \"Interventricular septum\" \"Left atria\"             \n",
       "[5] \"Right atria\"             \"Interatrial septum\"     "
      ]
     },
     "metadata": {},
     "output_type": "display_data"
    }
   ],
   "source": [
    "unique(obj$subregion)"
   ]
  },
  {
   "cell_type": "code",
   "execution_count": null,
   "metadata": {},
   "outputs": [],
   "source": []
  },
  {
   "cell_type": "code",
   "execution_count": 102,
   "metadata": {},
   "outputs": [],
   "source": [
    "sr = \"Left atria\"\n",
    "df <- obj@assays$RNA@data[,obj$subregion==sr]\n",
    "\n",
    "df_u <- df[,sample(1:dim(df)[2],2000,replace = TRUE)]\n",
    "\n",
    "row.names(df_u) <- row.names(df)\n",
    "colnames(df_u) <- paste0(\"LA_\",1:2000)"
   ]
  },
  {
   "cell_type": "code",
   "execution_count": 103,
   "metadata": {},
   "outputs": [],
   "source": [
    "sr = \"Right atria\"\n",
    "df <- obj@assays$RNA@data[,obj$subregion==sr]\n",
    "\n",
    "df_u2 <- df[,sample(1:dim(df)[2],2000,replace = TRUE)]\n",
    "\n",
    "row.names(df_u2) <- row.names(df)\n",
    "colnames(df_u2) <- paste0(\"RA_\",1:2000)"
   ]
  },
  {
   "cell_type": "code",
   "execution_count": 104,
   "metadata": {},
   "outputs": [],
   "source": [
    "df_merge <- cbind(df_u ,df_u2)"
   ]
  },
  {
   "cell_type": "code",
   "execution_count": 105,
   "metadata": {},
   "outputs": [],
   "source": [
    "for(i in 3:6){\n",
    "    sr <- unique(obj$subregion)[i]\n",
    "    df <- obj@assays$RNA@data[,obj$subregion==sr]\n",
    "\n",
    "    df_u <- df[,sample(1:dim(df)[2],2000,replace = TRUE)]\n",
    "\n",
    "    row.names(df_u) <- row.names(df)\n",
    "    colnames(df_u) <- paste0(c(\"LA_\",\"RA_\",\"LV_\",\"RV_\",\"IVS_\",\"IAS_\")[i],1:2000)\n",
    "    \n",
    "    df_merge <- cbind(df_merge, df_u)\n",
    "}"
   ]
  },
  {
   "cell_type": "code",
   "execution_count": 106,
   "metadata": {},
   "outputs": [],
   "source": [
    "saveRDS(df_merge,\"/stor/public/chenyx/HHCAd/cell_type_organized/4DEG/Pericyte.rds\")"
   ]
  },
  {
   "cell_type": "code",
   "execution_count": null,
   "metadata": {},
   "outputs": [],
   "source": []
  },
  {
   "cell_type": "code",
   "execution_count": 107,
   "metadata": {},
   "outputs": [],
   "source": [
    "df_merge <- df_merge[!rowSums(df_merge)==0,]\n",
    "df_merge <- exp(df_merge)-1"
   ]
  },
  {
   "cell_type": "code",
   "execution_count": 108,
   "metadata": {},
   "outputs": [],
   "source": [
    "label <- c(rep(\"LA\",2000),rep(\"RA\",2000),rep(\"LV\",2000),rep(\"RV\",2000),rep(\"IVS\",2000),rep(\"IAS\",2000))"
   ]
  },
  {
   "cell_type": "code",
   "execution_count": 109,
   "metadata": {},
   "outputs": [],
   "source": [
    "obj <- CreateSeuratObject(counts = df_merge,min.cells = 0,min.features = 0)"
   ]
  },
  {
   "cell_type": "code",
   "execution_count": 110,
   "metadata": {},
   "outputs": [],
   "source": [
    "obj$subregion <- label"
   ]
  },
  {
   "cell_type": "code",
   "execution_count": 111,
   "metadata": {},
   "outputs": [
    {
     "name": "stderr",
     "output_type": "stream",
     "text": [
      "Centering and scaling data matrix\n",
      "\n"
     ]
    }
   ],
   "source": [
    "obj <- NormalizeData(obj, normalization.method = \"LogNormalize\", scale.factor = 10000)\n",
    "obj <- ScaleData(obj)"
   ]
  },
  {
   "cell_type": "code",
   "execution_count": 112,
   "metadata": {},
   "outputs": [
    {
     "name": "stderr",
     "output_type": "stream",
     "text": [
      "Calculating cluster IAS\n",
      "\n",
      "Calculating cluster IVS\n",
      "\n",
      "Calculating cluster LA\n",
      "\n",
      "Calculating cluster LV\n",
      "\n",
      "Calculating cluster RA\n",
      "\n",
      "Calculating cluster RV\n",
      "\n"
     ]
    }
   ],
   "source": [
    "markers <- FindAllMarkers(obj,only.pos = TRUE,min.pct = 0.25, logfc.threshold = 0.25)"
   ]
  },
  {
   "cell_type": "code",
   "execution_count": 113,
   "metadata": {},
   "outputs": [],
   "source": [
    "write.csv(markers,paste0(\"/stor/public/chenyx/HHCAd/DEGene_subtype/Pericyte.csv\"))"
   ]
  },
  {
   "cell_type": "markdown",
   "metadata": {},
   "source": [
    "# Smooth muscle cell"
   ]
  },
  {
   "cell_type": "code",
   "execution_count": 114,
   "metadata": {},
   "outputs": [],
   "source": [
    "obj <- readRDS(\"/stor/public/chenyx/HHCAd/cell_type_organized/Smooth muscle cell.rds\")"
   ]
  },
  {
   "cell_type": "code",
   "execution_count": 115,
   "metadata": {},
   "outputs": [
    {
     "data": {
      "text/html": [
       "<style>\n",
       ".list-inline {list-style: none; margin:0; padding: 0}\n",
       ".list-inline>li {display: inline-block}\n",
       ".list-inline>li:not(:last-child)::after {content: \"\\00b7\"; padding: 0 .5ex}\n",
       "</style>\n",
       "<ol class=list-inline><li>'Left ventricle'</li><li>'Right ventricle'</li><li>'Interventricular septum'</li><li>'Left atria'</li><li>'Right atria'</li><li>'Interatrial septum'</li></ol>\n"
      ],
      "text/latex": [
       "\\begin{enumerate*}\n",
       "\\item 'Left ventricle'\n",
       "\\item 'Right ventricle'\n",
       "\\item 'Interventricular septum'\n",
       "\\item 'Left atria'\n",
       "\\item 'Right atria'\n",
       "\\item 'Interatrial septum'\n",
       "\\end{enumerate*}\n"
      ],
      "text/markdown": [
       "1. 'Left ventricle'\n",
       "2. 'Right ventricle'\n",
       "3. 'Interventricular septum'\n",
       "4. 'Left atria'\n",
       "5. 'Right atria'\n",
       "6. 'Interatrial septum'\n",
       "\n",
       "\n"
      ],
      "text/plain": [
       "[1] \"Left ventricle\"          \"Right ventricle\"        \n",
       "[3] \"Interventricular septum\" \"Left atria\"             \n",
       "[5] \"Right atria\"             \"Interatrial septum\"     "
      ]
     },
     "metadata": {},
     "output_type": "display_data"
    }
   ],
   "source": [
    "unique(obj$subregion)"
   ]
  },
  {
   "cell_type": "code",
   "execution_count": null,
   "metadata": {},
   "outputs": [],
   "source": []
  },
  {
   "cell_type": "code",
   "execution_count": 116,
   "metadata": {},
   "outputs": [],
   "source": [
    "sr = \"Left atria\"\n",
    "df <- obj@assays$RNA@data[,obj$subregion==sr]\n",
    "\n",
    "df_u <- df[,sample(1:dim(df)[2],2000,replace = TRUE)]\n",
    "\n",
    "row.names(df_u) <- row.names(df)\n",
    "colnames(df_u) <- paste0(\"LA_\",1:2000)"
   ]
  },
  {
   "cell_type": "code",
   "execution_count": 117,
   "metadata": {},
   "outputs": [],
   "source": [
    "sr = \"Right atria\"\n",
    "df <- obj@assays$RNA@data[,obj$subregion==sr]\n",
    "\n",
    "df_u2 <- df[,sample(1:dim(df)[2],2000,replace = TRUE)]\n",
    "\n",
    "row.names(df_u2) <- row.names(df)\n",
    "colnames(df_u2) <- paste0(\"RA_\",1:2000)"
   ]
  },
  {
   "cell_type": "code",
   "execution_count": 118,
   "metadata": {},
   "outputs": [],
   "source": [
    "df_merge <- cbind(df_u ,df_u2)"
   ]
  },
  {
   "cell_type": "code",
   "execution_count": 119,
   "metadata": {},
   "outputs": [],
   "source": [
    "for(i in 3:6){\n",
    "    sr <- unique(obj$subregion)[i]\n",
    "    df <- obj@assays$RNA@data[,obj$subregion==sr]\n",
    "\n",
    "    df_u <- df[,sample(1:dim(df)[2],2000,replace = TRUE)]\n",
    "\n",
    "    row.names(df_u) <- row.names(df)\n",
    "    colnames(df_u) <- paste0(c(\"LA_\",\"RA_\",\"LV_\",\"RV_\",\"IVS_\",\"IAS_\")[i],1:2000)\n",
    "    \n",
    "    df_merge <- cbind(df_merge, df_u)\n",
    "}"
   ]
  },
  {
   "cell_type": "code",
   "execution_count": 120,
   "metadata": {},
   "outputs": [],
   "source": [
    "saveRDS(df_merge,\"/stor/public/chenyx/HHCAd/cell_type_organized/4DEG/Smooth muscle cell.rds\")"
   ]
  },
  {
   "cell_type": "code",
   "execution_count": null,
   "metadata": {},
   "outputs": [],
   "source": []
  },
  {
   "cell_type": "code",
   "execution_count": 121,
   "metadata": {},
   "outputs": [],
   "source": [
    "df_merge <- df_merge[!rowSums(df_merge)==0,]\n",
    "df_merge <- exp(df_merge)-1"
   ]
  },
  {
   "cell_type": "code",
   "execution_count": 122,
   "metadata": {},
   "outputs": [],
   "source": [
    "label <- c(rep(\"LA\",2000),rep(\"RA\",2000),rep(\"LV\",2000),rep(\"RV\",2000),rep(\"IVS\",2000),rep(\"IAS\",2000))"
   ]
  },
  {
   "cell_type": "code",
   "execution_count": 123,
   "metadata": {},
   "outputs": [],
   "source": [
    "obj <- CreateSeuratObject(counts = df_merge,min.cells = 0,min.features = 0)"
   ]
  },
  {
   "cell_type": "code",
   "execution_count": 124,
   "metadata": {},
   "outputs": [],
   "source": [
    "obj$subregion <- label"
   ]
  },
  {
   "cell_type": "code",
   "execution_count": 125,
   "metadata": {},
   "outputs": [
    {
     "name": "stderr",
     "output_type": "stream",
     "text": [
      "Centering and scaling data matrix\n",
      "\n"
     ]
    }
   ],
   "source": [
    "obj <- NormalizeData(obj, normalization.method = \"LogNormalize\", scale.factor = 10000)\n",
    "obj <- ScaleData(obj)"
   ]
  },
  {
   "cell_type": "code",
   "execution_count": 126,
   "metadata": {},
   "outputs": [
    {
     "name": "stderr",
     "output_type": "stream",
     "text": [
      "Calculating cluster IAS\n",
      "\n",
      "Calculating cluster IVS\n",
      "\n",
      "Calculating cluster LA\n",
      "\n",
      "Calculating cluster LV\n",
      "\n",
      "Calculating cluster RA\n",
      "\n",
      "Calculating cluster RV\n",
      "\n"
     ]
    }
   ],
   "source": [
    "markers <- FindAllMarkers(obj,only.pos = TRUE,min.pct = 0.25, logfc.threshold = 0.25)"
   ]
  },
  {
   "cell_type": "code",
   "execution_count": 127,
   "metadata": {},
   "outputs": [],
   "source": [
    "write.csv(markers,paste0(\"/stor/public/chenyx/HHCAd/DEGene_subtype/Smooth muscle cell.csv\"))"
   ]
  },
  {
   "cell_type": "markdown",
   "metadata": {},
   "source": [
    "# Adipocyte"
   ]
  },
  {
   "cell_type": "code",
   "execution_count": 128,
   "metadata": {},
   "outputs": [],
   "source": [
    "obj <- readRDS(\"/stor/public/chenyx/HHCAd/cell_type_organized/Adipocyte.rds\")"
   ]
  },
  {
   "cell_type": "code",
   "execution_count": 129,
   "metadata": {},
   "outputs": [
    {
     "data": {
      "text/html": [
       "<style>\n",
       ".list-inline {list-style: none; margin:0; padding: 0}\n",
       ".list-inline>li {display: inline-block}\n",
       ".list-inline>li:not(:last-child)::after {content: \"\\00b7\"; padding: 0 .5ex}\n",
       "</style>\n",
       "<ol class=list-inline><li>'Left ventricle'</li><li>'Right ventricle'</li><li>'Interventricular septum'</li><li>'Left atria'</li><li>'Right atria'</li><li>'Interatrial septum'</li></ol>\n"
      ],
      "text/latex": [
       "\\begin{enumerate*}\n",
       "\\item 'Left ventricle'\n",
       "\\item 'Right ventricle'\n",
       "\\item 'Interventricular septum'\n",
       "\\item 'Left atria'\n",
       "\\item 'Right atria'\n",
       "\\item 'Interatrial septum'\n",
       "\\end{enumerate*}\n"
      ],
      "text/markdown": [
       "1. 'Left ventricle'\n",
       "2. 'Right ventricle'\n",
       "3. 'Interventricular septum'\n",
       "4. 'Left atria'\n",
       "5. 'Right atria'\n",
       "6. 'Interatrial septum'\n",
       "\n",
       "\n"
      ],
      "text/plain": [
       "[1] \"Left ventricle\"          \"Right ventricle\"        \n",
       "[3] \"Interventricular septum\" \"Left atria\"             \n",
       "[5] \"Right atria\"             \"Interatrial septum\"     "
      ]
     },
     "metadata": {},
     "output_type": "display_data"
    }
   ],
   "source": [
    "unique(obj$subregion)"
   ]
  },
  {
   "cell_type": "code",
   "execution_count": null,
   "metadata": {},
   "outputs": [],
   "source": []
  },
  {
   "cell_type": "code",
   "execution_count": 130,
   "metadata": {},
   "outputs": [],
   "source": [
    "sr = \"Left atria\"\n",
    "df <- obj@assays$RNA@data[,obj$subregion==sr]\n",
    "\n",
    "df_u <- df[,sample(1:dim(df)[2],2000,replace = TRUE)]\n",
    "\n",
    "row.names(df_u) <- row.names(df)\n",
    "colnames(df_u) <- paste0(\"LA_\",1:2000,replace = TRUE)"
   ]
  },
  {
   "cell_type": "code",
   "execution_count": 131,
   "metadata": {},
   "outputs": [],
   "source": [
    "sr = \"Right atria\"\n",
    "df <- obj@assays$RNA@data[,obj$subregion==sr]\n",
    "\n",
    "df_u2 <- df[,sample(1:dim(df)[2],2000,replace = TRUE)]\n",
    "\n",
    "row.names(df_u2) <- row.names(df)\n",
    "colnames(df_u2) <- paste0(\"RA_\",1:2000)"
   ]
  },
  {
   "cell_type": "code",
   "execution_count": 132,
   "metadata": {},
   "outputs": [],
   "source": [
    "df_merge <- cbind(df_u ,df_u2)"
   ]
  },
  {
   "cell_type": "code",
   "execution_count": 134,
   "metadata": {},
   "outputs": [],
   "source": [
    "for(i in 3:6){\n",
    "    sr <- unique(obj$subregion)[i]\n",
    "    df <- obj@assays$RNA@data[,obj$subregion==sr]\n",
    "\n",
    "    df_u <- df[,sample(1:dim(df)[2],2000,replace = TRUE)]\n",
    "\n",
    "    row.names(df_u) <- row.names(df)\n",
    "    colnames(df_u) <- paste0(c(\"LA_\",\"RA_\",\"LV_\",\"RV_\",\"IVS_\",\"IAS_\")[i],1:2000)\n",
    "    \n",
    "    df_merge <- cbind(df_merge, df_u)\n",
    "}"
   ]
  },
  {
   "cell_type": "code",
   "execution_count": 135,
   "metadata": {},
   "outputs": [],
   "source": [
    "saveRDS(df_merge,\"/stor/public/chenyx/HHCAd/cell_type_organized/4DEG/Adipocyte.rds\")"
   ]
  },
  {
   "cell_type": "code",
   "execution_count": null,
   "metadata": {},
   "outputs": [],
   "source": []
  },
  {
   "cell_type": "code",
   "execution_count": 136,
   "metadata": {},
   "outputs": [],
   "source": [
    "df_merge <- df_merge[!rowSums(df_merge)==0,]\n",
    "df_merge <- exp(df_merge)-1"
   ]
  },
  {
   "cell_type": "code",
   "execution_count": 137,
   "metadata": {},
   "outputs": [],
   "source": [
    "label <- c(rep(\"LA\",2000),rep(\"RA\",2000),rep(\"LV\",2000),rep(\"RV\",2000),rep(\"IVS\",2000),rep(\"IAS\",2000))"
   ]
  },
  {
   "cell_type": "code",
   "execution_count": 138,
   "metadata": {},
   "outputs": [],
   "source": [
    "obj <- CreateSeuratObject(counts = df_merge,min.cells = 0,min.features = 0)"
   ]
  },
  {
   "cell_type": "code",
   "execution_count": 139,
   "metadata": {},
   "outputs": [],
   "source": [
    "obj$subregion <- label"
   ]
  },
  {
   "cell_type": "code",
   "execution_count": 140,
   "metadata": {},
   "outputs": [
    {
     "name": "stderr",
     "output_type": "stream",
     "text": [
      "Centering and scaling data matrix\n",
      "\n"
     ]
    }
   ],
   "source": [
    "obj <- NormalizeData(obj, normalization.method = \"LogNormalize\", scale.factor = 10000)\n",
    "obj <- ScaleData(obj)"
   ]
  },
  {
   "cell_type": "code",
   "execution_count": 141,
   "metadata": {},
   "outputs": [
    {
     "name": "stderr",
     "output_type": "stream",
     "text": [
      "Calculating cluster IAS\n",
      "\n",
      "Calculating cluster IVS\n",
      "\n",
      "Calculating cluster LA\n",
      "\n",
      "Calculating cluster LV\n",
      "\n",
      "Calculating cluster RA\n",
      "\n",
      "Calculating cluster RV\n",
      "\n"
     ]
    }
   ],
   "source": [
    "markers <- FindAllMarkers(obj,only.pos = TRUE,min.pct = 0.25, logfc.threshold = 0.25)"
   ]
  },
  {
   "cell_type": "code",
   "execution_count": 142,
   "metadata": {},
   "outputs": [],
   "source": [
    "write.csv(markers,paste0(\"/stor/public/chenyx/HHCAd/DEGene_subtype/Adipocyte.csv\"))"
   ]
  }
 ],
 "metadata": {
  "kernelspec": {
   "display_name": "R4.0",
   "language": "R",
   "name": "ir3"
  },
  "language_info": {
   "codemirror_mode": "r",
   "file_extension": ".r",
   "mimetype": "text/x-r-source",
   "name": "R",
   "pygments_lexer": "r",
   "version": "4.0.3"
  }
 },
 "nbformat": 4,
 "nbformat_minor": 4
}
