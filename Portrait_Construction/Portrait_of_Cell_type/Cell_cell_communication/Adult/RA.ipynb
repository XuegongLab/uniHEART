{
 "cells": [
  {
   "cell_type": "code",
   "execution_count": 1,
   "metadata": {},
   "outputs": [],
   "source": [
    "library(CellChat)\n",
    "library(ggplot2)\n",
    "library(ggalluvial)\n",
    "library(svglite)\n",
    "library(Seurat)\n",
    "library(mindr)\n",
    "options(stringsAsFactors = FALSE)\n",
    "library(rjson)"
   ]
  },
  {
   "cell_type": "markdown",
   "metadata": {},
   "source": [
    "# load data"
   ]
  },
  {
   "cell_type": "code",
   "execution_count": 2,
   "metadata": {},
   "outputs": [],
   "source": [
    "dataobj <-readRDS('/stor/public/chenyx/HHCAd/unit_organized/RA.seuratobj.rds')"
   ]
  },
  {
   "cell_type": "code",
   "execution_count": 3,
   "metadata": {
    "collapsed": true,
    "jupyter": {
     "outputs_hidden": true
    }
   },
   "outputs": [
    {
     "name": "stderr",
     "output_type": "stream",
     "text": [
      "Loading required package: SeuratObject\n",
      "\n",
      "Registered S3 methods overwritten by 'SeuratObject':\n",
      "  method                     from  \n",
      "  $.JackStrawData            Seurat\n",
      "  $.Seurat                   Seurat\n",
      "  $.SeuratCommand            Seurat\n",
      "  $<-.Seurat                 Seurat\n",
      "  [.Assay                    Seurat\n",
      "  [.DimReduc                 Seurat\n",
      "  [.Seurat                   Seurat\n",
      "  [.SeuratCommand            Seurat\n",
      "  [.SpatialImage             Seurat\n",
      "  [[.Assay                   Seurat\n",
      "  [[.DimReduc                Seurat\n",
      "  [[.Seurat                  Seurat\n",
      "  levels<-.Seurat            Seurat\n",
      "  .DollarNames.JackStrawData Seurat\n",
      "  .DollarNames.Seurat        Seurat\n",
      "  .DollarNames.SeuratCommand Seurat\n",
      "  as.list.SeuratCommand      Seurat\n",
      "  as.logical.JackStrawData   Seurat\n",
      "  dim.Assay                  Seurat\n",
      "  dim.DimReduc               Seurat\n",
      "  dim.Neighbor               Seurat\n",
      "  dim.Seurat                 Seurat\n",
      "  dim.SpatialImage           Seurat\n",
      "  dimnames.Assay             Seurat\n",
      "  dimnames.DimReduc          Seurat\n",
      "  dimnames.Seurat            Seurat\n",
      "  droplevels.Seurat          Seurat\n",
      "  length.DimReduc            Seurat\n",
      "  levels.Seurat              Seurat\n",
      "  merge.Assay                Seurat\n",
      "  merge.Seurat               Seurat\n",
      "  names.DimReduc             Seurat\n",
      "  names.Seurat               Seurat\n",
      "  print.DimReduc             Seurat\n",
      "  subset.Assay               Seurat\n",
      "  subset.DimReduc            Seurat\n",
      "  subset.Seurat              Seurat\n",
      "  subset.SpatialImage        Seurat\n",
      "\n",
      "\n",
      "Attaching package: ‘SeuratObject’\n",
      "\n",
      "\n",
      "The following objects are masked from ‘package:Seurat’:\n",
      "\n",
      "    AddMetaData, as.Graph, as.Neighbor, as.Seurat, as.sparse, Assays,\n",
      "    Cells, CellsByIdentities, Command, CreateAssayObject,\n",
      "    CreateDimReducObject, CreateSeuratObject, DefaultAssay,\n",
      "    DefaultAssay<-, Distances, Embeddings, FetchData, GetAssayData,\n",
      "    GetImage, GetTissueCoordinates, HVFInfo, Idents, Idents<-, Images,\n",
      "    Index, Index<-, Indices, IsGlobal, JS, JS<-, Key, Key<-, Loadings,\n",
      "    Loadings<-, LogSeuratCommand, Misc, Misc<-, Neighbors, pbmc_small,\n",
      "    Project, Project<-, Radius, Reductions, RenameAssays, RenameCells,\n",
      "    RenameIdents, ReorderIdent, RowMergeSparseMatrices, SetAssayData,\n",
      "    SetIdent, SpatiallyVariableFeatures, StashIdent, Stdev, SVFInfo,\n",
      "    Tool, Tool<-, UpdateSeuratObject, VariableFeatures,\n",
      "    VariableFeatures<-, WhichCells\n",
      "\n",
      "\n"
     ]
    },
    {
     "data": {
      "text/html": [
       "<style>\n",
       ".list-inline {list-style: none; margin:0; padding: 0}\n",
       ".list-inline>li {display: inline-block}\n",
       ".list-inline>li:not(:last-child)::after {content: \"\\00b7\"; padding: 0 .5ex}\n",
       "</style>\n",
       "<ol class=list-inline><li>'Cardiomyocyte cell'</li><li>'Fibroblast'</li><li>'Endothelial cell'</li><li>'Myelocyte'</li><li>'Pericyte'</li><li>'Smooth muscle cell'</li><li>'Neuron'</li><li>'Lymphocyte'</li><li>'Adipocyte'</li></ol>\n"
      ],
      "text/latex": [
       "\\begin{enumerate*}\n",
       "\\item 'Cardiomyocyte cell'\n",
       "\\item 'Fibroblast'\n",
       "\\item 'Endothelial cell'\n",
       "\\item 'Myelocyte'\n",
       "\\item 'Pericyte'\n",
       "\\item 'Smooth muscle cell'\n",
       "\\item 'Neuron'\n",
       "\\item 'Lymphocyte'\n",
       "\\item 'Adipocyte'\n",
       "\\end{enumerate*}\n"
      ],
      "text/markdown": [
       "1. 'Cardiomyocyte cell'\n",
       "2. 'Fibroblast'\n",
       "3. 'Endothelial cell'\n",
       "4. 'Myelocyte'\n",
       "5. 'Pericyte'\n",
       "6. 'Smooth muscle cell'\n",
       "7. 'Neuron'\n",
       "8. 'Lymphocyte'\n",
       "9. 'Adipocyte'\n",
       "\n",
       "\n"
      ],
      "text/plain": [
       "[1] \"Cardiomyocyte cell\" \"Fibroblast\"         \"Endothelial cell\"  \n",
       "[4] \"Myelocyte\"          \"Pericyte\"           \"Smooth muscle cell\"\n",
       "[7] \"Neuron\"             \"Lymphocyte\"         \"Adipocyte\"         "
      ]
     },
     "metadata": {},
     "output_type": "display_data"
    }
   ],
   "source": [
    "unique(dataobj$cell_type)"
   ]
  },
  {
   "cell_type": "code",
   "execution_count": 4,
   "metadata": {},
   "outputs": [],
   "source": [
    "data.input <- dataobj@assays$RNA@data\n",
    "identity <-data.frame(dataobj$cell_type)"
   ]
  },
  {
   "cell_type": "markdown",
   "metadata": {},
   "source": [
    "# build cellchat object"
   ]
  },
  {
   "cell_type": "code",
   "execution_count": 5,
   "metadata": {},
   "outputs": [],
   "source": [
    "# create a CellChat object\n",
    "cellchat <- createCellChat(data = data.input)\n",
    "# add Metadata\n",
    "cellchat <- addMeta(cellchat, meta = identity, meta.name = \"labels\")\n",
    "cellchat <- setIdent(cellchat, ident.use = \"labels\") \n",
    "groupSize <- as.numeric(table(cellchat@idents)) # number of cells in each cell group\n",
    "CellChatDB <- CellChatDB.human \n",
    "cellchat@DB <- CellChatDB"
   ]
  },
  {
   "cell_type": "code",
   "execution_count": null,
   "metadata": {},
   "outputs": [
    {
     "name": "stdout",
     "output_type": "stream",
     "text": [
      "Issue identified!! Please check the official Gene Symbol of the following genes:  \n",
      " MGI:1915803 MGI:107675 MGI:1913728 MGI:107674 MGI:2157942 MGI:1347245 MGI:2135589 MGI:1918059 MGI:2136934 MGI:2136650 MGI:3522133 MGI:2664358 ITGAL_ITGB2L MGI:95957 MGI:95914 MGI:95915 MGI:1276570 MGI:95928 MGI:95929 MGI:95931 MGI:95936 H2-Q8 MGI:95956 MGI:95958 MGI:95959 H2-T9 MGI:1276527 MGI:2676637 MGI:95913 MGI:1276526 MGI:1276525 MGI:2687364 MGI:95942 MGI:95935 MGI:1276524 MGI:892004 MGI:95896 MGI:95904 MGI:1276522 H2-T18 H2-Q9 MGI:3704134 H2-L MGI:3702919 MGI:95933 MGI:2442805 MGI:3779381 MGI:95917 MGI:3647514 H2-BI H2-D MGI:109477 H60a H2-Ea-ps MGI:95895 MGI:103070 MGI:95901 MGI:95922 MGI:95923 MGI:107741 MGI:104849 MGI:1195970 MGI:1889024 MGI:3042847 MGI:1921853 MGI:3036289 MGI:2443630 MGI:1920500 MGI:107539 MGI:96877 MGI:2442965 MGI:1916392 ITGAM_ITGB2L MGI:2652397 MGI:96876 MGI:2159681 \n"
     ]
    }
   ],
   "source": [
    "# Preprocessing\n",
    "cellchat <- subsetData(cellchat)\n",
    "cellchat <- identifyOverExpressedGenes(cellchat)\n",
    "cellchat <- identifyOverExpressedInteractions(cellchat)\n",
    "cellchat <- projectData(cellchat, PPI.human)\n",
    "cellchat <- computeCommunProb(cellchat)\n",
    "cellchat <- computeCommunProbPathway(cellchat)\n",
    "cellchat <- aggregateNet(cellchat)\n",
    "cellchat <- netAnalysis_signalingRole(cellchat, slot.name = \"netP\")"
   ]
  },
  {
   "cell_type": "code",
   "execution_count": null,
   "metadata": {},
   "outputs": [],
   "source": [
    "cellchat"
   ]
  },
  {
   "cell_type": "code",
   "execution_count": null,
   "metadata": {},
   "outputs": [],
   "source": [
    "pathways <- cellchat@netP$pathways"
   ]
  },
  {
   "cell_type": "code",
   "execution_count": null,
   "metadata": {},
   "outputs": [],
   "source": [
    "pathways"
   ]
  },
  {
   "cell_type": "code",
   "execution_count": null,
   "metadata": {},
   "outputs": [],
   "source": [
    "saveRDS(cellchat,\"/stor/public/chenyx/HHCAd/CellChat_result/RA.rds\")"
   ]
  },
  {
   "cell_type": "markdown",
   "metadata": {},
   "source": [
    "# build relationplot json"
   ]
  },
  {
   "cell_type": "code",
   "execution_count": 2,
   "metadata": {},
   "outputs": [],
   "source": [
    "cellchat<- readRDS(\"/stor/public/chenyx/HHCAd/CellChat_result/RA.rds\")"
   ]
  },
  {
   "cell_type": "code",
   "execution_count": 3,
   "metadata": {},
   "outputs": [],
   "source": [
    "js_nodelist <- toJSON(data.frame(levels(cellchat@idents)))"
   ]
  },
  {
   "cell_type": "code",
   "execution_count": 4,
   "metadata": {},
   "outputs": [
    {
     "data": {
      "text/html": [
       "'{\"levels.cellchat.idents.\":[\"Adipocyte\",\"Cardiomyocyte cell\",\"Endothelial cell\",\"Fibroblast\",\"Lymphocyte\",\"Myelocyte\",\"Neuron\",\"Pericyte\",\"Smooth muscle cell\"]}'"
      ],
      "text/latex": [
       "'\\{\"levels.cellchat.idents.\":{[}\"Adipocyte\",\"Cardiomyocyte cell\",\"Endothelial cell\",\"Fibroblast\",\"Lymphocyte\",\"Myelocyte\",\"Neuron\",\"Pericyte\",\"Smooth muscle cell\"{]}\\}'"
      ],
      "text/markdown": [
       "'{\"levels.cellchat.idents.\":[\"Adipocyte\",\"Cardiomyocyte cell\",\"Endothelial cell\",\"Fibroblast\",\"Lymphocyte\",\"Myelocyte\",\"Neuron\",\"Pericyte\",\"Smooth muscle cell\"]}'"
      ],
      "text/plain": [
       "[1] \"{\\\"levels.cellchat.idents.\\\":[\\\"Adipocyte\\\",\\\"Cardiomyocyte cell\\\",\\\"Endothelial cell\\\",\\\"Fibroblast\\\",\\\"Lymphocyte\\\",\\\"Myelocyte\\\",\\\"Neuron\\\",\\\"Pericyte\\\",\\\"Smooth muscle cell\\\"]}\""
      ]
     },
     "metadata": {},
     "output_type": "display_data"
    }
   ],
   "source": [
    "js_nodelist"
   ]
  },
  {
   "cell_type": "code",
   "execution_count": 5,
   "metadata": {},
   "outputs": [],
   "source": [
    "prop <- read.csv(\"/stor/public/liwenrui_heart/heart_cell_proportion/Right_atria.csv\",row.names = 1)\n",
    "prop <- prop/sum(prop)\n",
    "prop <- round(prop,3)"
   ]
  },
  {
   "cell_type": "code",
   "execution_count": 6,
   "metadata": {},
   "outputs": [],
   "source": [
    "js_nodes <- '['\n",
    "for(i in 1:length(levels(cellchat@idents))){\n",
    "    js_nodes <- paste0(js_nodes,'{\"name\":\"',levels(cellchat@idents)[i],'\",\"category\":',i-1,',\"label\":{\"show\": true},\"symbolSize\":',as.integer(5+as.double(prop[gsub(\" \",\".\",levels(cellchat@idents)[i])])*50),\"}\")# json index should start at 0\n",
    "    if(i != length(levels(cellchat@idents))){\n",
    "        js_nodes <- paste0(js_nodes,',')\n",
    "    }else{\n",
    "        js_nodes <- paste0(js_nodes,']')\n",
    "    }\n",
    "}"
   ]
  },
  {
   "cell_type": "code",
   "execution_count": 7,
   "metadata": {},
   "outputs": [
    {
     "data": {
      "text/html": [
       "'[{\"name\":\"Adipocyte\",\"category\":0,\"label\":{\"show\": true},\"symbolSize\":6},{\"name\":\"Cardiomyocyte cell\",\"category\":1,\"label\":{\"show\": true},\"symbolSize\":16},{\"name\":\"Endothelial cell\",\"category\":2,\"label\":{\"show\": true},\"symbolSize\":14},{\"name\":\"Fibroblast\",\"category\":3,\"label\":{\"show\": true},\"symbolSize\":16},{\"name\":\"Lymphocyte\",\"category\":4,\"label\":{\"show\": true},\"symbolSize\":8},{\"name\":\"Myelocyte\",\"category\":5,\"label\":{\"show\": true},\"symbolSize\":8},{\"name\":\"Neuron\",\"category\":6,\"label\":{\"show\": true},\"symbolSize\":6},{\"name\":\"Pericyte\",\"category\":7,\"label\":{\"show\": true},\"symbolSize\":9},{\"name\":\"Smooth muscle cell\",\"category\":8,\"label\":{\"show\": true},\"symbolSize\":7}]'"
      ],
      "text/latex": [
       "'{[}\\{\"name\":\"Adipocyte\",\"category\":0,\"label\":\\{\"show\": true\\},\"symbolSize\":6\\},\\{\"name\":\"Cardiomyocyte cell\",\"category\":1,\"label\":\\{\"show\": true\\},\"symbolSize\":16\\},\\{\"name\":\"Endothelial cell\",\"category\":2,\"label\":\\{\"show\": true\\},\"symbolSize\":14\\},\\{\"name\":\"Fibroblast\",\"category\":3,\"label\":\\{\"show\": true\\},\"symbolSize\":16\\},\\{\"name\":\"Lymphocyte\",\"category\":4,\"label\":\\{\"show\": true\\},\"symbolSize\":8\\},\\{\"name\":\"Myelocyte\",\"category\":5,\"label\":\\{\"show\": true\\},\"symbolSize\":8\\},\\{\"name\":\"Neuron\",\"category\":6,\"label\":\\{\"show\": true\\},\"symbolSize\":6\\},\\{\"name\":\"Pericyte\",\"category\":7,\"label\":\\{\"show\": true\\},\"symbolSize\":9\\},\\{\"name\":\"Smooth muscle cell\",\"category\":8,\"label\":\\{\"show\": true\\},\"symbolSize\":7\\}{]}'"
      ],
      "text/markdown": [
       "'[{\"name\":\"Adipocyte\",\"category\":0,\"label\":{\"show\": true},\"symbolSize\":6},{\"name\":\"Cardiomyocyte cell\",\"category\":1,\"label\":{\"show\": true},\"symbolSize\":16},{\"name\":\"Endothelial cell\",\"category\":2,\"label\":{\"show\": true},\"symbolSize\":14},{\"name\":\"Fibroblast\",\"category\":3,\"label\":{\"show\": true},\"symbolSize\":16},{\"name\":\"Lymphocyte\",\"category\":4,\"label\":{\"show\": true},\"symbolSize\":8},{\"name\":\"Myelocyte\",\"category\":5,\"label\":{\"show\": true},\"symbolSize\":8},{\"name\":\"Neuron\",\"category\":6,\"label\":{\"show\": true},\"symbolSize\":6},{\"name\":\"Pericyte\",\"category\":7,\"label\":{\"show\": true},\"symbolSize\":9},{\"name\":\"Smooth muscle cell\",\"category\":8,\"label\":{\"show\": true},\"symbolSize\":7}]'"
      ],
      "text/plain": [
       "[1] \"[{\\\"name\\\":\\\"Adipocyte\\\",\\\"category\\\":0,\\\"label\\\":{\\\"show\\\": true},\\\"symbolSize\\\":6},{\\\"name\\\":\\\"Cardiomyocyte cell\\\",\\\"category\\\":1,\\\"label\\\":{\\\"show\\\": true},\\\"symbolSize\\\":16},{\\\"name\\\":\\\"Endothelial cell\\\",\\\"category\\\":2,\\\"label\\\":{\\\"show\\\": true},\\\"symbolSize\\\":14},{\\\"name\\\":\\\"Fibroblast\\\",\\\"category\\\":3,\\\"label\\\":{\\\"show\\\": true},\\\"symbolSize\\\":16},{\\\"name\\\":\\\"Lymphocyte\\\",\\\"category\\\":4,\\\"label\\\":{\\\"show\\\": true},\\\"symbolSize\\\":8},{\\\"name\\\":\\\"Myelocyte\\\",\\\"category\\\":5,\\\"label\\\":{\\\"show\\\": true},\\\"symbolSize\\\":8},{\\\"name\\\":\\\"Neuron\\\",\\\"category\\\":6,\\\"label\\\":{\\\"show\\\": true},\\\"symbolSize\\\":6},{\\\"name\\\":\\\"Pericyte\\\",\\\"category\\\":7,\\\"label\\\":{\\\"show\\\": true},\\\"symbolSize\\\":9},{\\\"name\\\":\\\"Smooth muscle cell\\\",\\\"category\\\":8,\\\"label\\\":{\\\"show\\\": true},\\\"symbolSize\\\":7}]\""
      ]
     },
     "metadata": {},
     "output_type": "display_data"
    }
   ],
   "source": [
    "js_nodes"
   ]
  },
  {
   "cell_type": "code",
   "execution_count": 8,
   "metadata": {},
   "outputs": [],
   "source": [
    "writeLines(js_nodelist, \"/data8t/HHP/New_Website/Adult/Page2/RelationshipPlot/RA/nodelist.json\") \n",
    "writeLines(js_nodes, \"/data8t/HHP/New_Website/Adult/Page2/RelationshipPlot/RA/nodes.json\") "
   ]
  },
  {
   "cell_type": "code",
   "execution_count": 20,
   "metadata": {},
   "outputs": [],
   "source": [
    "ps_list <- array(0,dim = c(length(levels(cellchat@idents)),length(levels(cellchat@idents)),length(pathways)))\n",
    "for(p in 1:length(pathways)){\n",
    "    pathway <- pathways[p]\n",
    "\n",
    "    ############ From https://github.com/sqjin/CellChat/blob/master/R/visualization.R 188-223\n",
    "    signaling <- pathway\n",
    "    pairLR <- searchPair(signaling = pathway, pairLR.use = cellchat@LR$LRsig, key = \"pathway_name\", matching.exact = T, pair.only = T)\n",
    "    signaling.name <- signaling\n",
    "    net <- cellchat@net\n",
    "\n",
    "    pairLR.use.name <- dimnames(net$prob)[[3]]\n",
    "    pairLR.name <- intersect(rownames(pairLR), pairLR.use.name)\n",
    "    pairLR <- pairLR[pairLR.name, ]\n",
    "    prob <- net$prob\n",
    "    pval <- net$pval\n",
    "\n",
    "    prob[pval > 0.05] <- 0\n",
    "    if (length(pairLR.name) > 1) {\n",
    "    pairLR.name.use <- pairLR.name[apply(prob[,,pairLR.name], 3, sum) != 0]\n",
    "    } else {\n",
    "    pairLR.name.use <- pairLR.name[sum(prob[,,pairLR.name]) != 0]\n",
    "    }\n",
    "\n",
    "\n",
    "    if (length(pairLR.name.use) == 0) {\n",
    "    stop(paste0('There is no significant communication of ', signaling.name))\n",
    "    } else {\n",
    "    pairLR <- pairLR[pairLR.name.use,]\n",
    "    }\n",
    "    nRow <- length(pairLR.name.use)\n",
    "\n",
    "    prob <- prob[,,pairLR.name.use]\n",
    "    pval <- pval[,,pairLR.name.use]\n",
    "\n",
    "    if (length(dim(prob)) == 2) {\n",
    "    prob <- replicate(1, prob, simplify=\"array\")\n",
    "    pval <- replicate(1, pval, simplify=\"array\")\n",
    "    }\n",
    "    prob <-(prob-min(prob))/(max(prob)-min(prob))\n",
    "    prob.sum <- apply(prob, c(1,2), sum)\n",
    "    prob.sum <-(prob.sum-min(prob.sum))/(max(prob.sum)-min(prob.sum))*10 # 参数待定\n",
    "    prob.sum <- signif(prob.sum,3)\n",
    "    ############\n",
    "    \n",
    "    ps_list[,,p]<- prob.sum\n",
    "    ############\n",
    "\n",
    "    js_edge <-'['\n",
    "    for(i in 1:length(levels(cellchat@idents))){\n",
    "        for(j in 1:length(levels(cellchat@idents))){\n",
    "            if(prob.sum[i,j]!=0){\n",
    "                js_edge <- paste0(js_edge, '{\"source\":',i-1,',\"target\":',j-1,',\"weight\":',prob.sum[i,j],'},')# json index should start at 0\n",
    "            }\n",
    "        }\n",
    "    }\n",
    "    js_edge <- substr(js_edge,1,nchar(js_edge)-1)\n",
    "    js_edge <- paste0(js_edge,']')\n",
    "    writeLines(js_edge, paste0(\"/data8t/HHP/New_Website/Adult/Page2/RelationshipPlot/RA/\",pathway,\".json\"))\n",
    "}"
   ]
  },
  {
   "cell_type": "markdown",
   "metadata": {},
   "source": [
    "# build heatmap json"
   ]
  },
  {
   "cell_type": "code",
   "execution_count": 21,
   "metadata": {},
   "outputs": [
    {
     "data": {
      "text/html": [
       "<style>\n",
       ".list-inline {list-style: none; margin:0; padding: 0}\n",
       ".list-inline>li {display: inline-block}\n",
       ".list-inline>li:not(:last-child)::after {content: \"\\00b7\"; padding: 0 .5ex}\n",
       "</style>\n",
       "<ol class=list-inline><li>'Adipocyte'</li><li>'Cardiomyocyte cell'</li><li>'Endothelial cell'</li><li>'Fibroblast'</li><li>'Lymphocyte'</li><li>'Myelocyte'</li><li>'Neuron'</li><li>'Pericyte'</li><li>'Smooth muscle cell'</li></ol>\n"
      ],
      "text/latex": [
       "\\begin{enumerate*}\n",
       "\\item 'Adipocyte'\n",
       "\\item 'Cardiomyocyte cell'\n",
       "\\item 'Endothelial cell'\n",
       "\\item 'Fibroblast'\n",
       "\\item 'Lymphocyte'\n",
       "\\item 'Myelocyte'\n",
       "\\item 'Neuron'\n",
       "\\item 'Pericyte'\n",
       "\\item 'Smooth muscle cell'\n",
       "\\end{enumerate*}\n"
      ],
      "text/markdown": [
       "1. 'Adipocyte'\n",
       "2. 'Cardiomyocyte cell'\n",
       "3. 'Endothelial cell'\n",
       "4. 'Fibroblast'\n",
       "5. 'Lymphocyte'\n",
       "6. 'Myelocyte'\n",
       "7. 'Neuron'\n",
       "8. 'Pericyte'\n",
       "9. 'Smooth muscle cell'\n",
       "\n",
       "\n"
      ],
      "text/plain": [
       "[1] \"Adipocyte\"          \"Cardiomyocyte cell\" \"Endothelial cell\"  \n",
       "[4] \"Fibroblast\"         \"Lymphocyte\"         \"Myelocyte\"         \n",
       "[7] \"Neuron\"             \"Pericyte\"           \"Smooth muscle cell\""
      ]
     },
     "metadata": {},
     "output_type": "display_data"
    }
   ],
   "source": [
    "levels(cellchat@idents)"
   ]
  },
  {
   "cell_type": "code",
   "execution_count": 22,
   "metadata": {},
   "outputs": [],
   "source": [
    "js_vertical <- toJSON(pathways)\n",
    "js_horizontal <-toJSON(data.frame(levels(cellchat@idents)))\n",
    "writeLines(js_vertical, \"/data8t/HHP/New_Website/Adult/Page2/HeatMap/RA/vertical.json\") \n",
    "writeLines(js_horizontal, \"/data8t/HHP/New_Website/Adult/Page2/HeatMap/RA/horizontal.json\")"
   ]
  },
  {
   "cell_type": "code",
   "execution_count": 23,
   "metadata": {},
   "outputs": [],
   "source": [
    "for( ct in 1:length(levels(cellchat@idents))){\n",
    "    mat <- t(ps_list[ct,,])\n",
    "    \n",
    "    js_heatmap <- \"[\"\n",
    "    for(i in 1:dim(mat)[1]){\n",
    "        for(j in 1:dim(mat)[2]){\n",
    "            js_heatmap <- paste0(js_heatmap,'[',i-1,',',j-1,',\"',mat[i,j],'\"],') #防止0产生的灰色格子\n",
    "        }\n",
    "    }\n",
    "    js_heatmap <- substr(js_heatmap,1,nchar(js_heatmap)-1)\n",
    "    js_heatmap <- paste0(js_heatmap,']')\n",
    "    \n",
    "    writeLines(js_heatmap, paste0(\"/data8t/HHP/New_Website/Adult/Page2/HeatMap/RA/\",levels(cellchat@idents)[ct],\".json\"))\n",
    "}"
   ]
  }
 ],
 "metadata": {
  "kernelspec": {
   "display_name": "R3.5",
   "language": "R",
   "name": "ir2"
  },
  "language_info": {
   "codemirror_mode": "r",
   "file_extension": ".r",
   "mimetype": "text/x-r-source",
   "name": "R",
   "pygments_lexer": "r",
   "version": "3.6.1"
  }
 },
 "nbformat": 4,
 "nbformat_minor": 4
}
