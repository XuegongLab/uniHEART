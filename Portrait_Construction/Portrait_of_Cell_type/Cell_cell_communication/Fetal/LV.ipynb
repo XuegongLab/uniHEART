{
 "cells": [
  {
   "cell_type": "code",
   "execution_count": 1,
   "metadata": {},
   "outputs": [],
   "source": [
    "library(CellChat)\n",
    "library(ggplot2)\n",
    "library(ggalluvial)\n",
    "library(svglite)\n",
    "library(Seurat)\n",
    "library(mindr)\n",
    "options(stringsAsFactors = FALSE)\n",
    "library(rjson)"
   ]
  },
  {
   "cell_type": "markdown",
   "metadata": {},
   "source": [
    "# load data"
   ]
  },
  {
   "cell_type": "code",
   "execution_count": 2,
   "metadata": {},
   "outputs": [],
   "source": [
    "dataobj <-readRDS('/stor/public/chenyx/HHCAd/unit_organized_fetal/Left ventricle.rds')"
   ]
  },
  {
   "cell_type": "code",
   "execution_count": 4,
   "metadata": {},
   "outputs": [],
   "source": [
    "dataobj <- subset(dataobj, cell_type %in% c(\"Adipocyte\",\"Cardiomyocyte cell\",\"Endothelial cell\",\"Fibroblast\",\"Lymphocyte\",\"Myelocyte\",\"Neuron\",\"Pericyte\",\"Smooth muscle cell\"))"
   ]
  },
  {
   "cell_type": "code",
   "execution_count": 5,
   "metadata": {},
   "outputs": [
    {
     "data": {
      "text/html": [
       "<style>\n",
       ".list-inline {list-style: none; margin:0; padding: 0}\n",
       ".list-inline>li {display: inline-block}\n",
       ".list-inline>li:not(:last-child)::after {content: \"\\00b7\"; padding: 0 .5ex}\n",
       "</style>\n",
       "<ol class=list-inline><li>'Endothelial cell'</li><li>'Fibroblast'</li><li>'Cardiomyocyte cell'</li><li>'Myelocyte'</li><li>'Lymphocyte'</li><li>'Smooth muscle cell'</li></ol>\n"
      ],
      "text/latex": [
       "\\begin{enumerate*}\n",
       "\\item 'Endothelial cell'\n",
       "\\item 'Fibroblast'\n",
       "\\item 'Cardiomyocyte cell'\n",
       "\\item 'Myelocyte'\n",
       "\\item 'Lymphocyte'\n",
       "\\item 'Smooth muscle cell'\n",
       "\\end{enumerate*}\n"
      ],
      "text/markdown": [
       "1. 'Endothelial cell'\n",
       "2. 'Fibroblast'\n",
       "3. 'Cardiomyocyte cell'\n",
       "4. 'Myelocyte'\n",
       "5. 'Lymphocyte'\n",
       "6. 'Smooth muscle cell'\n",
       "\n",
       "\n"
      ],
      "text/plain": [
       "[1] \"Endothelial cell\"   \"Fibroblast\"         \"Cardiomyocyte cell\"\n",
       "[4] \"Myelocyte\"          \"Lymphocyte\"         \"Smooth muscle cell\""
      ]
     },
     "metadata": {},
     "output_type": "display_data"
    }
   ],
   "source": [
    "unique(dataobj$cell_type)"
   ]
  },
  {
   "cell_type": "code",
   "execution_count": 6,
   "metadata": {},
   "outputs": [],
   "source": [
    "data.input <- dataobj@assays$RNA@data\n",
    "identity <-data.frame(dataobj$cell_type)"
   ]
  },
  {
   "cell_type": "markdown",
   "metadata": {},
   "source": [
    "# build cellchat object"
   ]
  },
  {
   "cell_type": "code",
   "execution_count": 7,
   "metadata": {},
   "outputs": [],
   "source": [
    "# create a CellChat object\n",
    "cellchat <- createCellChat(data = data.input)\n",
    "# add Metadata\n",
    "cellchat <- addMeta(cellchat, meta = identity, meta.name = \"labels\")\n",
    "cellchat <- setIdent(cellchat, ident.use = \"labels\") \n",
    "groupSize <- as.numeric(table(cellchat@idents)) # number of cells in each cell group\n",
    "CellChatDB <- CellChatDB.human \n",
    "cellchat@DB <- CellChatDB"
   ]
  },
  {
   "cell_type": "code",
   "execution_count": 8,
   "metadata": {},
   "outputs": [
    {
     "name": "stdout",
     "output_type": "stream",
     "text": [
      "Issue identified!! Please check the official Gene Symbol of the following genes:  \n",
      " MGI:1915803 MGI:107675 MGI:1913728 MGI:107674 MGI:2157942 MGI:1347245 MGI:2135589 MGI:1918059 MGI:2136934 MGI:2136650 MGI:3522133 MGI:2664358 ITGAL_ITGB2L MGI:95957 MGI:95914 MGI:95915 MGI:1276570 MGI:95928 MGI:95929 MGI:95931 MGI:95936 H2-Q8 MGI:95956 MGI:95958 MGI:95959 H2-T9 MGI:1276527 MGI:2676637 MGI:95913 MGI:1276526 MGI:1276525 MGI:2687364 MGI:95942 MGI:95935 MGI:1276524 MGI:892004 MGI:95896 MGI:95904 MGI:1276522 H2-T18 H2-Q9 MGI:3704134 H2-L MGI:3702919 MGI:95933 MGI:2442805 MGI:3779381 MGI:95917 MGI:3647514 H2-BI H2-D MGI:109477 H60a H2-Ea-ps MGI:95895 MGI:103070 MGI:95901 MGI:95922 MGI:95923 MGI:107741 MGI:104849 MGI:1195970 MGI:1889024 MGI:3042847 MGI:1921853 MGI:3036289 MGI:2443630 MGI:1920500 MGI:107539 MGI:96877 MGI:2442965 MGI:1916392 ITGAM_ITGB2L MGI:2652397 MGI:96876 MGI:2159681 \n"
     ]
    }
   ],
   "source": [
    "# Preprocessing\n",
    "cellchat <- subsetData(cellchat)\n",
    "cellchat <- identifyOverExpressedGenes(cellchat)\n",
    "cellchat <- identifyOverExpressedInteractions(cellchat)\n",
    "cellchat <- projectData(cellchat, PPI.human)\n",
    "cellchat <- computeCommunProb(cellchat)\n",
    "cellchat <- computeCommunProbPathway(cellchat)\n",
    "cellchat <- aggregateNet(cellchat)\n",
    "cellchat <- netAnalysis_signalingRole(cellchat, slot.name = \"netP\")"
   ]
  },
  {
   "cell_type": "code",
   "execution_count": 9,
   "metadata": {},
   "outputs": [
    {
     "data": {
      "text/plain": [
       "An object of class CellChat \n",
       " 43878 genes.\n",
       " 759 cells."
      ]
     },
     "metadata": {},
     "output_type": "display_data"
    }
   ],
   "source": [
    "cellchat"
   ]
  },
  {
   "cell_type": "code",
   "execution_count": 10,
   "metadata": {},
   "outputs": [],
   "source": [
    "pathways <- cellchat@netP$pathways"
   ]
  },
  {
   "cell_type": "code",
   "execution_count": 11,
   "metadata": {},
   "outputs": [
    {
     "data": {
      "text/html": [
       "<style>\n",
       ".list-inline {list-style: none; margin:0; padding: 0}\n",
       ".list-inline>li {display: inline-block}\n",
       ".list-inline>li:not(:last-child)::after {content: \"\\00b7\"; padding: 0 .5ex}\n",
       "</style>\n",
       "<ol class=list-inline><li>'TGFb'</li><li>'BMP'</li><li>'MSTN'</li><li>'GDNF'</li><li>'ACTIVIN'</li><li>'WNT'</li><li>'ncWNT'</li><li>'EGF'</li><li>'NRG'</li><li>'FGF'</li><li>'PDGF'</li><li>'VEGF'</li><li>'IGF'</li><li>'CCL'</li><li>'CXCL'</li><li>'CX3C'</li><li>'IL2'</li><li>'LIFR'</li><li>'IL10'</li><li>'IL1'</li><li>'IL16'</li><li>'GH'</li><li>'PRL'</li><li>'IFN-I'</li><li>'IFN-II'</li><li>'TNF'</li><li>'LT'</li><li>'LIGHT'</li><li>'VEGI'</li><li>'TRAIL'</li><li>'NGF'</li><li>'BAFF'</li><li>'CD40'</li><li>'RESISTIN'</li><li>'VISFATIN'</li><li>'ANGPTL'</li><li>'ANGPT'</li><li>'MK'</li><li>'PTN'</li><li>'PERIOSTIN'</li><li>'COMPLEMENT'</li><li>'EDN'</li><li>'NPY'</li><li>'PARs'</li><li>'NPR1'</li><li>'KIT'</li><li>'FSH'</li><li>'NT'</li><li>'FLT3'</li><li>'SEMA3'</li><li>'CALCR'</li><li>'ANNEXIN'</li><li>'GAS'</li><li>'GRN'</li><li>'GALECTIN'</li><li>'PROS'</li><li>'BTLA'</li><li>'BAG'</li><li>'COLLAGEN'</li><li>'FN1'</li><li>'LAMININ'</li><li>'THBS'</li><li>'TENASCIN'</li><li>'AGRN'</li><li>'HSPG'</li><li>'ALCAM'</li><li>'APP'</li><li>'CADM'</li><li>'CD22'</li><li>'CD23'</li><li>'CD45'</li><li>'CD46'</li><li>'CD48'</li><li>'CD6'</li><li>'CD86'</li><li>'CDH'</li><li>'CDH5'</li><li>'DESMOSOME'</li><li>'EPHA'</li><li>'EPHB'</li><li>'ESAM'</li><li>'GP1BA'</li><li>'ICAM'</li><li>'ICOS'</li><li>'ITGAL-ITGB2'</li><li>'JAM'</li><li>'LCK'</li><li>'MHC-II'</li><li>'MPZ'</li><li>'NCAM'</li><li>'NECTIN'</li><li>'NEGR'</li><li>'NGL'</li><li>'NOTCH'</li><li>'PECAM1'</li><li>'PTPRM'</li><li>'SELL'</li><li>'SELPLG'</li><li>'SEMA4'</li><li>'SEMA5'</li><li>'SEMA6'</li><li>'THY1'</li><li>'TIGIT'</li><li>'VCAM'</li><li>'VISTA'</li></ol>\n"
      ],
      "text/latex": [
       "\\begin{enumerate*}\n",
       "\\item 'TGFb'\n",
       "\\item 'BMP'\n",
       "\\item 'MSTN'\n",
       "\\item 'GDNF'\n",
       "\\item 'ACTIVIN'\n",
       "\\item 'WNT'\n",
       "\\item 'ncWNT'\n",
       "\\item 'EGF'\n",
       "\\item 'NRG'\n",
       "\\item 'FGF'\n",
       "\\item 'PDGF'\n",
       "\\item 'VEGF'\n",
       "\\item 'IGF'\n",
       "\\item 'CCL'\n",
       "\\item 'CXCL'\n",
       "\\item 'CX3C'\n",
       "\\item 'IL2'\n",
       "\\item 'LIFR'\n",
       "\\item 'IL10'\n",
       "\\item 'IL1'\n",
       "\\item 'IL16'\n",
       "\\item 'GH'\n",
       "\\item 'PRL'\n",
       "\\item 'IFN-I'\n",
       "\\item 'IFN-II'\n",
       "\\item 'TNF'\n",
       "\\item 'LT'\n",
       "\\item 'LIGHT'\n",
       "\\item 'VEGI'\n",
       "\\item 'TRAIL'\n",
       "\\item 'NGF'\n",
       "\\item 'BAFF'\n",
       "\\item 'CD40'\n",
       "\\item 'RESISTIN'\n",
       "\\item 'VISFATIN'\n",
       "\\item 'ANGPTL'\n",
       "\\item 'ANGPT'\n",
       "\\item 'MK'\n",
       "\\item 'PTN'\n",
       "\\item 'PERIOSTIN'\n",
       "\\item 'COMPLEMENT'\n",
       "\\item 'EDN'\n",
       "\\item 'NPY'\n",
       "\\item 'PARs'\n",
       "\\item 'NPR1'\n",
       "\\item 'KIT'\n",
       "\\item 'FSH'\n",
       "\\item 'NT'\n",
       "\\item 'FLT3'\n",
       "\\item 'SEMA3'\n",
       "\\item 'CALCR'\n",
       "\\item 'ANNEXIN'\n",
       "\\item 'GAS'\n",
       "\\item 'GRN'\n",
       "\\item 'GALECTIN'\n",
       "\\item 'PROS'\n",
       "\\item 'BTLA'\n",
       "\\item 'BAG'\n",
       "\\item 'COLLAGEN'\n",
       "\\item 'FN1'\n",
       "\\item 'LAMININ'\n",
       "\\item 'THBS'\n",
       "\\item 'TENASCIN'\n",
       "\\item 'AGRN'\n",
       "\\item 'HSPG'\n",
       "\\item 'ALCAM'\n",
       "\\item 'APP'\n",
       "\\item 'CADM'\n",
       "\\item 'CD22'\n",
       "\\item 'CD23'\n",
       "\\item 'CD45'\n",
       "\\item 'CD46'\n",
       "\\item 'CD48'\n",
       "\\item 'CD6'\n",
       "\\item 'CD86'\n",
       "\\item 'CDH'\n",
       "\\item 'CDH5'\n",
       "\\item 'DESMOSOME'\n",
       "\\item 'EPHA'\n",
       "\\item 'EPHB'\n",
       "\\item 'ESAM'\n",
       "\\item 'GP1BA'\n",
       "\\item 'ICAM'\n",
       "\\item 'ICOS'\n",
       "\\item 'ITGAL-ITGB2'\n",
       "\\item 'JAM'\n",
       "\\item 'LCK'\n",
       "\\item 'MHC-II'\n",
       "\\item 'MPZ'\n",
       "\\item 'NCAM'\n",
       "\\item 'NECTIN'\n",
       "\\item 'NEGR'\n",
       "\\item 'NGL'\n",
       "\\item 'NOTCH'\n",
       "\\item 'PECAM1'\n",
       "\\item 'PTPRM'\n",
       "\\item 'SELL'\n",
       "\\item 'SELPLG'\n",
       "\\item 'SEMA4'\n",
       "\\item 'SEMA5'\n",
       "\\item 'SEMA6'\n",
       "\\item 'THY1'\n",
       "\\item 'TIGIT'\n",
       "\\item 'VCAM'\n",
       "\\item 'VISTA'\n",
       "\\end{enumerate*}\n"
      ],
      "text/markdown": [
       "1. 'TGFb'\n",
       "2. 'BMP'\n",
       "3. 'MSTN'\n",
       "4. 'GDNF'\n",
       "5. 'ACTIVIN'\n",
       "6. 'WNT'\n",
       "7. 'ncWNT'\n",
       "8. 'EGF'\n",
       "9. 'NRG'\n",
       "10. 'FGF'\n",
       "11. 'PDGF'\n",
       "12. 'VEGF'\n",
       "13. 'IGF'\n",
       "14. 'CCL'\n",
       "15. 'CXCL'\n",
       "16. 'CX3C'\n",
       "17. 'IL2'\n",
       "18. 'LIFR'\n",
       "19. 'IL10'\n",
       "20. 'IL1'\n",
       "21. 'IL16'\n",
       "22. 'GH'\n",
       "23. 'PRL'\n",
       "24. 'IFN-I'\n",
       "25. 'IFN-II'\n",
       "26. 'TNF'\n",
       "27. 'LT'\n",
       "28. 'LIGHT'\n",
       "29. 'VEGI'\n",
       "30. 'TRAIL'\n",
       "31. 'NGF'\n",
       "32. 'BAFF'\n",
       "33. 'CD40'\n",
       "34. 'RESISTIN'\n",
       "35. 'VISFATIN'\n",
       "36. 'ANGPTL'\n",
       "37. 'ANGPT'\n",
       "38. 'MK'\n",
       "39. 'PTN'\n",
       "40. 'PERIOSTIN'\n",
       "41. 'COMPLEMENT'\n",
       "42. 'EDN'\n",
       "43. 'NPY'\n",
       "44. 'PARs'\n",
       "45. 'NPR1'\n",
       "46. 'KIT'\n",
       "47. 'FSH'\n",
       "48. 'NT'\n",
       "49. 'FLT3'\n",
       "50. 'SEMA3'\n",
       "51. 'CALCR'\n",
       "52. 'ANNEXIN'\n",
       "53. 'GAS'\n",
       "54. 'GRN'\n",
       "55. 'GALECTIN'\n",
       "56. 'PROS'\n",
       "57. 'BTLA'\n",
       "58. 'BAG'\n",
       "59. 'COLLAGEN'\n",
       "60. 'FN1'\n",
       "61. 'LAMININ'\n",
       "62. 'THBS'\n",
       "63. 'TENASCIN'\n",
       "64. 'AGRN'\n",
       "65. 'HSPG'\n",
       "66. 'ALCAM'\n",
       "67. 'APP'\n",
       "68. 'CADM'\n",
       "69. 'CD22'\n",
       "70. 'CD23'\n",
       "71. 'CD45'\n",
       "72. 'CD46'\n",
       "73. 'CD48'\n",
       "74. 'CD6'\n",
       "75. 'CD86'\n",
       "76. 'CDH'\n",
       "77. 'CDH5'\n",
       "78. 'DESMOSOME'\n",
       "79. 'EPHA'\n",
       "80. 'EPHB'\n",
       "81. 'ESAM'\n",
       "82. 'GP1BA'\n",
       "83. 'ICAM'\n",
       "84. 'ICOS'\n",
       "85. 'ITGAL-ITGB2'\n",
       "86. 'JAM'\n",
       "87. 'LCK'\n",
       "88. 'MHC-II'\n",
       "89. 'MPZ'\n",
       "90. 'NCAM'\n",
       "91. 'NECTIN'\n",
       "92. 'NEGR'\n",
       "93. 'NGL'\n",
       "94. 'NOTCH'\n",
       "95. 'PECAM1'\n",
       "96. 'PTPRM'\n",
       "97. 'SELL'\n",
       "98. 'SELPLG'\n",
       "99. 'SEMA4'\n",
       "100. 'SEMA5'\n",
       "101. 'SEMA6'\n",
       "102. 'THY1'\n",
       "103. 'TIGIT'\n",
       "104. 'VCAM'\n",
       "105. 'VISTA'\n",
       "\n",
       "\n"
      ],
      "text/plain": [
       "  [1] \"TGFb\"        \"BMP\"         \"MSTN\"        \"GDNF\"        \"ACTIVIN\"    \n",
       "  [6] \"WNT\"         \"ncWNT\"       \"EGF\"         \"NRG\"         \"FGF\"        \n",
       " [11] \"PDGF\"        \"VEGF\"        \"IGF\"         \"CCL\"         \"CXCL\"       \n",
       " [16] \"CX3C\"        \"IL2\"         \"LIFR\"        \"IL10\"        \"IL1\"        \n",
       " [21] \"IL16\"        \"GH\"          \"PRL\"         \"IFN-I\"       \"IFN-II\"     \n",
       " [26] \"TNF\"         \"LT\"          \"LIGHT\"       \"VEGI\"        \"TRAIL\"      \n",
       " [31] \"NGF\"         \"BAFF\"        \"CD40\"        \"RESISTIN\"    \"VISFATIN\"   \n",
       " [36] \"ANGPTL\"      \"ANGPT\"       \"MK\"          \"PTN\"         \"PERIOSTIN\"  \n",
       " [41] \"COMPLEMENT\"  \"EDN\"         \"NPY\"         \"PARs\"        \"NPR1\"       \n",
       " [46] \"KIT\"         \"FSH\"         \"NT\"          \"FLT3\"        \"SEMA3\"      \n",
       " [51] \"CALCR\"       \"ANNEXIN\"     \"GAS\"         \"GRN\"         \"GALECTIN\"   \n",
       " [56] \"PROS\"        \"BTLA\"        \"BAG\"         \"COLLAGEN\"    \"FN1\"        \n",
       " [61] \"LAMININ\"     \"THBS\"        \"TENASCIN\"    \"AGRN\"        \"HSPG\"       \n",
       " [66] \"ALCAM\"       \"APP\"         \"CADM\"        \"CD22\"        \"CD23\"       \n",
       " [71] \"CD45\"        \"CD46\"        \"CD48\"        \"CD6\"         \"CD86\"       \n",
       " [76] \"CDH\"         \"CDH5\"        \"DESMOSOME\"   \"EPHA\"        \"EPHB\"       \n",
       " [81] \"ESAM\"        \"GP1BA\"       \"ICAM\"        \"ICOS\"        \"ITGAL-ITGB2\"\n",
       " [86] \"JAM\"         \"LCK\"         \"MHC-II\"      \"MPZ\"         \"NCAM\"       \n",
       " [91] \"NECTIN\"      \"NEGR\"        \"NGL\"         \"NOTCH\"       \"PECAM1\"     \n",
       " [96] \"PTPRM\"       \"SELL\"        \"SELPLG\"      \"SEMA4\"       \"SEMA5\"      \n",
       "[101] \"SEMA6\"       \"THY1\"        \"TIGIT\"       \"VCAM\"        \"VISTA\"      "
      ]
     },
     "metadata": {},
     "output_type": "display_data"
    }
   ],
   "source": [
    "pathways"
   ]
  },
  {
   "cell_type": "markdown",
   "metadata": {},
   "source": [
    "# build relationplot json"
   ]
  },
  {
   "cell_type": "code",
   "execution_count": 1,
   "metadata": {},
   "outputs": [],
   "source": [
    "cellchat<- readRDS(\"/stor/public/chenyx/HHCAd/CellChat_result/LV.rds\")"
   ]
  },
  {
   "cell_type": "code",
   "execution_count": 12,
   "metadata": {},
   "outputs": [],
   "source": [
    "js_nodelist <- toJSON(data.frame(levels(cellchat@idents)))"
   ]
  },
  {
   "cell_type": "code",
   "execution_count": 13,
   "metadata": {},
   "outputs": [
    {
     "data": {
      "text/html": [
       "'{\"levels.cellchat.idents.\":[\"Cardiomyocyte cell\",\"Endothelial cell\",\"Fibroblast\",\"Lymphocyte\",\"Myelocyte\",\"Smooth muscle cell\"]}'"
      ],
      "text/latex": [
       "'\\{\"levels.cellchat.idents.\":{[}\"Cardiomyocyte cell\",\"Endothelial cell\",\"Fibroblast\",\"Lymphocyte\",\"Myelocyte\",\"Smooth muscle cell\"{]}\\}'"
      ],
      "text/markdown": [
       "'{\"levels.cellchat.idents.\":[\"Cardiomyocyte cell\",\"Endothelial cell\",\"Fibroblast\",\"Lymphocyte\",\"Myelocyte\",\"Smooth muscle cell\"]}'"
      ],
      "text/plain": [
       "[1] \"{\\\"levels.cellchat.idents.\\\":[\\\"Cardiomyocyte cell\\\",\\\"Endothelial cell\\\",\\\"Fibroblast\\\",\\\"Lymphocyte\\\",\\\"Myelocyte\\\",\\\"Smooth muscle cell\\\"]}\""
      ]
     },
     "metadata": {},
     "output_type": "display_data"
    }
   ],
   "source": [
    "js_nodelist"
   ]
  },
  {
   "cell_type": "code",
   "execution_count": 14,
   "metadata": {},
   "outputs": [],
   "source": [
    "prop <- read.csv(\"~/HHCA_d/Code4Paper/ForWebsite/1-2/Fetal/LV.csv\",row.names = 1)\n",
    "prop <- prop/sum(prop)\n",
    "prop <- round(prop,3)"
   ]
  },
  {
   "cell_type": "code",
   "execution_count": 15,
   "metadata": {},
   "outputs": [],
   "source": [
    "js_nodes <- '['\n",
    "for(i in 1:length(levels(cellchat@idents))){\n",
    "    js_nodes <- paste0(js_nodes,'{\"name\":\"',levels(cellchat@idents)[i],'\",\"category\":',i-1,',\"label\":{\"show\": true},\"symbolSize\":',as.integer(5+as.double(prop[gsub(\" \",\".\",levels(cellchat@idents)[i])])*50),\"}\")# json index should start at 0\n",
    "    if(i != length(levels(cellchat@idents))){\n",
    "        js_nodes <- paste0(js_nodes,',')\n",
    "    }else{\n",
    "        js_nodes <- paste0(js_nodes,']')\n",
    "    }\n",
    "}"
   ]
  },
  {
   "cell_type": "code",
   "execution_count": 16,
   "metadata": {},
   "outputs": [
    {
     "data": {
      "text/html": [
       "'[{\"name\":\"Cardiomyocyte cell\",\"category\":0,\"label\":{\"show\": true},\"symbolSize\":26},{\"name\":\"Endothelial cell\",\"category\":1,\"label\":{\"show\": true},\"symbolSize\":12},{\"name\":\"Fibroblast\",\"category\":2,\"label\":{\"show\": true},\"symbolSize\":18},{\"name\":\"Lymphocyte\",\"category\":3,\"label\":{\"show\": true},\"symbolSize\":7},{\"name\":\"Myelocyte\",\"category\":4,\"label\":{\"show\": true},\"symbolSize\":10},{\"name\":\"Smooth muscle cell\",\"category\":5,\"label\":{\"show\": true},\"symbolSize\":5}]'"
      ],
      "text/latex": [
       "'{[}\\{\"name\":\"Cardiomyocyte cell\",\"category\":0,\"label\":\\{\"show\": true\\},\"symbolSize\":26\\},\\{\"name\":\"Endothelial cell\",\"category\":1,\"label\":\\{\"show\": true\\},\"symbolSize\":12\\},\\{\"name\":\"Fibroblast\",\"category\":2,\"label\":\\{\"show\": true\\},\"symbolSize\":18\\},\\{\"name\":\"Lymphocyte\",\"category\":3,\"label\":\\{\"show\": true\\},\"symbolSize\":7\\},\\{\"name\":\"Myelocyte\",\"category\":4,\"label\":\\{\"show\": true\\},\"symbolSize\":10\\},\\{\"name\":\"Smooth muscle cell\",\"category\":5,\"label\":\\{\"show\": true\\},\"symbolSize\":5\\}{]}'"
      ],
      "text/markdown": [
       "'[{\"name\":\"Cardiomyocyte cell\",\"category\":0,\"label\":{\"show\": true},\"symbolSize\":26},{\"name\":\"Endothelial cell\",\"category\":1,\"label\":{\"show\": true},\"symbolSize\":12},{\"name\":\"Fibroblast\",\"category\":2,\"label\":{\"show\": true},\"symbolSize\":18},{\"name\":\"Lymphocyte\",\"category\":3,\"label\":{\"show\": true},\"symbolSize\":7},{\"name\":\"Myelocyte\",\"category\":4,\"label\":{\"show\": true},\"symbolSize\":10},{\"name\":\"Smooth muscle cell\",\"category\":5,\"label\":{\"show\": true},\"symbolSize\":5}]'"
      ],
      "text/plain": [
       "[1] \"[{\\\"name\\\":\\\"Cardiomyocyte cell\\\",\\\"category\\\":0,\\\"label\\\":{\\\"show\\\": true},\\\"symbolSize\\\":26},{\\\"name\\\":\\\"Endothelial cell\\\",\\\"category\\\":1,\\\"label\\\":{\\\"show\\\": true},\\\"symbolSize\\\":12},{\\\"name\\\":\\\"Fibroblast\\\",\\\"category\\\":2,\\\"label\\\":{\\\"show\\\": true},\\\"symbolSize\\\":18},{\\\"name\\\":\\\"Lymphocyte\\\",\\\"category\\\":3,\\\"label\\\":{\\\"show\\\": true},\\\"symbolSize\\\":7},{\\\"name\\\":\\\"Myelocyte\\\",\\\"category\\\":4,\\\"label\\\":{\\\"show\\\": true},\\\"symbolSize\\\":10},{\\\"name\\\":\\\"Smooth muscle cell\\\",\\\"category\\\":5,\\\"label\\\":{\\\"show\\\": true},\\\"symbolSize\\\":5}]\""
      ]
     },
     "metadata": {},
     "output_type": "display_data"
    }
   ],
   "source": [
    "js_nodes"
   ]
  },
  {
   "cell_type": "code",
   "execution_count": 17,
   "metadata": {},
   "outputs": [],
   "source": [
    "writeLines(js_nodelist, \"/data8t/HHP/New_Website/Fetal/Page2/RelationshipPlot/LV/nodelist.json\") \n",
    "writeLines(js_nodes, \"/data8t/HHP/New_Website/Fetal/Page2/RelationshipPlot/LV/nodes.json\") "
   ]
  },
  {
   "cell_type": "code",
   "execution_count": 18,
   "metadata": {},
   "outputs": [],
   "source": [
    "js_nodes <- '['\n",
    "for(i in 1:length(levels(cellchat@idents))){\n",
    "    js_nodes <- paste0(js_nodes,'{\"name\":\"',levels(cellchat@idents)[i],'\",\"category\":',i-1,',\"label\":{\"show\": true},\"symbolSize\":',as.integer(5+as.double(prop[gsub(\" \",\".\",levels(cellchat@idents)[i])])*50),\"}\")# json index should start at 0\n",
    "    if(i != length(levels(cellchat@idents))){\n",
    "        js_nodes <- paste0(js_nodes,',')\n",
    "    }else{\n",
    "        js_nodes <- paste0(js_nodes,']')\n",
    "    }\n",
    "}"
   ]
  },
  {
   "cell_type": "code",
   "execution_count": 19,
   "metadata": {},
   "outputs": [
    {
     "data": {
      "text/html": [
       "'[{\"name\":\"Cardiomyocyte cell\",\"category\":0,\"label\":{\"show\": true},\"symbolSize\":26},{\"name\":\"Endothelial cell\",\"category\":1,\"label\":{\"show\": true},\"symbolSize\":12},{\"name\":\"Fibroblast\",\"category\":2,\"label\":{\"show\": true},\"symbolSize\":18},{\"name\":\"Lymphocyte\",\"category\":3,\"label\":{\"show\": true},\"symbolSize\":7},{\"name\":\"Myelocyte\",\"category\":4,\"label\":{\"show\": true},\"symbolSize\":10},{\"name\":\"Smooth muscle cell\",\"category\":5,\"label\":{\"show\": true},\"symbolSize\":5}]'"
      ],
      "text/latex": [
       "'{[}\\{\"name\":\"Cardiomyocyte cell\",\"category\":0,\"label\":\\{\"show\": true\\},\"symbolSize\":26\\},\\{\"name\":\"Endothelial cell\",\"category\":1,\"label\":\\{\"show\": true\\},\"symbolSize\":12\\},\\{\"name\":\"Fibroblast\",\"category\":2,\"label\":\\{\"show\": true\\},\"symbolSize\":18\\},\\{\"name\":\"Lymphocyte\",\"category\":3,\"label\":\\{\"show\": true\\},\"symbolSize\":7\\},\\{\"name\":\"Myelocyte\",\"category\":4,\"label\":\\{\"show\": true\\},\"symbolSize\":10\\},\\{\"name\":\"Smooth muscle cell\",\"category\":5,\"label\":\\{\"show\": true\\},\"symbolSize\":5\\}{]}'"
      ],
      "text/markdown": [
       "'[{\"name\":\"Cardiomyocyte cell\",\"category\":0,\"label\":{\"show\": true},\"symbolSize\":26},{\"name\":\"Endothelial cell\",\"category\":1,\"label\":{\"show\": true},\"symbolSize\":12},{\"name\":\"Fibroblast\",\"category\":2,\"label\":{\"show\": true},\"symbolSize\":18},{\"name\":\"Lymphocyte\",\"category\":3,\"label\":{\"show\": true},\"symbolSize\":7},{\"name\":\"Myelocyte\",\"category\":4,\"label\":{\"show\": true},\"symbolSize\":10},{\"name\":\"Smooth muscle cell\",\"category\":5,\"label\":{\"show\": true},\"symbolSize\":5}]'"
      ],
      "text/plain": [
       "[1] \"[{\\\"name\\\":\\\"Cardiomyocyte cell\\\",\\\"category\\\":0,\\\"label\\\":{\\\"show\\\": true},\\\"symbolSize\\\":26},{\\\"name\\\":\\\"Endothelial cell\\\",\\\"category\\\":1,\\\"label\\\":{\\\"show\\\": true},\\\"symbolSize\\\":12},{\\\"name\\\":\\\"Fibroblast\\\",\\\"category\\\":2,\\\"label\\\":{\\\"show\\\": true},\\\"symbolSize\\\":18},{\\\"name\\\":\\\"Lymphocyte\\\",\\\"category\\\":3,\\\"label\\\":{\\\"show\\\": true},\\\"symbolSize\\\":7},{\\\"name\\\":\\\"Myelocyte\\\",\\\"category\\\":4,\\\"label\\\":{\\\"show\\\": true},\\\"symbolSize\\\":10},{\\\"name\\\":\\\"Smooth muscle cell\\\",\\\"category\\\":5,\\\"label\\\":{\\\"show\\\": true},\\\"symbolSize\\\":5}]\""
      ]
     },
     "metadata": {},
     "output_type": "display_data"
    }
   ],
   "source": [
    "js_nodes"
   ]
  },
  {
   "cell_type": "code",
   "execution_count": 20,
   "metadata": {},
   "outputs": [],
   "source": [
    "writeLines(js_nodelist, \"/data8t/HHP/New_Website/Fetal/Page2/RelationshipPlot/LV/nodelist.json\") \n",
    "writeLines(js_nodes, \"/data8t/HHP/New_Website/Fetal/Page2/RelationshipPlot/LV/nodes.json\") "
   ]
  },
  {
   "cell_type": "code",
   "execution_count": 21,
   "metadata": {},
   "outputs": [],
   "source": [
    "ps_list <- array(0,dim = c(length(levels(cellchat@idents)),length(levels(cellchat@idents)),length(pathways)))\n",
    "for(p in 1:length(pathways)){\n",
    "    pathway <- pathways[p]\n",
    "\n",
    "    ############ From https://github.com/sqjin/CellChat/blob/master/R/visualization.R 188-223\n",
    "    signaling <- pathway\n",
    "    pairLR <- searchPair(signaling = pathway, pairLR.use = cellchat@LR$LRsig, key = \"pathway_name\", matching.exact = T, pair.only = T)\n",
    "    signaling.name <- signaling\n",
    "    net <- cellchat@net\n",
    "\n",
    "    pairLR.use.name <- dimnames(net$prob)[[3]]\n",
    "    pairLR.name <- intersect(rownames(pairLR), pairLR.use.name)\n",
    "    pairLR <- pairLR[pairLR.name, ]\n",
    "    prob <- net$prob\n",
    "    pval <- net$pval\n",
    "\n",
    "    prob[pval > 0.05] <- 0\n",
    "    if (length(pairLR.name) > 1) {\n",
    "    pairLR.name.use <- pairLR.name[apply(prob[,,pairLR.name], 3, sum) != 0]\n",
    "    } else {\n",
    "    pairLR.name.use <- pairLR.name[sum(prob[,,pairLR.name]) != 0]\n",
    "    }\n",
    "\n",
    "\n",
    "    if (length(pairLR.name.use) == 0) {\n",
    "    stop(paste0('There is no significant communication of ', signaling.name))\n",
    "    } else {\n",
    "    pairLR <- pairLR[pairLR.name.use,]\n",
    "    }\n",
    "    nRow <- length(pairLR.name.use)\n",
    "\n",
    "    prob <- prob[,,pairLR.name.use]\n",
    "    pval <- pval[,,pairLR.name.use]\n",
    "\n",
    "    if (length(dim(prob)) == 2) {\n",
    "    prob <- replicate(1, prob, simplify=\"array\")\n",
    "    pval <- replicate(1, pval, simplify=\"array\")\n",
    "    }\n",
    "    prob <-(prob-min(prob))/(max(prob)-min(prob))\n",
    "    prob.sum <- apply(prob, c(1,2), sum)\n",
    "    prob.sum <-(prob.sum-min(prob.sum))/(max(prob.sum)-min(prob.sum))*10 # 参数待定\n",
    "    prob.sum <- signif(prob.sum,3)\n",
    "    ############\n",
    "    \n",
    "    ps_list[,,p]<- prob.sum\n",
    "    ############\n",
    "\n",
    "    js_edge <-'['\n",
    "    for(i in 1:length(levels(cellchat@idents))){\n",
    "        for(j in 1:length(levels(cellchat@idents))){\n",
    "            if(prob.sum[i,j]!=0){\n",
    "                js_edge <- paste0(js_edge, '{\"source\":',i-1,',\"target\":',j-1,',\"weight\":',prob.sum[i,j],'},')# json index should start at 0\n",
    "            }\n",
    "        }\n",
    "    }\n",
    "    js_edge <- substr(js_edge,1,nchar(js_edge)-1)\n",
    "    js_edge <- paste0(js_edge,']')\n",
    "    writeLines(js_edge, paste0(\"/data8t/HHP/New_Website/Fetal/Page2/RelationshipPlot/LV/\",pathway,\".json\"))\n",
    "}"
   ]
  },
  {
   "cell_type": "markdown",
   "metadata": {},
   "source": [
    "# build heatmap json"
   ]
  },
  {
   "cell_type": "code",
   "execution_count": 22,
   "metadata": {},
   "outputs": [
    {
     "data": {
      "text/html": [
       "<style>\n",
       ".list-inline {list-style: none; margin:0; padding: 0}\n",
       ".list-inline>li {display: inline-block}\n",
       ".list-inline>li:not(:last-child)::after {content: \"\\00b7\"; padding: 0 .5ex}\n",
       "</style>\n",
       "<ol class=list-inline><li>'Cardiomyocyte cell'</li><li>'Endothelial cell'</li><li>'Fibroblast'</li><li>'Lymphocyte'</li><li>'Myelocyte'</li><li>'Smooth muscle cell'</li></ol>\n"
      ],
      "text/latex": [
       "\\begin{enumerate*}\n",
       "\\item 'Cardiomyocyte cell'\n",
       "\\item 'Endothelial cell'\n",
       "\\item 'Fibroblast'\n",
       "\\item 'Lymphocyte'\n",
       "\\item 'Myelocyte'\n",
       "\\item 'Smooth muscle cell'\n",
       "\\end{enumerate*}\n"
      ],
      "text/markdown": [
       "1. 'Cardiomyocyte cell'\n",
       "2. 'Endothelial cell'\n",
       "3. 'Fibroblast'\n",
       "4. 'Lymphocyte'\n",
       "5. 'Myelocyte'\n",
       "6. 'Smooth muscle cell'\n",
       "\n",
       "\n"
      ],
      "text/plain": [
       "[1] \"Cardiomyocyte cell\" \"Endothelial cell\"   \"Fibroblast\"        \n",
       "[4] \"Lymphocyte\"         \"Myelocyte\"          \"Smooth muscle cell\""
      ]
     },
     "metadata": {},
     "output_type": "display_data"
    }
   ],
   "source": [
    "levels(cellchat@idents)"
   ]
  },
  {
   "cell_type": "code",
   "execution_count": 23,
   "metadata": {},
   "outputs": [],
   "source": [
    "js_vertical <- toJSON(pathways)\n",
    "js_horizontal <-toJSON(data.frame(levels(cellchat@idents)))\n",
    "writeLines(js_vertical, \"/data8t/HHP/New_Website/Fetal/Page2/HeatMap/LV/vertical.json\") \n",
    "writeLines(js_horizontal, \"/data8t/HHP/New_Website/Fetal/Page2/HeatMap/LV/horizontal.json\")"
   ]
  },
  {
   "cell_type": "code",
   "execution_count": 24,
   "metadata": {},
   "outputs": [],
   "source": [
    "for( ct in 1:length(levels(cellchat@idents))){\n",
    "    mat <- t(ps_list[ct,,])\n",
    "    \n",
    "    js_heatmap <- \"[\"\n",
    "    for(i in 1:dim(mat)[1]){\n",
    "        for(j in 1:dim(mat)[2]){\n",
    "            js_heatmap <- paste0(js_heatmap,'[',i-1,',',j-1,',\"',mat[i,j],'\"],') #防止0产生的灰色格子\n",
    "        }\n",
    "    }\n",
    "    js_heatmap <- substr(js_heatmap,1,nchar(js_heatmap)-1)\n",
    "    js_heatmap <- paste0(js_heatmap,']')\n",
    "    \n",
    "    writeLines(js_heatmap, paste0(\"/data8t/HHP/New_Website/Fetal/Page2/HeatMap/LV/\",levels(cellchat@idents)[ct],\".json\"))\n",
    "}"
   ]
  },
  {
   "cell_type": "code",
   "execution_count": 25,
   "metadata": {},
   "outputs": [],
   "source": [
    "saveRDS(cellchat,\"/stor/public/chenyx/HHCAd/CellChat_result_fetal/LV.rds\")"
   ]
  },
  {
   "cell_type": "code",
   "execution_count": null,
   "metadata": {},
   "outputs": [],
   "source": []
  }
 ],
 "metadata": {
  "kernelspec": {
   "display_name": "R3.5",
   "language": "R",
   "name": "ir2"
  },
  "language_info": {
   "codemirror_mode": "r",
   "file_extension": ".r",
   "mimetype": "text/x-r-source",
   "name": "R",
   "pygments_lexer": "r",
   "version": "3.6.1"
  }
 },
 "nbformat": 4,
 "nbformat_minor": 4
}
