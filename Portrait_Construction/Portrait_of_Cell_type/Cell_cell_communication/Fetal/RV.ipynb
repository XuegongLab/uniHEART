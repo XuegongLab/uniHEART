{
 "cells": [
  {
   "cell_type": "code",
   "execution_count": 1,
   "metadata": {},
   "outputs": [],
   "source": [
    "library(CellChat)\n",
    "library(ggplot2)\n",
    "library(ggalluvial)\n",
    "library(svglite)\n",
    "library(Seurat)\n",
    "library(mindr)\n",
    "options(stringsAsFactors = FALSE)\n",
    "library(rjson)"
   ]
  },
  {
   "cell_type": "markdown",
   "metadata": {},
   "source": [
    "# load data"
   ]
  },
  {
   "cell_type": "code",
   "execution_count": 2,
   "metadata": {},
   "outputs": [],
   "source": [
    "dataobj <-readRDS('/stor/public/chenyx/HHCAd/unit_organized_fetal/Right ventricle.rds')"
   ]
  },
  {
   "cell_type": "code",
   "execution_count": 3,
   "metadata": {
    "collapsed": true,
    "jupyter": {
     "outputs_hidden": true
    }
   },
   "outputs": [
    {
     "name": "stderr",
     "output_type": "stream",
     "text": [
      "Loading required package: SeuratObject\n",
      "\n",
      "Registered S3 methods overwritten by 'SeuratObject':\n",
      "  method                     from  \n",
      "  $.JackStrawData            Seurat\n",
      "  $.Seurat                   Seurat\n",
      "  $.SeuratCommand            Seurat\n",
      "  $<-.Seurat                 Seurat\n",
      "  [.Assay                    Seurat\n",
      "  [.DimReduc                 Seurat\n",
      "  [.Seurat                   Seurat\n",
      "  [.SeuratCommand            Seurat\n",
      "  [.SpatialImage             Seurat\n",
      "  [[.Assay                   Seurat\n",
      "  [[.DimReduc                Seurat\n",
      "  [[.Seurat                  Seurat\n",
      "  levels<-.Seurat            Seurat\n",
      "  .DollarNames.JackStrawData Seurat\n",
      "  .DollarNames.Seurat        Seurat\n",
      "  .DollarNames.SeuratCommand Seurat\n",
      "  as.list.SeuratCommand      Seurat\n",
      "  as.logical.JackStrawData   Seurat\n",
      "  dim.Assay                  Seurat\n",
      "  dim.DimReduc               Seurat\n",
      "  dim.Neighbor               Seurat\n",
      "  dim.Seurat                 Seurat\n",
      "  dim.SpatialImage           Seurat\n",
      "  dimnames.Assay             Seurat\n",
      "  dimnames.DimReduc          Seurat\n",
      "  dimnames.Seurat            Seurat\n",
      "  droplevels.Seurat          Seurat\n",
      "  length.DimReduc            Seurat\n",
      "  levels.Seurat              Seurat\n",
      "  merge.Assay                Seurat\n",
      "  merge.Seurat               Seurat\n",
      "  names.DimReduc             Seurat\n",
      "  names.Seurat               Seurat\n",
      "  print.DimReduc             Seurat\n",
      "  subset.Assay               Seurat\n",
      "  subset.DimReduc            Seurat\n",
      "  subset.Seurat              Seurat\n",
      "  subset.SpatialImage        Seurat\n",
      "\n",
      "\n",
      "Attaching package: ‘SeuratObject’\n",
      "\n",
      "\n",
      "The following objects are masked from ‘package:Seurat’:\n",
      "\n",
      "    AddMetaData, as.Graph, as.Neighbor, as.Seurat, as.sparse, Assays,\n",
      "    Cells, CellsByIdentities, Command, CreateAssayObject,\n",
      "    CreateDimReducObject, CreateSeuratObject, DefaultAssay,\n",
      "    DefaultAssay<-, Distances, Embeddings, FetchData, GetAssayData,\n",
      "    GetImage, GetTissueCoordinates, HVFInfo, Idents, Idents<-, Images,\n",
      "    Index, Index<-, Indices, IsGlobal, JS, JS<-, Key, Key<-, Loadings,\n",
      "    Loadings<-, LogSeuratCommand, Misc, Misc<-, Neighbors, pbmc_small,\n",
      "    Project, Project<-, Radius, Reductions, RenameAssays, RenameCells,\n",
      "    RenameIdents, ReorderIdent, RowMergeSparseMatrices, SetAssayData,\n",
      "    SetIdent, SpatiallyVariableFeatures, StashIdent, Stdev, SVFInfo,\n",
      "    Tool, Tool<-, UpdateSeuratObject, VariableFeatures,\n",
      "    VariableFeatures<-, WhichCells\n",
      "\n",
      "\n"
     ]
    }
   ],
   "source": [
    "dataobj <- subset(dataobj, cell_type %in% c(\"Adipocyte\",\"Cardiomyocyte cell\",\"Endothelial cell\",\"Fibroblast\",\"Lymphocyte\",\"Myelocyte\",\"Neuron\",\"Pericyte\",\"Smooth muscle cell\"))"
   ]
  },
  {
   "cell_type": "code",
   "execution_count": 4,
   "metadata": {},
   "outputs": [
    {
     "data": {
      "text/html": [
       "<style>\n",
       ".list-inline {list-style: none; margin:0; padding: 0}\n",
       ".list-inline>li {display: inline-block}\n",
       ".list-inline>li:not(:last-child)::after {content: \"\\00b7\"; padding: 0 .5ex}\n",
       "</style>\n",
       "<ol class=list-inline><li>'Cardiomyocyte cell'</li><li>'Fibroblast'</li><li>'Endothelial cell'</li><li>'Myelocyte'</li><li>'Lymphocyte'</li><li>'Smooth muscle cell'</li></ol>\n"
      ],
      "text/latex": [
       "\\begin{enumerate*}\n",
       "\\item 'Cardiomyocyte cell'\n",
       "\\item 'Fibroblast'\n",
       "\\item 'Endothelial cell'\n",
       "\\item 'Myelocyte'\n",
       "\\item 'Lymphocyte'\n",
       "\\item 'Smooth muscle cell'\n",
       "\\end{enumerate*}\n"
      ],
      "text/markdown": [
       "1. 'Cardiomyocyte cell'\n",
       "2. 'Fibroblast'\n",
       "3. 'Endothelial cell'\n",
       "4. 'Myelocyte'\n",
       "5. 'Lymphocyte'\n",
       "6. 'Smooth muscle cell'\n",
       "\n",
       "\n"
      ],
      "text/plain": [
       "[1] \"Cardiomyocyte cell\" \"Fibroblast\"         \"Endothelial cell\"  \n",
       "[4] \"Myelocyte\"          \"Lymphocyte\"         \"Smooth muscle cell\""
      ]
     },
     "metadata": {},
     "output_type": "display_data"
    }
   ],
   "source": [
    "unique(dataobj$cell_type)"
   ]
  },
  {
   "cell_type": "code",
   "execution_count": 5,
   "metadata": {},
   "outputs": [],
   "source": [
    "data.input <- dataobj@assays$RNA@data\n",
    "identity <-data.frame(dataobj$cell_type)"
   ]
  },
  {
   "cell_type": "markdown",
   "metadata": {},
   "source": [
    "# build cellchat object"
   ]
  },
  {
   "cell_type": "code",
   "execution_count": 6,
   "metadata": {},
   "outputs": [],
   "source": [
    "# create a CellChat object\n",
    "cellchat <- createCellChat(data = data.input)\n",
    "# add Metadata\n",
    "cellchat <- addMeta(cellchat, meta = identity, meta.name = \"labels\")\n",
    "cellchat <- setIdent(cellchat, ident.use = \"labels\") \n",
    "groupSize <- as.numeric(table(cellchat@idents)) # number of cells in each cell group\n",
    "CellChatDB <- CellChatDB.human \n",
    "cellchat@DB <- CellChatDB"
   ]
  },
  {
   "cell_type": "code",
   "execution_count": 7,
   "metadata": {},
   "outputs": [
    {
     "name": "stdout",
     "output_type": "stream",
     "text": [
      "Issue identified!! Please check the official Gene Symbol of the following genes:  \n",
      " MGI:1915803 MGI:107675 MGI:1913728 MGI:107674 MGI:2157942 MGI:1347245 MGI:2135589 MGI:1918059 MGI:2136934 MGI:2136650 MGI:3522133 MGI:2664358 ITGAL_ITGB2L MGI:95957 MGI:95914 MGI:95915 MGI:1276570 MGI:95928 MGI:95929 MGI:95931 MGI:95936 H2-Q8 MGI:95956 MGI:95958 MGI:95959 H2-T9 MGI:1276527 MGI:2676637 MGI:95913 MGI:1276526 MGI:1276525 MGI:2687364 MGI:95942 MGI:95935 MGI:1276524 MGI:892004 MGI:95896 MGI:95904 MGI:1276522 H2-T18 H2-Q9 MGI:3704134 H2-L MGI:3702919 MGI:95933 MGI:2442805 MGI:3779381 MGI:95917 MGI:3647514 H2-BI H2-D MGI:109477 H60a H2-Ea-ps MGI:95895 MGI:103070 MGI:95901 MGI:95922 MGI:95923 MGI:107741 MGI:104849 MGI:1195970 MGI:1889024 MGI:3042847 MGI:1921853 MGI:3036289 MGI:2443630 MGI:1920500 MGI:107539 MGI:96877 MGI:2442965 MGI:1916392 ITGAM_ITGB2L MGI:2652397 MGI:96876 MGI:2159681 \n"
     ]
    }
   ],
   "source": [
    "# Preprocessing\n",
    "cellchat <- subsetData(cellchat)\n",
    "cellchat <- identifyOverExpressedGenes(cellchat)\n",
    "cellchat <- identifyOverExpressedInteractions(cellchat)\n",
    "cellchat <- projectData(cellchat, PPI.human)\n",
    "cellchat <- computeCommunProb(cellchat)\n",
    "cellchat <- computeCommunProbPathway(cellchat)\n",
    "cellchat <- aggregateNet(cellchat)\n",
    "cellchat <- netAnalysis_signalingRole(cellchat, slot.name = \"netP\")"
   ]
  },
  {
   "cell_type": "code",
   "execution_count": 8,
   "metadata": {},
   "outputs": [
    {
     "data": {
      "text/plain": [
       "An object of class CellChat \n",
       " 43878 genes.\n",
       " 722 cells."
      ]
     },
     "metadata": {},
     "output_type": "display_data"
    }
   ],
   "source": [
    "cellchat"
   ]
  },
  {
   "cell_type": "code",
   "execution_count": 49,
   "metadata": {},
   "outputs": [],
   "source": [
    "pathways <- cellchat@netP$pathways"
   ]
  },
  {
   "cell_type": "code",
   "execution_count": 50,
   "metadata": {},
   "outputs": [
    {
     "data": {
      "text/html": [
       "<style>\n",
       ".list-inline {list-style: none; margin:0; padding: 0}\n",
       ".list-inline>li {display: inline-block}\n",
       ".list-inline>li:not(:last-child)::after {content: \"\\00b7\"; padding: 0 .5ex}\n",
       "</style>\n",
       "<ol class=list-inline><li>'TGFb'</li><li>'BMP'</li><li>'MSTN'</li><li>'GDNF'</li><li>'ACTIVIN'</li><li>'WNT'</li><li>'EGF'</li><li>'NRG'</li><li>'FGF'</li><li>'PDGF'</li><li>'VEGF'</li><li>'IGF'</li><li>'CCL'</li><li>'CXCL'</li><li>'IL2'</li><li>'IL4'</li><li>'IL6'</li><li>'IL1'</li><li>'CSF'</li><li>'CSF3'</li><li>'LT'</li><li>'LIGHT'</li><li>'TRAIL'</li><li>'EDA'</li><li>'NGF'</li><li>'BAFF'</li><li>'CD40'</li><li>'ADIPONECTIN'</li><li>'VISFATIN'</li><li>'ANGPTL'</li><li>'ANGPT'</li><li>'PERIOSTIN'</li><li>'COMPLEMENT'</li><li>'EDN'</li><li>'PARs'</li><li>'KIT'</li><li>'FSH'</li><li>'NT'</li><li>'HGF'</li><li>'SEMA3'</li><li>'CALCR'</li><li>'GAS'</li><li>'BTLA'</li><li>'COLLAGEN'</li><li>'FN1'</li><li>'LAMININ'</li><li>'THBS'</li><li>'CADM'</li><li>'CD22'</li><li>'CD23'</li><li>'CD45'</li><li>'CD46'</li><li>'CD80'</li><li>'CD86'</li><li>'CDH'</li><li>'CDH5'</li><li>'CNTN'</li><li>'EPHA'</li><li>'EPHB'</li><li>'GP1BA'</li><li>'ICAM'</li><li>'ITGAL-ITGB2'</li><li>'L1CAM'</li><li>'MPZ'</li><li>'NCAM'</li><li>'NEGR'</li><li>'NOTCH'</li><li>'NRXN'</li><li>'OCLN'</li><li>'PECAM1'</li><li>'PTPRM'</li><li>'SEMA4'</li><li>'THY1'</li></ol>\n"
      ],
      "text/latex": [
       "\\begin{enumerate*}\n",
       "\\item 'TGFb'\n",
       "\\item 'BMP'\n",
       "\\item 'MSTN'\n",
       "\\item 'GDNF'\n",
       "\\item 'ACTIVIN'\n",
       "\\item 'WNT'\n",
       "\\item 'EGF'\n",
       "\\item 'NRG'\n",
       "\\item 'FGF'\n",
       "\\item 'PDGF'\n",
       "\\item 'VEGF'\n",
       "\\item 'IGF'\n",
       "\\item 'CCL'\n",
       "\\item 'CXCL'\n",
       "\\item 'IL2'\n",
       "\\item 'IL4'\n",
       "\\item 'IL6'\n",
       "\\item 'IL1'\n",
       "\\item 'CSF'\n",
       "\\item 'CSF3'\n",
       "\\item 'LT'\n",
       "\\item 'LIGHT'\n",
       "\\item 'TRAIL'\n",
       "\\item 'EDA'\n",
       "\\item 'NGF'\n",
       "\\item 'BAFF'\n",
       "\\item 'CD40'\n",
       "\\item 'ADIPONECTIN'\n",
       "\\item 'VISFATIN'\n",
       "\\item 'ANGPTL'\n",
       "\\item 'ANGPT'\n",
       "\\item 'PERIOSTIN'\n",
       "\\item 'COMPLEMENT'\n",
       "\\item 'EDN'\n",
       "\\item 'PARs'\n",
       "\\item 'KIT'\n",
       "\\item 'FSH'\n",
       "\\item 'NT'\n",
       "\\item 'HGF'\n",
       "\\item 'SEMA3'\n",
       "\\item 'CALCR'\n",
       "\\item 'GAS'\n",
       "\\item 'BTLA'\n",
       "\\item 'COLLAGEN'\n",
       "\\item 'FN1'\n",
       "\\item 'LAMININ'\n",
       "\\item 'THBS'\n",
       "\\item 'CADM'\n",
       "\\item 'CD22'\n",
       "\\item 'CD23'\n",
       "\\item 'CD45'\n",
       "\\item 'CD46'\n",
       "\\item 'CD80'\n",
       "\\item 'CD86'\n",
       "\\item 'CDH'\n",
       "\\item 'CDH5'\n",
       "\\item 'CNTN'\n",
       "\\item 'EPHA'\n",
       "\\item 'EPHB'\n",
       "\\item 'GP1BA'\n",
       "\\item 'ICAM'\n",
       "\\item 'ITGAL-ITGB2'\n",
       "\\item 'L1CAM'\n",
       "\\item 'MPZ'\n",
       "\\item 'NCAM'\n",
       "\\item 'NEGR'\n",
       "\\item 'NOTCH'\n",
       "\\item 'NRXN'\n",
       "\\item 'OCLN'\n",
       "\\item 'PECAM1'\n",
       "\\item 'PTPRM'\n",
       "\\item 'SEMA4'\n",
       "\\item 'THY1'\n",
       "\\end{enumerate*}\n"
      ],
      "text/markdown": [
       "1. 'TGFb'\n",
       "2. 'BMP'\n",
       "3. 'MSTN'\n",
       "4. 'GDNF'\n",
       "5. 'ACTIVIN'\n",
       "6. 'WNT'\n",
       "7. 'EGF'\n",
       "8. 'NRG'\n",
       "9. 'FGF'\n",
       "10. 'PDGF'\n",
       "11. 'VEGF'\n",
       "12. 'IGF'\n",
       "13. 'CCL'\n",
       "14. 'CXCL'\n",
       "15. 'IL2'\n",
       "16. 'IL4'\n",
       "17. 'IL6'\n",
       "18. 'IL1'\n",
       "19. 'CSF'\n",
       "20. 'CSF3'\n",
       "21. 'LT'\n",
       "22. 'LIGHT'\n",
       "23. 'TRAIL'\n",
       "24. 'EDA'\n",
       "25. 'NGF'\n",
       "26. 'BAFF'\n",
       "27. 'CD40'\n",
       "28. 'ADIPONECTIN'\n",
       "29. 'VISFATIN'\n",
       "30. 'ANGPTL'\n",
       "31. 'ANGPT'\n",
       "32. 'PERIOSTIN'\n",
       "33. 'COMPLEMENT'\n",
       "34. 'EDN'\n",
       "35. 'PARs'\n",
       "36. 'KIT'\n",
       "37. 'FSH'\n",
       "38. 'NT'\n",
       "39. 'HGF'\n",
       "40. 'SEMA3'\n",
       "41. 'CALCR'\n",
       "42. 'GAS'\n",
       "43. 'BTLA'\n",
       "44. 'COLLAGEN'\n",
       "45. 'FN1'\n",
       "46. 'LAMININ'\n",
       "47. 'THBS'\n",
       "48. 'CADM'\n",
       "49. 'CD22'\n",
       "50. 'CD23'\n",
       "51. 'CD45'\n",
       "52. 'CD46'\n",
       "53. 'CD80'\n",
       "54. 'CD86'\n",
       "55. 'CDH'\n",
       "56. 'CDH5'\n",
       "57. 'CNTN'\n",
       "58. 'EPHA'\n",
       "59. 'EPHB'\n",
       "60. 'GP1BA'\n",
       "61. 'ICAM'\n",
       "62. 'ITGAL-ITGB2'\n",
       "63. 'L1CAM'\n",
       "64. 'MPZ'\n",
       "65. 'NCAM'\n",
       "66. 'NEGR'\n",
       "67. 'NOTCH'\n",
       "68. 'NRXN'\n",
       "69. 'OCLN'\n",
       "70. 'PECAM1'\n",
       "71. 'PTPRM'\n",
       "72. 'SEMA4'\n",
       "73. 'THY1'\n",
       "\n",
       "\n"
      ],
      "text/plain": [
       " [1] \"TGFb\"        \"BMP\"         \"MSTN\"        \"GDNF\"        \"ACTIVIN\"    \n",
       " [6] \"WNT\"         \"EGF\"         \"NRG\"         \"FGF\"         \"PDGF\"       \n",
       "[11] \"VEGF\"        \"IGF\"         \"CCL\"         \"CXCL\"        \"IL2\"        \n",
       "[16] \"IL4\"         \"IL6\"         \"IL1\"         \"CSF\"         \"CSF3\"       \n",
       "[21] \"LT\"          \"LIGHT\"       \"TRAIL\"       \"EDA\"         \"NGF\"        \n",
       "[26] \"BAFF\"        \"CD40\"        \"ADIPONECTIN\" \"VISFATIN\"    \"ANGPTL\"     \n",
       "[31] \"ANGPT\"       \"PERIOSTIN\"   \"COMPLEMENT\"  \"EDN\"         \"PARs\"       \n",
       "[36] \"KIT\"         \"FSH\"         \"NT\"          \"HGF\"         \"SEMA3\"      \n",
       "[41] \"CALCR\"       \"GAS\"         \"BTLA\"        \"COLLAGEN\"    \"FN1\"        \n",
       "[46] \"LAMININ\"     \"THBS\"        \"CADM\"        \"CD22\"        \"CD23\"       \n",
       "[51] \"CD45\"        \"CD46\"        \"CD80\"        \"CD86\"        \"CDH\"        \n",
       "[56] \"CDH5\"        \"CNTN\"        \"EPHA\"        \"EPHB\"        \"GP1BA\"      \n",
       "[61] \"ICAM\"        \"ITGAL-ITGB2\" \"L1CAM\"       \"MPZ\"         \"NCAM\"       \n",
       "[66] \"NEGR\"        \"NOTCH\"       \"NRXN\"        \"OCLN\"        \"PECAM1\"     \n",
       "[71] \"PTPRM\"       \"SEMA4\"       \"THY1\"       "
      ]
     },
     "metadata": {},
     "output_type": "display_data"
    }
   ],
   "source": [
    "pathways"
   ]
  },
  {
   "cell_type": "markdown",
   "metadata": {},
   "source": [
    "# build relationplot json"
   ]
  },
  {
   "cell_type": "code",
   "execution_count": 11,
   "metadata": {},
   "outputs": [],
   "source": [
    "cellchat<- readRDS(\"/stor/public/chenyx/HHCAd/CellChat_result/RV.rds\")"
   ]
  },
  {
   "cell_type": "code",
   "execution_count": 12,
   "metadata": {},
   "outputs": [],
   "source": [
    "js_nodelist <- toJSON(data.frame(levels(cellchat@idents)))"
   ]
  },
  {
   "cell_type": "code",
   "execution_count": 13,
   "metadata": {},
   "outputs": [
    {
     "data": {
      "text/html": [
       "'{\"levels.cellchat.idents.\":[\"Adipocyte\",\"Cardiomyocyte cell\",\"Endothelial cell\",\"Fibroblast\",\"Lymphocyte\",\"Myelocyte\",\"Neuron\",\"Pericyte\",\"Smooth muscle cell\"]}'"
      ],
      "text/latex": [
       "'\\{\"levels.cellchat.idents.\":{[}\"Adipocyte\",\"Cardiomyocyte cell\",\"Endothelial cell\",\"Fibroblast\",\"Lymphocyte\",\"Myelocyte\",\"Neuron\",\"Pericyte\",\"Smooth muscle cell\"{]}\\}'"
      ],
      "text/markdown": [
       "'{\"levels.cellchat.idents.\":[\"Adipocyte\",\"Cardiomyocyte cell\",\"Endothelial cell\",\"Fibroblast\",\"Lymphocyte\",\"Myelocyte\",\"Neuron\",\"Pericyte\",\"Smooth muscle cell\"]}'"
      ],
      "text/plain": [
       "[1] \"{\\\"levels.cellchat.idents.\\\":[\\\"Adipocyte\\\",\\\"Cardiomyocyte cell\\\",\\\"Endothelial cell\\\",\\\"Fibroblast\\\",\\\"Lymphocyte\\\",\\\"Myelocyte\\\",\\\"Neuron\\\",\\\"Pericyte\\\",\\\"Smooth muscle cell\\\"]}\""
      ]
     },
     "metadata": {},
     "output_type": "display_data"
    }
   ],
   "source": [
    "js_nodelist"
   ]
  },
  {
   "cell_type": "code",
   "execution_count": 35,
   "metadata": {},
   "outputs": [],
   "source": [
    "prop <- read.csv(\"~/HHCA_d/Code4Paper/ForWebsite/1-2/Fetal/RV.csv\",row.names = 1)\n",
    "prop <- prop/sum(prop)\n",
    "prop <- round(prop,3)\n",
    "prop <- as.data.frame(t(prop))"
   ]
  },
  {
   "cell_type": "code",
   "execution_count": 36,
   "metadata": {},
   "outputs": [],
   "source": [
    "js_nodes <- '['\n",
    "for(i in 1:length(levels(cellchat@idents))){\n",
    "    js_nodes <- paste0(js_nodes,'{\"name\":\"',levels(cellchat@idents)[i],'\",\"category\":',i-1,',\"label\":{\"show\": true},\"symbolSize\":',as.integer(5+as.double(prop[gsub(\" \",\".\",levels(cellchat@idents)[i])])*50),\"}\")# json index should start at 0\n",
    "    if(i != length(levels(cellchat@idents))){\n",
    "        js_nodes <- paste0(js_nodes,',')\n",
    "    }else{\n",
    "        js_nodes <- paste0(js_nodes,']')\n",
    "    }\n",
    "}"
   ]
  },
  {
   "cell_type": "code",
   "execution_count": 37,
   "metadata": {},
   "outputs": [
    {
     "data": {
      "text/html": [
       "'[{\"name\":\"Adipocyte\",\"category\":0,\"label\":{\"show\": true},\"symbolSize\":5},{\"name\":\"Cardiomyocyte cell\",\"category\":1,\"label\":{\"show\": true},\"symbolSize\":23},{\"name\":\"Endothelial cell\",\"category\":2,\"label\":{\"show\": true},\"symbolSize\":10},{\"name\":\"Fibroblast\",\"category\":3,\"label\":{\"show\": true},\"symbolSize\":20},{\"name\":\"Lymphocyte\",\"category\":4,\"label\":{\"show\": true},\"symbolSize\":8},{\"name\":\"Myelocyte\",\"category\":5,\"label\":{\"show\": true},\"symbolSize\":11},{\"name\":\"Neuron\",\"category\":6,\"label\":{\"show\": true},\"symbolSize\":5},{\"name\":\"Pericyte\",\"category\":7,\"label\":{\"show\": true},\"symbolSize\":5},{\"name\":\"Smooth muscle cell\",\"category\":8,\"label\":{\"show\": true},\"symbolSize\":5}]'"
      ],
      "text/latex": [
       "'{[}\\{\"name\":\"Adipocyte\",\"category\":0,\"label\":\\{\"show\": true\\},\"symbolSize\":5\\},\\{\"name\":\"Cardiomyocyte cell\",\"category\":1,\"label\":\\{\"show\": true\\},\"symbolSize\":23\\},\\{\"name\":\"Endothelial cell\",\"category\":2,\"label\":\\{\"show\": true\\},\"symbolSize\":10\\},\\{\"name\":\"Fibroblast\",\"category\":3,\"label\":\\{\"show\": true\\},\"symbolSize\":20\\},\\{\"name\":\"Lymphocyte\",\"category\":4,\"label\":\\{\"show\": true\\},\"symbolSize\":8\\},\\{\"name\":\"Myelocyte\",\"category\":5,\"label\":\\{\"show\": true\\},\"symbolSize\":11\\},\\{\"name\":\"Neuron\",\"category\":6,\"label\":\\{\"show\": true\\},\"symbolSize\":5\\},\\{\"name\":\"Pericyte\",\"category\":7,\"label\":\\{\"show\": true\\},\"symbolSize\":5\\},\\{\"name\":\"Smooth muscle cell\",\"category\":8,\"label\":\\{\"show\": true\\},\"symbolSize\":5\\}{]}'"
      ],
      "text/markdown": [
       "'[{\"name\":\"Adipocyte\",\"category\":0,\"label\":{\"show\": true},\"symbolSize\":5},{\"name\":\"Cardiomyocyte cell\",\"category\":1,\"label\":{\"show\": true},\"symbolSize\":23},{\"name\":\"Endothelial cell\",\"category\":2,\"label\":{\"show\": true},\"symbolSize\":10},{\"name\":\"Fibroblast\",\"category\":3,\"label\":{\"show\": true},\"symbolSize\":20},{\"name\":\"Lymphocyte\",\"category\":4,\"label\":{\"show\": true},\"symbolSize\":8},{\"name\":\"Myelocyte\",\"category\":5,\"label\":{\"show\": true},\"symbolSize\":11},{\"name\":\"Neuron\",\"category\":6,\"label\":{\"show\": true},\"symbolSize\":5},{\"name\":\"Pericyte\",\"category\":7,\"label\":{\"show\": true},\"symbolSize\":5},{\"name\":\"Smooth muscle cell\",\"category\":8,\"label\":{\"show\": true},\"symbolSize\":5}]'"
      ],
      "text/plain": [
       "[1] \"[{\\\"name\\\":\\\"Adipocyte\\\",\\\"category\\\":0,\\\"label\\\":{\\\"show\\\": true},\\\"symbolSize\\\":5},{\\\"name\\\":\\\"Cardiomyocyte cell\\\",\\\"category\\\":1,\\\"label\\\":{\\\"show\\\": true},\\\"symbolSize\\\":23},{\\\"name\\\":\\\"Endothelial cell\\\",\\\"category\\\":2,\\\"label\\\":{\\\"show\\\": true},\\\"symbolSize\\\":10},{\\\"name\\\":\\\"Fibroblast\\\",\\\"category\\\":3,\\\"label\\\":{\\\"show\\\": true},\\\"symbolSize\\\":20},{\\\"name\\\":\\\"Lymphocyte\\\",\\\"category\\\":4,\\\"label\\\":{\\\"show\\\": true},\\\"symbolSize\\\":8},{\\\"name\\\":\\\"Myelocyte\\\",\\\"category\\\":5,\\\"label\\\":{\\\"show\\\": true},\\\"symbolSize\\\":11},{\\\"name\\\":\\\"Neuron\\\",\\\"category\\\":6,\\\"label\\\":{\\\"show\\\": true},\\\"symbolSize\\\":5},{\\\"name\\\":\\\"Pericyte\\\",\\\"category\\\":7,\\\"label\\\":{\\\"show\\\": true},\\\"symbolSize\\\":5},{\\\"name\\\":\\\"Smooth muscle cell\\\",\\\"category\\\":8,\\\"label\\\":{\\\"show\\\": true},\\\"symbolSize\\\":5}]\""
      ]
     },
     "metadata": {},
     "output_type": "display_data"
    }
   ],
   "source": [
    "js_nodes"
   ]
  },
  {
   "cell_type": "code",
   "execution_count": 38,
   "metadata": {},
   "outputs": [],
   "source": [
    "writeLines(js_nodelist, \"/data8t/HHP/New_Website/Fetal/Page2/RelationshipPlot/RV/nodelist.json\") \n",
    "writeLines(js_nodes, \"/data8t/HHP/New_Website/Fetal/Page2/RelationshipPlot/RV/nodes.json\") "
   ]
  },
  {
   "cell_type": "code",
   "execution_count": 39,
   "metadata": {},
   "outputs": [],
   "source": [
    "js_nodes <- '['\n",
    "for(i in 1:length(levels(cellchat@idents))){\n",
    "    js_nodes <- paste0(js_nodes,'{\"name\":\"',levels(cellchat@idents)[i],'\",\"category\":',i-1,',\"label\":{\"show\": true},\"symbolSize\":',as.integer(5+as.double(prop[gsub(\" \",\".\",levels(cellchat@idents)[i])])*50),\"}\")# json index should start at 0\n",
    "    if(i != length(levels(cellchat@idents))){\n",
    "        js_nodes <- paste0(js_nodes,',')\n",
    "    }else{\n",
    "        js_nodes <- paste0(js_nodes,']')\n",
    "    }\n",
    "}"
   ]
  },
  {
   "cell_type": "code",
   "execution_count": 40,
   "metadata": {},
   "outputs": [
    {
     "data": {
      "text/html": [
       "'[{\"name\":\"Adipocyte\",\"category\":0,\"label\":{\"show\": true},\"symbolSize\":5},{\"name\":\"Cardiomyocyte cell\",\"category\":1,\"label\":{\"show\": true},\"symbolSize\":23},{\"name\":\"Endothelial cell\",\"category\":2,\"label\":{\"show\": true},\"symbolSize\":10},{\"name\":\"Fibroblast\",\"category\":3,\"label\":{\"show\": true},\"symbolSize\":20},{\"name\":\"Lymphocyte\",\"category\":4,\"label\":{\"show\": true},\"symbolSize\":8},{\"name\":\"Myelocyte\",\"category\":5,\"label\":{\"show\": true},\"symbolSize\":11},{\"name\":\"Neuron\",\"category\":6,\"label\":{\"show\": true},\"symbolSize\":5},{\"name\":\"Pericyte\",\"category\":7,\"label\":{\"show\": true},\"symbolSize\":5},{\"name\":\"Smooth muscle cell\",\"category\":8,\"label\":{\"show\": true},\"symbolSize\":5}]'"
      ],
      "text/latex": [
       "'{[}\\{\"name\":\"Adipocyte\",\"category\":0,\"label\":\\{\"show\": true\\},\"symbolSize\":5\\},\\{\"name\":\"Cardiomyocyte cell\",\"category\":1,\"label\":\\{\"show\": true\\},\"symbolSize\":23\\},\\{\"name\":\"Endothelial cell\",\"category\":2,\"label\":\\{\"show\": true\\},\"symbolSize\":10\\},\\{\"name\":\"Fibroblast\",\"category\":3,\"label\":\\{\"show\": true\\},\"symbolSize\":20\\},\\{\"name\":\"Lymphocyte\",\"category\":4,\"label\":\\{\"show\": true\\},\"symbolSize\":8\\},\\{\"name\":\"Myelocyte\",\"category\":5,\"label\":\\{\"show\": true\\},\"symbolSize\":11\\},\\{\"name\":\"Neuron\",\"category\":6,\"label\":\\{\"show\": true\\},\"symbolSize\":5\\},\\{\"name\":\"Pericyte\",\"category\":7,\"label\":\\{\"show\": true\\},\"symbolSize\":5\\},\\{\"name\":\"Smooth muscle cell\",\"category\":8,\"label\":\\{\"show\": true\\},\"symbolSize\":5\\}{]}'"
      ],
      "text/markdown": [
       "'[{\"name\":\"Adipocyte\",\"category\":0,\"label\":{\"show\": true},\"symbolSize\":5},{\"name\":\"Cardiomyocyte cell\",\"category\":1,\"label\":{\"show\": true},\"symbolSize\":23},{\"name\":\"Endothelial cell\",\"category\":2,\"label\":{\"show\": true},\"symbolSize\":10},{\"name\":\"Fibroblast\",\"category\":3,\"label\":{\"show\": true},\"symbolSize\":20},{\"name\":\"Lymphocyte\",\"category\":4,\"label\":{\"show\": true},\"symbolSize\":8},{\"name\":\"Myelocyte\",\"category\":5,\"label\":{\"show\": true},\"symbolSize\":11},{\"name\":\"Neuron\",\"category\":6,\"label\":{\"show\": true},\"symbolSize\":5},{\"name\":\"Pericyte\",\"category\":7,\"label\":{\"show\": true},\"symbolSize\":5},{\"name\":\"Smooth muscle cell\",\"category\":8,\"label\":{\"show\": true},\"symbolSize\":5}]'"
      ],
      "text/plain": [
       "[1] \"[{\\\"name\\\":\\\"Adipocyte\\\",\\\"category\\\":0,\\\"label\\\":{\\\"show\\\": true},\\\"symbolSize\\\":5},{\\\"name\\\":\\\"Cardiomyocyte cell\\\",\\\"category\\\":1,\\\"label\\\":{\\\"show\\\": true},\\\"symbolSize\\\":23},{\\\"name\\\":\\\"Endothelial cell\\\",\\\"category\\\":2,\\\"label\\\":{\\\"show\\\": true},\\\"symbolSize\\\":10},{\\\"name\\\":\\\"Fibroblast\\\",\\\"category\\\":3,\\\"label\\\":{\\\"show\\\": true},\\\"symbolSize\\\":20},{\\\"name\\\":\\\"Lymphocyte\\\",\\\"category\\\":4,\\\"label\\\":{\\\"show\\\": true},\\\"symbolSize\\\":8},{\\\"name\\\":\\\"Myelocyte\\\",\\\"category\\\":5,\\\"label\\\":{\\\"show\\\": true},\\\"symbolSize\\\":11},{\\\"name\\\":\\\"Neuron\\\",\\\"category\\\":6,\\\"label\\\":{\\\"show\\\": true},\\\"symbolSize\\\":5},{\\\"name\\\":\\\"Pericyte\\\",\\\"category\\\":7,\\\"label\\\":{\\\"show\\\": true},\\\"symbolSize\\\":5},{\\\"name\\\":\\\"Smooth muscle cell\\\",\\\"category\\\":8,\\\"label\\\":{\\\"show\\\": true},\\\"symbolSize\\\":5}]\""
      ]
     },
     "metadata": {},
     "output_type": "display_data"
    }
   ],
   "source": [
    "js_nodes"
   ]
  },
  {
   "cell_type": "code",
   "execution_count": 41,
   "metadata": {},
   "outputs": [],
   "source": [
    "writeLines(js_nodelist, \"/data8t/HHP/New_Website/Fetal/Page2/RelationshipPlot/RV/nodelist.json\") \n",
    "writeLines(js_nodes, \"/data8t/HHP/New_Website/Fetal/Page2/RelationshipPlot/RV/nodes.json\") "
   ]
  },
  {
   "cell_type": "code",
   "execution_count": 51,
   "metadata": {},
   "outputs": [],
   "source": [
    "# ???\n",
    "pathways <- pathways[!pathways%in% c(\"ncWNT\",\"APELIN\")]"
   ]
  },
  {
   "cell_type": "code",
   "execution_count": 52,
   "metadata": {},
   "outputs": [],
   "source": [
    "ps_list <- array(0,dim = c(length(levels(cellchat@idents)),length(levels(cellchat@idents)),length(pathways)))\n",
    "for(p in 1:length(pathways)){\n",
    "    pathway <- pathways[p]\n",
    "\n",
    "    ############ From https://github.com/sqjin/CellChat/blob/master/R/visualization.R 188-223\n",
    "    signaling <- pathway\n",
    "    pairLR <- searchPair(signaling = pathway, pairLR.use = cellchat@LR$LRsig, key = \"pathway_name\", matching.exact = T, pair.only = T)\n",
    "    signaling.name <- signaling\n",
    "    net <- cellchat@net\n",
    "\n",
    "    pairLR.use.name <- dimnames(net$prob)[[3]]\n",
    "    pairLR.name <- intersect(rownames(pairLR), pairLR.use.name)\n",
    "    pairLR <- pairLR[pairLR.name, ]\n",
    "    prob <- net$prob\n",
    "    pval <- net$pval\n",
    "\n",
    "    prob[pval > 0.05] <- 0\n",
    "    if (length(pairLR.name) > 1) {\n",
    "    pairLR.name.use <- pairLR.name[apply(prob[,,pairLR.name], 3, sum) != 0]\n",
    "    } else {\n",
    "    pairLR.name.use <- pairLR.name[sum(prob[,,pairLR.name]) != 0]\n",
    "    }\n",
    "\n",
    "\n",
    "    if (length(pairLR.name.use) == 0) {\n",
    "    stop(paste0('There is no significant communication of ', signaling.name))\n",
    "    } else {\n",
    "    pairLR <- pairLR[pairLR.name.use,]\n",
    "    }\n",
    "    nRow <- length(pairLR.name.use)\n",
    "\n",
    "    prob <- prob[,,pairLR.name.use]\n",
    "    pval <- pval[,,pairLR.name.use]\n",
    "\n",
    "    if (length(dim(prob)) == 2) {\n",
    "    prob <- replicate(1, prob, simplify=\"array\")\n",
    "    pval <- replicate(1, pval, simplify=\"array\")\n",
    "    }\n",
    "    prob <-(prob-min(prob))/(max(prob)-min(prob))\n",
    "    prob.sum <- apply(prob, c(1,2), sum)\n",
    "    prob.sum <-(prob.sum-min(prob.sum))/(max(prob.sum)-min(prob.sum))*10 # 参数待定\n",
    "    prob.sum <- signif(prob.sum,3)\n",
    "    ############\n",
    "    \n",
    "    ps_list[,,p]<- prob.sum\n",
    "    ############\n",
    "\n",
    "    js_edge <-'['\n",
    "    for(i in 1:length(levels(cellchat@idents))){\n",
    "        for(j in 1:length(levels(cellchat@idents))){\n",
    "            if(prob.sum[i,j]!=0){\n",
    "                js_edge <- paste0(js_edge, '{\"source\":',i-1,',\"target\":',j-1,',\"weight\":',prob.sum[i,j],'},')# json index should start at 0\n",
    "            }\n",
    "        }\n",
    "    }\n",
    "    js_edge <- substr(js_edge,1,nchar(js_edge)-1)\n",
    "    js_edge <- paste0(js_edge,']')\n",
    "    writeLines(js_edge, paste0(\"/data8t/HHP/New_Website/Fetal/Page2/RelationshipPlot/RV/\",pathway,\".json\"))\n",
    "}"
   ]
  },
  {
   "cell_type": "markdown",
   "metadata": {},
   "source": [
    "# build heatmap json"
   ]
  },
  {
   "cell_type": "code",
   "execution_count": 53,
   "metadata": {},
   "outputs": [
    {
     "data": {
      "text/html": [
       "<style>\n",
       ".list-inline {list-style: none; margin:0; padding: 0}\n",
       ".list-inline>li {display: inline-block}\n",
       ".list-inline>li:not(:last-child)::after {content: \"\\00b7\"; padding: 0 .5ex}\n",
       "</style>\n",
       "<ol class=list-inline><li>'Adipocyte'</li><li>'Cardiomyocyte cell'</li><li>'Endothelial cell'</li><li>'Fibroblast'</li><li>'Lymphocyte'</li><li>'Myelocyte'</li><li>'Neuron'</li><li>'Pericyte'</li><li>'Smooth muscle cell'</li></ol>\n"
      ],
      "text/latex": [
       "\\begin{enumerate*}\n",
       "\\item 'Adipocyte'\n",
       "\\item 'Cardiomyocyte cell'\n",
       "\\item 'Endothelial cell'\n",
       "\\item 'Fibroblast'\n",
       "\\item 'Lymphocyte'\n",
       "\\item 'Myelocyte'\n",
       "\\item 'Neuron'\n",
       "\\item 'Pericyte'\n",
       "\\item 'Smooth muscle cell'\n",
       "\\end{enumerate*}\n"
      ],
      "text/markdown": [
       "1. 'Adipocyte'\n",
       "2. 'Cardiomyocyte cell'\n",
       "3. 'Endothelial cell'\n",
       "4. 'Fibroblast'\n",
       "5. 'Lymphocyte'\n",
       "6. 'Myelocyte'\n",
       "7. 'Neuron'\n",
       "8. 'Pericyte'\n",
       "9. 'Smooth muscle cell'\n",
       "\n",
       "\n"
      ],
      "text/plain": [
       "[1] \"Adipocyte\"          \"Cardiomyocyte cell\" \"Endothelial cell\"  \n",
       "[4] \"Fibroblast\"         \"Lymphocyte\"         \"Myelocyte\"         \n",
       "[7] \"Neuron\"             \"Pericyte\"           \"Smooth muscle cell\""
      ]
     },
     "metadata": {},
     "output_type": "display_data"
    }
   ],
   "source": [
    "levels(cellchat@idents)"
   ]
  },
  {
   "cell_type": "code",
   "execution_count": 54,
   "metadata": {},
   "outputs": [],
   "source": [
    "js_vertical <- toJSON(pathways)\n",
    "js_horizontal <-toJSON(data.frame(levels(cellchat@idents)))\n",
    "writeLines(js_vertical, \"/data8t/HHP/New_Website/Fetal/Page2/HeatMap/RV/vertical.json\") \n",
    "writeLines(js_horizontal, \"/data8t/HHP/New_Website/Fetal/Page2/HeatMap/RV/horizontal.json\")"
   ]
  },
  {
   "cell_type": "code",
   "execution_count": 55,
   "metadata": {},
   "outputs": [],
   "source": [
    "for( ct in 1:length(levels(cellchat@idents))){\n",
    "    mat <- t(ps_list[ct,,])\n",
    "    \n",
    "    js_heatmap <- \"[\"\n",
    "    for(i in 1:dim(mat)[1]){\n",
    "        for(j in 1:dim(mat)[2]){\n",
    "            js_heatmap <- paste0(js_heatmap,'[',i-1,',',j-1,',\"',mat[i,j],'\"],') #防止0产生的灰色格子\n",
    "        }\n",
    "    }\n",
    "    js_heatmap <- substr(js_heatmap,1,nchar(js_heatmap)-1)\n",
    "    js_heatmap <- paste0(js_heatmap,']')\n",
    "    \n",
    "    writeLines(js_heatmap, paste0(\"/data8t/HHP/New_Website/Fetal/Page2/HeatMap/RV/\",levels(cellchat@idents)[ct],\".json\"))\n",
    "}"
   ]
  },
  {
   "cell_type": "code",
   "execution_count": 56,
   "metadata": {},
   "outputs": [],
   "source": [
    "saveRDS(cellchat,\"/stor/public/chenyx/HHCAd/CellChat_result_fetal/RV.rds\")"
   ]
  },
  {
   "cell_type": "code",
   "execution_count": null,
   "metadata": {},
   "outputs": [],
   "source": []
  }
 ],
 "metadata": {
  "kernelspec": {
   "display_name": "R3.5",
   "language": "R",
   "name": "ir2"
  },
  "language_info": {
   "codemirror_mode": "r",
   "file_extension": ".r",
   "mimetype": "text/x-r-source",
   "name": "R",
   "pygments_lexer": "r",
   "version": "3.6.1"
  }
 },
 "nbformat": 4,
 "nbformat_minor": 4
}
