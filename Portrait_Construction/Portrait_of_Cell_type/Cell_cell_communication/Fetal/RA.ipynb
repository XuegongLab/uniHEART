{
 "cells": [
  {
   "cell_type": "code",
   "execution_count": 1,
   "metadata": {},
   "outputs": [],
   "source": [
    "library(CellChat)\n",
    "library(ggplot2)\n",
    "library(ggalluvial)\n",
    "library(svglite)\n",
    "library(Seurat)\n",
    "library(mindr)\n",
    "options(stringsAsFactors = FALSE)\n",
    "library(rjson)"
   ]
  },
  {
   "cell_type": "markdown",
   "metadata": {},
   "source": [
    "# load data"
   ]
  },
  {
   "cell_type": "code",
   "execution_count": 2,
   "metadata": {},
   "outputs": [],
   "source": [
    "dataobj <-readRDS('/stor/public/chenyx/HHCAd/unit_organized_fetal/Right atria.rds')"
   ]
  },
  {
   "cell_type": "code",
   "execution_count": 3,
   "metadata": {
    "collapsed": true,
    "jupyter": {
     "outputs_hidden": true
    }
   },
   "outputs": [
    {
     "name": "stderr",
     "output_type": "stream",
     "text": [
      "Loading required package: SeuratObject\n",
      "\n",
      "Registered S3 methods overwritten by 'SeuratObject':\n",
      "  method                     from  \n",
      "  $.JackStrawData            Seurat\n",
      "  $.Seurat                   Seurat\n",
      "  $.SeuratCommand            Seurat\n",
      "  $<-.Seurat                 Seurat\n",
      "  [.Assay                    Seurat\n",
      "  [.DimReduc                 Seurat\n",
      "  [.Seurat                   Seurat\n",
      "  [.SeuratCommand            Seurat\n",
      "  [.SpatialImage             Seurat\n",
      "  [[.Assay                   Seurat\n",
      "  [[.DimReduc                Seurat\n",
      "  [[.Seurat                  Seurat\n",
      "  levels<-.Seurat            Seurat\n",
      "  .DollarNames.JackStrawData Seurat\n",
      "  .DollarNames.Seurat        Seurat\n",
      "  .DollarNames.SeuratCommand Seurat\n",
      "  as.list.SeuratCommand      Seurat\n",
      "  as.logical.JackStrawData   Seurat\n",
      "  dim.Assay                  Seurat\n",
      "  dim.DimReduc               Seurat\n",
      "  dim.Neighbor               Seurat\n",
      "  dim.Seurat                 Seurat\n",
      "  dim.SpatialImage           Seurat\n",
      "  dimnames.Assay             Seurat\n",
      "  dimnames.DimReduc          Seurat\n",
      "  dimnames.Seurat            Seurat\n",
      "  droplevels.Seurat          Seurat\n",
      "  length.DimReduc            Seurat\n",
      "  levels.Seurat              Seurat\n",
      "  merge.Assay                Seurat\n",
      "  merge.Seurat               Seurat\n",
      "  names.DimReduc             Seurat\n",
      "  names.Seurat               Seurat\n",
      "  print.DimReduc             Seurat\n",
      "  subset.Assay               Seurat\n",
      "  subset.DimReduc            Seurat\n",
      "  subset.Seurat              Seurat\n",
      "  subset.SpatialImage        Seurat\n",
      "\n",
      "\n",
      "Attaching package: ‘SeuratObject’\n",
      "\n",
      "\n",
      "The following objects are masked from ‘package:Seurat’:\n",
      "\n",
      "    AddMetaData, as.Graph, as.Neighbor, as.Seurat, as.sparse, Assays,\n",
      "    Cells, CellsByIdentities, Command, CreateAssayObject,\n",
      "    CreateDimReducObject, CreateSeuratObject, DefaultAssay,\n",
      "    DefaultAssay<-, Distances, Embeddings, FetchData, GetAssayData,\n",
      "    GetImage, GetTissueCoordinates, HVFInfo, Idents, Idents<-, Images,\n",
      "    Index, Index<-, Indices, IsGlobal, JS, JS<-, Key, Key<-, Loadings,\n",
      "    Loadings<-, LogSeuratCommand, Misc, Misc<-, Neighbors, pbmc_small,\n",
      "    Project, Project<-, Radius, Reductions, RenameAssays, RenameCells,\n",
      "    RenameIdents, ReorderIdent, RowMergeSparseMatrices, SetAssayData,\n",
      "    SetIdent, SpatiallyVariableFeatures, StashIdent, Stdev, SVFInfo,\n",
      "    Tool, Tool<-, UpdateSeuratObject, VariableFeatures,\n",
      "    VariableFeatures<-, WhichCells\n",
      "\n",
      "\n"
     ]
    }
   ],
   "source": [
    "dataobj <- subset(dataobj, cell_type %in% c(\"Adipocyte\",\"Cardiomyocyte cell\",\"Endothelial cell\",\"Fibroblast\",\"Lymphocyte\",\"Myelocyte\",\"Neuron\",\"Pericyte\",\"Smooth muscle cell\"))"
   ]
  },
  {
   "cell_type": "code",
   "execution_count": 4,
   "metadata": {},
   "outputs": [
    {
     "data": {
      "text/html": [
       "<style>\n",
       ".list-inline {list-style: none; margin:0; padding: 0}\n",
       ".list-inline>li {display: inline-block}\n",
       ".list-inline>li:not(:last-child)::after {content: \"\\00b7\"; padding: 0 .5ex}\n",
       "</style>\n",
       "<ol class=list-inline><li>'Cardiomyocyte cell'</li><li>'Fibroblast'</li><li>'Myelocyte'</li><li>'Endothelial cell'</li><li>'Lymphocyte'</li><li>'Smooth muscle cell'</li></ol>\n"
      ],
      "text/latex": [
       "\\begin{enumerate*}\n",
       "\\item 'Cardiomyocyte cell'\n",
       "\\item 'Fibroblast'\n",
       "\\item 'Myelocyte'\n",
       "\\item 'Endothelial cell'\n",
       "\\item 'Lymphocyte'\n",
       "\\item 'Smooth muscle cell'\n",
       "\\end{enumerate*}\n"
      ],
      "text/markdown": [
       "1. 'Cardiomyocyte cell'\n",
       "2. 'Fibroblast'\n",
       "3. 'Myelocyte'\n",
       "4. 'Endothelial cell'\n",
       "5. 'Lymphocyte'\n",
       "6. 'Smooth muscle cell'\n",
       "\n",
       "\n"
      ],
      "text/plain": [
       "[1] \"Cardiomyocyte cell\" \"Fibroblast\"         \"Myelocyte\"         \n",
       "[4] \"Endothelial cell\"   \"Lymphocyte\"         \"Smooth muscle cell\""
      ]
     },
     "metadata": {},
     "output_type": "display_data"
    }
   ],
   "source": [
    "unique(dataobj$cell_type)"
   ]
  },
  {
   "cell_type": "code",
   "execution_count": 5,
   "metadata": {},
   "outputs": [],
   "source": [
    "data.input <- dataobj@assays$RNA@data\n",
    "identity <-data.frame(dataobj$cell_type)"
   ]
  },
  {
   "cell_type": "markdown",
   "metadata": {},
   "source": [
    "# build cellchat object"
   ]
  },
  {
   "cell_type": "code",
   "execution_count": 6,
   "metadata": {},
   "outputs": [],
   "source": [
    "# create a CellChat object\n",
    "cellchat <- createCellChat(data = data.input)\n",
    "# add Metadata\n",
    "cellchat <- addMeta(cellchat, meta = identity, meta.name = \"labels\")\n",
    "cellchat <- setIdent(cellchat, ident.use = \"labels\") \n",
    "groupSize <- as.numeric(table(cellchat@idents)) # number of cells in each cell group\n",
    "CellChatDB <- CellChatDB.human \n",
    "cellchat@DB <- CellChatDB"
   ]
  },
  {
   "cell_type": "code",
   "execution_count": 7,
   "metadata": {},
   "outputs": [
    {
     "name": "stdout",
     "output_type": "stream",
     "text": [
      "Issue identified!! Please check the official Gene Symbol of the following genes:  \n",
      " MGI:1915803 MGI:107675 MGI:1913728 MGI:107674 MGI:2157942 MGI:1347245 MGI:2135589 MGI:1918059 MGI:2136934 MGI:2136650 MGI:3522133 MGI:2664358 ITGAL_ITGB2L MGI:95957 MGI:95914 MGI:95915 MGI:1276570 MGI:95928 MGI:95929 MGI:95931 MGI:95936 H2-Q8 MGI:95956 MGI:95958 MGI:95959 H2-T9 MGI:1276527 MGI:2676637 MGI:95913 MGI:1276526 MGI:1276525 MGI:2687364 MGI:95942 MGI:95935 MGI:1276524 MGI:892004 MGI:95896 MGI:95904 MGI:1276522 H2-T18 H2-Q9 MGI:3704134 H2-L MGI:3702919 MGI:95933 MGI:2442805 MGI:3779381 MGI:95917 MGI:3647514 H2-BI H2-D MGI:109477 H60a H2-Ea-ps MGI:95895 MGI:103070 MGI:95901 MGI:95922 MGI:95923 MGI:107741 MGI:104849 MGI:1195970 MGI:1889024 MGI:3042847 MGI:1921853 MGI:3036289 MGI:2443630 MGI:1920500 MGI:107539 MGI:96877 MGI:2442965 MGI:1916392 ITGAM_ITGB2L MGI:2652397 MGI:96876 MGI:2159681 \n"
     ]
    }
   ],
   "source": [
    "# Preprocessing\n",
    "cellchat <- subsetData(cellchat)\n",
    "cellchat <- identifyOverExpressedGenes(cellchat)\n",
    "cellchat <- identifyOverExpressedInteractions(cellchat)\n",
    "cellchat <- projectData(cellchat, PPI.human)\n",
    "cellchat <- computeCommunProb(cellchat)\n",
    "cellchat <- computeCommunProbPathway(cellchat)\n",
    "cellchat <- aggregateNet(cellchat)\n",
    "cellchat <- netAnalysis_signalingRole(cellchat, slot.name = \"netP\")"
   ]
  },
  {
   "cell_type": "code",
   "execution_count": 8,
   "metadata": {},
   "outputs": [
    {
     "data": {
      "text/plain": [
       "An object of class CellChat \n",
       " 43878 genes.\n",
       " 812 cells."
      ]
     },
     "metadata": {},
     "output_type": "display_data"
    }
   ],
   "source": [
    "cellchat"
   ]
  },
  {
   "cell_type": "code",
   "execution_count": 9,
   "metadata": {},
   "outputs": [],
   "source": [
    "pathways <- cellchat@netP$pathways"
   ]
  },
  {
   "cell_type": "code",
   "execution_count": 10,
   "metadata": {},
   "outputs": [
    {
     "data": {
      "text/html": [
       "<style>\n",
       ".list-inline {list-style: none; margin:0; padding: 0}\n",
       ".list-inline>li {display: inline-block}\n",
       ".list-inline>li:not(:last-child)::after {content: \"\\00b7\"; padding: 0 .5ex}\n",
       "</style>\n",
       "<ol class=list-inline><li>'TGFb'</li><li>'BMP'</li><li>'GDF'</li><li>'MSTN'</li><li>'GDNF'</li><li>'ACTIVIN'</li><li>'WNT'</li><li>'ncWNT'</li><li>'EGF'</li><li>'NRG'</li><li>'FGF'</li><li>'PDGF'</li><li>'VEGF'</li><li>'IGF'</li><li>'CCL'</li><li>'CXCL'</li><li>'CX3C'</li><li>'IL2'</li><li>'IL4'</li><li>'IL6'</li><li>'LIFR'</li><li>'IL10'</li><li>'IL1'</li><li>'CSF'</li><li>'IL16'</li><li>'CSF3'</li><li>'IFN-II'</li><li>'TNF'</li><li>'LT'</li><li>'TRAIL'</li><li>'NGF'</li><li>'TWEAK'</li><li>'CD30'</li><li>'CD137'</li><li>'BAFF'</li><li>'CD40'</li><li>'RESISTIN'</li><li>'VISFATIN'</li><li>'ANGPTL'</li><li>'ANGPT'</li><li>'MK'</li><li>'PTN'</li><li>'PERIOSTIN'</li><li>'COMPLEMENT'</li><li>'EDN'</li><li>'NMU'</li><li>'NPY'</li><li>'TAC'</li><li>'PARs'</li><li>'NPR1'</li><li>'KIT'</li><li>'FSH'</li><li>'NT'</li><li>'SEMA3'</li><li>'CALCR'</li><li>'ANNEXIN'</li><li>'GAS'</li><li>'GALECTIN'</li><li>'PROS'</li><li>'CHEMERIN'</li><li>'COLLAGEN'</li><li>'FN1'</li><li>'LAMININ'</li><li>'RELN'</li><li>'THBS'</li><li>'VTN'</li><li>'TENASCIN'</li><li>'AGRN'</li><li>'HSPG'</li><li>'ALCAM'</li><li>'APP'</li><li>'CADM'</li><li>'CD22'</li><li>'CD23'</li><li>'CD39'</li><li>'CD45'</li><li>'CD46'</li><li>'CD48'</li><li>'CD6'</li><li>'CD80'</li><li>'CD86'</li><li>'CDH'</li><li>'CDH5'</li><li>'CNTN'</li><li>'CSPG4'</li><li>'DESMOSOME'</li><li>'EPHA'</li><li>'EPHB'</li><li>'ESAM'</li><li>'GP1BA'</li><li>'ICAM'</li><li>'ICOS'</li><li>'ITGAL-ITGB2'</li><li>'JAM'</li><li>'MHC-II'</li><li>'MPZ'</li><li>'NCAM'</li><li>'NECTIN'</li><li>'NEGR'</li><li>'NGL'</li><li>'NOTCH'</li><li>'NRXN'</li><li>'PECAM1'</li><li>'PTPRM'</li><li>'SELL'</li><li>'SELPLG'</li><li>'SEMA4'</li><li>'SEMA5'</li><li>'SEMA6'</li><li>'SEMA7'</li><li>'THY1'</li><li>'TIGIT'</li><li>'VCAM'</li><li>'VISTA'</li></ol>\n"
      ],
      "text/latex": [
       "\\begin{enumerate*}\n",
       "\\item 'TGFb'\n",
       "\\item 'BMP'\n",
       "\\item 'GDF'\n",
       "\\item 'MSTN'\n",
       "\\item 'GDNF'\n",
       "\\item 'ACTIVIN'\n",
       "\\item 'WNT'\n",
       "\\item 'ncWNT'\n",
       "\\item 'EGF'\n",
       "\\item 'NRG'\n",
       "\\item 'FGF'\n",
       "\\item 'PDGF'\n",
       "\\item 'VEGF'\n",
       "\\item 'IGF'\n",
       "\\item 'CCL'\n",
       "\\item 'CXCL'\n",
       "\\item 'CX3C'\n",
       "\\item 'IL2'\n",
       "\\item 'IL4'\n",
       "\\item 'IL6'\n",
       "\\item 'LIFR'\n",
       "\\item 'IL10'\n",
       "\\item 'IL1'\n",
       "\\item 'CSF'\n",
       "\\item 'IL16'\n",
       "\\item 'CSF3'\n",
       "\\item 'IFN-II'\n",
       "\\item 'TNF'\n",
       "\\item 'LT'\n",
       "\\item 'TRAIL'\n",
       "\\item 'NGF'\n",
       "\\item 'TWEAK'\n",
       "\\item 'CD30'\n",
       "\\item 'CD137'\n",
       "\\item 'BAFF'\n",
       "\\item 'CD40'\n",
       "\\item 'RESISTIN'\n",
       "\\item 'VISFATIN'\n",
       "\\item 'ANGPTL'\n",
       "\\item 'ANGPT'\n",
       "\\item 'MK'\n",
       "\\item 'PTN'\n",
       "\\item 'PERIOSTIN'\n",
       "\\item 'COMPLEMENT'\n",
       "\\item 'EDN'\n",
       "\\item 'NMU'\n",
       "\\item 'NPY'\n",
       "\\item 'TAC'\n",
       "\\item 'PARs'\n",
       "\\item 'NPR1'\n",
       "\\item 'KIT'\n",
       "\\item 'FSH'\n",
       "\\item 'NT'\n",
       "\\item 'SEMA3'\n",
       "\\item 'CALCR'\n",
       "\\item 'ANNEXIN'\n",
       "\\item 'GAS'\n",
       "\\item 'GALECTIN'\n",
       "\\item 'PROS'\n",
       "\\item 'CHEMERIN'\n",
       "\\item 'COLLAGEN'\n",
       "\\item 'FN1'\n",
       "\\item 'LAMININ'\n",
       "\\item 'RELN'\n",
       "\\item 'THBS'\n",
       "\\item 'VTN'\n",
       "\\item 'TENASCIN'\n",
       "\\item 'AGRN'\n",
       "\\item 'HSPG'\n",
       "\\item 'ALCAM'\n",
       "\\item 'APP'\n",
       "\\item 'CADM'\n",
       "\\item 'CD22'\n",
       "\\item 'CD23'\n",
       "\\item 'CD39'\n",
       "\\item 'CD45'\n",
       "\\item 'CD46'\n",
       "\\item 'CD48'\n",
       "\\item 'CD6'\n",
       "\\item 'CD80'\n",
       "\\item 'CD86'\n",
       "\\item 'CDH'\n",
       "\\item 'CDH5'\n",
       "\\item 'CNTN'\n",
       "\\item 'CSPG4'\n",
       "\\item 'DESMOSOME'\n",
       "\\item 'EPHA'\n",
       "\\item 'EPHB'\n",
       "\\item 'ESAM'\n",
       "\\item 'GP1BA'\n",
       "\\item 'ICAM'\n",
       "\\item 'ICOS'\n",
       "\\item 'ITGAL-ITGB2'\n",
       "\\item 'JAM'\n",
       "\\item 'MHC-II'\n",
       "\\item 'MPZ'\n",
       "\\item 'NCAM'\n",
       "\\item 'NECTIN'\n",
       "\\item 'NEGR'\n",
       "\\item 'NGL'\n",
       "\\item 'NOTCH'\n",
       "\\item 'NRXN'\n",
       "\\item 'PECAM1'\n",
       "\\item 'PTPRM'\n",
       "\\item 'SELL'\n",
       "\\item 'SELPLG'\n",
       "\\item 'SEMA4'\n",
       "\\item 'SEMA5'\n",
       "\\item 'SEMA6'\n",
       "\\item 'SEMA7'\n",
       "\\item 'THY1'\n",
       "\\item 'TIGIT'\n",
       "\\item 'VCAM'\n",
       "\\item 'VISTA'\n",
       "\\end{enumerate*}\n"
      ],
      "text/markdown": [
       "1. 'TGFb'\n",
       "2. 'BMP'\n",
       "3. 'GDF'\n",
       "4. 'MSTN'\n",
       "5. 'GDNF'\n",
       "6. 'ACTIVIN'\n",
       "7. 'WNT'\n",
       "8. 'ncWNT'\n",
       "9. 'EGF'\n",
       "10. 'NRG'\n",
       "11. 'FGF'\n",
       "12. 'PDGF'\n",
       "13. 'VEGF'\n",
       "14. 'IGF'\n",
       "15. 'CCL'\n",
       "16. 'CXCL'\n",
       "17. 'CX3C'\n",
       "18. 'IL2'\n",
       "19. 'IL4'\n",
       "20. 'IL6'\n",
       "21. 'LIFR'\n",
       "22. 'IL10'\n",
       "23. 'IL1'\n",
       "24. 'CSF'\n",
       "25. 'IL16'\n",
       "26. 'CSF3'\n",
       "27. 'IFN-II'\n",
       "28. 'TNF'\n",
       "29. 'LT'\n",
       "30. 'TRAIL'\n",
       "31. 'NGF'\n",
       "32. 'TWEAK'\n",
       "33. 'CD30'\n",
       "34. 'CD137'\n",
       "35. 'BAFF'\n",
       "36. 'CD40'\n",
       "37. 'RESISTIN'\n",
       "38. 'VISFATIN'\n",
       "39. 'ANGPTL'\n",
       "40. 'ANGPT'\n",
       "41. 'MK'\n",
       "42. 'PTN'\n",
       "43. 'PERIOSTIN'\n",
       "44. 'COMPLEMENT'\n",
       "45. 'EDN'\n",
       "46. 'NMU'\n",
       "47. 'NPY'\n",
       "48. 'TAC'\n",
       "49. 'PARs'\n",
       "50. 'NPR1'\n",
       "51. 'KIT'\n",
       "52. 'FSH'\n",
       "53. 'NT'\n",
       "54. 'SEMA3'\n",
       "55. 'CALCR'\n",
       "56. 'ANNEXIN'\n",
       "57. 'GAS'\n",
       "58. 'GALECTIN'\n",
       "59. 'PROS'\n",
       "60. 'CHEMERIN'\n",
       "61. 'COLLAGEN'\n",
       "62. 'FN1'\n",
       "63. 'LAMININ'\n",
       "64. 'RELN'\n",
       "65. 'THBS'\n",
       "66. 'VTN'\n",
       "67. 'TENASCIN'\n",
       "68. 'AGRN'\n",
       "69. 'HSPG'\n",
       "70. 'ALCAM'\n",
       "71. 'APP'\n",
       "72. 'CADM'\n",
       "73. 'CD22'\n",
       "74. 'CD23'\n",
       "75. 'CD39'\n",
       "76. 'CD45'\n",
       "77. 'CD46'\n",
       "78. 'CD48'\n",
       "79. 'CD6'\n",
       "80. 'CD80'\n",
       "81. 'CD86'\n",
       "82. 'CDH'\n",
       "83. 'CDH5'\n",
       "84. 'CNTN'\n",
       "85. 'CSPG4'\n",
       "86. 'DESMOSOME'\n",
       "87. 'EPHA'\n",
       "88. 'EPHB'\n",
       "89. 'ESAM'\n",
       "90. 'GP1BA'\n",
       "91. 'ICAM'\n",
       "92. 'ICOS'\n",
       "93. 'ITGAL-ITGB2'\n",
       "94. 'JAM'\n",
       "95. 'MHC-II'\n",
       "96. 'MPZ'\n",
       "97. 'NCAM'\n",
       "98. 'NECTIN'\n",
       "99. 'NEGR'\n",
       "100. 'NGL'\n",
       "101. 'NOTCH'\n",
       "102. 'NRXN'\n",
       "103. 'PECAM1'\n",
       "104. 'PTPRM'\n",
       "105. 'SELL'\n",
       "106. 'SELPLG'\n",
       "107. 'SEMA4'\n",
       "108. 'SEMA5'\n",
       "109. 'SEMA6'\n",
       "110. 'SEMA7'\n",
       "111. 'THY1'\n",
       "112. 'TIGIT'\n",
       "113. 'VCAM'\n",
       "114. 'VISTA'\n",
       "\n",
       "\n"
      ],
      "text/plain": [
       "  [1] \"TGFb\"        \"BMP\"         \"GDF\"         \"MSTN\"        \"GDNF\"       \n",
       "  [6] \"ACTIVIN\"     \"WNT\"         \"ncWNT\"       \"EGF\"         \"NRG\"        \n",
       " [11] \"FGF\"         \"PDGF\"        \"VEGF\"        \"IGF\"         \"CCL\"        \n",
       " [16] \"CXCL\"        \"CX3C\"        \"IL2\"         \"IL4\"         \"IL6\"        \n",
       " [21] \"LIFR\"        \"IL10\"        \"IL1\"         \"CSF\"         \"IL16\"       \n",
       " [26] \"CSF3\"        \"IFN-II\"      \"TNF\"         \"LT\"          \"TRAIL\"      \n",
       " [31] \"NGF\"         \"TWEAK\"       \"CD30\"        \"CD137\"       \"BAFF\"       \n",
       " [36] \"CD40\"        \"RESISTIN\"    \"VISFATIN\"    \"ANGPTL\"      \"ANGPT\"      \n",
       " [41] \"MK\"          \"PTN\"         \"PERIOSTIN\"   \"COMPLEMENT\"  \"EDN\"        \n",
       " [46] \"NMU\"         \"NPY\"         \"TAC\"         \"PARs\"        \"NPR1\"       \n",
       " [51] \"KIT\"         \"FSH\"         \"NT\"          \"SEMA3\"       \"CALCR\"      \n",
       " [56] \"ANNEXIN\"     \"GAS\"         \"GALECTIN\"    \"PROS\"        \"CHEMERIN\"   \n",
       " [61] \"COLLAGEN\"    \"FN1\"         \"LAMININ\"     \"RELN\"        \"THBS\"       \n",
       " [66] \"VTN\"         \"TENASCIN\"    \"AGRN\"        \"HSPG\"        \"ALCAM\"      \n",
       " [71] \"APP\"         \"CADM\"        \"CD22\"        \"CD23\"        \"CD39\"       \n",
       " [76] \"CD45\"        \"CD46\"        \"CD48\"        \"CD6\"         \"CD80\"       \n",
       " [81] \"CD86\"        \"CDH\"         \"CDH5\"        \"CNTN\"        \"CSPG4\"      \n",
       " [86] \"DESMOSOME\"   \"EPHA\"        \"EPHB\"        \"ESAM\"        \"GP1BA\"      \n",
       " [91] \"ICAM\"        \"ICOS\"        \"ITGAL-ITGB2\" \"JAM\"         \"MHC-II\"     \n",
       " [96] \"MPZ\"         \"NCAM\"        \"NECTIN\"      \"NEGR\"        \"NGL\"        \n",
       "[101] \"NOTCH\"       \"NRXN\"        \"PECAM1\"      \"PTPRM\"       \"SELL\"       \n",
       "[106] \"SELPLG\"      \"SEMA4\"       \"SEMA5\"       \"SEMA6\"       \"SEMA7\"      \n",
       "[111] \"THY1\"        \"TIGIT\"       \"VCAM\"        \"VISTA\"      "
      ]
     },
     "metadata": {},
     "output_type": "display_data"
    }
   ],
   "source": [
    "pathways"
   ]
  },
  {
   "cell_type": "markdown",
   "metadata": {},
   "source": [
    "# build relationplot json"
   ]
  },
  {
   "cell_type": "code",
   "execution_count": 11,
   "metadata": {},
   "outputs": [],
   "source": [
    "js_nodelist <- toJSON(data.frame(levels(cellchat@idents)))"
   ]
  },
  {
   "cell_type": "code",
   "execution_count": 12,
   "metadata": {},
   "outputs": [
    {
     "data": {
      "text/html": [
       "'{\"levels.cellchat.idents.\":[\"Cardiomyocyte cell\",\"Endothelial cell\",\"Fibroblast\",\"Lymphocyte\",\"Myelocyte\",\"Smooth muscle cell\"]}'"
      ],
      "text/latex": [
       "'\\{\"levels.cellchat.idents.\":{[}\"Cardiomyocyte cell\",\"Endothelial cell\",\"Fibroblast\",\"Lymphocyte\",\"Myelocyte\",\"Smooth muscle cell\"{]}\\}'"
      ],
      "text/markdown": [
       "'{\"levels.cellchat.idents.\":[\"Cardiomyocyte cell\",\"Endothelial cell\",\"Fibroblast\",\"Lymphocyte\",\"Myelocyte\",\"Smooth muscle cell\"]}'"
      ],
      "text/plain": [
       "[1] \"{\\\"levels.cellchat.idents.\\\":[\\\"Cardiomyocyte cell\\\",\\\"Endothelial cell\\\",\\\"Fibroblast\\\",\\\"Lymphocyte\\\",\\\"Myelocyte\\\",\\\"Smooth muscle cell\\\"]}\""
      ]
     },
     "metadata": {},
     "output_type": "display_data"
    }
   ],
   "source": [
    "js_nodelist"
   ]
  },
  {
   "cell_type": "code",
   "execution_count": 15,
   "metadata": {},
   "outputs": [],
   "source": [
    "prop <- read.csv(\"~/HHCA_d/Code4Paper/ForWebsite/1-2/Fetal/RA.csv\",row.names = 1)\n",
    "prop <- prop/sum(prop)\n",
    "prop <- round(prop,3)\n",
    "prop <- as.data.frame(t(prop))"
   ]
  },
  {
   "cell_type": "code",
   "execution_count": 16,
   "metadata": {},
   "outputs": [],
   "source": [
    "js_nodes <- '['\n",
    "for(i in 1:length(levels(cellchat@idents))){\n",
    "    js_nodes <- paste0(js_nodes,'{\"name\":\"',levels(cellchat@idents)[i],'\",\"category\":',i-1,',\"label\":{\"show\": true},\"symbolSize\":',as.integer(5+as.double(prop[gsub(\" \",\".\",levels(cellchat@idents)[i])])*50),\"}\")# json index should start at 0\n",
    "    if(i != length(levels(cellchat@idents))){\n",
    "        js_nodes <- paste0(js_nodes,',')\n",
    "    }else{\n",
    "        js_nodes <- paste0(js_nodes,']')\n",
    "    }\n",
    "}"
   ]
  },
  {
   "cell_type": "code",
   "execution_count": 17,
   "metadata": {},
   "outputs": [
    {
     "data": {
      "text/html": [
       "'[{\"name\":\"Cardiomyocyte cell\",\"category\":0,\"label\":{\"show\": true},\"symbolSize\":21},{\"name\":\"Endothelial cell\",\"category\":1,\"label\":{\"show\": true},\"symbolSize\":12},{\"name\":\"Fibroblast\",\"category\":2,\"label\":{\"show\": true},\"symbolSize\":14},{\"name\":\"Lymphocyte\",\"category\":3,\"label\":{\"show\": true},\"symbolSize\":12},{\"name\":\"Myelocyte\",\"category\":4,\"label\":{\"show\": true},\"symbolSize\":9},{\"name\":\"Smooth muscle cell\",\"category\":5,\"label\":{\"show\": true},\"symbolSize\":8}]'"
      ],
      "text/latex": [
       "'{[}\\{\"name\":\"Cardiomyocyte cell\",\"category\":0,\"label\":\\{\"show\": true\\},\"symbolSize\":21\\},\\{\"name\":\"Endothelial cell\",\"category\":1,\"label\":\\{\"show\": true\\},\"symbolSize\":12\\},\\{\"name\":\"Fibroblast\",\"category\":2,\"label\":\\{\"show\": true\\},\"symbolSize\":14\\},\\{\"name\":\"Lymphocyte\",\"category\":3,\"label\":\\{\"show\": true\\},\"symbolSize\":12\\},\\{\"name\":\"Myelocyte\",\"category\":4,\"label\":\\{\"show\": true\\},\"symbolSize\":9\\},\\{\"name\":\"Smooth muscle cell\",\"category\":5,\"label\":\\{\"show\": true\\},\"symbolSize\":8\\}{]}'"
      ],
      "text/markdown": [
       "'[{\"name\":\"Cardiomyocyte cell\",\"category\":0,\"label\":{\"show\": true},\"symbolSize\":21},{\"name\":\"Endothelial cell\",\"category\":1,\"label\":{\"show\": true},\"symbolSize\":12},{\"name\":\"Fibroblast\",\"category\":2,\"label\":{\"show\": true},\"symbolSize\":14},{\"name\":\"Lymphocyte\",\"category\":3,\"label\":{\"show\": true},\"symbolSize\":12},{\"name\":\"Myelocyte\",\"category\":4,\"label\":{\"show\": true},\"symbolSize\":9},{\"name\":\"Smooth muscle cell\",\"category\":5,\"label\":{\"show\": true},\"symbolSize\":8}]'"
      ],
      "text/plain": [
       "[1] \"[{\\\"name\\\":\\\"Cardiomyocyte cell\\\",\\\"category\\\":0,\\\"label\\\":{\\\"show\\\": true},\\\"symbolSize\\\":21},{\\\"name\\\":\\\"Endothelial cell\\\",\\\"category\\\":1,\\\"label\\\":{\\\"show\\\": true},\\\"symbolSize\\\":12},{\\\"name\\\":\\\"Fibroblast\\\",\\\"category\\\":2,\\\"label\\\":{\\\"show\\\": true},\\\"symbolSize\\\":14},{\\\"name\\\":\\\"Lymphocyte\\\",\\\"category\\\":3,\\\"label\\\":{\\\"show\\\": true},\\\"symbolSize\\\":12},{\\\"name\\\":\\\"Myelocyte\\\",\\\"category\\\":4,\\\"label\\\":{\\\"show\\\": true},\\\"symbolSize\\\":9},{\\\"name\\\":\\\"Smooth muscle cell\\\",\\\"category\\\":5,\\\"label\\\":{\\\"show\\\": true},\\\"symbolSize\\\":8}]\""
      ]
     },
     "metadata": {},
     "output_type": "display_data"
    }
   ],
   "source": [
    "js_nodes"
   ]
  },
  {
   "cell_type": "code",
   "execution_count": 18,
   "metadata": {},
   "outputs": [],
   "source": [
    "writeLines(js_nodelist, \"/data8t/HHP/New_Website/Fetal/Page2/RelationshipPlot/RA/nodelist.json\") \n",
    "writeLines(js_nodes, \"/data8t/HHP/New_Website/Fetal/Page2/RelationshipPlot/RA/nodes.json\") "
   ]
  },
  {
   "cell_type": "code",
   "execution_count": 19,
   "metadata": {},
   "outputs": [],
   "source": [
    "js_nodes <- '['\n",
    "for(i in 1:length(levels(cellchat@idents))){\n",
    "    js_nodes <- paste0(js_nodes,'{\"name\":\"',levels(cellchat@idents)[i],'\",\"category\":',i-1,',\"label\":{\"show\": true},\"symbolSize\":',as.integer(5+as.double(prop[gsub(\" \",\".\",levels(cellchat@idents)[i])])*50),\"}\")# json index should start at 0\n",
    "    if(i != length(levels(cellchat@idents))){\n",
    "        js_nodes <- paste0(js_nodes,',')\n",
    "    }else{\n",
    "        js_nodes <- paste0(js_nodes,']')\n",
    "    }\n",
    "}"
   ]
  },
  {
   "cell_type": "code",
   "execution_count": 20,
   "metadata": {},
   "outputs": [
    {
     "data": {
      "text/html": [
       "'[{\"name\":\"Cardiomyocyte cell\",\"category\":0,\"label\":{\"show\": true},\"symbolSize\":21},{\"name\":\"Endothelial cell\",\"category\":1,\"label\":{\"show\": true},\"symbolSize\":12},{\"name\":\"Fibroblast\",\"category\":2,\"label\":{\"show\": true},\"symbolSize\":14},{\"name\":\"Lymphocyte\",\"category\":3,\"label\":{\"show\": true},\"symbolSize\":12},{\"name\":\"Myelocyte\",\"category\":4,\"label\":{\"show\": true},\"symbolSize\":9},{\"name\":\"Smooth muscle cell\",\"category\":5,\"label\":{\"show\": true},\"symbolSize\":8}]'"
      ],
      "text/latex": [
       "'{[}\\{\"name\":\"Cardiomyocyte cell\",\"category\":0,\"label\":\\{\"show\": true\\},\"symbolSize\":21\\},\\{\"name\":\"Endothelial cell\",\"category\":1,\"label\":\\{\"show\": true\\},\"symbolSize\":12\\},\\{\"name\":\"Fibroblast\",\"category\":2,\"label\":\\{\"show\": true\\},\"symbolSize\":14\\},\\{\"name\":\"Lymphocyte\",\"category\":3,\"label\":\\{\"show\": true\\},\"symbolSize\":12\\},\\{\"name\":\"Myelocyte\",\"category\":4,\"label\":\\{\"show\": true\\},\"symbolSize\":9\\},\\{\"name\":\"Smooth muscle cell\",\"category\":5,\"label\":\\{\"show\": true\\},\"symbolSize\":8\\}{]}'"
      ],
      "text/markdown": [
       "'[{\"name\":\"Cardiomyocyte cell\",\"category\":0,\"label\":{\"show\": true},\"symbolSize\":21},{\"name\":\"Endothelial cell\",\"category\":1,\"label\":{\"show\": true},\"symbolSize\":12},{\"name\":\"Fibroblast\",\"category\":2,\"label\":{\"show\": true},\"symbolSize\":14},{\"name\":\"Lymphocyte\",\"category\":3,\"label\":{\"show\": true},\"symbolSize\":12},{\"name\":\"Myelocyte\",\"category\":4,\"label\":{\"show\": true},\"symbolSize\":9},{\"name\":\"Smooth muscle cell\",\"category\":5,\"label\":{\"show\": true},\"symbolSize\":8}]'"
      ],
      "text/plain": [
       "[1] \"[{\\\"name\\\":\\\"Cardiomyocyte cell\\\",\\\"category\\\":0,\\\"label\\\":{\\\"show\\\": true},\\\"symbolSize\\\":21},{\\\"name\\\":\\\"Endothelial cell\\\",\\\"category\\\":1,\\\"label\\\":{\\\"show\\\": true},\\\"symbolSize\\\":12},{\\\"name\\\":\\\"Fibroblast\\\",\\\"category\\\":2,\\\"label\\\":{\\\"show\\\": true},\\\"symbolSize\\\":14},{\\\"name\\\":\\\"Lymphocyte\\\",\\\"category\\\":3,\\\"label\\\":{\\\"show\\\": true},\\\"symbolSize\\\":12},{\\\"name\\\":\\\"Myelocyte\\\",\\\"category\\\":4,\\\"label\\\":{\\\"show\\\": true},\\\"symbolSize\\\":9},{\\\"name\\\":\\\"Smooth muscle cell\\\",\\\"category\\\":5,\\\"label\\\":{\\\"show\\\": true},\\\"symbolSize\\\":8}]\""
      ]
     },
     "metadata": {},
     "output_type": "display_data"
    }
   ],
   "source": [
    "js_nodes"
   ]
  },
  {
   "cell_type": "code",
   "execution_count": 21,
   "metadata": {},
   "outputs": [],
   "source": [
    "writeLines(js_nodelist, \"/data8t/HHP/New_Website/Fetal/Page2/RelationshipPlot/RA/nodelist.json\") \n",
    "writeLines(js_nodes, \"/data8t/HHP/New_Website/Fetal/Page2/RelationshipPlot/RA/nodes.json\") "
   ]
  },
  {
   "cell_type": "code",
   "execution_count": 22,
   "metadata": {},
   "outputs": [],
   "source": [
    "ps_list <- array(0,dim = c(length(levels(cellchat@idents)),length(levels(cellchat@idents)),length(pathways)))\n",
    "for(p in 1:length(pathways)){\n",
    "    pathway <- pathways[p]\n",
    "\n",
    "    ############ From https://github.com/sqjin/CellChat/blob/master/R/visualization.R 188-223\n",
    "    signaling <- pathway\n",
    "    pairLR <- searchPair(signaling = pathway, pairLR.use = cellchat@LR$LRsig, key = \"pathway_name\", matching.exact = T, pair.only = T)\n",
    "    signaling.name <- signaling\n",
    "    net <- cellchat@net\n",
    "\n",
    "    pairLR.use.name <- dimnames(net$prob)[[3]]\n",
    "    pairLR.name <- intersect(rownames(pairLR), pairLR.use.name)\n",
    "    pairLR <- pairLR[pairLR.name, ]\n",
    "    prob <- net$prob\n",
    "    pval <- net$pval\n",
    "\n",
    "    prob[pval > 0.05] <- 0\n",
    "    if (length(pairLR.name) > 1) {\n",
    "    pairLR.name.use <- pairLR.name[apply(prob[,,pairLR.name], 3, sum) != 0]\n",
    "    } else {\n",
    "    pairLR.name.use <- pairLR.name[sum(prob[,,pairLR.name]) != 0]\n",
    "    }\n",
    "\n",
    "\n",
    "    if (length(pairLR.name.use) == 0) {\n",
    "    stop(paste0('There is no significant communication of ', signaling.name))\n",
    "    } else {\n",
    "    pairLR <- pairLR[pairLR.name.use,]\n",
    "    }\n",
    "    nRow <- length(pairLR.name.use)\n",
    "\n",
    "    prob <- prob[,,pairLR.name.use]\n",
    "    pval <- pval[,,pairLR.name.use]\n",
    "\n",
    "    if (length(dim(prob)) == 2) {\n",
    "    prob <- replicate(1, prob, simplify=\"array\")\n",
    "    pval <- replicate(1, pval, simplify=\"array\")\n",
    "    }\n",
    "    prob <-(prob-min(prob))/(max(prob)-min(prob))\n",
    "    prob.sum <- apply(prob, c(1,2), sum)\n",
    "    prob.sum <-(prob.sum-min(prob.sum))/(max(prob.sum)-min(prob.sum))*10 # 参数待定\n",
    "    prob.sum <- signif(prob.sum,3)\n",
    "    ############\n",
    "    \n",
    "    ps_list[,,p]<- prob.sum\n",
    "    ############\n",
    "\n",
    "    js_edge <-'['\n",
    "    for(i in 1:length(levels(cellchat@idents))){\n",
    "        for(j in 1:length(levels(cellchat@idents))){\n",
    "            if(prob.sum[i,j]!=0){\n",
    "                js_edge <- paste0(js_edge, '{\"source\":',i-1,',\"target\":',j-1,',\"weight\":',prob.sum[i,j],'},')# json index should start at 0\n",
    "            }\n",
    "        }\n",
    "    }\n",
    "    js_edge <- substr(js_edge,1,nchar(js_edge)-1)\n",
    "    js_edge <- paste0(js_edge,']')\n",
    "    writeLines(js_edge, paste0(\"/data8t/HHP/New_Website/Fetal/Page2/RelationshipPlot/RA/\",pathway,\".json\"))\n",
    "}"
   ]
  },
  {
   "cell_type": "markdown",
   "metadata": {},
   "source": [
    "# build heatmap json"
   ]
  },
  {
   "cell_type": "code",
   "execution_count": 23,
   "metadata": {},
   "outputs": [
    {
     "data": {
      "text/html": [
       "<style>\n",
       ".list-inline {list-style: none; margin:0; padding: 0}\n",
       ".list-inline>li {display: inline-block}\n",
       ".list-inline>li:not(:last-child)::after {content: \"\\00b7\"; padding: 0 .5ex}\n",
       "</style>\n",
       "<ol class=list-inline><li>'Cardiomyocyte cell'</li><li>'Endothelial cell'</li><li>'Fibroblast'</li><li>'Lymphocyte'</li><li>'Myelocyte'</li><li>'Smooth muscle cell'</li></ol>\n"
      ],
      "text/latex": [
       "\\begin{enumerate*}\n",
       "\\item 'Cardiomyocyte cell'\n",
       "\\item 'Endothelial cell'\n",
       "\\item 'Fibroblast'\n",
       "\\item 'Lymphocyte'\n",
       "\\item 'Myelocyte'\n",
       "\\item 'Smooth muscle cell'\n",
       "\\end{enumerate*}\n"
      ],
      "text/markdown": [
       "1. 'Cardiomyocyte cell'\n",
       "2. 'Endothelial cell'\n",
       "3. 'Fibroblast'\n",
       "4. 'Lymphocyte'\n",
       "5. 'Myelocyte'\n",
       "6. 'Smooth muscle cell'\n",
       "\n",
       "\n"
      ],
      "text/plain": [
       "[1] \"Cardiomyocyte cell\" \"Endothelial cell\"   \"Fibroblast\"        \n",
       "[4] \"Lymphocyte\"         \"Myelocyte\"          \"Smooth muscle cell\""
      ]
     },
     "metadata": {},
     "output_type": "display_data"
    }
   ],
   "source": [
    "levels(cellchat@idents)"
   ]
  },
  {
   "cell_type": "code",
   "execution_count": 24,
   "metadata": {},
   "outputs": [],
   "source": [
    "js_vertical <- toJSON(pathways)\n",
    "js_horizontal <-toJSON(data.frame(levels(cellchat@idents)))\n",
    "writeLines(js_vertical, \"/data8t/HHP/New_Website/Fetal/Page2/HeatMap/RA/vertical.json\") \n",
    "writeLines(js_horizontal, \"/data8t/HHP/New_Website/Fetal/Page2/HeatMap/RA/horizontal.json\")"
   ]
  },
  {
   "cell_type": "code",
   "execution_count": 25,
   "metadata": {},
   "outputs": [],
   "source": [
    "for( ct in 1:length(levels(cellchat@idents))){\n",
    "    mat <- t(ps_list[ct,,])\n",
    "    \n",
    "    js_heatmap <- \"[\"\n",
    "    for(i in 1:dim(mat)[1]){\n",
    "        for(j in 1:dim(mat)[2]){\n",
    "            js_heatmap <- paste0(js_heatmap,'[',i-1,',',j-1,',\"',mat[i,j],'\"],') #防止0产生的灰色格子\n",
    "        }\n",
    "    }\n",
    "    js_heatmap <- substr(js_heatmap,1,nchar(js_heatmap)-1)\n",
    "    js_heatmap <- paste0(js_heatmap,']')\n",
    "    \n",
    "    writeLines(js_heatmap, paste0(\"/data8t/HHP/New_Website/Fetal/Page2/HeatMap/RA/\",levels(cellchat@idents)[ct],\".json\"))\n",
    "}"
   ]
  },
  {
   "cell_type": "code",
   "execution_count": 26,
   "metadata": {},
   "outputs": [],
   "source": [
    "saveRDS(cellchat,\"/stor/public/chenyx/HHCAd/CellChat_result_fetal/RA.rds\")"
   ]
  }
 ],
 "metadata": {
  "kernelspec": {
   "display_name": "R3.5",
   "language": "R",
   "name": "ir2"
  },
  "language_info": {
   "codemirror_mode": "r",
   "file_extension": ".r",
   "mimetype": "text/x-r-source",
   "name": "R",
   "pygments_lexer": "r",
   "version": "3.6.1"
  }
 },
 "nbformat": 4,
 "nbformat_minor": 4
}
