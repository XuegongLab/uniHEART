{
 "cells": [
  {
   "cell_type": "code",
   "execution_count": 2,
   "id": "c28980f0",
   "metadata": {},
   "outputs": [],
   "source": [
    "library(rjson)\n",
    "library(reshape)"
   ]
  },
  {
   "cell_type": "code",
   "execution_count": 3,
   "id": "60fa3ab5",
   "metadata": {},
   "outputs": [],
   "source": [
    "cell_types <- c(\"Adipocyte\", \"Cardiomyocyte cell\", \"Endothelial cell\", \"Fibroblast\", \"Lymphoid cell\", \"Myeloid cell\", \"Neuron\", \"Pericyte\", \"Smooth muscle cell\")"
   ]
  },
  {
   "cell_type": "markdown",
   "id": "87bde415",
   "metadata": {},
   "source": [
    "# Adult"
   ]
  },
  {
   "cell_type": "markdown",
   "id": "e91f0f07",
   "metadata": {},
   "source": [
    "## All cell types"
   ]
  },
  {
   "cell_type": "code",
   "execution_count": 12,
   "id": "eba38b1d",
   "metadata": {
    "collapsed": true,
    "jupyter": {
     "outputs_hidden": true
    }
   },
   "outputs": [
    {
     "name": "stderr",
     "output_type": "stream",
     "text": [
      "Using gene as id variables\n",
      "\n",
      "Using gene as id variables\n",
      "\n",
      "Using gene as id variables\n",
      "\n",
      "Using gene as id variables\n",
      "\n",
      "Using gene as id variables\n",
      "\n",
      "Using gene as id variables\n",
      "\n",
      "Using gene as id variables\n",
      "\n",
      "Using gene as id variables\n",
      "\n",
      "Using gene as id variables\n",
      "\n"
     ]
    }
   ],
   "source": [
    "for (ct in cell_types){\n",
    "    df <- read.csv(paste0(\"~/HHCA_d/Code4Paper/ForWebsite/2-3/Adult/DEG/\",ct,\".csv\"))\n",
    "    colnames(df) <- c(\"gene\", \"Adipocyte\", \"Cardiomyocyte cell\", \"Endothelial cell\", \"Fibroblast\", \"Lymphoid cell\", \"Myeloid cell\", \"Neuron\", \"Pericyte\", \"Smooth muscle cell\")\n",
    "    mat <- melt(df)\n",
    "    \n",
    "    # write x ais\n",
    "    json_str <- '{\"xAxis\": [\"Adipocyte\", \"Cardiomyocyte cell\", \"Endothelial cell\", \"Fibroblast\", \"Lymphoid cell\", \"Myeloid cell\", \"Neuron\", \"Pericyte\", \"Smooth muscle cell\"], '\n",
    "    # write y axis\n",
    "    json_str <- paste0(json_str, '\"yAxis\": [')\n",
    "    for(gene in df$gene){\n",
    "        json_str <- paste0(json_str, '\"', gene ,'\", ')\n",
    "    }\n",
    "    json_str <- substr(json_str,1,nchar(json_str)-2)\n",
    "    json_str <- paste0(json_str, '], ')\n",
    "    # write data\n",
    "    json_str <- paste0(json_str, '\"data\": [')\n",
    "    for (i in 1:dim(mat)[1]){\n",
    "        json_str <- paste0(json_str,'[', '\"',mat[i,2],'\", \"', mat[i,1],'\", \"',signif(mat[i,3],3), '\"],')\n",
    "    }\n",
    "    json_str <- substr(json_str,1,nchar(json_str)-1)\n",
    "    json_str <- paste0(json_str, ']} ')\n",
    "    \n",
    "    writeLines(json_str,paste0(\"/stor/public/chenyx/HHCAd/ForWebsite220412/HeatMap_DEG_C/Adult/\",ct,\".json\"))\n",
    "}"
   ]
  },
  {
   "cell_type": "markdown",
   "id": "33417f81",
   "metadata": {},
   "source": [
    "# Fetal"
   ]
  },
  {
   "cell_type": "code",
   "execution_count": 5,
   "id": "f84fa980",
   "metadata": {
    "collapsed": true,
    "jupyter": {
     "outputs_hidden": true
    }
   },
   "outputs": [
    {
     "name": "stderr",
     "output_type": "stream",
     "text": [
      "Using gene as id variables\n",
      "\n",
      "Using gene as id variables\n",
      "\n",
      "Using gene as id variables\n",
      "\n",
      "Using gene as id variables\n",
      "\n",
      "Using gene as id variables\n",
      "\n",
      "Using gene as id variables\n",
      "\n",
      "Using gene as id variables\n",
      "\n",
      "Using gene as id variables\n",
      "\n",
      "Using gene as id variables\n",
      "\n"
     ]
    }
   ],
   "source": [
    "for (ct in cell_types){\n",
    "    df <- read.csv(paste0(\"~/HHCA_d/Code4Paper/ForWebsite/2-3/Fetal//DEG/\",ct,\".csv\"))\n",
    "    colnames(df) <- c(\"gene\", \"Adipocyte\", \"Cardiomyocyte cell\", \"Endothelial cell\", \"Fibroblast\", \"Lymphoid cell\", \"Myeloid cell\", \"Neuron\", \"Pericyte\", \"Smooth muscle cell\")\n",
    "    mat <- melt(df)\n",
    "    \n",
    "    # write x ais\n",
    "    json_str <- '{\"xAxis\": [\"Adipocyte\", \"Cardiomyocyte cell\", \"Endothelial cell\", \"Fibroblast\", \"Lymphoid cell\", \"Myeloid cell\", \"Neuron\", \"Pericyte\", \"Smooth muscle cell\"], '\n",
    "    # write y axis\n",
    "    json_str <- paste0(json_str, '\"yAxis\": [')\n",
    "    for(gene in df$gene){\n",
    "        json_str <- paste0(json_str, '\"', gene ,'\", ')\n",
    "    }\n",
    "    json_str <- substr(json_str,1,nchar(json_str)-2)\n",
    "    json_str <- paste0(json_str, '], ')\n",
    "    # write data\n",
    "    json_str <- paste0(json_str, '\"data\": [')\n",
    "    for (i in 1:dim(mat)[1]){\n",
    "        json_str <- paste0(json_str,'[', '\"',mat[i,2],'\", \"', mat[i,1],'\", \"',signif(mat[i,3],3), '\"],')\n",
    "    }\n",
    "    json_str <- substr(json_str,1,nchar(json_str)-1)\n",
    "    json_str <- paste0(json_str, ']} ')\n",
    "    \n",
    "    writeLines(json_str,paste0(\"/stor/public/chenyx/HHCAd/ForWebsite220412/HeatMap_DEG_C/Fetal/\",ct,\".json\"))\n",
    "}"
   ]
  }
 ],
 "metadata": {
  "kernelspec": {
   "display_name": "R4.0",
   "language": "R",
   "name": "ir3"
  },
  "language_info": {
   "codemirror_mode": "r",
   "file_extension": ".r",
   "mimetype": "text/x-r-source",
   "name": "R",
   "pygments_lexer": "r",
   "version": "4.0.3"
  }
 },
 "nbformat": 4,
 "nbformat_minor": 5
}
