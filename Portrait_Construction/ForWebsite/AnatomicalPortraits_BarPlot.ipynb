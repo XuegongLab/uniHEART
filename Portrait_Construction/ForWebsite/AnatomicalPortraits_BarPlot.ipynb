{
 "cells": [
  {
   "cell_type": "code",
   "execution_count": 3,
   "id": "63c7d738",
   "metadata": {},
   "outputs": [],
   "source": [
    "library(rjson)\n",
    "library(reshape2)"
   ]
  },
  {
   "cell_type": "markdown",
   "id": "4e5191c0",
   "metadata": {},
   "source": [
    "## Adult"
   ]
  },
  {
   "cell_type": "markdown",
   "id": "7bb4a06e",
   "metadata": {},
   "source": [
    "### LV"
   ]
  },
  {
   "cell_type": "code",
   "execution_count": 2,
   "id": "ffd4762c",
   "metadata": {},
   "outputs": [],
   "source": [
    "df <- read.csv(\"~/HHCA_d/Code4Paper/ForWebsite/1-2-2/Adult/LV.csv\",row.names = 1)\n",
    "rownames(df) <- c(\"Endothelial cell\", \"Cardiomyocyte cell\",\"Myeloid cell\", \"Fibroblast\", \"Lymphoid cell\", \"Smooth muscle cell\", \"Neuron\", \"Pericyte\", \"Adipocyte\")\n",
    "df$cell_type <- row.names(df)"
   ]
  },
  {
   "cell_type": "code",
   "execution_count": 3,
   "id": "2b349283",
   "metadata": {},
   "outputs": [
    {
     "data": {
      "text/html": [
       "<table class=\"dataframe\">\n",
       "<caption>A data.frame: 9 × 4</caption>\n",
       "<thead>\n",
       "\t<tr><th></th><th scope=col>model.fit.Upper</th><th scope=col>model.fit.Estimate</th><th scope=col>model.fit.Lower</th><th scope=col>cell_type</th></tr>\n",
       "\t<tr><th></th><th scope=col>&lt;dbl&gt;</th><th scope=col>&lt;dbl&gt;</th><th scope=col>&lt;dbl&gt;</th><th scope=col>&lt;chr&gt;</th></tr>\n",
       "</thead>\n",
       "<tbody>\n",
       "\t<tr><th scope=row>Endothelial cell</th><td>0.2470</td><td>0.2130</td><td>0.1790</td><td>Endothelial cell  </td></tr>\n",
       "\t<tr><th scope=row>Cardiomyocyte cell</th><td>0.3790</td><td>0.3530</td><td>0.3270</td><td>Cardiomyocyte cell</td></tr>\n",
       "\t<tr><th scope=row>Myeloid cell</th><td>0.0599</td><td>0.0508</td><td>0.0418</td><td>Myeloid cell      </td></tr>\n",
       "\t<tr><th scope=row>Fibroblast</th><td>0.1420</td><td>0.1250</td><td>0.1070</td><td>Fibroblast        </td></tr>\n",
       "\t<tr><th scope=row>Lymphoid cell</th><td>0.0533</td><td>0.0330</td><td>0.0127</td><td>Lymphoid cell     </td></tr>\n",
       "\t<tr><th scope=row>Smooth muscle cell</th><td>0.1240</td><td>0.0397</td><td>0.0000</td><td>Smooth muscle cell</td></tr>\n",
       "\t<tr><th scope=row>Neuron</th><td>0.0151</td><td>0.0104</td><td>0.0058</td><td>Neuron            </td></tr>\n",
       "\t<tr><th scope=row>Pericyte</th><td>0.1880</td><td>0.1650</td><td>0.1420</td><td>Pericyte          </td></tr>\n",
       "\t<tr><th scope=row>Adipocyte</th><td>0.0370</td><td>0.0115</td><td>0.0000</td><td>Adipocyte         </td></tr>\n",
       "</tbody>\n",
       "</table>\n"
      ],
      "text/latex": [
       "A data.frame: 9 × 4\n",
       "\\begin{tabular}{r|llll}\n",
       "  & model.fit.Upper & model.fit.Estimate & model.fit.Lower & cell\\_type\\\\\n",
       "  & <dbl> & <dbl> & <dbl> & <chr>\\\\\n",
       "\\hline\n",
       "\tEndothelial cell & 0.2470 & 0.2130 & 0.1790 & Endothelial cell  \\\\\n",
       "\tCardiomyocyte cell & 0.3790 & 0.3530 & 0.3270 & Cardiomyocyte cell\\\\\n",
       "\tMyeloid cell & 0.0599 & 0.0508 & 0.0418 & Myeloid cell      \\\\\n",
       "\tFibroblast & 0.1420 & 0.1250 & 0.1070 & Fibroblast        \\\\\n",
       "\tLymphoid cell & 0.0533 & 0.0330 & 0.0127 & Lymphoid cell     \\\\\n",
       "\tSmooth muscle cell & 0.1240 & 0.0397 & 0.0000 & Smooth muscle cell\\\\\n",
       "\tNeuron & 0.0151 & 0.0104 & 0.0058 & Neuron            \\\\\n",
       "\tPericyte & 0.1880 & 0.1650 & 0.1420 & Pericyte          \\\\\n",
       "\tAdipocyte & 0.0370 & 0.0115 & 0.0000 & Adipocyte         \\\\\n",
       "\\end{tabular}\n"
      ],
      "text/markdown": [
       "\n",
       "A data.frame: 9 × 4\n",
       "\n",
       "| <!--/--> | model.fit.Upper &lt;dbl&gt; | model.fit.Estimate &lt;dbl&gt; | model.fit.Lower &lt;dbl&gt; | cell_type &lt;chr&gt; |\n",
       "|---|---|---|---|---|\n",
       "| Endothelial cell | 0.2470 | 0.2130 | 0.1790 | Endothelial cell   |\n",
       "| Cardiomyocyte cell | 0.3790 | 0.3530 | 0.3270 | Cardiomyocyte cell |\n",
       "| Myeloid cell | 0.0599 | 0.0508 | 0.0418 | Myeloid cell       |\n",
       "| Fibroblast | 0.1420 | 0.1250 | 0.1070 | Fibroblast         |\n",
       "| Lymphoid cell | 0.0533 | 0.0330 | 0.0127 | Lymphoid cell      |\n",
       "| Smooth muscle cell | 0.1240 | 0.0397 | 0.0000 | Smooth muscle cell |\n",
       "| Neuron | 0.0151 | 0.0104 | 0.0058 | Neuron             |\n",
       "| Pericyte | 0.1880 | 0.1650 | 0.1420 | Pericyte           |\n",
       "| Adipocyte | 0.0370 | 0.0115 | 0.0000 | Adipocyte          |\n",
       "\n"
      ],
      "text/plain": [
       "                   model.fit.Upper model.fit.Estimate model.fit.Lower\n",
       "Endothelial cell   0.2470          0.2130             0.1790         \n",
       "Cardiomyocyte cell 0.3790          0.3530             0.3270         \n",
       "Myeloid cell       0.0599          0.0508             0.0418         \n",
       "Fibroblast         0.1420          0.1250             0.1070         \n",
       "Lymphoid cell      0.0533          0.0330             0.0127         \n",
       "Smooth muscle cell 0.1240          0.0397             0.0000         \n",
       "Neuron             0.0151          0.0104             0.0058         \n",
       "Pericyte           0.1880          0.1650             0.1420         \n",
       "Adipocyte          0.0370          0.0115             0.0000         \n",
       "                   cell_type         \n",
       "Endothelial cell   Endothelial cell  \n",
       "Cardiomyocyte cell Cardiomyocyte cell\n",
       "Myeloid cell       Myeloid cell      \n",
       "Fibroblast         Fibroblast        \n",
       "Lymphoid cell      Lymphoid cell     \n",
       "Smooth muscle cell Smooth muscle cell\n",
       "Neuron             Neuron            \n",
       "Pericyte           Pericyte          \n",
       "Adipocyte          Adipocyte         "
      ]
     },
     "metadata": {},
     "output_type": "display_data"
    }
   ],
   "source": [
    "df "
   ]
  },
  {
   "cell_type": "code",
   "execution_count": 4,
   "id": "c799248e",
   "metadata": {},
   "outputs": [],
   "source": [
    "# save to json\n",
    "json_str <- '['\n",
    "for(i in 1:9){\n",
    "    json_str <- paste0(json_str, '{\"name\": \"',df[i,4], '\", \"value\": \"',df[i,2],'\", \"upper\": \"', df[i,1],'\", \"lower\": \"',df[i,3],'\"},')\n",
    "}\n",
    "json_str <- substr(json_str,1,nchar(json_str)-1)\n",
    "json_str <- paste0(json_str,']')"
   ]
  },
  {
   "cell_type": "code",
   "execution_count": 5,
   "id": "b9d3fe05",
   "metadata": {},
   "outputs": [],
   "source": [
    "writeLines(json_str, paste0(\"/stor/public/chenyx/HHCAd/ForWebsite220412/BarPlot_A/Adult/LV.json\"))"
   ]
  },
  {
   "cell_type": "markdown",
   "id": "88b75515",
   "metadata": {},
   "source": [
    "### IVS"
   ]
  },
  {
   "cell_type": "code",
   "execution_count": 6,
   "id": "d912b40d",
   "metadata": {},
   "outputs": [],
   "source": [
    "df <- read.csv(\"~/HHCA_d/Code4Paper/ForWebsite/1-2-2/Adult/IVS.csv\",row.names = 1)\n",
    "rownames(df) <- c(\"Endothelial cell\", \"Cardiomyocyte cell\",\"Myeloid cell\", \"Fibroblast\", \"Lymphoid cell\", \"Smooth muscle cell\", \"Neuron\", \"Pericyte\", \"Adipocyte\")\n",
    "df$cell_type <- row.names(df)"
   ]
  },
  {
   "cell_type": "code",
   "execution_count": 7,
   "id": "b6ab2849",
   "metadata": {},
   "outputs": [
    {
     "data": {
      "text/html": [
       "<table class=\"dataframe\">\n",
       "<caption>A data.frame: 9 × 4</caption>\n",
       "<thead>\n",
       "\t<tr><th></th><th scope=col>model.fit.Upper</th><th scope=col>model.fit.Estimate</th><th scope=col>model.fit.Lower</th><th scope=col>cell_type</th></tr>\n",
       "\t<tr><th></th><th scope=col>&lt;dbl&gt;</th><th scope=col>&lt;dbl&gt;</th><th scope=col>&lt;dbl&gt;</th><th scope=col>&lt;chr&gt;</th></tr>\n",
       "</thead>\n",
       "<tbody>\n",
       "\t<tr><th scope=row>Endothelial cell</th><td>0.2610</td><td>0.2070</td><td>0.1530</td><td>Endothelial cell  </td></tr>\n",
       "\t<tr><th scope=row>Cardiomyocyte cell</th><td>0.3730</td><td>0.3280</td><td>0.2840</td><td>Cardiomyocyte cell</td></tr>\n",
       "\t<tr><th scope=row>Myeloid cell</th><td>0.0696</td><td>0.0497</td><td>0.0298</td><td>Myeloid cell      </td></tr>\n",
       "\t<tr><th scope=row>Fibroblast</th><td>0.1450</td><td>0.1110</td><td>0.0778</td><td>Fibroblast        </td></tr>\n",
       "\t<tr><th scope=row>Lymphoid cell</th><td>0.0481</td><td>0.0329</td><td>0.0178</td><td>Lymphoid cell     </td></tr>\n",
       "\t<tr><th scope=row>Smooth muscle cell</th><td>0.0557</td><td>0.0387</td><td>0.0217</td><td>Smooth muscle cell</td></tr>\n",
       "\t<tr><th scope=row>Neuron</th><td>0.0411</td><td>0.0123</td><td>0.0000</td><td>Neuron            </td></tr>\n",
       "\t<tr><th scope=row>Pericyte</th><td>0.2020</td><td>0.1590</td><td>0.1160</td><td>Pericyte          </td></tr>\n",
       "\t<tr><th scope=row>Adipocyte</th><td>0.4970</td><td>0.0605</td><td>0.0000</td><td>Adipocyte         </td></tr>\n",
       "</tbody>\n",
       "</table>\n"
      ],
      "text/latex": [
       "A data.frame: 9 × 4\n",
       "\\begin{tabular}{r|llll}\n",
       "  & model.fit.Upper & model.fit.Estimate & model.fit.Lower & cell\\_type\\\\\n",
       "  & <dbl> & <dbl> & <dbl> & <chr>\\\\\n",
       "\\hline\n",
       "\tEndothelial cell & 0.2610 & 0.2070 & 0.1530 & Endothelial cell  \\\\\n",
       "\tCardiomyocyte cell & 0.3730 & 0.3280 & 0.2840 & Cardiomyocyte cell\\\\\n",
       "\tMyeloid cell & 0.0696 & 0.0497 & 0.0298 & Myeloid cell      \\\\\n",
       "\tFibroblast & 0.1450 & 0.1110 & 0.0778 & Fibroblast        \\\\\n",
       "\tLymphoid cell & 0.0481 & 0.0329 & 0.0178 & Lymphoid cell     \\\\\n",
       "\tSmooth muscle cell & 0.0557 & 0.0387 & 0.0217 & Smooth muscle cell\\\\\n",
       "\tNeuron & 0.0411 & 0.0123 & 0.0000 & Neuron            \\\\\n",
       "\tPericyte & 0.2020 & 0.1590 & 0.1160 & Pericyte          \\\\\n",
       "\tAdipocyte & 0.4970 & 0.0605 & 0.0000 & Adipocyte         \\\\\n",
       "\\end{tabular}\n"
      ],
      "text/markdown": [
       "\n",
       "A data.frame: 9 × 4\n",
       "\n",
       "| <!--/--> | model.fit.Upper &lt;dbl&gt; | model.fit.Estimate &lt;dbl&gt; | model.fit.Lower &lt;dbl&gt; | cell_type &lt;chr&gt; |\n",
       "|---|---|---|---|---|\n",
       "| Endothelial cell | 0.2610 | 0.2070 | 0.1530 | Endothelial cell   |\n",
       "| Cardiomyocyte cell | 0.3730 | 0.3280 | 0.2840 | Cardiomyocyte cell |\n",
       "| Myeloid cell | 0.0696 | 0.0497 | 0.0298 | Myeloid cell       |\n",
       "| Fibroblast | 0.1450 | 0.1110 | 0.0778 | Fibroblast         |\n",
       "| Lymphoid cell | 0.0481 | 0.0329 | 0.0178 | Lymphoid cell      |\n",
       "| Smooth muscle cell | 0.0557 | 0.0387 | 0.0217 | Smooth muscle cell |\n",
       "| Neuron | 0.0411 | 0.0123 | 0.0000 | Neuron             |\n",
       "| Pericyte | 0.2020 | 0.1590 | 0.1160 | Pericyte           |\n",
       "| Adipocyte | 0.4970 | 0.0605 | 0.0000 | Adipocyte          |\n",
       "\n"
      ],
      "text/plain": [
       "                   model.fit.Upper model.fit.Estimate model.fit.Lower\n",
       "Endothelial cell   0.2610          0.2070             0.1530         \n",
       "Cardiomyocyte cell 0.3730          0.3280             0.2840         \n",
       "Myeloid cell       0.0696          0.0497             0.0298         \n",
       "Fibroblast         0.1450          0.1110             0.0778         \n",
       "Lymphoid cell      0.0481          0.0329             0.0178         \n",
       "Smooth muscle cell 0.0557          0.0387             0.0217         \n",
       "Neuron             0.0411          0.0123             0.0000         \n",
       "Pericyte           0.2020          0.1590             0.1160         \n",
       "Adipocyte          0.4970          0.0605             0.0000         \n",
       "                   cell_type         \n",
       "Endothelial cell   Endothelial cell  \n",
       "Cardiomyocyte cell Cardiomyocyte cell\n",
       "Myeloid cell       Myeloid cell      \n",
       "Fibroblast         Fibroblast        \n",
       "Lymphoid cell      Lymphoid cell     \n",
       "Smooth muscle cell Smooth muscle cell\n",
       "Neuron             Neuron            \n",
       "Pericyte           Pericyte          \n",
       "Adipocyte          Adipocyte         "
      ]
     },
     "metadata": {},
     "output_type": "display_data"
    }
   ],
   "source": [
    "df "
   ]
  },
  {
   "cell_type": "code",
   "execution_count": 8,
   "id": "a59d8df9",
   "metadata": {},
   "outputs": [],
   "source": [
    "# save to json\n",
    "json_str <- '['\n",
    "for(i in 1:9){\n",
    "    json_str <- paste0(json_str, '{\"name\": \"',df[i,4], '\", \"value\": \"',df[i,2],'\", \"upper\": \"', df[i,1],'\", \"lower\": \"',df[i,3],'\"},')\n",
    "}\n",
    "json_str <- substr(json_str,1,nchar(json_str)-1)\n",
    "json_str <- paste0(json_str,']')"
   ]
  },
  {
   "cell_type": "code",
   "execution_count": 9,
   "id": "6ecd9180",
   "metadata": {},
   "outputs": [],
   "source": [
    "writeLines(json_str, paste0(\"/stor/public/chenyx/HHCAd/ForWebsite220412/BarPlot_A/Adult/IVS.json\"))"
   ]
  },
  {
   "cell_type": "markdown",
   "id": "3fa5b0ac",
   "metadata": {},
   "source": [
    "### RV"
   ]
  },
  {
   "cell_type": "code",
   "execution_count": 10,
   "id": "ef985e53",
   "metadata": {},
   "outputs": [],
   "source": [
    "df <- read.csv(\"~/HHCA_d/Code4Paper/ForWebsite/1-2-2/Adult/RV.csv\",row.names = 1)\n",
    "rownames(df) <- c(\"Endothelial cell\", \"Cardiomyocyte cell\",\"Myeloid cell\", \"Fibroblast\", \"Lymphoid cell\", \"Smooth muscle cell\", \"Neuron\", \"Pericyte\", \"Adipocyte\")\n",
    "df$cell_type <- row.names(df)"
   ]
  },
  {
   "cell_type": "code",
   "execution_count": 11,
   "id": "aaee1043",
   "metadata": {},
   "outputs": [
    {
     "data": {
      "text/html": [
       "<table class=\"dataframe\">\n",
       "<caption>A data.frame: 9 × 4</caption>\n",
       "<thead>\n",
       "\t<tr><th></th><th scope=col>model.fit.Upper</th><th scope=col>model.fit.Estimate</th><th scope=col>model.fit.Lower</th><th scope=col>cell_type</th></tr>\n",
       "\t<tr><th></th><th scope=col>&lt;dbl&gt;</th><th scope=col>&lt;dbl&gt;</th><th scope=col>&lt;dbl&gt;</th><th scope=col>&lt;chr&gt;</th></tr>\n",
       "</thead>\n",
       "<tbody>\n",
       "\t<tr><th scope=row>Endothelial cell</th><td>0.2160</td><td>0.1750</td><td>0.1340</td><td>Endothelial cell  </td></tr>\n",
       "\t<tr><th scope=row>Cardiomyocyte cell</th><td>0.3990</td><td>0.3750</td><td>0.3520</td><td>Cardiomyocyte cell</td></tr>\n",
       "\t<tr><th scope=row>Myeloid cell</th><td>0.0613</td><td>0.0493</td><td>0.0374</td><td>Myeloid cell      </td></tr>\n",
       "\t<tr><th scope=row>Fibroblast</th><td>0.1520</td><td>0.1340</td><td>0.1160</td><td>Fibroblast        </td></tr>\n",
       "\t<tr><th scope=row>Lymphoid cell</th><td>0.0404</td><td>0.0323</td><td>0.0241</td><td>Lymphoid cell     </td></tr>\n",
       "\t<tr><th scope=row>Smooth muscle cell</th><td>0.0536</td><td>0.0444</td><td>0.0353</td><td>Smooth muscle cell</td></tr>\n",
       "\t<tr><th scope=row>Neuron</th><td>0.0892</td><td>0.0120</td><td>0.0000</td><td>Neuron            </td></tr>\n",
       "\t<tr><th scope=row>Pericyte</th><td>0.1720</td><td>0.1530</td><td>0.1340</td><td>Pericyte          </td></tr>\n",
       "\t<tr><th scope=row>Adipocyte</th><td>0.0333</td><td>0.0242</td><td>0.0151</td><td>Adipocyte         </td></tr>\n",
       "</tbody>\n",
       "</table>\n"
      ],
      "text/latex": [
       "A data.frame: 9 × 4\n",
       "\\begin{tabular}{r|llll}\n",
       "  & model.fit.Upper & model.fit.Estimate & model.fit.Lower & cell\\_type\\\\\n",
       "  & <dbl> & <dbl> & <dbl> & <chr>\\\\\n",
       "\\hline\n",
       "\tEndothelial cell & 0.2160 & 0.1750 & 0.1340 & Endothelial cell  \\\\\n",
       "\tCardiomyocyte cell & 0.3990 & 0.3750 & 0.3520 & Cardiomyocyte cell\\\\\n",
       "\tMyeloid cell & 0.0613 & 0.0493 & 0.0374 & Myeloid cell      \\\\\n",
       "\tFibroblast & 0.1520 & 0.1340 & 0.1160 & Fibroblast        \\\\\n",
       "\tLymphoid cell & 0.0404 & 0.0323 & 0.0241 & Lymphoid cell     \\\\\n",
       "\tSmooth muscle cell & 0.0536 & 0.0444 & 0.0353 & Smooth muscle cell\\\\\n",
       "\tNeuron & 0.0892 & 0.0120 & 0.0000 & Neuron            \\\\\n",
       "\tPericyte & 0.1720 & 0.1530 & 0.1340 & Pericyte          \\\\\n",
       "\tAdipocyte & 0.0333 & 0.0242 & 0.0151 & Adipocyte         \\\\\n",
       "\\end{tabular}\n"
      ],
      "text/markdown": [
       "\n",
       "A data.frame: 9 × 4\n",
       "\n",
       "| <!--/--> | model.fit.Upper &lt;dbl&gt; | model.fit.Estimate &lt;dbl&gt; | model.fit.Lower &lt;dbl&gt; | cell_type &lt;chr&gt; |\n",
       "|---|---|---|---|---|\n",
       "| Endothelial cell | 0.2160 | 0.1750 | 0.1340 | Endothelial cell   |\n",
       "| Cardiomyocyte cell | 0.3990 | 0.3750 | 0.3520 | Cardiomyocyte cell |\n",
       "| Myeloid cell | 0.0613 | 0.0493 | 0.0374 | Myeloid cell       |\n",
       "| Fibroblast | 0.1520 | 0.1340 | 0.1160 | Fibroblast         |\n",
       "| Lymphoid cell | 0.0404 | 0.0323 | 0.0241 | Lymphoid cell      |\n",
       "| Smooth muscle cell | 0.0536 | 0.0444 | 0.0353 | Smooth muscle cell |\n",
       "| Neuron | 0.0892 | 0.0120 | 0.0000 | Neuron             |\n",
       "| Pericyte | 0.1720 | 0.1530 | 0.1340 | Pericyte           |\n",
       "| Adipocyte | 0.0333 | 0.0242 | 0.0151 | Adipocyte          |\n",
       "\n"
      ],
      "text/plain": [
       "                   model.fit.Upper model.fit.Estimate model.fit.Lower\n",
       "Endothelial cell   0.2160          0.1750             0.1340         \n",
       "Cardiomyocyte cell 0.3990          0.3750             0.3520         \n",
       "Myeloid cell       0.0613          0.0493             0.0374         \n",
       "Fibroblast         0.1520          0.1340             0.1160         \n",
       "Lymphoid cell      0.0404          0.0323             0.0241         \n",
       "Smooth muscle cell 0.0536          0.0444             0.0353         \n",
       "Neuron             0.0892          0.0120             0.0000         \n",
       "Pericyte           0.1720          0.1530             0.1340         \n",
       "Adipocyte          0.0333          0.0242             0.0151         \n",
       "                   cell_type         \n",
       "Endothelial cell   Endothelial cell  \n",
       "Cardiomyocyte cell Cardiomyocyte cell\n",
       "Myeloid cell       Myeloid cell      \n",
       "Fibroblast         Fibroblast        \n",
       "Lymphoid cell      Lymphoid cell     \n",
       "Smooth muscle cell Smooth muscle cell\n",
       "Neuron             Neuron            \n",
       "Pericyte           Pericyte          \n",
       "Adipocyte          Adipocyte         "
      ]
     },
     "metadata": {},
     "output_type": "display_data"
    }
   ],
   "source": [
    "df "
   ]
  },
  {
   "cell_type": "code",
   "execution_count": 12,
   "id": "0a6dc475",
   "metadata": {},
   "outputs": [],
   "source": [
    "# save to json\n",
    "json_str <- '['\n",
    "for(i in 1:9){\n",
    "    json_str <- paste0(json_str, '{\"name\": \"',df[i,4], '\", \"value\": \"',df[i,2],'\", \"upper\": \"', df[i,1],'\", \"lower\": \"',df[i,3],'\"},')\n",
    "}\n",
    "json_str <- substr(json_str,1,nchar(json_str)-1)\n",
    "json_str <- paste0(json_str,']')"
   ]
  },
  {
   "cell_type": "code",
   "execution_count": 13,
   "id": "35b8ed5c",
   "metadata": {},
   "outputs": [],
   "source": [
    "writeLines(json_str, paste0(\"/stor/public/chenyx/HHCAd/ForWebsite220412/BarPlot_A/Adult/RV.json\"))"
   ]
  },
  {
   "cell_type": "markdown",
   "id": "ee9f5d14",
   "metadata": {},
   "source": [
    "### LA"
   ]
  },
  {
   "cell_type": "code",
   "execution_count": 14,
   "id": "c6f19603",
   "metadata": {},
   "outputs": [],
   "source": [
    "df <- read.csv(\"~/HHCA_d/Code4Paper/ForWebsite/1-2-2/Adult/LA.csv\",row.names = 1)\n",
    "rownames(df) <- c(\"Endothelial cell\", \"Cardiomyocyte cell\",\"Myeloid cell\", \"Fibroblast\", \"Lymphoid cell\", \"Smooth muscle cell\", \"Neuron\", \"Pericyte\", \"Adipocyte\")\n",
    "df$cell_type <- row.names(df)"
   ]
  },
  {
   "cell_type": "code",
   "execution_count": 15,
   "id": "1bc40680",
   "metadata": {},
   "outputs": [
    {
     "data": {
      "text/html": [
       "<table class=\"dataframe\">\n",
       "<caption>A data.frame: 9 × 4</caption>\n",
       "<thead>\n",
       "\t<tr><th></th><th scope=col>model.fit.Upper</th><th scope=col>model.fit.Estimate</th><th scope=col>model.fit.Lower</th><th scope=col>cell_type</th></tr>\n",
       "\t<tr><th></th><th scope=col>&lt;dbl&gt;</th><th scope=col>&lt;dbl&gt;</th><th scope=col>&lt;dbl&gt;</th><th scope=col>&lt;chr&gt;</th></tr>\n",
       "</thead>\n",
       "<tbody>\n",
       "\t<tr><th scope=row>Endothelial cell</th><td>0.1880</td><td>0.1620</td><td>0.1360</td><td>Endothelial cell  </td></tr>\n",
       "\t<tr><th scope=row>Cardiomyocyte cell</th><td>0.2670</td><td>0.2490</td><td>0.2300</td><td>Cardiomyocyte cell</td></tr>\n",
       "\t<tr><th scope=row>Myeloid cell</th><td>0.0850</td><td>0.0745</td><td>0.0639</td><td>Myeloid cell      </td></tr>\n",
       "\t<tr><th scope=row>Fibroblast</th><td>0.2110</td><td>0.1950</td><td>0.1780</td><td>Fibroblast        </td></tr>\n",
       "\t<tr><th scope=row>Lymphoid cell</th><td>0.0615</td><td>0.0496</td><td>0.0377</td><td>Lymphoid cell     </td></tr>\n",
       "\t<tr><th scope=row>Smooth muscle cell</th><td>0.0661</td><td>0.0590</td><td>0.0518</td><td>Smooth muscle cell</td></tr>\n",
       "\t<tr><th scope=row>Neuron</th><td>0.0262</td><td>0.0241</td><td>0.0220</td><td>Neuron            </td></tr>\n",
       "\t<tr><th scope=row>Pericyte</th><td>0.1590</td><td>0.1480</td><td>0.1360</td><td>Pericyte          </td></tr>\n",
       "\t<tr><th scope=row>Adipocyte</th><td>0.0450</td><td>0.0396</td><td>0.0343</td><td>Adipocyte         </td></tr>\n",
       "</tbody>\n",
       "</table>\n"
      ],
      "text/latex": [
       "A data.frame: 9 × 4\n",
       "\\begin{tabular}{r|llll}\n",
       "  & model.fit.Upper & model.fit.Estimate & model.fit.Lower & cell\\_type\\\\\n",
       "  & <dbl> & <dbl> & <dbl> & <chr>\\\\\n",
       "\\hline\n",
       "\tEndothelial cell & 0.1880 & 0.1620 & 0.1360 & Endothelial cell  \\\\\n",
       "\tCardiomyocyte cell & 0.2670 & 0.2490 & 0.2300 & Cardiomyocyte cell\\\\\n",
       "\tMyeloid cell & 0.0850 & 0.0745 & 0.0639 & Myeloid cell      \\\\\n",
       "\tFibroblast & 0.2110 & 0.1950 & 0.1780 & Fibroblast        \\\\\n",
       "\tLymphoid cell & 0.0615 & 0.0496 & 0.0377 & Lymphoid cell     \\\\\n",
       "\tSmooth muscle cell & 0.0661 & 0.0590 & 0.0518 & Smooth muscle cell\\\\\n",
       "\tNeuron & 0.0262 & 0.0241 & 0.0220 & Neuron            \\\\\n",
       "\tPericyte & 0.1590 & 0.1480 & 0.1360 & Pericyte          \\\\\n",
       "\tAdipocyte & 0.0450 & 0.0396 & 0.0343 & Adipocyte         \\\\\n",
       "\\end{tabular}\n"
      ],
      "text/markdown": [
       "\n",
       "A data.frame: 9 × 4\n",
       "\n",
       "| <!--/--> | model.fit.Upper &lt;dbl&gt; | model.fit.Estimate &lt;dbl&gt; | model.fit.Lower &lt;dbl&gt; | cell_type &lt;chr&gt; |\n",
       "|---|---|---|---|---|\n",
       "| Endothelial cell | 0.1880 | 0.1620 | 0.1360 | Endothelial cell   |\n",
       "| Cardiomyocyte cell | 0.2670 | 0.2490 | 0.2300 | Cardiomyocyte cell |\n",
       "| Myeloid cell | 0.0850 | 0.0745 | 0.0639 | Myeloid cell       |\n",
       "| Fibroblast | 0.2110 | 0.1950 | 0.1780 | Fibroblast         |\n",
       "| Lymphoid cell | 0.0615 | 0.0496 | 0.0377 | Lymphoid cell      |\n",
       "| Smooth muscle cell | 0.0661 | 0.0590 | 0.0518 | Smooth muscle cell |\n",
       "| Neuron | 0.0262 | 0.0241 | 0.0220 | Neuron             |\n",
       "| Pericyte | 0.1590 | 0.1480 | 0.1360 | Pericyte           |\n",
       "| Adipocyte | 0.0450 | 0.0396 | 0.0343 | Adipocyte          |\n",
       "\n"
      ],
      "text/plain": [
       "                   model.fit.Upper model.fit.Estimate model.fit.Lower\n",
       "Endothelial cell   0.1880          0.1620             0.1360         \n",
       "Cardiomyocyte cell 0.2670          0.2490             0.2300         \n",
       "Myeloid cell       0.0850          0.0745             0.0639         \n",
       "Fibroblast         0.2110          0.1950             0.1780         \n",
       "Lymphoid cell      0.0615          0.0496             0.0377         \n",
       "Smooth muscle cell 0.0661          0.0590             0.0518         \n",
       "Neuron             0.0262          0.0241             0.0220         \n",
       "Pericyte           0.1590          0.1480             0.1360         \n",
       "Adipocyte          0.0450          0.0396             0.0343         \n",
       "                   cell_type         \n",
       "Endothelial cell   Endothelial cell  \n",
       "Cardiomyocyte cell Cardiomyocyte cell\n",
       "Myeloid cell       Myeloid cell      \n",
       "Fibroblast         Fibroblast        \n",
       "Lymphoid cell      Lymphoid cell     \n",
       "Smooth muscle cell Smooth muscle cell\n",
       "Neuron             Neuron            \n",
       "Pericyte           Pericyte          \n",
       "Adipocyte          Adipocyte         "
      ]
     },
     "metadata": {},
     "output_type": "display_data"
    }
   ],
   "source": [
    "df "
   ]
  },
  {
   "cell_type": "code",
   "execution_count": 16,
   "id": "a3e67641",
   "metadata": {},
   "outputs": [],
   "source": [
    "# save to json\n",
    "json_str <- '['\n",
    "for(i in 1:9){\n",
    "    json_str <- paste0(json_str, '{\"name\": \"',df[i,4], '\", \"value\": \"',df[i,2],'\", \"upper\": \"', df[i,1],'\", \"lower\": \"',df[i,3],'\"},')\n",
    "}\n",
    "json_str <- substr(json_str,1,nchar(json_str)-1)\n",
    "json_str <- paste0(json_str,']')"
   ]
  },
  {
   "cell_type": "code",
   "execution_count": 17,
   "id": "ec17b973",
   "metadata": {},
   "outputs": [],
   "source": [
    "writeLines(json_str, paste0(\"/stor/public/chenyx/HHCAd/ForWebsite220412/BarPlot_A/Adult/LA.json\"))"
   ]
  },
  {
   "cell_type": "markdown",
   "id": "30e3d4e4",
   "metadata": {},
   "source": [
    "### IAS"
   ]
  },
  {
   "cell_type": "code",
   "execution_count": 18,
   "id": "7f1d5770",
   "metadata": {},
   "outputs": [],
   "source": [
    "df <- read.csv(\"~/HHCA_d/Code4Paper/ForWebsite/1-2-2/Adult/IAS.csv\",row.names = 1)\n",
    "rownames(df) <- c(\"Endothelial cell\", \"Cardiomyocyte cell\",\"Myeloid cell\", \"Fibroblast\", \"Lymphoid cell\", \"Smooth muscle cell\", \"Neuron\", \"Pericyte\", \"Adipocyte\")\n",
    "df$cell_type <- row.names(df)"
   ]
  },
  {
   "cell_type": "code",
   "execution_count": 19,
   "id": "ec941219",
   "metadata": {},
   "outputs": [
    {
     "data": {
      "text/html": [
       "<table class=\"dataframe\">\n",
       "<caption>A data.frame: 9 × 4</caption>\n",
       "<thead>\n",
       "\t<tr><th></th><th scope=col>model.fit.Upper</th><th scope=col>model.fit.Estimate</th><th scope=col>model.fit.Lower</th><th scope=col>cell_type</th></tr>\n",
       "\t<tr><th></th><th scope=col>&lt;dbl&gt;</th><th scope=col>&lt;dbl&gt;</th><th scope=col>&lt;dbl&gt;</th><th scope=col>&lt;chr&gt;</th></tr>\n",
       "</thead>\n",
       "<tbody>\n",
       "\t<tr><th scope=row>Endothelial cell</th><td>0.1110</td><td>0.0881</td><td>0.0651</td><td>Endothelial cell  </td></tr>\n",
       "\t<tr><th scope=row>Cardiomyocyte cell</th><td>0.1520</td><td>0.1120</td><td>0.0727</td><td>Cardiomyocyte cell</td></tr>\n",
       "\t<tr><th scope=row>Myeloid cell</th><td>0.0884</td><td>0.0731</td><td>0.0579</td><td>Myeloid cell      </td></tr>\n",
       "\t<tr><th scope=row>Fibroblast</th><td>0.1840</td><td>0.1400</td><td>0.0955</td><td>Fibroblast        </td></tr>\n",
       "\t<tr><th scope=row>Lymphoid cell</th><td>0.2840</td><td>0.2010</td><td>0.1180</td><td>Lymphoid cell     </td></tr>\n",
       "\t<tr><th scope=row>Smooth muscle cell</th><td>0.0754</td><td>0.0605</td><td>0.0456</td><td>Smooth muscle cell</td></tr>\n",
       "\t<tr><th scope=row>Neuron</th><td>0.0697</td><td>0.0518</td><td>0.0339</td><td>Neuron            </td></tr>\n",
       "\t<tr><th scope=row>Pericyte</th><td>0.0843</td><td>0.0697</td><td>0.0550</td><td>Pericyte          </td></tr>\n",
       "\t<tr><th scope=row>Adipocyte</th><td>1.3300</td><td>0.2040</td><td>0.0000</td><td>Adipocyte         </td></tr>\n",
       "</tbody>\n",
       "</table>\n"
      ],
      "text/latex": [
       "A data.frame: 9 × 4\n",
       "\\begin{tabular}{r|llll}\n",
       "  & model.fit.Upper & model.fit.Estimate & model.fit.Lower & cell\\_type\\\\\n",
       "  & <dbl> & <dbl> & <dbl> & <chr>\\\\\n",
       "\\hline\n",
       "\tEndothelial cell & 0.1110 & 0.0881 & 0.0651 & Endothelial cell  \\\\\n",
       "\tCardiomyocyte cell & 0.1520 & 0.1120 & 0.0727 & Cardiomyocyte cell\\\\\n",
       "\tMyeloid cell & 0.0884 & 0.0731 & 0.0579 & Myeloid cell      \\\\\n",
       "\tFibroblast & 0.1840 & 0.1400 & 0.0955 & Fibroblast        \\\\\n",
       "\tLymphoid cell & 0.2840 & 0.2010 & 0.1180 & Lymphoid cell     \\\\\n",
       "\tSmooth muscle cell & 0.0754 & 0.0605 & 0.0456 & Smooth muscle cell\\\\\n",
       "\tNeuron & 0.0697 & 0.0518 & 0.0339 & Neuron            \\\\\n",
       "\tPericyte & 0.0843 & 0.0697 & 0.0550 & Pericyte          \\\\\n",
       "\tAdipocyte & 1.3300 & 0.2040 & 0.0000 & Adipocyte         \\\\\n",
       "\\end{tabular}\n"
      ],
      "text/markdown": [
       "\n",
       "A data.frame: 9 × 4\n",
       "\n",
       "| <!--/--> | model.fit.Upper &lt;dbl&gt; | model.fit.Estimate &lt;dbl&gt; | model.fit.Lower &lt;dbl&gt; | cell_type &lt;chr&gt; |\n",
       "|---|---|---|---|---|\n",
       "| Endothelial cell | 0.1110 | 0.0881 | 0.0651 | Endothelial cell   |\n",
       "| Cardiomyocyte cell | 0.1520 | 0.1120 | 0.0727 | Cardiomyocyte cell |\n",
       "| Myeloid cell | 0.0884 | 0.0731 | 0.0579 | Myeloid cell       |\n",
       "| Fibroblast | 0.1840 | 0.1400 | 0.0955 | Fibroblast         |\n",
       "| Lymphoid cell | 0.2840 | 0.2010 | 0.1180 | Lymphoid cell      |\n",
       "| Smooth muscle cell | 0.0754 | 0.0605 | 0.0456 | Smooth muscle cell |\n",
       "| Neuron | 0.0697 | 0.0518 | 0.0339 | Neuron             |\n",
       "| Pericyte | 0.0843 | 0.0697 | 0.0550 | Pericyte           |\n",
       "| Adipocyte | 1.3300 | 0.2040 | 0.0000 | Adipocyte          |\n",
       "\n"
      ],
      "text/plain": [
       "                   model.fit.Upper model.fit.Estimate model.fit.Lower\n",
       "Endothelial cell   0.1110          0.0881             0.0651         \n",
       "Cardiomyocyte cell 0.1520          0.1120             0.0727         \n",
       "Myeloid cell       0.0884          0.0731             0.0579         \n",
       "Fibroblast         0.1840          0.1400             0.0955         \n",
       "Lymphoid cell      0.2840          0.2010             0.1180         \n",
       "Smooth muscle cell 0.0754          0.0605             0.0456         \n",
       "Neuron             0.0697          0.0518             0.0339         \n",
       "Pericyte           0.0843          0.0697             0.0550         \n",
       "Adipocyte          1.3300          0.2040             0.0000         \n",
       "                   cell_type         \n",
       "Endothelial cell   Endothelial cell  \n",
       "Cardiomyocyte cell Cardiomyocyte cell\n",
       "Myeloid cell       Myeloid cell      \n",
       "Fibroblast         Fibroblast        \n",
       "Lymphoid cell      Lymphoid cell     \n",
       "Smooth muscle cell Smooth muscle cell\n",
       "Neuron             Neuron            \n",
       "Pericyte           Pericyte          \n",
       "Adipocyte          Adipocyte         "
      ]
     },
     "metadata": {},
     "output_type": "display_data"
    }
   ],
   "source": [
    "df "
   ]
  },
  {
   "cell_type": "code",
   "execution_count": 20,
   "id": "6ccbcc56",
   "metadata": {},
   "outputs": [],
   "source": [
    "# save to json\n",
    "json_str <- '['\n",
    "for(i in 1:9){\n",
    "    json_str <- paste0(json_str, '{\"name\": \"',df[i,4], '\", \"value\": \"',df[i,2],'\", \"upper\": \"', df[i,1],'\", \"lower\": \"',df[i,3],'\"},')\n",
    "}\n",
    "json_str <- substr(json_str,1,nchar(json_str)-1)\n",
    "json_str <- paste0(json_str,']')"
   ]
  },
  {
   "cell_type": "code",
   "execution_count": 21,
   "id": "6fb4dbea",
   "metadata": {},
   "outputs": [],
   "source": [
    "writeLines(json_str, paste0(\"/stor/public/chenyx/HHCAd/ForWebsite220412/BarPlot_A/Adult/IAS.json\"))"
   ]
  },
  {
   "cell_type": "markdown",
   "id": "9060cf3e",
   "metadata": {},
   "source": [
    "### RV"
   ]
  },
  {
   "cell_type": "code",
   "execution_count": 22,
   "id": "a3eaab1d",
   "metadata": {},
   "outputs": [],
   "source": [
    "df <- read.csv(\"~/HHCA_d/Code4Paper/ForWebsite/1-2-2/Adult/RA.csv\",row.names = 1)\n",
    "rownames(df) <- c(\"Endothelial cell\", \"Cardiomyocyte cell\",\"Myeloid cell\", \"Fibroblast\", \"Lymphoid cell\", \"Smooth muscle cell\", \"Neuron\", \"Pericyte\", \"Adipocyte\")\n",
    "df$cell_type <- row.names(df)"
   ]
  },
  {
   "cell_type": "code",
   "execution_count": 23,
   "id": "ffb01601",
   "metadata": {},
   "outputs": [
    {
     "data": {
      "text/html": [
       "<table class=\"dataframe\">\n",
       "<caption>A data.frame: 9 × 4</caption>\n",
       "<thead>\n",
       "\t<tr><th></th><th scope=col>model.fit.Upper</th><th scope=col>model.fit.Estimate</th><th scope=col>model.fit.Lower</th><th scope=col>cell_type</th></tr>\n",
       "\t<tr><th></th><th scope=col>&lt;dbl&gt;</th><th scope=col>&lt;dbl&gt;</th><th scope=col>&lt;dbl&gt;</th><th scope=col>&lt;chr&gt;</th></tr>\n",
       "</thead>\n",
       "<tbody>\n",
       "\t<tr><th scope=row>Endothelial cell</th><td>0.2090</td><td>0.1860</td><td>0.1630</td><td>Endothelial cell  </td></tr>\n",
       "\t<tr><th scope=row>Cardiomyocyte cell</th><td>0.2440</td><td>0.2300</td><td>0.2170</td><td>Cardiomyocyte cell</td></tr>\n",
       "\t<tr><th scope=row>Myeloid cell</th><td>0.0886</td><td>0.0786</td><td>0.0687</td><td>Myeloid cell      </td></tr>\n",
       "\t<tr><th scope=row>Fibroblast</th><td>0.2470</td><td>0.2330</td><td>0.2200</td><td>Fibroblast        </td></tr>\n",
       "\t<tr><th scope=row>Lymphoid cell</th><td>0.0902</td><td>0.0725</td><td>0.0549</td><td>Lymphoid cell     </td></tr>\n",
       "\t<tr><th scope=row>Smooth muscle cell</th><td>0.0590</td><td>0.0529</td><td>0.0469</td><td>Smooth muscle cell</td></tr>\n",
       "\t<tr><th scope=row>Neuron</th><td>0.0345</td><td>0.0318</td><td>0.0290</td><td>Neuron            </td></tr>\n",
       "\t<tr><th scope=row>Pericyte</th><td>0.0936</td><td>0.0841</td><td>0.0747</td><td>Pericyte          </td></tr>\n",
       "\t<tr><th scope=row>Adipocyte</th><td>0.0373</td><td>0.0301</td><td>0.0229</td><td>Adipocyte         </td></tr>\n",
       "</tbody>\n",
       "</table>\n"
      ],
      "text/latex": [
       "A data.frame: 9 × 4\n",
       "\\begin{tabular}{r|llll}\n",
       "  & model.fit.Upper & model.fit.Estimate & model.fit.Lower & cell\\_type\\\\\n",
       "  & <dbl> & <dbl> & <dbl> & <chr>\\\\\n",
       "\\hline\n",
       "\tEndothelial cell & 0.2090 & 0.1860 & 0.1630 & Endothelial cell  \\\\\n",
       "\tCardiomyocyte cell & 0.2440 & 0.2300 & 0.2170 & Cardiomyocyte cell\\\\\n",
       "\tMyeloid cell & 0.0886 & 0.0786 & 0.0687 & Myeloid cell      \\\\\n",
       "\tFibroblast & 0.2470 & 0.2330 & 0.2200 & Fibroblast        \\\\\n",
       "\tLymphoid cell & 0.0902 & 0.0725 & 0.0549 & Lymphoid cell     \\\\\n",
       "\tSmooth muscle cell & 0.0590 & 0.0529 & 0.0469 & Smooth muscle cell\\\\\n",
       "\tNeuron & 0.0345 & 0.0318 & 0.0290 & Neuron            \\\\\n",
       "\tPericyte & 0.0936 & 0.0841 & 0.0747 & Pericyte          \\\\\n",
       "\tAdipocyte & 0.0373 & 0.0301 & 0.0229 & Adipocyte         \\\\\n",
       "\\end{tabular}\n"
      ],
      "text/markdown": [
       "\n",
       "A data.frame: 9 × 4\n",
       "\n",
       "| <!--/--> | model.fit.Upper &lt;dbl&gt; | model.fit.Estimate &lt;dbl&gt; | model.fit.Lower &lt;dbl&gt; | cell_type &lt;chr&gt; |\n",
       "|---|---|---|---|---|\n",
       "| Endothelial cell | 0.2090 | 0.1860 | 0.1630 | Endothelial cell   |\n",
       "| Cardiomyocyte cell | 0.2440 | 0.2300 | 0.2170 | Cardiomyocyte cell |\n",
       "| Myeloid cell | 0.0886 | 0.0786 | 0.0687 | Myeloid cell       |\n",
       "| Fibroblast | 0.2470 | 0.2330 | 0.2200 | Fibroblast         |\n",
       "| Lymphoid cell | 0.0902 | 0.0725 | 0.0549 | Lymphoid cell      |\n",
       "| Smooth muscle cell | 0.0590 | 0.0529 | 0.0469 | Smooth muscle cell |\n",
       "| Neuron | 0.0345 | 0.0318 | 0.0290 | Neuron             |\n",
       "| Pericyte | 0.0936 | 0.0841 | 0.0747 | Pericyte           |\n",
       "| Adipocyte | 0.0373 | 0.0301 | 0.0229 | Adipocyte          |\n",
       "\n"
      ],
      "text/plain": [
       "                   model.fit.Upper model.fit.Estimate model.fit.Lower\n",
       "Endothelial cell   0.2090          0.1860             0.1630         \n",
       "Cardiomyocyte cell 0.2440          0.2300             0.2170         \n",
       "Myeloid cell       0.0886          0.0786             0.0687         \n",
       "Fibroblast         0.2470          0.2330             0.2200         \n",
       "Lymphoid cell      0.0902          0.0725             0.0549         \n",
       "Smooth muscle cell 0.0590          0.0529             0.0469         \n",
       "Neuron             0.0345          0.0318             0.0290         \n",
       "Pericyte           0.0936          0.0841             0.0747         \n",
       "Adipocyte          0.0373          0.0301             0.0229         \n",
       "                   cell_type         \n",
       "Endothelial cell   Endothelial cell  \n",
       "Cardiomyocyte cell Cardiomyocyte cell\n",
       "Myeloid cell       Myeloid cell      \n",
       "Fibroblast         Fibroblast        \n",
       "Lymphoid cell      Lymphoid cell     \n",
       "Smooth muscle cell Smooth muscle cell\n",
       "Neuron             Neuron            \n",
       "Pericyte           Pericyte          \n",
       "Adipocyte          Adipocyte         "
      ]
     },
     "metadata": {},
     "output_type": "display_data"
    }
   ],
   "source": [
    "df "
   ]
  },
  {
   "cell_type": "code",
   "execution_count": 25,
   "id": "233218e4",
   "metadata": {},
   "outputs": [],
   "source": [
    "# save to json\n",
    "json_str <- '['\n",
    "for(i in 1:9){\n",
    "    json_str <- paste0(json_str, '{\"name\": \"',df[i,4], '\", \"value\": \"',df[i,2],'\", \"upper\": \"', df[i,1],'\", \"lower\": \"',df[i,3],'\"},')\n",
    "}\n",
    "json_str <- substr(json_str,1,nchar(json_str)-1)\n",
    "json_str <- paste0(json_str,']')"
   ]
  },
  {
   "cell_type": "code",
   "execution_count": 26,
   "id": "e780ae83",
   "metadata": {},
   "outputs": [],
   "source": [
    "writeLines(json_str, paste0(\"/stor/public/chenyx/HHCAd/ForWebsite220412/BarPlot_A/Adult/RA.json\"))"
   ]
  },
  {
   "cell_type": "markdown",
   "id": "45e66fdd",
   "metadata": {},
   "source": [
    "### Ventricle"
   ]
  },
  {
   "cell_type": "code",
   "execution_count": 27,
   "id": "ba465633",
   "metadata": {},
   "outputs": [],
   "source": [
    "df <- read.csv(\"~/HHCA_d/Code4Paper/ForWebsite/1-2-2/Adult/Ventricle.csv\",row.names = 1)\n",
    "rownames(df) <- c(\"Endothelial cell\", \"Cardiomyocyte cell\",\"Myeloid cell\", \"Fibroblast\", \"Lymphoid cell\", \"Smooth muscle cell\", \"Neuron\", \"Pericyte\", \"Adipocyte\")\n",
    "df$cell_type <- row.names(df)"
   ]
  },
  {
   "cell_type": "code",
   "execution_count": 28,
   "id": "867ffb53",
   "metadata": {},
   "outputs": [
    {
     "data": {
      "text/html": [
       "<table class=\"dataframe\">\n",
       "<caption>A data.frame: 9 × 4</caption>\n",
       "<thead>\n",
       "\t<tr><th></th><th scope=col>model.fit.Upper</th><th scope=col>model.fit.Estimate</th><th scope=col>model.fit.Lower</th><th scope=col>cell_type</th></tr>\n",
       "\t<tr><th></th><th scope=col>&lt;dbl&gt;</th><th scope=col>&lt;dbl&gt;</th><th scope=col>&lt;dbl&gt;</th><th scope=col>&lt;chr&gt;</th></tr>\n",
       "</thead>\n",
       "<tbody>\n",
       "\t<tr><th scope=row>Endothelial cell</th><td>0.2630</td><td>0.22100</td><td>0.1790</td><td>Endothelial cell  </td></tr>\n",
       "\t<tr><th scope=row>Cardiomyocyte cell</th><td>0.3900</td><td>0.35900</td><td>0.3280</td><td>Cardiomyocyte cell</td></tr>\n",
       "\t<tr><th scope=row>Myeloid cell</th><td>0.0582</td><td>0.04920</td><td>0.0403</td><td>Myeloid cell      </td></tr>\n",
       "\t<tr><th scope=row>Fibroblast</th><td>0.1640</td><td>0.11800</td><td>0.0714</td><td>Fibroblast        </td></tr>\n",
       "\t<tr><th scope=row>Lymphoid cell</th><td>0.0415</td><td>0.03370</td><td>0.0260</td><td>Lymphoid cell     </td></tr>\n",
       "\t<tr><th scope=row>Smooth muscle cell</th><td>0.0506</td><td>0.04030</td><td>0.0299</td><td>Smooth muscle cell</td></tr>\n",
       "\t<tr><th scope=row>Neuron</th><td>0.0769</td><td>0.00928</td><td>0.0000</td><td>Neuron            </td></tr>\n",
       "\t<tr><th scope=row>Pericyte</th><td>0.1860</td><td>0.15800</td><td>0.1310</td><td>Pericyte          </td></tr>\n",
       "\t<tr><th scope=row>Adipocyte</th><td>0.1110</td><td>0.01100</td><td>0.0000</td><td>Adipocyte         </td></tr>\n",
       "</tbody>\n",
       "</table>\n"
      ],
      "text/latex": [
       "A data.frame: 9 × 4\n",
       "\\begin{tabular}{r|llll}\n",
       "  & model.fit.Upper & model.fit.Estimate & model.fit.Lower & cell\\_type\\\\\n",
       "  & <dbl> & <dbl> & <dbl> & <chr>\\\\\n",
       "\\hline\n",
       "\tEndothelial cell & 0.2630 & 0.22100 & 0.1790 & Endothelial cell  \\\\\n",
       "\tCardiomyocyte cell & 0.3900 & 0.35900 & 0.3280 & Cardiomyocyte cell\\\\\n",
       "\tMyeloid cell & 0.0582 & 0.04920 & 0.0403 & Myeloid cell      \\\\\n",
       "\tFibroblast & 0.1640 & 0.11800 & 0.0714 & Fibroblast        \\\\\n",
       "\tLymphoid cell & 0.0415 & 0.03370 & 0.0260 & Lymphoid cell     \\\\\n",
       "\tSmooth muscle cell & 0.0506 & 0.04030 & 0.0299 & Smooth muscle cell\\\\\n",
       "\tNeuron & 0.0769 & 0.00928 & 0.0000 & Neuron            \\\\\n",
       "\tPericyte & 0.1860 & 0.15800 & 0.1310 & Pericyte          \\\\\n",
       "\tAdipocyte & 0.1110 & 0.01100 & 0.0000 & Adipocyte         \\\\\n",
       "\\end{tabular}\n"
      ],
      "text/markdown": [
       "\n",
       "A data.frame: 9 × 4\n",
       "\n",
       "| <!--/--> | model.fit.Upper &lt;dbl&gt; | model.fit.Estimate &lt;dbl&gt; | model.fit.Lower &lt;dbl&gt; | cell_type &lt;chr&gt; |\n",
       "|---|---|---|---|---|\n",
       "| Endothelial cell | 0.2630 | 0.22100 | 0.1790 | Endothelial cell   |\n",
       "| Cardiomyocyte cell | 0.3900 | 0.35900 | 0.3280 | Cardiomyocyte cell |\n",
       "| Myeloid cell | 0.0582 | 0.04920 | 0.0403 | Myeloid cell       |\n",
       "| Fibroblast | 0.1640 | 0.11800 | 0.0714 | Fibroblast         |\n",
       "| Lymphoid cell | 0.0415 | 0.03370 | 0.0260 | Lymphoid cell      |\n",
       "| Smooth muscle cell | 0.0506 | 0.04030 | 0.0299 | Smooth muscle cell |\n",
       "| Neuron | 0.0769 | 0.00928 | 0.0000 | Neuron             |\n",
       "| Pericyte | 0.1860 | 0.15800 | 0.1310 | Pericyte           |\n",
       "| Adipocyte | 0.1110 | 0.01100 | 0.0000 | Adipocyte          |\n",
       "\n"
      ],
      "text/plain": [
       "                   model.fit.Upper model.fit.Estimate model.fit.Lower\n",
       "Endothelial cell   0.2630          0.22100            0.1790         \n",
       "Cardiomyocyte cell 0.3900          0.35900            0.3280         \n",
       "Myeloid cell       0.0582          0.04920            0.0403         \n",
       "Fibroblast         0.1640          0.11800            0.0714         \n",
       "Lymphoid cell      0.0415          0.03370            0.0260         \n",
       "Smooth muscle cell 0.0506          0.04030            0.0299         \n",
       "Neuron             0.0769          0.00928            0.0000         \n",
       "Pericyte           0.1860          0.15800            0.1310         \n",
       "Adipocyte          0.1110          0.01100            0.0000         \n",
       "                   cell_type         \n",
       "Endothelial cell   Endothelial cell  \n",
       "Cardiomyocyte cell Cardiomyocyte cell\n",
       "Myeloid cell       Myeloid cell      \n",
       "Fibroblast         Fibroblast        \n",
       "Lymphoid cell      Lymphoid cell     \n",
       "Smooth muscle cell Smooth muscle cell\n",
       "Neuron             Neuron            \n",
       "Pericyte           Pericyte          \n",
       "Adipocyte          Adipocyte         "
      ]
     },
     "metadata": {},
     "output_type": "display_data"
    }
   ],
   "source": [
    "df "
   ]
  },
  {
   "cell_type": "code",
   "execution_count": 29,
   "id": "3a93f905",
   "metadata": {},
   "outputs": [],
   "source": [
    "# save to json\n",
    "json_str <- '['\n",
    "for(i in 1:9){\n",
    "    json_str <- paste0(json_str, '{\"name\": \"',df[i,4], '\", \"value\": \"',df[i,2],'\", \"upper\": \"', df[i,1],'\", \"lower\": \"',df[i,3],'\"},')\n",
    "}\n",
    "json_str <- substr(json_str,1,nchar(json_str)-1)\n",
    "json_str <- paste0(json_str,']')"
   ]
  },
  {
   "cell_type": "code",
   "execution_count": 30,
   "id": "04f79952",
   "metadata": {},
   "outputs": [],
   "source": [
    "writeLines(json_str, paste0(\"/stor/public/chenyx/HHCAd/ForWebsite220412/BarPlot_A/Adult/Ventricle.json\"))"
   ]
  },
  {
   "cell_type": "markdown",
   "id": "20af22c7",
   "metadata": {},
   "source": [
    "### Atrium"
   ]
  },
  {
   "cell_type": "code",
   "execution_count": 31,
   "id": "ee7de2e2",
   "metadata": {},
   "outputs": [],
   "source": [
    "df <- read.csv(\"~/HHCA_d/Code4Paper/ForWebsite/1-2-2/Adult/Atrium.csv\",row.names = 1)\n",
    "rownames(df) <- c(\"Endothelial cell\", \"Cardiomyocyte cell\",\"Myeloid cell\", \"Fibroblast\", \"Lymphoid cell\", \"Smooth muscle cell\", \"Neuron\", \"Pericyte\", \"Adipocyte\")\n",
    "df$cell_type <- row.names(df)"
   ]
  },
  {
   "cell_type": "code",
   "execution_count": 32,
   "id": "89dadcbf",
   "metadata": {},
   "outputs": [
    {
     "data": {
      "text/html": [
       "<table class=\"dataframe\">\n",
       "<caption>A data.frame: 9 × 4</caption>\n",
       "<thead>\n",
       "\t<tr><th></th><th scope=col>model.fit.Upper</th><th scope=col>model.fit.Estimate</th><th scope=col>model.fit.Lower</th><th scope=col>cell_type</th></tr>\n",
       "\t<tr><th></th><th scope=col>&lt;dbl&gt;</th><th scope=col>&lt;dbl&gt;</th><th scope=col>&lt;dbl&gt;</th><th scope=col>&lt;chr&gt;</th></tr>\n",
       "</thead>\n",
       "<tbody>\n",
       "\t<tr><th scope=row>Endothelial cell</th><td>0.2010</td><td>0.1860</td><td>0.1720</td><td>Endothelial cell  </td></tr>\n",
       "\t<tr><th scope=row>Cardiomyocyte cell</th><td>0.2550</td><td>0.2450</td><td>0.2340</td><td>Cardiomyocyte cell</td></tr>\n",
       "\t<tr><th scope=row>Myeloid cell</th><td>0.0812</td><td>0.0736</td><td>0.0660</td><td>Myeloid cell      </td></tr>\n",
       "\t<tr><th scope=row>Fibroblast</th><td>0.2180</td><td>0.2060</td><td>0.1950</td><td>Fibroblast        </td></tr>\n",
       "\t<tr><th scope=row>Lymphoid cell</th><td>0.0687</td><td>0.0603</td><td>0.0518</td><td>Lymphoid cell     </td></tr>\n",
       "\t<tr><th scope=row>Smooth muscle cell</th><td>0.0582</td><td>0.0538</td><td>0.0494</td><td>Smooth muscle cell</td></tr>\n",
       "\t<tr><th scope=row>Neuron</th><td>0.0272</td><td>0.0254</td><td>0.0235</td><td>Neuron            </td></tr>\n",
       "\t<tr><th scope=row>Pericyte</th><td>0.1260</td><td>0.1190</td><td>0.1130</td><td>Pericyte          </td></tr>\n",
       "\t<tr><th scope=row>Adipocyte</th><td>0.0357</td><td>0.0304</td><td>0.0250</td><td>Adipocyte         </td></tr>\n",
       "</tbody>\n",
       "</table>\n"
      ],
      "text/latex": [
       "A data.frame: 9 × 4\n",
       "\\begin{tabular}{r|llll}\n",
       "  & model.fit.Upper & model.fit.Estimate & model.fit.Lower & cell\\_type\\\\\n",
       "  & <dbl> & <dbl> & <dbl> & <chr>\\\\\n",
       "\\hline\n",
       "\tEndothelial cell & 0.2010 & 0.1860 & 0.1720 & Endothelial cell  \\\\\n",
       "\tCardiomyocyte cell & 0.2550 & 0.2450 & 0.2340 & Cardiomyocyte cell\\\\\n",
       "\tMyeloid cell & 0.0812 & 0.0736 & 0.0660 & Myeloid cell      \\\\\n",
       "\tFibroblast & 0.2180 & 0.2060 & 0.1950 & Fibroblast        \\\\\n",
       "\tLymphoid cell & 0.0687 & 0.0603 & 0.0518 & Lymphoid cell     \\\\\n",
       "\tSmooth muscle cell & 0.0582 & 0.0538 & 0.0494 & Smooth muscle cell\\\\\n",
       "\tNeuron & 0.0272 & 0.0254 & 0.0235 & Neuron            \\\\\n",
       "\tPericyte & 0.1260 & 0.1190 & 0.1130 & Pericyte          \\\\\n",
       "\tAdipocyte & 0.0357 & 0.0304 & 0.0250 & Adipocyte         \\\\\n",
       "\\end{tabular}\n"
      ],
      "text/markdown": [
       "\n",
       "A data.frame: 9 × 4\n",
       "\n",
       "| <!--/--> | model.fit.Upper &lt;dbl&gt; | model.fit.Estimate &lt;dbl&gt; | model.fit.Lower &lt;dbl&gt; | cell_type &lt;chr&gt; |\n",
       "|---|---|---|---|---|\n",
       "| Endothelial cell | 0.2010 | 0.1860 | 0.1720 | Endothelial cell   |\n",
       "| Cardiomyocyte cell | 0.2550 | 0.2450 | 0.2340 | Cardiomyocyte cell |\n",
       "| Myeloid cell | 0.0812 | 0.0736 | 0.0660 | Myeloid cell       |\n",
       "| Fibroblast | 0.2180 | 0.2060 | 0.1950 | Fibroblast         |\n",
       "| Lymphoid cell | 0.0687 | 0.0603 | 0.0518 | Lymphoid cell      |\n",
       "| Smooth muscle cell | 0.0582 | 0.0538 | 0.0494 | Smooth muscle cell |\n",
       "| Neuron | 0.0272 | 0.0254 | 0.0235 | Neuron             |\n",
       "| Pericyte | 0.1260 | 0.1190 | 0.1130 | Pericyte           |\n",
       "| Adipocyte | 0.0357 | 0.0304 | 0.0250 | Adipocyte          |\n",
       "\n"
      ],
      "text/plain": [
       "                   model.fit.Upper model.fit.Estimate model.fit.Lower\n",
       "Endothelial cell   0.2010          0.1860             0.1720         \n",
       "Cardiomyocyte cell 0.2550          0.2450             0.2340         \n",
       "Myeloid cell       0.0812          0.0736             0.0660         \n",
       "Fibroblast         0.2180          0.2060             0.1950         \n",
       "Lymphoid cell      0.0687          0.0603             0.0518         \n",
       "Smooth muscle cell 0.0582          0.0538             0.0494         \n",
       "Neuron             0.0272          0.0254             0.0235         \n",
       "Pericyte           0.1260          0.1190             0.1130         \n",
       "Adipocyte          0.0357          0.0304             0.0250         \n",
       "                   cell_type         \n",
       "Endothelial cell   Endothelial cell  \n",
       "Cardiomyocyte cell Cardiomyocyte cell\n",
       "Myeloid cell       Myeloid cell      \n",
       "Fibroblast         Fibroblast        \n",
       "Lymphoid cell      Lymphoid cell     \n",
       "Smooth muscle cell Smooth muscle cell\n",
       "Neuron             Neuron            \n",
       "Pericyte           Pericyte          \n",
       "Adipocyte          Adipocyte         "
      ]
     },
     "metadata": {},
     "output_type": "display_data"
    }
   ],
   "source": [
    "df "
   ]
  },
  {
   "cell_type": "code",
   "execution_count": 33,
   "id": "19adc370",
   "metadata": {},
   "outputs": [],
   "source": [
    "# save to json\n",
    "json_str <- '['\n",
    "for(i in 1:9){\n",
    "    json_str <- paste0(json_str, '{\"name\": \"',df[i,4], '\", \"value\": \"',df[i,2],'\", \"upper\": \"', df[i,1],'\", \"lower\": \"',df[i,3],'\"},')\n",
    "}\n",
    "json_str <- substr(json_str,1,nchar(json_str)-1)\n",
    "json_str <- paste0(json_str,']')"
   ]
  },
  {
   "cell_type": "code",
   "execution_count": 34,
   "id": "fbb2e8f2",
   "metadata": {},
   "outputs": [],
   "source": [
    "writeLines(json_str, paste0(\"/stor/public/chenyx/HHCAd/ForWebsite220412/BarPlot_A/Adult/Atrium.json\"))"
   ]
  },
  {
   "cell_type": "markdown",
   "id": "26e2d4fe",
   "metadata": {},
   "source": [
    "### Heart"
   ]
  },
  {
   "cell_type": "code",
   "execution_count": 35,
   "id": "d3ae7ad2",
   "metadata": {},
   "outputs": [],
   "source": [
    "df <- read.csv(\"~/HHCA_d/Code4Paper/ForWebsite/1-2-2/Adult/Heart.csv\",row.names = 1)\n",
    "rownames(df) <- c(\"Endothelial cell\", \"Cardiomyocyte cell\",\"Myeloid cell\", \"Fibroblast\", \"Lymphoid cell\", \"Smooth muscle cell\", \"Neuron\", \"Pericyte\", \"Adipocyte\")\n",
    "df$cell_type <- row.names(df)"
   ]
  },
  {
   "cell_type": "code",
   "execution_count": 36,
   "id": "6e15d5d9",
   "metadata": {},
   "outputs": [
    {
     "data": {
      "text/html": [
       "<table class=\"dataframe\">\n",
       "<caption>A data.frame: 9 × 4</caption>\n",
       "<thead>\n",
       "\t<tr><th></th><th scope=col>model.fit.Upper</th><th scope=col>model.fit.Estimate</th><th scope=col>model.fit.Lower</th><th scope=col>cell_type</th></tr>\n",
       "\t<tr><th></th><th scope=col>&lt;dbl&gt;</th><th scope=col>&lt;dbl&gt;</th><th scope=col>&lt;dbl&gt;</th><th scope=col>&lt;chr&gt;</th></tr>\n",
       "</thead>\n",
       "<tbody>\n",
       "\t<tr><th scope=row>Endothelial cell</th><td>0.2280</td><td>0.2180</td><td>0.2080</td><td>Endothelial cell  </td></tr>\n",
       "\t<tr><th scope=row>Cardiomyocyte cell</th><td>0.3290</td><td>0.3220</td><td>0.3150</td><td>Cardiomyocyte cell</td></tr>\n",
       "\t<tr><th scope=row>Myeloid cell</th><td>0.0611</td><td>0.0561</td><td>0.0511</td><td>Myeloid cell      </td></tr>\n",
       "\t<tr><th scope=row>Fibroblast</th><td>0.1500</td><td>0.1420</td><td>0.1340</td><td>Fibroblast        </td></tr>\n",
       "\t<tr><th scope=row>Lymphoid cell</th><td>0.0485</td><td>0.0429</td><td>0.0373</td><td>Lymphoid cell     </td></tr>\n",
       "\t<tr><th scope=row>Smooth muscle cell</th><td>0.0468</td><td>0.0439</td><td>0.0410</td><td>Smooth muscle cell</td></tr>\n",
       "\t<tr><th scope=row>Neuron</th><td>0.0148</td><td>0.0136</td><td>0.0123</td><td>Neuron            </td></tr>\n",
       "\t<tr><th scope=row>Pericyte</th><td>0.1510</td><td>0.1460</td><td>0.1420</td><td>Pericyte          </td></tr>\n",
       "\t<tr><th scope=row>Adipocyte</th><td>0.0187</td><td>0.0151</td><td>0.0115</td><td>Adipocyte         </td></tr>\n",
       "</tbody>\n",
       "</table>\n"
      ],
      "text/latex": [
       "A data.frame: 9 × 4\n",
       "\\begin{tabular}{r|llll}\n",
       "  & model.fit.Upper & model.fit.Estimate & model.fit.Lower & cell\\_type\\\\\n",
       "  & <dbl> & <dbl> & <dbl> & <chr>\\\\\n",
       "\\hline\n",
       "\tEndothelial cell & 0.2280 & 0.2180 & 0.2080 & Endothelial cell  \\\\\n",
       "\tCardiomyocyte cell & 0.3290 & 0.3220 & 0.3150 & Cardiomyocyte cell\\\\\n",
       "\tMyeloid cell & 0.0611 & 0.0561 & 0.0511 & Myeloid cell      \\\\\n",
       "\tFibroblast & 0.1500 & 0.1420 & 0.1340 & Fibroblast        \\\\\n",
       "\tLymphoid cell & 0.0485 & 0.0429 & 0.0373 & Lymphoid cell     \\\\\n",
       "\tSmooth muscle cell & 0.0468 & 0.0439 & 0.0410 & Smooth muscle cell\\\\\n",
       "\tNeuron & 0.0148 & 0.0136 & 0.0123 & Neuron            \\\\\n",
       "\tPericyte & 0.1510 & 0.1460 & 0.1420 & Pericyte          \\\\\n",
       "\tAdipocyte & 0.0187 & 0.0151 & 0.0115 & Adipocyte         \\\\\n",
       "\\end{tabular}\n"
      ],
      "text/markdown": [
       "\n",
       "A data.frame: 9 × 4\n",
       "\n",
       "| <!--/--> | model.fit.Upper &lt;dbl&gt; | model.fit.Estimate &lt;dbl&gt; | model.fit.Lower &lt;dbl&gt; | cell_type &lt;chr&gt; |\n",
       "|---|---|---|---|---|\n",
       "| Endothelial cell | 0.2280 | 0.2180 | 0.2080 | Endothelial cell   |\n",
       "| Cardiomyocyte cell | 0.3290 | 0.3220 | 0.3150 | Cardiomyocyte cell |\n",
       "| Myeloid cell | 0.0611 | 0.0561 | 0.0511 | Myeloid cell       |\n",
       "| Fibroblast | 0.1500 | 0.1420 | 0.1340 | Fibroblast         |\n",
       "| Lymphoid cell | 0.0485 | 0.0429 | 0.0373 | Lymphoid cell      |\n",
       "| Smooth muscle cell | 0.0468 | 0.0439 | 0.0410 | Smooth muscle cell |\n",
       "| Neuron | 0.0148 | 0.0136 | 0.0123 | Neuron             |\n",
       "| Pericyte | 0.1510 | 0.1460 | 0.1420 | Pericyte           |\n",
       "| Adipocyte | 0.0187 | 0.0151 | 0.0115 | Adipocyte          |\n",
       "\n"
      ],
      "text/plain": [
       "                   model.fit.Upper model.fit.Estimate model.fit.Lower\n",
       "Endothelial cell   0.2280          0.2180             0.2080         \n",
       "Cardiomyocyte cell 0.3290          0.3220             0.3150         \n",
       "Myeloid cell       0.0611          0.0561             0.0511         \n",
       "Fibroblast         0.1500          0.1420             0.1340         \n",
       "Lymphoid cell      0.0485          0.0429             0.0373         \n",
       "Smooth muscle cell 0.0468          0.0439             0.0410         \n",
       "Neuron             0.0148          0.0136             0.0123         \n",
       "Pericyte           0.1510          0.1460             0.1420         \n",
       "Adipocyte          0.0187          0.0151             0.0115         \n",
       "                   cell_type         \n",
       "Endothelial cell   Endothelial cell  \n",
       "Cardiomyocyte cell Cardiomyocyte cell\n",
       "Myeloid cell       Myeloid cell      \n",
       "Fibroblast         Fibroblast        \n",
       "Lymphoid cell      Lymphoid cell     \n",
       "Smooth muscle cell Smooth muscle cell\n",
       "Neuron             Neuron            \n",
       "Pericyte           Pericyte          \n",
       "Adipocyte          Adipocyte         "
      ]
     },
     "metadata": {},
     "output_type": "display_data"
    }
   ],
   "source": [
    "df "
   ]
  },
  {
   "cell_type": "code",
   "execution_count": 38,
   "id": "f5436a56",
   "metadata": {},
   "outputs": [],
   "source": [
    "# save to json\n",
    "json_str <- '['\n",
    "for(i in 1:9){\n",
    "    json_str <- paste0(json_str, '{\"name\": \"',df[i,4], '\", \"value\": \"',df[i,2],'\", \"upper\": \"', df[i,1],'\", \"lower\": \"',df[i,3],'\"},')\n",
    "}\n",
    "json_str <- substr(json_str,1,nchar(json_str)-1)\n",
    "json_str <- paste0(json_str,']')"
   ]
  },
  {
   "cell_type": "code",
   "execution_count": 39,
   "id": "fd71347e",
   "metadata": {},
   "outputs": [],
   "source": [
    "writeLines(json_str, paste0(\"/stor/public/chenyx/HHCAd/ForWebsite220412/BarPlot_A/Adult/Heart.json\"))"
   ]
  },
  {
   "cell_type": "markdown",
   "id": "69335244",
   "metadata": {},
   "source": [
    "## Fetal"
   ]
  },
  {
   "cell_type": "markdown",
   "id": "04407f9c",
   "metadata": {},
   "source": [
    "### LV"
   ]
  },
  {
   "cell_type": "code",
   "execution_count": 7,
   "id": "a743b8c0",
   "metadata": {},
   "outputs": [],
   "source": [
    "df <- read.csv(\"~/HHCA_d/Code4Paper/ForWebsite/1-2-2/Fetal//LV.csv\",row.names = 1)"
   ]
  },
  {
   "cell_type": "code",
   "execution_count": 8,
   "id": "9d31e420",
   "metadata": {},
   "outputs": [],
   "source": [
    "df <- read.csv(\"~/HHCA_d/Code4Paper/ForWebsite/1-2-2/Adult/Heart.csv\",row.names = 1)\n",
    "rownames(df) <- c(\"Endothelial cell\", \"Cardiomyocyte cell\",\"Myeloid cell\", \"Fibroblast\", \"Lymphoid cell\", \"Smooth muscle cell\", \"Neuron\", \"Pericyte\", \"Adipocyte\")\n",
    "df$cell_type <- row.names(df)"
   ]
  },
  {
   "cell_type": "code",
   "execution_count": 9,
   "id": "a1a9dab9",
   "metadata": {},
   "outputs": [
    {
     "data": {
      "text/html": [
       "<table class=\"dataframe\">\n",
       "<caption>A data.frame: 9 × 4</caption>\n",
       "<thead>\n",
       "\t<tr><th></th><th scope=col>model.fit.Upper</th><th scope=col>model.fit.Estimate</th><th scope=col>model.fit.Lower</th><th scope=col>cell_type</th></tr>\n",
       "\t<tr><th></th><th scope=col>&lt;dbl&gt;</th><th scope=col>&lt;dbl&gt;</th><th scope=col>&lt;dbl&gt;</th><th scope=col>&lt;chr&gt;</th></tr>\n",
       "</thead>\n",
       "<tbody>\n",
       "\t<tr><th scope=row>Endothelial cell</th><td>0.2280</td><td>0.2180</td><td>0.2080</td><td>Endothelial cell  </td></tr>\n",
       "\t<tr><th scope=row>Cardiomyocyte cell</th><td>0.3290</td><td>0.3220</td><td>0.3150</td><td>Cardiomyocyte cell</td></tr>\n",
       "\t<tr><th scope=row>Myeloid cell</th><td>0.0611</td><td>0.0561</td><td>0.0511</td><td>Myeloid cell      </td></tr>\n",
       "\t<tr><th scope=row>Fibroblast</th><td>0.1500</td><td>0.1420</td><td>0.1340</td><td>Fibroblast        </td></tr>\n",
       "\t<tr><th scope=row>Lymphoid cell</th><td>0.0485</td><td>0.0429</td><td>0.0373</td><td>Lymphoid cell     </td></tr>\n",
       "\t<tr><th scope=row>Smooth muscle cell</th><td>0.0468</td><td>0.0439</td><td>0.0410</td><td>Smooth muscle cell</td></tr>\n",
       "\t<tr><th scope=row>Neuron</th><td>0.0148</td><td>0.0136</td><td>0.0123</td><td>Neuron            </td></tr>\n",
       "\t<tr><th scope=row>Pericyte</th><td>0.1510</td><td>0.1460</td><td>0.1420</td><td>Pericyte          </td></tr>\n",
       "\t<tr><th scope=row>Adipocyte</th><td>0.0187</td><td>0.0151</td><td>0.0115</td><td>Adipocyte         </td></tr>\n",
       "</tbody>\n",
       "</table>\n"
      ],
      "text/latex": [
       "A data.frame: 9 × 4\n",
       "\\begin{tabular}{r|llll}\n",
       "  & model.fit.Upper & model.fit.Estimate & model.fit.Lower & cell\\_type\\\\\n",
       "  & <dbl> & <dbl> & <dbl> & <chr>\\\\\n",
       "\\hline\n",
       "\tEndothelial cell & 0.2280 & 0.2180 & 0.2080 & Endothelial cell  \\\\\n",
       "\tCardiomyocyte cell & 0.3290 & 0.3220 & 0.3150 & Cardiomyocyte cell\\\\\n",
       "\tMyeloid cell & 0.0611 & 0.0561 & 0.0511 & Myeloid cell      \\\\\n",
       "\tFibroblast & 0.1500 & 0.1420 & 0.1340 & Fibroblast        \\\\\n",
       "\tLymphoid cell & 0.0485 & 0.0429 & 0.0373 & Lymphoid cell     \\\\\n",
       "\tSmooth muscle cell & 0.0468 & 0.0439 & 0.0410 & Smooth muscle cell\\\\\n",
       "\tNeuron & 0.0148 & 0.0136 & 0.0123 & Neuron            \\\\\n",
       "\tPericyte & 0.1510 & 0.1460 & 0.1420 & Pericyte          \\\\\n",
       "\tAdipocyte & 0.0187 & 0.0151 & 0.0115 & Adipocyte         \\\\\n",
       "\\end{tabular}\n"
      ],
      "text/markdown": [
       "\n",
       "A data.frame: 9 × 4\n",
       "\n",
       "| <!--/--> | model.fit.Upper &lt;dbl&gt; | model.fit.Estimate &lt;dbl&gt; | model.fit.Lower &lt;dbl&gt; | cell_type &lt;chr&gt; |\n",
       "|---|---|---|---|---|\n",
       "| Endothelial cell | 0.2280 | 0.2180 | 0.2080 | Endothelial cell   |\n",
       "| Cardiomyocyte cell | 0.3290 | 0.3220 | 0.3150 | Cardiomyocyte cell |\n",
       "| Myeloid cell | 0.0611 | 0.0561 | 0.0511 | Myeloid cell       |\n",
       "| Fibroblast | 0.1500 | 0.1420 | 0.1340 | Fibroblast         |\n",
       "| Lymphoid cell | 0.0485 | 0.0429 | 0.0373 | Lymphoid cell      |\n",
       "| Smooth muscle cell | 0.0468 | 0.0439 | 0.0410 | Smooth muscle cell |\n",
       "| Neuron | 0.0148 | 0.0136 | 0.0123 | Neuron             |\n",
       "| Pericyte | 0.1510 | 0.1460 | 0.1420 | Pericyte           |\n",
       "| Adipocyte | 0.0187 | 0.0151 | 0.0115 | Adipocyte          |\n",
       "\n"
      ],
      "text/plain": [
       "                   model.fit.Upper model.fit.Estimate model.fit.Lower\n",
       "Endothelial cell   0.2280          0.2180             0.2080         \n",
       "Cardiomyocyte cell 0.3290          0.3220             0.3150         \n",
       "Myeloid cell       0.0611          0.0561             0.0511         \n",
       "Fibroblast         0.1500          0.1420             0.1340         \n",
       "Lymphoid cell      0.0485          0.0429             0.0373         \n",
       "Smooth muscle cell 0.0468          0.0439             0.0410         \n",
       "Neuron             0.0148          0.0136             0.0123         \n",
       "Pericyte           0.1510          0.1460             0.1420         \n",
       "Adipocyte          0.0187          0.0151             0.0115         \n",
       "                   cell_type         \n",
       "Endothelial cell   Endothelial cell  \n",
       "Cardiomyocyte cell Cardiomyocyte cell\n",
       "Myeloid cell       Myeloid cell      \n",
       "Fibroblast         Fibroblast        \n",
       "Lymphoid cell      Lymphoid cell     \n",
       "Smooth muscle cell Smooth muscle cell\n",
       "Neuron             Neuron            \n",
       "Pericyte           Pericyte          \n",
       "Adipocyte          Adipocyte         "
      ]
     },
     "metadata": {},
     "output_type": "display_data"
    }
   ],
   "source": [
    "df "
   ]
  },
  {
   "cell_type": "code",
   "execution_count": 10,
   "id": "0fa5df30",
   "metadata": {},
   "outputs": [],
   "source": [
    "# save to json\n",
    "json_str <- '['\n",
    "for(i in 1:9){\n",
    "    json_str <- paste0(json_str, '{\"name\": \"',df[i,4], '\", \"value\": \"',df[i,2],'\", \"upper\": \"', df[i,1],'\", \"lower\": \"',df[i,3],'\"},')\n",
    "}\n",
    "json_str <- substr(json_str,1,nchar(json_str)-1)\n",
    "json_str <- paste0(json_str,']')"
   ]
  },
  {
   "cell_type": "code",
   "execution_count": 11,
   "id": "326df66a",
   "metadata": {},
   "outputs": [
    {
     "data": {
      "text/html": [
       "'[{\"name\": \"Endothelial cell\", \"value\": \"0.218\", \"upper\": \"0.228\", \"lower\": \"0.208\"},{\"name\": \"Cardiomyocyte cell\", \"value\": \"0.322\", \"upper\": \"0.329\", \"lower\": \"0.315\"},{\"name\": \"Myeloid cell\", \"value\": \"0.0561\", \"upper\": \"0.0611\", \"lower\": \"0.0511\"},{\"name\": \"Fibroblast\", \"value\": \"0.142\", \"upper\": \"0.15\", \"lower\": \"0.134\"},{\"name\": \"Lymphoid cell\", \"value\": \"0.0429\", \"upper\": \"0.0485\", \"lower\": \"0.0373\"},{\"name\": \"Smooth muscle cell\", \"value\": \"0.0439\", \"upper\": \"0.0468\", \"lower\": \"0.041\"},{\"name\": \"Neuron\", \"value\": \"0.0136\", \"upper\": \"0.0148\", \"lower\": \"0.0123\"},{\"name\": \"Pericyte\", \"value\": \"0.146\", \"upper\": \"0.151\", \"lower\": \"0.142\"},{\"name\": \"Adipocyte\", \"value\": \"0.0151\", \"upper\": \"0.0187\", \"lower\": \"0.0115\"}]'"
      ],
      "text/latex": [
       "'{[}\\{\"name\": \"Endothelial cell\", \"value\": \"0.218\", \"upper\": \"0.228\", \"lower\": \"0.208\"\\},\\{\"name\": \"Cardiomyocyte cell\", \"value\": \"0.322\", \"upper\": \"0.329\", \"lower\": \"0.315\"\\},\\{\"name\": \"Myeloid cell\", \"value\": \"0.0561\", \"upper\": \"0.0611\", \"lower\": \"0.0511\"\\},\\{\"name\": \"Fibroblast\", \"value\": \"0.142\", \"upper\": \"0.15\", \"lower\": \"0.134\"\\},\\{\"name\": \"Lymphoid cell\", \"value\": \"0.0429\", \"upper\": \"0.0485\", \"lower\": \"0.0373\"\\},\\{\"name\": \"Smooth muscle cell\", \"value\": \"0.0439\", \"upper\": \"0.0468\", \"lower\": \"0.041\"\\},\\{\"name\": \"Neuron\", \"value\": \"0.0136\", \"upper\": \"0.0148\", \"lower\": \"0.0123\"\\},\\{\"name\": \"Pericyte\", \"value\": \"0.146\", \"upper\": \"0.151\", \"lower\": \"0.142\"\\},\\{\"name\": \"Adipocyte\", \"value\": \"0.0151\", \"upper\": \"0.0187\", \"lower\": \"0.0115\"\\}{]}'"
      ],
      "text/markdown": [
       "'[{\"name\": \"Endothelial cell\", \"value\": \"0.218\", \"upper\": \"0.228\", \"lower\": \"0.208\"},{\"name\": \"Cardiomyocyte cell\", \"value\": \"0.322\", \"upper\": \"0.329\", \"lower\": \"0.315\"},{\"name\": \"Myeloid cell\", \"value\": \"0.0561\", \"upper\": \"0.0611\", \"lower\": \"0.0511\"},{\"name\": \"Fibroblast\", \"value\": \"0.142\", \"upper\": \"0.15\", \"lower\": \"0.134\"},{\"name\": \"Lymphoid cell\", \"value\": \"0.0429\", \"upper\": \"0.0485\", \"lower\": \"0.0373\"},{\"name\": \"Smooth muscle cell\", \"value\": \"0.0439\", \"upper\": \"0.0468\", \"lower\": \"0.041\"},{\"name\": \"Neuron\", \"value\": \"0.0136\", \"upper\": \"0.0148\", \"lower\": \"0.0123\"},{\"name\": \"Pericyte\", \"value\": \"0.146\", \"upper\": \"0.151\", \"lower\": \"0.142\"},{\"name\": \"Adipocyte\", \"value\": \"0.0151\", \"upper\": \"0.0187\", \"lower\": \"0.0115\"}]'"
      ],
      "text/plain": [
       "[1] \"[{\\\"name\\\": \\\"Endothelial cell\\\", \\\"value\\\": \\\"0.218\\\", \\\"upper\\\": \\\"0.228\\\", \\\"lower\\\": \\\"0.208\\\"},{\\\"name\\\": \\\"Cardiomyocyte cell\\\", \\\"value\\\": \\\"0.322\\\", \\\"upper\\\": \\\"0.329\\\", \\\"lower\\\": \\\"0.315\\\"},{\\\"name\\\": \\\"Myeloid cell\\\", \\\"value\\\": \\\"0.0561\\\", \\\"upper\\\": \\\"0.0611\\\", \\\"lower\\\": \\\"0.0511\\\"},{\\\"name\\\": \\\"Fibroblast\\\", \\\"value\\\": \\\"0.142\\\", \\\"upper\\\": \\\"0.15\\\", \\\"lower\\\": \\\"0.134\\\"},{\\\"name\\\": \\\"Lymphoid cell\\\", \\\"value\\\": \\\"0.0429\\\", \\\"upper\\\": \\\"0.0485\\\", \\\"lower\\\": \\\"0.0373\\\"},{\\\"name\\\": \\\"Smooth muscle cell\\\", \\\"value\\\": \\\"0.0439\\\", \\\"upper\\\": \\\"0.0468\\\", \\\"lower\\\": \\\"0.041\\\"},{\\\"name\\\": \\\"Neuron\\\", \\\"value\\\": \\\"0.0136\\\", \\\"upper\\\": \\\"0.0148\\\", \\\"lower\\\": \\\"0.0123\\\"},{\\\"name\\\": \\\"Pericyte\\\", \\\"value\\\": \\\"0.146\\\", \\\"upper\\\": \\\"0.151\\\", \\\"lower\\\": \\\"0.142\\\"},{\\\"name\\\": \\\"Adipocyte\\\", \\\"value\\\": \\\"0.0151\\\", \\\"upper\\\": \\\"0.0187\\\", \\\"lower\\\": \\\"0.0115\\\"}]\""
      ]
     },
     "metadata": {},
     "output_type": "display_data"
    }
   ],
   "source": [
    "json_str"
   ]
  },
  {
   "cell_type": "code",
   "execution_count": 13,
   "id": "781b0b17",
   "metadata": {},
   "outputs": [],
   "source": [
    "writeLines(json_str, paste0(\"/stor/public/chenyx/HHCAd/ForWebsite220412/BarPlot_A/Fetal/LV.json\"))"
   ]
  },
  {
   "cell_type": "markdown",
   "id": "cfa1c06b",
   "metadata": {},
   "source": [
    "### IVS"
   ]
  },
  {
   "cell_type": "code",
   "execution_count": 14,
   "id": "dc6411b8",
   "metadata": {},
   "outputs": [],
   "source": [
    "df <- read.csv(\"~/HHCA_d/Code4Paper/ForWebsite/1-2-2/Fetal//IVS.csv\",row.names = 1)"
   ]
  },
  {
   "cell_type": "code",
   "execution_count": 15,
   "id": "0928bf7e",
   "metadata": {},
   "outputs": [],
   "source": [
    "df <- read.csv(\"~/HHCA_d/Code4Paper/ForWebsite/1-2-2/Adult/Heart.csv\",row.names = 1)\n",
    "rownames(df) <- c(\"Endothelial cell\", \"Cardiomyocyte cell\",\"Myeloid cell\", \"Fibroblast\", \"Lymphoid cell\", \"Smooth muscle cell\", \"Neuron\", \"Pericyte\", \"Adipocyte\")\n",
    "df$cell_type <- row.names(df)"
   ]
  },
  {
   "cell_type": "code",
   "execution_count": 16,
   "id": "c727d1cb",
   "metadata": {},
   "outputs": [
    {
     "data": {
      "text/html": [
       "<table class=\"dataframe\">\n",
       "<caption>A data.frame: 9 × 4</caption>\n",
       "<thead>\n",
       "\t<tr><th></th><th scope=col>model.fit.Upper</th><th scope=col>model.fit.Estimate</th><th scope=col>model.fit.Lower</th><th scope=col>cell_type</th></tr>\n",
       "\t<tr><th></th><th scope=col>&lt;dbl&gt;</th><th scope=col>&lt;dbl&gt;</th><th scope=col>&lt;dbl&gt;</th><th scope=col>&lt;chr&gt;</th></tr>\n",
       "</thead>\n",
       "<tbody>\n",
       "\t<tr><th scope=row>Endothelial cell</th><td>0.2280</td><td>0.2180</td><td>0.2080</td><td>Endothelial cell  </td></tr>\n",
       "\t<tr><th scope=row>Cardiomyocyte cell</th><td>0.3290</td><td>0.3220</td><td>0.3150</td><td>Cardiomyocyte cell</td></tr>\n",
       "\t<tr><th scope=row>Myeloid cell</th><td>0.0611</td><td>0.0561</td><td>0.0511</td><td>Myeloid cell      </td></tr>\n",
       "\t<tr><th scope=row>Fibroblast</th><td>0.1500</td><td>0.1420</td><td>0.1340</td><td>Fibroblast        </td></tr>\n",
       "\t<tr><th scope=row>Lymphoid cell</th><td>0.0485</td><td>0.0429</td><td>0.0373</td><td>Lymphoid cell     </td></tr>\n",
       "\t<tr><th scope=row>Smooth muscle cell</th><td>0.0468</td><td>0.0439</td><td>0.0410</td><td>Smooth muscle cell</td></tr>\n",
       "\t<tr><th scope=row>Neuron</th><td>0.0148</td><td>0.0136</td><td>0.0123</td><td>Neuron            </td></tr>\n",
       "\t<tr><th scope=row>Pericyte</th><td>0.1510</td><td>0.1460</td><td>0.1420</td><td>Pericyte          </td></tr>\n",
       "\t<tr><th scope=row>Adipocyte</th><td>0.0187</td><td>0.0151</td><td>0.0115</td><td>Adipocyte         </td></tr>\n",
       "</tbody>\n",
       "</table>\n"
      ],
      "text/latex": [
       "A data.frame: 9 × 4\n",
       "\\begin{tabular}{r|llll}\n",
       "  & model.fit.Upper & model.fit.Estimate & model.fit.Lower & cell\\_type\\\\\n",
       "  & <dbl> & <dbl> & <dbl> & <chr>\\\\\n",
       "\\hline\n",
       "\tEndothelial cell & 0.2280 & 0.2180 & 0.2080 & Endothelial cell  \\\\\n",
       "\tCardiomyocyte cell & 0.3290 & 0.3220 & 0.3150 & Cardiomyocyte cell\\\\\n",
       "\tMyeloid cell & 0.0611 & 0.0561 & 0.0511 & Myeloid cell      \\\\\n",
       "\tFibroblast & 0.1500 & 0.1420 & 0.1340 & Fibroblast        \\\\\n",
       "\tLymphoid cell & 0.0485 & 0.0429 & 0.0373 & Lymphoid cell     \\\\\n",
       "\tSmooth muscle cell & 0.0468 & 0.0439 & 0.0410 & Smooth muscle cell\\\\\n",
       "\tNeuron & 0.0148 & 0.0136 & 0.0123 & Neuron            \\\\\n",
       "\tPericyte & 0.1510 & 0.1460 & 0.1420 & Pericyte          \\\\\n",
       "\tAdipocyte & 0.0187 & 0.0151 & 0.0115 & Adipocyte         \\\\\n",
       "\\end{tabular}\n"
      ],
      "text/markdown": [
       "\n",
       "A data.frame: 9 × 4\n",
       "\n",
       "| <!--/--> | model.fit.Upper &lt;dbl&gt; | model.fit.Estimate &lt;dbl&gt; | model.fit.Lower &lt;dbl&gt; | cell_type &lt;chr&gt; |\n",
       "|---|---|---|---|---|\n",
       "| Endothelial cell | 0.2280 | 0.2180 | 0.2080 | Endothelial cell   |\n",
       "| Cardiomyocyte cell | 0.3290 | 0.3220 | 0.3150 | Cardiomyocyte cell |\n",
       "| Myeloid cell | 0.0611 | 0.0561 | 0.0511 | Myeloid cell       |\n",
       "| Fibroblast | 0.1500 | 0.1420 | 0.1340 | Fibroblast         |\n",
       "| Lymphoid cell | 0.0485 | 0.0429 | 0.0373 | Lymphoid cell      |\n",
       "| Smooth muscle cell | 0.0468 | 0.0439 | 0.0410 | Smooth muscle cell |\n",
       "| Neuron | 0.0148 | 0.0136 | 0.0123 | Neuron             |\n",
       "| Pericyte | 0.1510 | 0.1460 | 0.1420 | Pericyte           |\n",
       "| Adipocyte | 0.0187 | 0.0151 | 0.0115 | Adipocyte          |\n",
       "\n"
      ],
      "text/plain": [
       "                   model.fit.Upper model.fit.Estimate model.fit.Lower\n",
       "Endothelial cell   0.2280          0.2180             0.2080         \n",
       "Cardiomyocyte cell 0.3290          0.3220             0.3150         \n",
       "Myeloid cell       0.0611          0.0561             0.0511         \n",
       "Fibroblast         0.1500          0.1420             0.1340         \n",
       "Lymphoid cell      0.0485          0.0429             0.0373         \n",
       "Smooth muscle cell 0.0468          0.0439             0.0410         \n",
       "Neuron             0.0148          0.0136             0.0123         \n",
       "Pericyte           0.1510          0.1460             0.1420         \n",
       "Adipocyte          0.0187          0.0151             0.0115         \n",
       "                   cell_type         \n",
       "Endothelial cell   Endothelial cell  \n",
       "Cardiomyocyte cell Cardiomyocyte cell\n",
       "Myeloid cell       Myeloid cell      \n",
       "Fibroblast         Fibroblast        \n",
       "Lymphoid cell      Lymphoid cell     \n",
       "Smooth muscle cell Smooth muscle cell\n",
       "Neuron             Neuron            \n",
       "Pericyte           Pericyte          \n",
       "Adipocyte          Adipocyte         "
      ]
     },
     "metadata": {},
     "output_type": "display_data"
    }
   ],
   "source": [
    "df "
   ]
  },
  {
   "cell_type": "code",
   "execution_count": 17,
   "id": "4aad3000",
   "metadata": {},
   "outputs": [],
   "source": [
    "# save to json\n",
    "json_str <- '['\n",
    "for(i in 1:9){\n",
    "    json_str <- paste0(json_str, '{\"name\": \"',df[i,4], '\", \"value\": \"',df[i,2],'\", \"upper\": \"', df[i,1],'\", \"lower\": \"',df[i,3],'\"},')\n",
    "}\n",
    "json_str <- substr(json_str,1,nchar(json_str)-1)\n",
    "json_str <- paste0(json_str,']')"
   ]
  },
  {
   "cell_type": "code",
   "execution_count": 18,
   "id": "f6c591b2",
   "metadata": {},
   "outputs": [],
   "source": [
    "writeLines(json_str, paste0(\"/stor/public/chenyx/HHCAd/ForWebsite220412/BarPlot_A/Fetal/IVS.json\"))"
   ]
  },
  {
   "cell_type": "markdown",
   "id": "9b5a8afd",
   "metadata": {},
   "source": [
    "### RV"
   ]
  },
  {
   "cell_type": "code",
   "execution_count": 19,
   "id": "dceef26e",
   "metadata": {},
   "outputs": [],
   "source": [
    "df <- read.csv(\"~/HHCA_d/Code4Paper/ForWebsite/1-2-2/Fetal//RV.csv\",row.names = 1)"
   ]
  },
  {
   "cell_type": "code",
   "execution_count": 20,
   "id": "a82b7388",
   "metadata": {},
   "outputs": [],
   "source": [
    "df <- read.csv(\"~/HHCA_d/Code4Paper/ForWebsite/1-2-2/Adult/Heart.csv\",row.names = 1)\n",
    "rownames(df) <- c(\"Endothelial cell\", \"Cardiomyocyte cell\",\"Myeloid cell\", \"Fibroblast\", \"Lymphoid cell\", \"Smooth muscle cell\", \"Neuron\", \"Pericyte\", \"Adipocyte\")\n",
    "df$cell_type <- row.names(df)"
   ]
  },
  {
   "cell_type": "code",
   "execution_count": 21,
   "id": "1b7f06fd",
   "metadata": {},
   "outputs": [
    {
     "data": {
      "text/html": [
       "<table class=\"dataframe\">\n",
       "<caption>A data.frame: 9 × 4</caption>\n",
       "<thead>\n",
       "\t<tr><th></th><th scope=col>model.fit.Upper</th><th scope=col>model.fit.Estimate</th><th scope=col>model.fit.Lower</th><th scope=col>cell_type</th></tr>\n",
       "\t<tr><th></th><th scope=col>&lt;dbl&gt;</th><th scope=col>&lt;dbl&gt;</th><th scope=col>&lt;dbl&gt;</th><th scope=col>&lt;chr&gt;</th></tr>\n",
       "</thead>\n",
       "<tbody>\n",
       "\t<tr><th scope=row>Endothelial cell</th><td>0.2280</td><td>0.2180</td><td>0.2080</td><td>Endothelial cell  </td></tr>\n",
       "\t<tr><th scope=row>Cardiomyocyte cell</th><td>0.3290</td><td>0.3220</td><td>0.3150</td><td>Cardiomyocyte cell</td></tr>\n",
       "\t<tr><th scope=row>Myeloid cell</th><td>0.0611</td><td>0.0561</td><td>0.0511</td><td>Myeloid cell      </td></tr>\n",
       "\t<tr><th scope=row>Fibroblast</th><td>0.1500</td><td>0.1420</td><td>0.1340</td><td>Fibroblast        </td></tr>\n",
       "\t<tr><th scope=row>Lymphoid cell</th><td>0.0485</td><td>0.0429</td><td>0.0373</td><td>Lymphoid cell     </td></tr>\n",
       "\t<tr><th scope=row>Smooth muscle cell</th><td>0.0468</td><td>0.0439</td><td>0.0410</td><td>Smooth muscle cell</td></tr>\n",
       "\t<tr><th scope=row>Neuron</th><td>0.0148</td><td>0.0136</td><td>0.0123</td><td>Neuron            </td></tr>\n",
       "\t<tr><th scope=row>Pericyte</th><td>0.1510</td><td>0.1460</td><td>0.1420</td><td>Pericyte          </td></tr>\n",
       "\t<tr><th scope=row>Adipocyte</th><td>0.0187</td><td>0.0151</td><td>0.0115</td><td>Adipocyte         </td></tr>\n",
       "</tbody>\n",
       "</table>\n"
      ],
      "text/latex": [
       "A data.frame: 9 × 4\n",
       "\\begin{tabular}{r|llll}\n",
       "  & model.fit.Upper & model.fit.Estimate & model.fit.Lower & cell\\_type\\\\\n",
       "  & <dbl> & <dbl> & <dbl> & <chr>\\\\\n",
       "\\hline\n",
       "\tEndothelial cell & 0.2280 & 0.2180 & 0.2080 & Endothelial cell  \\\\\n",
       "\tCardiomyocyte cell & 0.3290 & 0.3220 & 0.3150 & Cardiomyocyte cell\\\\\n",
       "\tMyeloid cell & 0.0611 & 0.0561 & 0.0511 & Myeloid cell      \\\\\n",
       "\tFibroblast & 0.1500 & 0.1420 & 0.1340 & Fibroblast        \\\\\n",
       "\tLymphoid cell & 0.0485 & 0.0429 & 0.0373 & Lymphoid cell     \\\\\n",
       "\tSmooth muscle cell & 0.0468 & 0.0439 & 0.0410 & Smooth muscle cell\\\\\n",
       "\tNeuron & 0.0148 & 0.0136 & 0.0123 & Neuron            \\\\\n",
       "\tPericyte & 0.1510 & 0.1460 & 0.1420 & Pericyte          \\\\\n",
       "\tAdipocyte & 0.0187 & 0.0151 & 0.0115 & Adipocyte         \\\\\n",
       "\\end{tabular}\n"
      ],
      "text/markdown": [
       "\n",
       "A data.frame: 9 × 4\n",
       "\n",
       "| <!--/--> | model.fit.Upper &lt;dbl&gt; | model.fit.Estimate &lt;dbl&gt; | model.fit.Lower &lt;dbl&gt; | cell_type &lt;chr&gt; |\n",
       "|---|---|---|---|---|\n",
       "| Endothelial cell | 0.2280 | 0.2180 | 0.2080 | Endothelial cell   |\n",
       "| Cardiomyocyte cell | 0.3290 | 0.3220 | 0.3150 | Cardiomyocyte cell |\n",
       "| Myeloid cell | 0.0611 | 0.0561 | 0.0511 | Myeloid cell       |\n",
       "| Fibroblast | 0.1500 | 0.1420 | 0.1340 | Fibroblast         |\n",
       "| Lymphoid cell | 0.0485 | 0.0429 | 0.0373 | Lymphoid cell      |\n",
       "| Smooth muscle cell | 0.0468 | 0.0439 | 0.0410 | Smooth muscle cell |\n",
       "| Neuron | 0.0148 | 0.0136 | 0.0123 | Neuron             |\n",
       "| Pericyte | 0.1510 | 0.1460 | 0.1420 | Pericyte           |\n",
       "| Adipocyte | 0.0187 | 0.0151 | 0.0115 | Adipocyte          |\n",
       "\n"
      ],
      "text/plain": [
       "                   model.fit.Upper model.fit.Estimate model.fit.Lower\n",
       "Endothelial cell   0.2280          0.2180             0.2080         \n",
       "Cardiomyocyte cell 0.3290          0.3220             0.3150         \n",
       "Myeloid cell       0.0611          0.0561             0.0511         \n",
       "Fibroblast         0.1500          0.1420             0.1340         \n",
       "Lymphoid cell      0.0485          0.0429             0.0373         \n",
       "Smooth muscle cell 0.0468          0.0439             0.0410         \n",
       "Neuron             0.0148          0.0136             0.0123         \n",
       "Pericyte           0.1510          0.1460             0.1420         \n",
       "Adipocyte          0.0187          0.0151             0.0115         \n",
       "                   cell_type         \n",
       "Endothelial cell   Endothelial cell  \n",
       "Cardiomyocyte cell Cardiomyocyte cell\n",
       "Myeloid cell       Myeloid cell      \n",
       "Fibroblast         Fibroblast        \n",
       "Lymphoid cell      Lymphoid cell     \n",
       "Smooth muscle cell Smooth muscle cell\n",
       "Neuron             Neuron            \n",
       "Pericyte           Pericyte          \n",
       "Adipocyte          Adipocyte         "
      ]
     },
     "metadata": {},
     "output_type": "display_data"
    }
   ],
   "source": [
    "df "
   ]
  },
  {
   "cell_type": "code",
   "execution_count": 22,
   "id": "1497d276",
   "metadata": {},
   "outputs": [],
   "source": [
    "# save to json\n",
    "json_str <- '['\n",
    "for(i in 1:9){\n",
    "    json_str <- paste0(json_str, '{\"name\": \"',df[i,4], '\", \"value\": \"',df[i,2],'\", \"upper\": \"', df[i,1],'\", \"lower\": \"',df[i,3],'\"},')\n",
    "}\n",
    "json_str <- substr(json_str,1,nchar(json_str)-1)\n",
    "json_str <- paste0(json_str,']')"
   ]
  },
  {
   "cell_type": "code",
   "execution_count": 23,
   "id": "97387a05",
   "metadata": {},
   "outputs": [],
   "source": [
    "writeLines(json_str, paste0(\"/stor/public/chenyx/HHCAd/ForWebsite220412/BarPlot_A/Fetal/RV.json\"))"
   ]
  },
  {
   "cell_type": "markdown",
   "id": "adf83d78",
   "metadata": {},
   "source": [
    "### LA"
   ]
  },
  {
   "cell_type": "code",
   "execution_count": 24,
   "id": "ccfd902e",
   "metadata": {},
   "outputs": [],
   "source": [
    "df <- read.csv(\"~/HHCA_d/Code4Paper/ForWebsite/1-2-2/Fetal//LA.csv\",row.names = 1)"
   ]
  },
  {
   "cell_type": "code",
   "execution_count": 25,
   "id": "7a174788",
   "metadata": {},
   "outputs": [],
   "source": [
    "df <- read.csv(\"~/HHCA_d/Code4Paper/ForWebsite/1-2-2/Adult/Heart.csv\",row.names = 1)\n",
    "rownames(df) <- c(\"Endothelial cell\", \"Cardiomyocyte cell\",\"Myeloid cell\", \"Fibroblast\", \"Lymphoid cell\", \"Smooth muscle cell\", \"Neuron\", \"Pericyte\", \"Adipocyte\")\n",
    "df$cell_type <- row.names(df)"
   ]
  },
  {
   "cell_type": "code",
   "execution_count": 26,
   "id": "740b15ab",
   "metadata": {},
   "outputs": [
    {
     "data": {
      "text/html": [
       "<table class=\"dataframe\">\n",
       "<caption>A data.frame: 9 × 4</caption>\n",
       "<thead>\n",
       "\t<tr><th></th><th scope=col>model.fit.Upper</th><th scope=col>model.fit.Estimate</th><th scope=col>model.fit.Lower</th><th scope=col>cell_type</th></tr>\n",
       "\t<tr><th></th><th scope=col>&lt;dbl&gt;</th><th scope=col>&lt;dbl&gt;</th><th scope=col>&lt;dbl&gt;</th><th scope=col>&lt;chr&gt;</th></tr>\n",
       "</thead>\n",
       "<tbody>\n",
       "\t<tr><th scope=row>Endothelial cell</th><td>0.2280</td><td>0.2180</td><td>0.2080</td><td>Endothelial cell  </td></tr>\n",
       "\t<tr><th scope=row>Cardiomyocyte cell</th><td>0.3290</td><td>0.3220</td><td>0.3150</td><td>Cardiomyocyte cell</td></tr>\n",
       "\t<tr><th scope=row>Myeloid cell</th><td>0.0611</td><td>0.0561</td><td>0.0511</td><td>Myeloid cell      </td></tr>\n",
       "\t<tr><th scope=row>Fibroblast</th><td>0.1500</td><td>0.1420</td><td>0.1340</td><td>Fibroblast        </td></tr>\n",
       "\t<tr><th scope=row>Lymphoid cell</th><td>0.0485</td><td>0.0429</td><td>0.0373</td><td>Lymphoid cell     </td></tr>\n",
       "\t<tr><th scope=row>Smooth muscle cell</th><td>0.0468</td><td>0.0439</td><td>0.0410</td><td>Smooth muscle cell</td></tr>\n",
       "\t<tr><th scope=row>Neuron</th><td>0.0148</td><td>0.0136</td><td>0.0123</td><td>Neuron            </td></tr>\n",
       "\t<tr><th scope=row>Pericyte</th><td>0.1510</td><td>0.1460</td><td>0.1420</td><td>Pericyte          </td></tr>\n",
       "\t<tr><th scope=row>Adipocyte</th><td>0.0187</td><td>0.0151</td><td>0.0115</td><td>Adipocyte         </td></tr>\n",
       "</tbody>\n",
       "</table>\n"
      ],
      "text/latex": [
       "A data.frame: 9 × 4\n",
       "\\begin{tabular}{r|llll}\n",
       "  & model.fit.Upper & model.fit.Estimate & model.fit.Lower & cell\\_type\\\\\n",
       "  & <dbl> & <dbl> & <dbl> & <chr>\\\\\n",
       "\\hline\n",
       "\tEndothelial cell & 0.2280 & 0.2180 & 0.2080 & Endothelial cell  \\\\\n",
       "\tCardiomyocyte cell & 0.3290 & 0.3220 & 0.3150 & Cardiomyocyte cell\\\\\n",
       "\tMyeloid cell & 0.0611 & 0.0561 & 0.0511 & Myeloid cell      \\\\\n",
       "\tFibroblast & 0.1500 & 0.1420 & 0.1340 & Fibroblast        \\\\\n",
       "\tLymphoid cell & 0.0485 & 0.0429 & 0.0373 & Lymphoid cell     \\\\\n",
       "\tSmooth muscle cell & 0.0468 & 0.0439 & 0.0410 & Smooth muscle cell\\\\\n",
       "\tNeuron & 0.0148 & 0.0136 & 0.0123 & Neuron            \\\\\n",
       "\tPericyte & 0.1510 & 0.1460 & 0.1420 & Pericyte          \\\\\n",
       "\tAdipocyte & 0.0187 & 0.0151 & 0.0115 & Adipocyte         \\\\\n",
       "\\end{tabular}\n"
      ],
      "text/markdown": [
       "\n",
       "A data.frame: 9 × 4\n",
       "\n",
       "| <!--/--> | model.fit.Upper &lt;dbl&gt; | model.fit.Estimate &lt;dbl&gt; | model.fit.Lower &lt;dbl&gt; | cell_type &lt;chr&gt; |\n",
       "|---|---|---|---|---|\n",
       "| Endothelial cell | 0.2280 | 0.2180 | 0.2080 | Endothelial cell   |\n",
       "| Cardiomyocyte cell | 0.3290 | 0.3220 | 0.3150 | Cardiomyocyte cell |\n",
       "| Myeloid cell | 0.0611 | 0.0561 | 0.0511 | Myeloid cell       |\n",
       "| Fibroblast | 0.1500 | 0.1420 | 0.1340 | Fibroblast         |\n",
       "| Lymphoid cell | 0.0485 | 0.0429 | 0.0373 | Lymphoid cell      |\n",
       "| Smooth muscle cell | 0.0468 | 0.0439 | 0.0410 | Smooth muscle cell |\n",
       "| Neuron | 0.0148 | 0.0136 | 0.0123 | Neuron             |\n",
       "| Pericyte | 0.1510 | 0.1460 | 0.1420 | Pericyte           |\n",
       "| Adipocyte | 0.0187 | 0.0151 | 0.0115 | Adipocyte          |\n",
       "\n"
      ],
      "text/plain": [
       "                   model.fit.Upper model.fit.Estimate model.fit.Lower\n",
       "Endothelial cell   0.2280          0.2180             0.2080         \n",
       "Cardiomyocyte cell 0.3290          0.3220             0.3150         \n",
       "Myeloid cell       0.0611          0.0561             0.0511         \n",
       "Fibroblast         0.1500          0.1420             0.1340         \n",
       "Lymphoid cell      0.0485          0.0429             0.0373         \n",
       "Smooth muscle cell 0.0468          0.0439             0.0410         \n",
       "Neuron             0.0148          0.0136             0.0123         \n",
       "Pericyte           0.1510          0.1460             0.1420         \n",
       "Adipocyte          0.0187          0.0151             0.0115         \n",
       "                   cell_type         \n",
       "Endothelial cell   Endothelial cell  \n",
       "Cardiomyocyte cell Cardiomyocyte cell\n",
       "Myeloid cell       Myeloid cell      \n",
       "Fibroblast         Fibroblast        \n",
       "Lymphoid cell      Lymphoid cell     \n",
       "Smooth muscle cell Smooth muscle cell\n",
       "Neuron             Neuron            \n",
       "Pericyte           Pericyte          \n",
       "Adipocyte          Adipocyte         "
      ]
     },
     "metadata": {},
     "output_type": "display_data"
    }
   ],
   "source": [
    "df "
   ]
  },
  {
   "cell_type": "code",
   "execution_count": 27,
   "id": "b58455f2",
   "metadata": {},
   "outputs": [],
   "source": [
    "# save to json\n",
    "json_str <- '['\n",
    "for(i in 1:9){\n",
    "    json_str <- paste0(json_str, '{\"name\": \"',df[i,4], '\", \"value\": \"',df[i,2],'\", \"upper\": \"', df[i,1],'\", \"lower\": \"',df[i,3],'\"},')\n",
    "}\n",
    "json_str <- substr(json_str,1,nchar(json_str)-1)\n",
    "json_str <- paste0(json_str,']')"
   ]
  },
  {
   "cell_type": "code",
   "execution_count": 28,
   "id": "23c6cef7",
   "metadata": {},
   "outputs": [],
   "source": [
    "writeLines(json_str, paste0(\"/stor/public/chenyx/HHCAd/ForWebsite220412/BarPlot_A/Fetal/LA.json\"))"
   ]
  },
  {
   "cell_type": "markdown",
   "id": "cd67a80e",
   "metadata": {},
   "source": [
    "### RA"
   ]
  },
  {
   "cell_type": "code",
   "execution_count": 29,
   "id": "8f614b85",
   "metadata": {},
   "outputs": [],
   "source": [
    "df <- read.csv(\"~/HHCA_d/Code4Paper/ForWebsite/1-2-2/Fetal//RA.csv\",row.names = 1)"
   ]
  },
  {
   "cell_type": "code",
   "execution_count": 30,
   "id": "0979cef5",
   "metadata": {},
   "outputs": [],
   "source": [
    "df <- read.csv(\"~/HHCA_d/Code4Paper/ForWebsite/1-2-2/Adult/Heart.csv\",row.names = 1)\n",
    "rownames(df) <- c(\"Endothelial cell\", \"Cardiomyocyte cell\",\"Myeloid cell\", \"Fibroblast\", \"Lymphoid cell\", \"Smooth muscle cell\", \"Neuron\", \"Pericyte\", \"Adipocyte\")\n",
    "df$cell_type <- row.names(df)"
   ]
  },
  {
   "cell_type": "code",
   "execution_count": 31,
   "id": "7f457edc",
   "metadata": {},
   "outputs": [
    {
     "data": {
      "text/html": [
       "<table class=\"dataframe\">\n",
       "<caption>A data.frame: 9 × 4</caption>\n",
       "<thead>\n",
       "\t<tr><th></th><th scope=col>model.fit.Upper</th><th scope=col>model.fit.Estimate</th><th scope=col>model.fit.Lower</th><th scope=col>cell_type</th></tr>\n",
       "\t<tr><th></th><th scope=col>&lt;dbl&gt;</th><th scope=col>&lt;dbl&gt;</th><th scope=col>&lt;dbl&gt;</th><th scope=col>&lt;chr&gt;</th></tr>\n",
       "</thead>\n",
       "<tbody>\n",
       "\t<tr><th scope=row>Endothelial cell</th><td>0.2280</td><td>0.2180</td><td>0.2080</td><td>Endothelial cell  </td></tr>\n",
       "\t<tr><th scope=row>Cardiomyocyte cell</th><td>0.3290</td><td>0.3220</td><td>0.3150</td><td>Cardiomyocyte cell</td></tr>\n",
       "\t<tr><th scope=row>Myeloid cell</th><td>0.0611</td><td>0.0561</td><td>0.0511</td><td>Myeloid cell      </td></tr>\n",
       "\t<tr><th scope=row>Fibroblast</th><td>0.1500</td><td>0.1420</td><td>0.1340</td><td>Fibroblast        </td></tr>\n",
       "\t<tr><th scope=row>Lymphoid cell</th><td>0.0485</td><td>0.0429</td><td>0.0373</td><td>Lymphoid cell     </td></tr>\n",
       "\t<tr><th scope=row>Smooth muscle cell</th><td>0.0468</td><td>0.0439</td><td>0.0410</td><td>Smooth muscle cell</td></tr>\n",
       "\t<tr><th scope=row>Neuron</th><td>0.0148</td><td>0.0136</td><td>0.0123</td><td>Neuron            </td></tr>\n",
       "\t<tr><th scope=row>Pericyte</th><td>0.1510</td><td>0.1460</td><td>0.1420</td><td>Pericyte          </td></tr>\n",
       "\t<tr><th scope=row>Adipocyte</th><td>0.0187</td><td>0.0151</td><td>0.0115</td><td>Adipocyte         </td></tr>\n",
       "</tbody>\n",
       "</table>\n"
      ],
      "text/latex": [
       "A data.frame: 9 × 4\n",
       "\\begin{tabular}{r|llll}\n",
       "  & model.fit.Upper & model.fit.Estimate & model.fit.Lower & cell\\_type\\\\\n",
       "  & <dbl> & <dbl> & <dbl> & <chr>\\\\\n",
       "\\hline\n",
       "\tEndothelial cell & 0.2280 & 0.2180 & 0.2080 & Endothelial cell  \\\\\n",
       "\tCardiomyocyte cell & 0.3290 & 0.3220 & 0.3150 & Cardiomyocyte cell\\\\\n",
       "\tMyeloid cell & 0.0611 & 0.0561 & 0.0511 & Myeloid cell      \\\\\n",
       "\tFibroblast & 0.1500 & 0.1420 & 0.1340 & Fibroblast        \\\\\n",
       "\tLymphoid cell & 0.0485 & 0.0429 & 0.0373 & Lymphoid cell     \\\\\n",
       "\tSmooth muscle cell & 0.0468 & 0.0439 & 0.0410 & Smooth muscle cell\\\\\n",
       "\tNeuron & 0.0148 & 0.0136 & 0.0123 & Neuron            \\\\\n",
       "\tPericyte & 0.1510 & 0.1460 & 0.1420 & Pericyte          \\\\\n",
       "\tAdipocyte & 0.0187 & 0.0151 & 0.0115 & Adipocyte         \\\\\n",
       "\\end{tabular}\n"
      ],
      "text/markdown": [
       "\n",
       "A data.frame: 9 × 4\n",
       "\n",
       "| <!--/--> | model.fit.Upper &lt;dbl&gt; | model.fit.Estimate &lt;dbl&gt; | model.fit.Lower &lt;dbl&gt; | cell_type &lt;chr&gt; |\n",
       "|---|---|---|---|---|\n",
       "| Endothelial cell | 0.2280 | 0.2180 | 0.2080 | Endothelial cell   |\n",
       "| Cardiomyocyte cell | 0.3290 | 0.3220 | 0.3150 | Cardiomyocyte cell |\n",
       "| Myeloid cell | 0.0611 | 0.0561 | 0.0511 | Myeloid cell       |\n",
       "| Fibroblast | 0.1500 | 0.1420 | 0.1340 | Fibroblast         |\n",
       "| Lymphoid cell | 0.0485 | 0.0429 | 0.0373 | Lymphoid cell      |\n",
       "| Smooth muscle cell | 0.0468 | 0.0439 | 0.0410 | Smooth muscle cell |\n",
       "| Neuron | 0.0148 | 0.0136 | 0.0123 | Neuron             |\n",
       "| Pericyte | 0.1510 | 0.1460 | 0.1420 | Pericyte           |\n",
       "| Adipocyte | 0.0187 | 0.0151 | 0.0115 | Adipocyte          |\n",
       "\n"
      ],
      "text/plain": [
       "                   model.fit.Upper model.fit.Estimate model.fit.Lower\n",
       "Endothelial cell   0.2280          0.2180             0.2080         \n",
       "Cardiomyocyte cell 0.3290          0.3220             0.3150         \n",
       "Myeloid cell       0.0611          0.0561             0.0511         \n",
       "Fibroblast         0.1500          0.1420             0.1340         \n",
       "Lymphoid cell      0.0485          0.0429             0.0373         \n",
       "Smooth muscle cell 0.0468          0.0439             0.0410         \n",
       "Neuron             0.0148          0.0136             0.0123         \n",
       "Pericyte           0.1510          0.1460             0.1420         \n",
       "Adipocyte          0.0187          0.0151             0.0115         \n",
       "                   cell_type         \n",
       "Endothelial cell   Endothelial cell  \n",
       "Cardiomyocyte cell Cardiomyocyte cell\n",
       "Myeloid cell       Myeloid cell      \n",
       "Fibroblast         Fibroblast        \n",
       "Lymphoid cell      Lymphoid cell     \n",
       "Smooth muscle cell Smooth muscle cell\n",
       "Neuron             Neuron            \n",
       "Pericyte           Pericyte          \n",
       "Adipocyte          Adipocyte         "
      ]
     },
     "metadata": {},
     "output_type": "display_data"
    }
   ],
   "source": [
    "df "
   ]
  },
  {
   "cell_type": "code",
   "execution_count": 32,
   "id": "fed13e27",
   "metadata": {},
   "outputs": [],
   "source": [
    "# save to json\n",
    "json_str <- '['\n",
    "for(i in 1:9){\n",
    "    json_str <- paste0(json_str, '{\"name\": \"',df[i,4], '\", \"value\": \"',df[i,2],'\", \"upper\": \"', df[i,1],'\", \"lower\": \"',df[i,3],'\"},')\n",
    "}\n",
    "json_str <- substr(json_str,1,nchar(json_str)-1)\n",
    "json_str <- paste0(json_str,']')"
   ]
  },
  {
   "cell_type": "code",
   "execution_count": 33,
   "id": "e82d67ac",
   "metadata": {},
   "outputs": [],
   "source": [
    "writeLines(json_str, paste0(\"/stor/public/chenyx/HHCAd/ForWebsite220412/BarPlot_A/Fetal/RA.json\"))"
   ]
  },
  {
   "cell_type": "markdown",
   "id": "5dd21383",
   "metadata": {},
   "source": [
    "### Ventricle"
   ]
  },
  {
   "cell_type": "code",
   "execution_count": 34,
   "id": "efdf5e4e",
   "metadata": {},
   "outputs": [],
   "source": [
    "df <- read.csv(\"~/HHCA_d/Code4Paper/ForWebsite/1-2-2/Fetal//Ventricle.csv\",row.names = 1)"
   ]
  },
  {
   "cell_type": "code",
   "execution_count": 35,
   "id": "5e6670d6",
   "metadata": {},
   "outputs": [],
   "source": [
    "df <- read.csv(\"~/HHCA_d/Code4Paper/ForWebsite/1-2-2/Adult/Heart.csv\",row.names = 1)\n",
    "rownames(df) <- c(\"Endothelial cell\", \"Cardiomyocyte cell\",\"Myeloid cell\", \"Fibroblast\", \"Lymphoid cell\", \"Smooth muscle cell\", \"Neuron\", \"Pericyte\", \"Adipocyte\")\n",
    "df$cell_type <- row.names(df)"
   ]
  },
  {
   "cell_type": "code",
   "execution_count": 36,
   "id": "dc5e81e1",
   "metadata": {},
   "outputs": [
    {
     "data": {
      "text/html": [
       "<table class=\"dataframe\">\n",
       "<caption>A data.frame: 9 × 4</caption>\n",
       "<thead>\n",
       "\t<tr><th></th><th scope=col>model.fit.Upper</th><th scope=col>model.fit.Estimate</th><th scope=col>model.fit.Lower</th><th scope=col>cell_type</th></tr>\n",
       "\t<tr><th></th><th scope=col>&lt;dbl&gt;</th><th scope=col>&lt;dbl&gt;</th><th scope=col>&lt;dbl&gt;</th><th scope=col>&lt;chr&gt;</th></tr>\n",
       "</thead>\n",
       "<tbody>\n",
       "\t<tr><th scope=row>Endothelial cell</th><td>0.2280</td><td>0.2180</td><td>0.2080</td><td>Endothelial cell  </td></tr>\n",
       "\t<tr><th scope=row>Cardiomyocyte cell</th><td>0.3290</td><td>0.3220</td><td>0.3150</td><td>Cardiomyocyte cell</td></tr>\n",
       "\t<tr><th scope=row>Myeloid cell</th><td>0.0611</td><td>0.0561</td><td>0.0511</td><td>Myeloid cell      </td></tr>\n",
       "\t<tr><th scope=row>Fibroblast</th><td>0.1500</td><td>0.1420</td><td>0.1340</td><td>Fibroblast        </td></tr>\n",
       "\t<tr><th scope=row>Lymphoid cell</th><td>0.0485</td><td>0.0429</td><td>0.0373</td><td>Lymphoid cell     </td></tr>\n",
       "\t<tr><th scope=row>Smooth muscle cell</th><td>0.0468</td><td>0.0439</td><td>0.0410</td><td>Smooth muscle cell</td></tr>\n",
       "\t<tr><th scope=row>Neuron</th><td>0.0148</td><td>0.0136</td><td>0.0123</td><td>Neuron            </td></tr>\n",
       "\t<tr><th scope=row>Pericyte</th><td>0.1510</td><td>0.1460</td><td>0.1420</td><td>Pericyte          </td></tr>\n",
       "\t<tr><th scope=row>Adipocyte</th><td>0.0187</td><td>0.0151</td><td>0.0115</td><td>Adipocyte         </td></tr>\n",
       "</tbody>\n",
       "</table>\n"
      ],
      "text/latex": [
       "A data.frame: 9 × 4\n",
       "\\begin{tabular}{r|llll}\n",
       "  & model.fit.Upper & model.fit.Estimate & model.fit.Lower & cell\\_type\\\\\n",
       "  & <dbl> & <dbl> & <dbl> & <chr>\\\\\n",
       "\\hline\n",
       "\tEndothelial cell & 0.2280 & 0.2180 & 0.2080 & Endothelial cell  \\\\\n",
       "\tCardiomyocyte cell & 0.3290 & 0.3220 & 0.3150 & Cardiomyocyte cell\\\\\n",
       "\tMyeloid cell & 0.0611 & 0.0561 & 0.0511 & Myeloid cell      \\\\\n",
       "\tFibroblast & 0.1500 & 0.1420 & 0.1340 & Fibroblast        \\\\\n",
       "\tLymphoid cell & 0.0485 & 0.0429 & 0.0373 & Lymphoid cell     \\\\\n",
       "\tSmooth muscle cell & 0.0468 & 0.0439 & 0.0410 & Smooth muscle cell\\\\\n",
       "\tNeuron & 0.0148 & 0.0136 & 0.0123 & Neuron            \\\\\n",
       "\tPericyte & 0.1510 & 0.1460 & 0.1420 & Pericyte          \\\\\n",
       "\tAdipocyte & 0.0187 & 0.0151 & 0.0115 & Adipocyte         \\\\\n",
       "\\end{tabular}\n"
      ],
      "text/markdown": [
       "\n",
       "A data.frame: 9 × 4\n",
       "\n",
       "| <!--/--> | model.fit.Upper &lt;dbl&gt; | model.fit.Estimate &lt;dbl&gt; | model.fit.Lower &lt;dbl&gt; | cell_type &lt;chr&gt; |\n",
       "|---|---|---|---|---|\n",
       "| Endothelial cell | 0.2280 | 0.2180 | 0.2080 | Endothelial cell   |\n",
       "| Cardiomyocyte cell | 0.3290 | 0.3220 | 0.3150 | Cardiomyocyte cell |\n",
       "| Myeloid cell | 0.0611 | 0.0561 | 0.0511 | Myeloid cell       |\n",
       "| Fibroblast | 0.1500 | 0.1420 | 0.1340 | Fibroblast         |\n",
       "| Lymphoid cell | 0.0485 | 0.0429 | 0.0373 | Lymphoid cell      |\n",
       "| Smooth muscle cell | 0.0468 | 0.0439 | 0.0410 | Smooth muscle cell |\n",
       "| Neuron | 0.0148 | 0.0136 | 0.0123 | Neuron             |\n",
       "| Pericyte | 0.1510 | 0.1460 | 0.1420 | Pericyte           |\n",
       "| Adipocyte | 0.0187 | 0.0151 | 0.0115 | Adipocyte          |\n",
       "\n"
      ],
      "text/plain": [
       "                   model.fit.Upper model.fit.Estimate model.fit.Lower\n",
       "Endothelial cell   0.2280          0.2180             0.2080         \n",
       "Cardiomyocyte cell 0.3290          0.3220             0.3150         \n",
       "Myeloid cell       0.0611          0.0561             0.0511         \n",
       "Fibroblast         0.1500          0.1420             0.1340         \n",
       "Lymphoid cell      0.0485          0.0429             0.0373         \n",
       "Smooth muscle cell 0.0468          0.0439             0.0410         \n",
       "Neuron             0.0148          0.0136             0.0123         \n",
       "Pericyte           0.1510          0.1460             0.1420         \n",
       "Adipocyte          0.0187          0.0151             0.0115         \n",
       "                   cell_type         \n",
       "Endothelial cell   Endothelial cell  \n",
       "Cardiomyocyte cell Cardiomyocyte cell\n",
       "Myeloid cell       Myeloid cell      \n",
       "Fibroblast         Fibroblast        \n",
       "Lymphoid cell      Lymphoid cell     \n",
       "Smooth muscle cell Smooth muscle cell\n",
       "Neuron             Neuron            \n",
       "Pericyte           Pericyte          \n",
       "Adipocyte          Adipocyte         "
      ]
     },
     "metadata": {},
     "output_type": "display_data"
    }
   ],
   "source": [
    "df "
   ]
  },
  {
   "cell_type": "code",
   "execution_count": 37,
   "id": "e24727be",
   "metadata": {},
   "outputs": [],
   "source": [
    "# save to json\n",
    "json_str <- '['\n",
    "for(i in 1:9){\n",
    "    json_str <- paste0(json_str, '{\"name\": \"',df[i,4], '\", \"value\": \"',df[i,2],'\", \"upper\": \"', df[i,1],'\", \"lower\": \"',df[i,3],'\"},')\n",
    "}\n",
    "json_str <- substr(json_str,1,nchar(json_str)-1)\n",
    "json_str <- paste0(json_str,']')"
   ]
  },
  {
   "cell_type": "code",
   "execution_count": 38,
   "id": "3b95d732",
   "metadata": {},
   "outputs": [],
   "source": [
    "writeLines(json_str, paste0(\"/stor/public/chenyx/HHCAd/ForWebsite220412/BarPlot_A/Fetal/Ventricle.json\"))"
   ]
  },
  {
   "cell_type": "markdown",
   "id": "5c5278af",
   "metadata": {},
   "source": [
    "### Atria"
   ]
  },
  {
   "cell_type": "code",
   "execution_count": 39,
   "id": "af1715c8",
   "metadata": {},
   "outputs": [],
   "source": [
    "df <- read.csv(\"~/HHCA_d/Code4Paper/ForWebsite/1-2-2/Fetal//Atria.csv\",row.names = 1)"
   ]
  },
  {
   "cell_type": "code",
   "execution_count": 40,
   "id": "c95c6907",
   "metadata": {},
   "outputs": [],
   "source": [
    "df <- read.csv(\"~/HHCA_d/Code4Paper/ForWebsite/1-2-2/Adult/Heart.csv\",row.names = 1)\n",
    "rownames(df) <- c(\"Endothelial cell\", \"Cardiomyocyte cell\",\"Myeloid cell\", \"Fibroblast\", \"Lymphoid cell\", \"Smooth muscle cell\", \"Neuron\", \"Pericyte\", \"Adipocyte\")\n",
    "df$cell_type <- row.names(df)"
   ]
  },
  {
   "cell_type": "code",
   "execution_count": 41,
   "id": "94c7ea0b",
   "metadata": {},
   "outputs": [
    {
     "data": {
      "text/html": [
       "<table class=\"dataframe\">\n",
       "<caption>A data.frame: 9 × 4</caption>\n",
       "<thead>\n",
       "\t<tr><th></th><th scope=col>model.fit.Upper</th><th scope=col>model.fit.Estimate</th><th scope=col>model.fit.Lower</th><th scope=col>cell_type</th></tr>\n",
       "\t<tr><th></th><th scope=col>&lt;dbl&gt;</th><th scope=col>&lt;dbl&gt;</th><th scope=col>&lt;dbl&gt;</th><th scope=col>&lt;chr&gt;</th></tr>\n",
       "</thead>\n",
       "<tbody>\n",
       "\t<tr><th scope=row>Endothelial cell</th><td>0.2280</td><td>0.2180</td><td>0.2080</td><td>Endothelial cell  </td></tr>\n",
       "\t<tr><th scope=row>Cardiomyocyte cell</th><td>0.3290</td><td>0.3220</td><td>0.3150</td><td>Cardiomyocyte cell</td></tr>\n",
       "\t<tr><th scope=row>Myeloid cell</th><td>0.0611</td><td>0.0561</td><td>0.0511</td><td>Myeloid cell      </td></tr>\n",
       "\t<tr><th scope=row>Fibroblast</th><td>0.1500</td><td>0.1420</td><td>0.1340</td><td>Fibroblast        </td></tr>\n",
       "\t<tr><th scope=row>Lymphoid cell</th><td>0.0485</td><td>0.0429</td><td>0.0373</td><td>Lymphoid cell     </td></tr>\n",
       "\t<tr><th scope=row>Smooth muscle cell</th><td>0.0468</td><td>0.0439</td><td>0.0410</td><td>Smooth muscle cell</td></tr>\n",
       "\t<tr><th scope=row>Neuron</th><td>0.0148</td><td>0.0136</td><td>0.0123</td><td>Neuron            </td></tr>\n",
       "\t<tr><th scope=row>Pericyte</th><td>0.1510</td><td>0.1460</td><td>0.1420</td><td>Pericyte          </td></tr>\n",
       "\t<tr><th scope=row>Adipocyte</th><td>0.0187</td><td>0.0151</td><td>0.0115</td><td>Adipocyte         </td></tr>\n",
       "</tbody>\n",
       "</table>\n"
      ],
      "text/latex": [
       "A data.frame: 9 × 4\n",
       "\\begin{tabular}{r|llll}\n",
       "  & model.fit.Upper & model.fit.Estimate & model.fit.Lower & cell\\_type\\\\\n",
       "  & <dbl> & <dbl> & <dbl> & <chr>\\\\\n",
       "\\hline\n",
       "\tEndothelial cell & 0.2280 & 0.2180 & 0.2080 & Endothelial cell  \\\\\n",
       "\tCardiomyocyte cell & 0.3290 & 0.3220 & 0.3150 & Cardiomyocyte cell\\\\\n",
       "\tMyeloid cell & 0.0611 & 0.0561 & 0.0511 & Myeloid cell      \\\\\n",
       "\tFibroblast & 0.1500 & 0.1420 & 0.1340 & Fibroblast        \\\\\n",
       "\tLymphoid cell & 0.0485 & 0.0429 & 0.0373 & Lymphoid cell     \\\\\n",
       "\tSmooth muscle cell & 0.0468 & 0.0439 & 0.0410 & Smooth muscle cell\\\\\n",
       "\tNeuron & 0.0148 & 0.0136 & 0.0123 & Neuron            \\\\\n",
       "\tPericyte & 0.1510 & 0.1460 & 0.1420 & Pericyte          \\\\\n",
       "\tAdipocyte & 0.0187 & 0.0151 & 0.0115 & Adipocyte         \\\\\n",
       "\\end{tabular}\n"
      ],
      "text/markdown": [
       "\n",
       "A data.frame: 9 × 4\n",
       "\n",
       "| <!--/--> | model.fit.Upper &lt;dbl&gt; | model.fit.Estimate &lt;dbl&gt; | model.fit.Lower &lt;dbl&gt; | cell_type &lt;chr&gt; |\n",
       "|---|---|---|---|---|\n",
       "| Endothelial cell | 0.2280 | 0.2180 | 0.2080 | Endothelial cell   |\n",
       "| Cardiomyocyte cell | 0.3290 | 0.3220 | 0.3150 | Cardiomyocyte cell |\n",
       "| Myeloid cell | 0.0611 | 0.0561 | 0.0511 | Myeloid cell       |\n",
       "| Fibroblast | 0.1500 | 0.1420 | 0.1340 | Fibroblast         |\n",
       "| Lymphoid cell | 0.0485 | 0.0429 | 0.0373 | Lymphoid cell      |\n",
       "| Smooth muscle cell | 0.0468 | 0.0439 | 0.0410 | Smooth muscle cell |\n",
       "| Neuron | 0.0148 | 0.0136 | 0.0123 | Neuron             |\n",
       "| Pericyte | 0.1510 | 0.1460 | 0.1420 | Pericyte           |\n",
       "| Adipocyte | 0.0187 | 0.0151 | 0.0115 | Adipocyte          |\n",
       "\n"
      ],
      "text/plain": [
       "                   model.fit.Upper model.fit.Estimate model.fit.Lower\n",
       "Endothelial cell   0.2280          0.2180             0.2080         \n",
       "Cardiomyocyte cell 0.3290          0.3220             0.3150         \n",
       "Myeloid cell       0.0611          0.0561             0.0511         \n",
       "Fibroblast         0.1500          0.1420             0.1340         \n",
       "Lymphoid cell      0.0485          0.0429             0.0373         \n",
       "Smooth muscle cell 0.0468          0.0439             0.0410         \n",
       "Neuron             0.0148          0.0136             0.0123         \n",
       "Pericyte           0.1510          0.1460             0.1420         \n",
       "Adipocyte          0.0187          0.0151             0.0115         \n",
       "                   cell_type         \n",
       "Endothelial cell   Endothelial cell  \n",
       "Cardiomyocyte cell Cardiomyocyte cell\n",
       "Myeloid cell       Myeloid cell      \n",
       "Fibroblast         Fibroblast        \n",
       "Lymphoid cell      Lymphoid cell     \n",
       "Smooth muscle cell Smooth muscle cell\n",
       "Neuron             Neuron            \n",
       "Pericyte           Pericyte          \n",
       "Adipocyte          Adipocyte         "
      ]
     },
     "metadata": {},
     "output_type": "display_data"
    }
   ],
   "source": [
    "df "
   ]
  },
  {
   "cell_type": "code",
   "execution_count": 42,
   "id": "71bbbe24",
   "metadata": {},
   "outputs": [],
   "source": [
    "# save to json\n",
    "json_str <- '['\n",
    "for(i in 1:9){\n",
    "    json_str <- paste0(json_str, '{\"name\": \"',df[i,4], '\", \"value\": \"',df[i,2],'\", \"upper\": \"', df[i,1],'\", \"lower\": \"',df[i,3],'\"},')\n",
    "}\n",
    "json_str <- substr(json_str,1,nchar(json_str)-1)\n",
    "json_str <- paste0(json_str,']')"
   ]
  },
  {
   "cell_type": "code",
   "execution_count": 43,
   "id": "2e3a7ff9",
   "metadata": {},
   "outputs": [],
   "source": [
    "writeLines(json_str, paste0(\"/stor/public/chenyx/HHCAd/ForWebsite220412/BarPlot_A/Fetal/Atrium.json\"))"
   ]
  },
  {
   "cell_type": "markdown",
   "id": "cf7ea01a",
   "metadata": {},
   "source": [
    "### Valve"
   ]
  },
  {
   "cell_type": "code",
   "execution_count": 44,
   "id": "7cd79654",
   "metadata": {},
   "outputs": [],
   "source": [
    "df <- read.csv(\"~/HHCA_d/Code4Paper/ForWebsite/1-2-2/Fetal//Valve.csv\",row.names = 1)"
   ]
  },
  {
   "cell_type": "code",
   "execution_count": 45,
   "id": "a1b6d910",
   "metadata": {},
   "outputs": [],
   "source": [
    "df <- read.csv(\"~/HHCA_d/Code4Paper/ForWebsite/1-2-2/Adult/Heart.csv\",row.names = 1)\n",
    "rownames(df) <- c(\"Endothelial cell\", \"Cardiomyocyte cell\",\"Myeloid cell\", \"Fibroblast\", \"Lymphoid cell\", \"Smooth muscle cell\", \"Neuron\", \"Pericyte\", \"Adipocyte\")\n",
    "df$cell_type <- row.names(df)"
   ]
  },
  {
   "cell_type": "code",
   "execution_count": 46,
   "id": "b6e0a7f0",
   "metadata": {},
   "outputs": [
    {
     "data": {
      "text/html": [
       "<table class=\"dataframe\">\n",
       "<caption>A data.frame: 9 × 4</caption>\n",
       "<thead>\n",
       "\t<tr><th></th><th scope=col>model.fit.Upper</th><th scope=col>model.fit.Estimate</th><th scope=col>model.fit.Lower</th><th scope=col>cell_type</th></tr>\n",
       "\t<tr><th></th><th scope=col>&lt;dbl&gt;</th><th scope=col>&lt;dbl&gt;</th><th scope=col>&lt;dbl&gt;</th><th scope=col>&lt;chr&gt;</th></tr>\n",
       "</thead>\n",
       "<tbody>\n",
       "\t<tr><th scope=row>Endothelial cell</th><td>0.2280</td><td>0.2180</td><td>0.2080</td><td>Endothelial cell  </td></tr>\n",
       "\t<tr><th scope=row>Cardiomyocyte cell</th><td>0.3290</td><td>0.3220</td><td>0.3150</td><td>Cardiomyocyte cell</td></tr>\n",
       "\t<tr><th scope=row>Myeloid cell</th><td>0.0611</td><td>0.0561</td><td>0.0511</td><td>Myeloid cell      </td></tr>\n",
       "\t<tr><th scope=row>Fibroblast</th><td>0.1500</td><td>0.1420</td><td>0.1340</td><td>Fibroblast        </td></tr>\n",
       "\t<tr><th scope=row>Lymphoid cell</th><td>0.0485</td><td>0.0429</td><td>0.0373</td><td>Lymphoid cell     </td></tr>\n",
       "\t<tr><th scope=row>Smooth muscle cell</th><td>0.0468</td><td>0.0439</td><td>0.0410</td><td>Smooth muscle cell</td></tr>\n",
       "\t<tr><th scope=row>Neuron</th><td>0.0148</td><td>0.0136</td><td>0.0123</td><td>Neuron            </td></tr>\n",
       "\t<tr><th scope=row>Pericyte</th><td>0.1510</td><td>0.1460</td><td>0.1420</td><td>Pericyte          </td></tr>\n",
       "\t<tr><th scope=row>Adipocyte</th><td>0.0187</td><td>0.0151</td><td>0.0115</td><td>Adipocyte         </td></tr>\n",
       "</tbody>\n",
       "</table>\n"
      ],
      "text/latex": [
       "A data.frame: 9 × 4\n",
       "\\begin{tabular}{r|llll}\n",
       "  & model.fit.Upper & model.fit.Estimate & model.fit.Lower & cell\\_type\\\\\n",
       "  & <dbl> & <dbl> & <dbl> & <chr>\\\\\n",
       "\\hline\n",
       "\tEndothelial cell & 0.2280 & 0.2180 & 0.2080 & Endothelial cell  \\\\\n",
       "\tCardiomyocyte cell & 0.3290 & 0.3220 & 0.3150 & Cardiomyocyte cell\\\\\n",
       "\tMyeloid cell & 0.0611 & 0.0561 & 0.0511 & Myeloid cell      \\\\\n",
       "\tFibroblast & 0.1500 & 0.1420 & 0.1340 & Fibroblast        \\\\\n",
       "\tLymphoid cell & 0.0485 & 0.0429 & 0.0373 & Lymphoid cell     \\\\\n",
       "\tSmooth muscle cell & 0.0468 & 0.0439 & 0.0410 & Smooth muscle cell\\\\\n",
       "\tNeuron & 0.0148 & 0.0136 & 0.0123 & Neuron            \\\\\n",
       "\tPericyte & 0.1510 & 0.1460 & 0.1420 & Pericyte          \\\\\n",
       "\tAdipocyte & 0.0187 & 0.0151 & 0.0115 & Adipocyte         \\\\\n",
       "\\end{tabular}\n"
      ],
      "text/markdown": [
       "\n",
       "A data.frame: 9 × 4\n",
       "\n",
       "| <!--/--> | model.fit.Upper &lt;dbl&gt; | model.fit.Estimate &lt;dbl&gt; | model.fit.Lower &lt;dbl&gt; | cell_type &lt;chr&gt; |\n",
       "|---|---|---|---|---|\n",
       "| Endothelial cell | 0.2280 | 0.2180 | 0.2080 | Endothelial cell   |\n",
       "| Cardiomyocyte cell | 0.3290 | 0.3220 | 0.3150 | Cardiomyocyte cell |\n",
       "| Myeloid cell | 0.0611 | 0.0561 | 0.0511 | Myeloid cell       |\n",
       "| Fibroblast | 0.1500 | 0.1420 | 0.1340 | Fibroblast         |\n",
       "| Lymphoid cell | 0.0485 | 0.0429 | 0.0373 | Lymphoid cell      |\n",
       "| Smooth muscle cell | 0.0468 | 0.0439 | 0.0410 | Smooth muscle cell |\n",
       "| Neuron | 0.0148 | 0.0136 | 0.0123 | Neuron             |\n",
       "| Pericyte | 0.1510 | 0.1460 | 0.1420 | Pericyte           |\n",
       "| Adipocyte | 0.0187 | 0.0151 | 0.0115 | Adipocyte          |\n",
       "\n"
      ],
      "text/plain": [
       "                   model.fit.Upper model.fit.Estimate model.fit.Lower\n",
       "Endothelial cell   0.2280          0.2180             0.2080         \n",
       "Cardiomyocyte cell 0.3290          0.3220             0.3150         \n",
       "Myeloid cell       0.0611          0.0561             0.0511         \n",
       "Fibroblast         0.1500          0.1420             0.1340         \n",
       "Lymphoid cell      0.0485          0.0429             0.0373         \n",
       "Smooth muscle cell 0.0468          0.0439             0.0410         \n",
       "Neuron             0.0148          0.0136             0.0123         \n",
       "Pericyte           0.1510          0.1460             0.1420         \n",
       "Adipocyte          0.0187          0.0151             0.0115         \n",
       "                   cell_type         \n",
       "Endothelial cell   Endothelial cell  \n",
       "Cardiomyocyte cell Cardiomyocyte cell\n",
       "Myeloid cell       Myeloid cell      \n",
       "Fibroblast         Fibroblast        \n",
       "Lymphoid cell      Lymphoid cell     \n",
       "Smooth muscle cell Smooth muscle cell\n",
       "Neuron             Neuron            \n",
       "Pericyte           Pericyte          \n",
       "Adipocyte          Adipocyte         "
      ]
     },
     "metadata": {},
     "output_type": "display_data"
    }
   ],
   "source": [
    "df "
   ]
  },
  {
   "cell_type": "code",
   "execution_count": 47,
   "id": "4be03160",
   "metadata": {},
   "outputs": [],
   "source": [
    "# save to json\n",
    "json_str <- '['\n",
    "for(i in 1:9){\n",
    "    json_str <- paste0(json_str, '{\"name\": \"',df[i,4], '\", \"value\": \"',df[i,2],'\", \"upper\": \"', df[i,1],'\", \"lower\": \"',df[i,3],'\"},')\n",
    "}\n",
    "json_str <- substr(json_str,1,nchar(json_str)-1)\n",
    "json_str <- paste0(json_str,']')"
   ]
  },
  {
   "cell_type": "code",
   "execution_count": 48,
   "id": "c2d21ae0",
   "metadata": {},
   "outputs": [],
   "source": [
    "writeLines(json_str, paste0(\"/stor/public/chenyx/HHCAd/ForWebsite220412/BarPlot_A/Fetal/Valve.json\"))"
   ]
  },
  {
   "cell_type": "markdown",
   "id": "a85526f2",
   "metadata": {},
   "source": [
    "### TV"
   ]
  },
  {
   "cell_type": "code",
   "execution_count": 49,
   "id": "5f609416",
   "metadata": {},
   "outputs": [],
   "source": [
    "df <- read.csv(\"~/HHCA_d/Code4Paper/ForWebsite/1-2-2/Fetal//TV.csv\",row.names = 1)"
   ]
  },
  {
   "cell_type": "code",
   "execution_count": 50,
   "id": "dd3fa7a2",
   "metadata": {},
   "outputs": [],
   "source": [
    "df <- read.csv(\"~/HHCA_d/Code4Paper/ForWebsite/1-2-2/Adult/Heart.csv\",row.names = 1)\n",
    "rownames(df) <- c(\"Endothelial cell\", \"Cardiomyocyte cell\",\"Myeloid cell\", \"Fibroblast\", \"Lymphoid cell\", \"Smooth muscle cell\", \"Neuron\", \"Pericyte\", \"Adipocyte\")\n",
    "df$cell_type <- row.names(df)"
   ]
  },
  {
   "cell_type": "code",
   "execution_count": 51,
   "id": "1e4f06b8",
   "metadata": {},
   "outputs": [
    {
     "data": {
      "text/html": [
       "<table class=\"dataframe\">\n",
       "<caption>A data.frame: 9 × 4</caption>\n",
       "<thead>\n",
       "\t<tr><th></th><th scope=col>model.fit.Upper</th><th scope=col>model.fit.Estimate</th><th scope=col>model.fit.Lower</th><th scope=col>cell_type</th></tr>\n",
       "\t<tr><th></th><th scope=col>&lt;dbl&gt;</th><th scope=col>&lt;dbl&gt;</th><th scope=col>&lt;dbl&gt;</th><th scope=col>&lt;chr&gt;</th></tr>\n",
       "</thead>\n",
       "<tbody>\n",
       "\t<tr><th scope=row>Endothelial cell</th><td>0.2280</td><td>0.2180</td><td>0.2080</td><td>Endothelial cell  </td></tr>\n",
       "\t<tr><th scope=row>Cardiomyocyte cell</th><td>0.3290</td><td>0.3220</td><td>0.3150</td><td>Cardiomyocyte cell</td></tr>\n",
       "\t<tr><th scope=row>Myeloid cell</th><td>0.0611</td><td>0.0561</td><td>0.0511</td><td>Myeloid cell      </td></tr>\n",
       "\t<tr><th scope=row>Fibroblast</th><td>0.1500</td><td>0.1420</td><td>0.1340</td><td>Fibroblast        </td></tr>\n",
       "\t<tr><th scope=row>Lymphoid cell</th><td>0.0485</td><td>0.0429</td><td>0.0373</td><td>Lymphoid cell     </td></tr>\n",
       "\t<tr><th scope=row>Smooth muscle cell</th><td>0.0468</td><td>0.0439</td><td>0.0410</td><td>Smooth muscle cell</td></tr>\n",
       "\t<tr><th scope=row>Neuron</th><td>0.0148</td><td>0.0136</td><td>0.0123</td><td>Neuron            </td></tr>\n",
       "\t<tr><th scope=row>Pericyte</th><td>0.1510</td><td>0.1460</td><td>0.1420</td><td>Pericyte          </td></tr>\n",
       "\t<tr><th scope=row>Adipocyte</th><td>0.0187</td><td>0.0151</td><td>0.0115</td><td>Adipocyte         </td></tr>\n",
       "</tbody>\n",
       "</table>\n"
      ],
      "text/latex": [
       "A data.frame: 9 × 4\n",
       "\\begin{tabular}{r|llll}\n",
       "  & model.fit.Upper & model.fit.Estimate & model.fit.Lower & cell\\_type\\\\\n",
       "  & <dbl> & <dbl> & <dbl> & <chr>\\\\\n",
       "\\hline\n",
       "\tEndothelial cell & 0.2280 & 0.2180 & 0.2080 & Endothelial cell  \\\\\n",
       "\tCardiomyocyte cell & 0.3290 & 0.3220 & 0.3150 & Cardiomyocyte cell\\\\\n",
       "\tMyeloid cell & 0.0611 & 0.0561 & 0.0511 & Myeloid cell      \\\\\n",
       "\tFibroblast & 0.1500 & 0.1420 & 0.1340 & Fibroblast        \\\\\n",
       "\tLymphoid cell & 0.0485 & 0.0429 & 0.0373 & Lymphoid cell     \\\\\n",
       "\tSmooth muscle cell & 0.0468 & 0.0439 & 0.0410 & Smooth muscle cell\\\\\n",
       "\tNeuron & 0.0148 & 0.0136 & 0.0123 & Neuron            \\\\\n",
       "\tPericyte & 0.1510 & 0.1460 & 0.1420 & Pericyte          \\\\\n",
       "\tAdipocyte & 0.0187 & 0.0151 & 0.0115 & Adipocyte         \\\\\n",
       "\\end{tabular}\n"
      ],
      "text/markdown": [
       "\n",
       "A data.frame: 9 × 4\n",
       "\n",
       "| <!--/--> | model.fit.Upper &lt;dbl&gt; | model.fit.Estimate &lt;dbl&gt; | model.fit.Lower &lt;dbl&gt; | cell_type &lt;chr&gt; |\n",
       "|---|---|---|---|---|\n",
       "| Endothelial cell | 0.2280 | 0.2180 | 0.2080 | Endothelial cell   |\n",
       "| Cardiomyocyte cell | 0.3290 | 0.3220 | 0.3150 | Cardiomyocyte cell |\n",
       "| Myeloid cell | 0.0611 | 0.0561 | 0.0511 | Myeloid cell       |\n",
       "| Fibroblast | 0.1500 | 0.1420 | 0.1340 | Fibroblast         |\n",
       "| Lymphoid cell | 0.0485 | 0.0429 | 0.0373 | Lymphoid cell      |\n",
       "| Smooth muscle cell | 0.0468 | 0.0439 | 0.0410 | Smooth muscle cell |\n",
       "| Neuron | 0.0148 | 0.0136 | 0.0123 | Neuron             |\n",
       "| Pericyte | 0.1510 | 0.1460 | 0.1420 | Pericyte           |\n",
       "| Adipocyte | 0.0187 | 0.0151 | 0.0115 | Adipocyte          |\n",
       "\n"
      ],
      "text/plain": [
       "                   model.fit.Upper model.fit.Estimate model.fit.Lower\n",
       "Endothelial cell   0.2280          0.2180             0.2080         \n",
       "Cardiomyocyte cell 0.3290          0.3220             0.3150         \n",
       "Myeloid cell       0.0611          0.0561             0.0511         \n",
       "Fibroblast         0.1500          0.1420             0.1340         \n",
       "Lymphoid cell      0.0485          0.0429             0.0373         \n",
       "Smooth muscle cell 0.0468          0.0439             0.0410         \n",
       "Neuron             0.0148          0.0136             0.0123         \n",
       "Pericyte           0.1510          0.1460             0.1420         \n",
       "Adipocyte          0.0187          0.0151             0.0115         \n",
       "                   cell_type         \n",
       "Endothelial cell   Endothelial cell  \n",
       "Cardiomyocyte cell Cardiomyocyte cell\n",
       "Myeloid cell       Myeloid cell      \n",
       "Fibroblast         Fibroblast        \n",
       "Lymphoid cell      Lymphoid cell     \n",
       "Smooth muscle cell Smooth muscle cell\n",
       "Neuron             Neuron            \n",
       "Pericyte           Pericyte          \n",
       "Adipocyte          Adipocyte         "
      ]
     },
     "metadata": {},
     "output_type": "display_data"
    }
   ],
   "source": [
    "df "
   ]
  },
  {
   "cell_type": "code",
   "execution_count": 52,
   "id": "a963f920",
   "metadata": {},
   "outputs": [],
   "source": [
    "# save to json\n",
    "json_str <- '['\n",
    "for(i in 1:9){\n",
    "    json_str <- paste0(json_str, '{\"name\": \"',df[i,4], '\", \"value\": \"',df[i,2],'\", \"upper\": \"', df[i,1],'\", \"lower\": \"',df[i,3],'\"},')\n",
    "}\n",
    "json_str <- substr(json_str,1,nchar(json_str)-1)\n",
    "json_str <- paste0(json_str,']')"
   ]
  },
  {
   "cell_type": "code",
   "execution_count": 53,
   "id": "a17e7fcb",
   "metadata": {},
   "outputs": [],
   "source": [
    "writeLines(json_str, paste0(\"/stor/public/chenyx/HHCAd/ForWebsite220412/BarPlot_A/Fetal/TV.json\"))"
   ]
  },
  {
   "cell_type": "markdown",
   "id": "91ef3b1d",
   "metadata": {},
   "source": [
    "### MV"
   ]
  },
  {
   "cell_type": "code",
   "execution_count": 54,
   "id": "4ee19b67",
   "metadata": {},
   "outputs": [],
   "source": [
    "df <- read.csv(\"~/HHCA_d/Code4Paper/ForWebsite/1-2-2/Fetal//MV.csv\",row.names = 1)"
   ]
  },
  {
   "cell_type": "code",
   "execution_count": 55,
   "id": "1cc2ca3b",
   "metadata": {},
   "outputs": [],
   "source": [
    "df <- read.csv(\"~/HHCA_d/Code4Paper/ForWebsite/1-2-2/Adult/Heart.csv\",row.names = 1)\n",
    "rownames(df) <- c(\"Endothelial cell\", \"Cardiomyocyte cell\",\"Myeloid cell\", \"Fibroblast\", \"Lymphoid cell\", \"Smooth muscle cell\", \"Neuron\", \"Pericyte\", \"Adipocyte\")\n",
    "df$cell_type <- row.names(df)"
   ]
  },
  {
   "cell_type": "code",
   "execution_count": 56,
   "id": "56e5d366",
   "metadata": {},
   "outputs": [
    {
     "data": {
      "text/html": [
       "<table class=\"dataframe\">\n",
       "<caption>A data.frame: 9 × 4</caption>\n",
       "<thead>\n",
       "\t<tr><th></th><th scope=col>model.fit.Upper</th><th scope=col>model.fit.Estimate</th><th scope=col>model.fit.Lower</th><th scope=col>cell_type</th></tr>\n",
       "\t<tr><th></th><th scope=col>&lt;dbl&gt;</th><th scope=col>&lt;dbl&gt;</th><th scope=col>&lt;dbl&gt;</th><th scope=col>&lt;chr&gt;</th></tr>\n",
       "</thead>\n",
       "<tbody>\n",
       "\t<tr><th scope=row>Endothelial cell</th><td>0.2280</td><td>0.2180</td><td>0.2080</td><td>Endothelial cell  </td></tr>\n",
       "\t<tr><th scope=row>Cardiomyocyte cell</th><td>0.3290</td><td>0.3220</td><td>0.3150</td><td>Cardiomyocyte cell</td></tr>\n",
       "\t<tr><th scope=row>Myeloid cell</th><td>0.0611</td><td>0.0561</td><td>0.0511</td><td>Myeloid cell      </td></tr>\n",
       "\t<tr><th scope=row>Fibroblast</th><td>0.1500</td><td>0.1420</td><td>0.1340</td><td>Fibroblast        </td></tr>\n",
       "\t<tr><th scope=row>Lymphoid cell</th><td>0.0485</td><td>0.0429</td><td>0.0373</td><td>Lymphoid cell     </td></tr>\n",
       "\t<tr><th scope=row>Smooth muscle cell</th><td>0.0468</td><td>0.0439</td><td>0.0410</td><td>Smooth muscle cell</td></tr>\n",
       "\t<tr><th scope=row>Neuron</th><td>0.0148</td><td>0.0136</td><td>0.0123</td><td>Neuron            </td></tr>\n",
       "\t<tr><th scope=row>Pericyte</th><td>0.1510</td><td>0.1460</td><td>0.1420</td><td>Pericyte          </td></tr>\n",
       "\t<tr><th scope=row>Adipocyte</th><td>0.0187</td><td>0.0151</td><td>0.0115</td><td>Adipocyte         </td></tr>\n",
       "</tbody>\n",
       "</table>\n"
      ],
      "text/latex": [
       "A data.frame: 9 × 4\n",
       "\\begin{tabular}{r|llll}\n",
       "  & model.fit.Upper & model.fit.Estimate & model.fit.Lower & cell\\_type\\\\\n",
       "  & <dbl> & <dbl> & <dbl> & <chr>\\\\\n",
       "\\hline\n",
       "\tEndothelial cell & 0.2280 & 0.2180 & 0.2080 & Endothelial cell  \\\\\n",
       "\tCardiomyocyte cell & 0.3290 & 0.3220 & 0.3150 & Cardiomyocyte cell\\\\\n",
       "\tMyeloid cell & 0.0611 & 0.0561 & 0.0511 & Myeloid cell      \\\\\n",
       "\tFibroblast & 0.1500 & 0.1420 & 0.1340 & Fibroblast        \\\\\n",
       "\tLymphoid cell & 0.0485 & 0.0429 & 0.0373 & Lymphoid cell     \\\\\n",
       "\tSmooth muscle cell & 0.0468 & 0.0439 & 0.0410 & Smooth muscle cell\\\\\n",
       "\tNeuron & 0.0148 & 0.0136 & 0.0123 & Neuron            \\\\\n",
       "\tPericyte & 0.1510 & 0.1460 & 0.1420 & Pericyte          \\\\\n",
       "\tAdipocyte & 0.0187 & 0.0151 & 0.0115 & Adipocyte         \\\\\n",
       "\\end{tabular}\n"
      ],
      "text/markdown": [
       "\n",
       "A data.frame: 9 × 4\n",
       "\n",
       "| <!--/--> | model.fit.Upper &lt;dbl&gt; | model.fit.Estimate &lt;dbl&gt; | model.fit.Lower &lt;dbl&gt; | cell_type &lt;chr&gt; |\n",
       "|---|---|---|---|---|\n",
       "| Endothelial cell | 0.2280 | 0.2180 | 0.2080 | Endothelial cell   |\n",
       "| Cardiomyocyte cell | 0.3290 | 0.3220 | 0.3150 | Cardiomyocyte cell |\n",
       "| Myeloid cell | 0.0611 | 0.0561 | 0.0511 | Myeloid cell       |\n",
       "| Fibroblast | 0.1500 | 0.1420 | 0.1340 | Fibroblast         |\n",
       "| Lymphoid cell | 0.0485 | 0.0429 | 0.0373 | Lymphoid cell      |\n",
       "| Smooth muscle cell | 0.0468 | 0.0439 | 0.0410 | Smooth muscle cell |\n",
       "| Neuron | 0.0148 | 0.0136 | 0.0123 | Neuron             |\n",
       "| Pericyte | 0.1510 | 0.1460 | 0.1420 | Pericyte           |\n",
       "| Adipocyte | 0.0187 | 0.0151 | 0.0115 | Adipocyte          |\n",
       "\n"
      ],
      "text/plain": [
       "                   model.fit.Upper model.fit.Estimate model.fit.Lower\n",
       "Endothelial cell   0.2280          0.2180             0.2080         \n",
       "Cardiomyocyte cell 0.3290          0.3220             0.3150         \n",
       "Myeloid cell       0.0611          0.0561             0.0511         \n",
       "Fibroblast         0.1500          0.1420             0.1340         \n",
       "Lymphoid cell      0.0485          0.0429             0.0373         \n",
       "Smooth muscle cell 0.0468          0.0439             0.0410         \n",
       "Neuron             0.0148          0.0136             0.0123         \n",
       "Pericyte           0.1510          0.1460             0.1420         \n",
       "Adipocyte          0.0187          0.0151             0.0115         \n",
       "                   cell_type         \n",
       "Endothelial cell   Endothelial cell  \n",
       "Cardiomyocyte cell Cardiomyocyte cell\n",
       "Myeloid cell       Myeloid cell      \n",
       "Fibroblast         Fibroblast        \n",
       "Lymphoid cell      Lymphoid cell     \n",
       "Smooth muscle cell Smooth muscle cell\n",
       "Neuron             Neuron            \n",
       "Pericyte           Pericyte          \n",
       "Adipocyte          Adipocyte         "
      ]
     },
     "metadata": {},
     "output_type": "display_data"
    }
   ],
   "source": [
    "df "
   ]
  },
  {
   "cell_type": "code",
   "execution_count": 57,
   "id": "5f577b69",
   "metadata": {},
   "outputs": [],
   "source": [
    "# save to json\n",
    "json_str <- '['\n",
    "for(i in 1:9){\n",
    "    json_str <- paste0(json_str, '{\"name\": \"',df[i,4], '\", \"value\": \"',df[i,2],'\", \"upper\": \"', df[i,1],'\", \"lower\": \"',df[i,3],'\"},')\n",
    "}\n",
    "json_str <- substr(json_str,1,nchar(json_str)-1)\n",
    "json_str <- paste0(json_str,']')"
   ]
  },
  {
   "cell_type": "code",
   "execution_count": 58,
   "id": "3c7ef747",
   "metadata": {},
   "outputs": [],
   "source": [
    "writeLines(json_str, paste0(\"/stor/public/chenyx/HHCAd/ForWebsite220412/BarPlot_A/Fetal/MV.json\"))"
   ]
  },
  {
   "cell_type": "markdown",
   "id": "55816d6f",
   "metadata": {},
   "source": [
    "### Blood Vessel"
   ]
  },
  {
   "cell_type": "code",
   "execution_count": 59,
   "id": "0c7e4eb6",
   "metadata": {},
   "outputs": [],
   "source": [
    "df <- read.csv(\"~/HHCA_d/Code4Paper/ForWebsite/1-2-2/Fetal//Blood Vessel.csv\",row.names = 1)"
   ]
  },
  {
   "cell_type": "code",
   "execution_count": 60,
   "id": "68c4a7a3",
   "metadata": {},
   "outputs": [],
   "source": [
    "df <- read.csv(\"~/HHCA_d/Code4Paper/ForWebsite/1-2-2/Adult/Heart.csv\",row.names = 1)\n",
    "rownames(df) <- c(\"Endothelial cell\", \"Cardiomyocyte cell\",\"Myeloid cell\", \"Fibroblast\", \"Lymphoid cell\", \"Smooth muscle cell\", \"Neuron\", \"Pericyte\", \"Adipocyte\")\n",
    "df$cell_type <- row.names(df)"
   ]
  },
  {
   "cell_type": "code",
   "execution_count": 61,
   "id": "01b8d33b",
   "metadata": {},
   "outputs": [
    {
     "data": {
      "text/html": [
       "<table class=\"dataframe\">\n",
       "<caption>A data.frame: 9 × 4</caption>\n",
       "<thead>\n",
       "\t<tr><th></th><th scope=col>model.fit.Upper</th><th scope=col>model.fit.Estimate</th><th scope=col>model.fit.Lower</th><th scope=col>cell_type</th></tr>\n",
       "\t<tr><th></th><th scope=col>&lt;dbl&gt;</th><th scope=col>&lt;dbl&gt;</th><th scope=col>&lt;dbl&gt;</th><th scope=col>&lt;chr&gt;</th></tr>\n",
       "</thead>\n",
       "<tbody>\n",
       "\t<tr><th scope=row>Endothelial cell</th><td>0.2280</td><td>0.2180</td><td>0.2080</td><td>Endothelial cell  </td></tr>\n",
       "\t<tr><th scope=row>Cardiomyocyte cell</th><td>0.3290</td><td>0.3220</td><td>0.3150</td><td>Cardiomyocyte cell</td></tr>\n",
       "\t<tr><th scope=row>Myeloid cell</th><td>0.0611</td><td>0.0561</td><td>0.0511</td><td>Myeloid cell      </td></tr>\n",
       "\t<tr><th scope=row>Fibroblast</th><td>0.1500</td><td>0.1420</td><td>0.1340</td><td>Fibroblast        </td></tr>\n",
       "\t<tr><th scope=row>Lymphoid cell</th><td>0.0485</td><td>0.0429</td><td>0.0373</td><td>Lymphoid cell     </td></tr>\n",
       "\t<tr><th scope=row>Smooth muscle cell</th><td>0.0468</td><td>0.0439</td><td>0.0410</td><td>Smooth muscle cell</td></tr>\n",
       "\t<tr><th scope=row>Neuron</th><td>0.0148</td><td>0.0136</td><td>0.0123</td><td>Neuron            </td></tr>\n",
       "\t<tr><th scope=row>Pericyte</th><td>0.1510</td><td>0.1460</td><td>0.1420</td><td>Pericyte          </td></tr>\n",
       "\t<tr><th scope=row>Adipocyte</th><td>0.0187</td><td>0.0151</td><td>0.0115</td><td>Adipocyte         </td></tr>\n",
       "</tbody>\n",
       "</table>\n"
      ],
      "text/latex": [
       "A data.frame: 9 × 4\n",
       "\\begin{tabular}{r|llll}\n",
       "  & model.fit.Upper & model.fit.Estimate & model.fit.Lower & cell\\_type\\\\\n",
       "  & <dbl> & <dbl> & <dbl> & <chr>\\\\\n",
       "\\hline\n",
       "\tEndothelial cell & 0.2280 & 0.2180 & 0.2080 & Endothelial cell  \\\\\n",
       "\tCardiomyocyte cell & 0.3290 & 0.3220 & 0.3150 & Cardiomyocyte cell\\\\\n",
       "\tMyeloid cell & 0.0611 & 0.0561 & 0.0511 & Myeloid cell      \\\\\n",
       "\tFibroblast & 0.1500 & 0.1420 & 0.1340 & Fibroblast        \\\\\n",
       "\tLymphoid cell & 0.0485 & 0.0429 & 0.0373 & Lymphoid cell     \\\\\n",
       "\tSmooth muscle cell & 0.0468 & 0.0439 & 0.0410 & Smooth muscle cell\\\\\n",
       "\tNeuron & 0.0148 & 0.0136 & 0.0123 & Neuron            \\\\\n",
       "\tPericyte & 0.1510 & 0.1460 & 0.1420 & Pericyte          \\\\\n",
       "\tAdipocyte & 0.0187 & 0.0151 & 0.0115 & Adipocyte         \\\\\n",
       "\\end{tabular}\n"
      ],
      "text/markdown": [
       "\n",
       "A data.frame: 9 × 4\n",
       "\n",
       "| <!--/--> | model.fit.Upper &lt;dbl&gt; | model.fit.Estimate &lt;dbl&gt; | model.fit.Lower &lt;dbl&gt; | cell_type &lt;chr&gt; |\n",
       "|---|---|---|---|---|\n",
       "| Endothelial cell | 0.2280 | 0.2180 | 0.2080 | Endothelial cell   |\n",
       "| Cardiomyocyte cell | 0.3290 | 0.3220 | 0.3150 | Cardiomyocyte cell |\n",
       "| Myeloid cell | 0.0611 | 0.0561 | 0.0511 | Myeloid cell       |\n",
       "| Fibroblast | 0.1500 | 0.1420 | 0.1340 | Fibroblast         |\n",
       "| Lymphoid cell | 0.0485 | 0.0429 | 0.0373 | Lymphoid cell      |\n",
       "| Smooth muscle cell | 0.0468 | 0.0439 | 0.0410 | Smooth muscle cell |\n",
       "| Neuron | 0.0148 | 0.0136 | 0.0123 | Neuron             |\n",
       "| Pericyte | 0.1510 | 0.1460 | 0.1420 | Pericyte           |\n",
       "| Adipocyte | 0.0187 | 0.0151 | 0.0115 | Adipocyte          |\n",
       "\n"
      ],
      "text/plain": [
       "                   model.fit.Upper model.fit.Estimate model.fit.Lower\n",
       "Endothelial cell   0.2280          0.2180             0.2080         \n",
       "Cardiomyocyte cell 0.3290          0.3220             0.3150         \n",
       "Myeloid cell       0.0611          0.0561             0.0511         \n",
       "Fibroblast         0.1500          0.1420             0.1340         \n",
       "Lymphoid cell      0.0485          0.0429             0.0373         \n",
       "Smooth muscle cell 0.0468          0.0439             0.0410         \n",
       "Neuron             0.0148          0.0136             0.0123         \n",
       "Pericyte           0.1510          0.1460             0.1420         \n",
       "Adipocyte          0.0187          0.0151             0.0115         \n",
       "                   cell_type         \n",
       "Endothelial cell   Endothelial cell  \n",
       "Cardiomyocyte cell Cardiomyocyte cell\n",
       "Myeloid cell       Myeloid cell      \n",
       "Fibroblast         Fibroblast        \n",
       "Lymphoid cell      Lymphoid cell     \n",
       "Smooth muscle cell Smooth muscle cell\n",
       "Neuron             Neuron            \n",
       "Pericyte           Pericyte          \n",
       "Adipocyte          Adipocyte         "
      ]
     },
     "metadata": {},
     "output_type": "display_data"
    }
   ],
   "source": [
    "df "
   ]
  },
  {
   "cell_type": "code",
   "execution_count": 62,
   "id": "1fef4b4b",
   "metadata": {},
   "outputs": [],
   "source": [
    "# save to json\n",
    "json_str <- '['\n",
    "for(i in 1:9){\n",
    "    json_str <- paste0(json_str, '{\"name\": \"',df[i,4], '\", \"value\": \"',df[i,2],'\", \"upper\": \"', df[i,1],'\", \"lower\": \"',df[i,3],'\"},')\n",
    "}\n",
    "json_str <- substr(json_str,1,nchar(json_str)-1)\n",
    "json_str <- paste0(json_str,']')"
   ]
  },
  {
   "cell_type": "code",
   "execution_count": 63,
   "id": "0ae8d35c",
   "metadata": {},
   "outputs": [],
   "source": [
    "writeLines(json_str, paste0(\"/stor/public/chenyx/HHCAd/ForWebsite220412/BarPlot_A/Fetal/Blood Vessel.json\"))"
   ]
  },
  {
   "cell_type": "markdown",
   "id": "a0b3439a",
   "metadata": {},
   "source": [
    "### AO"
   ]
  },
  {
   "cell_type": "code",
   "execution_count": 64,
   "id": "8fcd89ab",
   "metadata": {},
   "outputs": [],
   "source": [
    "df <- read.csv(\"~/HHCA_d/Code4Paper/ForWebsite/1-2-2/Fetal//AO.csv\",row.names = 1)"
   ]
  },
  {
   "cell_type": "code",
   "execution_count": 65,
   "id": "6f5f7f86",
   "metadata": {},
   "outputs": [],
   "source": [
    "df <- read.csv(\"~/HHCA_d/Code4Paper/ForWebsite/1-2-2/Adult/Heart.csv\",row.names = 1)\n",
    "rownames(df) <- c(\"Endothelial cell\", \"Cardiomyocyte cell\",\"Myeloid cell\", \"Fibroblast\", \"Lymphoid cell\", \"Smooth muscle cell\", \"Neuron\", \"Pericyte\", \"Adipocyte\")\n",
    "df$cell_type <- row.names(df)"
   ]
  },
  {
   "cell_type": "code",
   "execution_count": 66,
   "id": "cd473f85",
   "metadata": {},
   "outputs": [
    {
     "data": {
      "text/html": [
       "<table class=\"dataframe\">\n",
       "<caption>A data.frame: 9 × 4</caption>\n",
       "<thead>\n",
       "\t<tr><th></th><th scope=col>model.fit.Upper</th><th scope=col>model.fit.Estimate</th><th scope=col>model.fit.Lower</th><th scope=col>cell_type</th></tr>\n",
       "\t<tr><th></th><th scope=col>&lt;dbl&gt;</th><th scope=col>&lt;dbl&gt;</th><th scope=col>&lt;dbl&gt;</th><th scope=col>&lt;chr&gt;</th></tr>\n",
       "</thead>\n",
       "<tbody>\n",
       "\t<tr><th scope=row>Endothelial cell</th><td>0.2280</td><td>0.2180</td><td>0.2080</td><td>Endothelial cell  </td></tr>\n",
       "\t<tr><th scope=row>Cardiomyocyte cell</th><td>0.3290</td><td>0.3220</td><td>0.3150</td><td>Cardiomyocyte cell</td></tr>\n",
       "\t<tr><th scope=row>Myeloid cell</th><td>0.0611</td><td>0.0561</td><td>0.0511</td><td>Myeloid cell      </td></tr>\n",
       "\t<tr><th scope=row>Fibroblast</th><td>0.1500</td><td>0.1420</td><td>0.1340</td><td>Fibroblast        </td></tr>\n",
       "\t<tr><th scope=row>Lymphoid cell</th><td>0.0485</td><td>0.0429</td><td>0.0373</td><td>Lymphoid cell     </td></tr>\n",
       "\t<tr><th scope=row>Smooth muscle cell</th><td>0.0468</td><td>0.0439</td><td>0.0410</td><td>Smooth muscle cell</td></tr>\n",
       "\t<tr><th scope=row>Neuron</th><td>0.0148</td><td>0.0136</td><td>0.0123</td><td>Neuron            </td></tr>\n",
       "\t<tr><th scope=row>Pericyte</th><td>0.1510</td><td>0.1460</td><td>0.1420</td><td>Pericyte          </td></tr>\n",
       "\t<tr><th scope=row>Adipocyte</th><td>0.0187</td><td>0.0151</td><td>0.0115</td><td>Adipocyte         </td></tr>\n",
       "</tbody>\n",
       "</table>\n"
      ],
      "text/latex": [
       "A data.frame: 9 × 4\n",
       "\\begin{tabular}{r|llll}\n",
       "  & model.fit.Upper & model.fit.Estimate & model.fit.Lower & cell\\_type\\\\\n",
       "  & <dbl> & <dbl> & <dbl> & <chr>\\\\\n",
       "\\hline\n",
       "\tEndothelial cell & 0.2280 & 0.2180 & 0.2080 & Endothelial cell  \\\\\n",
       "\tCardiomyocyte cell & 0.3290 & 0.3220 & 0.3150 & Cardiomyocyte cell\\\\\n",
       "\tMyeloid cell & 0.0611 & 0.0561 & 0.0511 & Myeloid cell      \\\\\n",
       "\tFibroblast & 0.1500 & 0.1420 & 0.1340 & Fibroblast        \\\\\n",
       "\tLymphoid cell & 0.0485 & 0.0429 & 0.0373 & Lymphoid cell     \\\\\n",
       "\tSmooth muscle cell & 0.0468 & 0.0439 & 0.0410 & Smooth muscle cell\\\\\n",
       "\tNeuron & 0.0148 & 0.0136 & 0.0123 & Neuron            \\\\\n",
       "\tPericyte & 0.1510 & 0.1460 & 0.1420 & Pericyte          \\\\\n",
       "\tAdipocyte & 0.0187 & 0.0151 & 0.0115 & Adipocyte         \\\\\n",
       "\\end{tabular}\n"
      ],
      "text/markdown": [
       "\n",
       "A data.frame: 9 × 4\n",
       "\n",
       "| <!--/--> | model.fit.Upper &lt;dbl&gt; | model.fit.Estimate &lt;dbl&gt; | model.fit.Lower &lt;dbl&gt; | cell_type &lt;chr&gt; |\n",
       "|---|---|---|---|---|\n",
       "| Endothelial cell | 0.2280 | 0.2180 | 0.2080 | Endothelial cell   |\n",
       "| Cardiomyocyte cell | 0.3290 | 0.3220 | 0.3150 | Cardiomyocyte cell |\n",
       "| Myeloid cell | 0.0611 | 0.0561 | 0.0511 | Myeloid cell       |\n",
       "| Fibroblast | 0.1500 | 0.1420 | 0.1340 | Fibroblast         |\n",
       "| Lymphoid cell | 0.0485 | 0.0429 | 0.0373 | Lymphoid cell      |\n",
       "| Smooth muscle cell | 0.0468 | 0.0439 | 0.0410 | Smooth muscle cell |\n",
       "| Neuron | 0.0148 | 0.0136 | 0.0123 | Neuron             |\n",
       "| Pericyte | 0.1510 | 0.1460 | 0.1420 | Pericyte           |\n",
       "| Adipocyte | 0.0187 | 0.0151 | 0.0115 | Adipocyte          |\n",
       "\n"
      ],
      "text/plain": [
       "                   model.fit.Upper model.fit.Estimate model.fit.Lower\n",
       "Endothelial cell   0.2280          0.2180             0.2080         \n",
       "Cardiomyocyte cell 0.3290          0.3220             0.3150         \n",
       "Myeloid cell       0.0611          0.0561             0.0511         \n",
       "Fibroblast         0.1500          0.1420             0.1340         \n",
       "Lymphoid cell      0.0485          0.0429             0.0373         \n",
       "Smooth muscle cell 0.0468          0.0439             0.0410         \n",
       "Neuron             0.0148          0.0136             0.0123         \n",
       "Pericyte           0.1510          0.1460             0.1420         \n",
       "Adipocyte          0.0187          0.0151             0.0115         \n",
       "                   cell_type         \n",
       "Endothelial cell   Endothelial cell  \n",
       "Cardiomyocyte cell Cardiomyocyte cell\n",
       "Myeloid cell       Myeloid cell      \n",
       "Fibroblast         Fibroblast        \n",
       "Lymphoid cell      Lymphoid cell     \n",
       "Smooth muscle cell Smooth muscle cell\n",
       "Neuron             Neuron            \n",
       "Pericyte           Pericyte          \n",
       "Adipocyte          Adipocyte         "
      ]
     },
     "metadata": {},
     "output_type": "display_data"
    }
   ],
   "source": [
    "df "
   ]
  },
  {
   "cell_type": "code",
   "execution_count": 67,
   "id": "647b8d02",
   "metadata": {},
   "outputs": [],
   "source": [
    "# save to json\n",
    "json_str <- '['\n",
    "for(i in 1:9){\n",
    "    json_str <- paste0(json_str, '{\"name\": \"',df[i,4], '\", \"value\": \"',df[i,2],'\", \"upper\": \"', df[i,1],'\", \"lower\": \"',df[i,3],'\"},')\n",
    "}\n",
    "json_str <- substr(json_str,1,nchar(json_str)-1)\n",
    "json_str <- paste0(json_str,']')"
   ]
  },
  {
   "cell_type": "code",
   "execution_count": 68,
   "id": "132614c9",
   "metadata": {},
   "outputs": [],
   "source": [
    "writeLines(json_str, paste0(\"/stor/public/chenyx/HHCAd/ForWebsite220412/BarPlot_A/Fetal/AO.json\"))"
   ]
  },
  {
   "cell_type": "markdown",
   "id": "08a67522",
   "metadata": {},
   "source": [
    "### PA"
   ]
  },
  {
   "cell_type": "code",
   "execution_count": 69,
   "id": "9a37fabe",
   "metadata": {},
   "outputs": [],
   "source": [
    "df <- read.csv(\"~/HHCA_d/Code4Paper/ForWebsite/1-2-2/Fetal//PA.csv\",row.names = 1)"
   ]
  },
  {
   "cell_type": "code",
   "execution_count": 70,
   "id": "14bd1b29",
   "metadata": {},
   "outputs": [],
   "source": [
    "df <- read.csv(\"~/HHCA_d/Code4Paper/ForWebsite/1-2-2/Adult/Heart.csv\",row.names = 1)\n",
    "rownames(df) <- c(\"Endothelial cell\", \"Cardiomyocyte cell\",\"Myeloid cell\", \"Fibroblast\", \"Lymphoid cell\", \"Smooth muscle cell\", \"Neuron\", \"Pericyte\", \"Adipocyte\")\n",
    "df$cell_type <- row.names(df)"
   ]
  },
  {
   "cell_type": "code",
   "execution_count": 71,
   "id": "0a410a8c",
   "metadata": {},
   "outputs": [
    {
     "data": {
      "text/html": [
       "<table class=\"dataframe\">\n",
       "<caption>A data.frame: 9 × 4</caption>\n",
       "<thead>\n",
       "\t<tr><th></th><th scope=col>model.fit.Upper</th><th scope=col>model.fit.Estimate</th><th scope=col>model.fit.Lower</th><th scope=col>cell_type</th></tr>\n",
       "\t<tr><th></th><th scope=col>&lt;dbl&gt;</th><th scope=col>&lt;dbl&gt;</th><th scope=col>&lt;dbl&gt;</th><th scope=col>&lt;chr&gt;</th></tr>\n",
       "</thead>\n",
       "<tbody>\n",
       "\t<tr><th scope=row>Endothelial cell</th><td>0.2280</td><td>0.2180</td><td>0.2080</td><td>Endothelial cell  </td></tr>\n",
       "\t<tr><th scope=row>Cardiomyocyte cell</th><td>0.3290</td><td>0.3220</td><td>0.3150</td><td>Cardiomyocyte cell</td></tr>\n",
       "\t<tr><th scope=row>Myeloid cell</th><td>0.0611</td><td>0.0561</td><td>0.0511</td><td>Myeloid cell      </td></tr>\n",
       "\t<tr><th scope=row>Fibroblast</th><td>0.1500</td><td>0.1420</td><td>0.1340</td><td>Fibroblast        </td></tr>\n",
       "\t<tr><th scope=row>Lymphoid cell</th><td>0.0485</td><td>0.0429</td><td>0.0373</td><td>Lymphoid cell     </td></tr>\n",
       "\t<tr><th scope=row>Smooth muscle cell</th><td>0.0468</td><td>0.0439</td><td>0.0410</td><td>Smooth muscle cell</td></tr>\n",
       "\t<tr><th scope=row>Neuron</th><td>0.0148</td><td>0.0136</td><td>0.0123</td><td>Neuron            </td></tr>\n",
       "\t<tr><th scope=row>Pericyte</th><td>0.1510</td><td>0.1460</td><td>0.1420</td><td>Pericyte          </td></tr>\n",
       "\t<tr><th scope=row>Adipocyte</th><td>0.0187</td><td>0.0151</td><td>0.0115</td><td>Adipocyte         </td></tr>\n",
       "</tbody>\n",
       "</table>\n"
      ],
      "text/latex": [
       "A data.frame: 9 × 4\n",
       "\\begin{tabular}{r|llll}\n",
       "  & model.fit.Upper & model.fit.Estimate & model.fit.Lower & cell\\_type\\\\\n",
       "  & <dbl> & <dbl> & <dbl> & <chr>\\\\\n",
       "\\hline\n",
       "\tEndothelial cell & 0.2280 & 0.2180 & 0.2080 & Endothelial cell  \\\\\n",
       "\tCardiomyocyte cell & 0.3290 & 0.3220 & 0.3150 & Cardiomyocyte cell\\\\\n",
       "\tMyeloid cell & 0.0611 & 0.0561 & 0.0511 & Myeloid cell      \\\\\n",
       "\tFibroblast & 0.1500 & 0.1420 & 0.1340 & Fibroblast        \\\\\n",
       "\tLymphoid cell & 0.0485 & 0.0429 & 0.0373 & Lymphoid cell     \\\\\n",
       "\tSmooth muscle cell & 0.0468 & 0.0439 & 0.0410 & Smooth muscle cell\\\\\n",
       "\tNeuron & 0.0148 & 0.0136 & 0.0123 & Neuron            \\\\\n",
       "\tPericyte & 0.1510 & 0.1460 & 0.1420 & Pericyte          \\\\\n",
       "\tAdipocyte & 0.0187 & 0.0151 & 0.0115 & Adipocyte         \\\\\n",
       "\\end{tabular}\n"
      ],
      "text/markdown": [
       "\n",
       "A data.frame: 9 × 4\n",
       "\n",
       "| <!--/--> | model.fit.Upper &lt;dbl&gt; | model.fit.Estimate &lt;dbl&gt; | model.fit.Lower &lt;dbl&gt; | cell_type &lt;chr&gt; |\n",
       "|---|---|---|---|---|\n",
       "| Endothelial cell | 0.2280 | 0.2180 | 0.2080 | Endothelial cell   |\n",
       "| Cardiomyocyte cell | 0.3290 | 0.3220 | 0.3150 | Cardiomyocyte cell |\n",
       "| Myeloid cell | 0.0611 | 0.0561 | 0.0511 | Myeloid cell       |\n",
       "| Fibroblast | 0.1500 | 0.1420 | 0.1340 | Fibroblast         |\n",
       "| Lymphoid cell | 0.0485 | 0.0429 | 0.0373 | Lymphoid cell      |\n",
       "| Smooth muscle cell | 0.0468 | 0.0439 | 0.0410 | Smooth muscle cell |\n",
       "| Neuron | 0.0148 | 0.0136 | 0.0123 | Neuron             |\n",
       "| Pericyte | 0.1510 | 0.1460 | 0.1420 | Pericyte           |\n",
       "| Adipocyte | 0.0187 | 0.0151 | 0.0115 | Adipocyte          |\n",
       "\n"
      ],
      "text/plain": [
       "                   model.fit.Upper model.fit.Estimate model.fit.Lower\n",
       "Endothelial cell   0.2280          0.2180             0.2080         \n",
       "Cardiomyocyte cell 0.3290          0.3220             0.3150         \n",
       "Myeloid cell       0.0611          0.0561             0.0511         \n",
       "Fibroblast         0.1500          0.1420             0.1340         \n",
       "Lymphoid cell      0.0485          0.0429             0.0373         \n",
       "Smooth muscle cell 0.0468          0.0439             0.0410         \n",
       "Neuron             0.0148          0.0136             0.0123         \n",
       "Pericyte           0.1510          0.1460             0.1420         \n",
       "Adipocyte          0.0187          0.0151             0.0115         \n",
       "                   cell_type         \n",
       "Endothelial cell   Endothelial cell  \n",
       "Cardiomyocyte cell Cardiomyocyte cell\n",
       "Myeloid cell       Myeloid cell      \n",
       "Fibroblast         Fibroblast        \n",
       "Lymphoid cell      Lymphoid cell     \n",
       "Smooth muscle cell Smooth muscle cell\n",
       "Neuron             Neuron            \n",
       "Pericyte           Pericyte          \n",
       "Adipocyte          Adipocyte         "
      ]
     },
     "metadata": {},
     "output_type": "display_data"
    }
   ],
   "source": [
    "df "
   ]
  },
  {
   "cell_type": "code",
   "execution_count": 72,
   "id": "861b40ae",
   "metadata": {},
   "outputs": [],
   "source": [
    "# save to json\n",
    "json_str <- '['\n",
    "for(i in 1:9){\n",
    "    json_str <- paste0(json_str, '{\"name\": \"',df[i,4], '\", \"value\": \"',df[i,2],'\", \"upper\": \"', df[i,1],'\", \"lower\": \"',df[i,3],'\"},')\n",
    "}\n",
    "json_str <- substr(json_str,1,nchar(json_str)-1)\n",
    "json_str <- paste0(json_str,']')"
   ]
  },
  {
   "cell_type": "code",
   "execution_count": 73,
   "id": "11eadd4d",
   "metadata": {},
   "outputs": [],
   "source": [
    "writeLines(json_str, paste0(\"/stor/public/chenyx/HHCAd/ForWebsite220412/BarPlot_A/Fetal/PA.json\"))"
   ]
  }
 ],
 "metadata": {
  "kernelspec": {
   "display_name": "R4.0",
   "language": "R",
   "name": "ir3"
  },
  "language_info": {
   "codemirror_mode": "r",
   "file_extension": ".r",
   "mimetype": "text/x-r-source",
   "name": "R",
   "pygments_lexer": "r",
   "version": "4.0.3"
  }
 },
 "nbformat": 4,
 "nbformat_minor": 5
}
