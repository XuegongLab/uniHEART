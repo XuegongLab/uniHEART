{
 "cells": [
  {
   "cell_type": "code",
   "execution_count": 3,
   "id": "101b281c",
   "metadata": {},
   "outputs": [],
   "source": [
    "library(rjson)\n",
    "library(reshape2)"
   ]
  },
  {
   "cell_type": "markdown",
   "id": "52e8b009",
   "metadata": {},
   "source": [
    "# Pie Plot"
   ]
  },
  {
   "cell_type": "markdown",
   "id": "ce1f37a3",
   "metadata": {},
   "source": [
    "## Adult"
   ]
  },
  {
   "cell_type": "markdown",
   "id": "251b0211",
   "metadata": {},
   "source": [
    "### LV"
   ]
  },
  {
   "cell_type": "code",
   "execution_count": 2,
   "id": "4970eb13",
   "metadata": {},
   "outputs": [],
   "source": [
    "df <- read.csv(\"/stor/public/liwenrui_heart/heart_cell_proportion/LV.csv\",row.names = 1)"
   ]
  },
  {
   "cell_type": "code",
   "execution_count": 5,
   "id": "8e2e10b8",
   "metadata": {},
   "outputs": [],
   "source": [
    "colnames(df) <- c(\"Endothelial cell\", \"Cardiomyocyte cell\",\"Myeloid cell\", \"Fibroblast\", \"Lymphoid cell\", \"Smooth muscle cell\", \"Neuron\", \"Pericyte\", \"Adipocyte\")\n",
    "\n",
    "df <- df/sum(df)\n",
    "df_s <- data.frame(t(df))\n",
    "df_s$cell_type <- row.names(df_s)\n",
    "colnames(df_s) <- c(\"number\",\"cell type\")\n",
    "df_s$number <- signif(df_s$number,3)\n",
    "df_s <- df_s[,c(2,1)]\n",
    "\n",
    "# save to json\n",
    "json_str <- '['\n",
    "for(i in 1:9){\n",
    "    json_str <- paste0(json_str, '{\"name\": \"',df_s[i,1], '\", \"value\": ',df_s[i,2],\"},\")\n",
    "}\n",
    "json_str <- substr(json_str,1,nchar(json_str)-1)\n",
    "json_str <- paste0(json_str,']')"
   ]
  },
  {
   "cell_type": "code",
   "execution_count": 7,
   "id": "e5238608",
   "metadata": {},
   "outputs": [
    {
     "name": "stderr",
     "output_type": "stream",
     "text": [
      "Warning message in dir.create(\"/stor/public/chenyx/HHCAd/ForWebsite220412/PiePlot/Adult/\", :\n",
      "“'/stor/public/chenyx/HHCAd/ForWebsite220412/PiePlot/Adult' already exists”\n"
     ]
    }
   ],
   "source": [
    "dir.create(\"/stor/public/chenyx/HHCAd/ForWebsite220412/PiePlot/Adult/\",recursive = TRUE)\n",
    "writeLines(json_str, paste0(\"/stor/public/chenyx/HHCAd/ForWebsite220412/PiePlot/Adult/LV.json\"))"
   ]
  },
  {
   "cell_type": "markdown",
   "id": "ff3a1cc1",
   "metadata": {},
   "source": [
    "### RV"
   ]
  },
  {
   "cell_type": "code",
   "execution_count": 8,
   "id": "92323431",
   "metadata": {},
   "outputs": [],
   "source": [
    "df <- read.csv(\"/stor/public/liwenrui_heart/heart_cell_proportion/Right_ventricle.csv\",row.names = 1)"
   ]
  },
  {
   "cell_type": "code",
   "execution_count": 9,
   "id": "0f506f7e",
   "metadata": {},
   "outputs": [],
   "source": [
    "colnames(df) <- c(\"Endothelial cell\", \"Cardiomyocyte cell\",\"Myeloid cell\", \"Fibroblast\", \"Lymphoid cell\", \"Smooth muscle cell\", \"Neuron\", \"Pericyte\", \"Adipocyte\")\n",
    "\n",
    "df <- df/sum(df)\n",
    "df_s <- data.frame(t(df))\n",
    "df_s$cell_type <- row.names(df_s)\n",
    "colnames(df_s) <- c(\"number\",\"cell type\")\n",
    "df_s$number <- signif(df_s$number,3)\n",
    "df_s <- df_s[,c(2,1)]\n",
    "\n",
    "# save to json\n",
    "json_str <- '['\n",
    "for(i in 1:9){\n",
    "    json_str <- paste0(json_str, '{\"name\": \"',df_s[i,1], '\", \"value\": ',df_s[i,2],\"},\")\n",
    "}\n",
    "json_str <- substr(json_str,1,nchar(json_str)-1)\n",
    "json_str <- paste0(json_str,']')"
   ]
  },
  {
   "cell_type": "code",
   "execution_count": 10,
   "id": "8a8c391c",
   "metadata": {},
   "outputs": [],
   "source": [
    "writeLines(json_str, paste0(\"/stor/public/chenyx/HHCAd/ForWebsite220412/PiePlot/Adult/RV.json\"))"
   ]
  },
  {
   "cell_type": "markdown",
   "id": "db0d7fc5",
   "metadata": {},
   "source": [
    "### IVS"
   ]
  },
  {
   "cell_type": "code",
   "execution_count": 11,
   "id": "2a4bdcf1",
   "metadata": {},
   "outputs": [],
   "source": [
    "df <- read.csv(\"/stor/public/liwenrui_heart/heart_cell_proportion/Interventricular_septum.csv\",row.names = 1)"
   ]
  },
  {
   "cell_type": "code",
   "execution_count": 12,
   "id": "394f0119",
   "metadata": {},
   "outputs": [],
   "source": [
    "colnames(df) <- c(\"Endothelial cell\", \"Cardiomyocyte cell\",\"Myeloid cell\", \"Fibroblast\", \"Lymphoid cell\", \"Smooth muscle cell\", \"Neuron\", \"Pericyte\", \"Adipocyte\")\n",
    "\n",
    "df <- df/sum(df)\n",
    "df_s <- data.frame(t(df))\n",
    "df_s$cell_type <- row.names(df_s)\n",
    "colnames(df_s) <- c(\"number\",\"cell type\")\n",
    "df_s$number <- signif(df_s$number,3)\n",
    "df_s <- df_s[,c(2,1)]\n",
    "\n",
    "# save to json\n",
    "json_str <- '['\n",
    "for(i in 1:9){\n",
    "    json_str <- paste0(json_str, '{\"name\": \"',df_s[i,1], '\", \"value\": ',df_s[i,2],\"},\")\n",
    "}\n",
    "json_str <- substr(json_str,1,nchar(json_str)-1)\n",
    "json_str <- paste0(json_str,']')"
   ]
  },
  {
   "cell_type": "code",
   "execution_count": 13,
   "id": "07e9f3ca",
   "metadata": {},
   "outputs": [],
   "source": [
    "writeLines(json_str, paste0(\"/stor/public/chenyx/HHCAd/ForWebsite220412/PiePlot/Adult/IVS.json\"))"
   ]
  },
  {
   "cell_type": "markdown",
   "id": "840f892a",
   "metadata": {},
   "source": [
    "### LA"
   ]
  },
  {
   "cell_type": "code",
   "execution_count": 14,
   "id": "905fb8d6",
   "metadata": {},
   "outputs": [],
   "source": [
    "df <- read.csv(\"/stor/public/liwenrui_heart/heart_cell_proportion/LA.csv\",row.names = 1)"
   ]
  },
  {
   "cell_type": "code",
   "execution_count": 15,
   "id": "108dcf9f",
   "metadata": {},
   "outputs": [],
   "source": [
    "colnames(df) <- c(\"Endothelial cell\", \"Cardiomyocyte cell\",\"Myeloid cell\", \"Fibroblast\", \"Lymphoid cell\", \"Smooth muscle cell\", \"Neuron\", \"Pericyte\", \"Adipocyte\")\n",
    "\n",
    "df <- df/sum(df)\n",
    "df_s <- data.frame(t(df))\n",
    "df_s$cell_type <- row.names(df_s)\n",
    "colnames(df_s) <- c(\"number\",\"cell type\")\n",
    "df_s$number <- signif(df_s$number,3)\n",
    "df_s <- df_s[,c(2,1)]\n",
    "\n",
    "# save to json\n",
    "json_str <- '['\n",
    "for(i in 1:9){\n",
    "    json_str <- paste0(json_str, '{\"name\": \"',df_s[i,1], '\", \"value\": ',df_s[i,2],\"},\")\n",
    "}\n",
    "json_str <- substr(json_str,1,nchar(json_str)-1)\n",
    "json_str <- paste0(json_str,']')"
   ]
  },
  {
   "cell_type": "code",
   "execution_count": 16,
   "id": "f885af5b",
   "metadata": {},
   "outputs": [],
   "source": [
    "writeLines(json_str, paste0(\"/stor/public/chenyx/HHCAd/ForWebsite220412/PiePlot/Adult/LA.json\"))"
   ]
  },
  {
   "cell_type": "markdown",
   "id": "f428b757",
   "metadata": {},
   "source": [
    "### RA"
   ]
  },
  {
   "cell_type": "code",
   "execution_count": 17,
   "id": "f1c973fe",
   "metadata": {},
   "outputs": [],
   "source": [
    "df <- read.csv(\"/stor/public/liwenrui_heart/heart_cell_proportion/Right_atria.csv\",row.names = 1)"
   ]
  },
  {
   "cell_type": "code",
   "execution_count": 18,
   "id": "ccce0ce2",
   "metadata": {},
   "outputs": [],
   "source": [
    "colnames(df) <- c(\"Endothelial cell\", \"Cardiomyocyte cell\",\"Myeloid cell\", \"Fibroblast\", \"Lymphoid cell\", \"Smooth muscle cell\", \"Neuron\", \"Pericyte\", \"Adipocyte\")\n",
    "\n",
    "df <- df/sum(df)\n",
    "df_s <- data.frame(t(df))\n",
    "df_s$cell_type <- row.names(df_s)\n",
    "colnames(df_s) <- c(\"number\",\"cell type\")\n",
    "df_s$number <- signif(df_s$number,3)\n",
    "df_s <- df_s[,c(2,1)]\n",
    "\n",
    "# save to json\n",
    "json_str <- '['\n",
    "for(i in 1:9){\n",
    "    json_str <- paste0(json_str, '{\"name\": \"',df_s[i,1], '\", \"value\": ',df_s[i,2],\"},\")\n",
    "}\n",
    "json_str <- substr(json_str,1,nchar(json_str)-1)\n",
    "json_str <- paste0(json_str,']')"
   ]
  },
  {
   "cell_type": "code",
   "execution_count": 19,
   "id": "0073b557",
   "metadata": {},
   "outputs": [],
   "source": [
    "writeLines(json_str, paste0(\"/stor/public/chenyx/HHCAd/ForWebsite220412/PiePlot/Adult/RA.json\"))"
   ]
  },
  {
   "cell_type": "markdown",
   "id": "e1de0208",
   "metadata": {},
   "source": [
    "### IAS"
   ]
  },
  {
   "cell_type": "code",
   "execution_count": 20,
   "id": "12f02824",
   "metadata": {},
   "outputs": [],
   "source": [
    "df <- read.csv(\"/stor/public/liwenrui_heart/heart_cell_proportion/Interatrial_septum.csv\",row.names = 1)"
   ]
  },
  {
   "cell_type": "code",
   "execution_count": 21,
   "id": "ff624120",
   "metadata": {},
   "outputs": [],
   "source": [
    "colnames(df) <- c(\"Endothelial cell\", \"Cardiomyocyte cell\",\"Myeloid cell\", \"Fibroblast\", \"Lymphoid cell\", \"Smooth muscle cell\", \"Neuron\", \"Pericyte\", \"Adipocyte\")\n",
    "\n",
    "df <- df/sum(df)\n",
    "df_s <- data.frame(t(df))\n",
    "df_s$cell_type <- row.names(df_s)\n",
    "colnames(df_s) <- c(\"number\",\"cell type\")\n",
    "df_s$number <- signif(df_s$number,3)\n",
    "df_s <- df_s[,c(2,1)]\n",
    "\n",
    "# save to json\n",
    "json_str <- '['\n",
    "for(i in 1:9){\n",
    "    json_str <- paste0(json_str, '{\"name\": \"',df_s[i,1], '\", \"value\": ',df_s[i,2],\"},\")\n",
    "}\n",
    "json_str <- substr(json_str,1,nchar(json_str)-1)\n",
    "json_str <- paste0(json_str,']')"
   ]
  },
  {
   "cell_type": "code",
   "execution_count": 22,
   "id": "35b1f0b4",
   "metadata": {},
   "outputs": [],
   "source": [
    "writeLines(json_str, paste0(\"/stor/public/chenyx/HHCAd/ForWebsite220412/PiePlot/Adult/IAS.json\"))"
   ]
  },
  {
   "cell_type": "markdown",
   "id": "41ba5562",
   "metadata": {},
   "source": [
    "### Ventricle"
   ]
  },
  {
   "cell_type": "code",
   "execution_count": 23,
   "id": "00683938",
   "metadata": {},
   "outputs": [],
   "source": [
    "df <- read.csv(\"~/HHCA_d/Code4Paper/ForWebsite/1-2/Ventricle.csv\",row.names = 1)"
   ]
  },
  {
   "cell_type": "code",
   "execution_count": 24,
   "id": "d053b67b",
   "metadata": {},
   "outputs": [],
   "source": [
    "colnames(df) <- c(\"Endothelial cell\", \"Cardiomyocyte cell\",\"Myeloid cell\", \"Fibroblast\", \"Lymphoid cell\", \"Smooth muscle cell\", \"Neuron\", \"Pericyte\", \"Adipocyte\")\n",
    "\n",
    "df <- df/sum(df)\n",
    "df_s <- data.frame(t(df))\n",
    "df_s$cell_type <- row.names(df_s)\n",
    "colnames(df_s) <- c(\"number\",\"cell type\")\n",
    "df_s$number <- signif(df_s$number,3)\n",
    "df_s <- df_s[,c(2,1)]\n",
    "\n",
    "# save to json\n",
    "json_str <- '['\n",
    "for(i in 1:9){\n",
    "    json_str <- paste0(json_str, '{\"name\": \"',df_s[i,1], '\", \"value\": ',df_s[i,2],\"},\")\n",
    "}\n",
    "json_str <- substr(json_str,1,nchar(json_str)-1)\n",
    "json_str <- paste0(json_str,']')"
   ]
  },
  {
   "cell_type": "code",
   "execution_count": 25,
   "id": "074e4a57",
   "metadata": {},
   "outputs": [],
   "source": [
    "writeLines(json_str, paste0(\"/stor/public/chenyx/HHCAd/ForWebsite220412/PiePlot/Adult/Ventricle.json\"))"
   ]
  },
  {
   "cell_type": "markdown",
   "id": "9b162751",
   "metadata": {},
   "source": [
    "### Atria"
   ]
  },
  {
   "cell_type": "code",
   "execution_count": 26,
   "id": "23dd67b8",
   "metadata": {},
   "outputs": [],
   "source": [
    "df <- read.csv(\"~/HHCA_d/Code4Paper/ForWebsite/1-2/Atria.csv\",row.names = 1)"
   ]
  },
  {
   "cell_type": "code",
   "execution_count": 27,
   "id": "03b3831c",
   "metadata": {},
   "outputs": [],
   "source": [
    "colnames(df) <- c(\"Endothelial cell\", \"Cardiomyocyte cell\",\"Myeloid cell\", \"Fibroblast\", \"Lymphoid cell\", \"Smooth muscle cell\", \"Neuron\", \"Pericyte\", \"Adipocyte\")\n",
    "\n",
    "df <- df/sum(df)\n",
    "df_s <- data.frame(t(df))\n",
    "df_s$cell_type <- row.names(df_s)\n",
    "colnames(df_s) <- c(\"number\",\"cell type\")\n",
    "df_s$number <- signif(df_s$number,3)\n",
    "df_s <- df_s[,c(2,1)]\n",
    "\n",
    "# save to json\n",
    "json_str <- '['\n",
    "for(i in 1:9){\n",
    "    json_str <- paste0(json_str, '{\"name\": \"',df_s[i,1], '\", \"value\": ',df_s[i,2],\"},\")\n",
    "}\n",
    "json_str <- substr(json_str,1,nchar(json_str)-1)\n",
    "json_str <- paste0(json_str,']')"
   ]
  },
  {
   "cell_type": "code",
   "execution_count": 28,
   "id": "b488d15a",
   "metadata": {},
   "outputs": [],
   "source": [
    "writeLines(json_str, paste0(\"/stor/public/chenyx/HHCAd/ForWebsite220412/PiePlot/Adult/Atrium.json\"))"
   ]
  },
  {
   "cell_type": "markdown",
   "id": "198484ce",
   "metadata": {},
   "source": [
    "### Heart"
   ]
  },
  {
   "cell_type": "code",
   "execution_count": 29,
   "id": "1a6a903d",
   "metadata": {},
   "outputs": [],
   "source": [
    "df <- read.csv(\"~/HHCA_d/Code4Paper/ForWebsite/1-2/Heart.csv\",row.names = 1)"
   ]
  },
  {
   "cell_type": "code",
   "execution_count": 30,
   "id": "3ee35fb5",
   "metadata": {},
   "outputs": [],
   "source": [
    "colnames(df) <- c(\"Endothelial cell\", \"Cardiomyocyte cell\",\"Myeloid cell\", \"Fibroblast\", \"Lymphoid cell\", \"Smooth muscle cell\", \"Neuron\", \"Pericyte\", \"Adipocyte\")\n",
    "\n",
    "df <- df/sum(df)\n",
    "df_s <- data.frame(t(df))\n",
    "df_s$cell_type <- row.names(df_s)\n",
    "colnames(df_s) <- c(\"number\",\"cell type\")\n",
    "df_s$number <- signif(df_s$number,3)\n",
    "df_s <- df_s[,c(2,1)]\n",
    "\n",
    "# save to json\n",
    "json_str <- '['\n",
    "for(i in 1:9){\n",
    "    json_str <- paste0(json_str, '{\"name\": \"',df_s[i,1], '\", \"value\": ',df_s[i,2],\"},\")\n",
    "}\n",
    "json_str <- substr(json_str,1,nchar(json_str)-1)\n",
    "json_str <- paste0(json_str,']')"
   ]
  },
  {
   "cell_type": "code",
   "execution_count": 31,
   "id": "996e3474",
   "metadata": {},
   "outputs": [],
   "source": [
    "writeLines(json_str, paste0(\"/stor/public/chenyx/HHCAd/ForWebsite220412/PiePlot/Adult/Heart.json\"))"
   ]
  },
  {
   "cell_type": "markdown",
   "id": "fef160e2",
   "metadata": {},
   "source": [
    "## Fetal"
   ]
  },
  {
   "cell_type": "markdown",
   "id": "cf9683c0",
   "metadata": {},
   "source": [
    "### Atria"
   ]
  },
  {
   "cell_type": "code",
   "execution_count": 32,
   "id": "32326982",
   "metadata": {},
   "outputs": [],
   "source": [
    "df <- read.csv(\"~/HHCA_d/Code4Paper/ForWebsite/1-2/Fetal/Atria.csv\",row.names = 1)"
   ]
  },
  {
   "cell_type": "code",
   "execution_count": 33,
   "id": "1a3a25d2",
   "metadata": {},
   "outputs": [],
   "source": [
    "colnames(df) <- c(\"Endothelial cell\", \"Cardiomyocyte cell\",\"Myeloid cell\", \"Fibroblast\", \"Lymphoid cell\", \"Smooth muscle cell\", \"Neuron\", \"Pericyte\", \"Adipocyte\")\n",
    "\n",
    "df <- df/sum(df)\n",
    "df_s <- data.frame(t(df))\n",
    "df_s$cell_type <- row.names(df_s)\n",
    "colnames(df_s) <- c(\"number\",\"cell type\")\n",
    "df_s$number <- signif(df_s$number,3)\n",
    "df_s <- df_s[,c(2,1)]\n",
    "\n",
    "# save to json\n",
    "json_str <- '['\n",
    "for(i in 1:9){\n",
    "    json_str <- paste0(json_str, '{\"name\": \"',df_s[i,1], '\", \"value\": ',df_s[i,2],\"},\")\n",
    "}\n",
    "json_str <- substr(json_str,1,nchar(json_str)-1)\n",
    "json_str <- paste0(json_str,']')"
   ]
  },
  {
   "cell_type": "code",
   "execution_count": 34,
   "id": "d6b58795",
   "metadata": {},
   "outputs": [
    {
     "name": "stderr",
     "output_type": "stream",
     "text": [
      "Warning message in dir.create(\"/stor/public/chenyx/HHCAd/ForWebsite220412/PiePlot/Fetal/1\", :\n",
      "“'/stor/public/chenyx/HHCAd/ForWebsite220412/PiePlot/Fetal/1' already exists”\n"
     ]
    }
   ],
   "source": [
    "dir.create(\"/stor/public/chenyx/HHCAd/ForWebsite220412/PiePlot/Fetal/1\",recursive = TRUE)\n",
    "writeLines(json_str, paste0(\"/stor/public/chenyx/HHCAd/ForWebsite220412/PiePlot/Fetal/Atrium.json\"))"
   ]
  },
  {
   "cell_type": "markdown",
   "id": "dff86a42",
   "metadata": {},
   "source": [
    "### Left atria"
   ]
  },
  {
   "cell_type": "code",
   "execution_count": 35,
   "id": "af14fd16",
   "metadata": {},
   "outputs": [],
   "source": [
    "df <- read.csv(\"~/HHCA_d/Code4Paper/ForWebsite/1-2/Fetal/LA.csv\",row.names = 1)"
   ]
  },
  {
   "cell_type": "code",
   "execution_count": 36,
   "id": "6564fc80",
   "metadata": {},
   "outputs": [],
   "source": [
    "colnames(df) <- c(\"Endothelial cell\", \"Cardiomyocyte cell\",\"Myeloid cell\", \"Fibroblast\", \"Lymphoid cell\", \"Smooth muscle cell\", \"Neuron\", \"Pericyte\", \"Adipocyte\")\n",
    "\n",
    "df <- df/sum(df)\n",
    "df_s <- data.frame(t(df))\n",
    "df_s$cell_type <- row.names(df_s)\n",
    "colnames(df_s) <- c(\"number\",\"cell type\")\n",
    "df_s$number <- signif(df_s$number,3)\n",
    "df_s <- df_s[,c(2,1)]\n",
    "\n",
    "# save to json\n",
    "json_str <- '['\n",
    "for(i in 1:9){\n",
    "    json_str <- paste0(json_str, '{\"name\": \"',df_s[i,1], '\", \"value\": ',df_s[i,2],\"},\")\n",
    "}\n",
    "json_str <- substr(json_str,1,nchar(json_str)-1)\n",
    "json_str <- paste0(json_str,']')"
   ]
  },
  {
   "cell_type": "code",
   "execution_count": 37,
   "id": "db39cbcf",
   "metadata": {},
   "outputs": [],
   "source": [
    "writeLines(json_str, paste0(\"/stor/public/chenyx/HHCAd/ForWebsite220412/PiePlot/Fetal/LA.json\"))"
   ]
  },
  {
   "cell_type": "markdown",
   "id": "3a532eaa",
   "metadata": {},
   "source": [
    "### Right atria"
   ]
  },
  {
   "cell_type": "code",
   "execution_count": 38,
   "id": "53762cdc",
   "metadata": {},
   "outputs": [],
   "source": [
    "df <- read.csv(\"~/HHCA_d/Code4Paper/ForWebsite/1-2/Fetal/RA.csv\",row.names = 1)\n",
    "df <- t(df)"
   ]
  },
  {
   "cell_type": "code",
   "execution_count": 39,
   "id": "b681ab20",
   "metadata": {},
   "outputs": [],
   "source": [
    "colnames(df) <- c(\"Endothelial cell\", \"Cardiomyocyte cell\",\"Myeloid cell\", \"Fibroblast\", \"Lymphoid cell\", \"Smooth muscle cell\", \"Neuron\", \"Pericyte\", \"Adipocyte\")\n",
    "\n",
    "df <- df/sum(df)\n",
    "df_s <- data.frame(t(df))\n",
    "df_s$cell_type <- row.names(df_s)\n",
    "colnames(df_s) <- c(\"number\",\"cell type\")\n",
    "df_s$number <- signif(df_s$number,3)\n",
    "df_s <- df_s[,c(2,1)]\n",
    "\n",
    "# save to json\n",
    "json_str <- '['\n",
    "for(i in 1:9){\n",
    "    json_str <- paste0(json_str, '{\"name\": \"',df_s[i,1], '\", \"value\": ',df_s[i,2],\"},\")\n",
    "}\n",
    "json_str <- substr(json_str,1,nchar(json_str)-1)\n",
    "json_str <- paste0(json_str,']')"
   ]
  },
  {
   "cell_type": "code",
   "execution_count": 40,
   "id": "b3b591b1",
   "metadata": {},
   "outputs": [],
   "source": [
    "writeLines(json_str, paste0(\"/stor/public/chenyx/HHCAd/ForWebsite220412/PiePlot/Fetal/RA.json\"))"
   ]
  },
  {
   "cell_type": "markdown",
   "id": "2a18325e",
   "metadata": {},
   "source": [
    "### Ventricle"
   ]
  },
  {
   "cell_type": "code",
   "execution_count": 41,
   "id": "763c1a28",
   "metadata": {},
   "outputs": [],
   "source": [
    "df <- read.csv(\"~/HHCA_d/Code4Paper/ForWebsite/1-2/Fetal/Ventricle.csv\",row.names = 1)"
   ]
  },
  {
   "cell_type": "code",
   "execution_count": 42,
   "id": "7647427e",
   "metadata": {},
   "outputs": [],
   "source": [
    "colnames(df) <- c(\"Endothelial cell\", \"Cardiomyocyte cell\",\"Myeloid cell\", \"Fibroblast\", \"Lymphoid cell\", \"Smooth muscle cell\", \"Neuron\", \"Pericyte\", \"Adipocyte\")\n",
    "\n",
    "df <- df/sum(df)\n",
    "df_s <- data.frame(t(df))\n",
    "df_s$cell_type <- row.names(df_s)\n",
    "colnames(df_s) <- c(\"number\",\"cell type\")\n",
    "df_s$number <- signif(df_s$number,3)\n",
    "df_s <- df_s[,c(2,1)]\n",
    "\n",
    "# save to json\n",
    "json_str <- '['\n",
    "for(i in 1:9){\n",
    "    json_str <- paste0(json_str, '{\"name\": \"',df_s[i,1], '\", \"value\": ',df_s[i,2],\"},\")\n",
    "}\n",
    "json_str <- substr(json_str,1,nchar(json_str)-1)\n",
    "json_str <- paste0(json_str,']')"
   ]
  },
  {
   "cell_type": "code",
   "execution_count": 43,
   "id": "249841c6",
   "metadata": {},
   "outputs": [],
   "source": [
    "writeLines(json_str, paste0(\"/stor/public/chenyx/HHCAd/ForWebsite220412/PiePlot/Fetal/Ventricle.json\"))"
   ]
  },
  {
   "cell_type": "markdown",
   "id": "c1164f4c",
   "metadata": {},
   "source": [
    "### Right ventricle"
   ]
  },
  {
   "cell_type": "code",
   "execution_count": 44,
   "id": "45a61ca5",
   "metadata": {},
   "outputs": [],
   "source": [
    "df <- read.csv(\"~/HHCA_d/Code4Paper/ForWebsite/1-2/Fetal/RV.csv\",row.names = 1)\n",
    "df <- t(df)"
   ]
  },
  {
   "cell_type": "code",
   "execution_count": 45,
   "id": "5475f3e6",
   "metadata": {},
   "outputs": [],
   "source": [
    "colnames(df) <- c(\"Endothelial cell\", \"Cardiomyocyte cell\",\"Myeloid cell\", \"Fibroblast\", \"Lymphoid cell\", \"Smooth muscle cell\", \"Neuron\", \"Pericyte\", \"Adipocyte\")\n",
    "\n",
    "df <- df/sum(df)\n",
    "df_s <- data.frame(t(df))\n",
    "df_s$cell_type <- row.names(df_s)\n",
    "colnames(df_s) <- c(\"number\",\"cell type\")\n",
    "df_s$number <- signif(df_s$number,3)\n",
    "df_s <- df_s[,c(2,1)]\n",
    "\n",
    "# save to json\n",
    "json_str <- '['\n",
    "for(i in 1:9){\n",
    "    json_str <- paste0(json_str, '{\"name\": \"',df_s[i,1], '\", \"value\": ',df_s[i,2],\"},\")\n",
    "}\n",
    "json_str <- substr(json_str,1,nchar(json_str)-1)\n",
    "json_str <- paste0(json_str,']')"
   ]
  },
  {
   "cell_type": "code",
   "execution_count": 46,
   "id": "fea8018c",
   "metadata": {},
   "outputs": [],
   "source": [
    "writeLines(json_str, paste0(\"/stor/public/chenyx/HHCAd/ForWebsite220412/PiePlot/Fetal/RV.json\"))"
   ]
  },
  {
   "cell_type": "markdown",
   "id": "ec4fea72",
   "metadata": {},
   "source": [
    "### Interventricular septum"
   ]
  },
  {
   "cell_type": "code",
   "execution_count": 47,
   "id": "2745523f",
   "metadata": {},
   "outputs": [],
   "source": [
    "df <- read.csv(\"~/HHCA_d/Code4Paper/ForWebsite/1-2/Fetal/IVS.csv\",row.names = 1)"
   ]
  },
  {
   "cell_type": "code",
   "execution_count": 48,
   "id": "e8f305ca",
   "metadata": {},
   "outputs": [],
   "source": [
    "colnames(df) <- c(\"Endothelial cell\", \"Cardiomyocyte cell\",\"Myeloid cell\", \"Fibroblast\", \"Lymphoid cell\", \"Smooth muscle cell\", \"Neuron\", \"Pericyte\", \"Adipocyte\")\n",
    "\n",
    "df <- df/sum(df)\n",
    "df_s <- data.frame(t(df))\n",
    "df_s$cell_type <- row.names(df_s)\n",
    "colnames(df_s) <- c(\"number\",\"cell type\")\n",
    "df_s$number <- signif(df_s$number,3)\n",
    "df_s <- df_s[,c(2,1)]\n",
    "\n",
    "# save to json\n",
    "json_str <- '['\n",
    "for(i in 1:9){\n",
    "    json_str <- paste0(json_str, '{\"name\": \"',df_s[i,1], '\", \"value\": ',df_s[i,2],\"},\")\n",
    "}\n",
    "json_str <- substr(json_str,1,nchar(json_str)-1)\n",
    "json_str <- paste0(json_str,']')"
   ]
  },
  {
   "cell_type": "code",
   "execution_count": 49,
   "id": "a98241b2",
   "metadata": {},
   "outputs": [],
   "source": [
    "writeLines(json_str, paste0(\"/stor/public/chenyx/HHCAd/ForWebsite220412/PiePlot/Fetal/IVS.json\"))"
   ]
  },
  {
   "cell_type": "markdown",
   "id": "15f27f9d",
   "metadata": {},
   "source": [
    "### Left ventricle"
   ]
  },
  {
   "cell_type": "code",
   "execution_count": 50,
   "id": "61972fb3",
   "metadata": {},
   "outputs": [],
   "source": [
    "df <- read.csv(\"~/HHCA_d/Code4Paper/ForWebsite/1-2/Fetal/LV.csv\",row.names = 1)"
   ]
  },
  {
   "cell_type": "code",
   "execution_count": 51,
   "id": "62ac0416",
   "metadata": {},
   "outputs": [],
   "source": [
    "colnames(df) <- c(\"Endothelial cell\", \"Cardiomyocyte cell\",\"Myeloid cell\", \"Fibroblast\", \"Lymphoid cell\", \"Smooth muscle cell\", \"Neuron\", \"Pericyte\", \"Adipocyte\")\n",
    "\n",
    "df <- df/sum(df)\n",
    "df_s <- data.frame(t(df))\n",
    "df_s$cell_type <- row.names(df_s)\n",
    "colnames(df_s) <- c(\"number\",\"cell type\")\n",
    "df_s$number <- signif(df_s$number,3)\n",
    "df_s <- df_s[,c(2,1)]\n",
    "\n",
    "# save to json\n",
    "json_str <- '['\n",
    "for(i in 1:9){\n",
    "    json_str <- paste0(json_str, '{\"name\": \"',df_s[i,1], '\", \"value\": ',df_s[i,2],\"},\")\n",
    "}\n",
    "json_str <- substr(json_str,1,nchar(json_str)-1)\n",
    "json_str <- paste0(json_str,']')"
   ]
  },
  {
   "cell_type": "code",
   "execution_count": 52,
   "id": "6f6d4da7",
   "metadata": {},
   "outputs": [],
   "source": [
    "writeLines(json_str, paste0(\"/stor/public/chenyx/HHCAd/ForWebsite220412/PiePlot/Fetal/IVS.json\"))"
   ]
  },
  {
   "cell_type": "markdown",
   "id": "8114fbf1",
   "metadata": {},
   "source": [
    "### Valve"
   ]
  },
  {
   "cell_type": "code",
   "execution_count": 53,
   "id": "4d78b0e9",
   "metadata": {},
   "outputs": [],
   "source": [
    "df <- read.csv(\"~/HHCA_d/Code4Paper/ForWebsite/1-2/Fetal/Valve.csv\",row.names = 1)"
   ]
  },
  {
   "cell_type": "code",
   "execution_count": 54,
   "id": "e6429f13",
   "metadata": {},
   "outputs": [],
   "source": [
    "colnames(df) <- c(\"Endothelial cell\", \"Cardiomyocyte cell\",\"Myeloid cell\", \"Fibroblast\", \"Lymphoid cell\", \"Smooth muscle cell\", \"Neuron\", \"Pericyte\", \"Adipocyte\")\n",
    "\n",
    "df <- df/sum(df)\n",
    "df_s <- data.frame(t(df))\n",
    "df_s$cell_type <- row.names(df_s)\n",
    "colnames(df_s) <- c(\"number\",\"cell type\")\n",
    "df_s$number <- signif(df_s$number,3)\n",
    "df_s <- df_s[,c(2,1)]\n",
    "\n",
    "# save to json\n",
    "json_str <- '['\n",
    "for(i in 1:9){\n",
    "    json_str <- paste0(json_str, '{\"name\": \"',df_s[i,1], '\", \"value\": ',df_s[i,2],\"},\")\n",
    "}\n",
    "json_str <- substr(json_str,1,nchar(json_str)-1)\n",
    "json_str <- paste0(json_str,']')"
   ]
  },
  {
   "cell_type": "code",
   "execution_count": 55,
   "id": "4dea4646",
   "metadata": {},
   "outputs": [],
   "source": [
    "writeLines(json_str, paste0(\"/stor/public/chenyx/HHCAd/ForWebsite220412/PiePlot/Fetal/Valve.json\"))"
   ]
  },
  {
   "cell_type": "markdown",
   "id": "3842d212",
   "metadata": {},
   "source": [
    "### Mitral valve"
   ]
  },
  {
   "cell_type": "code",
   "execution_count": 56,
   "id": "fa11d281",
   "metadata": {},
   "outputs": [],
   "source": [
    "df <- read.csv(\"~/HHCA_d/Code4Paper/ForWebsite/1-2/Fetal/MV.csv\",row.names = 1)"
   ]
  },
  {
   "cell_type": "code",
   "execution_count": 57,
   "id": "84ea3d90",
   "metadata": {},
   "outputs": [],
   "source": [
    "colnames(df) <- c(\"Endothelial cell\", \"Cardiomyocyte cell\",\"Myeloid cell\", \"Fibroblast\", \"Lymphoid cell\", \"Smooth muscle cell\", \"Neuron\", \"Pericyte\", \"Adipocyte\")\n",
    "\n",
    "df <- df/sum(df)\n",
    "df_s <- data.frame(t(df))\n",
    "df_s$cell_type <- row.names(df_s)\n",
    "colnames(df_s) <- c(\"number\",\"cell type\")\n",
    "df_s$number <- signif(df_s$number,3)\n",
    "df_s <- df_s[,c(2,1)]\n",
    "\n",
    "# save to json\n",
    "json_str <- '['\n",
    "for(i in 1:9){\n",
    "    json_str <- paste0(json_str, '{\"name\": \"',df_s[i,1], '\", \"value\": ',df_s[i,2],\"},\")\n",
    "}\n",
    "json_str <- substr(json_str,1,nchar(json_str)-1)\n",
    "json_str <- paste0(json_str,']')"
   ]
  },
  {
   "cell_type": "code",
   "execution_count": 58,
   "id": "a4c2436e",
   "metadata": {},
   "outputs": [],
   "source": [
    "writeLines(json_str, paste0(\"/stor/public/chenyx/HHCAd/ForWebsite220412/PiePlot/Fetal/MV.json\"))"
   ]
  },
  {
   "cell_type": "markdown",
   "id": "e95cd2d4",
   "metadata": {},
   "source": [
    "### Tricuspid valve"
   ]
  },
  {
   "cell_type": "code",
   "execution_count": 59,
   "id": "66d8b0d8",
   "metadata": {},
   "outputs": [],
   "source": [
    "df <- read.csv(\"~/HHCA_d/Code4Paper/ForWebsite/1-2/Fetal/TV.csv\",row.names = 1)"
   ]
  },
  {
   "cell_type": "code",
   "execution_count": 60,
   "id": "0849ddd9",
   "metadata": {},
   "outputs": [],
   "source": [
    "colnames(df) <- c(\"Endothelial cell\", \"Cardiomyocyte cell\",\"Myeloid cell\", \"Fibroblast\", \"Lymphoid cell\", \"Smooth muscle cell\", \"Neuron\", \"Pericyte\", \"Adipocyte\")\n",
    "\n",
    "df <- df/sum(df)\n",
    "df_s <- data.frame(t(df))\n",
    "df_s$cell_type <- row.names(df_s)\n",
    "colnames(df_s) <- c(\"number\",\"cell type\")\n",
    "df_s$number <- signif(df_s$number,3)\n",
    "df_s <- df_s[,c(2,1)]\n",
    "\n",
    "# save to json\n",
    "json_str <- '['\n",
    "for(i in 1:9){\n",
    "    json_str <- paste0(json_str, '{\"name\": \"',df_s[i,1], '\", \"value\": ',df_s[i,2],\"},\")\n",
    "}\n",
    "json_str <- substr(json_str,1,nchar(json_str)-1)\n",
    "json_str <- paste0(json_str,']')"
   ]
  },
  {
   "cell_type": "code",
   "execution_count": 61,
   "id": "6ad4cee3",
   "metadata": {},
   "outputs": [],
   "source": [
    "writeLines(json_str, paste0(\"/stor/public/chenyx/HHCAd/ForWebsite220412/PiePlot/Fetal/TV.json\"))"
   ]
  },
  {
   "cell_type": "markdown",
   "id": "4db346ac",
   "metadata": {},
   "source": [
    "### Aortic valve"
   ]
  },
  {
   "cell_type": "code",
   "execution_count": 62,
   "id": "2d4625c1",
   "metadata": {},
   "outputs": [],
   "source": [
    "df <- read.csv(\"~/HHCA_d/Code4Paper/ForWebsite/1-2/Fetal/AV.csv\",row.names = 1)"
   ]
  },
  {
   "cell_type": "code",
   "execution_count": 63,
   "id": "298c70c3",
   "metadata": {},
   "outputs": [],
   "source": [
    "colnames(df) <- c(\"Endothelial cell\", \"Cardiomyocyte cell\",\"Myeloid cell\", \"Fibroblast\", \"Lymphoid cell\", \"Smooth muscle cell\", \"Neuron\", \"Pericyte\", \"Adipocyte\")\n",
    "\n",
    "df <- df/sum(df)\n",
    "df_s <- data.frame(t(df))\n",
    "df_s$cell_type <- row.names(df_s)\n",
    "colnames(df_s) <- c(\"number\",\"cell type\")\n",
    "df_s$number <- signif(df_s$number,3)\n",
    "df_s <- df_s[,c(2,1)]\n",
    "\n",
    "# save to json\n",
    "json_str <- '['\n",
    "for(i in 1:9){\n",
    "    json_str <- paste0(json_str, '{\"name\": \"',df_s[i,1], '\", \"value\": ',df_s[i,2],\"},\")\n",
    "}\n",
    "json_str <- substr(json_str,1,nchar(json_str)-1)\n",
    "json_str <- paste0(json_str,']')"
   ]
  },
  {
   "cell_type": "code",
   "execution_count": 64,
   "id": "236e009d",
   "metadata": {},
   "outputs": [],
   "source": [
    "writeLines(json_str, paste0(\"/stor/public/chenyx/HHCAd/ForWebsite220412/PiePlot/Fetal/AV.json\"))"
   ]
  },
  {
   "cell_type": "markdown",
   "id": "bee9846a",
   "metadata": {},
   "source": [
    "### Blood vessel"
   ]
  },
  {
   "cell_type": "code",
   "execution_count": 65,
   "id": "232f97bf",
   "metadata": {},
   "outputs": [],
   "source": [
    "df <- read.csv(\"~/HHCA_d/Code4Paper/ForWebsite/1-2/Fetal/Vessel.csv\",row.names = 1)"
   ]
  },
  {
   "cell_type": "code",
   "execution_count": 66,
   "id": "3ad2192c",
   "metadata": {},
   "outputs": [],
   "source": [
    "colnames(df) <- c(\"Endothelial cell\", \"Cardiomyocyte cell\",\"Myeloid cell\", \"Fibroblast\", \"Lymphoid cell\", \"Smooth muscle cell\", \"Neuron\", \"Pericyte\", \"Adipocyte\")\n",
    "\n",
    "df <- df/sum(df)\n",
    "df_s <- data.frame(t(df))\n",
    "df_s$cell_type <- row.names(df_s)\n",
    "colnames(df_s) <- c(\"number\",\"cell type\")\n",
    "df_s$number <- signif(df_s$number,3)\n",
    "df_s <- df_s[,c(2,1)]\n",
    "\n",
    "# save to json\n",
    "json_str <- '['\n",
    "for(i in 1:9){\n",
    "    json_str <- paste0(json_str, '{\"name\": \"',df_s[i,1], '\", \"value\": ',df_s[i,2],\"},\")\n",
    "}\n",
    "json_str <- substr(json_str,1,nchar(json_str)-1)\n",
    "json_str <- paste0(json_str,']')"
   ]
  },
  {
   "cell_type": "code",
   "execution_count": 67,
   "id": "6ba86733",
   "metadata": {},
   "outputs": [],
   "source": [
    "writeLines(json_str, paste0(\"/stor/public/chenyx/HHCAd/ForWebsite220412/PiePlot/Fetal/Blood_vessel.json\"))"
   ]
  },
  {
   "cell_type": "markdown",
   "id": "d56887a1",
   "metadata": {},
   "source": [
    "### Pulmonary artery"
   ]
  },
  {
   "cell_type": "code",
   "execution_count": 68,
   "id": "95d2b677",
   "metadata": {},
   "outputs": [],
   "source": [
    "df <- read.csv(\"~/HHCA_d/Code4Paper/ForWebsite/1-2/Fetal/PA.csv\",row.names = 1)"
   ]
  },
  {
   "cell_type": "code",
   "execution_count": 69,
   "id": "45dcdae9",
   "metadata": {},
   "outputs": [],
   "source": [
    "colnames(df) <- c(\"Endothelial cell\", \"Cardiomyocyte cell\",\"Myeloid cell\", \"Fibroblast\", \"Lymphoid cell\", \"Smooth muscle cell\", \"Neuron\", \"Pericyte\", \"Adipocyte\")\n",
    "\n",
    "df <- df/sum(df)\n",
    "df_s <- data.frame(t(df))\n",
    "df_s$cell_type <- row.names(df_s)\n",
    "colnames(df_s) <- c(\"number\",\"cell type\")\n",
    "df_s$number <- signif(df_s$number,3)\n",
    "df_s <- df_s[,c(2,1)]\n",
    "\n",
    "# save to json\n",
    "json_str <- '['\n",
    "for(i in 1:9){\n",
    "    json_str <- paste0(json_str, '{\"name\": \"',df_s[i,1], '\", \"value\": ',df_s[i,2],\"},\")\n",
    "}\n",
    "json_str <- substr(json_str,1,nchar(json_str)-1)\n",
    "json_str <- paste0(json_str,']')"
   ]
  },
  {
   "cell_type": "code",
   "execution_count": 70,
   "id": "5d13f9ba",
   "metadata": {},
   "outputs": [],
   "source": [
    "writeLines(json_str, paste0(\"/stor/public/chenyx/HHCAd/ForWebsite220412/PiePlot/Fetal/PA.json\"))"
   ]
  },
  {
   "cell_type": "markdown",
   "id": "74df40f2",
   "metadata": {},
   "source": [
    "### Aorta"
   ]
  },
  {
   "cell_type": "code",
   "execution_count": 71,
   "id": "40972a23",
   "metadata": {},
   "outputs": [],
   "source": [
    "df <- read.csv(\"~/HHCA_d/Code4Paper/ForWebsite/1-2/Fetal/AO.csv\",row.names = 1)"
   ]
  },
  {
   "cell_type": "code",
   "execution_count": 72,
   "id": "a92f5724",
   "metadata": {},
   "outputs": [],
   "source": [
    "colnames(df) <- c(\"Endothelial cell\", \"Cardiomyocyte cell\",\"Myeloid cell\", \"Fibroblast\", \"Lymphoid cell\", \"Smooth muscle cell\", \"Neuron\", \"Pericyte\", \"Adipocyte\")\n",
    "\n",
    "df <- df/sum(df)\n",
    "df_s <- data.frame(t(df))\n",
    "df_s$cell_type <- row.names(df_s)\n",
    "colnames(df_s) <- c(\"number\",\"cell type\")\n",
    "df_s$number <- signif(df_s$number,3)\n",
    "df_s <- df_s[,c(2,1)]\n",
    "\n",
    "# save to json\n",
    "json_str <- '['\n",
    "for(i in 1:9){\n",
    "    json_str <- paste0(json_str, '{\"name\": \"',df_s[i,1], '\", \"value\": ',df_s[i,2],\"},\")\n",
    "}\n",
    "json_str <- substr(json_str,1,nchar(json_str)-1)\n",
    "json_str <- paste0(json_str,']')"
   ]
  },
  {
   "cell_type": "code",
   "execution_count": 73,
   "id": "991f203a",
   "metadata": {},
   "outputs": [],
   "source": [
    "writeLines(json_str, paste0(\"/stor/public/chenyx/HHCAd/ForWebsite220412/PiePlot/Fetal/AO.json\"))"
   ]
  },
  {
   "cell_type": "markdown",
   "id": "9077909b",
   "metadata": {},
   "source": [
    "### Heart"
   ]
  },
  {
   "cell_type": "code",
   "execution_count": 74,
   "id": "4c0a8e02",
   "metadata": {},
   "outputs": [],
   "source": [
    "df <- read.csv(\"~/HHCA_d/Code4Paper/ForWebsite/1-2/Fetal/Heart.csv\",row.names = 1)"
   ]
  },
  {
   "cell_type": "code",
   "execution_count": 75,
   "id": "674aba2a",
   "metadata": {},
   "outputs": [],
   "source": [
    "colnames(df) <- c(\"Endothelial cell\", \"Cardiomyocyte cell\",\"Myeloid cell\", \"Fibroblast\", \"Lymphoid cell\", \"Smooth muscle cell\", \"Neuron\", \"Pericyte\", \"Adipocyte\")\n",
    "\n",
    "df <- df/sum(df)\n",
    "df_s <- data.frame(t(df))\n",
    "df_s$cell_type <- row.names(df_s)\n",
    "colnames(df_s) <- c(\"number\",\"cell type\")\n",
    "df_s$number <- signif(df_s$number,3)\n",
    "df_s <- df_s[,c(2,1)]\n",
    "\n",
    "# save to json\n",
    "json_str <- '['\n",
    "for(i in 1:9){\n",
    "    json_str <- paste0(json_str, '{\"name\": \"',df_s[i,1], '\", \"value\": ',df_s[i,2],\"},\")\n",
    "}\n",
    "json_str <- substr(json_str,1,nchar(json_str)-1)\n",
    "json_str <- paste0(json_str,']')"
   ]
  },
  {
   "cell_type": "code",
   "execution_count": 76,
   "id": "c7c2f084",
   "metadata": {},
   "outputs": [],
   "source": [
    "writeLines(json_str, paste0(\"/stor/public/chenyx/HHCAd/ForWebsite220412/PiePlot/Fetal/Heart.csv\"))"
   ]
  },
  {
   "cell_type": "markdown",
   "id": "e06fb697",
   "metadata": {},
   "source": [
    "## Fetal"
   ]
  },
  {
   "cell_type": "markdown",
   "id": "ac8f61ac",
   "metadata": {},
   "source": [
    "### LV"
   ]
  },
  {
   "cell_type": "code",
   "execution_count": 4,
   "id": "825dd78b",
   "metadata": {},
   "outputs": [],
   "source": [
    "df <- read.csv(\"~/HHCA_d/Code4Paper/ForWebsite/1-2/Fetal/LV.csv\",row.names = 1)"
   ]
  },
  {
   "cell_type": "code",
   "execution_count": 6,
   "id": "9dd70418",
   "metadata": {},
   "outputs": [],
   "source": [
    "colnames(df) <- c(\"Endothelial cell\", \"Cardiomyocyte cell\",\"Myeloid cell\", \"Fibroblast\", \"Lymphoid cell\", \"Smooth muscle cell\", \"Neuron\", \"Pericyte\", \"Adipocyte\")\n",
    "\n",
    "df <- df/sum(df)\n",
    "df_s <- data.frame(t(df))\n",
    "df_s$cell_type <- row.names(df_s)\n",
    "colnames(df_s) <- c(\"number\",\"cell type\")\n",
    "df_s$number <- signif(df_s$number,3)\n",
    "df_s <- df_s[,c(2,1)]\n",
    "\n",
    "# save to json\n",
    "json_str <- '['\n",
    "for(i in 1:9){\n",
    "    json_str <- paste0(json_str, '{\"name\": \"',df_s[i,1], '\", \"value\": ',df_s[i,2],\"},\")\n",
    "}\n",
    "json_str <- substr(json_str,1,nchar(json_str)-1)\n",
    "json_str <- paste0(json_str,']')"
   ]
  },
  {
   "cell_type": "code",
   "execution_count": 8,
   "id": "52c7b41a",
   "metadata": {},
   "outputs": [
    {
     "data": {
      "text/html": [
       "'[{\"name\": \"Endothelial cell\", \"value\": 0.157},{\"name\": \"Cardiomyocyte cell\", \"value\": 0.428},{\"name\": \"Myeloid cell\", \"value\": 0.11},{\"name\": \"Fibroblast\", \"value\": 0.26},{\"name\": \"Lymphoid cell\", \"value\": 0.0453},{\"name\": \"Smooth muscle cell\", \"value\": 5.55e-05},{\"name\": \"Neuron\", \"value\": 0},{\"name\": \"Pericyte\", \"value\": 0},{\"name\": \"Adipocyte\", \"value\": 0}]'"
      ],
      "text/latex": [
       "'{[}\\{\"name\": \"Endothelial cell\", \"value\": 0.157\\},\\{\"name\": \"Cardiomyocyte cell\", \"value\": 0.428\\},\\{\"name\": \"Myeloid cell\", \"value\": 0.11\\},\\{\"name\": \"Fibroblast\", \"value\": 0.26\\},\\{\"name\": \"Lymphoid cell\", \"value\": 0.0453\\},\\{\"name\": \"Smooth muscle cell\", \"value\": 5.55e-05\\},\\{\"name\": \"Neuron\", \"value\": 0\\},\\{\"name\": \"Pericyte\", \"value\": 0\\},\\{\"name\": \"Adipocyte\", \"value\": 0\\}{]}'"
      ],
      "text/markdown": [
       "'[{\"name\": \"Endothelial cell\", \"value\": 0.157},{\"name\": \"Cardiomyocyte cell\", \"value\": 0.428},{\"name\": \"Myeloid cell\", \"value\": 0.11},{\"name\": \"Fibroblast\", \"value\": 0.26},{\"name\": \"Lymphoid cell\", \"value\": 0.0453},{\"name\": \"Smooth muscle cell\", \"value\": 5.55e-05},{\"name\": \"Neuron\", \"value\": 0},{\"name\": \"Pericyte\", \"value\": 0},{\"name\": \"Adipocyte\", \"value\": 0}]'"
      ],
      "text/plain": [
       "[1] \"[{\\\"name\\\": \\\"Endothelial cell\\\", \\\"value\\\": 0.157},{\\\"name\\\": \\\"Cardiomyocyte cell\\\", \\\"value\\\": 0.428},{\\\"name\\\": \\\"Myeloid cell\\\", \\\"value\\\": 0.11},{\\\"name\\\": \\\"Fibroblast\\\", \\\"value\\\": 0.26},{\\\"name\\\": \\\"Lymphoid cell\\\", \\\"value\\\": 0.0453},{\\\"name\\\": \\\"Smooth muscle cell\\\", \\\"value\\\": 5.55e-05},{\\\"name\\\": \\\"Neuron\\\", \\\"value\\\": 0},{\\\"name\\\": \\\"Pericyte\\\", \\\"value\\\": 0},{\\\"name\\\": \\\"Adipocyte\\\", \\\"value\\\": 0}]\""
      ]
     },
     "metadata": {},
     "output_type": "display_data"
    }
   ],
   "source": [
    "json_str"
   ]
  },
  {
   "cell_type": "code",
   "execution_count": 7,
   "id": "5a7b0de1",
   "metadata": {},
   "outputs": [
    {
     "name": "stderr",
     "output_type": "stream",
     "text": [
      "Warning message in dir.create(\"/stor/public/chenyx/HHCAd/ForWebsite220412/PiePlot/Fetal/\", :\n",
      "“'/stor/public/chenyx/HHCAd/ForWebsite220412/PiePlot/Fetal' already exists”\n"
     ]
    }
   ],
   "source": [
    "dir.create(\"/stor/public/chenyx/HHCAd/ForWebsite220412/PiePlot/Fetal/\",recursive = TRUE)\n",
    "writeLines(json_str, paste0(\"/stor/public/chenyx/HHCAd/ForWebsite220412/PiePlot/Fetal/LV.json\"))"
   ]
  },
  {
   "cell_type": "markdown",
   "id": "eb2ed664",
   "metadata": {},
   "source": [
    "### IVS"
   ]
  },
  {
   "cell_type": "code",
   "execution_count": 9,
   "id": "6ad8aae1",
   "metadata": {},
   "outputs": [],
   "source": [
    "df <- read.csv(\"~/HHCA_d/Code4Paper/ForWebsite/1-2/Fetal/IVS.csv\",row.names = 1)"
   ]
  },
  {
   "cell_type": "code",
   "execution_count": 10,
   "id": "8ee4855f",
   "metadata": {},
   "outputs": [],
   "source": [
    "colnames(df) <- c(\"Endothelial cell\", \"Cardiomyocyte cell\",\"Myeloid cell\", \"Fibroblast\", \"Lymphoid cell\", \"Smooth muscle cell\", \"Neuron\", \"Pericyte\", \"Adipocyte\")\n",
    "\n",
    "df <- df/sum(df)\n",
    "df_s <- data.frame(t(df))\n",
    "df_s$cell_type <- row.names(df_s)\n",
    "colnames(df_s) <- c(\"number\",\"cell type\")\n",
    "df_s$number <- signif(df_s$number,3)\n",
    "df_s <- df_s[,c(2,1)]\n",
    "\n",
    "# save to json\n",
    "json_str <- '['\n",
    "for(i in 1:9){\n",
    "    json_str <- paste0(json_str, '{\"name\": \"',df_s[i,1], '\", \"value\": ',df_s[i,2],\"},\")\n",
    "}\n",
    "json_str <- substr(json_str,1,nchar(json_str)-1)\n",
    "json_str <- paste0(json_str,']')"
   ]
  },
  {
   "cell_type": "code",
   "execution_count": 11,
   "id": "0dcc3453",
   "metadata": {},
   "outputs": [],
   "source": [
    "writeLines(json_str, paste0(\"/stor/public/chenyx/HHCAd/ForWebsite220412/PiePlot/Fetal/IVS.json\"))"
   ]
  },
  {
   "cell_type": "markdown",
   "id": "f54688de",
   "metadata": {},
   "source": [
    "### RV"
   ]
  },
  {
   "cell_type": "code",
   "execution_count": 12,
   "id": "3ca88338",
   "metadata": {},
   "outputs": [],
   "source": [
    "df <- read.csv(\"~/HHCA_d/Code4Paper/ForWebsite/1-2/Fetal/RV.csv\",row.names = 1)"
   ]
  },
  {
   "cell_type": "code",
   "execution_count": 15,
   "id": "308453dd",
   "metadata": {},
   "outputs": [],
   "source": [
    "df  <- t(df)"
   ]
  },
  {
   "cell_type": "code",
   "execution_count": 16,
   "id": "f26e75f2",
   "metadata": {},
   "outputs": [],
   "source": [
    "colnames(df) <- c(\"Endothelial cell\", \"Cardiomyocyte cell\",\"Myeloid cell\", \"Fibroblast\", \"Lymphoid cell\", \"Smooth muscle cell\", \"Neuron\", \"Pericyte\", \"Adipocyte\")\n",
    "\n",
    "df <- df/sum(df)\n",
    "df_s <- data.frame(t(df))\n",
    "df_s$cell_type <- row.names(df_s)\n",
    "colnames(df_s) <- c(\"number\",\"cell type\")\n",
    "df_s$number <- signif(df_s$number,3)\n",
    "df_s <- df_s[,c(2,1)]\n",
    "\n",
    "# save to json\n",
    "json_str <- '['\n",
    "for(i in 1:9){\n",
    "    json_str <- paste0(json_str, '{\"name\": \"',df_s[i,1], '\", \"value\": ',df_s[i,2],\"},\")\n",
    "}\n",
    "json_str <- substr(json_str,1,nchar(json_str)-1)\n",
    "json_str <- paste0(json_str,']')"
   ]
  },
  {
   "cell_type": "code",
   "execution_count": 17,
   "id": "fb3a481f",
   "metadata": {},
   "outputs": [],
   "source": [
    "writeLines(json_str, paste0(\"/stor/public/chenyx/HHCAd/ForWebsite220412/PiePlot/Fetal/RV.json\"))"
   ]
  },
  {
   "cell_type": "markdown",
   "id": "51ed8238",
   "metadata": {},
   "source": [
    "### Ventricle"
   ]
  },
  {
   "cell_type": "code",
   "execution_count": 18,
   "id": "087bea70",
   "metadata": {},
   "outputs": [],
   "source": [
    "df <- read.csv(\"~/HHCA_d/Code4Paper/ForWebsite/1-2/Fetal/Ventricle.csv\",row.names = 1)"
   ]
  },
  {
   "cell_type": "code",
   "execution_count": 19,
   "id": "f14e2e81",
   "metadata": {},
   "outputs": [],
   "source": [
    "colnames(df) <- c(\"Endothelial cell\", \"Cardiomyocyte cell\",\"Myeloid cell\", \"Fibroblast\", \"Lymphoid cell\", \"Smooth muscle cell\", \"Neuron\", \"Pericyte\", \"Adipocyte\")\n",
    "\n",
    "df <- df/sum(df)\n",
    "df_s <- data.frame(t(df))\n",
    "df_s$cell_type <- row.names(df_s)\n",
    "colnames(df_s) <- c(\"number\",\"cell type\")\n",
    "df_s$number <- signif(df_s$number,3)\n",
    "df_s <- df_s[,c(2,1)]\n",
    "\n",
    "# save to json\n",
    "json_str <- '['\n",
    "for(i in 1:9){\n",
    "    json_str <- paste0(json_str, '{\"name\": \"',df_s[i,1], '\", \"value\": ',df_s[i,2],\"},\")\n",
    "}\n",
    "json_str <- substr(json_str,1,nchar(json_str)-1)\n",
    "json_str <- paste0(json_str,']')"
   ]
  },
  {
   "cell_type": "code",
   "execution_count": 20,
   "id": "2767b634",
   "metadata": {},
   "outputs": [],
   "source": [
    "writeLines(json_str, paste0(\"/stor/public/chenyx/HHCAd/ForWebsite220412/PiePlot/Fetal/Ventricle.json\"))"
   ]
  },
  {
   "cell_type": "markdown",
   "id": "2a335b94",
   "metadata": {},
   "source": [
    "### RA"
   ]
  },
  {
   "cell_type": "code",
   "execution_count": 21,
   "id": "97ea9016",
   "metadata": {},
   "outputs": [],
   "source": [
    "df <- read.csv(\"~/HHCA_d/Code4Paper/ForWebsite/1-2/Fetal/RA.csv\",row.names = 1)"
   ]
  },
  {
   "cell_type": "code",
   "execution_count": 23,
   "id": "0541c2c2",
   "metadata": {},
   "outputs": [],
   "source": [
    "df<- t(df)"
   ]
  },
  {
   "cell_type": "code",
   "execution_count": 24,
   "id": "9993e764",
   "metadata": {},
   "outputs": [],
   "source": [
    "colnames(df) <- c(\"Endothelial cell\", \"Cardiomyocyte cell\",\"Myeloid cell\", \"Fibroblast\", \"Lymphoid cell\", \"Smooth muscle cell\", \"Neuron\", \"Pericyte\", \"Adipocyte\")\n",
    "\n",
    "df <- df/sum(df)\n",
    "df_s <- data.frame(t(df))\n",
    "df_s$cell_type <- row.names(df_s)\n",
    "colnames(df_s) <- c(\"number\",\"cell type\")\n",
    "df_s$number <- signif(df_s$number,3)\n",
    "df_s <- df_s[,c(2,1)]\n",
    "\n",
    "# save to json\n",
    "json_str <- '['\n",
    "for(i in 1:9){\n",
    "    json_str <- paste0(json_str, '{\"name\": \"',df_s[i,1], '\", \"value\": ',df_s[i,2],\"},\")\n",
    "}\n",
    "json_str <- substr(json_str,1,nchar(json_str)-1)\n",
    "json_str <- paste0(json_str,']')"
   ]
  },
  {
   "cell_type": "code",
   "execution_count": 25,
   "id": "a423291c",
   "metadata": {},
   "outputs": [],
   "source": [
    "writeLines(json_str, paste0(\"/stor/public/chenyx/HHCAd/ForWebsite220412/PiePlot/Fetal/RA.json\"))"
   ]
  },
  {
   "cell_type": "markdown",
   "id": "630f1da9",
   "metadata": {},
   "source": [
    "### LA"
   ]
  },
  {
   "cell_type": "code",
   "execution_count": 26,
   "id": "ab681263",
   "metadata": {},
   "outputs": [],
   "source": [
    "df <- read.csv(\"~/HHCA_d/Code4Paper/ForWebsite/1-2/Fetal/LA.csv\",row.names = 1)"
   ]
  },
  {
   "cell_type": "code",
   "execution_count": 27,
   "id": "2e0f344c",
   "metadata": {},
   "outputs": [],
   "source": [
    "colnames(df) <- c(\"Endothelial cell\", \"Cardiomyocyte cell\",\"Myeloid cell\", \"Fibroblast\", \"Lymphoid cell\", \"Smooth muscle cell\", \"Neuron\", \"Pericyte\", \"Adipocyte\")\n",
    "\n",
    "df <- df/sum(df)\n",
    "df_s <- data.frame(t(df))\n",
    "df_s$cell_type <- row.names(df_s)\n",
    "colnames(df_s) <- c(\"number\",\"cell type\")\n",
    "df_s$number <- signif(df_s$number,3)\n",
    "df_s <- df_s[,c(2,1)]\n",
    "\n",
    "# save to json\n",
    "json_str <- '['\n",
    "for(i in 1:9){\n",
    "    json_str <- paste0(json_str, '{\"name\": \"',df_s[i,1], '\", \"value\": ',df_s[i,2],\"},\")\n",
    "}\n",
    "json_str <- substr(json_str,1,nchar(json_str)-1)\n",
    "json_str <- paste0(json_str,']')"
   ]
  },
  {
   "cell_type": "code",
   "execution_count": 28,
   "id": "a5ab2960",
   "metadata": {},
   "outputs": [],
   "source": [
    "writeLines(json_str, paste0(\"/stor/public/chenyx/HHCAd/ForWebsite220412/PiePlot/Fetal/LA.json\"))"
   ]
  },
  {
   "cell_type": "markdown",
   "id": "cb3d2141",
   "metadata": {},
   "source": [
    "### Atrium"
   ]
  },
  {
   "cell_type": "code",
   "execution_count": 29,
   "id": "dd6738cc",
   "metadata": {},
   "outputs": [],
   "source": [
    "df <- read.csv(\"~/HHCA_d/Code4Paper/ForWebsite/1-2/Fetal/Atria.csv\",row.names = 1)"
   ]
  },
  {
   "cell_type": "code",
   "execution_count": 30,
   "id": "05e32481",
   "metadata": {},
   "outputs": [],
   "source": [
    "colnames(df) <- c(\"Endothelial cell\", \"Cardiomyocyte cell\",\"Myeloid cell\", \"Fibroblast\", \"Lymphoid cell\", \"Smooth muscle cell\", \"Neuron\", \"Pericyte\", \"Adipocyte\")\n",
    "\n",
    "df <- df/sum(df)\n",
    "df_s <- data.frame(t(df))\n",
    "df_s$cell_type <- row.names(df_s)\n",
    "colnames(df_s) <- c(\"number\",\"cell type\")\n",
    "df_s$number <- signif(df_s$number,3)\n",
    "df_s <- df_s[,c(2,1)]\n",
    "\n",
    "# save to json\n",
    "json_str <- '['\n",
    "for(i in 1:9){\n",
    "    json_str <- paste0(json_str, '{\"name\": \"',df_s[i,1], '\", \"value\": ',df_s[i,2],\"},\")\n",
    "}\n",
    "json_str <- substr(json_str,1,nchar(json_str)-1)\n",
    "json_str <- paste0(json_str,']')"
   ]
  },
  {
   "cell_type": "code",
   "execution_count": 31,
   "id": "d1b458f6",
   "metadata": {},
   "outputs": [],
   "source": [
    "writeLines(json_str, paste0(\"/stor/public/chenyx/HHCAd/ForWebsite220412/PiePlot/Fetal/Atrium.json\"))"
   ]
  },
  {
   "cell_type": "markdown",
   "id": "edb5ff08",
   "metadata": {},
   "source": [
    "### Valve"
   ]
  },
  {
   "cell_type": "code",
   "execution_count": 32,
   "id": "09cd1b89",
   "metadata": {},
   "outputs": [],
   "source": [
    "df <- read.csv(\"~/HHCA_d/Code4Paper/ForWebsite/1-2/Fetal/Valve.csv\",row.names = 1)"
   ]
  },
  {
   "cell_type": "code",
   "execution_count": 33,
   "id": "ac74287e",
   "metadata": {},
   "outputs": [],
   "source": [
    "colnames(df) <- c(\"Endothelial cell\", \"Cardiomyocyte cell\",\"Myeloid cell\", \"Fibroblast\", \"Lymphoid cell\", \"Smooth muscle cell\", \"Neuron\", \"Pericyte\", \"Adipocyte\")\n",
    "\n",
    "df <- df/sum(df)\n",
    "df_s <- data.frame(t(df))\n",
    "df_s$cell_type <- row.names(df_s)\n",
    "colnames(df_s) <- c(\"number\",\"cell type\")\n",
    "df_s$number <- signif(df_s$number,3)\n",
    "df_s <- df_s[,c(2,1)]\n",
    "\n",
    "# save to json\n",
    "json_str <- '['\n",
    "for(i in 1:9){\n",
    "    json_str <- paste0(json_str, '{\"name\": \"',df_s[i,1], '\", \"value\": ',df_s[i,2],\"},\")\n",
    "}\n",
    "json_str <- substr(json_str,1,nchar(json_str)-1)\n",
    "json_str <- paste0(json_str,']')"
   ]
  },
  {
   "cell_type": "code",
   "execution_count": 34,
   "id": "86383049",
   "metadata": {},
   "outputs": [],
   "source": [
    "writeLines(json_str, paste0(\"/stor/public/chenyx/HHCAd/ForWebsite220412/PiePlot/Fetal/Valve.json\"))"
   ]
  },
  {
   "cell_type": "markdown",
   "id": "a7086e75",
   "metadata": {},
   "source": [
    "### MV"
   ]
  },
  {
   "cell_type": "code",
   "execution_count": 35,
   "id": "dbfdb62a",
   "metadata": {},
   "outputs": [],
   "source": [
    "df <- read.csv(\"~/HHCA_d/Code4Paper/ForWebsite/1-2/Fetal/MV.csv\",row.names = 1)"
   ]
  },
  {
   "cell_type": "code",
   "execution_count": 36,
   "id": "22ee2859",
   "metadata": {},
   "outputs": [],
   "source": [
    "colnames(df) <- c(\"Endothelial cell\", \"Cardiomyocyte cell\",\"Myeloid cell\", \"Fibroblast\", \"Lymphoid cell\", \"Smooth muscle cell\", \"Neuron\", \"Pericyte\", \"Adipocyte\")\n",
    "\n",
    "df <- df/sum(df)\n",
    "df_s <- data.frame(t(df))\n",
    "df_s$cell_type <- row.names(df_s)\n",
    "colnames(df_s) <- c(\"number\",\"cell type\")\n",
    "df_s$number <- signif(df_s$number,3)\n",
    "df_s <- df_s[,c(2,1)]\n",
    "\n",
    "# save to json\n",
    "json_str <- '['\n",
    "for(i in 1:9){\n",
    "    json_str <- paste0(json_str, '{\"name\": \"',df_s[i,1], '\", \"value\": ',df_s[i,2],\"},\")\n",
    "}\n",
    "json_str <- substr(json_str,1,nchar(json_str)-1)\n",
    "json_str <- paste0(json_str,']')"
   ]
  },
  {
   "cell_type": "code",
   "execution_count": 37,
   "id": "720ea226",
   "metadata": {},
   "outputs": [],
   "source": [
    "writeLines(json_str, paste0(\"/stor/public/chenyx/HHCAd/ForWebsite220412/PiePlot/Fetal/MV.json\"))"
   ]
  },
  {
   "cell_type": "markdown",
   "id": "16d087a4",
   "metadata": {},
   "source": [
    "### TV"
   ]
  },
  {
   "cell_type": "code",
   "execution_count": 38,
   "id": "36fe9aa2",
   "metadata": {},
   "outputs": [],
   "source": [
    "df <- read.csv(\"~/HHCA_d/Code4Paper/ForWebsite/1-2/Fetal/TV.csv\",row.names = 1)"
   ]
  },
  {
   "cell_type": "code",
   "execution_count": 39,
   "id": "7cc2659a",
   "metadata": {},
   "outputs": [],
   "source": [
    "colnames(df) <- c(\"Endothelial cell\", \"Cardiomyocyte cell\",\"Myeloid cell\", \"Fibroblast\", \"Lymphoid cell\", \"Smooth muscle cell\", \"Neuron\", \"Pericyte\", \"Adipocyte\")\n",
    "\n",
    "df <- df/sum(df)\n",
    "df_s <- data.frame(t(df))\n",
    "df_s$cell_type <- row.names(df_s)\n",
    "colnames(df_s) <- c(\"number\",\"cell type\")\n",
    "df_s$number <- signif(df_s$number,3)\n",
    "df_s <- df_s[,c(2,1)]\n",
    "\n",
    "# save to json\n",
    "json_str <- '['\n",
    "for(i in 1:9){\n",
    "    json_str <- paste0(json_str, '{\"name\": \"',df_s[i,1], '\", \"value\": ',df_s[i,2],\"},\")\n",
    "}\n",
    "json_str <- substr(json_str,1,nchar(json_str)-1)\n",
    "json_str <- paste0(json_str,']')"
   ]
  },
  {
   "cell_type": "code",
   "execution_count": 40,
   "id": "f258179c",
   "metadata": {},
   "outputs": [],
   "source": [
    "writeLines(json_str, paste0(\"/stor/public/chenyx/HHCAd/ForWebsite220412/PiePlot/Fetal/TV.json\"))"
   ]
  },
  {
   "cell_type": "markdown",
   "id": "59d98962",
   "metadata": {},
   "source": [
    "### Blood Vessel"
   ]
  },
  {
   "cell_type": "code",
   "execution_count": 41,
   "id": "2bec4d82",
   "metadata": {},
   "outputs": [],
   "source": [
    "df <- read.csv(\"~/HHCA_d/Code4Paper/ForWebsite/1-2/Fetal/Vessel.csv\",row.names = 1)"
   ]
  },
  {
   "cell_type": "code",
   "execution_count": 42,
   "id": "a4dfbe07",
   "metadata": {},
   "outputs": [],
   "source": [
    "colnames(df) <- c(\"Endothelial cell\", \"Cardiomyocyte cell\",\"Myeloid cell\", \"Fibroblast\", \"Lymphoid cell\", \"Smooth muscle cell\", \"Neuron\", \"Pericyte\", \"Adipocyte\")\n",
    "\n",
    "df <- df/sum(df)\n",
    "df_s <- data.frame(t(df))\n",
    "df_s$cell_type <- row.names(df_s)\n",
    "colnames(df_s) <- c(\"number\",\"cell type\")\n",
    "df_s$number <- signif(df_s$number,3)\n",
    "df_s <- df_s[,c(2,1)]\n",
    "\n",
    "# save to json\n",
    "json_str <- '['\n",
    "for(i in 1:9){\n",
    "    json_str <- paste0(json_str, '{\"name\": \"',df_s[i,1], '\", \"value\": ',df_s[i,2],\"},\")\n",
    "}\n",
    "json_str <- substr(json_str,1,nchar(json_str)-1)\n",
    "json_str <- paste0(json_str,']')"
   ]
  },
  {
   "cell_type": "code",
   "execution_count": 43,
   "id": "5f85420f",
   "metadata": {},
   "outputs": [],
   "source": [
    "writeLines(json_str, paste0(\"/stor/public/chenyx/HHCAd/ForWebsite220412/PiePlot/Fetal/Blood Vessel.json\"))"
   ]
  },
  {
   "cell_type": "markdown",
   "id": "47721b00",
   "metadata": {},
   "source": [
    "### AO"
   ]
  },
  {
   "cell_type": "code",
   "execution_count": 44,
   "id": "8c494f33",
   "metadata": {},
   "outputs": [],
   "source": [
    "df <- read.csv(\"~/HHCA_d/Code4Paper/ForWebsite/1-2/Fetal/AO.csv\",row.names = 1)"
   ]
  },
  {
   "cell_type": "code",
   "execution_count": 45,
   "id": "56865c66",
   "metadata": {},
   "outputs": [],
   "source": [
    "colnames(df) <- c(\"Endothelial cell\", \"Cardiomyocyte cell\",\"Myeloid cell\", \"Fibroblast\", \"Lymphoid cell\", \"Smooth muscle cell\", \"Neuron\", \"Pericyte\", \"Adipocyte\")\n",
    "\n",
    "df <- df/sum(df)\n",
    "df_s <- data.frame(t(df))\n",
    "df_s$cell_type <- row.names(df_s)\n",
    "colnames(df_s) <- c(\"number\",\"cell type\")\n",
    "df_s$number <- signif(df_s$number,3)\n",
    "df_s <- df_s[,c(2,1)]\n",
    "\n",
    "# save to json\n",
    "json_str <- '['\n",
    "for(i in 1:9){\n",
    "    json_str <- paste0(json_str, '{\"name\": \"',df_s[i,1], '\", \"value\": ',df_s[i,2],\"},\")\n",
    "}\n",
    "json_str <- substr(json_str,1,nchar(json_str)-1)\n",
    "json_str <- paste0(json_str,']')"
   ]
  },
  {
   "cell_type": "code",
   "execution_count": 46,
   "id": "cd75fcea",
   "metadata": {},
   "outputs": [],
   "source": [
    "writeLines(json_str, paste0(\"/stor/public/chenyx/HHCAd/ForWebsite220412/PiePlot/Fetal/AO.json\"))"
   ]
  },
  {
   "cell_type": "markdown",
   "id": "17f91912",
   "metadata": {},
   "source": [
    "### PA"
   ]
  },
  {
   "cell_type": "code",
   "execution_count": 47,
   "id": "f0a6c7fb",
   "metadata": {},
   "outputs": [],
   "source": [
    "df <- read.csv(\"~/HHCA_d/Code4Paper/ForWebsite/1-2/Fetal/PA.csv\",row.names = 1)"
   ]
  },
  {
   "cell_type": "code",
   "execution_count": 48,
   "id": "a1a782b1",
   "metadata": {},
   "outputs": [],
   "source": [
    "colnames(df) <- c(\"Endothelial cell\", \"Cardiomyocyte cell\",\"Myeloid cell\", \"Fibroblast\", \"Lymphoid cell\", \"Smooth muscle cell\", \"Neuron\", \"Pericyte\", \"Adipocyte\")\n",
    "\n",
    "df <- df/sum(df)\n",
    "df_s <- data.frame(t(df))\n",
    "df_s$cell_type <- row.names(df_s)\n",
    "colnames(df_s) <- c(\"number\",\"cell type\")\n",
    "df_s$number <- signif(df_s$number,3)\n",
    "df_s <- df_s[,c(2,1)]\n",
    "\n",
    "# save to json\n",
    "json_str <- '['\n",
    "for(i in 1:9){\n",
    "    json_str <- paste0(json_str, '{\"name\": \"',df_s[i,1], '\", \"value\": ',df_s[i,2],\"},\")\n",
    "}\n",
    "json_str <- substr(json_str,1,nchar(json_str)-1)\n",
    "json_str <- paste0(json_str,']')"
   ]
  },
  {
   "cell_type": "code",
   "execution_count": 49,
   "id": "0e10b02d",
   "metadata": {},
   "outputs": [],
   "source": [
    "writeLines(json_str, paste0(\"/stor/public/chenyx/HHCAd/ForWebsite220412/PiePlot/Fetal/PA.json\"))"
   ]
  }
 ],
 "metadata": {
  "kernelspec": {
   "display_name": "R4.0",
   "language": "R",
   "name": "ir3"
  },
  "language_info": {
   "codemirror_mode": "r",
   "file_extension": ".r",
   "mimetype": "text/x-r-source",
   "name": "R",
   "pygments_lexer": "r",
   "version": "4.0.3"
  }
 },
 "nbformat": 4,
 "nbformat_minor": 5
}
