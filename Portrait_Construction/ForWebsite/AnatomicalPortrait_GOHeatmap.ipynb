{
 "cells": [
  {
   "cell_type": "code",
   "execution_count": 2,
   "id": "b6d9788c",
   "metadata": {},
   "outputs": [],
   "source": [
    "library(rjson)\n",
    "library(reshape)"
   ]
  },
  {
   "cell_type": "markdown",
   "id": "a6ca219d",
   "metadata": {},
   "source": [
    "# GSVA Heatmap"
   ]
  },
  {
   "cell_type": "markdown",
   "id": "93644542",
   "metadata": {},
   "source": [
    "## Adult"
   ]
  },
  {
   "cell_type": "markdown",
   "id": "5d6c7585",
   "metadata": {},
   "source": [
    "### LV"
   ]
  },
  {
   "cell_type": "code",
   "execution_count": 16,
   "id": "11d3dd36",
   "metadata": {},
   "outputs": [
    {
     "name": "stderr",
     "output_type": "stream",
     "text": [
      "Using X as id variables\n",
      "\n"
     ]
    }
   ],
   "source": [
    "path <- \"~/HHCA_d/Code4Paper/ForWebsite/1-3/HEGO/Adult/LV.csv\"\n",
    "df <- read.csv(path,row.names = 1)\n",
    "mat <- melt(read.csv(path))"
   ]
  },
  {
   "cell_type": "code",
   "execution_count": 17,
   "id": "fff48580",
   "metadata": {},
   "outputs": [],
   "source": [
    "# write x ais\n",
    "json_str <- '{\"xAxis\": [\"LA\", \"IAS\",\"RA\", \"LV\", \"IVS\", \"RV\"], '\n",
    "# write y axis\n",
    "json_str <- paste0(json_str, '\"yAxis\": [')\n",
    "for(gene in rownames(df)){\n",
    "    json_str <- paste0(json_str, '\"', gene ,'\", ')\n",
    "}\n",
    "json_str <- substr(json_str,1,nchar(json_str)-2)\n",
    "json_str <- paste0(json_str, '], ')\n",
    "# write data\n",
    "json_str <- paste0(json_str, '\"data\": [')\n",
    "for (i in 1:dim(mat)[1]){\n",
    "    json_str <- paste0(json_str,'[', '\"',mat[i,2],'\", \"', mat[i,1],'\", \"',signif(mat[i,3],3), '\"],')\n",
    "}\n",
    "json_str <- substr(json_str,1,nchar(json_str)-1)\n",
    "json_str <- paste0(json_str, ']}')"
   ]
  },
  {
   "cell_type": "code",
   "execution_count": 18,
   "id": "83ce0907",
   "metadata": {},
   "outputs": [],
   "source": [
    "writeLines(json_str,\"/stor/public/chenyx/HHCAd/ForWebsite220412/HeatMap_GO_A/Adult/LV.json\")"
   ]
  },
  {
   "cell_type": "markdown",
   "id": "497b0652",
   "metadata": {},
   "source": [
    "### IVS"
   ]
  },
  {
   "cell_type": "code",
   "execution_count": 19,
   "id": "b00622d4",
   "metadata": {},
   "outputs": [
    {
     "name": "stderr",
     "output_type": "stream",
     "text": [
      "Using X as id variables\n",
      "\n"
     ]
    }
   ],
   "source": [
    "path <- \"~/HHCA_d/Code4Paper/ForWebsite/1-3/HEGO/Adult/IVS.csv\"\n",
    "df <- read.csv(path,row.names = 1)\n",
    "mat <- melt(read.csv(path))"
   ]
  },
  {
   "cell_type": "code",
   "execution_count": 20,
   "id": "f0cf2eec",
   "metadata": {},
   "outputs": [],
   "source": [
    "# write x ais\n",
    "json_str <- '{\"xAxis\": [\"LA\", \"IAS\",\"RA\", \"LV\", \"IVS\", \"RV\"], '\n",
    "# write y axis\n",
    "json_str <- paste0(json_str, '\"yAxis\": [')\n",
    "for(gene in rownames(df)){\n",
    "    json_str <- paste0(json_str, '\"', gene ,'\", ')\n",
    "}\n",
    "json_str <- substr(json_str,1,nchar(json_str)-2)\n",
    "json_str <- paste0(json_str, '], ')\n",
    "# write data\n",
    "json_str <- paste0(json_str, '\"data\": [')\n",
    "for (i in 1:dim(mat)[1]){\n",
    "    json_str <- paste0(json_str,'[', '\"',mat[i,2],'\", \"', mat[i,1],'\", \"',signif(mat[i,3],3), '\"],')\n",
    "}\n",
    "json_str <- substr(json_str,1,nchar(json_str)-1)\n",
    "json_str <- paste0(json_str, ']}')"
   ]
  },
  {
   "cell_type": "code",
   "execution_count": 21,
   "id": "283360b1",
   "metadata": {},
   "outputs": [],
   "source": [
    "writeLines(json_str,\"/stor/public/chenyx/HHCAd/ForWebsite220412/HeatMap_GO_A/Adult/IVS.json\")"
   ]
  },
  {
   "cell_type": "markdown",
   "id": "aba41818",
   "metadata": {},
   "source": [
    "### RV"
   ]
  },
  {
   "cell_type": "code",
   "execution_count": 22,
   "id": "12e73656",
   "metadata": {},
   "outputs": [
    {
     "name": "stderr",
     "output_type": "stream",
     "text": [
      "Using X as id variables\n",
      "\n"
     ]
    }
   ],
   "source": [
    "path <- \"~/HHCA_d/Code4Paper/ForWebsite/1-3/HEGO/Adult/RV.csv\"\n",
    "df <- read.csv(path,row.names = 1)\n",
    "mat <- melt(read.csv(path))"
   ]
  },
  {
   "cell_type": "code",
   "execution_count": 23,
   "id": "b92b9e85",
   "metadata": {},
   "outputs": [],
   "source": [
    "# write x ais\n",
    "json_str <- '{\"xAxis\": [\"LA\", \"IAS\",\"RA\", \"LV\", \"IVS\", \"RV\"], '\n",
    "# write y axis\n",
    "json_str <- paste0(json_str, '\"yAxis\": [')\n",
    "for(gene in rownames(df)){\n",
    "    json_str <- paste0(json_str, '\"', gene ,'\", ')\n",
    "}\n",
    "json_str <- substr(json_str,1,nchar(json_str)-2)\n",
    "json_str <- paste0(json_str, '], ')\n",
    "# write data\n",
    "json_str <- paste0(json_str, '\"data\": [')\n",
    "for (i in 1:dim(mat)[1]){\n",
    "    json_str <- paste0(json_str,'[', '\"',mat[i,2],'\", \"', mat[i,1],'\", \"',signif(mat[i,3],3), '\"],')\n",
    "}\n",
    "json_str <- substr(json_str,1,nchar(json_str)-1)\n",
    "json_str <- paste0(json_str, ']}')"
   ]
  },
  {
   "cell_type": "code",
   "execution_count": 24,
   "id": "1880ec7d",
   "metadata": {},
   "outputs": [],
   "source": [
    "writeLines(json_str,\"/stor/public/chenyx/HHCAd/ForWebsite220412/HeatMap_GO_A/Adult/RV.json\")"
   ]
  },
  {
   "cell_type": "markdown",
   "id": "2b892597",
   "metadata": {},
   "source": [
    "### RA"
   ]
  },
  {
   "cell_type": "code",
   "execution_count": 25,
   "id": "45937d0a",
   "metadata": {},
   "outputs": [
    {
     "name": "stderr",
     "output_type": "stream",
     "text": [
      "Using X as id variables\n",
      "\n"
     ]
    }
   ],
   "source": [
    "path <- \"~/HHCA_d/Code4Paper/ForWebsite/1-3/HEGO/Adult/RA.csv\"\n",
    "df <- read.csv(path,row.names = 1)\n",
    "mat <- melt(read.csv(path))"
   ]
  },
  {
   "cell_type": "code",
   "execution_count": 26,
   "id": "831eef71",
   "metadata": {},
   "outputs": [],
   "source": [
    "# write x ais\n",
    "json_str <- '{\"xAxis\": [\"LA\", \"IAS\",\"RA\", \"LV\", \"IVS\", \"RV\"], '\n",
    "# write y axis\n",
    "json_str <- paste0(json_str, '\"yAxis\": [')\n",
    "for(gene in rownames(df)){\n",
    "    json_str <- paste0(json_str, '\"', gene ,'\", ')\n",
    "}\n",
    "json_str <- substr(json_str,1,nchar(json_str)-2)\n",
    "json_str <- paste0(json_str, '], ')\n",
    "# write data\n",
    "json_str <- paste0(json_str, '\"data\": [')\n",
    "for (i in 1:dim(mat)[1]){\n",
    "    json_str <- paste0(json_str,'[', '\"',mat[i,2],'\", \"', mat[i,1],'\", \"',signif(mat[i,3],3), '\"],')\n",
    "}\n",
    "json_str <- substr(json_str,1,nchar(json_str)-1)\n",
    "json_str <- paste0(json_str, ']}')"
   ]
  },
  {
   "cell_type": "code",
   "execution_count": 27,
   "id": "880a54f0",
   "metadata": {},
   "outputs": [],
   "source": [
    "writeLines(json_str,\"/stor/public/chenyx/HHCAd/ForWebsite220412/HeatMap_GO_A/Adult/RA.json\")"
   ]
  },
  {
   "cell_type": "markdown",
   "id": "89756f07",
   "metadata": {},
   "source": [
    "### IAS"
   ]
  },
  {
   "cell_type": "code",
   "execution_count": 28,
   "id": "aec629ff",
   "metadata": {},
   "outputs": [
    {
     "name": "stderr",
     "output_type": "stream",
     "text": [
      "Using X as id variables\n",
      "\n"
     ]
    }
   ],
   "source": [
    "path <- \"~/HHCA_d/Code4Paper/ForWebsite/1-3/HEGO/Adult/IAS.csv\"\n",
    "df <- read.csv(path,row.names = 1)\n",
    "mat <- melt(read.csv(path))"
   ]
  },
  {
   "cell_type": "code",
   "execution_count": 29,
   "id": "569390ce",
   "metadata": {},
   "outputs": [],
   "source": [
    "# write x ais\n",
    "json_str <- '{\"xAxis\": [\"LA\", \"IAS\",\"RA\", \"LV\", \"IVS\", \"RV\"], '\n",
    "# write y axis\n",
    "json_str <- paste0(json_str, '\"yAxis\": [')\n",
    "for(gene in rownames(df)){\n",
    "    json_str <- paste0(json_str, '\"', gene ,'\", ')\n",
    "}\n",
    "json_str <- substr(json_str,1,nchar(json_str)-2)\n",
    "json_str <- paste0(json_str, '], ')\n",
    "# write data\n",
    "json_str <- paste0(json_str, '\"data\": [')\n",
    "for (i in 1:dim(mat)[1]){\n",
    "    json_str <- paste0(json_str,'[', '\"',mat[i,2],'\", \"', mat[i,1],'\", \"',signif(mat[i,3],3), '\"],')\n",
    "}\n",
    "json_str <- substr(json_str,1,nchar(json_str)-1)\n",
    "json_str <- paste0(json_str, ']}')"
   ]
  },
  {
   "cell_type": "code",
   "execution_count": 30,
   "id": "bf157d13",
   "metadata": {},
   "outputs": [],
   "source": [
    "writeLines(json_str,\"/stor/public/chenyx/HHCAd/ForWebsite220412/HeatMap_GO_A/Adult/IAS.json\")"
   ]
  },
  {
   "cell_type": "markdown",
   "id": "ed846dc0",
   "metadata": {},
   "source": [
    "### LA"
   ]
  },
  {
   "cell_type": "code",
   "execution_count": 3,
   "id": "cdd37f8a",
   "metadata": {},
   "outputs": [
    {
     "name": "stderr",
     "output_type": "stream",
     "text": [
      "Using X as id variables\n",
      "\n"
     ]
    }
   ],
   "source": [
    "path <- \"~/HHCA_d/Code4Paper/ForWebsite/1-3/HEGO/Adult/LA.csv\"\n",
    "df <- read.csv(path,row.names = 1)\n",
    "mat <- melt(read.csv(path))"
   ]
  },
  {
   "cell_type": "code",
   "execution_count": 4,
   "id": "b724fea5",
   "metadata": {},
   "outputs": [],
   "source": [
    "# write x ais\n",
    "json_str <- '{\"xAxis\": [\"LA\", \"IAS\",\"RA\", \"LV\", \"IVS\", \"RV\"], '\n",
    "# write y axis\n",
    "json_str <- paste0(json_str, '\"yAxis\": [')\n",
    "for(gene in rownames(df)){\n",
    "    json_str <- paste0(json_str, '\"', gene ,'\", ')\n",
    "}\n",
    "json_str <- substr(json_str,1,nchar(json_str)-2)\n",
    "json_str <- paste0(json_str, '], ')\n",
    "# write data\n",
    "json_str <- paste0(json_str, '\"data\": [')\n",
    "for (i in 1:dim(mat)[1]){\n",
    "    json_str <- paste0(json_str,'[', '\"',mat[i,2],'\", \"', mat[i,1],'\", \"',signif(mat[i,3],3), '\"],')\n",
    "}\n",
    "json_str <- substr(json_str,1,nchar(json_str)-1)\n",
    "json_str <- paste0(json_str, ']}')"
   ]
  },
  {
   "cell_type": "code",
   "execution_count": 6,
   "id": "a3a3ff52",
   "metadata": {},
   "outputs": [],
   "source": [
    "writeLines(json_str,\"/stor/public/chenyx/HHCAd/ForWebsite220604//HeatMap_GO_A/Adult/LA.json\")"
   ]
  },
  {
   "cell_type": "markdown",
   "id": "ed8bcb6c",
   "metadata": {},
   "source": [
    "## Fetal"
   ]
  },
  {
   "cell_type": "markdown",
   "id": "a4332dfe",
   "metadata": {},
   "source": [
    "### LV"
   ]
  },
  {
   "cell_type": "code",
   "execution_count": 3,
   "id": "6985d99b",
   "metadata": {},
   "outputs": [
    {
     "name": "stderr",
     "output_type": "stream",
     "text": [
      "Using X as id variables\n",
      "\n"
     ]
    }
   ],
   "source": [
    "path <- \"~/HHCA_d/Code4Paper/ForWebsite/1-3/HEGO/Fetal/LV.csv\"\n",
    "df <- read.csv(path,row.names = 1)\n",
    "mat <- melt(read.csv(path))"
   ]
  },
  {
   "cell_type": "code",
   "execution_count": 4,
   "id": "e29adef1",
   "metadata": {},
   "outputs": [],
   "source": [
    "# write x ais\n",
    "json_str <- '{\"xAxis\": [\"LV\", \"IVS\", \"RV\", \"LA\", \"RA\", \"AO\", \"PA\", \"MV\", \"TV\"], '\n",
    "# write y axis\n",
    "json_str <- paste0(json_str, '\"yAxis\": [')\n",
    "for(gene in rownames(df)){\n",
    "    json_str <- paste0(json_str, '\"', gene ,'\", ')\n",
    "}\n",
    "json_str <- substr(json_str,1,nchar(json_str)-2)\n",
    "json_str <- paste0(json_str, '], ')\n",
    "# write data\n",
    "json_str <- paste0(json_str, '\"data\": [')\n",
    "for (i in 1:dim(mat)[1]){\n",
    "    json_str <- paste0(json_str,'[', '\"',mat[i,2],'\", \"', mat[i,1],'\", \"',signif(mat[i,3],3), '\"],')\n",
    "}\n",
    "json_str <- substr(json_str,1,nchar(json_str)-1)\n",
    "json_str <- paste0(json_str, ']}')"
   ]
  },
  {
   "cell_type": "code",
   "execution_count": 6,
   "id": "9e185180",
   "metadata": {},
   "outputs": [],
   "source": [
    "writeLines(json_str,\"/stor/public/chenyx/HHCAd/ForWebsite220412/HeatMap_GO_A/Fetal/LV.json\")"
   ]
  },
  {
   "cell_type": "markdown",
   "id": "28b7e890",
   "metadata": {},
   "source": [
    "### IVS"
   ]
  },
  {
   "cell_type": "code",
   "execution_count": 7,
   "id": "c3006eff",
   "metadata": {},
   "outputs": [
    {
     "name": "stderr",
     "output_type": "stream",
     "text": [
      "Using X as id variables\n",
      "\n"
     ]
    }
   ],
   "source": [
    "path <- \"~/HHCA_d/Code4Paper/ForWebsite/1-3/HEGO/Fetal/IVS.csv\"\n",
    "df <- read.csv(path,row.names = 1)\n",
    "mat <- melt(read.csv(path))"
   ]
  },
  {
   "cell_type": "code",
   "execution_count": 8,
   "id": "6e5d3267",
   "metadata": {},
   "outputs": [],
   "source": [
    "# write x ais\n",
    "json_str <- '{\"xAxis\": [\"LV\", \"IVS\", \"RV\", \"LA\", \"RA\", \"AO\", \"PA\", \"MV\", \"TV\"], '\n",
    "# write y axis\n",
    "json_str <- paste0(json_str, '\"yAxis\": [')\n",
    "for(gene in rownames(df)){\n",
    "    json_str <- paste0(json_str, '\"', gene ,'\", ')\n",
    "}\n",
    "json_str <- substr(json_str,1,nchar(json_str)-2)\n",
    "json_str <- paste0(json_str, '], ')\n",
    "# write data\n",
    "json_str <- paste0(json_str, '\"data\": [')\n",
    "for (i in 1:dim(mat)[1]){\n",
    "    json_str <- paste0(json_str,'[', '\"',mat[i,2],'\", \"', mat[i,1],'\", \"',signif(mat[i,3],3), '\"],')\n",
    "}\n",
    "json_str <- substr(json_str,1,nchar(json_str)-1)\n",
    "json_str <- paste0(json_str, ']}')"
   ]
  },
  {
   "cell_type": "code",
   "execution_count": 9,
   "id": "09175765",
   "metadata": {},
   "outputs": [],
   "source": [
    "writeLines(json_str,\"/stor/public/chenyx/HHCAd/ForWebsite220412/HeatMap_GO_A/Fetal/IVS.json\")"
   ]
  },
  {
   "cell_type": "markdown",
   "id": "f44972e4",
   "metadata": {},
   "source": [
    "### RV"
   ]
  },
  {
   "cell_type": "code",
   "execution_count": 10,
   "id": "dd6fd6a5",
   "metadata": {},
   "outputs": [
    {
     "name": "stderr",
     "output_type": "stream",
     "text": [
      "Using X as id variables\n",
      "\n"
     ]
    }
   ],
   "source": [
    "path <- \"~/HHCA_d/Code4Paper/ForWebsite/1-3/HEGO/Fetal/RV.csv\"\n",
    "df <- read.csv(path,row.names = 1)\n",
    "mat <- melt(read.csv(path))"
   ]
  },
  {
   "cell_type": "code",
   "execution_count": 11,
   "id": "71d4efac",
   "metadata": {},
   "outputs": [],
   "source": [
    "# write x ais\n",
    "json_str <- '{\"xAxis\": [\"LV\", \"IVS\", \"RV\", \"LA\", \"RA\", \"AO\", \"PA\", \"MV\", \"TV\"], '\n",
    "# write y axis\n",
    "json_str <- paste0(json_str, '\"yAxis\": [')\n",
    "for(gene in rownames(df)){\n",
    "    json_str <- paste0(json_str, '\"', gene ,'\", ')\n",
    "}\n",
    "json_str <- substr(json_str,1,nchar(json_str)-2)\n",
    "json_str <- paste0(json_str, '], ')\n",
    "# write data\n",
    "json_str <- paste0(json_str, '\"data\": [')\n",
    "for (i in 1:dim(mat)[1]){\n",
    "    json_str <- paste0(json_str,'[', '\"',mat[i,2],'\", \"', mat[i,1],'\", \"',signif(mat[i,3],3), '\"],')\n",
    "}\n",
    "json_str <- substr(json_str,1,nchar(json_str)-1)\n",
    "json_str <- paste0(json_str, ']}')"
   ]
  },
  {
   "cell_type": "code",
   "execution_count": 12,
   "id": "444595d7",
   "metadata": {},
   "outputs": [],
   "source": [
    "writeLines(json_str,\"/stor/public/chenyx/HHCAd/ForWebsite220412/HeatMap_GO_A/Fetal/RV.json\")"
   ]
  },
  {
   "cell_type": "markdown",
   "id": "2fd9e841",
   "metadata": {},
   "source": [
    "### LA"
   ]
  },
  {
   "cell_type": "code",
   "execution_count": 13,
   "id": "470278a1",
   "metadata": {},
   "outputs": [
    {
     "name": "stderr",
     "output_type": "stream",
     "text": [
      "Using X as id variables\n",
      "\n"
     ]
    }
   ],
   "source": [
    "path <- \"~/HHCA_d/Code4Paper/ForWebsite/1-3/HEGO/Fetal/LA.csv\"\n",
    "df <- read.csv(path,row.names = 1)\n",
    "mat <- melt(read.csv(path))"
   ]
  },
  {
   "cell_type": "code",
   "execution_count": 14,
   "id": "dcc484f2",
   "metadata": {},
   "outputs": [],
   "source": [
    "# write x ais\n",
    "json_str <- '{\"xAxis\": [\"LV\", \"IVS\", \"RV\", \"LA\", \"RA\", \"AO\", \"PA\", \"MV\", \"TV\"], '\n",
    "# write y axis\n",
    "json_str <- paste0(json_str, '\"yAxis\": [')\n",
    "for(gene in rownames(df)){\n",
    "    json_str <- paste0(json_str, '\"', gene ,'\", ')\n",
    "}\n",
    "json_str <- substr(json_str,1,nchar(json_str)-2)\n",
    "json_str <- paste0(json_str, '], ')\n",
    "# write data\n",
    "json_str <- paste0(json_str, '\"data\": [')\n",
    "for (i in 1:dim(mat)[1]){\n",
    "    json_str <- paste0(json_str,'[', '\"',mat[i,2],'\", \"', mat[i,1],'\", \"',signif(mat[i,3],3), '\"],')\n",
    "}\n",
    "json_str <- substr(json_str,1,nchar(json_str)-1)\n",
    "json_str <- paste0(json_str, ']}')"
   ]
  },
  {
   "cell_type": "code",
   "execution_count": 15,
   "id": "c3902415",
   "metadata": {},
   "outputs": [],
   "source": [
    "writeLines(json_str,\"/stor/public/chenyx/HHCAd/ForWebsite220412/HeatMap_GO_A/Fetal/LA.json\")"
   ]
  },
  {
   "cell_type": "markdown",
   "id": "7dd15e56",
   "metadata": {},
   "source": [
    "### RA"
   ]
  },
  {
   "cell_type": "code",
   "execution_count": 16,
   "id": "0d72b35b",
   "metadata": {},
   "outputs": [
    {
     "name": "stderr",
     "output_type": "stream",
     "text": [
      "Using X as id variables\n",
      "\n"
     ]
    }
   ],
   "source": [
    "path <- \"~/HHCA_d/Code4Paper/ForWebsite/1-3/HEGO/Fetal/RA.csv\"\n",
    "df <- read.csv(path,row.names = 1)\n",
    "mat <- melt(read.csv(path))"
   ]
  },
  {
   "cell_type": "code",
   "execution_count": 17,
   "id": "3d794473",
   "metadata": {},
   "outputs": [],
   "source": [
    "# write x ais\n",
    "json_str <- '{\"xAxis\": [\"LV\", \"IVS\", \"RV\", \"LA\", \"RA\", \"AO\", \"PA\", \"MV\", \"TV\"], '\n",
    "# write y axis\n",
    "json_str <- paste0(json_str, '\"yAxis\": [')\n",
    "for(gene in rownames(df)){\n",
    "    json_str <- paste0(json_str, '\"', gene ,'\", ')\n",
    "}\n",
    "json_str <- substr(json_str,1,nchar(json_str)-2)\n",
    "json_str <- paste0(json_str, '], ')\n",
    "# write data\n",
    "json_str <- paste0(json_str, '\"data\": [')\n",
    "for (i in 1:dim(mat)[1]){\n",
    "    json_str <- paste0(json_str,'[', '\"',mat[i,2],'\", \"', mat[i,1],'\", \"',signif(mat[i,3],3), '\"],')\n",
    "}\n",
    "json_str <- substr(json_str,1,nchar(json_str)-1)\n",
    "json_str <- paste0(json_str, ']}')"
   ]
  },
  {
   "cell_type": "code",
   "execution_count": 18,
   "id": "855ea167",
   "metadata": {},
   "outputs": [],
   "source": [
    "writeLines(json_str,\"/stor/public/chenyx/HHCAd/ForWebsite220412/HeatMap_GO_A/Fetal/RA.json\")"
   ]
  },
  {
   "cell_type": "markdown",
   "id": "0423dbb1",
   "metadata": {},
   "source": [
    "### AO"
   ]
  },
  {
   "cell_type": "code",
   "execution_count": 19,
   "id": "288bc6d7",
   "metadata": {},
   "outputs": [
    {
     "name": "stderr",
     "output_type": "stream",
     "text": [
      "Using X as id variables\n",
      "\n"
     ]
    }
   ],
   "source": [
    "path <- \"~/HHCA_d/Code4Paper/ForWebsite/1-3/HEGO/Fetal/AO.csv\"\n",
    "df <- read.csv(path,row.names = 1)\n",
    "mat <- melt(read.csv(path))"
   ]
  },
  {
   "cell_type": "code",
   "execution_count": 20,
   "id": "9f4e0b0f",
   "metadata": {},
   "outputs": [],
   "source": [
    "# write x ais\n",
    "json_str <- '{\"xAxis\": [\"LV\", \"IVS\", \"RV\", \"LA\", \"RA\", \"AO\", \"PA\", \"MV\", \"TV\"], '\n",
    "# write y axis\n",
    "json_str <- paste0(json_str, '\"yAxis\": [')\n",
    "for(gene in rownames(df)){\n",
    "    json_str <- paste0(json_str, '\"', gene ,'\", ')\n",
    "}\n",
    "json_str <- substr(json_str,1,nchar(json_str)-2)\n",
    "json_str <- paste0(json_str, '], ')\n",
    "# write data\n",
    "json_str <- paste0(json_str, '\"data\": [')\n",
    "for (i in 1:dim(mat)[1]){\n",
    "    json_str <- paste0(json_str,'[', '\"',mat[i,2],'\", \"', mat[i,1],'\", \"',signif(mat[i,3],3), '\"],')\n",
    "}\n",
    "json_str <- substr(json_str,1,nchar(json_str)-1)\n",
    "json_str <- paste0(json_str, ']}')"
   ]
  },
  {
   "cell_type": "code",
   "execution_count": 21,
   "id": "329cf957",
   "metadata": {},
   "outputs": [],
   "source": [
    "writeLines(json_str,\"/stor/public/chenyx/HHCAd/ForWebsite220412/HeatMap_GO_A/Fetal/AO.json\")"
   ]
  },
  {
   "cell_type": "markdown",
   "id": "5108f07a",
   "metadata": {},
   "source": [
    "### PA"
   ]
  },
  {
   "cell_type": "code",
   "execution_count": 22,
   "id": "7de00d40",
   "metadata": {},
   "outputs": [
    {
     "name": "stderr",
     "output_type": "stream",
     "text": [
      "Using X as id variables\n",
      "\n"
     ]
    }
   ],
   "source": [
    "path <- \"~/HHCA_d/Code4Paper/ForWebsite/1-3/HEGO/Fetal/PA.csv\"\n",
    "df <- read.csv(path,row.names = 1)\n",
    "mat <- melt(read.csv(path))"
   ]
  },
  {
   "cell_type": "code",
   "execution_count": 23,
   "id": "f79986bf",
   "metadata": {},
   "outputs": [],
   "source": [
    "# write x ais\n",
    "json_str <- '{\"xAxis\": [\"LV\", \"IVS\", \"RV\", \"LA\", \"RA\", \"AO\", \"PA\", \"MV\", \"TV\"], '\n",
    "# write y axis\n",
    "json_str <- paste0(json_str, '\"yAxis\": [')\n",
    "for(gene in rownames(df)){\n",
    "    json_str <- paste0(json_str, '\"', gene ,'\", ')\n",
    "}\n",
    "json_str <- substr(json_str,1,nchar(json_str)-2)\n",
    "json_str <- paste0(json_str, '], ')\n",
    "# write data\n",
    "json_str <- paste0(json_str, '\"data\": [')\n",
    "for (i in 1:dim(mat)[1]){\n",
    "    json_str <- paste0(json_str,'[', '\"',mat[i,2],'\", \"', mat[i,1],'\", \"',signif(mat[i,3],3), '\"],')\n",
    "}\n",
    "json_str <- substr(json_str,1,nchar(json_str)-1)\n",
    "json_str <- paste0(json_str, ']}')"
   ]
  },
  {
   "cell_type": "code",
   "execution_count": 24,
   "id": "acd57ea9",
   "metadata": {},
   "outputs": [],
   "source": [
    "writeLines(json_str,\"/stor/public/chenyx/HHCAd/ForWebsite220412/HeatMap_GO_A/Fetal/PA.json\")"
   ]
  },
  {
   "cell_type": "markdown",
   "id": "50953ed7",
   "metadata": {},
   "source": [
    "### MV"
   ]
  },
  {
   "cell_type": "code",
   "execution_count": 25,
   "id": "d6479e23",
   "metadata": {},
   "outputs": [
    {
     "name": "stderr",
     "output_type": "stream",
     "text": [
      "Using X as id variables\n",
      "\n"
     ]
    }
   ],
   "source": [
    "path <- \"~/HHCA_d/Code4Paper/ForWebsite/1-3/HEGO/Fetal/MV.csv\"\n",
    "df <- read.csv(path,row.names = 1)\n",
    "mat <- melt(read.csv(path))"
   ]
  },
  {
   "cell_type": "code",
   "execution_count": 26,
   "id": "80257d67",
   "metadata": {},
   "outputs": [],
   "source": [
    "# write x ais\n",
    "json_str <- '{\"xAxis\": [\"LV\", \"IVS\", \"RV\", \"LA\", \"RA\", \"AO\", \"PA\", \"MV\", \"TV\"], '\n",
    "# write y axis\n",
    "json_str <- paste0(json_str, '\"yAxis\": [')\n",
    "for(gene in rownames(df)){\n",
    "    json_str <- paste0(json_str, '\"', gene ,'\", ')\n",
    "}\n",
    "json_str <- substr(json_str,1,nchar(json_str)-2)\n",
    "json_str <- paste0(json_str, '], ')\n",
    "# write data\n",
    "json_str <- paste0(json_str, '\"data\": [')\n",
    "for (i in 1:dim(mat)[1]){\n",
    "    json_str <- paste0(json_str,'[', '\"',mat[i,2],'\", \"', mat[i,1],'\", \"',signif(mat[i,3],3), '\"],')\n",
    "}\n",
    "json_str <- substr(json_str,1,nchar(json_str)-1)\n",
    "json_str <- paste0(json_str, ']}')"
   ]
  },
  {
   "cell_type": "code",
   "execution_count": 27,
   "id": "463ded48",
   "metadata": {},
   "outputs": [],
   "source": [
    "writeLines(json_str,\"/stor/public/chenyx/HHCAd/ForWebsite220412/HeatMap_GO_A/Fetal/MV.json\")"
   ]
  },
  {
   "cell_type": "markdown",
   "id": "8dc61c25",
   "metadata": {},
   "source": [
    "### TV"
   ]
  },
  {
   "cell_type": "code",
   "execution_count": 28,
   "id": "b14983f0",
   "metadata": {},
   "outputs": [
    {
     "name": "stderr",
     "output_type": "stream",
     "text": [
      "Using X as id variables\n",
      "\n"
     ]
    }
   ],
   "source": [
    "path <- \"~/HHCA_d/Code4Paper/ForWebsite/1-3/HEGO/Fetal/TV.csv\"\n",
    "df <- read.csv(path,row.names = 1)\n",
    "mat <- melt(read.csv(path))"
   ]
  },
  {
   "cell_type": "code",
   "execution_count": 29,
   "id": "e6cb3d23",
   "metadata": {},
   "outputs": [],
   "source": [
    "# write x ais\n",
    "json_str <- '{\"xAxis\": [\"LV\", \"IVS\", \"RV\", \"LA\", \"RA\", \"AO\", \"PA\", \"MV\", \"TV\"], '\n",
    "# write y axis\n",
    "json_str <- paste0(json_str, '\"yAxis\": [')\n",
    "for(gene in rownames(df)){\n",
    "    json_str <- paste0(json_str, '\"', gene ,'\", ')\n",
    "}\n",
    "json_str <- substr(json_str,1,nchar(json_str)-2)\n",
    "json_str <- paste0(json_str, '], ')\n",
    "# write data\n",
    "json_str <- paste0(json_str, '\"data\": [')\n",
    "for (i in 1:dim(mat)[1]){\n",
    "    json_str <- paste0(json_str,'[', '\"',mat[i,2],'\", \"', mat[i,1],'\", \"',signif(mat[i,3],3), '\"],')\n",
    "}\n",
    "json_str <- substr(json_str,1,nchar(json_str)-1)\n",
    "json_str <- paste0(json_str, ']}')"
   ]
  },
  {
   "cell_type": "code",
   "execution_count": 30,
   "id": "152a9907",
   "metadata": {},
   "outputs": [],
   "source": [
    "writeLines(json_str,\"/stor/public/chenyx/HHCAd/ForWebsite220412/HeatMap_GO_A/Fetal/TV.json\")"
   ]
  },
  {
   "cell_type": "code",
   "execution_count": null,
   "id": "51092777",
   "metadata": {},
   "outputs": [],
   "source": []
  }
 ],
 "metadata": {
  "kernelspec": {
   "display_name": "R4.0",
   "language": "R",
   "name": "ir3"
  },
  "language_info": {
   "codemirror_mode": "r",
   "file_extension": ".r",
   "mimetype": "text/x-r-source",
   "name": "R",
   "pygments_lexer": "r",
   "version": "4.0.3"
  }
 },
 "nbformat": 4,
 "nbformat_minor": 5
}
