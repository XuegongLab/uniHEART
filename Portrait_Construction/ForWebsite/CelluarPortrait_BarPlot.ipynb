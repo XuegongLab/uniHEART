{
 "cells": [
  {
   "cell_type": "code",
   "execution_count": 1,
   "id": "6715a451",
   "metadata": {},
   "outputs": [],
   "source": [
    "library(rjson)\n",
    "library(reshape)"
   ]
  },
  {
   "cell_type": "code",
   "execution_count": 2,
   "id": "a62722ad",
   "metadata": {},
   "outputs": [],
   "source": [
    "cell_types <- c('Endothelial cell','Cardiomyocyte cell','Myeloid cell','Fibroblast','Lymphoid cell','Smooth muscle cell','Neuron','Pericyte','Adipocyte')"
   ]
  },
  {
   "cell_type": "markdown",
   "id": "e825d5d0",
   "metadata": {},
   "source": [
    "# Adult"
   ]
  },
  {
   "cell_type": "markdown",
   "id": "226bfb9c",
   "metadata": {},
   "source": [
    "## subregion"
   ]
  },
  {
   "cell_type": "code",
   "execution_count": 4,
   "id": "7ea33f5a",
   "metadata": {},
   "outputs": [],
   "source": [
    "for(ct in cell_types){\n",
    "    df <- read.csv(paste0(\"~/HHCA_d/Code4Paper/ForWebsite/1-2-2/Sub structural units/\",ct,\".csv\"))\n",
    "\n",
    "    # save to json\n",
    "    json_str <- '['\n",
    "    for(i in 1:dim(df)[1]){\n",
    "        json_str <- paste0(json_str, '{\"name\": \"',df[i,1], '\", \"value\": \"',df[i,3],'\", \"upper\": \"', df[i,2],'\", \"lower\": \"',df[i,4],'\"},')\n",
    "    }\n",
    "    json_str <- substr(json_str,1,nchar(json_str)-1)\n",
    "    json_str <- paste0(json_str,']')\n",
    "\n",
    "    writeLines(json_str, paste0(\"/stor/public/chenyx/HHCAd/ForWebsite220412/BarPlot_CelltypeProportion/Adult//Subregion/\",ct,\".json\")) \n",
    "}"
   ]
  },
  {
   "cell_type": "markdown",
   "id": "788f2447",
   "metadata": {},
   "source": [
    "## region"
   ]
  },
  {
   "cell_type": "code",
   "execution_count": 4,
   "id": "996e0427",
   "metadata": {},
   "outputs": [],
   "source": [
    "for(ct in cell_types){\n",
    "    df <- read.csv(paste0(\"~/HHCA_d/Code4Paper/ForWebsite/1-2-2/Structural units/\",ct,\".csv\"))\n",
    "\n",
    "    # save to json\n",
    "    json_str <- '['\n",
    "    for(i in 1:dim(df)[1]){\n",
    "        json_str <- paste0(json_str, '{\"name\": \"',df[i,1], '\", \"value\": \"',df[i,3],'\", \"upper\": \"', df[i,2],'\", \"lower\": \"',df[i,4],'\"},')\n",
    "    }\n",
    "    json_str <- substr(json_str,1,nchar(json_str)-1)\n",
    "    json_str <- paste0(json_str,']')\n",
    "\n",
    "    writeLines(json_str, paste0(\"/stor/public/chenyx/HHCAd/ForWebsite220412/BarPlot_CelltypeProportion/Adult//Region/\",ct,\".json\")) \n",
    "}"
   ]
  },
  {
   "cell_type": "markdown",
   "id": "842a1136",
   "metadata": {},
   "source": [
    "# Fetal"
   ]
  },
  {
   "cell_type": "markdown",
   "id": "25f8da79",
   "metadata": {},
   "source": [
    "## subregion"
   ]
  },
  {
   "cell_type": "code",
   "execution_count": 5,
   "id": "02a58704",
   "metadata": {},
   "outputs": [],
   "source": [
    "for(ct in cell_types){\n",
    "    df <- read.csv(paste0(\"~/HHCA_d/Code4Paper/ForWebsite/1-2-2/Fetal_Celltype/Sub structural units/\",ct,\".csv\"))\n",
    "\n",
    "    # save to json\n",
    "    json_str <- '['\n",
    "    for(i in 1:dim(df)[1]){\n",
    "        json_str <- paste0(json_str, '{\"name\": \"',df[i,1], '\", \"value\": \"',df[i,3],'\", \"upper\": \"', df[i,2],'\", \"lower\": \"',df[i,4],'\"},')\n",
    "    }\n",
    "    json_str <- substr(json_str,1,nchar(json_str)-1)\n",
    "    json_str <- paste0(json_str,']')\n",
    "\n",
    "    writeLines(json_str, paste0(\"/stor/public/chenyx/HHCAd/ForWebsite220412/BarPlot_CelltypeProportion/Fetal//Subregion/\",ct,\".json\")) \n",
    "}"
   ]
  },
  {
   "cell_type": "markdown",
   "id": "01c1b1e6",
   "metadata": {},
   "source": [
    "## region"
   ]
  },
  {
   "cell_type": "code",
   "execution_count": 7,
   "id": "3807fc02",
   "metadata": {},
   "outputs": [],
   "source": [
    "for(ct in cell_types){\n",
    "    df <- read.csv(paste0(\"~/HHCA_d/Code4Paper/ForWebsite/1-2-2/Fetal_Celltype/Structural units/\",ct,\".csv\"))\n",
    "\n",
    "    # save to json\n",
    "    json_str <- '['\n",
    "    for(i in 1:dim(df)[1]){\n",
    "        json_str <- paste0(json_str, '{\"name\": \"',df[i,1], '\", \"value\": \"',df[i,3],'\", \"upper\": \"', df[i,2],'\", \"lower\": \"',df[i,4],'\"},')\n",
    "    }\n",
    "    json_str <- substr(json_str,1,nchar(json_str)-1)\n",
    "    json_str <- paste0(json_str,']')\n",
    "\n",
    "    writeLines(json_str, paste0(\"/stor/public/chenyx/HHCAd/ForWebsite220412/BarPlot_CelltypeProportion/Fetal//Region/\",ct,\".json\")) \n",
    "}"
   ]
  }
 ],
 "metadata": {
  "kernelspec": {
   "display_name": "R4.0",
   "language": "R",
   "name": "ir3"
  },
  "language_info": {
   "codemirror_mode": "r",
   "file_extension": ".r",
   "mimetype": "text/x-r-source",
   "name": "R",
   "pygments_lexer": "r",
   "version": "4.0.3"
  }
 },
 "nbformat": 4,
 "nbformat_minor": 5
}
