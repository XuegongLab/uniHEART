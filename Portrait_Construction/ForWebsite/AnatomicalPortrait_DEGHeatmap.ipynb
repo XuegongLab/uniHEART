{
 "cells": [
  {
   "cell_type": "code",
   "execution_count": 2,
   "id": "c15a4766",
   "metadata": {},
   "outputs": [],
   "source": [
    "library(rjson)"
   ]
  },
  {
   "cell_type": "code",
   "execution_count": 4,
   "id": "5615f7da",
   "metadata": {},
   "outputs": [],
   "source": [
    "library(reshape)"
   ]
  },
  {
   "cell_type": "markdown",
   "id": "3d50da0e",
   "metadata": {},
   "source": [
    "# Gene Heatmap"
   ]
  },
  {
   "cell_type": "markdown",
   "id": "5d5ea589",
   "metadata": {},
   "source": [
    "## Adult"
   ]
  },
  {
   "cell_type": "markdown",
   "id": "abfde0d4",
   "metadata": {},
   "source": [
    "### LV"
   ]
  },
  {
   "cell_type": "code",
   "execution_count": 3,
   "id": "718d32ac",
   "metadata": {},
   "outputs": [
    {
     "name": "stderr",
     "output_type": "stream",
     "text": [
      "Using X as id variables\n",
      "\n"
     ]
    }
   ],
   "source": [
    "path <- \"~/HHCA_d/Code4Paper/ForWebsite/1-3/HEG/Adult/LV.csv\"\n",
    "df <- read.csv(path,row.names = 1)\n",
    "mat <- melt(read.csv(path))"
   ]
  },
  {
   "cell_type": "code",
   "execution_count": 4,
   "id": "e053327b",
   "metadata": {},
   "outputs": [],
   "source": [
    "# write x ais\n",
    "json_str <- '{\"xAxis\": [\"LA\", \"IAS\",\"RA\", \"LV\", \"IVS\", \"RV\"], '\n",
    "# write y axis\n",
    "json_str <- paste0(json_str, '\"yAxis\": [')\n",
    "for(gene in rownames(df)){\n",
    "    json_str <- paste0(json_str, '\"', gene ,'\", ')\n",
    "}\n",
    "json_str <- substr(json_str,1,nchar(json_str)-2)\n",
    "json_str <- paste0(json_str, '], ')\n",
    "# write data\n",
    "json_str <- paste0(json_str, '\"data\": [')\n",
    "for (i in 1:dim(mat)[1]){\n",
    "    json_str <- paste0(json_str,'[', '\"',mat[i,2],'\", \"', mat[i,1],'\", \"',mat[i,3], '\"],')\n",
    "}\n",
    "json_str <- substr(json_str,1,nchar(json_str)-1)\n",
    "json_str <- paste0(json_str, ']}')"
   ]
  },
  {
   "cell_type": "code",
   "execution_count": 6,
   "id": "8db31e2a",
   "metadata": {},
   "outputs": [],
   "source": [
    "writeLines(json_str,\"/stor/public/chenyx/HHCAd/ForWebsite220412/HeatMap_DEG_A/Adult/LV.json\")"
   ]
  },
  {
   "cell_type": "markdown",
   "id": "834f097a",
   "metadata": {},
   "source": [
    "### IVS"
   ]
  },
  {
   "cell_type": "code",
   "execution_count": 7,
   "id": "a10737a2",
   "metadata": {},
   "outputs": [
    {
     "name": "stderr",
     "output_type": "stream",
     "text": [
      "Using X as id variables\n",
      "\n"
     ]
    }
   ],
   "source": [
    "path <- \"~/HHCA_d/Code4Paper/ForWebsite/1-3/HEG/Adult/IVS.csv\"\n",
    "df <- read.csv(path,row.names = 1)\n",
    "mat <- melt(read.csv(path))"
   ]
  },
  {
   "cell_type": "code",
   "execution_count": 8,
   "id": "38774bf3",
   "metadata": {},
   "outputs": [],
   "source": [
    "# write x ais\n",
    "json_str <- '{\"xAxis\": [\"LA\", \"IAS\",\"RA\", \"LV\", \"IVS\", \"RV\"], '\n",
    "# write y axis\n",
    "json_str <- paste0(json_str, '\"yAxis\": [')\n",
    "for(gene in rownames(df)){\n",
    "    json_str <- paste0(json_str, '\"', gene ,'\", ')\n",
    "}\n",
    "json_str <- substr(json_str,1,nchar(json_str)-2)\n",
    "json_str <- paste0(json_str, '], ')\n",
    "# write data\n",
    "json_str <- paste0(json_str, '\"data\": [')\n",
    "for (i in 1:dim(mat)[1]){\n",
    "    json_str <- paste0(json_str,'[', '\"',mat[i,2],'\", \"', mat[i,1],'\", \"',mat[i,3], '\"],')\n",
    "}\n",
    "json_str <- substr(json_str,1,nchar(json_str)-1)\n",
    "json_str <- paste0(json_str, ']}')"
   ]
  },
  {
   "cell_type": "code",
   "execution_count": 9,
   "id": "57c4c7cd",
   "metadata": {},
   "outputs": [],
   "source": [
    "writeLines(json_str,\"/stor/public/chenyx/HHCAd/ForWebsite220412/HeatMap_DEG_A/Adult/IVS.json\")"
   ]
  },
  {
   "cell_type": "markdown",
   "id": "d2714936",
   "metadata": {},
   "source": [
    "### RV"
   ]
  },
  {
   "cell_type": "code",
   "execution_count": 10,
   "id": "44c5edca",
   "metadata": {},
   "outputs": [
    {
     "name": "stderr",
     "output_type": "stream",
     "text": [
      "Using X as id variables\n",
      "\n"
     ]
    }
   ],
   "source": [
    "path <- \"~/HHCA_d/Code4Paper/ForWebsite/1-3/HEG/Adult/RV.csv\"\n",
    "df <- read.csv(path,row.names = 1)\n",
    "mat <- melt(read.csv(path))"
   ]
  },
  {
   "cell_type": "code",
   "execution_count": 11,
   "id": "17db1bc8",
   "metadata": {},
   "outputs": [],
   "source": [
    "# write x ais\n",
    "json_str <- '{\"xAxis\": [\"LA\", \"IAS\",\"RA\", \"LV\", \"IVS\", \"RV\"], '\n",
    "# write y axis\n",
    "json_str <- paste0(json_str, '\"yAxis\": [')\n",
    "for(gene in rownames(df)){\n",
    "    json_str <- paste0(json_str, '\"', gene ,'\", ')\n",
    "}\n",
    "json_str <- substr(json_str,1,nchar(json_str)-2)\n",
    "json_str <- paste0(json_str, '], ')\n",
    "# write data\n",
    "json_str <- paste0(json_str, '\"data\": [')\n",
    "for (i in 1:dim(mat)[1]){\n",
    "    json_str <- paste0(json_str,'[', '\"',mat[i,2],'\", \"', mat[i,1],'\", \"',mat[i,3], '\"],')\n",
    "}\n",
    "json_str <- substr(json_str,1,nchar(json_str)-1)\n",
    "json_str <- paste0(json_str, ']}')"
   ]
  },
  {
   "cell_type": "code",
   "execution_count": 12,
   "id": "9803c4a2",
   "metadata": {},
   "outputs": [],
   "source": [
    "writeLines(json_str,\"/stor/public/chenyx/HHCAd/ForWebsite220412/HeatMap_DEG_A/Adult/RV.json\")"
   ]
  },
  {
   "cell_type": "markdown",
   "id": "ef3adc48",
   "metadata": {},
   "source": [
    "### LA"
   ]
  },
  {
   "cell_type": "code",
   "execution_count": 14,
   "id": "e92b685f",
   "metadata": {},
   "outputs": [
    {
     "name": "stderr",
     "output_type": "stream",
     "text": [
      "Using X as id variables\n",
      "\n"
     ]
    }
   ],
   "source": [
    "path <- \"~/HHCA_d/Code4Paper/ForWebsite/1-3/HEG/Adult/LA.csv\"\n",
    "df <- read.csv(path,row.names = 1)\n",
    "mat <- melt(read.csv(path))"
   ]
  },
  {
   "cell_type": "code",
   "execution_count": 15,
   "id": "92f2ef41",
   "metadata": {},
   "outputs": [],
   "source": [
    "# write x ais\n",
    "json_str <- '{\"xAxis\": [\"LA\", \"IAS\",\"RA\", \"LV\", \"IVS\", \"RV\"], '\n",
    "# write y axis\n",
    "json_str <- paste0(json_str, '\"yAxis\": [')\n",
    "for(gene in rownames(df)){\n",
    "    json_str <- paste0(json_str, '\"', gene ,'\", ')\n",
    "}\n",
    "json_str <- substr(json_str,1,nchar(json_str)-2)\n",
    "json_str <- paste0(json_str, '], ')\n",
    "# write data\n",
    "json_str <- paste0(json_str, '\"data\": [')\n",
    "for (i in 1:dim(mat)[1]){\n",
    "    json_str <- paste0(json_str,'[', '\"',mat[i,2],'\", \"', mat[i,1],'\", \"',mat[i,3], '\"],')\n",
    "}\n",
    "json_str <- substr(json_str,1,nchar(json_str)-1)\n",
    "json_str <- paste0(json_str, ']}')"
   ]
  },
  {
   "cell_type": "code",
   "execution_count": 16,
   "id": "39af1baa",
   "metadata": {},
   "outputs": [],
   "source": [
    "writeLines(json_str,\"/stor/public/chenyx/HHCAd/ForWebsite220412/HeatMap_DEG_A/Adult/LA.json\")"
   ]
  },
  {
   "cell_type": "markdown",
   "id": "bd65e34e",
   "metadata": {},
   "source": [
    "### IAS"
   ]
  },
  {
   "cell_type": "code",
   "execution_count": 17,
   "id": "531ceca5",
   "metadata": {},
   "outputs": [
    {
     "name": "stderr",
     "output_type": "stream",
     "text": [
      "Using X as id variables\n",
      "\n"
     ]
    }
   ],
   "source": [
    "path <- \"~/HHCA_d/Code4Paper/ForWebsite/1-3/HEG/Adult/IAS.csv\"\n",
    "df <- read.csv(path,row.names = 1)\n",
    "mat <- melt(read.csv(path))"
   ]
  },
  {
   "cell_type": "code",
   "execution_count": 18,
   "id": "6ee03bed",
   "metadata": {},
   "outputs": [],
   "source": [
    "# write x ais\n",
    "json_str <- '{\"xAxis\": [\"LA\", \"IAS\",\"RA\", \"LV\", \"IVS\", \"RV\"], '\n",
    "# write y axis\n",
    "json_str <- paste0(json_str, '\"yAxis\": [')\n",
    "for(gene in rownames(df)){\n",
    "    json_str <- paste0(json_str, '\"', gene ,'\", ')\n",
    "}\n",
    "json_str <- substr(json_str,1,nchar(json_str)-2)\n",
    "json_str <- paste0(json_str, '], ')\n",
    "# write data\n",
    "json_str <- paste0(json_str, '\"data\": [')\n",
    "for (i in 1:dim(mat)[1]){\n",
    "    json_str <- paste0(json_str,'[', '\"',mat[i,2],'\", \"', mat[i,1],'\", \"',mat[i,3], '\"],')\n",
    "}\n",
    "json_str <- substr(json_str,1,nchar(json_str)-1)\n",
    "json_str <- paste0(json_str, ']}')"
   ]
  },
  {
   "cell_type": "code",
   "execution_count": 19,
   "id": "91263d0d",
   "metadata": {},
   "outputs": [],
   "source": [
    "writeLines(json_str,\"/stor/public/chenyx/HHCAd/ForWebsite220412/HeatMap_DEG_A/Adult/IAS.json\")"
   ]
  },
  {
   "cell_type": "markdown",
   "id": "758338a1",
   "metadata": {},
   "source": [
    "### RA"
   ]
  },
  {
   "cell_type": "code",
   "execution_count": 20,
   "id": "5cdd1c4d",
   "metadata": {},
   "outputs": [
    {
     "name": "stderr",
     "output_type": "stream",
     "text": [
      "Using X as id variables\n",
      "\n"
     ]
    }
   ],
   "source": [
    "path <- \"~/HHCA_d/Code4Paper/ForWebsite/1-3/HEG/Adult/RA.csv\"\n",
    "df <- read.csv(path,row.names = 1)\n",
    "mat <- melt(read.csv(path))"
   ]
  },
  {
   "cell_type": "code",
   "execution_count": 21,
   "id": "18a90037",
   "metadata": {},
   "outputs": [],
   "source": [
    "# write x ais\n",
    "json_str <- '{\"xAxis\": [\"LA\", \"IAS\",\"RA\", \"LV\", \"IVS\", \"RV\"], '\n",
    "# write y axis\n",
    "json_str <- paste0(json_str, '\"yAxis\": [')\n",
    "for(gene in rownames(df)){\n",
    "    json_str <- paste0(json_str, '\"', gene ,'\", ')\n",
    "}\n",
    "json_str <- substr(json_str,1,nchar(json_str)-2)\n",
    "json_str <- paste0(json_str, '], ')\n",
    "# write data\n",
    "json_str <- paste0(json_str, '\"data\": [')\n",
    "for (i in 1:dim(mat)[1]){\n",
    "    json_str <- paste0(json_str,'[', '\"',mat[i,2],'\", \"', mat[i,1],'\", \"',mat[i,3], '\"],')\n",
    "}\n",
    "json_str <- substr(json_str,1,nchar(json_str)-1)\n",
    "json_str <- paste0(json_str, ']}')"
   ]
  },
  {
   "cell_type": "code",
   "execution_count": 22,
   "id": "1b655115",
   "metadata": {},
   "outputs": [],
   "source": [
    "writeLines(json_str,\"/stor/public/chenyx/HHCAd/ForWebsite220412/HeatMap_DEG_A/Adult/RA.json\")"
   ]
  },
  {
   "cell_type": "markdown",
   "id": "beec9545",
   "metadata": {},
   "source": [
    "## Fetal"
   ]
  },
  {
   "cell_type": "markdown",
   "id": "944b2651",
   "metadata": {},
   "source": [
    "### LV"
   ]
  },
  {
   "cell_type": "code",
   "execution_count": 5,
   "id": "3a2dc14d",
   "metadata": {},
   "outputs": [
    {
     "name": "stderr",
     "output_type": "stream",
     "text": [
      "Using X as id variables\n",
      "\n"
     ]
    }
   ],
   "source": [
    "path <- \"~/HHCA_d/Code4Paper/ForWebsite/1-3/HEG/Fetal/LV.csv\"\n",
    "df <- read.csv(path,row.names = 1)\n",
    "mat <- melt(read.csv(path))"
   ]
  },
  {
   "cell_type": "code",
   "execution_count": 9,
   "id": "b7b04021",
   "metadata": {},
   "outputs": [],
   "source": [
    "# write x ais\n",
    "json_str <- '{\"xAxis\": [\"LV\", \"IVS\", \"RV\", \"LA\", \"RA\", \"AO\", \"PA\", \"MV\", \"TV\"], '\n",
    "# write y axis\n",
    "json_str <- paste0(json_str, '\"yAxis\": [')\n",
    "for(gene in rownames(df)){\n",
    "    json_str <- paste0(json_str, '\"', gene ,'\", ')\n",
    "}\n",
    "json_str <- substr(json_str,1,nchar(json_str)-2)\n",
    "json_str <- paste0(json_str, '], ')\n",
    "# write data\n",
    "json_str <- paste0(json_str, '\"data\": [')\n",
    "for (i in 1:dim(mat)[1]){\n",
    "    json_str <- paste0(json_str,'[', '\"',mat[i,2],'\", \"', mat[i,1],'\", \"',mat[i,3], '\"],')\n",
    "}\n",
    "json_str <- substr(json_str,1,nchar(json_str)-1)\n",
    "json_str <- paste0(json_str, ']}')"
   ]
  },
  {
   "cell_type": "code",
   "execution_count": 12,
   "id": "9f31237b",
   "metadata": {},
   "outputs": [],
   "source": [
    "writeLines(json_str,\"/stor/public/chenyx/HHCAd/ForWebsite220412/HeatMap_DEG_A/Fetal/LV.json\")"
   ]
  },
  {
   "cell_type": "markdown",
   "id": "19dc85a2",
   "metadata": {},
   "source": [
    "### IVS"
   ]
  },
  {
   "cell_type": "code",
   "execution_count": 13,
   "id": "f2ea956d",
   "metadata": {},
   "outputs": [
    {
     "name": "stderr",
     "output_type": "stream",
     "text": [
      "Using X as id variables\n",
      "\n"
     ]
    }
   ],
   "source": [
    "path <- \"~/HHCA_d/Code4Paper/ForWebsite/1-3/HEG/Fetal/IVS.csv\"\n",
    "df <- read.csv(path,row.names = 1)\n",
    "mat <- melt(read.csv(path))"
   ]
  },
  {
   "cell_type": "code",
   "execution_count": 14,
   "id": "22837f87",
   "metadata": {},
   "outputs": [],
   "source": [
    "# write x ais\n",
    "json_str <- '{\"xAxis\": [\"LV\", \"IVS\", \"RV\", \"LA\", \"RA\", \"AO\", \"PA\", \"MV\", \"TV\"], '\n",
    "# write y axis\n",
    "json_str <- paste0(json_str, '\"yAxis\": [')\n",
    "for(gene in rownames(df)){\n",
    "    json_str <- paste0(json_str, '\"', gene ,'\", ')\n",
    "}\n",
    "json_str <- substr(json_str,1,nchar(json_str)-2)\n",
    "json_str <- paste0(json_str, '], ')\n",
    "# write data\n",
    "json_str <- paste0(json_str, '\"data\": [')\n",
    "for (i in 1:dim(mat)[1]){\n",
    "    json_str <- paste0(json_str,'[', '\"',mat[i,2],'\", \"', mat[i,1],'\", \"',mat[i,3], '\"],')\n",
    "}\n",
    "json_str <- substr(json_str,1,nchar(json_str)-1)\n",
    "json_str <- paste0(json_str, ']}')"
   ]
  },
  {
   "cell_type": "code",
   "execution_count": 15,
   "id": "aaa57d99",
   "metadata": {},
   "outputs": [],
   "source": [
    "writeLines(json_str,\"/stor/public/chenyx/HHCAd/ForWebsite220412/HeatMap_DEG_A/Fetal/IVS.json\")"
   ]
  },
  {
   "cell_type": "markdown",
   "id": "b9ec0fa5",
   "metadata": {},
   "source": [
    "### RV"
   ]
  },
  {
   "cell_type": "code",
   "execution_count": 16,
   "id": "6e656e5a",
   "metadata": {},
   "outputs": [
    {
     "name": "stderr",
     "output_type": "stream",
     "text": [
      "Using X as id variables\n",
      "\n"
     ]
    }
   ],
   "source": [
    "path <- \"~/HHCA_d/Code4Paper/ForWebsite/1-3/HEG/Fetal/RV.csv\"\n",
    "df <- read.csv(path,row.names = 1)\n",
    "mat <- melt(read.csv(path))"
   ]
  },
  {
   "cell_type": "code",
   "execution_count": 17,
   "id": "afff3f60",
   "metadata": {},
   "outputs": [],
   "source": [
    "# write x ais\n",
    "json_str <- '{\"xAxis\": [\"LV\", \"IVS\", \"RV\", \"LA\", \"RA\", \"AO\", \"PA\", \"MV\", \"TV\"], '\n",
    "# write y axis\n",
    "json_str <- paste0(json_str, '\"yAxis\": [')\n",
    "for(gene in rownames(df)){\n",
    "    json_str <- paste0(json_str, '\"', gene ,'\", ')\n",
    "}\n",
    "json_str <- substr(json_str,1,nchar(json_str)-2)\n",
    "json_str <- paste0(json_str, '], ')\n",
    "# write data\n",
    "json_str <- paste0(json_str, '\"data\": [')\n",
    "for (i in 1:dim(mat)[1]){\n",
    "    json_str <- paste0(json_str,'[', '\"',mat[i,2],'\", \"', mat[i,1],'\", \"',mat[i,3], '\"],')\n",
    "}\n",
    "json_str <- substr(json_str,1,nchar(json_str)-1)\n",
    "json_str <- paste0(json_str, ']}')"
   ]
  },
  {
   "cell_type": "code",
   "execution_count": 18,
   "id": "b243aab6",
   "metadata": {},
   "outputs": [],
   "source": [
    "writeLines(json_str,\"/stor/public/chenyx/HHCAd/ForWebsite220412/HeatMap_DEG_A/Fetal/RV.json\")"
   ]
  },
  {
   "cell_type": "markdown",
   "id": "fd5bfcaf",
   "metadata": {},
   "source": [
    "### LA"
   ]
  },
  {
   "cell_type": "code",
   "execution_count": 19,
   "id": "2443cd13",
   "metadata": {},
   "outputs": [
    {
     "name": "stderr",
     "output_type": "stream",
     "text": [
      "Using X as id variables\n",
      "\n"
     ]
    }
   ],
   "source": [
    "path <- \"~/HHCA_d/Code4Paper/ForWebsite/1-3/HEG/Fetal/LA.csv\"\n",
    "df <- read.csv(path,row.names = 1)\n",
    "mat <- melt(read.csv(path))"
   ]
  },
  {
   "cell_type": "code",
   "execution_count": 20,
   "id": "dfa507cd",
   "metadata": {},
   "outputs": [],
   "source": [
    "# write x ais\n",
    "json_str <- '{\"xAxis\": [\"LV\", \"IVS\", \"RV\", \"LA\", \"RA\", \"AO\", \"PA\", \"MV\", \"TV\"], '\n",
    "# write y axis\n",
    "json_str <- paste0(json_str, '\"yAxis\": [')\n",
    "for(gene in rownames(df)){\n",
    "    json_str <- paste0(json_str, '\"', gene ,'\", ')\n",
    "}\n",
    "json_str <- substr(json_str,1,nchar(json_str)-2)\n",
    "json_str <- paste0(json_str, '], ')\n",
    "# write data\n",
    "json_str <- paste0(json_str, '\"data\": [')\n",
    "for (i in 1:dim(mat)[1]){\n",
    "    json_str <- paste0(json_str,'[', '\"',mat[i,2],'\", \"', mat[i,1],'\", \"',mat[i,3], '\"],')\n",
    "}\n",
    "json_str <- substr(json_str,1,nchar(json_str)-1)\n",
    "json_str <- paste0(json_str, ']}')"
   ]
  },
  {
   "cell_type": "code",
   "execution_count": 21,
   "id": "72daddf9",
   "metadata": {},
   "outputs": [],
   "source": [
    "writeLines(json_str,\"/stor/public/chenyx/HHCAd/ForWebsite220412/HeatMap_DEG_A/Fetal/LA.json\")"
   ]
  },
  {
   "cell_type": "markdown",
   "id": "18db40ff",
   "metadata": {},
   "source": [
    "### RA"
   ]
  },
  {
   "cell_type": "code",
   "execution_count": 22,
   "id": "ab215d84",
   "metadata": {},
   "outputs": [
    {
     "name": "stderr",
     "output_type": "stream",
     "text": [
      "Using X as id variables\n",
      "\n"
     ]
    }
   ],
   "source": [
    "path <- \"~/HHCA_d/Code4Paper/ForWebsite/1-3/HEG/Fetal/RA.csv\"\n",
    "df <- read.csv(path,row.names = 1)\n",
    "mat <- melt(read.csv(path))"
   ]
  },
  {
   "cell_type": "code",
   "execution_count": 23,
   "id": "4a6c65a0",
   "metadata": {},
   "outputs": [],
   "source": [
    "# write x ais\n",
    "json_str <- '{\"xAxis\": [\"LV\", \"IVS\", \"RV\", \"LA\", \"RA\", \"AO\", \"PA\", \"MV\", \"TV\"], '\n",
    "# write y axis\n",
    "json_str <- paste0(json_str, '\"yAxis\": [')\n",
    "for(gene in rownames(df)){\n",
    "    json_str <- paste0(json_str, '\"', gene ,'\", ')\n",
    "}\n",
    "json_str <- substr(json_str,1,nchar(json_str)-2)\n",
    "json_str <- paste0(json_str, '], ')\n",
    "# write data\n",
    "json_str <- paste0(json_str, '\"data\": [')\n",
    "for (i in 1:dim(mat)[1]){\n",
    "    json_str <- paste0(json_str,'[', '\"',mat[i,2],'\", \"', mat[i,1],'\", \"',mat[i,3], '\"],')\n",
    "}\n",
    "json_str <- substr(json_str,1,nchar(json_str)-1)\n",
    "json_str <- paste0(json_str, ']}')"
   ]
  },
  {
   "cell_type": "code",
   "execution_count": 24,
   "id": "a503912c",
   "metadata": {},
   "outputs": [],
   "source": [
    "writeLines(json_str,\"/stor/public/chenyx/HHCAd/ForWebsite220412/HeatMap_DEG_A/Fetal/RA.json\")"
   ]
  },
  {
   "cell_type": "markdown",
   "id": "7d27b77a",
   "metadata": {},
   "source": [
    "### AO"
   ]
  },
  {
   "cell_type": "code",
   "execution_count": 25,
   "id": "96aefbdd",
   "metadata": {},
   "outputs": [
    {
     "name": "stderr",
     "output_type": "stream",
     "text": [
      "Using X as id variables\n",
      "\n"
     ]
    }
   ],
   "source": [
    "path <- \"~/HHCA_d/Code4Paper/ForWebsite/1-3/HEG/Fetal/AO.csv\"\n",
    "df <- read.csv(path,row.names = 1)\n",
    "mat <- melt(read.csv(path))"
   ]
  },
  {
   "cell_type": "code",
   "execution_count": 26,
   "id": "63d977b3",
   "metadata": {},
   "outputs": [],
   "source": [
    "# write x ais\n",
    "json_str <- '{\"xAxis\": [\"LV\", \"IVS\", \"RV\", \"LA\", \"RA\", \"AO\", \"PA\", \"MV\", \"TV\"], '\n",
    "# write y axis\n",
    "json_str <- paste0(json_str, '\"yAxis\": [')\n",
    "for(gene in rownames(df)){\n",
    "    json_str <- paste0(json_str, '\"', gene ,'\", ')\n",
    "}\n",
    "json_str <- substr(json_str,1,nchar(json_str)-2)\n",
    "json_str <- paste0(json_str, '], ')\n",
    "# write data\n",
    "json_str <- paste0(json_str, '\"data\": [')\n",
    "for (i in 1:dim(mat)[1]){\n",
    "    json_str <- paste0(json_str,'[', '\"',mat[i,2],'\", \"', mat[i,1],'\", \"',mat[i,3], '\"],')\n",
    "}\n",
    "json_str <- substr(json_str,1,nchar(json_str)-1)\n",
    "json_str <- paste0(json_str, ']}')"
   ]
  },
  {
   "cell_type": "code",
   "execution_count": 27,
   "id": "b4ce8037",
   "metadata": {},
   "outputs": [],
   "source": [
    "writeLines(json_str,\"/stor/public/chenyx/HHCAd/ForWebsite220412/HeatMap_DEG_A/Fetal/AO.json\")"
   ]
  },
  {
   "cell_type": "markdown",
   "id": "00662663",
   "metadata": {},
   "source": [
    "### PA"
   ]
  },
  {
   "cell_type": "code",
   "execution_count": 28,
   "id": "a0f7dbd4",
   "metadata": {},
   "outputs": [
    {
     "name": "stderr",
     "output_type": "stream",
     "text": [
      "Using X as id variables\n",
      "\n"
     ]
    }
   ],
   "source": [
    "path <- \"~/HHCA_d/Code4Paper/ForWebsite/1-3/HEG/Fetal/PA.csv\"\n",
    "df <- read.csv(path,row.names = 1)\n",
    "mat <- melt(read.csv(path))"
   ]
  },
  {
   "cell_type": "code",
   "execution_count": 29,
   "id": "f98b6907",
   "metadata": {},
   "outputs": [],
   "source": [
    "# write x ais\n",
    "json_str <- '{\"xAxis\": [\"LV\", \"IVS\", \"RV\", \"LA\", \"RA\", \"AO\", \"PA\", \"MV\", \"TV\"], '\n",
    "# write y axis\n",
    "json_str <- paste0(json_str, '\"yAxis\": [')\n",
    "for(gene in rownames(df)){\n",
    "    json_str <- paste0(json_str, '\"', gene ,'\", ')\n",
    "}\n",
    "json_str <- substr(json_str,1,nchar(json_str)-2)\n",
    "json_str <- paste0(json_str, '], ')\n",
    "# write data\n",
    "json_str <- paste0(json_str, '\"data\": [')\n",
    "for (i in 1:dim(mat)[1]){\n",
    "    json_str <- paste0(json_str,'[', '\"',mat[i,2],'\", \"', mat[i,1],'\", \"',mat[i,3], '\"],')\n",
    "}\n",
    "json_str <- substr(json_str,1,nchar(json_str)-1)\n",
    "json_str <- paste0(json_str, ']}')"
   ]
  },
  {
   "cell_type": "code",
   "execution_count": 30,
   "id": "82fadc40",
   "metadata": {},
   "outputs": [],
   "source": [
    "writeLines(json_str,\"/stor/public/chenyx/HHCAd/ForWebsite220412/HeatMap_DEG_A/Fetal/PA.json\")"
   ]
  },
  {
   "cell_type": "markdown",
   "id": "cf95326c",
   "metadata": {},
   "source": [
    "### MV"
   ]
  },
  {
   "cell_type": "code",
   "execution_count": 31,
   "id": "4c59c8b4",
   "metadata": {},
   "outputs": [
    {
     "name": "stderr",
     "output_type": "stream",
     "text": [
      "Using X as id variables\n",
      "\n"
     ]
    }
   ],
   "source": [
    "path <- \"~/HHCA_d/Code4Paper/ForWebsite/1-3/HEG/Fetal/MV.csv\"\n",
    "df <- read.csv(path,row.names = 1)\n",
    "mat <- melt(read.csv(path))"
   ]
  },
  {
   "cell_type": "code",
   "execution_count": 32,
   "id": "8e612e65",
   "metadata": {},
   "outputs": [],
   "source": [
    "# write x ais\n",
    "json_str <- '{\"xAxis\": [\"LV\", \"IVS\", \"RV\", \"LA\", \"RA\", \"AO\", \"PA\", \"MV\", \"TV\"], '\n",
    "# write y axis\n",
    "json_str <- paste0(json_str, '\"yAxis\": [')\n",
    "for(gene in rownames(df)){\n",
    "    json_str <- paste0(json_str, '\"', gene ,'\", ')\n",
    "}\n",
    "json_str <- substr(json_str,1,nchar(json_str)-2)\n",
    "json_str <- paste0(json_str, '], ')\n",
    "# write data\n",
    "json_str <- paste0(json_str, '\"data\": [')\n",
    "for (i in 1:dim(mat)[1]){\n",
    "    json_str <- paste0(json_str,'[', '\"',mat[i,2],'\", \"', mat[i,1],'\", \"',mat[i,3], '\"],')\n",
    "}\n",
    "json_str <- substr(json_str,1,nchar(json_str)-1)\n",
    "json_str <- paste0(json_str, ']}')"
   ]
  },
  {
   "cell_type": "code",
   "execution_count": 33,
   "id": "a079fc3e",
   "metadata": {},
   "outputs": [],
   "source": [
    "writeLines(json_str,\"/stor/public/chenyx/HHCAd/ForWebsite220412/HeatMap_DEG_A/Fetal/MV.json\")"
   ]
  },
  {
   "cell_type": "markdown",
   "id": "123b395c",
   "metadata": {},
   "source": [
    "### TV"
   ]
  },
  {
   "cell_type": "code",
   "execution_count": 34,
   "id": "aee3edd1",
   "metadata": {},
   "outputs": [
    {
     "name": "stderr",
     "output_type": "stream",
     "text": [
      "Using X as id variables\n",
      "\n"
     ]
    }
   ],
   "source": [
    "path <- \"~/HHCA_d/Code4Paper/ForWebsite/1-3/HEG/Fetal/TV.csv\"\n",
    "df <- read.csv(path,row.names = 1)\n",
    "mat <- melt(read.csv(path))"
   ]
  },
  {
   "cell_type": "code",
   "execution_count": 35,
   "id": "72e11bb5",
   "metadata": {},
   "outputs": [],
   "source": [
    "# write x ais\n",
    "json_str <- '{\"xAxis\": [\"LV\", \"IVS\", \"RV\", \"LA\", \"RA\", \"AO\", \"PA\", \"MV\", \"TV\"], '\n",
    "# write y axis\n",
    "json_str <- paste0(json_str, '\"yAxis\": [')\n",
    "for(gene in rownames(df)){\n",
    "    json_str <- paste0(json_str, '\"', gene ,'\", ')\n",
    "}\n",
    "json_str <- substr(json_str,1,nchar(json_str)-2)\n",
    "json_str <- paste0(json_str, '], ')\n",
    "# write data\n",
    "json_str <- paste0(json_str, '\"data\": [')\n",
    "for (i in 1:dim(mat)[1]){\n",
    "    json_str <- paste0(json_str,'[', '\"',mat[i,2],'\", \"', mat[i,1],'\", \"',mat[i,3], '\"],')\n",
    "}\n",
    "json_str <- substr(json_str,1,nchar(json_str)-1)\n",
    "json_str <- paste0(json_str, ']}')"
   ]
  },
  {
   "cell_type": "code",
   "execution_count": 36,
   "id": "a523822e",
   "metadata": {},
   "outputs": [],
   "source": [
    "writeLines(json_str,\"/stor/public/chenyx/HHCAd/ForWebsite220412/HeatMap_DEG_A/Fetal/TV.json\")"
   ]
  }
 ],
 "metadata": {
  "kernelspec": {
   "display_name": "R4.0",
   "language": "R",
   "name": "ir3"
  },
  "language_info": {
   "codemirror_mode": "r",
   "file_extension": ".r",
   "mimetype": "text/x-r-source",
   "name": "R",
   "pygments_lexer": "r",
   "version": "4.0.3"
  }
 },
 "nbformat": 4,
 "nbformat_minor": 5
}
