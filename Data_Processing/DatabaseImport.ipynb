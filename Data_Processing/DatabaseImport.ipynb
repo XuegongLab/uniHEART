{
 "cells": [
  {
   "cell_type": "code",
   "execution_count": 1,
   "id": "6ec9a514-0d2d-41e4-9b30-21d252990e15",
   "metadata": {
    "execution": {
     "iopub.execute_input": "2023-07-11T15:43:22.541479Z",
     "iopub.status.busy": "2023-07-11T15:43:22.540989Z",
     "iopub.status.idle": "2023-07-11T15:43:35.751014Z",
     "shell.execute_reply": "2023-07-11T15:43:35.750071Z",
     "shell.execute_reply.started": "2023-07-11T15:43:22.541448Z"
    },
    "tags": []
   },
   "outputs": [],
   "source": [
    "import numpy as np\n",
    "import pandas as pd\n",
    "\n",
    "import scanpy as sc"
   ]
  },
  {
   "cell_type": "code",
   "execution_count": null,
   "id": "2d8f18a9-d398-4a99-a43f-f309910a8007",
   "metadata": {},
   "outputs": [],
   "source": []
  },
  {
   "cell_type": "code",
   "execution_count": 2,
   "id": "06ed2281-41ee-46bd-a549-2ccd31bf9a21",
   "metadata": {
    "execution": {
     "iopub.execute_input": "2023-07-11T15:43:49.821902Z",
     "iopub.status.busy": "2023-07-11T15:43:49.820955Z",
     "iopub.status.idle": "2023-07-11T15:43:59.435011Z",
     "shell.execute_reply": "2023-07-11T15:43:59.434119Z",
     "shell.execute_reply.started": "2023-07-11T15:43:49.821836Z"
    },
    "tags": []
   },
   "outputs": [],
   "source": [
    "adata_adult = sc.read_h5ad('/data1/chenyx/Adult.Heart.SCANVI.h5ad')"
   ]
  },
  {
   "cell_type": "code",
   "execution_count": 3,
   "id": "f0a2d7bf-39c0-4611-b37b-8be331c4bfc5",
   "metadata": {
    "execution": {
     "iopub.execute_input": "2023-07-11T15:43:59.436376Z",
     "iopub.status.busy": "2023-07-11T15:43:59.436175Z",
     "iopub.status.idle": "2023-07-11T15:43:59.443573Z",
     "shell.execute_reply": "2023-07-11T15:43:59.442949Z",
     "shell.execute_reply.started": "2023-07-11T15:43:59.436356Z"
    },
    "tags": []
   },
   "outputs": [
    {
     "data": {
      "text/plain": [
       "AnnData object with n_obs × n_vars = 908378 × 43878\n",
       "    obs: 'cell_ID', 'donor_ID', 'donor_gender', 'donor_age', 'original_name', 'organ', 'region', 'subregion', 'sample_status', 'seq_tech', 'cell_type', 'if_patient', 'donor_status', 'treatment', 'ethnicity', 'Ref', 'MCT', 'develop_stage', '_scvi_batch', '_scvi_labels', 'C_scANVI'\n",
       "    var: '0'\n",
       "    uns: 'Ref_colors', '_scvi_manager_uuid', '_scvi_uuid', 'cell_type_colors', 'neighbors', 'umap'\n",
       "    obsm: 'X_scANVI', 'X_umap'\n",
       "    obsp: 'connectivities', 'distances'"
      ]
     },
     "execution_count": 3,
     "metadata": {},
     "output_type": "execute_result"
    }
   ],
   "source": [
    "adata_adult"
   ]
  },
  {
   "cell_type": "code",
   "execution_count": 4,
   "id": "c6f3f433-f611-4306-a0e7-e5d2cd48e985",
   "metadata": {
    "execution": {
     "iopub.execute_input": "2023-07-11T15:44:00.336968Z",
     "iopub.status.busy": "2023-07-11T15:44:00.336649Z",
     "iopub.status.idle": "2023-07-11T15:44:01.262299Z",
     "shell.execute_reply": "2023-07-11T15:44:01.261351Z",
     "shell.execute_reply.started": "2023-07-11T15:44:00.336938Z"
    },
    "tags": []
   },
   "outputs": [],
   "source": [
    "adata_fetal = sc.read_h5ad('/data1/chenyx/Fetal.Heart.SCANVI.0707.h5ad')"
   ]
  },
  {
   "cell_type": "code",
   "execution_count": 5,
   "id": "39d52ed9-4dd5-4180-997f-daeb650025bc",
   "metadata": {
    "execution": {
     "iopub.execute_input": "2023-07-11T15:44:04.574051Z",
     "iopub.status.busy": "2023-07-11T15:44:04.572621Z",
     "iopub.status.idle": "2023-07-11T15:44:04.580797Z",
     "shell.execute_reply": "2023-07-11T15:44:04.579770Z",
     "shell.execute_reply.started": "2023-07-11T15:44:04.574000Z"
    },
    "tags": []
   },
   "outputs": [
    {
     "data": {
      "text/plain": [
       "AnnData object with n_obs × n_vars = 117361 × 43878\n",
       "    obs: 'cell_ID', 'donor_ID', 'donor_gender', 'donor_age', 'original_name', 'organ', 'region', 'subregion', 'sample_status', 'seq_tech', 'cell_type', 'if_patient', 'donor_status', 'treatment', 'ethnicity', 'Ref', 'MCT', 'develop_stage', 'PC_1', 'PC_2', 'TSNE_1', 'TSNE_2', 'UMAP_1', 'UMAP_2', '_scvi_batch', '_scvi_labels', 'C_scANVI'\n",
       "    var: '0'\n",
       "    uns: 'Ref_colors', '_scvi_manager_uuid', '_scvi_uuid', 'cell_type_colors', 'neighbors', 'umap'\n",
       "    obsm: 'X_scANVI', 'X_umap'\n",
       "    obsp: 'connectivities', 'distances'"
      ]
     },
     "execution_count": 5,
     "metadata": {},
     "output_type": "execute_result"
    }
   ],
   "source": [
    "adata_fetal"
   ]
  },
  {
   "cell_type": "code",
   "execution_count": 6,
   "id": "0580aafa-4aa8-4519-a696-c0fef23cc5b1",
   "metadata": {
    "execution": {
     "iopub.execute_input": "2023-07-11T15:44:05.669871Z",
     "iopub.status.busy": "2023-07-11T15:44:05.669091Z",
     "iopub.status.idle": "2023-07-11T15:44:05.764685Z",
     "shell.execute_reply": "2023-07-11T15:44:05.763862Z",
     "shell.execute_reply.started": "2023-07-11T15:44:05.669810Z"
    },
    "tags": []
   },
   "outputs": [
    {
     "data": {
      "text/html": [
       "<div>\n",
       "<style scoped>\n",
       "    .dataframe tbody tr th:only-of-type {\n",
       "        vertical-align: middle;\n",
       "    }\n",
       "\n",
       "    .dataframe tbody tr th {\n",
       "        vertical-align: top;\n",
       "    }\n",
       "\n",
       "    .dataframe thead th {\n",
       "        text-align: right;\n",
       "    }\n",
       "</style>\n",
       "<table border=\"1\" class=\"dataframe\">\n",
       "  <thead>\n",
       "    <tr style=\"text-align: right;\">\n",
       "      <th></th>\n",
       "      <th>cell_ID</th>\n",
       "      <th>donor_ID</th>\n",
       "      <th>donor_gender</th>\n",
       "      <th>donor_age</th>\n",
       "      <th>original_name</th>\n",
       "      <th>organ</th>\n",
       "      <th>region</th>\n",
       "      <th>subregion</th>\n",
       "      <th>sample_status</th>\n",
       "      <th>seq_tech</th>\n",
       "      <th>...</th>\n",
       "      <th>develop_stage</th>\n",
       "      <th>PC_1</th>\n",
       "      <th>PC_2</th>\n",
       "      <th>TSNE_1</th>\n",
       "      <th>TSNE_2</th>\n",
       "      <th>UMAP_1</th>\n",
       "      <th>UMAP_2</th>\n",
       "      <th>_scvi_batch</th>\n",
       "      <th>_scvi_labels</th>\n",
       "      <th>C_scANVI</th>\n",
       "    </tr>\n",
       "  </thead>\n",
       "  <tbody>\n",
       "    <tr>\n",
       "      <th>AAACCTGAGAAACCAT.1</th>\n",
       "      <td>AAACCTGAGAAACCAT.1</td>\n",
       "      <td>Asp_donor1</td>\n",
       "      <td>Female</td>\n",
       "      <td>HE7W</td>\n",
       "      <td>Erythrocytes</td>\n",
       "      <td>Heart</td>\n",
       "      <td>Heart</td>\n",
       "      <td>NA</td>\n",
       "      <td>Healthy</td>\n",
       "      <td>10X</td>\n",
       "      <td>...</td>\n",
       "      <td>Fetal</td>\n",
       "      <td>-1.259237</td>\n",
       "      <td>-0.790091</td>\n",
       "      <td>6.667574</td>\n",
       "      <td>20.801586</td>\n",
       "      <td>-5.684747</td>\n",
       "      <td>0.449521</td>\n",
       "      <td>0</td>\n",
       "      <td>3</td>\n",
       "      <td>Unknown</td>\n",
       "    </tr>\n",
       "    <tr>\n",
       "      <th>AAACCTGGTGGTACAG.1</th>\n",
       "      <td>AAACCTGGTGGTACAG.1</td>\n",
       "      <td>Asp_donor1</td>\n",
       "      <td>Female</td>\n",
       "      <td>HE7W</td>\n",
       "      <td>Epicardium-derivedcells</td>\n",
       "      <td>Heart</td>\n",
       "      <td>Heart</td>\n",
       "      <td>NA</td>\n",
       "      <td>Healthy</td>\n",
       "      <td>10X</td>\n",
       "      <td>...</td>\n",
       "      <td>Fetal</td>\n",
       "      <td>6.299011</td>\n",
       "      <td>-2.465102</td>\n",
       "      <td>7.523747</td>\n",
       "      <td>-13.165880</td>\n",
       "      <td>-5.943957</td>\n",
       "      <td>7.645433</td>\n",
       "      <td>0</td>\n",
       "      <td>12</td>\n",
       "      <td>Basement membrane fibroblast</td>\n",
       "    </tr>\n",
       "    <tr>\n",
       "      <th>AAACGGGAGATGTAAC.1</th>\n",
       "      <td>AAACGGGAGATGTAAC.1</td>\n",
       "      <td>Asp_donor1</td>\n",
       "      <td>Female</td>\n",
       "      <td>HE7W</td>\n",
       "      <td>Fibroblast-like</td>\n",
       "      <td>Heart</td>\n",
       "      <td>Heart</td>\n",
       "      <td>NA</td>\n",
       "      <td>Healthy</td>\n",
       "      <td>10X</td>\n",
       "      <td>...</td>\n",
       "      <td>Fetal</td>\n",
       "      <td>8.164516</td>\n",
       "      <td>-5.639810</td>\n",
       "      <td>10.000092</td>\n",
       "      <td>-15.080420</td>\n",
       "      <td>-4.361122</td>\n",
       "      <td>9.868574</td>\n",
       "      <td>0</td>\n",
       "      <td>1</td>\n",
       "      <td>Basement membrane fibroblast</td>\n",
       "    </tr>\n",
       "    <tr>\n",
       "      <th>AAACGGGAGGCAGTCA.1</th>\n",
       "      <td>AAACGGGAGGCAGTCA.1</td>\n",
       "      <td>Asp_donor1</td>\n",
       "      <td>Female</td>\n",
       "      <td>HE7W</td>\n",
       "      <td>Fibroblast-like</td>\n",
       "      <td>Heart</td>\n",
       "      <td>Heart</td>\n",
       "      <td>NA</td>\n",
       "      <td>Healthy</td>\n",
       "      <td>10X</td>\n",
       "      <td>...</td>\n",
       "      <td>Fetal</td>\n",
       "      <td>9.240178</td>\n",
       "      <td>-5.241016</td>\n",
       "      <td>10.283956</td>\n",
       "      <td>-14.799395</td>\n",
       "      <td>-4.537375</td>\n",
       "      <td>9.394650</td>\n",
       "      <td>0</td>\n",
       "      <td>1</td>\n",
       "      <td>Basement membrane fibroblast</td>\n",
       "    </tr>\n",
       "    <tr>\n",
       "      <th>AAACGGGAGGTCATCT.1</th>\n",
       "      <td>AAACGGGAGGTCATCT.1</td>\n",
       "      <td>Asp_donor1</td>\n",
       "      <td>Female</td>\n",
       "      <td>HE7W</td>\n",
       "      <td>Smoothmusclecells/fibroblast-like</td>\n",
       "      <td>Heart</td>\n",
       "      <td>Heart</td>\n",
       "      <td>NA</td>\n",
       "      <td>Healthy</td>\n",
       "      <td>10X</td>\n",
       "      <td>...</td>\n",
       "      <td>Fetal</td>\n",
       "      <td>9.491164</td>\n",
       "      <td>-6.780578</td>\n",
       "      <td>0.124004</td>\n",
       "      <td>-23.663743</td>\n",
       "      <td>-2.881997</td>\n",
       "      <td>11.052618</td>\n",
       "      <td>0</td>\n",
       "      <td>1</td>\n",
       "      <td>Basement membrane fibroblast</td>\n",
       "    </tr>\n",
       "    <tr>\n",
       "      <th>...</th>\n",
       "      <td>...</td>\n",
       "      <td>...</td>\n",
       "      <td>...</td>\n",
       "      <td>...</td>\n",
       "      <td>...</td>\n",
       "      <td>...</td>\n",
       "      <td>...</td>\n",
       "      <td>...</td>\n",
       "      <td>...</td>\n",
       "      <td>...</td>\n",
       "      <td>...</td>\n",
       "      <td>...</td>\n",
       "      <td>...</td>\n",
       "      <td>...</td>\n",
       "      <td>...</td>\n",
       "      <td>...</td>\n",
       "      <td>...</td>\n",
       "      <td>...</td>\n",
       "      <td>...</td>\n",
       "      <td>...</td>\n",
       "      <td>...</td>\n",
       "    </tr>\n",
       "    <tr>\n",
       "      <th>FetalHeart_2.TTTAGGCTGTGTCACAAG</th>\n",
       "      <td>FetalHeart_2.TTTAGGCTGTGTCACAAG</td>\n",
       "      <td>FetalHeart2_GW11</td>\n",
       "      <td>Female</td>\n",
       "      <td>HE11W</td>\n",
       "      <td>Macrophage</td>\n",
       "      <td>Heart</td>\n",
       "      <td>Heart</td>\n",
       "      <td>NA</td>\n",
       "      <td>Healthy</td>\n",
       "      <td>Microwell-seq</td>\n",
       "      <td>...</td>\n",
       "      <td>Fetal</td>\n",
       "      <td>3.470524</td>\n",
       "      <td>1.971851</td>\n",
       "      <td>-7.608560</td>\n",
       "      <td>24.030402</td>\n",
       "      <td>-6.769481</td>\n",
       "      <td>2.720989</td>\n",
       "      <td>2</td>\n",
       "      <td>5</td>\n",
       "      <td>Macrophage</td>\n",
       "    </tr>\n",
       "    <tr>\n",
       "      <th>FetalHeart_2.TTTAGGGCGTCCGAGATC</th>\n",
       "      <td>FetalHeart_2.TTTAGGGCGTCCGAGATC</td>\n",
       "      <td>FetalHeart2_GW11</td>\n",
       "      <td>Female</td>\n",
       "      <td>HE11W</td>\n",
       "      <td>Epithelial cell_CCL21 high</td>\n",
       "      <td>Heart</td>\n",
       "      <td>Heart</td>\n",
       "      <td>NA</td>\n",
       "      <td>Healthy</td>\n",
       "      <td>Microwell-seq</td>\n",
       "      <td>...</td>\n",
       "      <td>Fetal</td>\n",
       "      <td>4.453611</td>\n",
       "      <td>-2.131397</td>\n",
       "      <td>-18.294933</td>\n",
       "      <td>-16.682791</td>\n",
       "      <td>5.572035</td>\n",
       "      <td>11.498136</td>\n",
       "      <td>2</td>\n",
       "      <td>11</td>\n",
       "      <td>Pericyte</td>\n",
       "    </tr>\n",
       "    <tr>\n",
       "      <th>FetalHeart_2.TTTAGGGGACATTGATCA</th>\n",
       "      <td>FetalHeart_2.TTTAGGGGACATTGATCA</td>\n",
       "      <td>FetalHeart2_GW11</td>\n",
       "      <td>Female</td>\n",
       "      <td>HE11W</td>\n",
       "      <td>Proliferating cell_PTTG1 high</td>\n",
       "      <td>Heart</td>\n",
       "      <td>Heart</td>\n",
       "      <td>NA</td>\n",
       "      <td>Healthy</td>\n",
       "      <td>Microwell-seq</td>\n",
       "      <td>...</td>\n",
       "      <td>Fetal</td>\n",
       "      <td>-8.008029</td>\n",
       "      <td>-0.240386</td>\n",
       "      <td>7.810606</td>\n",
       "      <td>-3.187709</td>\n",
       "      <td>6.639800</td>\n",
       "      <td>-4.556436</td>\n",
       "      <td>2</td>\n",
       "      <td>2</td>\n",
       "      <td>Cardiomyocyte cell</td>\n",
       "    </tr>\n",
       "    <tr>\n",
       "      <th>FetalHeart_2.TTTAGGTAGAGAAAGCGG</th>\n",
       "      <td>FetalHeart_2.TTTAGGTAGAGAAAGCGG</td>\n",
       "      <td>FetalHeart2_GW11</td>\n",
       "      <td>Female</td>\n",
       "      <td>HE11W</td>\n",
       "      <td>Ventricle cardiomyocyte_CSRP3 high</td>\n",
       "      <td>Heart</td>\n",
       "      <td>Heart</td>\n",
       "      <td>NA</td>\n",
       "      <td>Healthy</td>\n",
       "      <td>Microwell-seq</td>\n",
       "      <td>...</td>\n",
       "      <td>Fetal</td>\n",
       "      <td>-5.801729</td>\n",
       "      <td>-0.098751</td>\n",
       "      <td>-3.473707</td>\n",
       "      <td>-2.922242</td>\n",
       "      <td>4.806717</td>\n",
       "      <td>-2.891984</td>\n",
       "      <td>2</td>\n",
       "      <td>2</td>\n",
       "      <td>Cardiomyocyte cell</td>\n",
       "    </tr>\n",
       "    <tr>\n",
       "      <th>FetalHeart_2.TTTAGGTAGCATTCACTT</th>\n",
       "      <td>FetalHeart_2.TTTAGGTAGCATTCACTT</td>\n",
       "      <td>FetalHeart2_GW11</td>\n",
       "      <td>Female</td>\n",
       "      <td>HE11W</td>\n",
       "      <td>Endothelial cell_FABP4 high</td>\n",
       "      <td>Heart</td>\n",
       "      <td>Heart</td>\n",
       "      <td>NA</td>\n",
       "      <td>Healthy</td>\n",
       "      <td>Microwell-seq</td>\n",
       "      <td>...</td>\n",
       "      <td>Fetal</td>\n",
       "      <td>7.047987</td>\n",
       "      <td>6.599989</td>\n",
       "      <td>18.318056</td>\n",
       "      <td>-11.910444</td>\n",
       "      <td>-10.640192</td>\n",
       "      <td>-3.825216</td>\n",
       "      <td>2</td>\n",
       "      <td>14</td>\n",
       "      <td>Vascular endothelial cell</td>\n",
       "    </tr>\n",
       "  </tbody>\n",
       "</table>\n",
       "<p>117361 rows × 27 columns</p>\n",
       "</div>"
      ],
      "text/plain": [
       "                                                         cell_ID  \\\n",
       "AAACCTGAGAAACCAT.1                            AAACCTGAGAAACCAT.1   \n",
       "AAACCTGGTGGTACAG.1                            AAACCTGGTGGTACAG.1   \n",
       "AAACGGGAGATGTAAC.1                            AAACGGGAGATGTAAC.1   \n",
       "AAACGGGAGGCAGTCA.1                            AAACGGGAGGCAGTCA.1   \n",
       "AAACGGGAGGTCATCT.1                            AAACGGGAGGTCATCT.1   \n",
       "...                                                          ...   \n",
       "FetalHeart_2.TTTAGGCTGTGTCACAAG  FetalHeart_2.TTTAGGCTGTGTCACAAG   \n",
       "FetalHeart_2.TTTAGGGCGTCCGAGATC  FetalHeart_2.TTTAGGGCGTCCGAGATC   \n",
       "FetalHeart_2.TTTAGGGGACATTGATCA  FetalHeart_2.TTTAGGGGACATTGATCA   \n",
       "FetalHeart_2.TTTAGGTAGAGAAAGCGG  FetalHeart_2.TTTAGGTAGAGAAAGCGG   \n",
       "FetalHeart_2.TTTAGGTAGCATTCACTT  FetalHeart_2.TTTAGGTAGCATTCACTT   \n",
       "\n",
       "                                         donor_ID donor_gender donor_age  \\\n",
       "AAACCTGAGAAACCAT.1                     Asp_donor1       Female      HE7W   \n",
       "AAACCTGGTGGTACAG.1                     Asp_donor1       Female      HE7W   \n",
       "AAACGGGAGATGTAAC.1                     Asp_donor1       Female      HE7W   \n",
       "AAACGGGAGGCAGTCA.1                     Asp_donor1       Female      HE7W   \n",
       "AAACGGGAGGTCATCT.1                     Asp_donor1       Female      HE7W   \n",
       "...                                           ...          ...       ...   \n",
       "FetalHeart_2.TTTAGGCTGTGTCACAAG  FetalHeart2_GW11       Female     HE11W   \n",
       "FetalHeart_2.TTTAGGGCGTCCGAGATC  FetalHeart2_GW11       Female     HE11W   \n",
       "FetalHeart_2.TTTAGGGGACATTGATCA  FetalHeart2_GW11       Female     HE11W   \n",
       "FetalHeart_2.TTTAGGTAGAGAAAGCGG  FetalHeart2_GW11       Female     HE11W   \n",
       "FetalHeart_2.TTTAGGTAGCATTCACTT  FetalHeart2_GW11       Female     HE11W   \n",
       "\n",
       "                                                      original_name  organ  \\\n",
       "AAACCTGAGAAACCAT.1                                     Erythrocytes  Heart   \n",
       "AAACCTGGTGGTACAG.1                          Epicardium-derivedcells  Heart   \n",
       "AAACGGGAGATGTAAC.1                                  Fibroblast-like  Heart   \n",
       "AAACGGGAGGCAGTCA.1                                  Fibroblast-like  Heart   \n",
       "AAACGGGAGGTCATCT.1                Smoothmusclecells/fibroblast-like  Heart   \n",
       "...                                                             ...    ...   \n",
       "FetalHeart_2.TTTAGGCTGTGTCACAAG                          Macrophage  Heart   \n",
       "FetalHeart_2.TTTAGGGCGTCCGAGATC          Epithelial cell_CCL21 high  Heart   \n",
       "FetalHeart_2.TTTAGGGGACATTGATCA       Proliferating cell_PTTG1 high  Heart   \n",
       "FetalHeart_2.TTTAGGTAGAGAAAGCGG  Ventricle cardiomyocyte_CSRP3 high  Heart   \n",
       "FetalHeart_2.TTTAGGTAGCATTCACTT         Endothelial cell_FABP4 high  Heart   \n",
       "\n",
       "                                region subregion sample_status       seq_tech  \\\n",
       "AAACCTGAGAAACCAT.1               Heart        NA       Healthy            10X   \n",
       "AAACCTGGTGGTACAG.1               Heart        NA       Healthy            10X   \n",
       "AAACGGGAGATGTAAC.1               Heart        NA       Healthy            10X   \n",
       "AAACGGGAGGCAGTCA.1               Heart        NA       Healthy            10X   \n",
       "AAACGGGAGGTCATCT.1               Heart        NA       Healthy            10X   \n",
       "...                                ...       ...           ...            ...   \n",
       "FetalHeart_2.TTTAGGCTGTGTCACAAG  Heart        NA       Healthy  Microwell-seq   \n",
       "FetalHeart_2.TTTAGGGCGTCCGAGATC  Heart        NA       Healthy  Microwell-seq   \n",
       "FetalHeart_2.TTTAGGGGACATTGATCA  Heart        NA       Healthy  Microwell-seq   \n",
       "FetalHeart_2.TTTAGGTAGAGAAAGCGG  Heart        NA       Healthy  Microwell-seq   \n",
       "FetalHeart_2.TTTAGGTAGCATTCACTT  Heart        NA       Healthy  Microwell-seq   \n",
       "\n",
       "                                 ... develop_stage      PC_1      PC_2  \\\n",
       "AAACCTGAGAAACCAT.1               ...         Fetal -1.259237 -0.790091   \n",
       "AAACCTGGTGGTACAG.1               ...         Fetal  6.299011 -2.465102   \n",
       "AAACGGGAGATGTAAC.1               ...         Fetal  8.164516 -5.639810   \n",
       "AAACGGGAGGCAGTCA.1               ...         Fetal  9.240178 -5.241016   \n",
       "AAACGGGAGGTCATCT.1               ...         Fetal  9.491164 -6.780578   \n",
       "...                              ...           ...       ...       ...   \n",
       "FetalHeart_2.TTTAGGCTGTGTCACAAG  ...         Fetal  3.470524  1.971851   \n",
       "FetalHeart_2.TTTAGGGCGTCCGAGATC  ...         Fetal  4.453611 -2.131397   \n",
       "FetalHeart_2.TTTAGGGGACATTGATCA  ...         Fetal -8.008029 -0.240386   \n",
       "FetalHeart_2.TTTAGGTAGAGAAAGCGG  ...         Fetal -5.801729 -0.098751   \n",
       "FetalHeart_2.TTTAGGTAGCATTCACTT  ...         Fetal  7.047987  6.599989   \n",
       "\n",
       "                                    TSNE_1     TSNE_2     UMAP_1     UMAP_2  \\\n",
       "AAACCTGAGAAACCAT.1                6.667574  20.801586  -5.684747   0.449521   \n",
       "AAACCTGGTGGTACAG.1                7.523747 -13.165880  -5.943957   7.645433   \n",
       "AAACGGGAGATGTAAC.1               10.000092 -15.080420  -4.361122   9.868574   \n",
       "AAACGGGAGGCAGTCA.1               10.283956 -14.799395  -4.537375   9.394650   \n",
       "AAACGGGAGGTCATCT.1                0.124004 -23.663743  -2.881997  11.052618   \n",
       "...                                    ...        ...        ...        ...   \n",
       "FetalHeart_2.TTTAGGCTGTGTCACAAG  -7.608560  24.030402  -6.769481   2.720989   \n",
       "FetalHeart_2.TTTAGGGCGTCCGAGATC -18.294933 -16.682791   5.572035  11.498136   \n",
       "FetalHeart_2.TTTAGGGGACATTGATCA   7.810606  -3.187709   6.639800  -4.556436   \n",
       "FetalHeart_2.TTTAGGTAGAGAAAGCGG  -3.473707  -2.922242   4.806717  -2.891984   \n",
       "FetalHeart_2.TTTAGGTAGCATTCACTT  18.318056 -11.910444 -10.640192  -3.825216   \n",
       "\n",
       "                                _scvi_batch  _scvi_labels  \\\n",
       "AAACCTGAGAAACCAT.1                        0             3   \n",
       "AAACCTGGTGGTACAG.1                        0            12   \n",
       "AAACGGGAGATGTAAC.1                        0             1   \n",
       "AAACGGGAGGCAGTCA.1                        0             1   \n",
       "AAACGGGAGGTCATCT.1                        0             1   \n",
       "...                                     ...           ...   \n",
       "FetalHeart_2.TTTAGGCTGTGTCACAAG           2             5   \n",
       "FetalHeart_2.TTTAGGGCGTCCGAGATC           2            11   \n",
       "FetalHeart_2.TTTAGGGGACATTGATCA           2             2   \n",
       "FetalHeart_2.TTTAGGTAGAGAAAGCGG           2             2   \n",
       "FetalHeart_2.TTTAGGTAGCATTCACTT           2            14   \n",
       "\n",
       "                                                     C_scANVI  \n",
       "AAACCTGAGAAACCAT.1                                    Unknown  \n",
       "AAACCTGGTGGTACAG.1               Basement membrane fibroblast  \n",
       "AAACGGGAGATGTAAC.1               Basement membrane fibroblast  \n",
       "AAACGGGAGGCAGTCA.1               Basement membrane fibroblast  \n",
       "AAACGGGAGGTCATCT.1               Basement membrane fibroblast  \n",
       "...                                                       ...  \n",
       "FetalHeart_2.TTTAGGCTGTGTCACAAG                    Macrophage  \n",
       "FetalHeart_2.TTTAGGGCGTCCGAGATC                      Pericyte  \n",
       "FetalHeart_2.TTTAGGGGACATTGATCA            Cardiomyocyte cell  \n",
       "FetalHeart_2.TTTAGGTAGAGAAAGCGG            Cardiomyocyte cell  \n",
       "FetalHeart_2.TTTAGGTAGCATTCACTT     Vascular endothelial cell  \n",
       "\n",
       "[117361 rows x 27 columns]"
      ]
     },
     "execution_count": 6,
     "metadata": {},
     "output_type": "execute_result"
    }
   ],
   "source": [
    "adata_fetal.obs"
   ]
  },
  {
   "cell_type": "markdown",
   "id": "111a2f3e-799e-4500-ba21-265d57ce36e5",
   "metadata": {},
   "source": [
    "# build fetal matrix"
   ]
  },
  {
   "cell_type": "code",
   "execution_count": 7,
   "id": "7b53b795-6271-4575-a51b-3d28cd8c3fb9",
   "metadata": {
    "execution": {
     "iopub.execute_input": "2023-07-11T15:58:46.267179Z",
     "iopub.status.busy": "2023-07-11T15:58:46.266500Z",
     "iopub.status.idle": "2023-07-11T15:58:46.276811Z",
     "shell.execute_reply": "2023-07-11T15:58:46.275277Z",
     "shell.execute_reply.started": "2023-07-11T15:58:46.267115Z"
    },
    "tags": []
   },
   "outputs": [],
   "source": [
    "genes = adata_fetal.var.iloc[:,0].values\n",
    "cells = adata_fetal.obs.index"
   ]
  },
  {
   "cell_type": "code",
   "execution_count": 8,
   "id": "6ac9e139-2d06-4515-a874-ea6fa1f7ed0c",
   "metadata": {
    "execution": {
     "iopub.execute_input": "2023-07-11T15:58:46.278183Z",
     "iopub.status.busy": "2023-07-11T15:58:46.277966Z",
     "iopub.status.idle": "2023-07-11T15:58:50.585070Z",
     "shell.execute_reply": "2023-07-11T15:58:50.584091Z",
     "shell.execute_reply.started": "2023-07-11T15:58:46.278160Z"
    },
    "tags": []
   },
   "outputs": [],
   "source": [
    "matrix_expression = adata_fetal.X.todense()"
   ]
  },
  {
   "cell_type": "code",
   "execution_count": 9,
   "id": "e1747026-a0fc-4c0a-be91-6eb9328e86b3",
   "metadata": {
    "execution": {
     "iopub.execute_input": "2023-07-11T15:58:50.586016Z",
     "iopub.status.busy": "2023-07-11T15:58:50.585842Z",
     "iopub.status.idle": "2023-07-11T15:58:57.376121Z",
     "shell.execute_reply": "2023-07-11T15:58:57.375148Z",
     "shell.execute_reply.started": "2023-07-11T15:58:50.585999Z"
    },
    "tags": []
   },
   "outputs": [],
   "source": [
    "df_expression = pd.DataFrame(matrix_expression[:,np.argsort(genes)])\n",
    "df_expression.index = cells\n",
    "df_expression.columns = genes[np.argsort(genes)]\n",
    "\n",
    "df_meta = adata_fetal.obs.loc[:,['cell_ID', 'donor_ID', 'donor_gender', 'donor_age', 'original_name', 'organ', 'region', 'subregion', 'sample_status', 'seq_tech', 'cell_type', 'if_patient', 'donor_status', 'treatment', 'ethnicity', 'Ref', 'MCT', 'develop_stage']]"
   ]
  },
  {
   "cell_type": "code",
   "execution_count": 10,
   "id": "982659ae-dfa4-4b4b-bc12-15b9808dda7b",
   "metadata": {
    "execution": {
     "iopub.execute_input": "2023-07-11T15:58:57.377097Z",
     "iopub.status.busy": "2023-07-11T15:58:57.376912Z",
     "iopub.status.idle": "2023-07-11T15:59:03.074295Z",
     "shell.execute_reply": "2023-07-11T15:59:03.073364Z",
     "shell.execute_reply.started": "2023-07-11T15:58:57.377079Z"
    },
    "tags": []
   },
   "outputs": [],
   "source": [
    "df_all_fetal = pd.concat([df_expression, df_meta],axis=1)"
   ]
  },
  {
   "cell_type": "code",
   "execution_count": 17,
   "id": "fdb8c449-9b5c-4ce8-ae76-27d0ae076d17",
   "metadata": {
    "execution": {
     "iopub.execute_input": "2023-07-11T16:06:31.337203Z",
     "iopub.status.busy": "2023-07-11T16:06:31.336549Z",
     "iopub.status.idle": "2023-07-11T16:06:31.364423Z",
     "shell.execute_reply": "2023-07-11T16:06:31.362833Z",
     "shell.execute_reply.started": "2023-07-11T16:06:31.337140Z"
    },
    "tags": []
   },
   "outputs": [],
   "source": [
    "df_all_fetal['cid'] = np.array(range(df_all_fetal.shape[0]))+1"
   ]
  },
  {
   "cell_type": "code",
   "execution_count": 18,
   "id": "b0cd6a41-30e0-4b9b-bb66-50894dbe36a4",
   "metadata": {
    "execution": {
     "iopub.execute_input": "2023-07-11T16:06:32.363059Z",
     "iopub.status.busy": "2023-07-11T16:06:32.362432Z",
     "iopub.status.idle": "2023-07-11T16:06:32.373301Z",
     "shell.execute_reply": "2023-07-11T16:06:32.372235Z",
     "shell.execute_reply.started": "2023-07-11T16:06:32.362998Z"
    },
    "tags": []
   },
   "outputs": [
    {
     "data": {
      "text/plain": [
       "(117361, 43897)"
      ]
     },
     "execution_count": 18,
     "metadata": {},
     "output_type": "execute_result"
    }
   ],
   "source": [
    "df_all_fetal.shape"
   ]
  },
  {
   "cell_type": "code",
   "execution_count": null,
   "id": "85d4ffcc-fe40-47ad-ae38-8f3d1ef00129",
   "metadata": {},
   "outputs": [],
   "source": [
    "df_all_fetal"
   ]
  },
  {
   "cell_type": "code",
   "execution_count": 22,
   "id": "0d634338-b732-4c57-abe8-030a73d2f830",
   "metadata": {
    "execution": {
     "iopub.execute_input": "2023-07-11T16:15:48.932964Z",
     "iopub.status.busy": "2023-07-11T16:15:48.932335Z",
     "iopub.status.idle": "2023-07-11T17:31:10.968315Z",
     "shell.execute_reply": "2023-07-11T17:31:10.967044Z",
     "shell.execute_reply.started": "2023-07-11T16:15:48.932904Z"
    },
    "tags": []
   },
   "outputs": [],
   "source": [
    "df_all_fetal.to_csv(\"/data1/chenyx/ForDatabase/00.csv\",index=False)"
   ]
  },
  {
   "cell_type": "markdown",
   "id": "6a26fd30-32ea-47d1-ab67-e18a03736984",
   "metadata": {},
   "source": [
    "# build adult matrix"
   ]
  },
  {
   "cell_type": "code",
   "execution_count": 23,
   "id": "d666ac48-8e82-4db8-a1d3-d51eec323e05",
   "metadata": {
    "execution": {
     "iopub.execute_input": "2023-07-11T17:33:19.493610Z",
     "iopub.status.busy": "2023-07-11T17:33:19.492883Z",
     "iopub.status.idle": "2023-07-11T17:33:19.504759Z",
     "shell.execute_reply": "2023-07-11T17:33:19.503405Z",
     "shell.execute_reply.started": "2023-07-11T17:33:19.493540Z"
    },
    "tags": []
   },
   "outputs": [],
   "source": [
    "genes = adata_adult.var.iloc[:,0].values\n",
    "cells = adata_adult.obs.index"
   ]
  },
  {
   "cell_type": "code",
   "execution_count": 24,
   "id": "65d002f9-b94e-4e54-84a6-f7b56d8e2549",
   "metadata": {
    "execution": {
     "iopub.execute_input": "2023-07-11T17:33:20.376900Z",
     "iopub.status.busy": "2023-07-11T17:33:20.375712Z",
     "iopub.status.idle": "2023-07-11T17:33:47.907654Z",
     "shell.execute_reply": "2023-07-11T17:33:47.906014Z",
     "shell.execute_reply.started": "2023-07-11T17:33:20.376824Z"
    },
    "tags": []
   },
   "outputs": [],
   "source": [
    "matrix_expression = adata_adult.X.todense()"
   ]
  },
  {
   "cell_type": "code",
   "execution_count": 25,
   "id": "ada785fa-e624-42d3-b41d-dab3a753958d",
   "metadata": {
    "execution": {
     "iopub.execute_input": "2023-07-11T17:33:47.909486Z",
     "iopub.status.busy": "2023-07-11T17:33:47.909289Z",
     "iopub.status.idle": "2023-07-11T17:34:51.830758Z",
     "shell.execute_reply": "2023-07-11T17:34:51.829515Z",
     "shell.execute_reply.started": "2023-07-11T17:33:47.909467Z"
    },
    "tags": []
   },
   "outputs": [],
   "source": [
    "df_expression = pd.DataFrame(matrix_expression[:,np.argsort(genes)])\n",
    "df_expression.index = cells\n",
    "df_expression.columns = genes[np.argsort(genes)]\n",
    "\n",
    "df_meta = adata_adult.obs.loc[:,['cell_ID', 'donor_ID', 'donor_gender', 'donor_age', 'original_name', 'organ', 'region', 'subregion', 'sample_status', 'seq_tech', 'cell_type', 'if_patient', 'donor_status', 'treatment', 'ethnicity', 'Ref', 'MCT', 'develop_stage']]"
   ]
  },
  {
   "cell_type": "code",
   "execution_count": 27,
   "id": "15bf7e2a-08a6-4a5e-8c76-389be52dcb39",
   "metadata": {
    "execution": {
     "iopub.execute_input": "2023-07-11T17:37:40.554694Z",
     "iopub.status.busy": "2023-07-11T17:37:40.554070Z",
     "iopub.status.idle": "2023-07-11T17:39:11.139161Z",
     "shell.execute_reply": "2023-07-11T17:39:11.137104Z",
     "shell.execute_reply.started": "2023-07-11T17:37:40.554634Z"
    },
    "tags": []
   },
   "outputs": [],
   "source": [
    "df_all_adult = pd.concat([df_expression, df_meta],axis=1)"
   ]
  },
  {
   "cell_type": "code",
   "execution_count": 29,
   "id": "8973e2db-b8a4-482a-8357-6f29fdd70974",
   "metadata": {
    "execution": {
     "iopub.execute_input": "2023-07-11T17:39:20.970081Z",
     "iopub.status.busy": "2023-07-11T17:39:20.968823Z",
     "iopub.status.idle": "2023-07-11T17:39:21.048718Z",
     "shell.execute_reply": "2023-07-11T17:39:21.047842Z",
     "shell.execute_reply.started": "2023-07-11T17:39:20.969997Z"
    },
    "tags": []
   },
   "outputs": [],
   "source": [
    "df_all_adult['cid'] = np.array(range(df_all_adult.shape[0]))+117361+1"
   ]
  },
  {
   "cell_type": "code",
   "execution_count": 55,
   "id": "3b3905e0-5ca0-4fbc-9331-ef401f7fea28",
   "metadata": {
    "execution": {
     "iopub.execute_input": "2023-07-12T07:59:04.705045Z",
     "iopub.status.busy": "2023-07-12T07:59:04.704313Z",
     "iopub.status.idle": "2023-07-12T07:59:04.716222Z",
     "shell.execute_reply": "2023-07-12T07:59:04.714807Z",
     "shell.execute_reply.started": "2023-07-12T07:59:04.704981Z"
    },
    "tags": []
   },
   "outputs": [
    {
     "data": {
      "text/plain": [
       "(908378, 43897)"
      ]
     },
     "execution_count": 55,
     "metadata": {},
     "output_type": "execute_result"
    }
   ],
   "source": [
    "df_all_adult.shape"
   ]
  },
  {
   "cell_type": "code",
   "execution_count": null,
   "id": "57e1afa7-d3ca-4a94-ace0-b2b93757c2e5",
   "metadata": {
    "execution": {
     "iopub.execute_input": "2023-07-11T17:44:24.651825Z",
     "iopub.status.busy": "2023-07-11T17:44:24.651182Z"
    },
    "tags": []
   },
   "outputs": [],
   "source": [
    "for i in range(10):\n",
    "    df_all_adult.iloc[int(i*1e5):int(min(i*1e5+1e5,908378)),:].to_csv(\"/data1/chenyx/ForDatabase/\"+str(i)+\".csv\",index=False)"
   ]
  },
  {
   "cell_type": "code",
   "execution_count": 45,
   "id": "ef2d8b0c-0448-4e95-b8ed-4f972c2281a0",
   "metadata": {
    "execution": {
     "iopub.execute_input": "2023-07-12T07:27:40.881012Z",
     "iopub.status.busy": "2023-07-12T07:27:40.880299Z",
     "iopub.status.idle": "2023-07-12T07:27:40.896294Z",
     "shell.execute_reply": "2023-07-12T07:27:40.894582Z",
     "shell.execute_reply.started": "2023-07-12T07:27:40.880950Z"
    },
    "tags": []
   },
   "outputs": [
    {
     "data": {
      "text/plain": [
       "<bound method NDFrame._add_numeric_operations.<locals>.max of AdultHeart_1.AAAACGAAAACGTAGAGA     117362\n",
       "AdultHeart_1.AAAACGTTCCGCCCATCT     117363\n",
       "AdultHeart_1.AAAGTTCACAAGTAGAGA     117364\n",
       "AdultHeart_1.AACCTAAGGACTGTCGGT     117365\n",
       "AdultHeart_1.AACCTAATACAGTGAAGC     117366\n",
       "                                    ...   \n",
       "SC_97502_34_40                     1025735\n",
       "SC_97502_32_60                     1025736\n",
       "SC_97502_66_39                     1025737\n",
       "SC_97502_30_13                     1025738\n",
       "SC_97502_30_69                     1025739\n",
       "Name: cid, Length: 908378, dtype: int64>"
      ]
     },
     "execution_count": 45,
     "metadata": {},
     "output_type": "execute_result"
    }
   ],
   "source": [
    "df_all_adult['cid'].max"
   ]
  },
  {
   "cell_type": "code",
   "execution_count": 47,
   "id": "fd87b781-9fcb-4962-b487-31ba947b41d9",
   "metadata": {
    "execution": {
     "iopub.execute_input": "2023-07-12T07:48:06.995619Z",
     "iopub.status.busy": "2023-07-12T07:48:06.994908Z",
     "iopub.status.idle": "2023-07-12T07:48:07.006758Z",
     "shell.execute_reply": "2023-07-12T07:48:07.005398Z",
     "shell.execute_reply.started": "2023-07-12T07:48:06.995554Z"
    },
    "tags": []
   },
   "outputs": [
    {
     "data": {
      "text/plain": [
       "1025739"
      ]
     },
     "execution_count": 47,
     "metadata": {},
     "output_type": "execute_result"
    }
   ],
   "source": [
    "df_all_adult.shape[0] + df_all_fetal.shape[0]"
   ]
  },
  {
   "cell_type": "code",
   "execution_count": null,
   "id": "7195c679-e15b-42ff-874e-664ab2dc3f36",
   "metadata": {},
   "outputs": [],
   "source": []
  },
  {
   "cell_type": "code",
   "execution_count": 67,
   "id": "6f6714bd-e3c9-461f-bf27-35810ebf9bbf",
   "metadata": {
    "execution": {
     "iopub.execute_input": "2023-07-12T08:04:47.349562Z",
     "iopub.status.busy": "2023-07-12T08:04:47.349248Z",
     "iopub.status.idle": "2023-07-12T08:04:47.367656Z",
     "shell.execute_reply": "2023-07-12T08:04:47.366612Z",
     "shell.execute_reply.started": "2023-07-12T08:04:47.349536Z"
    },
    "tags": []
   },
   "outputs": [],
   "source": [
    "df_01 = pd.DataFrame(df_all_adult.columns)\n",
    "df_01.loc[:,1] = \"FP32\"\n",
    "df_01.loc[:,2] = \"ZSTD\"\n",
    "df_01.loc[:,3] = 6\n",
    "\n",
    "df_01.iloc[43878:43896,1:4] = [\"CSTR\", \"LZ4F\", 1]\n",
    "df_01.iloc[43896,1:4] = [\"UI32\", \"LZ4F\",1]"
   ]
  },
  {
   "cell_type": "code",
   "execution_count": 71,
   "id": "ee7052a0-778b-40c6-8d43-e2ea328598d9",
   "metadata": {
    "execution": {
     "iopub.execute_input": "2023-07-12T08:10:15.683629Z",
     "iopub.status.busy": "2023-07-12T08:10:15.682943Z",
     "iopub.status.idle": "2023-07-12T08:10:15.771203Z",
     "shell.execute_reply": "2023-07-12T08:10:15.768806Z",
     "shell.execute_reply.started": "2023-07-12T08:10:15.683570Z"
    },
    "tags": []
   },
   "outputs": [],
   "source": [
    "df_01.to_csv(\"/data1/chenyx/ForDatabase/01\", header=False,sep=\"\\t\")"
   ]
  }
 ],
 "metadata": {
  "kernelspec": {
   "display_name": "celloracle",
   "language": "python",
   "name": "celloracle"
  },
  "language_info": {
   "codemirror_mode": {
    "name": "ipython",
    "version": 3
   },
   "file_extension": ".py",
   "mimetype": "text/x-python",
   "name": "python",
   "nbconvert_exporter": "python",
   "pygments_lexer": "ipython3",
   "version": "3.7.16"
  }
 },
 "nbformat": 4,
 "nbformat_minor": 5
}
