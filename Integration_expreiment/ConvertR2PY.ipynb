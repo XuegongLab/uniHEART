{
 "cells": [
  {
   "cell_type": "code",
   "execution_count": 1,
   "id": "0aeb676b-a334-4896-9564-fbe84c069f66",
   "metadata": {
    "execution": {
     "iopub.execute_input": "2022-11-02T07:37:30.901906Z",
     "iopub.status.busy": "2022-11-02T07:37:30.896270Z",
     "iopub.status.idle": "2022-11-02T07:37:33.342019Z",
     "shell.execute_reply": "2022-11-02T07:37:33.340435Z"
    },
    "tags": []
   },
   "outputs": [
    {
     "name": "stderr",
     "output_type": "stream",
     "text": [
      "Loading required package: reticulate\n",
      "\n"
     ]
    }
   ],
   "source": [
    "library(sceasy)"
   ]
  },
  {
   "cell_type": "code",
   "execution_count": 2,
   "id": "b357f232-a379-4710-b244-625f3695a05c",
   "metadata": {
    "execution": {
     "iopub.execute_input": "2022-11-02T07:37:33.368347Z",
     "iopub.status.busy": "2022-11-02T07:37:33.343985Z",
     "iopub.status.idle": "2022-11-02T07:37:56.019007Z",
     "shell.execute_reply": "2022-11-02T07:37:56.017579Z"
    },
    "tags": []
   },
   "outputs": [],
   "source": [
    "library(reticulate)\n",
    "use_condaenv('sc_R4_Py')\n",
    "loompy <- reticulate::import('loompy')"
   ]
  },
  {
   "cell_type": "code",
   "execution_count": 4,
   "id": "25711bad-fabe-4c64-93fc-c829298a1092",
   "metadata": {
    "execution": {
     "iopub.execute_input": "2022-11-02T07:39:19.767372Z",
     "iopub.status.busy": "2022-11-02T07:39:19.765226Z",
     "iopub.status.idle": "2022-11-02T07:39:25.598239Z",
     "shell.execute_reply": "2022-11-02T07:39:25.596184Z"
    },
    "tags": []
   },
   "outputs": [],
   "source": [
    "scanpy <- reticulate::import('scanpy')"
   ]
  },
  {
   "cell_type": "markdown",
   "id": "4af9be26-0f42-47d7-be55-1920e8aee58a",
   "metadata": {
    "execution": {
     "iopub.execute_input": "2022-09-20T07:11:06.690525Z",
     "iopub.status.busy": "2022-09-20T07:11:06.687267Z",
     "iopub.status.idle": "2022-09-20T07:11:06.704595Z",
     "shell.execute_reply": "2022-09-20T07:11:06.702959Z"
    },
    "tags": []
   },
   "source": [
    "# Harmony"
   ]
  },
  {
   "cell_type": "code",
   "execution_count": 4,
   "id": "fc78754f-2ff9-47f6-b562-a81b072b1a1b",
   "metadata": {
    "execution": {
     "iopub.execute_input": "2022-09-20T07:09:47.829145Z",
     "iopub.status.busy": "2022-09-20T07:09:47.825875Z",
     "iopub.status.idle": "2022-09-20T07:10:01.465663Z",
     "shell.execute_reply": "2022-09-20T07:10:01.464515Z"
    },
    "tags": []
   },
   "outputs": [
    {
     "name": "stderr",
     "output_type": "stream",
     "text": [
      "Registered S3 method overwritten by 'spatstat.core':\n",
      "  method          from\n",
      "  formula.glmmPQL MASS\n",
      "\n"
     ]
    }
   ],
   "source": [
    "dataobj <- readRDS(\"/data1/chenyx/processed.harmony.rds\")"
   ]
  },
  {
   "cell_type": "code",
   "execution_count": 5,
   "id": "7e65442c-4609-4233-8fac-0114f5886267",
   "metadata": {
    "execution": {
     "iopub.execute_input": "2022-09-20T07:10:06.844865Z",
     "iopub.status.busy": "2022-09-20T07:10:06.840787Z",
     "iopub.status.idle": "2022-09-20T07:10:06.909845Z",
     "shell.execute_reply": "2022-09-20T07:10:06.908760Z"
    },
    "tags": []
   },
   "outputs": [
    {
     "data": {
      "text/plain": [
       "An object of class Seurat \n",
       "2000 features across 99567 samples within 1 assay \n",
       "Active assay: RNA (2000 features, 2000 variable features)\n",
       " 4 dimensional reductions calculated: pca, tsne, umap, harmony"
      ]
     },
     "metadata": {},
     "output_type": "display_data"
    }
   ],
   "source": [
    "dataobj"
   ]
  },
  {
   "cell_type": "code",
   "execution_count": 7,
   "id": "23c5bb99-793a-4fa0-8501-9f833bd6c1e2",
   "metadata": {
    "execution": {
     "iopub.execute_input": "2022-09-20T07:10:15.399213Z",
     "iopub.status.busy": "2022-09-20T07:10:15.396063Z",
     "iopub.status.idle": "2022-09-20T07:10:22.951069Z",
     "shell.execute_reply": "2022-09-20T07:10:22.949985Z"
    },
    "tags": []
   },
   "outputs": [
    {
     "name": "stderr",
     "output_type": "stream",
     "text": [
      "Warning message in .regularise_df(Seurat::GetAssay(obj, assay = assay)@meta.features, :\n",
      "“Dropping single category variables:highly.variable, vst.variable”\n"
     ]
    },
    {
     "data": {
      "text/plain": [
       "AnnData object with n_obs × n_vars = 99567 × 2000\n",
       "    obs: 'cell_ID', 'donor_ID', 'donor_gender', 'donor_age', 'original_name', 'region', 'subregion', 'seq_tech', 'cell_type', 'seurat_cluster', 'ethnicity', 'Ref', 'MCT', 'PC_1', 'PC_2', 'TSNE_1', 'TSNE_2', 'UMAP_1', 'UMAP_2', 'nFeaturess_RNA'\n",
       "    var: 'name', 'n_cells', 'mvp.mean', 'mvp.dispersion', 'mvp.dispersion.scaled', 'highly.variable_nbatches', 'highly.variable_intersection', 'vst.mean', 'vst.variance', 'vst.variance.expected', 'vst.variance.standardized'\n",
       "    obsm: 'X_pca', 'X_tsne', 'X_umap', 'X_harmony'"
      ]
     },
     "metadata": {},
     "output_type": "display_data"
    }
   ],
   "source": [
    "sceasy::convertFormat(dataobj, from=\"seurat\", to=\"anndata\",\n",
    "                       outFile='/data1/chenyx/processed.harmony.h5ad')"
   ]
  },
  {
   "cell_type": "markdown",
   "id": "a91609d2-7df9-43fc-8fa7-578f4a811d6c",
   "metadata": {
    "execution": {
     "iopub.execute_input": "2022-09-20T07:11:06.690525Z",
     "iopub.status.busy": "2022-09-20T07:11:06.687267Z",
     "iopub.status.idle": "2022-09-20T07:11:06.704595Z",
     "shell.execute_reply": "2022-09-20T07:11:06.702959Z"
    },
    "tags": []
   },
   "source": [
    "# MNN"
   ]
  },
  {
   "cell_type": "code",
   "execution_count": 9,
   "id": "180fd73c-9c1f-475a-ac0f-d3dc2ba9d5ce",
   "metadata": {
    "execution": {
     "iopub.execute_input": "2022-09-20T07:11:18.686036Z",
     "iopub.status.busy": "2022-09-20T07:11:18.682726Z",
     "iopub.status.idle": "2022-09-20T07:11:32.484062Z",
     "shell.execute_reply": "2022-09-20T07:11:32.482260Z"
    },
    "tags": []
   },
   "outputs": [],
   "source": [
    "dataobj <- readRDS(\"/data1/chenyx/processed.mnn.rds\")"
   ]
  },
  {
   "cell_type": "code",
   "execution_count": 10,
   "id": "48f04a63-a841-495d-903e-09ebad531f41",
   "metadata": {
    "execution": {
     "iopub.execute_input": "2022-09-20T07:11:32.486538Z",
     "iopub.status.busy": "2022-09-20T07:11:32.485697Z",
     "iopub.status.idle": "2022-09-20T07:11:32.511671Z",
     "shell.execute_reply": "2022-09-20T07:11:32.510716Z"
    },
    "tags": []
   },
   "outputs": [
    {
     "data": {
      "text/plain": [
       "An object of class Seurat \n",
       "4000 features across 99567 samples within 2 assays \n",
       "Active assay: RNA (2000 features, 0 variable features)\n",
       " 1 other assay present: mnn.reconstructed\n",
       " 2 dimensional reductions calculated: mnn, umap"
      ]
     },
     "metadata": {},
     "output_type": "display_data"
    }
   ],
   "source": [
    "dataobj"
   ]
  },
  {
   "cell_type": "code",
   "execution_count": 11,
   "id": "89d82c69-245e-4466-b80e-5cdb2fd93ca9",
   "metadata": {
    "execution": {
     "iopub.execute_input": "2022-09-20T07:11:37.541630Z",
     "iopub.status.busy": "2022-09-20T07:11:37.538422Z",
     "iopub.status.idle": "2022-09-20T07:11:43.551549Z",
     "shell.execute_reply": "2022-09-20T07:11:43.550321Z"
    },
    "tags": []
   },
   "outputs": [
    {
     "data": {
      "text/plain": [
       "AnnData object with n_obs × n_vars = 99567 × 2000\n",
       "    obs: 'cell_ID', 'donor_ID', 'donor_gender', 'donor_age', 'original_name', 'region', 'subregion', 'seq_tech', 'cell_type', 'seurat_cluster', 'ethnicity', 'Ref', 'MCT', 'PC_1', 'PC_2', 'TSNE_1', 'TSNE_2', 'UMAP_1', 'UMAP_2', 'nFeaturess_RNA', 'nCount_RNA', 'nFeature_RNA'\n",
       "    var: 'name'\n",
       "    obsm: 'X_mnn', 'X_umap'"
      ]
     },
     "metadata": {},
     "output_type": "display_data"
    }
   ],
   "source": [
    "sceasy::convertFormat(dataobj, from=\"seurat\", to=\"anndata\",\n",
    "                       outFile='/data1/chenyx/processed.mnn.h5ad')"
   ]
  },
  {
   "cell_type": "markdown",
   "id": "dc31b14d-711e-4df4-a913-6aeba570df4f",
   "metadata": {
    "execution": {
     "iopub.execute_input": "2022-09-20T07:11:06.690525Z",
     "iopub.status.busy": "2022-09-20T07:11:06.687267Z",
     "iopub.status.idle": "2022-09-20T07:11:06.704595Z",
     "shell.execute_reply": "2022-09-20T07:11:06.702959Z"
    },
    "tags": []
   },
   "source": [
    "# Seurat"
   ]
  },
  {
   "cell_type": "code",
   "execution_count": 12,
   "id": "e42fc482-fb13-4a39-a469-4da789ca64fb",
   "metadata": {
    "execution": {
     "iopub.execute_input": "2022-09-20T07:11:48.674181Z",
     "iopub.status.busy": "2022-09-20T07:11:48.670353Z",
     "iopub.status.idle": "2022-09-20T07:12:15.180576Z",
     "shell.execute_reply": "2022-09-20T07:12:15.179398Z"
    },
    "tags": []
   },
   "outputs": [],
   "source": [
    "dataobj <- readRDS(\"/data1/chenyx/processed.seurat.rds\")"
   ]
  },
  {
   "cell_type": "code",
   "execution_count": 13,
   "id": "83144c7a-d7d2-4443-a63c-40b9baa05235",
   "metadata": {
    "execution": {
     "iopub.execute_input": "2022-09-20T07:12:15.182763Z",
     "iopub.status.busy": "2022-09-20T07:12:15.181966Z",
     "iopub.status.idle": "2022-09-20T07:12:15.214087Z",
     "shell.execute_reply": "2022-09-20T07:12:15.213173Z"
    },
    "tags": []
   },
   "outputs": [
    {
     "data": {
      "text/plain": [
       "An object of class Seurat \n",
       "6000 features across 99567 samples within 3 assays \n",
       "Active assay: integrated (2000 features, 2000 variable features)\n",
       " 2 other assays present: RNA, mnn.reconstructed\n",
       " 2 dimensional reductions calculated: pca, umap"
      ]
     },
     "metadata": {},
     "output_type": "display_data"
    }
   ],
   "source": [
    "dataobj"
   ]
  },
  {
   "cell_type": "code",
   "execution_count": 14,
   "id": "63bf3487-b261-4525-8c36-44094b90e213",
   "metadata": {
    "execution": {
     "iopub.execute_input": "2022-09-20T07:12:15.216137Z",
     "iopub.status.busy": "2022-09-20T07:12:15.215382Z",
     "iopub.status.idle": "2022-09-20T07:12:21.111340Z",
     "shell.execute_reply": "2022-09-20T07:12:21.110271Z"
    },
    "tags": []
   },
   "outputs": [
    {
     "data": {
      "text/plain": [
       "AnnData object with n_obs × n_vars = 99567 × 2000\n",
       "    obs: 'cell_ID', 'donor_ID', 'donor_gender', 'donor_age', 'original_name', 'region', 'subregion', 'seq_tech', 'cell_type', 'seurat_cluster', 'ethnicity', 'Ref', 'MCT', 'PC_1', 'PC_2', 'TSNE_1', 'TSNE_2', 'UMAP_1', 'UMAP_2', 'nFeaturess_RNA', 'nCount_RNA', 'nFeature_RNA'\n",
       "    var: 'name'\n",
       "    obsm: 'X_pca', 'X_umap'"
      ]
     },
     "metadata": {},
     "output_type": "display_data"
    }
   ],
   "source": [
    "sceasy::convertFormat(dataobj, from=\"seurat\", to=\"anndata\",\n",
    "                       outFile='/data1/chenyx/processed.seurat.h5ad')"
   ]
  }
 ],
 "metadata": {
  "kernelspec": {
   "display_name": "R4",
   "language": "R",
   "name": "r4"
  },
  "language_info": {
   "codemirror_mode": "r",
   "file_extension": ".r",
   "mimetype": "text/x-r-source",
   "name": "R",
   "pygments_lexer": "r",
   "version": "4.1.3"
  }
 },
 "nbformat": 4,
 "nbformat_minor": 5
}
