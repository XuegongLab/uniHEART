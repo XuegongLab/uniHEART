{
 "cells": [
  {
   "cell_type": "code",
   "execution_count": 1,
   "metadata": {
    "collapsed": true,
    "jupyter": {
     "outputs_hidden": true
    },
    "tags": []
   },
   "outputs": [
    {
     "name": "stderr",
     "output_type": "stream",
     "text": [
      "Loading required package: AnnotationDbi\n",
      "\n",
      "Loading required package: stats4\n",
      "\n",
      "Loading required package: BiocGenerics\n",
      "\n",
      "Loading required package: parallel\n",
      "\n",
      "\n",
      "Attaching package: ‘BiocGenerics’\n",
      "\n",
      "\n",
      "The following objects are masked from ‘package:parallel’:\n",
      "\n",
      "    clusterApply, clusterApplyLB, clusterCall, clusterEvalQ,\n",
      "    clusterExport, clusterMap, parApply, parCapply, parLapply,\n",
      "    parLapplyLB, parRapply, parSapply, parSapplyLB\n",
      "\n",
      "\n",
      "The following objects are masked from ‘package:stats’:\n",
      "\n",
      "    IQR, mad, sd, var, xtabs\n",
      "\n",
      "\n",
      "The following objects are masked from ‘package:base’:\n",
      "\n",
      "    anyDuplicated, append, as.data.frame, basename, cbind, colnames,\n",
      "    dirname, do.call, duplicated, eval, evalq, Filter, Find, get, grep,\n",
      "    grepl, intersect, is.unsorted, lapply, Map, mapply, match, mget,\n",
      "    order, paste, pmax, pmax.int, pmin, pmin.int, Position, rank,\n",
      "    rbind, Reduce, rownames, sapply, setdiff, sort, table, tapply,\n",
      "    union, unique, unsplit, which.max, which.min\n",
      "\n",
      "\n",
      "Loading required package: Biobase\n",
      "\n",
      "Welcome to Bioconductor\n",
      "\n",
      "    Vignettes contain introductory material; view with\n",
      "    'browseVignettes()'. To cite Bioconductor, see\n",
      "    'citation(\"Biobase\")', and for packages 'citation(\"pkgname\")'.\n",
      "\n",
      "\n",
      "Loading required package: IRanges\n",
      "\n",
      "Loading required package: S4Vectors\n",
      "\n",
      "\n",
      "Attaching package: ‘S4Vectors’\n",
      "\n",
      "\n",
      "The following object is masked from ‘package:base’:\n",
      "\n",
      "    expand.grid\n",
      "\n",
      "\n",
      "\n",
      "\n",
      "\n",
      "\n",
      "clusterProfiler v3.18.1  For help: https://guangchuangyu.github.io/software/clusterProfiler\n",
      "\n",
      "If you use clusterProfiler in published research, please cite:\n",
      "Guangchuang Yu, Li-Gen Wang, Yanyan Han, Qing-Yu He. clusterProfiler: an R package for comparing biological themes among gene clusters. OMICS: A Journal of Integrative Biology. 2012, 16(5):284-287.\n",
      "\n",
      "\n",
      "Attaching package: ‘clusterProfiler’\n",
      "\n",
      "\n",
      "The following object is masked from ‘package:AnnotationDbi’:\n",
      "\n",
      "    select\n",
      "\n",
      "\n",
      "The following object is masked from ‘package:IRanges’:\n",
      "\n",
      "    slice\n",
      "\n",
      "\n",
      "The following object is masked from ‘package:S4Vectors’:\n",
      "\n",
      "    rename\n",
      "\n",
      "\n",
      "The following object is masked from ‘package:stats’:\n",
      "\n",
      "    filter\n",
      "\n",
      "\n",
      "\n",
      "Attaching package: ‘dplyr’\n",
      "\n",
      "\n",
      "The following object is masked from ‘package:AnnotationDbi’:\n",
      "\n",
      "    select\n",
      "\n",
      "\n",
      "The following objects are masked from ‘package:IRanges’:\n",
      "\n",
      "    collapse, desc, intersect, setdiff, slice, union\n",
      "\n",
      "\n",
      "The following objects are masked from ‘package:S4Vectors’:\n",
      "\n",
      "    first, intersect, rename, setdiff, setequal, union\n",
      "\n",
      "\n",
      "The following object is masked from ‘package:Biobase’:\n",
      "\n",
      "    combine\n",
      "\n",
      "\n",
      "The following objects are masked from ‘package:BiocGenerics’:\n",
      "\n",
      "    combine, intersect, setdiff, union\n",
      "\n",
      "\n",
      "The following objects are masked from ‘package:stats’:\n",
      "\n",
      "    filter, lag\n",
      "\n",
      "\n",
      "The following objects are masked from ‘package:base’:\n",
      "\n",
      "    intersect, setdiff, setequal, union\n",
      "\n",
      "\n"
     ]
    }
   ],
   "source": [
    "library(org.Hs.eg.db)\n",
    "library(clusterProfiler)\n",
    "library(dplyr)\n",
    "library(ggplot2)"
   ]
  },
  {
   "cell_type": "code",
   "execution_count": 2,
   "metadata": {},
   "outputs": [],
   "source": [
    "library(enrichplot)"
   ]
  },
  {
   "cell_type": "markdown",
   "metadata": {},
   "source": [
    "# EC"
   ]
  },
  {
   "cell_type": "code",
   "execution_count": 114,
   "metadata": {},
   "outputs": [],
   "source": [
    "df <-read.csv(\"/data3/cyx/HHCAd_PB4GLM/Adult_GLMM_Result/Endothelial//GLMM_age.csv\")"
   ]
  },
  {
   "cell_type": "code",
   "execution_count": 27,
   "metadata": {},
   "outputs": [
    {
     "data": {
      "text/html": [
       "<strong>png:</strong> 2"
      ],
      "text/latex": [
       "\\textbf{png:} 2"
      ],
      "text/markdown": [
       "**png:** 2"
      ],
      "text/plain": [
       "png \n",
       "  2 "
      ]
     },
     "metadata": {},
     "output_type": "display_data"
    }
   ],
   "source": [
    "pdf(\"figures/coeffecients_histogram.pdf\")\n",
    "hist(df$donor_age,breaks = 30,main=paste(\"Histogram of\" , \"coeffecients of donor_age in GLMM\"),xlab = 'coeffecients')\n",
    "dev.off()"
   ]
  },
  {
   "cell_type": "code",
   "execution_count": 61,
   "metadata": {},
   "outputs": [],
   "source": [
    "aging_all_MF = enrichGO(df[df$donor_age > 0,\"X\"],\n",
    "  OrgDb= org.Hs.eg.db,\n",
    "  keyType = \"SYMBOL\",\n",
    "  ont = \"MF\",\n",
    "  pvalueCutoff = 0.05)"
   ]
  },
  {
   "cell_type": "code",
   "execution_count": 108,
   "metadata": {},
   "outputs": [
    {
     "data": {
      "text/html": [
       "<strong>png:</strong> 2"
      ],
      "text/latex": [
       "\\textbf{png:} 2"
      ],
      "text/markdown": [
       "**png:** 2"
      ],
      "text/plain": [
       "png \n",
       "  2 "
      ]
     },
     "metadata": {},
     "output_type": "display_data"
    }
   ],
   "source": [
    "df_result <- aging_all_MF[][,c(\"Description\",\"p.adjust\")]\n",
    "df_result$log_p_values <- 0\n",
    "for(i in 1:dim(df_result)[1]){\n",
    "    df_result$log_p_values[i] <- -log10(df_result$p.adjust[i])\n",
    "}\n",
    "sorted_indices <- order(df_result$log_p_values)\n",
    "df_result <- df_result[sorted_indices,]\n",
    "\n",
    "pdf(\"figures/GOMF_EC_Aging_Positive.pdf\",width = 10,height = 5)\n",
    "options(repr.plot.width=16, repr.plot.height=5, repr.plot.res = 200)\n",
    "barplot(df_result$log_p_values, names.arg = df_result$Description, horiz = TRUE, xlab = \"-log(p-value)\", ylab = \"EnrichGO Terms\", las=2)\n",
    "dev.off()"
   ]
  },
  {
   "cell_type": "code",
   "execution_count": 138,
   "metadata": {},
   "outputs": [],
   "source": [
    "aging_all_MF = enrichGO(df[df$donor_age< -0,\"X\"],\n",
    "  OrgDb= org.Hs.eg.db,\n",
    "  keyType = \"SYMBOL\",\n",
    "  ont = \"MF\",\n",
    "  pvalueCutoff = 0.05)"
   ]
  },
  {
   "cell_type": "code",
   "execution_count": 139,
   "metadata": {},
   "outputs": [
    {
     "data": {
      "text/html": [
       "<strong>png:</strong> 2"
      ],
      "text/latex": [
       "\\textbf{png:} 2"
      ],
      "text/markdown": [
       "**png:** 2"
      ],
      "text/plain": [
       "png \n",
       "  2 "
      ]
     },
     "metadata": {},
     "output_type": "display_data"
    }
   ],
   "source": [
    "df_result <- aging_all_MF[][,c(\"Description\",\"p.adjust\")]\n",
    "df_result$log_p_values <- 0\n",
    "for(i in 1:dim(df_result)[1]){\n",
    "    df_result$log_p_values[i] <- -log10(df_result$p.adjust[i])\n",
    "}\n",
    "sorted_indices <- order(df_result$log_p_values)\n",
    "df_result <- df_result[sorted_indices,]\n",
    "\n",
    "pdf(\"figures/GOMF_EC_Aging_Negaive.pdf\",width = 10,height = 5)\n",
    "options(repr.plot.width=16, repr.plot.height=5, repr.plot.res = 200)\n",
    "barplot(df_result$log_p_values, names.arg = df_result$Description, horiz = TRUE, xlab = \"-log(p-value)\", ylab = \"EnrichGO Terms\", las=2)\n",
    "dev.off()"
   ]
  },
  {
   "cell_type": "code",
   "execution_count": null,
   "metadata": {},
   "outputs": [],
   "source": []
  },
  {
   "cell_type": "code",
   "execution_count": 122,
   "metadata": {},
   "outputs": [],
   "source": [
    "aging_all_BP = enrichGO(df[df$donor_age>0,\"X\"],\n",
    "  OrgDb= org.Hs.eg.db,\n",
    "  keyType = \"SYMBOL\",\n",
    "  ont = \"BP\",\n",
    "  pvalueCutoff = 0.05)"
   ]
  },
  {
   "cell_type": "code",
   "execution_count": 131,
   "metadata": {},
   "outputs": [
    {
     "data": {
      "text/html": [
       "<strong>png:</strong> 2"
      ],
      "text/latex": [
       "\\textbf{png:} 2"
      ],
      "text/markdown": [
       "**png:** 2"
      ],
      "text/plain": [
       "png \n",
       "  2 "
      ]
     },
     "metadata": {},
     "output_type": "display_data"
    }
   ],
   "source": [
    "df_result <- aging_all_BP[][,c(\"Description\",\"p.adjust\")]\n",
    "df_result$log_p_values <- 0\n",
    "for(i in 1:dim(df_result)[1]){\n",
    "    df_result$log_p_values[i] <- -log10(df_result$p.adjust[i])\n",
    "}\n",
    "sorted_indices <- order(df_result$log_p_values)\n",
    "df_result <- df_result[sorted_indices,]\n",
    "# top 20\n",
    "df_result <- df_result[(dim(df_result)[1]-19):dim(df_result)[1],]\n",
    "\n",
    "pdf(\"figures/GOBP_EC_Aging_Posivtive.pdf\",width = 10,height = 5)\n",
    "options(repr.plot.width=16, repr.plot.height=5, repr.plot.res = 200)\n",
    "barplot(df_result$log_p_values, names.arg = df_result$Description, horiz = TRUE, xlab = \"-log(p-value)\", ylab = \"EnrichGO Terms\", las=2)\n",
    "dev.off()"
   ]
  },
  {
   "cell_type": "code",
   "execution_count": 133,
   "metadata": {},
   "outputs": [],
   "source": [
    "aging_all_BP = enrichGO(df[df$donor_age< -0,\"X\"],\n",
    "  OrgDb= org.Hs.eg.db,\n",
    "  keyType = \"SYMBOL\",\n",
    "  ont = \"BP\",\n",
    "  pvalueCutoff = 0.05)"
   ]
  },
  {
   "cell_type": "code",
   "execution_count": 134,
   "metadata": {},
   "outputs": [
    {
     "data": {
      "text/html": [
       "<strong>png:</strong> 2"
      ],
      "text/latex": [
       "\\textbf{png:} 2"
      ],
      "text/markdown": [
       "**png:** 2"
      ],
      "text/plain": [
       "png \n",
       "  2 "
      ]
     },
     "metadata": {},
     "output_type": "display_data"
    }
   ],
   "source": [
    "df_result <- aging_all_BP[][,c(\"Description\",\"p.adjust\")]\n",
    "df_result$log_p_values <- 0\n",
    "for(i in 1:dim(df_result)[1]){\n",
    "    df_result$log_p_values[i] <- -log10(df_result$p.adjust[i])\n",
    "}\n",
    "sorted_indices <- order(df_result$log_p_values)\n",
    "df_result <- df_result[sorted_indices,]\n",
    "# top 20\n",
    "df_result <- df_result[(dim(df_result)[1]-19):dim(df_result)[1],]\n",
    "\n",
    "pdf(\"figures/GOBP_EC_Aging_Negaive.pdf\",width = 10,height = 5)\n",
    "options(repr.plot.width=16, repr.plot.height=5, repr.plot.res = 200)\n",
    "barplot(df_result$log_p_values, names.arg = df_result$Description, horiz = TRUE, xlab = \"-log(p-value)\", ylab = \"EnrichGO Terms\", las=2)\n",
    "dev.off()"
   ]
  },
  {
   "cell_type": "code",
   "execution_count": null,
   "metadata": {},
   "outputs": [],
   "source": []
  }
 ],
 "metadata": {
  "kernelspec": {
   "display_name": "R4.0",
   "language": "R",
   "name": "r4.0"
  },
  "language_info": {
   "codemirror_mode": "r",
   "file_extension": ".r",
   "mimetype": "text/x-r-source",
   "name": "R",
   "pygments_lexer": "r",
   "version": "4.0.3"
  }
 },
 "nbformat": 4,
 "nbformat_minor": 5
}
