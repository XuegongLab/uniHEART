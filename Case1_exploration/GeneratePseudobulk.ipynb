{
 "cells": [
  {
   "cell_type": "code",
   "execution_count": 1,
   "id": "82e94315",
   "metadata": {},
   "outputs": [],
   "source": [
    "from sklearn.metrics import r2_score\n",
    "import pandas as pd\n",
    "import numpy as np\n",
    "import scanpy as sc\n",
    "from sklearn.linear_model import LinearRegression"
   ]
  },
  {
   "cell_type": "markdown",
   "id": "fd6b6402",
   "metadata": {},
   "source": [
    "# Load adult data"
   ]
  },
  {
   "cell_type": "code",
   "execution_count": 2,
   "id": "438f20c5",
   "metadata": {},
   "outputs": [],
   "source": [
    "adata = sc.read_h5ad(\"/data3/cyx/ForDatabase0606/Adult.Heart.SCVI.h5ad\")"
   ]
  },
  {
   "cell_type": "code",
   "execution_count": 3,
   "id": "7ff841bd",
   "metadata": {},
   "outputs": [
    {
     "data": {
      "text/plain": [
       "AnnData object with n_obs × n_vars = 908378 × 43878\n",
       "    obs: 'cell_ID', 'donor_ID', 'donor_gender', 'donor_age', 'original_name', 'organ', 'region', 'subregion', 'sample_status', 'seq_tech', 'cell_type', 'if_patient', 'donor_status', 'treatment', 'ethnicity', 'Ref', 'MCT', 'develop_stage', '_scvi_batch', '_scvi_labels', 'leiden', 'UMAP_1', 'UMAP_2'\n",
       "    var: '0'\n",
       "    uns: 'MCT_colors', 'Ref_colors', '_scvi_manager_uuid', '_scvi_uuid', 'cell_type_colors', 'leiden', 'neighbors', 'region_colors', 'subregion_colors', 'umap'\n",
       "    obsm: 'X_scVI', 'X_umap'\n",
       "    obsp: 'connectivities', 'distances'"
      ]
     },
     "execution_count": 3,
     "metadata": {},
     "output_type": "execute_result"
    }
   ],
   "source": [
    "adata"
   ]
  },
  {
   "cell_type": "markdown",
   "id": "62b60977",
   "metadata": {},
   "source": [
    "# Generate Bulk data of All"
   ]
  },
  {
   "cell_type": "code",
   "execution_count": 74,
   "id": "70992b27",
   "metadata": {},
   "outputs": [],
   "source": [
    "sample_list = [adata.obs.donor_ID[i] + \"_\" + adata.obs.subregion[i] for i in range(adata.shape[0])]\n",
    "adata.obs[\"sample\"] = sample_list"
   ]
  },
  {
   "cell_type": "code",
   "execution_count": 75,
   "id": "3350d423",
   "metadata": {
    "collapsed": true,
    "jupyter": {
     "outputs_hidden": true
    },
    "tags": []
   },
   "outputs": [
    {
     "data": {
      "text/plain": [
       "(array(['AdultHeart1_52Y_Left ventricle', 'AdultHeart2_47Y_Left ventricle',\n",
       "        'Hua2020 Donor1_Interatrial septum',\n",
       "        'Hua2020 Donor1_Interventricular septum',\n",
       "        'Hua2020 Donor1_Left atria', 'Hua2020 Donor1_Left ventricle',\n",
       "        'Hua2020 Donor1_Right atria', 'Hua2020 Donor1_Right ventricle',\n",
       "        'Hua2020 Donor2_Interatrial septum',\n",
       "        'Hua2020 Donor2_Interventricular septum',\n",
       "        'Hua2020 Donor2_Left atria', 'Hua2020 Donor2_Left ventricle',\n",
       "        'Hua2020 Donor2_Right atria', 'Hua2020 Donor2_Right ventricle',\n",
       "        'N10_Left atria', 'N11_Left atria', 'N12_Left atria',\n",
       "        'N1_Left ventricle', 'N2_Left ventricle', 'N3_Left ventricle',\n",
       "        'N4_Left ventricle', 'N5_Left ventricle', 'N6_Left atria',\n",
       "        'N7_Left atria', 'N8_Left atria', 'N9_Left atria',\n",
       "        'Nature_D11_Interventricular septum', 'Nature_D11_Left atria',\n",
       "        'Nature_D11_Left ventricle', 'Nature_D11_Right atria',\n",
       "        'Nature_D11_Right ventricle', 'Nature_D1_Left atria',\n",
       "        'Nature_D1_Left ventricle', 'Nature_D1_Right ventricle',\n",
       "        'Nature_D2_Interventricular septum', 'Nature_D2_Left atria',\n",
       "        'Nature_D2_Left ventricle', 'Nature_D2_Right atria',\n",
       "        'Nature_D2_Right ventricle', 'Nature_D3_Interventricular septum',\n",
       "        'Nature_D3_Left atria', 'Nature_D3_Left ventricle',\n",
       "        'Nature_D3_Right atria', 'Nature_D3_Right ventricle',\n",
       "        'Nature_D4_Interventricular septum', 'Nature_D4_Left atria',\n",
       "        'Nature_D4_Left ventricle', 'Nature_D4_Right atria',\n",
       "        'Nature_D4_Right ventricle', 'Nature_D5_Interventricular septum',\n",
       "        'Nature_D5_Left atria', 'Nature_D5_Left ventricle',\n",
       "        'Nature_D5_Right atria', 'Nature_D5_Right ventricle',\n",
       "        'Nature_D6_Interventricular septum', 'Nature_D6_Left atria',\n",
       "        'Nature_D6_Left ventricle', 'Nature_D6_Right atria',\n",
       "        'Nature_D6_Right ventricle', 'Nature_D7_Interventricular septum',\n",
       "        'Nature_D7_Left atria', 'Nature_D7_Left ventricle',\n",
       "        'Nature_D7_Right atria', 'Nature_D7_Right ventricle',\n",
       "        'Nature_H2_Interventricular septum', 'Nature_H2_Left atria',\n",
       "        'Nature_H2_Left ventricle', 'Nature_H2_Right atria',\n",
       "        'Nature_H2_Right ventricle', 'Nature_H3_Interventricular septum',\n",
       "        'Nature_H3_Left atria', 'Nature_H3_Left ventricle',\n",
       "        'Nature_H3_Right atria', 'Nature_H3_Right ventricle',\n",
       "        'Nature_H4_Interventricular septum', 'Nature_H4_Left atria',\n",
       "        'Nature_H4_Left ventricle', 'Nature_H4_Right atria',\n",
       "        'Nature_H4_Right ventricle', 'Nature_H5_Interventricular septum',\n",
       "        'Nature_H5_Left atria', 'Nature_H5_Left ventricle',\n",
       "        'Nature_H5_Right atria', 'Nature_H5_Right ventricle',\n",
       "        'Nature_H6_Interventricular septum', 'Nature_H6_Left atria',\n",
       "        'Nature_H6_Left ventricle', 'Nature_H6_Right atria',\n",
       "        'Nature_H6_Right ventricle', 'Nature_H7_Interventricular septum',\n",
       "        'Nature_H7_Left atria', 'Nature_H7_Left ventricle',\n",
       "        'Nature_H7_Right atria', 'Nature_H7_Right ventricle',\n",
       "        'Tucker2020 1221_Left ventricle', 'Tucker2020 1221_Right atria',\n",
       "        'Tucker2020 1221_Right ventricle', 'Tucker2020 1600_Left atria',\n",
       "        'Tucker2020 1600_Right atria', 'Tucker2020 1666_Left atria',\n",
       "        'Tucker2020 1666_Left ventricle',\n",
       "        'Tucker2020 1666_Right ventricle', 'Tucker2020 1681_Left atria',\n",
       "        'Tucker2020 1681_Left ventricle', 'Tucker2020 1681_Right atria',\n",
       "        'Tucker2020 1702_Left atria', 'Tucker2020 1702_Left ventricle',\n",
       "        'Tucker2020 1702_Right atria', 'Tucker2020 1702_Right ventricle',\n",
       "        'Tucker2020 1708_Left atria', 'Tucker2020 1708_Left ventricle',\n",
       "        'Tucker2020 1708_Right atria', 'Tucker2020 1708_Right ventricle',\n",
       "        'Tucker2020 1723_Left atria', 'Tucker2020 1723_Left ventricle',\n",
       "        'Tucker2020 1723_Right atria', 'Tucker2020 1723_Right ventricle'],\n",
       "       dtype=object),\n",
       " array([ 1308,  1355,  7619, 22689,  6402, 28445,  7620, 12709, 11565,\n",
       "        23348,  7099, 29577, 11219, 16676,   553,   594,   422,   575,\n",
       "          790,   716,   323,   788,  1201,   267,   299,   703, 14544,\n",
       "         3106, 20972,   454,  6844,  1028, 10200,  3319,  6694,  8177,\n",
       "        15458,  4195,  6229,  1917,  3300, 10625,  5990,  1845,  4623,\n",
       "         4844,  9260,  3553,  5264,  3253,  4834, 10353,  4943,  3927,\n",
       "        10513, 16740, 30398,  4189, 11916,  5358,  5068, 10621,  4949,\n",
       "         8051,  2287,  2996,  9227,  1041,  4973,  5026,  5535, 11533,\n",
       "         2163,  4589,  5246,  2281, 11205,  2031,  3312,  8386,  2009,\n",
       "        17287,  1846,  6439,  3802,  2385, 14088,  2209,  2434,  3657,\n",
       "         6328,  9710,  1359,  8575,  3267,  5497, 12326, 11433, 15120,\n",
       "         6508, 13959,  7264, 14216, 16764, 15889, 12241,  5085, 14738,\n",
       "         9205, 11419, 10859, 10486,  6936, 12390, 19696, 16268, 10437]))"
      ]
     },
     "execution_count": 75,
     "metadata": {},
     "output_type": "execute_result"
    }
   ],
   "source": [
    "np.unique(adata.obs[\"sample\"],return_counts=True)"
   ]
  },
  {
   "cell_type": "code",
   "execution_count": 76,
   "id": "c0899d57",
   "metadata": {
    "tags": []
   },
   "outputs": [],
   "source": [
    "matrix_pseudobulk = pd.DataFrame(np.zeros([117,43878]))\n",
    "matrix_pseudobulk.index = np.unique(adata.obs[\"sample\"])\n",
    "matrix_pseudobulk.columns = adata.var.index.values\n",
    "\n",
    "\n",
    "meta_pseudobulk = pd.DataFrame(np.zeros([117,4]))\n",
    "meta_pseudobulk.index = np.unique(adata.obs[\"sample\"])\n",
    "meta_pseudobulk.columns = [\"donor_gender\",\"donor_age\",\"subregion\",\"Ref\"]"
   ]
  },
  {
   "cell_type": "markdown",
   "id": "51cb97ce",
   "metadata": {},
   "source": [
    "### bulk metadata"
   ]
  },
  {
   "cell_type": "code",
   "execution_count": 80,
   "id": "1f4af489",
   "metadata": {},
   "outputs": [],
   "source": [
    "for ss in np.unique(adata.obs[\"sample\"]):\n",
    "    meta_pseudobulk.loc[ss,:] = adata.obs.loc[adata.obs[\"sample\"]==ss,[\"donor_gender\",\"donor_age\",\"subregion\",\"Ref\"]].iloc[0,:]"
   ]
  },
  {
   "cell_type": "code",
   "execution_count": 81,
   "id": "a76b8b3c",
   "metadata": {},
   "outputs": [],
   "source": [
    "meta_pseudobulk.donor_gender[meta_pseudobulk.donor_gender==\"Male\"] = 0\n",
    "meta_pseudobulk.donor_gender[meta_pseudobulk.donor_gender==\"Female\"] = 1\n",
    "\n",
    "meta_pseudobulk.donor_age[meta_pseudobulk.donor_age.isin(['21yr','33yr'])] = 0\n",
    "meta_pseudobulk.donor_age[meta_pseudobulk.donor_age.isin(['36yr','39yr'])] = 1\n",
    "meta_pseudobulk.donor_age[meta_pseudobulk.donor_age.isin(['40-45yr','42yr','43yr'])] = 2\n",
    "meta_pseudobulk.donor_age[meta_pseudobulk.donor_age.isin(['45-50yr','45yr','46yr','47yr','48yr'])] = 3\n",
    "meta_pseudobulk.donor_age[meta_pseudobulk.donor_age.isin(['50-55yr','50yr','51yr','52yr','54yr'])] = 4\n",
    "meta_pseudobulk.donor_age[meta_pseudobulk.donor_age.isin(['55-60yr','59yr'])] = 5\n",
    "meta_pseudobulk.donor_age[meta_pseudobulk.donor_age.isin(['60-65yr','60yr'])] = 6\n",
    "meta_pseudobulk.donor_age[meta_pseudobulk.donor_age.isin(['65-70yr'])] = 7\n",
    "meta_pseudobulk.donor_age[meta_pseudobulk.donor_age.isin(['70-75yr'])] = 8\n",
    "\n",
    "#meta_pseudobulk.subregion[meta_pseudobulk.subregion==\"Left ventricle\"] = 0\n",
    "#meta_pseudobulk.subregion[meta_pseudobulk.subregion==\"Interventricular septum\"] = 1\n",
    "#meta_pseudobulk.subregion[meta_pseudobulk.subregion==\"Right ventricle\"] = 2\n",
    "#meta_pseudobulk.subregion[meta_pseudobulk.subregion==\"Left atria\"] = 3\n",
    "#meta_pseudobulk.subregion[meta_pseudobulk.subregion==\"Interatrial septum\"] = 4\n",
    "#meta_pseudobulk.subregion[meta_pseudobulk.subregion==\"Right atria\"] = 5"
   ]
  },
  {
   "cell_type": "code",
   "execution_count": 82,
   "id": "7d7686d0",
   "metadata": {},
   "outputs": [],
   "source": [
    "meta_pseudobulk.to_csv(\"/data3/cyx/HHCAd_PB4GLM/PseudoBulk.metadata.csv\")"
   ]
  },
  {
   "cell_type": "markdown",
   "id": "f19eff72",
   "metadata": {},
   "source": [
    "### bulk expression matrix"
   ]
  },
  {
   "cell_type": "code",
   "execution_count": 31,
   "id": "adfa01dc",
   "metadata": {},
   "outputs": [],
   "source": [
    "for ss in np.unique(adata.obs[\"sample\"]):\n",
    "    matrix_sample = adata.X[adata.obs['sample'] == ss,:].todense()\n",
    "    matrix_sample = np.exp(matrix_sample)-1\n",
    "    vector_sample = matrix_sample.sum(axis =0)\n",
    "    matrix_pseudobulk.loc[ss,:] = np.log1p(vector_sample/vector_sample.sum()*1e6)"
   ]
  },
  {
   "cell_type": "code",
   "execution_count": 35,
   "id": "9d26595b",
   "metadata": {},
   "outputs": [],
   "source": [
    "matrix_pseudobulk.to_csv(\"/data3/cyx/HHCAd_PB4GLM/PseudoBulk.expression.csv\")"
   ]
  },
  {
   "cell_type": "markdown",
   "id": "4bf79174",
   "metadata": {},
   "source": [
    "# Generate Bulk data of each cell type"
   ]
  },
  {
   "cell_type": "code",
   "execution_count": 83,
   "id": "c8eac897",
   "metadata": {},
   "outputs": [],
   "source": [
    "cell_types = ['Adipocyte', 'Cardiomyocyte cell', 'Endothelial cell',\n",
    "       'Fibroblast', 'Lymphoid cell', 'Myeloid cell',\n",
    "       'Neuron', 'Pericyte', 'Smooth muscle cell']"
   ]
  },
  {
   "cell_type": "code",
   "execution_count": 84,
   "id": "60af08b0",
   "metadata": {},
   "outputs": [],
   "source": [
    "for ct in cell_types:\n",
    "    adata_ct = adata[adata.obs.MCT==ct,:]\n",
    "    \n",
    "    sample_list_ct = np.unique(adata_ct.obs[\"sample\"],return_counts=True)\n",
    "    sample_list_ct = sample_list_ct[0][sample_list_ct[1]>=10]\n",
    "\n",
    "    # genrate metadata dataframe of celltype\n",
    "    meta_pseudobulk = pd.DataFrame(np.zeros([len(sample_list_ct),4]))\n",
    "    meta_pseudobulk.index = sample_list_ct\n",
    "    meta_pseudobulk.columns = [\"donor_gender\",\"donor_age\",\"subregion\",\"Ref\"]\n",
    "    for ss in sample_list_ct:\n",
    "        meta_pseudobulk.loc[ss,:] = adata_ct.obs.loc[adata_ct.obs[\"sample\"]==ss,[\"donor_gender\",\"donor_age\",\"subregion\",\"Ref\"]].iloc[0,:]\n",
    "        \n",
    "    meta_pseudobulk.donor_gender[meta_pseudobulk.donor_gender==\"Male\"] = 0\n",
    "    meta_pseudobulk.donor_gender[meta_pseudobulk.donor_gender==\"Female\"] = 1\n",
    "\n",
    "    meta_pseudobulk.donor_age[meta_pseudobulk.donor_age.isin(['21yr','33yr'])] = 0\n",
    "    meta_pseudobulk.donor_age[meta_pseudobulk.donor_age.isin(['36yr','39yr'])] = 1\n",
    "    meta_pseudobulk.donor_age[meta_pseudobulk.donor_age.isin(['40-45yr','42yr','43yr'])] = 2\n",
    "    meta_pseudobulk.donor_age[meta_pseudobulk.donor_age.isin(['45-50yr','45yr','46yr','47yr','48yr'])] = 3\n",
    "    meta_pseudobulk.donor_age[meta_pseudobulk.donor_age.isin(['50-55yr','50yr','51yr','52yr','54yr'])] = 4\n",
    "    meta_pseudobulk.donor_age[meta_pseudobulk.donor_age.isin(['55-60yr','59yr'])] = 5\n",
    "    meta_pseudobulk.donor_age[meta_pseudobulk.donor_age.isin(['60-65yr','60yr'])] = 6\n",
    "    meta_pseudobulk.donor_age[meta_pseudobulk.donor_age.isin(['65-70yr'])] = 7\n",
    "    meta_pseudobulk.donor_age[meta_pseudobulk.donor_age.isin(['70-75yr'])] = 8\n",
    "\n",
    "    #meta_pseudobulk.subregion[meta_pseudobulk.subregion==\"Left ventricle\"] = 0\n",
    "    #meta_pseudobulk.subregion[meta_pseudobulk.subregion==\"Interventricular septum\"] = 1\n",
    "    #meta_pseudobulk.subregion[meta_pseudobulk.subregion==\"Right ventricle\"] = 2\n",
    "    #meta_pseudobulk.subregion[meta_pseudobulk.subregion==\"Left atria\"] = 3\n",
    "    #meta_pseudobulk.subregion[meta_pseudobulk.subregion==\"Interatrial septum\"] = 4\n",
    "    #meta_pseudobulk.subregion[meta_pseudobulk.subregion==\"Right atria\"] = 5\n",
    "    \n",
    "    # genrate expression dataframe of celltype\n",
    "    matrix_pseudobulk = pd.DataFrame(np.zeros([len(sample_list_ct),43878]))\n",
    "    matrix_pseudobulk.index = sample_list_ct\n",
    "    matrix_pseudobulk.columns = adata_ct.var.index.values\n",
    "    for ss in sample_list_ct:\n",
    "        matrix_sample = adata.X[adata_ct.obs['sample'] == ss,:].todense()\n",
    "        matrix_sample = np.exp(matrix_sample)-1\n",
    "        vector_sample = matrix_sample.sum(axis =0)\n",
    "        matrix_pseudobulk.loc[ss,:] = vector_sample/vector_sample.sum()*1e6\n",
    "        \n",
    "    meta_pseudobulk.to_csv(\"/data3/cyx/HHCAd_PB4GLM/PseudoBulk\"+ct+\".metadata.csv\")\n",
    "    matrix_pseudobulk.to_csv(\"/data3/cyx/HHCAd_PB4GLM/PseudoBulk\"+ct+\".expression.csv\")"
   ]
  },
  {
   "cell_type": "markdown",
   "id": "82b6557f",
   "metadata": {},
   "source": [
    "# Load fetal data"
   ]
  },
  {
   "cell_type": "code",
   "execution_count": 85,
   "id": "07331794",
   "metadata": {},
   "outputs": [],
   "source": [
    "adata = sc.read_h5ad(\"/data3/cyx/ForDatabase0606/Fetal.Heart.SCVI.h5ad\")"
   ]
  },
  {
   "cell_type": "code",
   "execution_count": 86,
   "id": "bfcadcca",
   "metadata": {},
   "outputs": [
    {
     "data": {
      "text/plain": [
       "AnnData object with n_obs × n_vars = 117361 × 43878\n",
       "    obs: 'cell_ID', 'donor_ID', 'donor_gender', 'donor_age', 'original_name', 'organ', 'region', 'subregion', 'sample_status', 'seq_tech', 'cell_type', 'if_patient', 'donor_status', 'treatment', 'ethnicity', 'Ref', 'MCT', 'develop_stage', 'PC_1', 'PC_2', 'TSNE_1', 'TSNE_2', 'UMAP_1', 'UMAP_2', '_scvi_batch', '_scvi_labels', 'leiden'\n",
       "    var: '0'\n",
       "    uns: 'Ref_colors', '_scvi_manager_uuid', '_scvi_uuid', 'cell_type_colors', 'leiden', 'neighbors', 'umap'\n",
       "    obsm: 'X_scVI', 'X_umap'\n",
       "    obsp: 'connectivities', 'distances'"
      ]
     },
     "execution_count": 86,
     "metadata": {},
     "output_type": "execute_result"
    }
   ],
   "source": [
    "adata"
   ]
  },
  {
   "cell_type": "markdown",
   "id": "9fd4ec47",
   "metadata": {},
   "source": [
    "# Generate Bulk data of All"
   ]
  },
  {
   "cell_type": "code",
   "execution_count": 87,
   "id": "a299067a",
   "metadata": {},
   "outputs": [],
   "source": [
    "sample_list = [adata.obs.donor_ID[i] + \"_\" + adata.obs.subregion[i] for i in range(adata.shape[0])]\n",
    "adata.obs[\"sample\"] = sample_list"
   ]
  },
  {
   "cell_type": "code",
   "execution_count": 91,
   "id": "dc795615",
   "metadata": {
    "tags": []
   },
   "outputs": [],
   "source": [
    "matrix_pseudobulk = pd.DataFrame(np.zeros([99,43878]))\n",
    "matrix_pseudobulk.index = np.unique(adata.obs[\"sample\"])\n",
    "matrix_pseudobulk.columns = adata.var.index.values\n",
    "\n",
    "\n",
    "meta_pseudobulk = pd.DataFrame(np.zeros([99,4]))\n",
    "meta_pseudobulk.index = np.unique(adata.obs[\"sample\"])\n",
    "meta_pseudobulk.columns = [\"donor_gender\",\"donor_age\",\"subregion\",\"Ref\"]"
   ]
  },
  {
   "cell_type": "markdown",
   "id": "65cac462",
   "metadata": {},
   "source": [
    "### bulk metadata"
   ]
  },
  {
   "cell_type": "code",
   "execution_count": 92,
   "id": "2bd2b357",
   "metadata": {},
   "outputs": [],
   "source": [
    "for ss in np.unique(adata.obs[\"sample\"]):\n",
    "    meta_pseudobulk.loc[ss,:] = adata.obs.loc[adata.obs[\"sample\"]==ss,[\"donor_gender\",\"donor_age\",\"subregion\",\"Ref\"]].iloc[0,:]"
   ]
  },
  {
   "cell_type": "code",
   "execution_count": 93,
   "id": "285a9056",
   "metadata": {},
   "outputs": [
    {
     "data": {
      "text/html": [
       "<div>\n",
       "<style scoped>\n",
       "    .dataframe tbody tr th:only-of-type {\n",
       "        vertical-align: middle;\n",
       "    }\n",
       "\n",
       "    .dataframe tbody tr th {\n",
       "        vertical-align: top;\n",
       "    }\n",
       "\n",
       "    .dataframe thead th {\n",
       "        text-align: right;\n",
       "    }\n",
       "</style>\n",
       "<table border=\"1\" class=\"dataframe\">\n",
       "  <thead>\n",
       "    <tr style=\"text-align: right;\">\n",
       "      <th></th>\n",
       "      <th>donor_gender</th>\n",
       "      <th>donor_age</th>\n",
       "      <th>subregion</th>\n",
       "      <th>Ref</th>\n",
       "    </tr>\n",
       "  </thead>\n",
       "  <tbody>\n",
       "    <tr>\n",
       "      <th>Asp_donor1_NA</th>\n",
       "      <td>Female</td>\n",
       "      <td>HE7W</td>\n",
       "      <td>NA</td>\n",
       "      <td>10.1016/j.cell.2019.11.025</td>\n",
       "    </tr>\n",
       "    <tr>\n",
       "      <th>FetalHeart2_GW11_NA</th>\n",
       "      <td>Female</td>\n",
       "      <td>HE11W</td>\n",
       "      <td>NA</td>\n",
       "      <td>10.1038/s41586-020-2157-4</td>\n",
       "    </tr>\n",
       "    <tr>\n",
       "      <th>FetalHeart_12W_NA</th>\n",
       "      <td>NA</td>\n",
       "      <td>HE12W</td>\n",
       "      <td>NA</td>\n",
       "      <td>10.1038/s41586-020-2157-4</td>\n",
       "    </tr>\n",
       "    <tr>\n",
       "      <th>H26547_NA</th>\n",
       "      <td>Female</td>\n",
       "      <td>HE17W</td>\n",
       "      <td>NA</td>\n",
       "      <td>10.1126/science.aba7721</td>\n",
       "    </tr>\n",
       "    <tr>\n",
       "      <th>H27098_NA</th>\n",
       "      <td>Male</td>\n",
       "      <td>HE18W</td>\n",
       "      <td>NA</td>\n",
       "      <td>10.1126/science.aba7721</td>\n",
       "    </tr>\n",
       "    <tr>\n",
       "      <th>...</th>\n",
       "      <td>...</td>\n",
       "      <td>...</td>\n",
       "      <td>...</td>\n",
       "      <td>...</td>\n",
       "    </tr>\n",
       "    <tr>\n",
       "      <th>HE7W_3_Right ventricle</th>\n",
       "      <td>NA</td>\n",
       "      <td>HE7W</td>\n",
       "      <td>Right ventricle</td>\n",
       "      <td>10.1016/j.celrep.2019.01.079</td>\n",
       "    </tr>\n",
       "    <tr>\n",
       "      <th>HE9W_1_Left atria</th>\n",
       "      <td>Male</td>\n",
       "      <td>HE9W</td>\n",
       "      <td>Left atria</td>\n",
       "      <td>10.1016/j.celrep.2019.01.079</td>\n",
       "    </tr>\n",
       "    <tr>\n",
       "      <th>HE9W_1_Left ventricle</th>\n",
       "      <td>Male</td>\n",
       "      <td>HE9W</td>\n",
       "      <td>Left ventricle</td>\n",
       "      <td>10.1016/j.celrep.2019.01.079</td>\n",
       "    </tr>\n",
       "    <tr>\n",
       "      <th>HE9W_1_Right atria</th>\n",
       "      <td>Male</td>\n",
       "      <td>HE9W</td>\n",
       "      <td>Right atria</td>\n",
       "      <td>10.1016/j.celrep.2019.01.079</td>\n",
       "    </tr>\n",
       "    <tr>\n",
       "      <th>HE9W_1_Right ventricle</th>\n",
       "      <td>Male</td>\n",
       "      <td>HE9W</td>\n",
       "      <td>Right ventricle</td>\n",
       "      <td>10.1016/j.celrep.2019.01.079</td>\n",
       "    </tr>\n",
       "  </tbody>\n",
       "</table>\n",
       "<p>99 rows × 4 columns</p>\n",
       "</div>"
      ],
      "text/plain": [
       "                       donor_gender donor_age        subregion  \\\n",
       "Asp_donor1_NA                Female      HE7W               NA   \n",
       "FetalHeart2_GW11_NA          Female     HE11W               NA   \n",
       "FetalHeart_12W_NA                NA     HE12W               NA   \n",
       "H26547_NA                    Female     HE17W               NA   \n",
       "H27098_NA                      Male     HE18W               NA   \n",
       "...                             ...       ...              ...   \n",
       "HE7W_3_Right ventricle           NA      HE7W  Right ventricle   \n",
       "HE9W_1_Left atria              Male      HE9W       Left atria   \n",
       "HE9W_1_Left ventricle          Male      HE9W   Left ventricle   \n",
       "HE9W_1_Right atria             Male      HE9W      Right atria   \n",
       "HE9W_1_Right ventricle         Male      HE9W  Right ventricle   \n",
       "\n",
       "                                                 Ref  \n",
       "Asp_donor1_NA             10.1016/j.cell.2019.11.025  \n",
       "FetalHeart2_GW11_NA        10.1038/s41586-020-2157-4  \n",
       "FetalHeart_12W_NA          10.1038/s41586-020-2157-4  \n",
       "H26547_NA                    10.1126/science.aba7721  \n",
       "H27098_NA                    10.1126/science.aba7721  \n",
       "...                                              ...  \n",
       "HE7W_3_Right ventricle  10.1016/j.celrep.2019.01.079  \n",
       "HE9W_1_Left atria       10.1016/j.celrep.2019.01.079  \n",
       "HE9W_1_Left ventricle   10.1016/j.celrep.2019.01.079  \n",
       "HE9W_1_Right atria      10.1016/j.celrep.2019.01.079  \n",
       "HE9W_1_Right ventricle  10.1016/j.celrep.2019.01.079  \n",
       "\n",
       "[99 rows x 4 columns]"
      ]
     },
     "execution_count": 93,
     "metadata": {},
     "output_type": "execute_result"
    }
   ],
   "source": [
    "meta_pseudobulk"
   ]
  },
  {
   "cell_type": "code",
   "execution_count": 102,
   "id": "e105cd8b",
   "metadata": {},
   "outputs": [],
   "source": [
    "meta_pseudobulk.donor_gender[meta_pseudobulk.donor_gender==\"Male\"] = 0\n",
    "meta_pseudobulk.donor_gender[meta_pseudobulk.donor_gender==\"Female\"] = 1\n",
    "\n",
    "meta_pseudobulk.donor_age = [int(x[2:][:-1]) for x in meta_pseudobulk.donor_age]\n",
    "\n",
    "#meta_pseudobulk.subregion[meta_pseudobulk.subregion==\"Left ventricle\"] = 0\n",
    "#meta_pseudobulk.subregion[meta_pseudobulk.subregion==\"Interventricular septum\"] = 1\n",
    "#meta_pseudobulk.subregion[meta_pseudobulk.subregion==\"Right ventricle\"] = 2\n",
    "#meta_pseudobulk.subregion[meta_pseudobulk.subregion==\"Left atria\"] = 3\n",
    "#meta_pseudobulk.subregion[meta_pseudobulk.subregion==\"Interatrial septum\"] = 4\n",
    "#meta_pseudobulk.subregion[meta_pseudobulk.subregion==\"Right atria\"] = 5"
   ]
  },
  {
   "cell_type": "code",
   "execution_count": 103,
   "id": "95c68c18",
   "metadata": {},
   "outputs": [],
   "source": [
    "meta_pseudobulk.to_csv(\"/data3/cyx/HHCAd_PB4GLM/Fetal.PseudoBulk.metadata.csv\")"
   ]
  },
  {
   "cell_type": "markdown",
   "id": "c7818527",
   "metadata": {},
   "source": [
    "### bulk expression matrix"
   ]
  },
  {
   "cell_type": "code",
   "execution_count": 104,
   "id": "a7aa3001",
   "metadata": {},
   "outputs": [],
   "source": [
    "for ss in np.unique(adata.obs[\"sample\"]):\n",
    "    matrix_sample = adata.X[adata.obs['sample'] == ss,:].todense()\n",
    "    matrix_sample = np.exp(matrix_sample)-1\n",
    "    vector_sample = matrix_sample.sum(axis =0)\n",
    "    matrix_pseudobulk.loc[ss,:] = vector_sample/vector_sample.sum()*1e6"
   ]
  },
  {
   "cell_type": "code",
   "execution_count": 105,
   "id": "01c2760a",
   "metadata": {},
   "outputs": [],
   "source": [
    "matrix_pseudobulk.to_csv(\"/data3/cyx/HHCAd_PB4GLM/Fetal.PseudoBulk.expression.csv\")"
   ]
  },
  {
   "cell_type": "markdown",
   "id": "ccacc1db",
   "metadata": {},
   "source": [
    "# Generate Bulk data of each cell type"
   ]
  },
  {
   "cell_type": "code",
   "execution_count": 106,
   "id": "fe271b1c",
   "metadata": {},
   "outputs": [],
   "source": [
    "cell_types = ['Adipocyte', 'Cardiomyocyte cell', 'Endothelial cell',\n",
    "       'Fibroblast', 'Lymphoid cell', 'Myeloid cell',\n",
    "       'Neuron', 'Pericyte', 'Smooth muscle cell']"
   ]
  },
  {
   "cell_type": "code",
   "execution_count": 107,
   "id": "0a8656ea",
   "metadata": {},
   "outputs": [],
   "source": [
    "for ct in cell_types:\n",
    "    adata_ct = adata[adata.obs.MCT==ct,:]\n",
    "    \n",
    "    sample_list_ct = np.unique(adata_ct.obs[\"sample\"],return_counts=True)\n",
    "    sample_list_ct = sample_list_ct[0][sample_list_ct[1]>=10]\n",
    "\n",
    "    # genrate metadata dataframe of celltype\n",
    "    meta_pseudobulk = pd.DataFrame(np.zeros([len(sample_list_ct),4]))\n",
    "    meta_pseudobulk.index = sample_list_ct\n",
    "    meta_pseudobulk.columns = [\"donor_gender\",\"donor_age\",\"subregion\",\"Ref\"]\n",
    "    for ss in sample_list_ct:\n",
    "        meta_pseudobulk.loc[ss,:] = adata_ct.obs.loc[adata_ct.obs[\"sample\"]==ss,[\"donor_gender\",\"donor_age\",\"subregion\",\"Ref\"]].iloc[0,:]\n",
    "        \n",
    "    meta_pseudobulk.donor_gender[meta_pseudobulk.donor_gender==\"Male\"] = 0\n",
    "    meta_pseudobulk.donor_gender[meta_pseudobulk.donor_gender==\"Female\"] = 1\n",
    "\n",
    "    meta_pseudobulk.donor_age = [int(x[2:][:-1]) for x in meta_pseudobulk.donor_age]\n",
    "\n",
    "    #meta_pseudobulk.subregion[meta_pseudobulk.subregion==\"Left ventricle\"] = 0\n",
    "    #meta_pseudobulk.subregion[meta_pseudobulk.subregion==\"Interventricular septum\"] = 1\n",
    "    #meta_pseudobulk.subregion[meta_pseudobulk.subregion==\"Right ventricle\"] = 2\n",
    "    #meta_pseudobulk.subregion[meta_pseudobulk.subregion==\"Left atria\"] = 3\n",
    "    #meta_pseudobulk.subregion[meta_pseudobulk.subregion==\"Interatrial septum\"] = 4\n",
    "    #meta_pseudobulk.subregion[meta_pseudobulk.subregion==\"Right atria\"] = 5\n",
    "    \n",
    "    # genrate expression dataframe of celltype\n",
    "    matrix_pseudobulk = pd.DataFrame(np.zeros([len(sample_list_ct),43878]))\n",
    "    matrix_pseudobulk.index = sample_list_ct\n",
    "    matrix_pseudobulk.columns = adata_ct.var.index.values\n",
    "    for ss in sample_list_ct:\n",
    "        matrix_sample = adata.X[adata_ct.obs['sample'] == ss,:].todense()\n",
    "        matrix_sample = np.exp(matrix_sample)-1\n",
    "        vector_sample = matrix_sample.sum(axis =0)\n",
    "        matrix_pseudobulk.loc[ss,:] = vector_sample/vector_sample.sum()*1e6\n",
    "        \n",
    "    meta_pseudobulk.to_csv(\"/data3/cyx/HHCAd_PB4GLM/Fetal.PseudoBulk\"+ct+\".metadata.csv\")\n",
    "    matrix_pseudobulk.to_csv(\"/data3/cyx/HHCAd_PB4GLM/Fetal.PseudoBulk\"+ct+\".expression.csv\")"
   ]
  }
 ],
 "metadata": {
  "kernelspec": {
   "display_name": "R4_Python",
   "language": "python",
   "name": "r4_py"
  },
  "language_info": {
   "codemirror_mode": {
    "name": "ipython",
    "version": 3
   },
   "file_extension": ".py",
   "mimetype": "text/x-python",
   "name": "python",
   "nbconvert_exporter": "python",
   "pygments_lexer": "ipython3",
   "version": "3.8.8"
  }
 },
 "nbformat": 4,
 "nbformat_minor": 5
}
