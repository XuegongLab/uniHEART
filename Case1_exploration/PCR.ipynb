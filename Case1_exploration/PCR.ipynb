{
 "cells": [
  {
   "cell_type": "code",
   "execution_count": 1,
   "metadata": {},
   "outputs": [],
   "source": [
    "from sklearn.metrics import r2_score\n",
    "import pandas as pd\n",
    "import numpy as np\n",
    "\n",
    "from sklearn.linear_model import LinearRegression"
   ]
  },
  {
   "cell_type": "code",
   "execution_count": 2,
   "metadata": {},
   "outputs": [],
   "source": [
    "import scanpy as sc"
   ]
  },
  {
   "cell_type": "markdown",
   "metadata": {},
   "source": [
    "# Adult_Raw"
   ]
  },
  {
   "cell_type": "code",
   "execution_count": 3,
   "metadata": {},
   "outputs": [],
   "source": [
    "df = pd.read_csv(\"explore_variance.csv\",index_col=0)"
   ]
  },
  {
   "cell_type": "code",
   "execution_count": 4,
   "metadata": {},
   "outputs": [
    {
     "name": "stderr",
     "output_type": "stream",
     "text": [
      "/home/cyx/.local/lib/python3.8/site-packages/IPython/core/interactiveshell.py:3251: DtypeWarning: Columns (5,15,18) have mixed types.Specify dtype option on import or set low_memory=False.\n",
      "  exec(code_obj, self.user_global_ns, self.user_ns)\n"
     ]
    }
   ],
   "source": [
    "df_meta = pd.read_csv(\"metadata.csv\",index_col=0)\n",
    "df[\"donor_ID\"] = df_meta.donor_ID\n",
    "df[\"Ref\"] = df_meta.Ref"
   ]
  },
  {
   "cell_type": "code",
   "execution_count": 5,
   "metadata": {},
   "outputs": [],
   "source": [
    "var_list = [np.var(df.loc[:,x]) for x in df.columns[0:30]]\n",
    "var_ratio_list = var_list/sum(var_list)"
   ]
  },
  {
   "cell_type": "code",
   "execution_count": 6,
   "metadata": {},
   "outputs": [],
   "source": [
    "covariat_list = [\"seq_tech\",\"subregion\",\"donor_gender\",\"donor_age\",\"donor_ID\",\"MCT\"]"
   ]
  },
  {
   "cell_type": "code",
   "execution_count": 7,
   "metadata": {},
   "outputs": [],
   "source": [
    "var_explained_list = []\n",
    "for covariat in covariat_list:\n",
    "    var_explained = 0\n",
    "    for i in range(30):\n",
    "        lm = LinearRegression()\n",
    "        x_dummy = pd.get_dummies(df[covariat])\n",
    "        lm.fit(x_dummy,df.loc[:,df.columns[i]])\n",
    "        var_explained += max(lm.score(x_dummy,df.loc[:,df.columns[i]]),0)* var_ratio_list[i]\n",
    "    var_explained_list.append(var_explained)"
   ]
  },
  {
   "cell_type": "code",
   "execution_count": 8,
   "metadata": {},
   "outputs": [],
   "source": [
    "df_var = pd.DataFrame(var_explained_list,columns=[\"All\"])\n",
    "df_var.index = covariat_list"
   ]
  },
  {
   "cell_type": "code",
   "execution_count": null,
   "metadata": {},
   "outputs": [],
   "source": []
  },
  {
   "cell_type": "markdown",
   "metadata": {},
   "source": [
    "## MCTs"
   ]
  },
  {
   "cell_type": "code",
   "execution_count": 11,
   "metadata": {},
   "outputs": [],
   "source": [
    "df[\"cell_type\"] = df_meta.cell_type"
   ]
  },
  {
   "cell_type": "code",
   "execution_count": 12,
   "metadata": {},
   "outputs": [],
   "source": [
    "covariat_list = [\"seq_tech\",\"subregion\",\"donor_gender\",\"donor_age\",\"donor_ID\",\"cell_type\"]"
   ]
  },
  {
   "cell_type": "code",
   "execution_count": 13,
   "metadata": {},
   "outputs": [],
   "source": [
    "for ct in np.unique(df.MCT):\n",
    "    df_ct = df.loc[df.MCT==ct,:]\n",
    "    var_list_ct = [np.var(df_ct.loc[:,x]) for x in df_ct.columns[0:30]]\n",
    "    var_ratio_list_ct = var_list_ct/sum(var_list_ct)\n",
    "    var_explained_list = []\n",
    "    for covariat in covariat_list:\n",
    "        var_explained = 0\n",
    "        for i in range(30):\n",
    "            lm = LinearRegression()\n",
    "            x_dummy = pd.get_dummies(df_ct[covariat])\n",
    "            lm.fit(x_dummy,df_ct.loc[:,df_ct.columns[i]])\n",
    "            var_explained += max(lm.score(x_dummy,df_ct.loc[:,df_ct.columns[i]]),0)* var_ratio_list_ct[i]\n",
    "        var_explained_list.append(var_explained)\n",
    "        \n",
    "    df_var[ct] = var_explained_list"
   ]
  },
  {
   "cell_type": "code",
   "execution_count": 14,
   "metadata": {},
   "outputs": [],
   "source": [
    "df_var_bk = df_var"
   ]
  },
  {
   "cell_type": "code",
   "execution_count": 15,
   "metadata": {},
   "outputs": [],
   "source": [
    "df_var = df_var[['All', 'Cardiomyocyte cell','Endothelial cell', 'Fibroblast', 'Lymphoid cell', 'Myeloid cell',   'Mesothelial cell','Adipocyte', 'Neuron', 'Pericyte', 'Smooth muscle cell']]\n",
    "df_var = df_var.reindex(index=['seq_tech', 'donor_ID', 'donor_gender', 'donor_age', 'subregion',  'MCT'])\n",
    "df_var.index = ['seq_tech', 'donor', 'gender', 'age', 'subregion',  'cell_type']"
   ]
  },
  {
   "cell_type": "code",
   "execution_count": 16,
   "metadata": {
    "tags": []
   },
   "outputs": [],
   "source": [
    "df_var = round(df_var.astype(float),4)"
   ]
  },
  {
   "cell_type": "markdown",
   "metadata": {},
   "source": [
    "## Plot"
   ]
  },
  {
   "cell_type": "code",
   "execution_count": 48,
   "metadata": {},
   "outputs": [],
   "source": [
    "df_var_4plot = df_var\n",
    "df_var_4plot.to_csv(\"PCR_results/Adult_raw.csv\")"
   ]
  },
  {
   "cell_type": "code",
   "execution_count": 70,
   "metadata": {},
   "outputs": [],
   "source": [
    "df_var_4plot = pd.read_csv(\"PCR_results/Adult_raw.csv\",index_col=0)\n",
    "df_var_4plot = df_var_4plot.drop('donor',axis=0)"
   ]
  },
  {
   "cell_type": "code",
   "execution_count": 71,
   "metadata": {},
   "outputs": [
    {
     "data": {
      "text/html": [
       "<div>\n",
       "<style scoped>\n",
       "    .dataframe tbody tr th:only-of-type {\n",
       "        vertical-align: middle;\n",
       "    }\n",
       "\n",
       "    .dataframe tbody tr th {\n",
       "        vertical-align: top;\n",
       "    }\n",
       "\n",
       "    .dataframe thead th {\n",
       "        text-align: right;\n",
       "    }\n",
       "</style>\n",
       "<table border=\"1\" class=\"dataframe\">\n",
       "  <thead>\n",
       "    <tr style=\"text-align: right;\">\n",
       "      <th></th>\n",
       "      <th>All</th>\n",
       "      <th>Cardiomyocyte cell</th>\n",
       "      <th>Endothelial cell</th>\n",
       "      <th>Fibroblast</th>\n",
       "      <th>Lymphoid cell</th>\n",
       "      <th>Myeloid cell</th>\n",
       "      <th>Mesothelial cell</th>\n",
       "      <th>Adipocyte</th>\n",
       "      <th>Neuron</th>\n",
       "      <th>Pericyte</th>\n",
       "      <th>Smooth muscle cell</th>\n",
       "    </tr>\n",
       "  </thead>\n",
       "  <tbody>\n",
       "    <tr>\n",
       "      <th>seq_tech</th>\n",
       "      <td>0.0250</td>\n",
       "      <td>0.0520</td>\n",
       "      <td>0.0726</td>\n",
       "      <td>0.0105</td>\n",
       "      <td>0.0318</td>\n",
       "      <td>0.0406</td>\n",
       "      <td>0.8010</td>\n",
       "      <td>0.0000</td>\n",
       "      <td>0.0000</td>\n",
       "      <td>0.0241</td>\n",
       "      <td>0.0424</td>\n",
       "    </tr>\n",
       "    <tr>\n",
       "      <th>gender</th>\n",
       "      <td>0.0097</td>\n",
       "      <td>0.0477</td>\n",
       "      <td>0.0053</td>\n",
       "      <td>0.0280</td>\n",
       "      <td>0.0222</td>\n",
       "      <td>0.0184</td>\n",
       "      <td>0.1157</td>\n",
       "      <td>0.0193</td>\n",
       "      <td>0.0195</td>\n",
       "      <td>0.0087</td>\n",
       "      <td>0.0277</td>\n",
       "    </tr>\n",
       "    <tr>\n",
       "      <th>age</th>\n",
       "      <td>0.0967</td>\n",
       "      <td>0.1628</td>\n",
       "      <td>0.3102</td>\n",
       "      <td>0.2186</td>\n",
       "      <td>0.4028</td>\n",
       "      <td>0.3022</td>\n",
       "      <td>0.8254</td>\n",
       "      <td>0.0739</td>\n",
       "      <td>0.1736</td>\n",
       "      <td>0.1996</td>\n",
       "      <td>0.2190</td>\n",
       "    </tr>\n",
       "    <tr>\n",
       "      <th>subregion</th>\n",
       "      <td>0.0428</td>\n",
       "      <td>0.1321</td>\n",
       "      <td>0.0669</td>\n",
       "      <td>0.0963</td>\n",
       "      <td>0.0356</td>\n",
       "      <td>0.0350</td>\n",
       "      <td>0.3871</td>\n",
       "      <td>0.0510</td>\n",
       "      <td>0.0338</td>\n",
       "      <td>0.0400</td>\n",
       "      <td>0.0954</td>\n",
       "    </tr>\n",
       "    <tr>\n",
       "      <th>cell_type</th>\n",
       "      <td>0.3462</td>\n",
       "      <td>0.0000</td>\n",
       "      <td>0.0724</td>\n",
       "      <td>0.0283</td>\n",
       "      <td>0.5748</td>\n",
       "      <td>0.2421</td>\n",
       "      <td>0.0000</td>\n",
       "      <td>0.0000</td>\n",
       "      <td>0.0000</td>\n",
       "      <td>0.0000</td>\n",
       "      <td>0.0000</td>\n",
       "    </tr>\n",
       "  </tbody>\n",
       "</table>\n",
       "</div>"
      ],
      "text/plain": [
       "              All  Cardiomyocyte cell  Endothelial cell  Fibroblast  \\\n",
       "seq_tech   0.0250              0.0520            0.0726      0.0105   \n",
       "gender     0.0097              0.0477            0.0053      0.0280   \n",
       "age        0.0967              0.1628            0.3102      0.2186   \n",
       "subregion  0.0428              0.1321            0.0669      0.0963   \n",
       "cell_type  0.3462              0.0000            0.0724      0.0283   \n",
       "\n",
       "           Lymphoid cell  Myeloid cell  Mesothelial cell  Adipocyte  Neuron  \\\n",
       "seq_tech          0.0318        0.0406            0.8010     0.0000  0.0000   \n",
       "gender            0.0222        0.0184            0.1157     0.0193  0.0195   \n",
       "age               0.4028        0.3022            0.8254     0.0739  0.1736   \n",
       "subregion         0.0356        0.0350            0.3871     0.0510  0.0338   \n",
       "cell_type         0.5748        0.2421            0.0000     0.0000  0.0000   \n",
       "\n",
       "           Pericyte  Smooth muscle cell  \n",
       "seq_tech     0.0241              0.0424  \n",
       "gender       0.0087              0.0277  \n",
       "age          0.1996              0.2190  \n",
       "subregion    0.0400              0.0954  \n",
       "cell_type    0.0000              0.0000  "
      ]
     },
     "execution_count": 71,
     "metadata": {},
     "output_type": "execute_result"
    }
   ],
   "source": [
    "df_var_4plot"
   ]
  },
  {
   "cell_type": "code",
   "execution_count": 73,
   "metadata": {},
   "outputs": [],
   "source": [
    "df_mask = np.zeros_like(df_var_4plot)\n",
    "df_mask[4,1] = True\n",
    "df_mask[4,6:] = True\n",
    "df_mask[0,8:10] = True"
   ]
  },
  {
   "cell_type": "code",
   "execution_count": 74,
   "metadata": {},
   "outputs": [],
   "source": [
    "import seaborn as sns"
   ]
  },
  {
   "cell_type": "code",
   "execution_count": 75,
   "metadata": {},
   "outputs": [
    {
     "data": {
      "image/png": "[encoded data removed]",
      "text/plain": [
       "<Figure size 576x576 with 2 Axes>"
      ]
     },
     "metadata": {
      "needs_background": "light"
     },
     "output_type": "display_data"
    }
   ],
   "source": [
    "import matplotlib.pyplot as plt\n",
    "fig,ax =plt.subplots(figsize = (8,8))\n",
    "fig = sns.heatmap(df_var_4plot.transpose(),annot=True,cmap=\"Reds\",mask=df_mask.transpose())"
   ]
  },
  {
   "cell_type": "code",
   "execution_count": 76,
   "metadata": {},
   "outputs": [],
   "source": [
    "ax.get_figure().savefig(\"figures/Adult_raw.pdf\",dpi=500)"
   ]
  },
  {
   "cell_type": "markdown",
   "metadata": {},
   "source": [
    "# Adult_SCVI"
   ]
  },
  {
   "cell_type": "code",
   "execution_count": 77,
   "metadata": {},
   "outputs": [],
   "source": [
    "adata = sc.read_h5ad(\"/data3/cyx/ForDatabase0606/Adult.Heart.SCVI.h5ad\")"
   ]
  },
  {
   "cell_type": "code",
   "execution_count": 51,
   "metadata": {},
   "outputs": [],
   "source": [
    "df_meta = df.loc[:,['seq_tech', 'subregion', 'donor_gender', 'donor_age',\n",
    "       'MCT', 'donor_ID', 'Ref', 'cell_type']]"
   ]
  },
  {
   "cell_type": "code",
   "execution_count": 52,
   "metadata": {},
   "outputs": [],
   "source": [
    "df = pd.DataFrame(adata.obsm['X_scVI'])\n",
    "df.index = adata.obs.index\n",
    "df.loc[:,['seq_tech', 'subregion', 'donor_gender', 'donor_age',\n",
    "       'MCT', 'donor_ID', 'Ref', 'cell_type']] = df_meta"
   ]
  },
  {
   "cell_type": "code",
   "execution_count": 53,
   "metadata": {},
   "outputs": [],
   "source": [
    "var_list = [np.var(df.loc[:,x]) for x in df.columns[0:30]]\n",
    "var_ratio_list = var_list/sum(var_list)"
   ]
  },
  {
   "cell_type": "code",
   "execution_count": 54,
   "metadata": {
    "tags": []
   },
   "outputs": [],
   "source": [
    "covariat_list = [\"seq_tech\",\"subregion\",\"donor_gender\",\"donor_age\",\"donor_ID\",\"MCT\"]"
   ]
  },
  {
   "cell_type": "code",
   "execution_count": 55,
   "metadata": {},
   "outputs": [],
   "source": [
    "var_explained_list = []\n",
    "for covariat in covariat_list:\n",
    "    var_explained = 0\n",
    "    for i in range(30):\n",
    "        lm = LinearRegression()\n",
    "        x_dummy = pd.get_dummies(df[covariat])\n",
    "        lm.fit(x_dummy,df.loc[:,df.columns[i]])\n",
    "        var_explained += max(lm.score(x_dummy,df.loc[:,df.columns[i]]),0)* var_ratio_list[i]\n",
    "    var_explained_list.append(var_explained)"
   ]
  },
  {
   "cell_type": "code",
   "execution_count": 56,
   "metadata": {},
   "outputs": [],
   "source": [
    "df_var = pd.DataFrame(var_explained_list,columns=[\"All\"])\n",
    "df_var.index = covariat_list"
   ]
  },
  {
   "cell_type": "markdown",
   "metadata": {},
   "source": [
    "## MCTs"
   ]
  },
  {
   "cell_type": "code",
   "execution_count": 57,
   "metadata": {},
   "outputs": [],
   "source": [
    "df[\"cell_type\"] = df_meta.cell_type"
   ]
  },
  {
   "cell_type": "code",
   "execution_count": 58,
   "metadata": {},
   "outputs": [],
   "source": [
    "covariat_list = [\"seq_tech\",\"subregion\",\"donor_gender\",\"donor_age\",\"donor_ID\",\"cell_type\"]"
   ]
  },
  {
   "cell_type": "code",
   "execution_count": 59,
   "metadata": {},
   "outputs": [],
   "source": [
    "for ct in np.unique(df.MCT):\n",
    "    df_ct = df.loc[df.MCT==ct,:]\n",
    "    var_list_ct = [np.var(df_ct.loc[:,x]) for x in df_ct.columns[0:30]]\n",
    "    var_ratio_list_ct = var_list_ct/sum(var_list_ct)\n",
    "    var_explained_list = []\n",
    "    for covariat in covariat_list:\n",
    "        var_explained = 0\n",
    "        for i in range(30):\n",
    "            lm = LinearRegression()\n",
    "            x_dummy = pd.get_dummies(df_ct[covariat])\n",
    "            lm.fit(x_dummy,df_ct.loc[:,df_ct.columns[i]])\n",
    "            var_explained += max(lm.score(x_dummy,df_ct.loc[:,df_ct.columns[i]]),0)* var_ratio_list_ct[i]\n",
    "        var_explained_list.append(var_explained)\n",
    "        \n",
    "    df_var[ct] = var_explained_list"
   ]
  },
  {
   "cell_type": "code",
   "execution_count": 60,
   "metadata": {},
   "outputs": [],
   "source": [
    "df_var_bk = df_var"
   ]
  },
  {
   "cell_type": "code",
   "execution_count": 61,
   "metadata": {},
   "outputs": [],
   "source": [
    "df_var = df_var[['All', 'Cardiomyocyte cell','Endothelial cell', 'Fibroblast', 'Lymphoid cell', 'Myeloid cell',   'Mesothelial cell','Adipocyte', 'Neuron', 'Pericyte', 'Smooth muscle cell']]\n",
    "df_var = df_var.reindex(index=['seq_tech', 'donor_ID', 'donor_gender', 'donor_age', 'subregion',  'MCT'])\n",
    "df_var.index = ['seq_tech', 'donor', 'gender', 'age', 'subregion',  'cell_type']"
   ]
  },
  {
   "cell_type": "code",
   "execution_count": 62,
   "metadata": {
    "tags": []
   },
   "outputs": [],
   "source": [
    "df_var = round(df_var.astype(float),4)"
   ]
  },
  {
   "cell_type": "code",
   "execution_count": null,
   "metadata": {},
   "outputs": [],
   "source": []
  },
  {
   "cell_type": "markdown",
   "metadata": {},
   "source": [
    "## Plot"
   ]
  },
  {
   "cell_type": "code",
   "execution_count": 78,
   "metadata": {},
   "outputs": [],
   "source": [
    "df_var_4plot = df_var\n",
    "df_var_4plot = df_var_4plot.loc[['seq_tech', 'gender', 'age', 'subregion',  'cell_type'],:]"
   ]
  },
  {
   "cell_type": "code",
   "execution_count": 65,
   "metadata": {},
   "outputs": [],
   "source": [
    "df_var_4plot.to_csv(\"PCR_results/Adult_integrated.csv\")"
   ]
  },
  {
   "cell_type": "code",
   "execution_count": null,
   "metadata": {},
   "outputs": [],
   "source": []
  },
  {
   "cell_type": "code",
   "execution_count": 80,
   "metadata": {},
   "outputs": [],
   "source": [
    "df_mask = np.zeros_like(df_var_4plot)\n",
    "df_mask[4,1] = True\n",
    "df_mask[4,6:] = True\n",
    "df_mask[0,8:10] = True"
   ]
  },
  {
   "cell_type": "code",
   "execution_count": 81,
   "metadata": {},
   "outputs": [
    {
     "data": {
      "image/png": "[encoded data removed]",
      "text/plain": [
       "<Figure size 576x576 with 2 Axes>"
      ]
     },
     "metadata": {
      "needs_background": "light"
     },
     "output_type": "display_data"
    }
   ],
   "source": [
    "import matplotlib.pyplot as plt\n",
    "fig,ax =plt.subplots(figsize = (8,8))\n",
    "fig = sns.heatmap(df_var_4plot.transpose(),annot=True,cmap=\"Reds\",mask=df_mask.transpose())"
   ]
  },
  {
   "cell_type": "code",
   "execution_count": 82,
   "metadata": {},
   "outputs": [],
   "source": [
    "ax.get_figure().savefig(\"figures/Adult_integration.pdf\",dpi=500)"
   ]
  },
  {
   "cell_type": "code",
   "execution_count": null,
   "metadata": {},
   "outputs": [],
   "source": []
  },
  {
   "cell_type": "code",
   "execution_count": null,
   "metadata": {},
   "outputs": [],
   "source": []
  },
  {
   "cell_type": "markdown",
   "metadata": {},
   "source": [
    "# Fetal"
   ]
  },
  {
   "cell_type": "code",
   "execution_count": 83,
   "metadata": {},
   "outputs": [
    {
     "name": "stderr",
     "output_type": "stream",
     "text": [
      "/home/cyx/.local/lib/python3.8/site-packages/IPython/core/interactiveshell.py:3251: DtypeWarning: Columns (102) have mixed types.Specify dtype option on import or set low_memory=False.\n",
      "  exec(code_obj, self.user_global_ns, self.user_ns)\n"
     ]
    }
   ],
   "source": [
    "df = pd.read_csv(\"explore_variance_fetal.csv\",index_col=0)\n",
    "df.donor_age = [int(x[2:][:-1]) for x in df.donor_age]"
   ]
  },
  {
   "cell_type": "code",
   "execution_count": 84,
   "metadata": {},
   "outputs": [],
   "source": [
    "## there is NA in gender and subregions, so these two covariat should be calculated manually\n",
    "covariat_list = [\"seq_tech\",\"donor_age\",\"donor_ID\",\"MCT\"]"
   ]
  },
  {
   "cell_type": "code",
   "execution_count": 85,
   "metadata": {},
   "outputs": [],
   "source": [
    "var_list = [np.var(df.loc[:,x]) for x in df.columns[0:30]]\n",
    "var_ratio_list = var_list/sum(var_list)"
   ]
  },
  {
   "cell_type": "code",
   "execution_count": 86,
   "metadata": {},
   "outputs": [],
   "source": [
    "var_explained_list = []\n",
    "for covariat in covariat_list:\n",
    "    var_explained = 0\n",
    "    for i in range(30):\n",
    "        lm = LinearRegression()\n",
    "        x_dummy = pd.get_dummies(df[covariat])\n",
    "        lm.fit(x_dummy,df.loc[:,df.columns[i]])\n",
    "        var_explained += max(lm.score(x_dummy,df.loc[:,df.columns[i]]),0)* var_ratio_list[i]\n",
    "    var_explained_list.append(var_explained)"
   ]
  },
  {
   "cell_type": "code",
   "execution_count": 87,
   "metadata": {},
   "outputs": [],
   "source": [
    "for cov in [\"subregion\",\"donor_gender\"]:\n",
    "    df_corv = df[-pd.isna(df[cov])]\n",
    "    var_list_corv = [np.var(df_corv.loc[:,x]) for x in df_corv.columns[0:30]]\n",
    "    var_ratio_list_corv = var_list_corv/sum(var_list_corv)\n",
    "    \n",
    "    var_explained = 0\n",
    "    for i in range(30):\n",
    "        lm = LinearRegression()\n",
    "        x_dummy = pd.get_dummies(df_corv[cov])\n",
    "        lm.fit(x_dummy,df_corv.loc[:,df_corv.columns[i]])\n",
    "        var_explained += max(lm.score(x_dummy,df_corv.loc[:,df_corv.columns[i]]),0)* var_ratio_list[i]\n",
    "    var_explained_list.append(var_explained)"
   ]
  },
  {
   "cell_type": "code",
   "execution_count": 88,
   "metadata": {},
   "outputs": [],
   "source": [
    "df_var = pd.DataFrame(var_explained_list,columns=[\"All\"])\n",
    "df_var.index = [\"seq_tech\",\"donor_age\",\"donor_ID\",\"MCT\",\"subregion\",\"donor_gender\"]"
   ]
  },
  {
   "cell_type": "markdown",
   "metadata": {},
   "source": [
    "## MCTs"
   ]
  },
  {
   "cell_type": "code",
   "execution_count": 90,
   "metadata": {},
   "outputs": [],
   "source": [
    "covariat_list = [\"seq_tech\",\"donor_age\",\"donor_ID\",\"cell_type\",\"subregion\",\"donor_gender\"]"
   ]
  },
  {
   "cell_type": "code",
   "execution_count": 91,
   "metadata": {},
   "outputs": [
    {
     "data": {
      "text/plain": [
       "array(['Cardiomyocyte cell', 'Endothelial cell', 'Fibroblast',\n",
       "       'Lymphoid cell', 'Mesothelial cell', 'Myeloid cell', 'Neuron',\n",
       "       'Pericyte', 'Smooth muscle cell'], dtype=object)"
      ]
     },
     "execution_count": 91,
     "metadata": {},
     "output_type": "execute_result"
    }
   ],
   "source": [
    "np.unique(df.MCT)[0:9]"
   ]
  },
  {
   "cell_type": "code",
   "execution_count": 92,
   "metadata": {
    "tags": []
   },
   "outputs": [
    {
     "name": "stderr",
     "output_type": "stream",
     "text": [
      "/tmp/ipykernel_807731/3124365648.py:8: RuntimeWarning: invalid value encountered in true_divide\n",
      "  var_ratio_list_corv = var_list_corv/sum(var_list_corv)\n"
     ]
    }
   ],
   "source": [
    "# delet unknown\n",
    "for ct in np.unique(df.MCT)[0:9]:\n",
    "    df_ct = df.loc[df.MCT==ct,:]\n",
    "    var_explained_list = []\n",
    "    for cov in covariat_list:\n",
    "        df_corv = df_ct[-pd.isna(df_ct[cov])]\n",
    "        var_list_corv = [np.var(df_corv.loc[:,x]) for x in df_corv.columns[0:30]]\n",
    "        var_ratio_list_corv = var_list_corv/sum(var_list_corv)\n",
    "        var_explained = 0\n",
    "        if len(df_corv[cov])<40:\n",
    "            var_explained_list.append(var_explained)\n",
    "        else:\n",
    "            for i in range(30):\n",
    "                lm = LinearRegression()\n",
    "                x_dummy = pd.get_dummies(df_corv[cov])\n",
    "                lm.fit(x_dummy,df_corv.loc[:,df_corv.columns[i]])\n",
    "                var_explained += max(lm.score(x_dummy,df_corv.loc[:,df_corv.columns[i]]),0)* var_ratio_list[i]\n",
    "            var_explained_list.append(var_explained)\n",
    "\n",
    "    df_var[ct] = var_explained_list"
   ]
  },
  {
   "cell_type": "code",
   "execution_count": 93,
   "metadata": {},
   "outputs": [
    {
     "data": {
      "text/html": [
       "<div>\n",
       "<style scoped>\n",
       "    .dataframe tbody tr th:only-of-type {\n",
       "        vertical-align: middle;\n",
       "    }\n",
       "\n",
       "    .dataframe tbody tr th {\n",
       "        vertical-align: top;\n",
       "    }\n",
       "\n",
       "    .dataframe thead th {\n",
       "        text-align: right;\n",
       "    }\n",
       "</style>\n",
       "<table border=\"1\" class=\"dataframe\">\n",
       "  <thead>\n",
       "    <tr style=\"text-align: right;\">\n",
       "      <th></th>\n",
       "      <th>All</th>\n",
       "      <th>Cardiomyocyte cell</th>\n",
       "      <th>Endothelial cell</th>\n",
       "      <th>Fibroblast</th>\n",
       "      <th>Lymphoid cell</th>\n",
       "      <th>Mesothelial cell</th>\n",
       "      <th>Myeloid cell</th>\n",
       "      <th>Neuron</th>\n",
       "      <th>Pericyte</th>\n",
       "      <th>Smooth muscle cell</th>\n",
       "    </tr>\n",
       "  </thead>\n",
       "  <tbody>\n",
       "    <tr>\n",
       "      <th>seq_tech</th>\n",
       "      <td>0.399367</td>\n",
       "      <td>0.535994</td>\n",
       "      <td>0.517826</td>\n",
       "      <td>0.533508</td>\n",
       "      <td>0.531904</td>\n",
       "      <td>0.578872</td>\n",
       "      <td>0.543963</td>\n",
       "      <td>0.501825</td>\n",
       "      <td>0.595944</td>\n",
       "      <td>0.527346</td>\n",
       "    </tr>\n",
       "    <tr>\n",
       "      <th>donor_age</th>\n",
       "      <td>0.403861</td>\n",
       "      <td>0.455030</td>\n",
       "      <td>0.485250</td>\n",
       "      <td>0.582923</td>\n",
       "      <td>0.539944</td>\n",
       "      <td>0.646132</td>\n",
       "      <td>0.584605</td>\n",
       "      <td>0.520746</td>\n",
       "      <td>0.572544</td>\n",
       "      <td>0.508117</td>\n",
       "    </tr>\n",
       "    <tr>\n",
       "      <th>donor_ID</th>\n",
       "      <td>0.489133</td>\n",
       "      <td>0.625499</td>\n",
       "      <td>0.597252</td>\n",
       "      <td>0.666097</td>\n",
       "      <td>0.649103</td>\n",
       "      <td>0.685980</td>\n",
       "      <td>0.666963</td>\n",
       "      <td>0.532817</td>\n",
       "      <td>0.738195</td>\n",
       "      <td>0.616749</td>\n",
       "    </tr>\n",
       "    <tr>\n",
       "      <th>MCT</th>\n",
       "      <td>0.181289</td>\n",
       "      <td>0.000000</td>\n",
       "      <td>0.035524</td>\n",
       "      <td>0.092515</td>\n",
       "      <td>0.045055</td>\n",
       "      <td>0.000000</td>\n",
       "      <td>0.130645</td>\n",
       "      <td>0.000000</td>\n",
       "      <td>0.000000</td>\n",
       "      <td>0.000000</td>\n",
       "    </tr>\n",
       "    <tr>\n",
       "      <th>subregion</th>\n",
       "      <td>0.196436</td>\n",
       "      <td>0.084250</td>\n",
       "      <td>0.201558</td>\n",
       "      <td>0.374564</td>\n",
       "      <td>0.280949</td>\n",
       "      <td>0.231881</td>\n",
       "      <td>0.258530</td>\n",
       "      <td>0.000000</td>\n",
       "      <td>0.190060</td>\n",
       "      <td>0.280444</td>\n",
       "    </tr>\n",
       "    <tr>\n",
       "      <th>donor_gender</th>\n",
       "      <td>0.005181</td>\n",
       "      <td>0.005829</td>\n",
       "      <td>0.006039</td>\n",
       "      <td>0.014446</td>\n",
       "      <td>0.002058</td>\n",
       "      <td>0.002937</td>\n",
       "      <td>0.014397</td>\n",
       "      <td>0.009304</td>\n",
       "      <td>0.092578</td>\n",
       "      <td>0.020117</td>\n",
       "    </tr>\n",
       "  </tbody>\n",
       "</table>\n",
       "</div>"
      ],
      "text/plain": [
       "                   All  Cardiomyocyte cell  Endothelial cell  Fibroblast  \\\n",
       "seq_tech      0.399367            0.535994          0.517826    0.533508   \n",
       "donor_age     0.403861            0.455030          0.485250    0.582923   \n",
       "donor_ID      0.489133            0.625499          0.597252    0.666097   \n",
       "MCT           0.181289            0.000000          0.035524    0.092515   \n",
       "subregion     0.196436            0.084250          0.201558    0.374564   \n",
       "donor_gender  0.005181            0.005829          0.006039    0.014446   \n",
       "\n",
       "              Lymphoid cell  Mesothelial cell  Myeloid cell    Neuron  \\\n",
       "seq_tech           0.531904          0.578872      0.543963  0.501825   \n",
       "donor_age          0.539944          0.646132      0.584605  0.520746   \n",
       "donor_ID           0.649103          0.685980      0.666963  0.532817   \n",
       "MCT                0.045055          0.000000      0.130645  0.000000   \n",
       "subregion          0.280949          0.231881      0.258530  0.000000   \n",
       "donor_gender       0.002058          0.002937      0.014397  0.009304   \n",
       "\n",
       "              Pericyte  Smooth muscle cell  \n",
       "seq_tech      0.595944            0.527346  \n",
       "donor_age     0.572544            0.508117  \n",
       "donor_ID      0.738195            0.616749  \n",
       "MCT           0.000000            0.000000  \n",
       "subregion     0.190060            0.280444  \n",
       "donor_gender  0.092578            0.020117  "
      ]
     },
     "execution_count": 93,
     "metadata": {},
     "output_type": "execute_result"
    }
   ],
   "source": [
    "df_var"
   ]
  },
  {
   "cell_type": "code",
   "execution_count": 94,
   "metadata": {},
   "outputs": [],
   "source": [
    "df_var_bk = df_var"
   ]
  },
  {
   "cell_type": "code",
   "execution_count": 95,
   "metadata": {},
   "outputs": [],
   "source": [
    "df_var = df_var.reindex(index=['seq_tech', 'donor_ID', 'donor_gender', 'donor_age', 'subregion',  'MCT'])\n",
    "df_var.index = ['seq_tech', 'donor', 'gender', 'age', 'subregion',  'cell_type']"
   ]
  },
  {
   "cell_type": "code",
   "execution_count": 96,
   "metadata": {},
   "outputs": [
    {
     "data": {
      "text/html": [
       "<div>\n",
       "<style scoped>\n",
       "    .dataframe tbody tr th:only-of-type {\n",
       "        vertical-align: middle;\n",
       "    }\n",
       "\n",
       "    .dataframe tbody tr th {\n",
       "        vertical-align: top;\n",
       "    }\n",
       "\n",
       "    .dataframe thead th {\n",
       "        text-align: right;\n",
       "    }\n",
       "</style>\n",
       "<table border=\"1\" class=\"dataframe\">\n",
       "  <thead>\n",
       "    <tr style=\"text-align: right;\">\n",
       "      <th></th>\n",
       "      <th>All</th>\n",
       "      <th>Cardiomyocyte cell</th>\n",
       "      <th>Endothelial cell</th>\n",
       "      <th>Fibroblast</th>\n",
       "      <th>Lymphoid cell</th>\n",
       "      <th>Mesothelial cell</th>\n",
       "      <th>Myeloid cell</th>\n",
       "      <th>Neuron</th>\n",
       "      <th>Pericyte</th>\n",
       "      <th>Smooth muscle cell</th>\n",
       "    </tr>\n",
       "  </thead>\n",
       "  <tbody>\n",
       "    <tr>\n",
       "      <th>seq_tech</th>\n",
       "      <td>0.399367</td>\n",
       "      <td>0.535994</td>\n",
       "      <td>0.517826</td>\n",
       "      <td>0.533508</td>\n",
       "      <td>0.531904</td>\n",
       "      <td>0.578872</td>\n",
       "      <td>0.543963</td>\n",
       "      <td>0.501825</td>\n",
       "      <td>0.595944</td>\n",
       "      <td>0.527346</td>\n",
       "    </tr>\n",
       "    <tr>\n",
       "      <th>donor</th>\n",
       "      <td>0.489133</td>\n",
       "      <td>0.625499</td>\n",
       "      <td>0.597252</td>\n",
       "      <td>0.666097</td>\n",
       "      <td>0.649103</td>\n",
       "      <td>0.685980</td>\n",
       "      <td>0.666963</td>\n",
       "      <td>0.532817</td>\n",
       "      <td>0.738195</td>\n",
       "      <td>0.616749</td>\n",
       "    </tr>\n",
       "    <tr>\n",
       "      <th>gender</th>\n",
       "      <td>0.005181</td>\n",
       "      <td>0.005829</td>\n",
       "      <td>0.006039</td>\n",
       "      <td>0.014446</td>\n",
       "      <td>0.002058</td>\n",
       "      <td>0.002937</td>\n",
       "      <td>0.014397</td>\n",
       "      <td>0.009304</td>\n",
       "      <td>0.092578</td>\n",
       "      <td>0.020117</td>\n",
       "    </tr>\n",
       "    <tr>\n",
       "      <th>age</th>\n",
       "      <td>0.403861</td>\n",
       "      <td>0.455030</td>\n",
       "      <td>0.485250</td>\n",
       "      <td>0.582923</td>\n",
       "      <td>0.539944</td>\n",
       "      <td>0.646132</td>\n",
       "      <td>0.584605</td>\n",
       "      <td>0.520746</td>\n",
       "      <td>0.572544</td>\n",
       "      <td>0.508117</td>\n",
       "    </tr>\n",
       "    <tr>\n",
       "      <th>subregion</th>\n",
       "      <td>0.196436</td>\n",
       "      <td>0.084250</td>\n",
       "      <td>0.201558</td>\n",
       "      <td>0.374564</td>\n",
       "      <td>0.280949</td>\n",
       "      <td>0.231881</td>\n",
       "      <td>0.258530</td>\n",
       "      <td>0.000000</td>\n",
       "      <td>0.190060</td>\n",
       "      <td>0.280444</td>\n",
       "    </tr>\n",
       "    <tr>\n",
       "      <th>cell_type</th>\n",
       "      <td>0.181289</td>\n",
       "      <td>0.000000</td>\n",
       "      <td>0.035524</td>\n",
       "      <td>0.092515</td>\n",
       "      <td>0.045055</td>\n",
       "      <td>0.000000</td>\n",
       "      <td>0.130645</td>\n",
       "      <td>0.000000</td>\n",
       "      <td>0.000000</td>\n",
       "      <td>0.000000</td>\n",
       "    </tr>\n",
       "  </tbody>\n",
       "</table>\n",
       "</div>"
      ],
      "text/plain": [
       "                All  Cardiomyocyte cell  Endothelial cell  Fibroblast  \\\n",
       "seq_tech   0.399367            0.535994          0.517826    0.533508   \n",
       "donor      0.489133            0.625499          0.597252    0.666097   \n",
       "gender     0.005181            0.005829          0.006039    0.014446   \n",
       "age        0.403861            0.455030          0.485250    0.582923   \n",
       "subregion  0.196436            0.084250          0.201558    0.374564   \n",
       "cell_type  0.181289            0.000000          0.035524    0.092515   \n",
       "\n",
       "           Lymphoid cell  Mesothelial cell  Myeloid cell    Neuron  Pericyte  \\\n",
       "seq_tech        0.531904          0.578872      0.543963  0.501825  0.595944   \n",
       "donor           0.649103          0.685980      0.666963  0.532817  0.738195   \n",
       "gender          0.002058          0.002937      0.014397  0.009304  0.092578   \n",
       "age             0.539944          0.646132      0.584605  0.520746  0.572544   \n",
       "subregion       0.280949          0.231881      0.258530  0.000000  0.190060   \n",
       "cell_type       0.045055          0.000000      0.130645  0.000000  0.000000   \n",
       "\n",
       "           Smooth muscle cell  \n",
       "seq_tech             0.527346  \n",
       "donor                0.616749  \n",
       "gender               0.020117  \n",
       "age                  0.508117  \n",
       "subregion            0.280444  \n",
       "cell_type            0.000000  "
      ]
     },
     "execution_count": 96,
     "metadata": {},
     "output_type": "execute_result"
    }
   ],
   "source": [
    "df_var"
   ]
  },
  {
   "cell_type": "code",
   "execution_count": 97,
   "metadata": {
    "tags": []
   },
   "outputs": [],
   "source": [
    "df_var = round(df_var.astype(float),4)"
   ]
  },
  {
   "cell_type": "code",
   "execution_count": 98,
   "metadata": {},
   "outputs": [
    {
     "data": {
      "text/html": [
       "<div>\n",
       "<style scoped>\n",
       "    .dataframe tbody tr th:only-of-type {\n",
       "        vertical-align: middle;\n",
       "    }\n",
       "\n",
       "    .dataframe tbody tr th {\n",
       "        vertical-align: top;\n",
       "    }\n",
       "\n",
       "    .dataframe thead th {\n",
       "        text-align: right;\n",
       "    }\n",
       "</style>\n",
       "<table border=\"1\" class=\"dataframe\">\n",
       "  <thead>\n",
       "    <tr style=\"text-align: right;\">\n",
       "      <th></th>\n",
       "      <th>All</th>\n",
       "      <th>Cardiomyocyte cell</th>\n",
       "      <th>Endothelial cell</th>\n",
       "      <th>Fibroblast</th>\n",
       "      <th>Lymphoid cell</th>\n",
       "      <th>Mesothelial cell</th>\n",
       "      <th>Myeloid cell</th>\n",
       "      <th>Neuron</th>\n",
       "      <th>Pericyte</th>\n",
       "      <th>Smooth muscle cell</th>\n",
       "    </tr>\n",
       "  </thead>\n",
       "  <tbody>\n",
       "    <tr>\n",
       "      <th>seq_tech</th>\n",
       "      <td>0.3994</td>\n",
       "      <td>0.5360</td>\n",
       "      <td>0.5178</td>\n",
       "      <td>0.5335</td>\n",
       "      <td>0.5319</td>\n",
       "      <td>0.5789</td>\n",
       "      <td>0.5440</td>\n",
       "      <td>0.5018</td>\n",
       "      <td>0.5959</td>\n",
       "      <td>0.5273</td>\n",
       "    </tr>\n",
       "    <tr>\n",
       "      <th>donor</th>\n",
       "      <td>0.4891</td>\n",
       "      <td>0.6255</td>\n",
       "      <td>0.5973</td>\n",
       "      <td>0.6661</td>\n",
       "      <td>0.6491</td>\n",
       "      <td>0.6860</td>\n",
       "      <td>0.6670</td>\n",
       "      <td>0.5328</td>\n",
       "      <td>0.7382</td>\n",
       "      <td>0.6167</td>\n",
       "    </tr>\n",
       "    <tr>\n",
       "      <th>gender</th>\n",
       "      <td>0.0052</td>\n",
       "      <td>0.0058</td>\n",
       "      <td>0.0060</td>\n",
       "      <td>0.0144</td>\n",
       "      <td>0.0021</td>\n",
       "      <td>0.0029</td>\n",
       "      <td>0.0144</td>\n",
       "      <td>0.0093</td>\n",
       "      <td>0.0926</td>\n",
       "      <td>0.0201</td>\n",
       "    </tr>\n",
       "    <tr>\n",
       "      <th>age</th>\n",
       "      <td>0.4039</td>\n",
       "      <td>0.4550</td>\n",
       "      <td>0.4852</td>\n",
       "      <td>0.5829</td>\n",
       "      <td>0.5399</td>\n",
       "      <td>0.6461</td>\n",
       "      <td>0.5846</td>\n",
       "      <td>0.5207</td>\n",
       "      <td>0.5725</td>\n",
       "      <td>0.5081</td>\n",
       "    </tr>\n",
       "    <tr>\n",
       "      <th>subregion</th>\n",
       "      <td>0.1964</td>\n",
       "      <td>0.0842</td>\n",
       "      <td>0.2016</td>\n",
       "      <td>0.3746</td>\n",
       "      <td>0.2809</td>\n",
       "      <td>0.2319</td>\n",
       "      <td>0.2585</td>\n",
       "      <td>0.0000</td>\n",
       "      <td>0.1901</td>\n",
       "      <td>0.2804</td>\n",
       "    </tr>\n",
       "    <tr>\n",
       "      <th>cell_type</th>\n",
       "      <td>0.1813</td>\n",
       "      <td>0.0000</td>\n",
       "      <td>0.0355</td>\n",
       "      <td>0.0925</td>\n",
       "      <td>0.0451</td>\n",
       "      <td>0.0000</td>\n",
       "      <td>0.1306</td>\n",
       "      <td>0.0000</td>\n",
       "      <td>0.0000</td>\n",
       "      <td>0.0000</td>\n",
       "    </tr>\n",
       "  </tbody>\n",
       "</table>\n",
       "</div>"
      ],
      "text/plain": [
       "              All  Cardiomyocyte cell  Endothelial cell  Fibroblast  \\\n",
       "seq_tech   0.3994              0.5360            0.5178      0.5335   \n",
       "donor      0.4891              0.6255            0.5973      0.6661   \n",
       "gender     0.0052              0.0058            0.0060      0.0144   \n",
       "age        0.4039              0.4550            0.4852      0.5829   \n",
       "subregion  0.1964              0.0842            0.2016      0.3746   \n",
       "cell_type  0.1813              0.0000            0.0355      0.0925   \n",
       "\n",
       "           Lymphoid cell  Mesothelial cell  Myeloid cell  Neuron  Pericyte  \\\n",
       "seq_tech          0.5319            0.5789        0.5440  0.5018    0.5959   \n",
       "donor             0.6491            0.6860        0.6670  0.5328    0.7382   \n",
       "gender            0.0021            0.0029        0.0144  0.0093    0.0926   \n",
       "age               0.5399            0.6461        0.5846  0.5207    0.5725   \n",
       "subregion         0.2809            0.2319        0.2585  0.0000    0.1901   \n",
       "cell_type         0.0451            0.0000        0.1306  0.0000    0.0000   \n",
       "\n",
       "           Smooth muscle cell  \n",
       "seq_tech               0.5273  \n",
       "donor                  0.6167  \n",
       "gender                 0.0201  \n",
       "age                    0.5081  \n",
       "subregion              0.2804  \n",
       "cell_type              0.0000  "
      ]
     },
     "execution_count": 98,
     "metadata": {},
     "output_type": "execute_result"
    }
   ],
   "source": [
    "df_var"
   ]
  },
  {
   "cell_type": "markdown",
   "metadata": {},
   "source": [
    "## Plot"
   ]
  },
  {
   "cell_type": "code",
   "execution_count": 99,
   "metadata": {},
   "outputs": [],
   "source": [
    "df_var_4plot = df_var\n",
    "df_var_4plot = df_var_4plot.drop('donor',axis=0)"
   ]
  },
  {
   "cell_type": "code",
   "execution_count": 100,
   "metadata": {},
   "outputs": [],
   "source": [
    "df_var_4plot.to_csv(\"PCR_results/Fetal_raw.csv\")"
   ]
  },
  {
   "cell_type": "code",
   "execution_count": 101,
   "metadata": {},
   "outputs": [],
   "source": [
    "df_mask = np.zeros_like(df_var_4plot)\n",
    "df_mask[4,1] = True\n",
    "df_mask[4,5] = True\n",
    "df_mask[4,7:10] = True\n",
    "df_mask[3,7] = True"
   ]
  },
  {
   "cell_type": "code",
   "execution_count": 102,
   "metadata": {},
   "outputs": [],
   "source": [
    "import seaborn as sns"
   ]
  },
  {
   "cell_type": "code",
   "execution_count": 105,
   "metadata": {},
   "outputs": [
    {
     "data": {
      "image/png": "[encoded data removed]",
      "text/plain": [
       "<Figure size 576x576 with 2 Axes>"
      ]
     },
     "metadata": {
      "needs_background": "light"
     },
     "output_type": "display_data"
    }
   ],
   "source": [
    "fig,ax =plt.subplots(figsize = (8,8))\n",
    "fig = sns.heatmap(df_var_4plot.transpose(),annot=True,cmap=\"Reds\",mask=df_mask.transpose())"
   ]
  },
  {
   "cell_type": "code",
   "execution_count": 106,
   "metadata": {},
   "outputs": [],
   "source": [
    "ax.get_figure().savefig(\"figures/Fetal_raw.pdf\",dpi=500)"
   ]
  },
  {
   "cell_type": "markdown",
   "metadata": {},
   "source": [
    "# Fetal_SCVI"
   ]
  },
  {
   "cell_type": "code",
   "execution_count": 104,
   "metadata": {},
   "outputs": [],
   "source": [
    "adata = sc.read_h5ad(\"/data3/cyx/ForDatabase0606/Fetal.Heart.SCVI.h5ad\")"
   ]
  },
  {
   "cell_type": "code",
   "execution_count": 107,
   "metadata": {},
   "outputs": [],
   "source": [
    "df = pd.DataFrame(adata.obsm['X_scVI'])\n",
    "df.index = adata.obs.index"
   ]
  },
  {
   "cell_type": "code",
   "execution_count": 108,
   "metadata": {},
   "outputs": [],
   "source": [
    "df[\"seq_tech\"] = adata.obs.seq_tech\n",
    "df[\"subregion\"] = adata.obs.subregion\n",
    "df[\"donor_gender\"] = adata.obs.donor_gender\n",
    "df[\"donor_age\"] = [int(x[2:][:-1]) for x in adata.obs.donor_age]\n",
    "df[\"MCT\"] = adata.obs.MCT\n",
    "df[\"cell_type\"] = adata.obs.cell_type\n",
    "df[\"donor_ID\"] = adata.obs.donor_ID\n",
    "df[\"Ref\"] = adata.obs.Ref"
   ]
  },
  {
   "cell_type": "code",
   "execution_count": 109,
   "metadata": {},
   "outputs": [
    {
     "data": {
      "text/plain": [
       "['Unknown', 'Smooth muscle cell', 'Fibroblast', 'Cardiomyocyte cell', 'Endothelial cell', 'Neuron', 'Mesothelial cell', 'Pericyte', 'Myeloid cell', 'Lymphoid cell']\n",
       "Categories (10, object): ['Cardiomyocyte cell', 'Endothelial cell', 'Fibroblast', 'Lymphoid cell', ..., 'Neuron', 'Pericyte', 'Smooth muscle cell', 'Unknown']"
      ]
     },
     "execution_count": 109,
     "metadata": {},
     "output_type": "execute_result"
    }
   ],
   "source": [
    "pd.unique(df.MCT)"
   ]
  },
  {
   "cell_type": "code",
   "execution_count": 110,
   "metadata": {},
   "outputs": [],
   "source": [
    "## there is NA in gender and subregions, so these two covariat should be calculated manually\n",
    "covariat_list = [\"seq_tech\",\"donor_age\",\"donor_ID\",\"cell_type\"]"
   ]
  },
  {
   "cell_type": "code",
   "execution_count": 111,
   "metadata": {},
   "outputs": [],
   "source": [
    "var_list = [np.var(df.loc[:,x]) for x in df.columns[0:30]]\n",
    "var_ratio_list = var_list/sum(var_list)"
   ]
  },
  {
   "cell_type": "code",
   "execution_count": 112,
   "metadata": {},
   "outputs": [],
   "source": [
    "var_explained_list = []\n",
    "for covariat in covariat_list:\n",
    "    var_explained = 0\n",
    "    for i in range(30):\n",
    "        lm = LinearRegression()\n",
    "        x_dummy = pd.get_dummies(df[covariat])\n",
    "        lm.fit(x_dummy,df.loc[:,df.columns[i]])\n",
    "        var_explained += max(lm.score(x_dummy,df.loc[:,df.columns[i]]),0)* var_ratio_list[i]\n",
    "    var_explained_list.append(var_explained)"
   ]
  },
  {
   "cell_type": "code",
   "execution_count": 113,
   "metadata": {},
   "outputs": [],
   "source": [
    "for cov in [\"subregion\",\"donor_gender\"]:\n",
    "    df_corv = df[-pd.isna(df[cov])]\n",
    "    var_list_corv = [np.var(df_corv.loc[:,x]) for x in df_corv.columns[0:30]]\n",
    "    var_ratio_list_corv = var_list_corv/sum(var_list_corv)\n",
    "    \n",
    "    var_explained = 0\n",
    "    for i in range(30):\n",
    "        lm = LinearRegression()\n",
    "        x_dummy = pd.get_dummies(df_corv[cov])\n",
    "        lm.fit(x_dummy,df_corv.loc[:,df_corv.columns[i]])\n",
    "        var_explained += max(lm.score(x_dummy,df_corv.loc[:,df_corv.columns[i]]),0)* var_ratio_list[i]\n",
    "    var_explained_list.append(var_explained)"
   ]
  },
  {
   "cell_type": "code",
   "execution_count": 114,
   "metadata": {
    "tags": []
   },
   "outputs": [],
   "source": [
    "df_var = pd.DataFrame(var_explained_list,columns=[\"All\"])\n",
    "df_var.index = [\"seq_tech\",\"donor_age\",\"donor_ID\",\"cell_type\",\"subregion\",\"donor_gender\"]"
   ]
  },
  {
   "cell_type": "code",
   "execution_count": 115,
   "metadata": {},
   "outputs": [
    {
     "data": {
      "text/html": [
       "<div>\n",
       "<style scoped>\n",
       "    .dataframe tbody tr th:only-of-type {\n",
       "        vertical-align: middle;\n",
       "    }\n",
       "\n",
       "    .dataframe tbody tr th {\n",
       "        vertical-align: top;\n",
       "    }\n",
       "\n",
       "    .dataframe thead th {\n",
       "        text-align: right;\n",
       "    }\n",
       "</style>\n",
       "<table border=\"1\" class=\"dataframe\">\n",
       "  <thead>\n",
       "    <tr style=\"text-align: right;\">\n",
       "      <th></th>\n",
       "      <th>All</th>\n",
       "    </tr>\n",
       "  </thead>\n",
       "  <tbody>\n",
       "    <tr>\n",
       "      <th>seq_tech</th>\n",
       "      <td>0.012948</td>\n",
       "    </tr>\n",
       "    <tr>\n",
       "      <th>donor_age</th>\n",
       "      <td>0.038916</td>\n",
       "    </tr>\n",
       "    <tr>\n",
       "      <th>donor_ID</th>\n",
       "      <td>0.050416</td>\n",
       "    </tr>\n",
       "    <tr>\n",
       "      <th>cell_type</th>\n",
       "      <td>0.165651</td>\n",
       "    </tr>\n",
       "    <tr>\n",
       "      <th>subregion</th>\n",
       "      <td>0.008232</td>\n",
       "    </tr>\n",
       "    <tr>\n",
       "      <th>donor_gender</th>\n",
       "      <td>0.011231</td>\n",
       "    </tr>\n",
       "  </tbody>\n",
       "</table>\n",
       "</div>"
      ],
      "text/plain": [
       "                   All\n",
       "seq_tech      0.012948\n",
       "donor_age     0.038916\n",
       "donor_ID      0.050416\n",
       "cell_type     0.165651\n",
       "subregion     0.008232\n",
       "donor_gender  0.011231"
      ]
     },
     "execution_count": 115,
     "metadata": {},
     "output_type": "execute_result"
    }
   ],
   "source": [
    "df_var"
   ]
  },
  {
   "cell_type": "markdown",
   "metadata": {},
   "source": [
    "## MCTs"
   ]
  },
  {
   "cell_type": "code",
   "execution_count": 116,
   "metadata": {},
   "outputs": [],
   "source": [
    "covariat_list = [\"seq_tech\",\"donor_age\",\"donor_ID\",\"cell_type\",\"subregion\",\"donor_gender\"]"
   ]
  },
  {
   "cell_type": "code",
   "execution_count": 117,
   "metadata": {},
   "outputs": [
    {
     "data": {
      "text/plain": [
       "array(['Cardiomyocyte cell', 'Endothelial cell', 'Fibroblast',\n",
       "       'Lymphoid cell', 'Mesothelial cell', 'Myeloid cell', 'Neuron',\n",
       "       'Pericyte', 'Smooth muscle cell'], dtype=object)"
      ]
     },
     "execution_count": 117,
     "metadata": {},
     "output_type": "execute_result"
    }
   ],
   "source": [
    "np.unique(df.MCT)[0:9]"
   ]
  },
  {
   "cell_type": "code",
   "execution_count": 118,
   "metadata": {
    "tags": []
   },
   "outputs": [],
   "source": [
    "# delet unknown\n",
    "for ct in np.unique(df.MCT)[0:9]:\n",
    "    df_ct = df.loc[df.MCT==ct,:]\n",
    "    var_explained_list = []\n",
    "    for cov in covariat_list:\n",
    "        df_corv = df_ct[-pd.isna(df_ct[cov])]\n",
    "        var_list_corv = [np.var(df_corv.loc[:,x]) for x in df_corv.columns[0:30]]\n",
    "        var_ratio_list_corv = var_list_corv/sum(var_list_corv)\n",
    "        var_explained = 0\n",
    "        if len(df_corv[cov])<40:\n",
    "            var_explained_list.append(var_explained)\n",
    "        else:\n",
    "            for i in range(30):\n",
    "                lm = LinearRegression()\n",
    "                x_dummy = pd.get_dummies(df_corv[cov])\n",
    "                lm.fit(x_dummy,df_corv.loc[:,df_corv.columns[i]])\n",
    "                var_explained += max(lm.score(x_dummy,df_corv.loc[:,df_corv.columns[i]]),0)* var_ratio_list[i]\n",
    "            var_explained_list.append(var_explained)\n",
    "\n",
    "    df_var[ct] = var_explained_list"
   ]
  },
  {
   "cell_type": "code",
   "execution_count": 119,
   "metadata": {},
   "outputs": [
    {
     "data": {
      "text/html": [
       "<div>\n",
       "<style scoped>\n",
       "    .dataframe tbody tr th:only-of-type {\n",
       "        vertical-align: middle;\n",
       "    }\n",
       "\n",
       "    .dataframe tbody tr th {\n",
       "        vertical-align: top;\n",
       "    }\n",
       "\n",
       "    .dataframe thead th {\n",
       "        text-align: right;\n",
       "    }\n",
       "</style>\n",
       "<table border=\"1\" class=\"dataframe\">\n",
       "  <thead>\n",
       "    <tr style=\"text-align: right;\">\n",
       "      <th></th>\n",
       "      <th>All</th>\n",
       "      <th>Cardiomyocyte cell</th>\n",
       "      <th>Endothelial cell</th>\n",
       "      <th>Fibroblast</th>\n",
       "      <th>Lymphoid cell</th>\n",
       "      <th>Mesothelial cell</th>\n",
       "      <th>Myeloid cell</th>\n",
       "      <th>Neuron</th>\n",
       "      <th>Pericyte</th>\n",
       "      <th>Smooth muscle cell</th>\n",
       "    </tr>\n",
       "  </thead>\n",
       "  <tbody>\n",
       "    <tr>\n",
       "      <th>seq_tech</th>\n",
       "      <td>0.012948</td>\n",
       "      <td>1.438250e-02</td>\n",
       "      <td>0.022031</td>\n",
       "      <td>0.047312</td>\n",
       "      <td>0.026496</td>\n",
       "      <td>6.782915e-02</td>\n",
       "      <td>0.079520</td>\n",
       "      <td>6.278591e-02</td>\n",
       "      <td>2.042943e-01</td>\n",
       "      <td>7.566623e-02</td>\n",
       "    </tr>\n",
       "    <tr>\n",
       "      <th>donor_age</th>\n",
       "      <td>0.038916</td>\n",
       "      <td>4.197997e-02</td>\n",
       "      <td>0.049594</td>\n",
       "      <td>0.097316</td>\n",
       "      <td>0.055074</td>\n",
       "      <td>1.193280e-01</td>\n",
       "      <td>0.133606</td>\n",
       "      <td>8.828299e-02</td>\n",
       "      <td>3.207214e-01</td>\n",
       "      <td>1.173239e-01</td>\n",
       "    </tr>\n",
       "    <tr>\n",
       "      <th>donor_ID</th>\n",
       "      <td>0.050416</td>\n",
       "      <td>5.703701e-02</td>\n",
       "      <td>0.060116</td>\n",
       "      <td>0.108984</td>\n",
       "      <td>0.084501</td>\n",
       "      <td>1.353584e-01</td>\n",
       "      <td>0.159042</td>\n",
       "      <td>1.022559e-01</td>\n",
       "      <td>4.200596e-01</td>\n",
       "      <td>1.271132e-01</td>\n",
       "    </tr>\n",
       "    <tr>\n",
       "      <th>cell_type</th>\n",
       "      <td>0.165651</td>\n",
       "      <td>2.811470e-09</td>\n",
       "      <td>0.051662</td>\n",
       "      <td>0.023409</td>\n",
       "      <td>0.100253</td>\n",
       "      <td>4.664927e-09</td>\n",
       "      <td>0.029303</td>\n",
       "      <td>5.549299e-09</td>\n",
       "      <td>2.022121e-09</td>\n",
       "      <td>3.093695e-09</td>\n",
       "    </tr>\n",
       "    <tr>\n",
       "      <th>subregion</th>\n",
       "      <td>0.008232</td>\n",
       "      <td>8.423267e-03</td>\n",
       "      <td>0.008375</td>\n",
       "      <td>0.025021</td>\n",
       "      <td>0.034353</td>\n",
       "      <td>6.059943e-02</td>\n",
       "      <td>0.066422</td>\n",
       "      <td>2.835911e-03</td>\n",
       "      <td>1.961578e-01</td>\n",
       "      <td>8.923574e-03</td>\n",
       "    </tr>\n",
       "    <tr>\n",
       "      <th>donor_gender</th>\n",
       "      <td>0.011231</td>\n",
       "      <td>1.476565e-02</td>\n",
       "      <td>0.018969</td>\n",
       "      <td>0.026749</td>\n",
       "      <td>0.015572</td>\n",
       "      <td>6.006733e-02</td>\n",
       "      <td>0.022063</td>\n",
       "      <td>1.683666e-02</td>\n",
       "      <td>9.525679e-02</td>\n",
       "      <td>5.519775e-02</td>\n",
       "    </tr>\n",
       "  </tbody>\n",
       "</table>\n",
       "</div>"
      ],
      "text/plain": [
       "                   All  Cardiomyocyte cell  Endothelial cell  Fibroblast  \\\n",
       "seq_tech      0.012948        1.438250e-02          0.022031    0.047312   \n",
       "donor_age     0.038916        4.197997e-02          0.049594    0.097316   \n",
       "donor_ID      0.050416        5.703701e-02          0.060116    0.108984   \n",
       "cell_type     0.165651        2.811470e-09          0.051662    0.023409   \n",
       "subregion     0.008232        8.423267e-03          0.008375    0.025021   \n",
       "donor_gender  0.011231        1.476565e-02          0.018969    0.026749   \n",
       "\n",
       "              Lymphoid cell  Mesothelial cell  Myeloid cell        Neuron  \\\n",
       "seq_tech           0.026496      6.782915e-02      0.079520  6.278591e-02   \n",
       "donor_age          0.055074      1.193280e-01      0.133606  8.828299e-02   \n",
       "donor_ID           0.084501      1.353584e-01      0.159042  1.022559e-01   \n",
       "cell_type          0.100253      4.664927e-09      0.029303  5.549299e-09   \n",
       "subregion          0.034353      6.059943e-02      0.066422  2.835911e-03   \n",
       "donor_gender       0.015572      6.006733e-02      0.022063  1.683666e-02   \n",
       "\n",
       "                  Pericyte  Smooth muscle cell  \n",
       "seq_tech      2.042943e-01        7.566623e-02  \n",
       "donor_age     3.207214e-01        1.173239e-01  \n",
       "donor_ID      4.200596e-01        1.271132e-01  \n",
       "cell_type     2.022121e-09        3.093695e-09  \n",
       "subregion     1.961578e-01        8.923574e-03  \n",
       "donor_gender  9.525679e-02        5.519775e-02  "
      ]
     },
     "execution_count": 119,
     "metadata": {},
     "output_type": "execute_result"
    }
   ],
   "source": [
    "df_var"
   ]
  },
  {
   "cell_type": "code",
   "execution_count": 120,
   "metadata": {},
   "outputs": [],
   "source": [
    "df_var_bk = df_var"
   ]
  },
  {
   "cell_type": "code",
   "execution_count": 121,
   "metadata": {},
   "outputs": [],
   "source": [
    "df_var = df_var.reindex(index=['seq_tech', 'donor_ID', 'donor_gender', 'donor_age', 'subregion',  'cell_type'])\n",
    "df_var.index = ['seq_tech', 'donor', 'gender', 'age', 'subregion',  'cell_type']"
   ]
  },
  {
   "cell_type": "code",
   "execution_count": 122,
   "metadata": {},
   "outputs": [
    {
     "data": {
      "text/html": [
       "<div>\n",
       "<style scoped>\n",
       "    .dataframe tbody tr th:only-of-type {\n",
       "        vertical-align: middle;\n",
       "    }\n",
       "\n",
       "    .dataframe tbody tr th {\n",
       "        vertical-align: top;\n",
       "    }\n",
       "\n",
       "    .dataframe thead th {\n",
       "        text-align: right;\n",
       "    }\n",
       "</style>\n",
       "<table border=\"1\" class=\"dataframe\">\n",
       "  <thead>\n",
       "    <tr style=\"text-align: right;\">\n",
       "      <th></th>\n",
       "      <th>All</th>\n",
       "      <th>Cardiomyocyte cell</th>\n",
       "      <th>Endothelial cell</th>\n",
       "      <th>Fibroblast</th>\n",
       "      <th>Lymphoid cell</th>\n",
       "      <th>Mesothelial cell</th>\n",
       "      <th>Myeloid cell</th>\n",
       "      <th>Neuron</th>\n",
       "      <th>Pericyte</th>\n",
       "      <th>Smooth muscle cell</th>\n",
       "    </tr>\n",
       "  </thead>\n",
       "  <tbody>\n",
       "    <tr>\n",
       "      <th>seq_tech</th>\n",
       "      <td>0.012948</td>\n",
       "      <td>1.438250e-02</td>\n",
       "      <td>0.022031</td>\n",
       "      <td>0.047312</td>\n",
       "      <td>0.026496</td>\n",
       "      <td>6.782915e-02</td>\n",
       "      <td>0.079520</td>\n",
       "      <td>6.278591e-02</td>\n",
       "      <td>2.042943e-01</td>\n",
       "      <td>7.566623e-02</td>\n",
       "    </tr>\n",
       "    <tr>\n",
       "      <th>donor</th>\n",
       "      <td>0.050416</td>\n",
       "      <td>5.703701e-02</td>\n",
       "      <td>0.060116</td>\n",
       "      <td>0.108984</td>\n",
       "      <td>0.084501</td>\n",
       "      <td>1.353584e-01</td>\n",
       "      <td>0.159042</td>\n",
       "      <td>1.022559e-01</td>\n",
       "      <td>4.200596e-01</td>\n",
       "      <td>1.271132e-01</td>\n",
       "    </tr>\n",
       "    <tr>\n",
       "      <th>gender</th>\n",
       "      <td>0.011231</td>\n",
       "      <td>1.476565e-02</td>\n",
       "      <td>0.018969</td>\n",
       "      <td>0.026749</td>\n",
       "      <td>0.015572</td>\n",
       "      <td>6.006733e-02</td>\n",
       "      <td>0.022063</td>\n",
       "      <td>1.683666e-02</td>\n",
       "      <td>9.525679e-02</td>\n",
       "      <td>5.519775e-02</td>\n",
       "    </tr>\n",
       "    <tr>\n",
       "      <th>age</th>\n",
       "      <td>0.038916</td>\n",
       "      <td>4.197997e-02</td>\n",
       "      <td>0.049594</td>\n",
       "      <td>0.097316</td>\n",
       "      <td>0.055074</td>\n",
       "      <td>1.193280e-01</td>\n",
       "      <td>0.133606</td>\n",
       "      <td>8.828299e-02</td>\n",
       "      <td>3.207214e-01</td>\n",
       "      <td>1.173239e-01</td>\n",
       "    </tr>\n",
       "    <tr>\n",
       "      <th>subregion</th>\n",
       "      <td>0.008232</td>\n",
       "      <td>8.423267e-03</td>\n",
       "      <td>0.008375</td>\n",
       "      <td>0.025021</td>\n",
       "      <td>0.034353</td>\n",
       "      <td>6.059943e-02</td>\n",
       "      <td>0.066422</td>\n",
       "      <td>2.835911e-03</td>\n",
       "      <td>1.961578e-01</td>\n",
       "      <td>8.923574e-03</td>\n",
       "    </tr>\n",
       "    <tr>\n",
       "      <th>cell_type</th>\n",
       "      <td>0.165651</td>\n",
       "      <td>2.811470e-09</td>\n",
       "      <td>0.051662</td>\n",
       "      <td>0.023409</td>\n",
       "      <td>0.100253</td>\n",
       "      <td>4.664927e-09</td>\n",
       "      <td>0.029303</td>\n",
       "      <td>5.549299e-09</td>\n",
       "      <td>2.022121e-09</td>\n",
       "      <td>3.093695e-09</td>\n",
       "    </tr>\n",
       "  </tbody>\n",
       "</table>\n",
       "</div>"
      ],
      "text/plain": [
       "                All  Cardiomyocyte cell  Endothelial cell  Fibroblast  \\\n",
       "seq_tech   0.012948        1.438250e-02          0.022031    0.047312   \n",
       "donor      0.050416        5.703701e-02          0.060116    0.108984   \n",
       "gender     0.011231        1.476565e-02          0.018969    0.026749   \n",
       "age        0.038916        4.197997e-02          0.049594    0.097316   \n",
       "subregion  0.008232        8.423267e-03          0.008375    0.025021   \n",
       "cell_type  0.165651        2.811470e-09          0.051662    0.023409   \n",
       "\n",
       "           Lymphoid cell  Mesothelial cell  Myeloid cell        Neuron  \\\n",
       "seq_tech        0.026496      6.782915e-02      0.079520  6.278591e-02   \n",
       "donor           0.084501      1.353584e-01      0.159042  1.022559e-01   \n",
       "gender          0.015572      6.006733e-02      0.022063  1.683666e-02   \n",
       "age             0.055074      1.193280e-01      0.133606  8.828299e-02   \n",
       "subregion       0.034353      6.059943e-02      0.066422  2.835911e-03   \n",
       "cell_type       0.100253      4.664927e-09      0.029303  5.549299e-09   \n",
       "\n",
       "               Pericyte  Smooth muscle cell  \n",
       "seq_tech   2.042943e-01        7.566623e-02  \n",
       "donor      4.200596e-01        1.271132e-01  \n",
       "gender     9.525679e-02        5.519775e-02  \n",
       "age        3.207214e-01        1.173239e-01  \n",
       "subregion  1.961578e-01        8.923574e-03  \n",
       "cell_type  2.022121e-09        3.093695e-09  "
      ]
     },
     "execution_count": 122,
     "metadata": {},
     "output_type": "execute_result"
    }
   ],
   "source": [
    "df_var"
   ]
  },
  {
   "cell_type": "code",
   "execution_count": 123,
   "metadata": {
    "tags": []
   },
   "outputs": [],
   "source": [
    "df_var = round(df_var.astype(float),4)"
   ]
  },
  {
   "cell_type": "code",
   "execution_count": 124,
   "metadata": {},
   "outputs": [
    {
     "data": {
      "text/html": [
       "<div>\n",
       "<style scoped>\n",
       "    .dataframe tbody tr th:only-of-type {\n",
       "        vertical-align: middle;\n",
       "    }\n",
       "\n",
       "    .dataframe tbody tr th {\n",
       "        vertical-align: top;\n",
       "    }\n",
       "\n",
       "    .dataframe thead th {\n",
       "        text-align: right;\n",
       "    }\n",
       "</style>\n",
       "<table border=\"1\" class=\"dataframe\">\n",
       "  <thead>\n",
       "    <tr style=\"text-align: right;\">\n",
       "      <th></th>\n",
       "      <th>All</th>\n",
       "      <th>Cardiomyocyte cell</th>\n",
       "      <th>Endothelial cell</th>\n",
       "      <th>Fibroblast</th>\n",
       "      <th>Lymphoid cell</th>\n",
       "      <th>Mesothelial cell</th>\n",
       "      <th>Myeloid cell</th>\n",
       "      <th>Neuron</th>\n",
       "      <th>Pericyte</th>\n",
       "      <th>Smooth muscle cell</th>\n",
       "    </tr>\n",
       "  </thead>\n",
       "  <tbody>\n",
       "    <tr>\n",
       "      <th>seq_tech</th>\n",
       "      <td>0.0129</td>\n",
       "      <td>0.0144</td>\n",
       "      <td>0.0220</td>\n",
       "      <td>0.0473</td>\n",
       "      <td>0.0265</td>\n",
       "      <td>0.0678</td>\n",
       "      <td>0.0795</td>\n",
       "      <td>0.0628</td>\n",
       "      <td>0.2043</td>\n",
       "      <td>0.0757</td>\n",
       "    </tr>\n",
       "    <tr>\n",
       "      <th>donor</th>\n",
       "      <td>0.0504</td>\n",
       "      <td>0.0570</td>\n",
       "      <td>0.0601</td>\n",
       "      <td>0.1090</td>\n",
       "      <td>0.0845</td>\n",
       "      <td>0.1354</td>\n",
       "      <td>0.1590</td>\n",
       "      <td>0.1023</td>\n",
       "      <td>0.4201</td>\n",
       "      <td>0.1271</td>\n",
       "    </tr>\n",
       "    <tr>\n",
       "      <th>gender</th>\n",
       "      <td>0.0112</td>\n",
       "      <td>0.0148</td>\n",
       "      <td>0.0190</td>\n",
       "      <td>0.0267</td>\n",
       "      <td>0.0156</td>\n",
       "      <td>0.0601</td>\n",
       "      <td>0.0221</td>\n",
       "      <td>0.0168</td>\n",
       "      <td>0.0953</td>\n",
       "      <td>0.0552</td>\n",
       "    </tr>\n",
       "    <tr>\n",
       "      <th>age</th>\n",
       "      <td>0.0389</td>\n",
       "      <td>0.0420</td>\n",
       "      <td>0.0496</td>\n",
       "      <td>0.0973</td>\n",
       "      <td>0.0551</td>\n",
       "      <td>0.1193</td>\n",
       "      <td>0.1336</td>\n",
       "      <td>0.0883</td>\n",
       "      <td>0.3207</td>\n",
       "      <td>0.1173</td>\n",
       "    </tr>\n",
       "    <tr>\n",
       "      <th>subregion</th>\n",
       "      <td>0.0082</td>\n",
       "      <td>0.0084</td>\n",
       "      <td>0.0084</td>\n",
       "      <td>0.0250</td>\n",
       "      <td>0.0344</td>\n",
       "      <td>0.0606</td>\n",
       "      <td>0.0664</td>\n",
       "      <td>0.0028</td>\n",
       "      <td>0.1962</td>\n",
       "      <td>0.0089</td>\n",
       "    </tr>\n",
       "    <tr>\n",
       "      <th>cell_type</th>\n",
       "      <td>0.1657</td>\n",
       "      <td>0.0000</td>\n",
       "      <td>0.0517</td>\n",
       "      <td>0.0234</td>\n",
       "      <td>0.1003</td>\n",
       "      <td>0.0000</td>\n",
       "      <td>0.0293</td>\n",
       "      <td>0.0000</td>\n",
       "      <td>0.0000</td>\n",
       "      <td>0.0000</td>\n",
       "    </tr>\n",
       "  </tbody>\n",
       "</table>\n",
       "</div>"
      ],
      "text/plain": [
       "              All  Cardiomyocyte cell  Endothelial cell  Fibroblast  \\\n",
       "seq_tech   0.0129              0.0144            0.0220      0.0473   \n",
       "donor      0.0504              0.0570            0.0601      0.1090   \n",
       "gender     0.0112              0.0148            0.0190      0.0267   \n",
       "age        0.0389              0.0420            0.0496      0.0973   \n",
       "subregion  0.0082              0.0084            0.0084      0.0250   \n",
       "cell_type  0.1657              0.0000            0.0517      0.0234   \n",
       "\n",
       "           Lymphoid cell  Mesothelial cell  Myeloid cell  Neuron  Pericyte  \\\n",
       "seq_tech          0.0265            0.0678        0.0795  0.0628    0.2043   \n",
       "donor             0.0845            0.1354        0.1590  0.1023    0.4201   \n",
       "gender            0.0156            0.0601        0.0221  0.0168    0.0953   \n",
       "age               0.0551            0.1193        0.1336  0.0883    0.3207   \n",
       "subregion         0.0344            0.0606        0.0664  0.0028    0.1962   \n",
       "cell_type         0.1003            0.0000        0.0293  0.0000    0.0000   \n",
       "\n",
       "           Smooth muscle cell  \n",
       "seq_tech               0.0757  \n",
       "donor                  0.1271  \n",
       "gender                 0.0552  \n",
       "age                    0.1173  \n",
       "subregion              0.0089  \n",
       "cell_type              0.0000  "
      ]
     },
     "execution_count": 124,
     "metadata": {},
     "output_type": "execute_result"
    }
   ],
   "source": [
    "df_var"
   ]
  },
  {
   "cell_type": "markdown",
   "metadata": {},
   "source": [
    "## Plot"
   ]
  },
  {
   "cell_type": "code",
   "execution_count": 125,
   "metadata": {},
   "outputs": [],
   "source": [
    "df_var_4plot = df_var.loc[['seq_tech', 'gender', 'age', 'subregion',  'cell_type'],:]"
   ]
  },
  {
   "cell_type": "code",
   "execution_count": 126,
   "metadata": {},
   "outputs": [],
   "source": [
    "df_var_4plot.to_csv(\"PCR_results/Fetal_integration.csv\")"
   ]
  },
  {
   "cell_type": "code",
   "execution_count": 127,
   "metadata": {},
   "outputs": [],
   "source": [
    "df_mask = np.zeros_like(df_var_4plot)\n",
    "df_mask[4,1] = True\n",
    "df_mask[4,5] = True\n",
    "df_mask[4,7:10] = True\n",
    "df_mask[3,7] = True\n",
    "df_mask[3,7] = True"
   ]
  },
  {
   "cell_type": "code",
   "execution_count": 128,
   "metadata": {},
   "outputs": [
    {
     "data": {
      "image/png": "[encoded data removed]",
      "text/plain": [
       "<Figure size 576x576 with 2 Axes>"
      ]
     },
     "metadata": {
      "needs_background": "light"
     },
     "output_type": "display_data"
    }
   ],
   "source": [
    "fig,ax =plt.subplots(figsize = (8,8))\n",
    "fig = sns.heatmap(df_var_4plot.transpose(),annot=True,cmap=\"Reds\",mask=df_mask.transpose())"
   ]
  },
  {
   "cell_type": "code",
   "execution_count": 129,
   "metadata": {},
   "outputs": [],
   "source": [
    "ax.get_figure().savefig(\"figures/Fetal_integration.pdf\",dpi=500)"
   ]
  }
 ],
 "metadata": {
  "kernelspec": {
   "display_name": "R4_Python",
   "language": "python",
   "name": "r4_py"
  },
  "language_info": {
   "codemirror_mode": {
    "name": "ipython",
    "version": 3
   },
   "file_extension": ".py",
   "mimetype": "text/x-python",
   "name": "python",
   "nbconvert_exporter": "python",
   "pygments_lexer": "ipython3",
   "version": "3.8.8"
  }
 },
 "nbformat": 4,
 "nbformat_minor": 5
}
