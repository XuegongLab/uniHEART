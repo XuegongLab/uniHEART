{
 "cells": [
  {
   "cell_type": "code",
   "execution_count": 1,
   "id": "ac5b5341",
   "metadata": {
    "collapsed": true,
    "jupyter": {
     "outputs_hidden": true
    },
    "tags": []
   },
   "outputs": [
    {
     "name": "stderr",
     "output_type": "stream",
     "text": [
      "Loading required package: ggplot2\n",
      "\n",
      "Loading required package: limma\n",
      "\n",
      "Loading required package: BiocParallel\n",
      "\n",
      "Loading required package: scales\n",
      "\n",
      "Loading required package: Biobase\n",
      "\n",
      "Loading required package: BiocGenerics\n",
      "\n",
      "Loading required package: parallel\n",
      "\n",
      "\n",
      "Attaching package: ‘BiocGenerics’\n",
      "\n",
      "\n",
      "The following objects are masked from ‘package:parallel’:\n",
      "\n",
      "    clusterApply, clusterApplyLB, clusterCall, clusterEvalQ,\n",
      "    clusterExport, clusterMap, parApply, parCapply, parLapply,\n",
      "    parLapplyLB, parRapply, parSapply, parSapplyLB\n",
      "\n",
      "\n",
      "The following object is masked from ‘package:limma’:\n",
      "\n",
      "    plotMA\n",
      "\n",
      "\n",
      "The following objects are masked from ‘package:stats’:\n",
      "\n",
      "    IQR, mad, sd, var, xtabs\n",
      "\n",
      "\n",
      "The following objects are masked from ‘package:base’:\n",
      "\n",
      "    anyDuplicated, append, as.data.frame, basename, cbind, colnames,\n",
      "    dirname, do.call, duplicated, eval, evalq, Filter, Find, get, grep,\n",
      "    grepl, intersect, is.unsorted, lapply, Map, mapply, match, mget,\n",
      "    order, paste, pmax, pmax.int, pmin, pmin.int, Position, rank,\n",
      "    rbind, Reduce, rownames, sapply, setdiff, sort, table, tapply,\n",
      "    union, unique, unsplit, which.max, which.min\n",
      "\n",
      "\n",
      "Welcome to Bioconductor\n",
      "\n",
      "    Vignettes contain introductory material; view with\n",
      "    'browseVignettes()'. To cite Bioconductor, see\n",
      "    'citation(\"Biobase\")', and for packages 'citation(\"pkgname\")'.\n",
      "\n",
      "\n",
      "\n",
      "Attaching package: ‘variancePartition’\n",
      "\n",
      "\n",
      "The following object is masked from ‘package:limma’:\n",
      "\n",
      "    classifyTestsF\n",
      "\n",
      "\n"
     ]
    }
   ],
   "source": [
    "library('variancePartition')\n",
    "library('edgeR')\n",
    "library('BiocParallel')\n",
    "data(varPartDEdata)"
   ]
  },
  {
   "cell_type": "markdown",
   "id": "33ceadcc",
   "metadata": {},
   "source": [
    "# All data "
   ]
  },
  {
   "cell_type": "code",
   "execution_count": null,
   "id": "32116013",
   "metadata": {},
   "outputs": [],
   "source": [
    "countMatrix <- read.csv(\"/data3/cyx/HHCAd_PB4GLM/Fetal.PseudoBulk.expression.csv\",row.names = 1)\n",
    "countMatrix <- t(countMatrix)"
   ]
  },
  {
   "cell_type": "code",
   "execution_count": null,
   "id": "187457e8",
   "metadata": {},
   "outputs": [],
   "source": [
    "metadata <- read.csv(\"/data3/cyx/HHCAd_PB4GLM/Fetal.PseudoBulk.metadata.csv\",row.names = 1)"
   ]
  },
  {
   "cell_type": "code",
   "execution_count": null,
   "id": "c54d54e0",
   "metadata": {},
   "outputs": [],
   "source": [
    "metadata$subregion[is.na(metadata$subregion)] <- \"Heart\"\n",
    "metadata$donor_gender[is.na(metadata$donor_gender)] <- \"Unknown\""
   ]
  },
  {
   "cell_type": "code",
   "execution_count": null,
   "id": "ee56a145",
   "metadata": {},
   "outputs": [],
   "source": [
    "isexpr = rowSums(countMatrix>0.1) >= 5"
   ]
  },
  {
   "cell_type": "code",
   "execution_count": null,
   "id": "53f55243",
   "metadata": {},
   "outputs": [],
   "source": [
    "geneExpr = DGEList( countMatrix[isexpr,] )\n",
    "geneExpr = calcNormFactors( geneExpr )"
   ]
  },
  {
   "cell_type": "code",
   "execution_count": null,
   "id": "1c12910b",
   "metadata": {
    "tags": []
   },
   "outputs": [],
   "source": [
    "param = SnowParam(16, \"SOCK\", progressbar=TRUE)\n",
    "\n",
    "# The variable to be tested must be a fixed effect\n",
    "form <- ~ 1 + donor_gender + donor_age + subregion + (1|Ref)"
   ]
  },
  {
   "cell_type": "code",
   "execution_count": null,
   "id": "0190a124",
   "metadata": {
    "tags": []
   },
   "outputs": [],
   "source": [
    "# estimate weights using linear mixed model of dream\n",
    "vobjDream = voomWithDreamWeights( geneExpr, form, metadata, BPPARAM=param)"
   ]
  },
  {
   "cell_type": "code",
   "execution_count": null,
   "id": "43dfdf47",
   "metadata": {
    "tags": []
   },
   "outputs": [],
   "source": [
    "# Fit the dream model on each gene\n",
    "# By default, uses the Satterthwaite approximation for the hypothesis test\n",
    "fitmm = dream( vobjDream, form, metadata )\n",
    "fitmm = eBayes(fitmm)"
   ]
  },
  {
   "cell_type": "code",
   "execution_count": null,
   "id": "882772dc",
   "metadata": {},
   "outputs": [],
   "source": [
    "result_age <- topTable( fitmm, coef='donor_age', number=25018)\n",
    "result_age <- result_age[result_age$adj.P.Val<0.05,]\n",
    "write.csv(result_age,\"/data3//cyx//HHCAd_PB4GLM//Fetal_GLMM_Result/All/age.csv\")"
   ]
  },
  {
   "cell_type": "code",
   "execution_count": null,
   "id": "55957c43",
   "metadata": {},
   "outputs": [],
   "source": [
    "result_gender <- topTable( fitmm, coef='donor_gender', number=25018)\n",
    "result_gender <- result_gender[result_gender$adj.P.Val<0.05,]\n",
    "write.csv(result_gender,\"/data3//cyx//HHCAd_PB4GLM//Fetal_GLMM_Result//All/gender.csv\")"
   ]
  },
  {
   "cell_type": "markdown",
   "id": "67e39042",
   "metadata": {},
   "source": [
    "# In Each cell type"
   ]
  },
  {
   "cell_type": "markdown",
   "id": "e5aa9159",
   "metadata": {},
   "source": [
    "## CM"
   ]
  },
  {
   "cell_type": "code",
   "execution_count": null,
   "id": "1e3330d7",
   "metadata": {},
   "outputs": [],
   "source": [
    "countMatrix <- read.csv(\"/data3/cyx/HHCAd_PB4GLM/Fetal.PseudoBulkCardiomyocyte cell.expression.csv\",row.names = 1)\n",
    "countMatrix <- t(countMatrix)"
   ]
  },
  {
   "cell_type": "code",
   "execution_count": null,
   "id": "7f8f3c3f",
   "metadata": {},
   "outputs": [],
   "source": [
    "metadata <- read.csv(\"/data3/cyx/HHCAd_PB4GLM/Fetal.PseudoBulkCardiomyocyte cell.metadata.csv\",row.names = 1)"
   ]
  },
  {
   "cell_type": "code",
   "execution_count": null,
   "id": "290d723d",
   "metadata": {},
   "outputs": [],
   "source": [
    "countMatrix <- countMatrix[,rowSums(is.na.data.frame(metadata))==0]\n",
    "metadata <- metadata[rowSums(is.na.data.frame(metadata))==0,]"
   ]
  },
  {
   "cell_type": "code",
   "execution_count": null,
   "id": "c66e9d4f",
   "metadata": {
    "tags": []
   },
   "outputs": [],
   "source": [
    "isexpr = rowSums(countMatrix>0.1) >= 5\n",
    "geneExpr = DGEList( countMatrix[isexpr,] )\n",
    "geneExpr = calcNormFactors( geneExpr )"
   ]
  },
  {
   "cell_type": "code",
   "execution_count": null,
   "id": "4d1c87e5",
   "metadata": {
    "tags": []
   },
   "outputs": [],
   "source": [
    "param = SnowParam(16, \"SOCK\", progressbar=TRUE)\n",
    "\n",
    "# The variable to be tested must be a fixed effect\n",
    "form <- ~ 1 + donor_gender + donor_age + subregion\n",
    "# estimate weights using linear mixed model of dream\n",
    "vobjDream = voomWithDreamWeights( geneExpr, form, metadata, BPPARAM=param )"
   ]
  },
  {
   "cell_type": "code",
   "execution_count": null,
   "id": "984fe903",
   "metadata": {
    "tags": []
   },
   "outputs": [],
   "source": [
    "# Fit the dream model on each gene\n",
    "# By default, uses the Satterthwaite approximation for the hypothesis test\n",
    "fitmm = dream(vobjDream, form, metadata )\n",
    "fitmm = eBayes(fitmm)"
   ]
  },
  {
   "cell_type": "code",
   "execution_count": null,
   "id": "ef14f498",
   "metadata": {},
   "outputs": [],
   "source": [
    "fitmm$cov.coefficients[2:6,2:6]"
   ]
  },
  {
   "cell_type": "code",
   "execution_count": null,
   "id": "0908ece4",
   "metadata": {},
   "outputs": [],
   "source": [
    "result_age <- topTable( fitmm, coef='donor_age', number=25018)\n",
    "#result_age <- result_age[result_age$adj.P.Val<0.05,]\n",
    "write.csv(result_age,\"/data3//cyx//HHCAd_PB4GLM//Fetal_GLMM_Result/Cardiomyocyte/age.csv\")"
   ]
  },
  {
   "cell_type": "code",
   "execution_count": null,
   "id": "93272d33",
   "metadata": {},
   "outputs": [],
   "source": [
    "result_gender <- topTable( fitmm, coef='donor_gender', number=25018)\n",
    "#result_gender <- result_gender[result_gender$adj.P.Val<0.05,]\n",
    "write.csv(result_gender,\"/data3//cyx//HHCAd_PB4GLM//Fetal_GLMM_Result//Cardiomyocyte/gender.csv\")"
   ]
  },
  {
   "cell_type": "markdown",
   "id": "63557d2a",
   "metadata": {},
   "source": [
    "## EC"
   ]
  },
  {
   "cell_type": "code",
   "execution_count": null,
   "id": "b3af0b5d",
   "metadata": {},
   "outputs": [],
   "source": [
    "countMatrix <- read.csv(\"/data3/cyx/HHCAd_PB4GLM/Fetal.PseudoBulkEndothelial cell.expression.csv\",row.names = 1)\n",
    "countMatrix <- t(countMatrix)"
   ]
  },
  {
   "cell_type": "code",
   "execution_count": null,
   "id": "6e536680",
   "metadata": {},
   "outputs": [],
   "source": [
    "metadata <- read.csv(\"/data3/cyx/HHCAd_PB4GLM/Fetal.PseudoBulkEndothelial cell.metadata.csv\",row.names = 1)"
   ]
  },
  {
   "cell_type": "code",
   "execution_count": null,
   "id": "2aa3f5e7",
   "metadata": {},
   "outputs": [],
   "source": [
    "countMatrix <- countMatrix[,rowSums(is.na.data.frame(metadata))==0]\n",
    "metadata <- metadata[rowSums(is.na.data.frame(metadata))==0,]"
   ]
  },
  {
   "cell_type": "code",
   "execution_count": null,
   "id": "f1a68b52",
   "metadata": {
    "tags": []
   },
   "outputs": [],
   "source": [
    "isexpr = rowSums(countMatrix>0.1) >= 5\n",
    "geneExpr = DGEList( countMatrix[isexpr,] )\n",
    "geneExpr = calcNormFactors( geneExpr )"
   ]
  },
  {
   "cell_type": "code",
   "execution_count": null,
   "id": "54f19607",
   "metadata": {
    "tags": []
   },
   "outputs": [],
   "source": [
    "param = SnowParam(16, \"SOCK\", progressbar=TRUE)\n",
    "\n",
    "# The variable to be tested must be a fixed effect\n",
    "form <- ~ 1 + donor_gender + donor_age + subregion\n",
    "\n",
    "# estimate weights using linear mixed model of dream\n",
    "vobjDream = voomWithDreamWeights( geneExpr, form, metadata, BPPARAM=param )"
   ]
  },
  {
   "cell_type": "code",
   "execution_count": null,
   "id": "6d779a5a",
   "metadata": {
    "tags": []
   },
   "outputs": [],
   "source": [
    "# Fit the dream model on each gene\n",
    "# By default, uses the Satterthwaite approximation for the hypothesis test\n",
    "fitmm = dream(vobjDream, form, metadata )\n",
    "fitmm = eBayes(fitmm)"
   ]
  },
  {
   "cell_type": "code",
   "execution_count": null,
   "id": "5dae032e",
   "metadata": {},
   "outputs": [],
   "source": [
    "result_age <- topTable( fitmm, coef='donor_age', number=25018)\n",
    "#result_age <- result_age[result_age$adj.P.Val<0.05,]\n",
    "write.csv(result_age,\"/data3//cyx//HHCAd_PB4GLM//Fetal_GLMM_Result//Endothelial//age.csv\")"
   ]
  },
  {
   "cell_type": "code",
   "execution_count": null,
   "id": "1501cca5",
   "metadata": {},
   "outputs": [],
   "source": [
    "result_gender <- topTable( fitmm, coef='donor_gender', number=25018)\n",
    "#result_gender <- result_gender[result_gender$adj.P.Val<0.05,]\n",
    "write.csv(result_gender,\"/data3//cyx//HHCAd_PB4GLM//Fetal_GLMM_Result//Endothelial/gender.csv\")"
   ]
  },
  {
   "cell_type": "markdown",
   "id": "4d68df2c",
   "metadata": {
    "tags": []
   },
   "source": [
    "## Neuron(Error)"
   ]
  },
  {
   "cell_type": "code",
   "execution_count": null,
   "id": "3620f55f",
   "metadata": {},
   "outputs": [],
   "source": [
    "countMatrix <- read.csv(\"/data3/cyx/HHCAd_PB4GLM/FePseudoBulkNeuron.expression.csv\",row.names = 1)\n",
    "countMatrix <- t(countMatrix)"
   ]
  },
  {
   "cell_type": "code",
   "execution_count": null,
   "id": "708a49ae",
   "metadata": {},
   "outputs": [],
   "source": [
    "metadata <- read.csv(\"/data3/cyx/HHCAd_PB4GLM/PseudoBulkNeuron.metadata.csv\",row.names = 1)"
   ]
  },
  {
   "cell_type": "code",
   "execution_count": null,
   "id": "99056350",
   "metadata": {
    "tags": []
   },
   "outputs": [],
   "source": [
    "isexpr = rowSums(countMatrix>0.1) >= 5\n",
    "geneExpr = DGEList( countMatrix[isexpr,] )\n",
    "geneExpr = calcNormFactors( geneExpr )"
   ]
  },
  {
   "cell_type": "code",
   "execution_count": null,
   "id": "8b81c109",
   "metadata": {
    "tags": []
   },
   "outputs": [],
   "source": [
    "param = SnowParam(16, \"SOCK\", progressbar=TRUE)\n",
    "\n",
    "# The variable to be tested must be a fixed effect\n",
    "form <- ~ 1 + donor_gender + donor_age + subregion + (1|Ref) \n",
    "\n",
    "# estimate weights using linear mixed model of dream\n",
    "vobjDream = voomWithDreamWeights( geneExpr, form, metadata, BPPARAM=param )"
   ]
  },
  {
   "cell_type": "code",
   "execution_count": null,
   "id": "bd3ae495",
   "metadata": {
    "tags": []
   },
   "outputs": [],
   "source": [
    "# Fit the dream model on each gene\n",
    "# By default, uses the Satterthwaite approximation for the hypothesis test\n",
    "fitmm = dream(vobjDream, form, metadata )\n",
    "fitmm = eBayes(fitmm)"
   ]
  },
  {
   "cell_type": "code",
   "execution_count": null,
   "id": "bd61004f",
   "metadata": {},
   "outputs": [],
   "source": [
    "fitmm"
   ]
  },
  {
   "cell_type": "code",
   "execution_count": null,
   "id": "94e01e2f",
   "metadata": {},
   "outputs": [],
   "source": [
    "fitmm$cov.coefficients[2:8,2:8]"
   ]
  },
  {
   "cell_type": "code",
   "execution_count": null,
   "id": "96e6bba6",
   "metadata": {},
   "outputs": [],
   "source": [
    "result_age <- topTable( fitmm, coef='donor_age', number=25018)\n",
    "result_age <- result_age[result_age$adj.P.Val<0.05,]\n",
    "write.csv(result_age,\"/data3//cyx//HHCAd_PB4GLM//GLMM_Result//Neruon//age.csv\")"
   ]
  },
  {
   "cell_type": "code",
   "execution_count": null,
   "id": "d758c889",
   "metadata": {},
   "outputs": [],
   "source": [
    "result_gender <- topTable( fitmm, coef='donor_gender', number=25018)\n",
    "result_gender <- result_gender[result_gender$adj.P.Val<0.05,]\n",
    "write.csv(result_gender,\"/data3//cyx//HHCAd_PB4GLM//GLMM_Result//Neruon/gender.csv\")"
   ]
  },
  {
   "cell_type": "markdown",
   "id": "4f79ca16",
   "metadata": {},
   "source": [
    "## Myeloid"
   ]
  },
  {
   "cell_type": "code",
   "execution_count": null,
   "id": "9837f4c6",
   "metadata": {},
   "outputs": [],
   "source": [
    "countMatrix <- read.csv(\"/data3/cyx/HHCAd_PB4GLM/PseudoBulkMyeloid cell.expression.csv\",row.names = 1)\n",
    "countMatrix <- t(countMatrix)"
   ]
  },
  {
   "cell_type": "code",
   "execution_count": null,
   "id": "f6f85368",
   "metadata": {},
   "outputs": [],
   "source": [
    "metadata <- read.csv(\"/data3/cyx/HHCAd_PB4GLM/PseudoBulkMyeloid cell.metadata.csv\",row.names = 1)"
   ]
  },
  {
   "cell_type": "code",
   "execution_count": null,
   "id": "afb392d1",
   "metadata": {
    "tags": []
   },
   "outputs": [],
   "source": [
    "isexpr = rowSums(countMatrix>0.1) >= 5\n",
    "geneExpr = DGEList( countMatrix[isexpr,] )\n",
    "geneExpr = calcNormFactors( geneExpr )"
   ]
  },
  {
   "cell_type": "code",
   "execution_count": null,
   "id": "1e771fd8",
   "metadata": {
    "tags": []
   },
   "outputs": [],
   "source": [
    "param = SnowParam(16, \"SOCK\", progressbar=TRUE)\n",
    "\n",
    "# The variable to be tested must be a fixed effect\n",
    "form <- ~ 1 + donor_gender + donor_age + subregion + (1|Ref) \n",
    "\n",
    "# estimate weights using linear mixed model of dream\n",
    "vobjDream = voomWithDreamWeights( geneExpr, form, metadata, BPPARAM=param )"
   ]
  },
  {
   "cell_type": "code",
   "execution_count": null,
   "id": "2da0d87e",
   "metadata": {
    "tags": []
   },
   "outputs": [],
   "source": [
    "# Fit the dream model on each gene\n",
    "# By default, uses the Satterthwaite approximation for the hypothesis test\n",
    "fitmm = dream(vobjDream, form, metadata )\n",
    "fitmm = eBayes(fitmm)"
   ]
  },
  {
   "cell_type": "code",
   "execution_count": null,
   "id": "f8258538",
   "metadata": {},
   "outputs": [],
   "source": [
    "fitmm$cov.coefficients[2:8,2:8]"
   ]
  },
  {
   "cell_type": "code",
   "execution_count": null,
   "id": "efdabcf3",
   "metadata": {},
   "outputs": [],
   "source": [
    "result_age <- topTable( fitmm, coef='donor_age', number=25018)\n",
    "result_age <- result_age[result_age$adj.P.Val<0.05,]\n",
    "write.csv(result_age,\"/data3//cyx//HHCAd_PB4GLM//GLMM_Result//Myeloid//age.csv\")"
   ]
  },
  {
   "cell_type": "code",
   "execution_count": null,
   "id": "aa8fb002",
   "metadata": {},
   "outputs": [],
   "source": [
    "result_gender <- topTable( fitmm, coef='donor_gender', number=25018)\n",
    "#result_gender <- result_gender[result_gender$adj.P.Val<0.05,]\n",
    "write.csv(result_gender,\"/data3//cyx//HHCAd_PB4GLM//GLMM_Result//Myeloid/gender.csv\")"
   ]
  },
  {
   "cell_type": "markdown",
   "id": "0781914f",
   "metadata": {},
   "source": [
    "## Lymphoid"
   ]
  },
  {
   "cell_type": "code",
   "execution_count": null,
   "id": "2f04ef42",
   "metadata": {},
   "outputs": [],
   "source": [
    "countMatrix <- read.csv(\"/data3/cyx/HHCAd_PB4GLM/PseudoBulkLymphoid cell.expression.csv\",row.names = 1)\n",
    "countMatrix <- t(countMatrix)"
   ]
  },
  {
   "cell_type": "code",
   "execution_count": null,
   "id": "6c124fb1",
   "metadata": {},
   "outputs": [],
   "source": [
    "metadata <- read.csv(\"/data3/cyx/HHCAd_PB4GLM/PseudoBulkLymphoid cell.metadata.csv\",row.names = 1)"
   ]
  },
  {
   "cell_type": "code",
   "execution_count": null,
   "id": "a491e588",
   "metadata": {
    "tags": []
   },
   "outputs": [],
   "source": [
    "isexpr = rowSums(countMatrix>0.1) >= 5\n",
    "geneExpr = DGEList( countMatrix[isexpr,] )\n",
    "geneExpr = calcNormFactors( geneExpr )"
   ]
  },
  {
   "cell_type": "code",
   "execution_count": null,
   "id": "dac8afe9",
   "metadata": {
    "tags": []
   },
   "outputs": [],
   "source": [
    "param = SnowParam(16, \"SOCK\", progressbar=TRUE)\n",
    "\n",
    "# The variable to be tested must be a fixed effect\n",
    "form <- ~ 1 + donor_gender + donor_age + subregion + (1|Ref) \n",
    "\n",
    "# estimate weights using linear mixed model of dream\n",
    "vobjDream = voomWithDreamWeights( geneExpr, form, metadata, BPPARAM=param )"
   ]
  },
  {
   "cell_type": "code",
   "execution_count": null,
   "id": "23ec0106",
   "metadata": {
    "tags": []
   },
   "outputs": [],
   "source": [
    "# Fit the dream model on each gene\n",
    "# By default, uses the Satterthwaite approximation for the hypothesis test\n",
    "fitmm = dream(vobjDream, form, metadata )\n",
    "fitmm = eBayes(fitmm)"
   ]
  },
  {
   "cell_type": "code",
   "execution_count": null,
   "id": "a03a8303",
   "metadata": {},
   "outputs": [],
   "source": [
    "fitmm$cov.coefficients[2:8,2:8]"
   ]
  },
  {
   "cell_type": "code",
   "execution_count": null,
   "id": "804e3393",
   "metadata": {},
   "outputs": [],
   "source": [
    "result_age <- topTable( fitmm, coef='donor_age', number=25018)\n",
    "result_age <- result_age[result_age$adj.P.Val<0.05,]\n",
    "write.csv(result_age,\"/data3//cyx//HHCAd_PB4GLM//GLMM_Result//Lymphoid//age.csv\")"
   ]
  },
  {
   "cell_type": "code",
   "execution_count": null,
   "id": "fbcf00e2",
   "metadata": {},
   "outputs": [],
   "source": [
    "result_gender <- topTable( fitmm, coef='donor_gender', number=25018)\n",
    "result_gender <- result_gender[result_gender$adj.P.Val<0.05,]\n",
    "write.csv(result_gender,\"/data3//cyx//HHCAd_PB4GLM//GLMM_Result//Lymphoid/gender.csv\")"
   ]
  },
  {
   "cell_type": "code",
   "execution_count": null,
   "id": "32336691",
   "metadata": {},
   "outputs": [],
   "source": [
    "result_gender"
   ]
  }
 ],
 "metadata": {
  "kernelspec": {
   "display_name": "R4.0",
   "language": "R",
   "name": "r4.0"
  },
  "language_info": {
   "codemirror_mode": "r",
   "file_extension": ".r",
   "mimetype": "text/x-r-source",
   "name": "R",
   "pygments_lexer": "r",
   "version": "4.0.3"
  }
 },
 "nbformat": 4,
 "nbformat_minor": 5
}
